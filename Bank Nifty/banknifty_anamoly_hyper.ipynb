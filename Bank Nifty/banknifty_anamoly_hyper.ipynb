{
  "nbformat": 4,
  "nbformat_minor": 0,
  "metadata": {
    "colab": {
      "provenance": []
    },
    "kernelspec": {
      "name": "python3",
      "display_name": "Python 3"
    },
    "language_info": {
      "name": "python"
    }
  },
  "cells": [
    {
      "cell_type": "code",
      "execution_count": null,
      "metadata": {
        "id": "53e88eG2wQU8"
      },
      "outputs": [],
      "source": [
        "# Author : Tapas"
      ]
    },
    {
      "cell_type": "markdown",
      "source": [
        "## Applications of Machine Learning in Stock Markets"
      ],
      "metadata": {
        "id": "ApPS5Msbw3fK"
      }
    },
    {
      "cell_type": "code",
      "source": [
        "from google.colab import drive\n",
        "drive.mount('/content/drive')"
      ],
      "metadata": {
        "colab": {
          "base_uri": "https://localhost:8080/"
        },
        "id": "NUUyum-AXkcA",
        "outputId": "117e92c4-f996-486d-c1a1-2e92113d3131"
      },
      "execution_count": 1,
      "outputs": [
        {
          "output_type": "stream",
          "name": "stdout",
          "text": [
            "Drive already mounted at /content/drive; to attempt to forcibly remount, call drive.mount(\"/content/drive\", force_remount=True).\n"
          ]
        }
      ]
    },
    {
      "cell_type": "markdown",
      "source": [
        "# 1.Data Preparation"
      ],
      "metadata": {
        "id": "Cgp5wSppsFAM"
      }
    },
    {
      "cell_type": "code",
      "source": [
        "import datetime as dt\n",
        "import pandas as pd\n",
        "import numpy as np\n",
        "import matplotlib.pyplot as plt\n",
        "from sklearn.preprocessing import StandardScaler\n",
        "from pandas.plotting import lag_plot\n",
        "\n",
        "from pandas_datareader import data as pdr\n",
        "import yfinance as yf\n",
        "yf.pdr_override()"
      ],
      "metadata": {
        "id": "Dyn_9TDNwdHF"
      },
      "execution_count": 2,
      "outputs": []
    },
    {
      "cell_type": "code",
      "source": [
        "import warnings\n",
        "warnings.filterwarnings(\"ignore\")"
      ],
      "metadata": {
        "id": "j54RaHUmtA9p"
      },
      "execution_count": 3,
      "outputs": []
    },
    {
      "cell_type": "code",
      "source": [
        "today = dt.date.today()\n",
        "year_back = 20\n",
        "end_date = today - dt.timedelta(days = 365 * year_back)"
      ],
      "metadata": {
        "id": "aMiMb6Szw2bQ"
      },
      "execution_count": 4,
      "outputs": []
    },
    {
      "cell_type": "code",
      "source": [
        "print(today)\n",
        "print(end_date)"
      ],
      "metadata": {
        "colab": {
          "base_uri": "https://localhost:8080/"
        },
        "id": "3ZcnfSRYyqyy",
        "outputId": "7d01f9f0-2e6a-42d3-92a7-324f5590929b"
      },
      "execution_count": 5,
      "outputs": [
        {
          "output_type": "stream",
          "name": "stdout",
          "text": [
            "2023-04-01\n",
            "2003-04-06\n"
          ]
        }
      ]
    },
    {
      "cell_type": "code",
      "source": [
        "# reliance_data = pdr.get_data_yahoo(f\"{'RELIANCE.NS'}\",today,end_date)\n",
        "# reliance_data.sample(5)"
      ],
      "metadata": {
        "id": "ibcv7ReZ1MeV"
      },
      "execution_count": null,
      "outputs": []
    },
    {
      "cell_type": "code",
      "source": [
        "# # download dataframe\n",
        "# data = pdr.get_data_yahoo(\"SPY\", start=\"2017-01-01\", end=\"2017-04-30\")\n",
        "# data"
      ],
      "metadata": {
        "id": "u_3xREXWHT00"
      },
      "execution_count": null,
      "outputs": []
    },
    {
      "cell_type": "code",
      "source": [
        "# df= yf.Ticker(\"^NSEBANK\").history(period='12y').reset_index()\n",
        "# df_axis= yf.Ticker(\"AXISBANK.NS\").history(period='3y').reset_index()\n",
        "# df_sbi= yf.Ticker(\"SBIN.NS\").history(period='3y').reset_index()\n",
        "# df_rbl= yf.Ticker(\"RBLBANK.NS\").history(period='3y').reset_index()\n",
        "# df_pnb= yf.Ticker(\"PNB.NS\").history(period='3y').reset_index()\n",
        "# df_kot= yf.Ticker(\"KOTAKBANK.NS\").history(period='3y').reset_index()\n",
        "# df_ind= yf.Ticker(\"INDUSINDBK.NS\").history(period='3y').reset_index()\n",
        "# df_idfc= yf.Ticker(\"IDFCFIRSTB.NS\").history(period='3y').reset_index()\n",
        "# df_icic= yf.Ticker(\"ICICIBANK.NS\").history(period='3y').reset_index()\n",
        "# df_band= yf.Ticker(\"BANDHANBNK.NS\").history(period='3y').reset_index()\n",
        "# df_hdfc= yf.Ticker(\"HDFC.NS\").history(period='3y').reset_index()\n",
        "# df_fed= yf.Ticker(\"FEDERALBNK.NS\").history(period='3y').reset_index()\n",
        "# df_au= yf.Ticker(\"AUBANK.NS\").history(period='3y').reset_index()"
      ],
      "metadata": {
        "id": "mUivvLs-9Qcm"
      },
      "execution_count": null,
      "outputs": []
    },
    {
      "cell_type": "code",
      "source": [
        "# df= yf.download(tickers = \"^NSEBANK\",  # list of tickers\n",
        "#             period = \"20y\",         # time period\n",
        "#             interval = \"1d\",       # trading interval\n",
        "#             ignore_tz = True,      # ignore timezone when aligning data from different exchanges?\n",
        "#             prepost = False       # download pre/post market hours data?\n",
        "#             ).reset_index()"
      ],
      "metadata": {
        "id": "3Seje_r17Kk0"
      },
      "execution_count": null,
      "outputs": []
    },
    {
      "cell_type": "code",
      "source": [
        "# df= yf.download(tickers = \"^NSEBANK\",\n",
        "#             start = '2008-01-01', end = today,\n",
        "#             interval = \"1d\",\n",
        "#             ignore_tz = True,\n",
        "#             prepost = False\n",
        "#             ).reset_index()\n",
        "\n",
        "# df= yf.download(tickers = \"^NSEBANK\",\n",
        "#             period = \"max\",\n",
        "#             interval = \"1d\",\n",
        "#             ignore_tz = True,\n",
        "#             prepost = False\n",
        "#             ).reset_index()"
      ],
      "metadata": {
        "id": "IHvQEDi3Y3bg"
      },
      "execution_count": null,
      "outputs": []
    },
    {
      "cell_type": "code",
      "source": [
        "df= yf.download(tickers = \"^NSEBANK\",\n",
        "            start = '2008-01-01',\n",
        "            interval = \"1d\",\n",
        "            ignore_tz = True,\n",
        "            prepost = False\n",
        "            ).reset_index()"
      ],
      "metadata": {
        "colab": {
          "base_uri": "https://localhost:8080/"
        },
        "id": "XvPfN6NMSrbQ",
        "outputId": "57724455-1082-4726-ce9d-d98e3f98cb65"
      },
      "execution_count": 6,
      "outputs": [
        {
          "output_type": "stream",
          "name": "stdout",
          "text": [
            "\r[*********************100%***********************]  1 of 1 completed\n"
          ]
        }
      ]
    },
    {
      "cell_type": "code",
      "source": [
        "df.tail(15)"
      ],
      "metadata": {
        "colab": {
          "base_uri": "https://localhost:8080/",
          "height": 520
        },
        "id": "gEYZHnHd7M9R",
        "outputId": "0e5633bf-be22-45f8-e8db-a8b214d2221f"
      },
      "execution_count": 7,
      "outputs": [
        {
          "output_type": "execute_result",
          "data": {
            "text/plain": [
              "           Date          Open          High           Low         Close  \\\n",
              "3451 2023-03-10  40805.250000  40839.000000  40341.699219  40485.449219   \n",
              "3452 2023-03-13  40356.101562  40690.050781  39454.601562  39564.699219   \n",
              "3453 2023-03-14  39522.398438  39768.500000  39132.601562  39411.398438   \n",
              "3454 2023-03-15  39777.898438  39914.101562  38934.648438  39051.500000   \n",
              "3455 2023-03-16  39061.699219  39381.398438  38613.148438  39132.601562   \n",
              "3456 2023-03-17  39442.398438  39705.148438  38926.800781  39598.101562   \n",
              "3457 2023-03-20  39512.101562  39512.101562  38941.898438  39361.949219   \n",
              "3458 2023-03-21  39599.648438  39970.898438  39366.300781  39894.699219   \n",
              "3459 2023-03-22  40036.000000  40085.601562  39837.800781  39999.050781   \n",
              "3460 2023-03-23  39836.148438  40201.601562  39552.500000  39616.898438   \n",
              "3461 2023-03-24  39555.250000  39767.898438  39294.898438  39395.351562   \n",
              "3462 2023-03-27  39484.699219  39695.199219  39273.750000  39431.300781   \n",
              "3463 2023-03-28  39545.050781  39645.199219  39326.101562  39567.898438   \n",
              "3464 2023-03-29  39611.550781  40055.000000  39609.550781  39910.148438   \n",
              "3465 2023-03-31  40231.250000  40690.398438  40180.199219  40608.648438   \n",
              "\n",
              "         Adj Close  Volume  \n",
              "3451  40485.449219  145300  \n",
              "3452  39564.699219  174500  \n",
              "3453  39411.398438  205700  \n",
              "3454  39051.500000  164300  \n",
              "3455  39132.601562  196300  \n",
              "3456  39598.101562  173400  \n",
              "3457  39361.949219  173800  \n",
              "3458  39894.699219  187900  \n",
              "3459  39999.050781       0  \n",
              "3460  39616.898438  153200  \n",
              "3461  39395.351562  166100  \n",
              "3462  39431.300781  194200  \n",
              "3463  39567.898438  202300  \n",
              "3464  39910.148438  259600  \n",
              "3465  40608.648438  188000  "
            ],
            "text/html": [
              "\n",
              "  <div id=\"df-251261a3-b63a-408e-94ce-32b8d3cd0adb\">\n",
              "    <div class=\"colab-df-container\">\n",
              "      <div>\n",
              "<style scoped>\n",
              "    .dataframe tbody tr th:only-of-type {\n",
              "        vertical-align: middle;\n",
              "    }\n",
              "\n",
              "    .dataframe tbody tr th {\n",
              "        vertical-align: top;\n",
              "    }\n",
              "\n",
              "    .dataframe thead th {\n",
              "        text-align: right;\n",
              "    }\n",
              "</style>\n",
              "<table border=\"1\" class=\"dataframe\">\n",
              "  <thead>\n",
              "    <tr style=\"text-align: right;\">\n",
              "      <th></th>\n",
              "      <th>Date</th>\n",
              "      <th>Open</th>\n",
              "      <th>High</th>\n",
              "      <th>Low</th>\n",
              "      <th>Close</th>\n",
              "      <th>Adj Close</th>\n",
              "      <th>Volume</th>\n",
              "    </tr>\n",
              "  </thead>\n",
              "  <tbody>\n",
              "    <tr>\n",
              "      <th>3451</th>\n",
              "      <td>2023-03-10</td>\n",
              "      <td>40805.250000</td>\n",
              "      <td>40839.000000</td>\n",
              "      <td>40341.699219</td>\n",
              "      <td>40485.449219</td>\n",
              "      <td>40485.449219</td>\n",
              "      <td>145300</td>\n",
              "    </tr>\n",
              "    <tr>\n",
              "      <th>3452</th>\n",
              "      <td>2023-03-13</td>\n",
              "      <td>40356.101562</td>\n",
              "      <td>40690.050781</td>\n",
              "      <td>39454.601562</td>\n",
              "      <td>39564.699219</td>\n",
              "      <td>39564.699219</td>\n",
              "      <td>174500</td>\n",
              "    </tr>\n",
              "    <tr>\n",
              "      <th>3453</th>\n",
              "      <td>2023-03-14</td>\n",
              "      <td>39522.398438</td>\n",
              "      <td>39768.500000</td>\n",
              "      <td>39132.601562</td>\n",
              "      <td>39411.398438</td>\n",
              "      <td>39411.398438</td>\n",
              "      <td>205700</td>\n",
              "    </tr>\n",
              "    <tr>\n",
              "      <th>3454</th>\n",
              "      <td>2023-03-15</td>\n",
              "      <td>39777.898438</td>\n",
              "      <td>39914.101562</td>\n",
              "      <td>38934.648438</td>\n",
              "      <td>39051.500000</td>\n",
              "      <td>39051.500000</td>\n",
              "      <td>164300</td>\n",
              "    </tr>\n",
              "    <tr>\n",
              "      <th>3455</th>\n",
              "      <td>2023-03-16</td>\n",
              "      <td>39061.699219</td>\n",
              "      <td>39381.398438</td>\n",
              "      <td>38613.148438</td>\n",
              "      <td>39132.601562</td>\n",
              "      <td>39132.601562</td>\n",
              "      <td>196300</td>\n",
              "    </tr>\n",
              "    <tr>\n",
              "      <th>3456</th>\n",
              "      <td>2023-03-17</td>\n",
              "      <td>39442.398438</td>\n",
              "      <td>39705.148438</td>\n",
              "      <td>38926.800781</td>\n",
              "      <td>39598.101562</td>\n",
              "      <td>39598.101562</td>\n",
              "      <td>173400</td>\n",
              "    </tr>\n",
              "    <tr>\n",
              "      <th>3457</th>\n",
              "      <td>2023-03-20</td>\n",
              "      <td>39512.101562</td>\n",
              "      <td>39512.101562</td>\n",
              "      <td>38941.898438</td>\n",
              "      <td>39361.949219</td>\n",
              "      <td>39361.949219</td>\n",
              "      <td>173800</td>\n",
              "    </tr>\n",
              "    <tr>\n",
              "      <th>3458</th>\n",
              "      <td>2023-03-21</td>\n",
              "      <td>39599.648438</td>\n",
              "      <td>39970.898438</td>\n",
              "      <td>39366.300781</td>\n",
              "      <td>39894.699219</td>\n",
              "      <td>39894.699219</td>\n",
              "      <td>187900</td>\n",
              "    </tr>\n",
              "    <tr>\n",
              "      <th>3459</th>\n",
              "      <td>2023-03-22</td>\n",
              "      <td>40036.000000</td>\n",
              "      <td>40085.601562</td>\n",
              "      <td>39837.800781</td>\n",
              "      <td>39999.050781</td>\n",
              "      <td>39999.050781</td>\n",
              "      <td>0</td>\n",
              "    </tr>\n",
              "    <tr>\n",
              "      <th>3460</th>\n",
              "      <td>2023-03-23</td>\n",
              "      <td>39836.148438</td>\n",
              "      <td>40201.601562</td>\n",
              "      <td>39552.500000</td>\n",
              "      <td>39616.898438</td>\n",
              "      <td>39616.898438</td>\n",
              "      <td>153200</td>\n",
              "    </tr>\n",
              "    <tr>\n",
              "      <th>3461</th>\n",
              "      <td>2023-03-24</td>\n",
              "      <td>39555.250000</td>\n",
              "      <td>39767.898438</td>\n",
              "      <td>39294.898438</td>\n",
              "      <td>39395.351562</td>\n",
              "      <td>39395.351562</td>\n",
              "      <td>166100</td>\n",
              "    </tr>\n",
              "    <tr>\n",
              "      <th>3462</th>\n",
              "      <td>2023-03-27</td>\n",
              "      <td>39484.699219</td>\n",
              "      <td>39695.199219</td>\n",
              "      <td>39273.750000</td>\n",
              "      <td>39431.300781</td>\n",
              "      <td>39431.300781</td>\n",
              "      <td>194200</td>\n",
              "    </tr>\n",
              "    <tr>\n",
              "      <th>3463</th>\n",
              "      <td>2023-03-28</td>\n",
              "      <td>39545.050781</td>\n",
              "      <td>39645.199219</td>\n",
              "      <td>39326.101562</td>\n",
              "      <td>39567.898438</td>\n",
              "      <td>39567.898438</td>\n",
              "      <td>202300</td>\n",
              "    </tr>\n",
              "    <tr>\n",
              "      <th>3464</th>\n",
              "      <td>2023-03-29</td>\n",
              "      <td>39611.550781</td>\n",
              "      <td>40055.000000</td>\n",
              "      <td>39609.550781</td>\n",
              "      <td>39910.148438</td>\n",
              "      <td>39910.148438</td>\n",
              "      <td>259600</td>\n",
              "    </tr>\n",
              "    <tr>\n",
              "      <th>3465</th>\n",
              "      <td>2023-03-31</td>\n",
              "      <td>40231.250000</td>\n",
              "      <td>40690.398438</td>\n",
              "      <td>40180.199219</td>\n",
              "      <td>40608.648438</td>\n",
              "      <td>40608.648438</td>\n",
              "      <td>188000</td>\n",
              "    </tr>\n",
              "  </tbody>\n",
              "</table>\n",
              "</div>\n",
              "      <button class=\"colab-df-convert\" onclick=\"convertToInteractive('df-251261a3-b63a-408e-94ce-32b8d3cd0adb')\"\n",
              "              title=\"Convert this dataframe to an interactive table.\"\n",
              "              style=\"display:none;\">\n",
              "        \n",
              "  <svg xmlns=\"http://www.w3.org/2000/svg\" height=\"24px\"viewBox=\"0 0 24 24\"\n",
              "       width=\"24px\">\n",
              "    <path d=\"M0 0h24v24H0V0z\" fill=\"none\"/>\n",
              "    <path d=\"M18.56 5.44l.94 2.06.94-2.06 2.06-.94-2.06-.94-.94-2.06-.94 2.06-2.06.94zm-11 1L8.5 8.5l.94-2.06 2.06-.94-2.06-.94L8.5 2.5l-.94 2.06-2.06.94zm10 10l.94 2.06.94-2.06 2.06-.94-2.06-.94-.94-2.06-.94 2.06-2.06.94z\"/><path d=\"M17.41 7.96l-1.37-1.37c-.4-.4-.92-.59-1.43-.59-.52 0-1.04.2-1.43.59L10.3 9.45l-7.72 7.72c-.78.78-.78 2.05 0 2.83L4 21.41c.39.39.9.59 1.41.59.51 0 1.02-.2 1.41-.59l7.78-7.78 2.81-2.81c.8-.78.8-2.07 0-2.86zM5.41 20L4 18.59l7.72-7.72 1.47 1.35L5.41 20z\"/>\n",
              "  </svg>\n",
              "      </button>\n",
              "      \n",
              "  <style>\n",
              "    .colab-df-container {\n",
              "      display:flex;\n",
              "      flex-wrap:wrap;\n",
              "      gap: 12px;\n",
              "    }\n",
              "\n",
              "    .colab-df-convert {\n",
              "      background-color: #E8F0FE;\n",
              "      border: none;\n",
              "      border-radius: 50%;\n",
              "      cursor: pointer;\n",
              "      display: none;\n",
              "      fill: #1967D2;\n",
              "      height: 32px;\n",
              "      padding: 0 0 0 0;\n",
              "      width: 32px;\n",
              "    }\n",
              "\n",
              "    .colab-df-convert:hover {\n",
              "      background-color: #E2EBFA;\n",
              "      box-shadow: 0px 1px 2px rgba(60, 64, 67, 0.3), 0px 1px 3px 1px rgba(60, 64, 67, 0.15);\n",
              "      fill: #174EA6;\n",
              "    }\n",
              "\n",
              "    [theme=dark] .colab-df-convert {\n",
              "      background-color: #3B4455;\n",
              "      fill: #D2E3FC;\n",
              "    }\n",
              "\n",
              "    [theme=dark] .colab-df-convert:hover {\n",
              "      background-color: #434B5C;\n",
              "      box-shadow: 0px 1px 3px 1px rgba(0, 0, 0, 0.15);\n",
              "      filter: drop-shadow(0px 1px 2px rgba(0, 0, 0, 0.3));\n",
              "      fill: #FFFFFF;\n",
              "    }\n",
              "  </style>\n",
              "\n",
              "      <script>\n",
              "        const buttonEl =\n",
              "          document.querySelector('#df-251261a3-b63a-408e-94ce-32b8d3cd0adb button.colab-df-convert');\n",
              "        buttonEl.style.display =\n",
              "          google.colab.kernel.accessAllowed ? 'block' : 'none';\n",
              "\n",
              "        async function convertToInteractive(key) {\n",
              "          const element = document.querySelector('#df-251261a3-b63a-408e-94ce-32b8d3cd0adb');\n",
              "          const dataTable =\n",
              "            await google.colab.kernel.invokeFunction('convertToInteractive',\n",
              "                                                     [key], {});\n",
              "          if (!dataTable) return;\n",
              "\n",
              "          const docLinkHtml = 'Like what you see? Visit the ' +\n",
              "            '<a target=\"_blank\" href=https://colab.research.google.com/notebooks/data_table.ipynb>data table notebook</a>'\n",
              "            + ' to learn more about interactive tables.';\n",
              "          element.innerHTML = '';\n",
              "          dataTable['output_type'] = 'display_data';\n",
              "          await google.colab.output.renderOutput(dataTable, element);\n",
              "          const docLink = document.createElement('div');\n",
              "          docLink.innerHTML = docLinkHtml;\n",
              "          element.appendChild(docLink);\n",
              "        }\n",
              "      </script>\n",
              "    </div>\n",
              "  </div>\n",
              "  "
            ]
          },
          "metadata": {},
          "execution_count": 7
        }
      ]
    },
    {
      "cell_type": "code",
      "source": [
        "df['Date'] = pd.to_datetime(df['Date'], format=\"%Y-%m-%d\").dt.floor('D')\n",
        "display(df['Date'].min())\n",
        "display(df['Date'].max())"
      ],
      "metadata": {
        "colab": {
          "base_uri": "https://localhost:8080/",
          "height": 53
        },
        "id": "kSizPrxG7N-m",
        "outputId": "e1bbfa99-c7f9-4e85-b95d-e7883731bd3b"
      },
      "execution_count": 8,
      "outputs": [
        {
          "output_type": "display_data",
          "data": {
            "text/plain": [
              "Timestamp('2008-01-01 00:00:00')"
            ]
          },
          "metadata": {}
        },
        {
          "output_type": "display_data",
          "data": {
            "text/plain": [
              "Timestamp('2023-03-31 00:00:00')"
            ]
          },
          "metadata": {}
        }
      ]
    },
    {
      "cell_type": "code",
      "source": [
        "max_date = str(df['Date'].max())\n",
        "dateprocess_max = dt.datetime.strptime(max_date, \"%Y-%m-%d %H:%M:%S\")\n",
        "min_date = str(df['Date'].min())\n",
        "dateprocess_min = dt.datetime.strptime(min_date, \"%Y-%m-%d %H:%M:%S\")\n",
        "#max_date_limit = (dateprocess_max - pd.DateOffset(days=1)).strftime('%Y-%m-%d')\n",
        "min_date_limit = str(dateprocess_min.year) +'-'+ str(dateprocess_min.month) +'-'+ str(dateprocess_min.day)\n",
        "max_date_limit = str(dateprocess_max.year) +'-'+ str(dateprocess_max.month) +'-'+ str(dateprocess_max.day)"
      ],
      "metadata": {
        "id": "QI_DSYzWEarV"
      },
      "execution_count": 9,
      "outputs": []
    },
    {
      "cell_type": "code",
      "source": [
        "dates_required = pd.date_range(min_date, max_date, freq='D').strftime(\"%Y-%m-%d\").tolist()\n",
        "dates_required = pd.DataFrame(dates_required, columns = ['Date'])\n",
        "dates_required.Date = pd.to_datetime(dates_required.Date)\n",
        "processed_data = dates_required.merge(df,on='Date', how='left')\n",
        "processed_data.columns = df.columns\n",
        "processed_data = processed_data.fillna(method='ffill')\n",
        "processed_data['Date'] = pd.to_datetime(processed_data['Date'], format=\"%Y-%m-%d\").dt.floor('D')"
      ],
      "metadata": {
        "id": "U22UkiOHFZ6R"
      },
      "execution_count": 10,
      "outputs": []
    },
    {
      "cell_type": "code",
      "source": [
        "processed_data['OCDifference'] = processed_data['Open']-processed_data['Close']\n",
        "processed_data['OCDiff_perc'] = (processed_data['Open']-processed_data['Close'])/processed_data['Open']*100\n",
        "\n",
        "processed_data['OHDifference'] = processed_data['Open']-processed_data['High']\n",
        "processed_data['OHDiff_perc'] = (processed_data['Open']-processed_data['High'])/processed_data['Open']*100\n",
        "\n",
        "processed_data['OLDifference'] = processed_data['Open']-processed_data['Low']\n",
        "processed_data['OLDiff_perc'] = (processed_data['Open']-processed_data['Low'])/processed_data['Open']*100\n",
        "\n",
        "processed_data['OADifference'] = processed_data['Open']-processed_data['Adj Close']\n",
        "processed_data['OADiff_perc'] = (processed_data['Open']-processed_data['Adj Close'])/processed_data['Open']*100"
      ],
      "metadata": {
        "id": "6cw0-FsUc_Kj"
      },
      "execution_count": 11,
      "outputs": []
    },
    {
      "cell_type": "code",
      "source": [
        "processed_data.tail(15)"
      ],
      "metadata": {
        "colab": {
          "base_uri": "https://localhost:8080/",
          "height": 844
        },
        "id": "5al4xpcmJnkf",
        "outputId": "3532a515-a093-44b7-c833-8657e0fb0fd2"
      },
      "execution_count": 12,
      "outputs": [
        {
          "output_type": "execute_result",
          "data": {
            "text/plain": [
              "           Date          Open          High           Low         Close  \\\n",
              "5554 2023-03-17  39442.398438  39705.148438  38926.800781  39598.101562   \n",
              "5555 2023-03-18  39442.398438  39705.148438  38926.800781  39598.101562   \n",
              "5556 2023-03-19  39442.398438  39705.148438  38926.800781  39598.101562   \n",
              "5557 2023-03-20  39512.101562  39512.101562  38941.898438  39361.949219   \n",
              "5558 2023-03-21  39599.648438  39970.898438  39366.300781  39894.699219   \n",
              "5559 2023-03-22  40036.000000  40085.601562  39837.800781  39999.050781   \n",
              "5560 2023-03-23  39836.148438  40201.601562  39552.500000  39616.898438   \n",
              "5561 2023-03-24  39555.250000  39767.898438  39294.898438  39395.351562   \n",
              "5562 2023-03-25  39555.250000  39767.898438  39294.898438  39395.351562   \n",
              "5563 2023-03-26  39555.250000  39767.898438  39294.898438  39395.351562   \n",
              "5564 2023-03-27  39484.699219  39695.199219  39273.750000  39431.300781   \n",
              "5565 2023-03-28  39545.050781  39645.199219  39326.101562  39567.898438   \n",
              "5566 2023-03-29  39611.550781  40055.000000  39609.550781  39910.148438   \n",
              "5567 2023-03-30  39611.550781  40055.000000  39609.550781  39910.148438   \n",
              "5568 2023-03-31  40231.250000  40690.398438  40180.199219  40608.648438   \n",
              "\n",
              "         Adj Close    Volume  OCDifference  OCDiff_perc  OHDifference  \\\n",
              "5554  39598.101562  173400.0   -155.703125    -0.394761   -262.750000   \n",
              "5555  39598.101562  173400.0   -155.703125    -0.394761   -262.750000   \n",
              "5556  39598.101562  173400.0   -155.703125    -0.394761   -262.750000   \n",
              "5557  39361.949219  173800.0    150.152344     0.380016      0.000000   \n",
              "5558  39894.699219  187900.0   -295.050781    -0.745084   -371.250000   \n",
              "5559  39999.050781       0.0     36.949219     0.092290    -49.601562   \n",
              "5560  39616.898438  153200.0    219.250000     0.550380   -365.453125   \n",
              "5561  39395.351562  166100.0    159.898438     0.404241   -212.648438   \n",
              "5562  39395.351562  166100.0    159.898438     0.404241   -212.648438   \n",
              "5563  39395.351562  166100.0    159.898438     0.404241   -212.648438   \n",
              "5564  39431.300781  194200.0     53.398438     0.135238   -210.500000   \n",
              "5565  39567.898438  202300.0    -22.847656    -0.057776   -100.148438   \n",
              "5566  39910.148438  259600.0   -298.597656    -0.753815   -443.449219   \n",
              "5567  39910.148438  259600.0   -298.597656    -0.753815   -443.449219   \n",
              "5568  40608.648438  188000.0   -377.398438    -0.938073   -459.148438   \n",
              "\n",
              "      OHDiff_perc  OLDifference  OLDiff_perc  OADifference  OADiff_perc  \n",
              "5554    -0.666161    515.597656     1.307217   -155.703125    -0.394761  \n",
              "5555    -0.666161    515.597656     1.307217   -155.703125    -0.394761  \n",
              "5556    -0.666161    515.597656     1.307217   -155.703125    -0.394761  \n",
              "5557     0.000000    570.203125     1.443110    150.152344     0.380016  \n",
              "5558    -0.937508    233.347656     0.589267   -295.050781    -0.745084  \n",
              "5559    -0.123892    198.199219     0.495052     36.949219     0.092290  \n",
              "5560    -0.917391    283.648438     0.712038    219.250000     0.550380  \n",
              "5561    -0.537599    260.351562     0.658197    159.898438     0.404241  \n",
              "5562    -0.537599    260.351562     0.658197    159.898438     0.404241  \n",
              "5563    -0.537599    260.351562     0.658197    159.898438     0.404241  \n",
              "5564    -0.533118    210.949219     0.534256     53.398438     0.135238  \n",
              "5565    -0.253252    218.949219     0.553670    -22.847656    -0.057776  \n",
              "5566    -1.119495      2.000000     0.005049   -298.597656    -0.753815  \n",
              "5567    -1.119495      2.000000     0.005049   -298.597656    -0.753815  \n",
              "5568    -1.141273     51.050781     0.126893   -377.398438    -0.938073  "
            ],
            "text/html": [
              "\n",
              "  <div id=\"df-31008bf7-ee38-4bf6-b13c-882a74569100\">\n",
              "    <div class=\"colab-df-container\">\n",
              "      <div>\n",
              "<style scoped>\n",
              "    .dataframe tbody tr th:only-of-type {\n",
              "        vertical-align: middle;\n",
              "    }\n",
              "\n",
              "    .dataframe tbody tr th {\n",
              "        vertical-align: top;\n",
              "    }\n",
              "\n",
              "    .dataframe thead th {\n",
              "        text-align: right;\n",
              "    }\n",
              "</style>\n",
              "<table border=\"1\" class=\"dataframe\">\n",
              "  <thead>\n",
              "    <tr style=\"text-align: right;\">\n",
              "      <th></th>\n",
              "      <th>Date</th>\n",
              "      <th>Open</th>\n",
              "      <th>High</th>\n",
              "      <th>Low</th>\n",
              "      <th>Close</th>\n",
              "      <th>Adj Close</th>\n",
              "      <th>Volume</th>\n",
              "      <th>OCDifference</th>\n",
              "      <th>OCDiff_perc</th>\n",
              "      <th>OHDifference</th>\n",
              "      <th>OHDiff_perc</th>\n",
              "      <th>OLDifference</th>\n",
              "      <th>OLDiff_perc</th>\n",
              "      <th>OADifference</th>\n",
              "      <th>OADiff_perc</th>\n",
              "    </tr>\n",
              "  </thead>\n",
              "  <tbody>\n",
              "    <tr>\n",
              "      <th>5554</th>\n",
              "      <td>2023-03-17</td>\n",
              "      <td>39442.398438</td>\n",
              "      <td>39705.148438</td>\n",
              "      <td>38926.800781</td>\n",
              "      <td>39598.101562</td>\n",
              "      <td>39598.101562</td>\n",
              "      <td>173400.0</td>\n",
              "      <td>-155.703125</td>\n",
              "      <td>-0.394761</td>\n",
              "      <td>-262.750000</td>\n",
              "      <td>-0.666161</td>\n",
              "      <td>515.597656</td>\n",
              "      <td>1.307217</td>\n",
              "      <td>-155.703125</td>\n",
              "      <td>-0.394761</td>\n",
              "    </tr>\n",
              "    <tr>\n",
              "      <th>5555</th>\n",
              "      <td>2023-03-18</td>\n",
              "      <td>39442.398438</td>\n",
              "      <td>39705.148438</td>\n",
              "      <td>38926.800781</td>\n",
              "      <td>39598.101562</td>\n",
              "      <td>39598.101562</td>\n",
              "      <td>173400.0</td>\n",
              "      <td>-155.703125</td>\n",
              "      <td>-0.394761</td>\n",
              "      <td>-262.750000</td>\n",
              "      <td>-0.666161</td>\n",
              "      <td>515.597656</td>\n",
              "      <td>1.307217</td>\n",
              "      <td>-155.703125</td>\n",
              "      <td>-0.394761</td>\n",
              "    </tr>\n",
              "    <tr>\n",
              "      <th>5556</th>\n",
              "      <td>2023-03-19</td>\n",
              "      <td>39442.398438</td>\n",
              "      <td>39705.148438</td>\n",
              "      <td>38926.800781</td>\n",
              "      <td>39598.101562</td>\n",
              "      <td>39598.101562</td>\n",
              "      <td>173400.0</td>\n",
              "      <td>-155.703125</td>\n",
              "      <td>-0.394761</td>\n",
              "      <td>-262.750000</td>\n",
              "      <td>-0.666161</td>\n",
              "      <td>515.597656</td>\n",
              "      <td>1.307217</td>\n",
              "      <td>-155.703125</td>\n",
              "      <td>-0.394761</td>\n",
              "    </tr>\n",
              "    <tr>\n",
              "      <th>5557</th>\n",
              "      <td>2023-03-20</td>\n",
              "      <td>39512.101562</td>\n",
              "      <td>39512.101562</td>\n",
              "      <td>38941.898438</td>\n",
              "      <td>39361.949219</td>\n",
              "      <td>39361.949219</td>\n",
              "      <td>173800.0</td>\n",
              "      <td>150.152344</td>\n",
              "      <td>0.380016</td>\n",
              "      <td>0.000000</td>\n",
              "      <td>0.000000</td>\n",
              "      <td>570.203125</td>\n",
              "      <td>1.443110</td>\n",
              "      <td>150.152344</td>\n",
              "      <td>0.380016</td>\n",
              "    </tr>\n",
              "    <tr>\n",
              "      <th>5558</th>\n",
              "      <td>2023-03-21</td>\n",
              "      <td>39599.648438</td>\n",
              "      <td>39970.898438</td>\n",
              "      <td>39366.300781</td>\n",
              "      <td>39894.699219</td>\n",
              "      <td>39894.699219</td>\n",
              "      <td>187900.0</td>\n",
              "      <td>-295.050781</td>\n",
              "      <td>-0.745084</td>\n",
              "      <td>-371.250000</td>\n",
              "      <td>-0.937508</td>\n",
              "      <td>233.347656</td>\n",
              "      <td>0.589267</td>\n",
              "      <td>-295.050781</td>\n",
              "      <td>-0.745084</td>\n",
              "    </tr>\n",
              "    <tr>\n",
              "      <th>5559</th>\n",
              "      <td>2023-03-22</td>\n",
              "      <td>40036.000000</td>\n",
              "      <td>40085.601562</td>\n",
              "      <td>39837.800781</td>\n",
              "      <td>39999.050781</td>\n",
              "      <td>39999.050781</td>\n",
              "      <td>0.0</td>\n",
              "      <td>36.949219</td>\n",
              "      <td>0.092290</td>\n",
              "      <td>-49.601562</td>\n",
              "      <td>-0.123892</td>\n",
              "      <td>198.199219</td>\n",
              "      <td>0.495052</td>\n",
              "      <td>36.949219</td>\n",
              "      <td>0.092290</td>\n",
              "    </tr>\n",
              "    <tr>\n",
              "      <th>5560</th>\n",
              "      <td>2023-03-23</td>\n",
              "      <td>39836.148438</td>\n",
              "      <td>40201.601562</td>\n",
              "      <td>39552.500000</td>\n",
              "      <td>39616.898438</td>\n",
              "      <td>39616.898438</td>\n",
              "      <td>153200.0</td>\n",
              "      <td>219.250000</td>\n",
              "      <td>0.550380</td>\n",
              "      <td>-365.453125</td>\n",
              "      <td>-0.917391</td>\n",
              "      <td>283.648438</td>\n",
              "      <td>0.712038</td>\n",
              "      <td>219.250000</td>\n",
              "      <td>0.550380</td>\n",
              "    </tr>\n",
              "    <tr>\n",
              "      <th>5561</th>\n",
              "      <td>2023-03-24</td>\n",
              "      <td>39555.250000</td>\n",
              "      <td>39767.898438</td>\n",
              "      <td>39294.898438</td>\n",
              "      <td>39395.351562</td>\n",
              "      <td>39395.351562</td>\n",
              "      <td>166100.0</td>\n",
              "      <td>159.898438</td>\n",
              "      <td>0.404241</td>\n",
              "      <td>-212.648438</td>\n",
              "      <td>-0.537599</td>\n",
              "      <td>260.351562</td>\n",
              "      <td>0.658197</td>\n",
              "      <td>159.898438</td>\n",
              "      <td>0.404241</td>\n",
              "    </tr>\n",
              "    <tr>\n",
              "      <th>5562</th>\n",
              "      <td>2023-03-25</td>\n",
              "      <td>39555.250000</td>\n",
              "      <td>39767.898438</td>\n",
              "      <td>39294.898438</td>\n",
              "      <td>39395.351562</td>\n",
              "      <td>39395.351562</td>\n",
              "      <td>166100.0</td>\n",
              "      <td>159.898438</td>\n",
              "      <td>0.404241</td>\n",
              "      <td>-212.648438</td>\n",
              "      <td>-0.537599</td>\n",
              "      <td>260.351562</td>\n",
              "      <td>0.658197</td>\n",
              "      <td>159.898438</td>\n",
              "      <td>0.404241</td>\n",
              "    </tr>\n",
              "    <tr>\n",
              "      <th>5563</th>\n",
              "      <td>2023-03-26</td>\n",
              "      <td>39555.250000</td>\n",
              "      <td>39767.898438</td>\n",
              "      <td>39294.898438</td>\n",
              "      <td>39395.351562</td>\n",
              "      <td>39395.351562</td>\n",
              "      <td>166100.0</td>\n",
              "      <td>159.898438</td>\n",
              "      <td>0.404241</td>\n",
              "      <td>-212.648438</td>\n",
              "      <td>-0.537599</td>\n",
              "      <td>260.351562</td>\n",
              "      <td>0.658197</td>\n",
              "      <td>159.898438</td>\n",
              "      <td>0.404241</td>\n",
              "    </tr>\n",
              "    <tr>\n",
              "      <th>5564</th>\n",
              "      <td>2023-03-27</td>\n",
              "      <td>39484.699219</td>\n",
              "      <td>39695.199219</td>\n",
              "      <td>39273.750000</td>\n",
              "      <td>39431.300781</td>\n",
              "      <td>39431.300781</td>\n",
              "      <td>194200.0</td>\n",
              "      <td>53.398438</td>\n",
              "      <td>0.135238</td>\n",
              "      <td>-210.500000</td>\n",
              "      <td>-0.533118</td>\n",
              "      <td>210.949219</td>\n",
              "      <td>0.534256</td>\n",
              "      <td>53.398438</td>\n",
              "      <td>0.135238</td>\n",
              "    </tr>\n",
              "    <tr>\n",
              "      <th>5565</th>\n",
              "      <td>2023-03-28</td>\n",
              "      <td>39545.050781</td>\n",
              "      <td>39645.199219</td>\n",
              "      <td>39326.101562</td>\n",
              "      <td>39567.898438</td>\n",
              "      <td>39567.898438</td>\n",
              "      <td>202300.0</td>\n",
              "      <td>-22.847656</td>\n",
              "      <td>-0.057776</td>\n",
              "      <td>-100.148438</td>\n",
              "      <td>-0.253252</td>\n",
              "      <td>218.949219</td>\n",
              "      <td>0.553670</td>\n",
              "      <td>-22.847656</td>\n",
              "      <td>-0.057776</td>\n",
              "    </tr>\n",
              "    <tr>\n",
              "      <th>5566</th>\n",
              "      <td>2023-03-29</td>\n",
              "      <td>39611.550781</td>\n",
              "      <td>40055.000000</td>\n",
              "      <td>39609.550781</td>\n",
              "      <td>39910.148438</td>\n",
              "      <td>39910.148438</td>\n",
              "      <td>259600.0</td>\n",
              "      <td>-298.597656</td>\n",
              "      <td>-0.753815</td>\n",
              "      <td>-443.449219</td>\n",
              "      <td>-1.119495</td>\n",
              "      <td>2.000000</td>\n",
              "      <td>0.005049</td>\n",
              "      <td>-298.597656</td>\n",
              "      <td>-0.753815</td>\n",
              "    </tr>\n",
              "    <tr>\n",
              "      <th>5567</th>\n",
              "      <td>2023-03-30</td>\n",
              "      <td>39611.550781</td>\n",
              "      <td>40055.000000</td>\n",
              "      <td>39609.550781</td>\n",
              "      <td>39910.148438</td>\n",
              "      <td>39910.148438</td>\n",
              "      <td>259600.0</td>\n",
              "      <td>-298.597656</td>\n",
              "      <td>-0.753815</td>\n",
              "      <td>-443.449219</td>\n",
              "      <td>-1.119495</td>\n",
              "      <td>2.000000</td>\n",
              "      <td>0.005049</td>\n",
              "      <td>-298.597656</td>\n",
              "      <td>-0.753815</td>\n",
              "    </tr>\n",
              "    <tr>\n",
              "      <th>5568</th>\n",
              "      <td>2023-03-31</td>\n",
              "      <td>40231.250000</td>\n",
              "      <td>40690.398438</td>\n",
              "      <td>40180.199219</td>\n",
              "      <td>40608.648438</td>\n",
              "      <td>40608.648438</td>\n",
              "      <td>188000.0</td>\n",
              "      <td>-377.398438</td>\n",
              "      <td>-0.938073</td>\n",
              "      <td>-459.148438</td>\n",
              "      <td>-1.141273</td>\n",
              "      <td>51.050781</td>\n",
              "      <td>0.126893</td>\n",
              "      <td>-377.398438</td>\n",
              "      <td>-0.938073</td>\n",
              "    </tr>\n",
              "  </tbody>\n",
              "</table>\n",
              "</div>\n",
              "      <button class=\"colab-df-convert\" onclick=\"convertToInteractive('df-31008bf7-ee38-4bf6-b13c-882a74569100')\"\n",
              "              title=\"Convert this dataframe to an interactive table.\"\n",
              "              style=\"display:none;\">\n",
              "        \n",
              "  <svg xmlns=\"http://www.w3.org/2000/svg\" height=\"24px\"viewBox=\"0 0 24 24\"\n",
              "       width=\"24px\">\n",
              "    <path d=\"M0 0h24v24H0V0z\" fill=\"none\"/>\n",
              "    <path d=\"M18.56 5.44l.94 2.06.94-2.06 2.06-.94-2.06-.94-.94-2.06-.94 2.06-2.06.94zm-11 1L8.5 8.5l.94-2.06 2.06-.94-2.06-.94L8.5 2.5l-.94 2.06-2.06.94zm10 10l.94 2.06.94-2.06 2.06-.94-2.06-.94-.94-2.06-.94 2.06-2.06.94z\"/><path d=\"M17.41 7.96l-1.37-1.37c-.4-.4-.92-.59-1.43-.59-.52 0-1.04.2-1.43.59L10.3 9.45l-7.72 7.72c-.78.78-.78 2.05 0 2.83L4 21.41c.39.39.9.59 1.41.59.51 0 1.02-.2 1.41-.59l7.78-7.78 2.81-2.81c.8-.78.8-2.07 0-2.86zM5.41 20L4 18.59l7.72-7.72 1.47 1.35L5.41 20z\"/>\n",
              "  </svg>\n",
              "      </button>\n",
              "      \n",
              "  <style>\n",
              "    .colab-df-container {\n",
              "      display:flex;\n",
              "      flex-wrap:wrap;\n",
              "      gap: 12px;\n",
              "    }\n",
              "\n",
              "    .colab-df-convert {\n",
              "      background-color: #E8F0FE;\n",
              "      border: none;\n",
              "      border-radius: 50%;\n",
              "      cursor: pointer;\n",
              "      display: none;\n",
              "      fill: #1967D2;\n",
              "      height: 32px;\n",
              "      padding: 0 0 0 0;\n",
              "      width: 32px;\n",
              "    }\n",
              "\n",
              "    .colab-df-convert:hover {\n",
              "      background-color: #E2EBFA;\n",
              "      box-shadow: 0px 1px 2px rgba(60, 64, 67, 0.3), 0px 1px 3px 1px rgba(60, 64, 67, 0.15);\n",
              "      fill: #174EA6;\n",
              "    }\n",
              "\n",
              "    [theme=dark] .colab-df-convert {\n",
              "      background-color: #3B4455;\n",
              "      fill: #D2E3FC;\n",
              "    }\n",
              "\n",
              "    [theme=dark] .colab-df-convert:hover {\n",
              "      background-color: #434B5C;\n",
              "      box-shadow: 0px 1px 3px 1px rgba(0, 0, 0, 0.15);\n",
              "      filter: drop-shadow(0px 1px 2px rgba(0, 0, 0, 0.3));\n",
              "      fill: #FFFFFF;\n",
              "    }\n",
              "  </style>\n",
              "\n",
              "      <script>\n",
              "        const buttonEl =\n",
              "          document.querySelector('#df-31008bf7-ee38-4bf6-b13c-882a74569100 button.colab-df-convert');\n",
              "        buttonEl.style.display =\n",
              "          google.colab.kernel.accessAllowed ? 'block' : 'none';\n",
              "\n",
              "        async function convertToInteractive(key) {\n",
              "          const element = document.querySelector('#df-31008bf7-ee38-4bf6-b13c-882a74569100');\n",
              "          const dataTable =\n",
              "            await google.colab.kernel.invokeFunction('convertToInteractive',\n",
              "                                                     [key], {});\n",
              "          if (!dataTable) return;\n",
              "\n",
              "          const docLinkHtml = 'Like what you see? Visit the ' +\n",
              "            '<a target=\"_blank\" href=https://colab.research.google.com/notebooks/data_table.ipynb>data table notebook</a>'\n",
              "            + ' to learn more about interactive tables.';\n",
              "          element.innerHTML = '';\n",
              "          dataTable['output_type'] = 'display_data';\n",
              "          await google.colab.output.renderOutput(dataTable, element);\n",
              "          const docLink = document.createElement('div');\n",
              "          docLink.innerHTML = docLinkHtml;\n",
              "          element.appendChild(docLink);\n",
              "        }\n",
              "      </script>\n",
              "    </div>\n",
              "  </div>\n",
              "  "
            ]
          },
          "metadata": {},
          "execution_count": 12
        }
      ]
    },
    {
      "cell_type": "markdown",
      "source": [
        "# 2. Fit Model"
      ],
      "metadata": {
        "id": "IQG6I8Tyeske"
      }
    },
    {
      "cell_type": "markdown",
      "source": [
        "## 2.1 LSTM"
      ],
      "metadata": {
        "id": "ACEsldcGn4HU"
      }
    },
    {
      "cell_type": "code",
      "source": [
        "from tensorflow.keras.models import Sequential\n",
        "from tensorflow.keras.layers import LSTM\n",
        "from tensorflow.keras.layers import Dense, Dropout, BatchNormalization\n",
        "from sklearn.preprocessing import StandardScaler\n",
        "from tensorflow import keras\n",
        "import tensorflow as tf\n",
        "tf.random.set_seed(7)"
      ],
      "metadata": {
        "id": "ZVGBP4m-JrBO"
      },
      "execution_count": 13,
      "outputs": []
    },
    {
      "cell_type": "code",
      "source": [
        "import matplotlib.pyplot as plt\n",
        "import seaborn as sns\n",
        "import plotly.express as px"
      ],
      "metadata": {
        "id": "ft_ANXzkK5Xh"
      },
      "execution_count": 14,
      "outputs": []
    },
    {
      "cell_type": "code",
      "source": [
        "Scale=StandardScaler()\n",
        "def data_prep(df, cols_str, lookback, future, Scale):\n",
        "    date_train=pd.to_datetime(df['Date'], format=\"%Y-%m-%d\").dt.floor('D')\n",
        "    cols = cols_str.split(\",\")\n",
        "    df_for_training = df[cols].astype(float)\n",
        "    \n",
        "    #df_for_training_scaled=Scale.fit_transform(df_train)\n",
        "    scaler = Scale.fit(df_for_training)\n",
        "    df_for_training_scaled = scaler.transform(df_for_training)\n",
        "\n",
        "    trainX = []\n",
        "    trainY = []\n",
        "    for i in range(lookback, len(df_for_training_scaled) - future +1):\n",
        "        trainX.append(df_for_training_scaled[i - lookback:i, 0:df_for_training.shape[1]])\n",
        "        trainY.append(df_for_training_scaled[i + future - 1:i + future, 0])\n",
        "\n",
        "    trainX, trainY = np.array(trainX), np.array(trainY)\n",
        "        \n",
        "    return trainX, trainY, df_for_training, date_train"
      ],
      "metadata": {
        "id": "EqvbkPbzK57i"
      },
      "execution_count": 15,
      "outputs": []
    },
    {
      "cell_type": "code",
      "source": [
        "cols_str = 'Open,High,Low,Close,Adj Close,Volume,OCDifference,OCDiff_perc,OHDifference,OHDiff_perc,OLDifference,OLDiff_perc,OADifference,OADiff_perc'\n",
        "lookback = 30\n",
        "future = 1"
      ],
      "metadata": {
        "id": "H8aWKG2EM0XZ"
      },
      "execution_count": null,
      "outputs": []
    },
    {
      "cell_type": "code",
      "source": [
        "#Lstm_x, Lstm_y, df_train, date_train = data_prep(processed_data, cols_str, 12, 1, Scale)"
      ],
      "metadata": {
        "id": "PrtvmuEVMPjU"
      },
      "execution_count": null,
      "outputs": []
    },
    {
      "cell_type": "code",
      "source": [
        "def Lstm_model(trainX,trainY):\n",
        "    tf.keras.backend.clear_session()\n",
        "    model = Sequential()\n",
        "    model.add(LSTM(64, activation='relu', input_shape=(trainX.shape[1], trainX.shape[2]), return_sequences=True))\n",
        "    #model.add(Dropout(0.2))\n",
        "    #model.add(BatchNormalization())\n",
        "    model.add(LSTM(50, activation='relu', return_sequences=True))\n",
        "    #model.add(Dropout(0.2))\n",
        "    #model.add(BatchNormalization())\n",
        "    model.add(LSTM(50, activation='relu', return_sequences=True))\n",
        "    #model.add(Dropout(0.2))\n",
        "    #model.add(BatchNormalization())\n",
        "    model.add(LSTM(units = 50, return_sequences=False))\n",
        "    model.add(Dropout(0.2))\n",
        "    model.add(Dense(trainY.shape[1]))\n",
        "\n",
        "    ## compile the model and specify loss and optimizer\n",
        "    #opt = keras.optimizers.Adam(learning_rate=0.01)\n",
        "    #opt = Adam(learning_rate=0.01, beta_1=0.85, beta_2=0.999)\n",
        "    #model.compile(optimizer=opt, loss='mse')\n",
        "\n",
        "    model.compile(optimizer='adam', loss='mean_squared_error')\n",
        "    model.summary()\n",
        "    \n",
        "    # fit the model\n",
        "    es = tf.keras.callbacks.EarlyStopping(monitor='loss', patience=15, restore_best_weights=True)\n",
        "    model.fit(trainX, trainY, epochs=100, batch_size=64, validation_split=0.1, verbose=1, callbacks=[es])\n",
        "    #model.fit(trainX, trainY, epochs=100, batch_size=24, validation_split=0.1, verbose=1)\n",
        "    \n",
        "    return model"
      ],
      "metadata": {
        "id": "60n46sK3ONwJ"
      },
      "execution_count": 16,
      "outputs": []
    },
    {
      "cell_type": "code",
      "source": [
        "# def Lstm_model1(X, y):\n",
        "#     regressor = Sequential()\n",
        "#     regressor.add(LSTM(units = 50, return_sequences = True, input_shape = (X.shape[1], X.shape[2])))\n",
        "#     regressor.add(Dropout(0.2))\n",
        "#     regressor.add(LSTM(units = 50, return_sequences = True))\n",
        "#     regressor.add(Dropout(0.2))\n",
        "#     regressor.add(LSTM(units = 50, return_sequences = True))\n",
        "#     regressor.add(Dropout(0.2))\n",
        "#     regressor.add(LSTM(units = 50))\n",
        "#     regressor.add(Dropout(0.2))\n",
        "#     regressor.add(Dense(units = 1))\n",
        "\n",
        "#     regressor.compile(optimizer = 'adam', loss = 'mean_squared_error')\n",
        "    \n",
        "#     es = tf.keras.callbacks.EarlyStopping(monitor='loss', patience=15, restore_best_weights=True)\n",
        "#     regressor.fit(X, y, epochs = 100, validation_split=0.1, batch_size = 64, verbose=1, callbacks=[es])\n",
        "#     return regressor"
      ],
      "metadata": {
        "id": "kOGbiiNBOYob"
      },
      "execution_count": null,
      "outputs": []
    },
    {
      "cell_type": "code",
      "source": [
        "def predict_open(model, date_train, trainX, df_train, future, Scale):\n",
        "    forecasting_dates=pd.date_range(list(date_train)[-1], periods=future +1, freq='D').tolist()\n",
        "    #from pandas.tseries.offsets import DateOffset\n",
        "    #forecasting_dates = [df.Date[-1:] + DateOffset(months=x) for x in range(0, future + 1)]\n",
        "    forecasting_dates.pop(0)\n",
        "    \n",
        "    predicted = model.predict(trainX[-future:])\n",
        "    prediction_copies = np.repeat(predicted, df_train.shape[1], axis=-1)\n",
        "    predicted_descaled = Scale.inverse_transform(prediction_copies)[:,0]\n",
        "    \n",
        "    return predicted_descaled,forecasting_dates\n",
        "\n",
        "def output_prep(forecasting_dates, predicted_descaled, pred_col_name):\n",
        "    # Convert timestamp to date\n",
        "    forecast_dates = []\n",
        "    for time_i in forecasting_dates:\n",
        "        forecast_dates.append(time_i.date())\n",
        "    \n",
        "    y_fcst_lower = predicted_descaled * 0.999\n",
        "    y_fcst_upper = predicted_descaled * 1.002\n",
        "    low_col = pred_col_name + '_lower'\n",
        "    up_col = pred_col_name + '_upper'\n",
        "    #pred_col_name = 'Frcst_'+ pred_col_name\n",
        "    df_forecast = pd.DataFrame({'Date':np.array(forecast_dates), low_col:y_fcst_lower,\n",
        "                                pred_col_name:predicted_descaled, up_col:y_fcst_upper})\n",
        "    df_forecast['Date']=pd.to_datetime(df_forecast['Date']).dt.floor('D')\n",
        "    df_forecast = df_forecast.round(2)\n",
        "    \n",
        "    return df_forecast\n"
      ],
      "metadata": {
        "id": "FmMwQSdkQe9n"
      },
      "execution_count": 17,
      "outputs": []
    },
    {
      "cell_type": "code",
      "source": [
        "def results(df, lookback, future, Scale, cols, pred_col_name, plot_title, n_pred_future):\n",
        "    Lstm_x, Lstm_y, df_train, date_train = data_prep(df, cols, lookback, future, Scale)\n",
        "    model=Lstm_model(Lstm_x,Lstm_y)\n",
        "    loss=pd.DataFrame(model.history.history)\n",
        "    loss.plot()\n",
        "    predicted_descaled,forecasting_dates = predict_open(model, date_train, Lstm_x, df_train, n_pred_future, Scale)\n",
        "    results = output_prep(forecasting_dates, predicted_descaled, pred_col_name)   \n",
        "    print(results.head())\n",
        "    plt.show()\n",
        "    fig = px.area(results, x=\"Date\", y=pred_col_name, title=plot_title)\n",
        "    fig.update_yaxes(range=[results[pred_col_name].min()-10, results[pred_col_name].max()+10])\n",
        "    fig.show()\n",
        "    \n",
        "    return results"
      ],
      "metadata": {
        "id": "azAqEw1GQiV2"
      },
      "execution_count": 18,
      "outputs": []
    },
    {
      "cell_type": "code",
      "source": [
        "#cols_str = 'Open,High,Low,Close,Adj Close,Volume,OCDifference,OCDiff_perc,OHDifference,OHDiff_perc,OLDifference,OLDiff_perc,OADifference,OADiff_perc'\n",
        "cols_str = 'Open,High,Low,Close,Adj Close,Volume,OCDifference,OCDiff_perc'\n",
        "lookback = 30\n",
        "future = 1\n",
        "pred_col_name = 'F_Open'\n",
        "plot_title = 'Open value of BankNifty'\n",
        "n_pred_future = 30\n",
        "\n",
        "df_forecast = results(processed_data, lookback, future, Scale, cols_str, pred_col_name, plot_title, n_pred_future)\n",
        "# df_forecast = pd.DataFrame()\n",
        "# for prod in df.Item_Code.unique():\n",
        "#     print(prod)\n",
        "#     df1 = df[df['Item_Code']==prod]\n",
        "#     res = results(df1, lookback, future, Scale, cols_str, pred_col_name, plot_title, n_pred_future)\n",
        "#     df_forecast = pd.concat([df_forecast,res])"
      ],
      "metadata": {
        "colab": {
          "base_uri": "https://localhost:8080/",
          "height": 1000
        },
        "id": "XB467fD9Q-NN",
        "outputId": "960d90a5-f614-46cf-8b0a-25f49b078a1d"
      },
      "execution_count": 46,
      "outputs": [
        {
          "output_type": "stream",
          "name": "stdout",
          "text": [
            "Model: \"sequential\"\n",
            "_________________________________________________________________\n",
            " Layer (type)                Output Shape              Param #   \n",
            "=================================================================\n",
            " lstm (LSTM)                 (None, 30, 64)            18688     \n",
            "                                                                 \n",
            " lstm_1 (LSTM)               (None, 30, 50)            23000     \n",
            "                                                                 \n",
            " lstm_2 (LSTM)               (None, 30, 50)            20200     \n",
            "                                                                 \n",
            " lstm_3 (LSTM)               (None, 50)                20200     \n",
            "                                                                 \n",
            " dropout (Dropout)           (None, 50)                0         \n",
            "                                                                 \n",
            " dense (Dense)               (None, 1)                 51        \n",
            "                                                                 \n",
            "=================================================================\n",
            "Total params: 82,139\n",
            "Trainable params: 82,139\n",
            "Non-trainable params: 0\n",
            "_________________________________________________________________\n",
            "Epoch 1/100\n",
            "78/78 [==============================] - 17s 127ms/step - loss: 0.0789 - val_loss: 0.0226\n",
            "Epoch 2/100\n",
            "78/78 [==============================] - 7s 88ms/step - loss: 0.0123 - val_loss: 0.0247\n",
            "Epoch 3/100\n",
            "78/78 [==============================] - 9s 115ms/step - loss: 0.0087 - val_loss: 0.0198\n",
            "Epoch 4/100\n",
            "78/78 [==============================] - 7s 88ms/step - loss: 0.0080 - val_loss: 0.0142\n",
            "Epoch 5/100\n",
            "78/78 [==============================] - 9s 114ms/step - loss: 0.0076 - val_loss: 0.0121\n",
            "Epoch 6/100\n",
            "78/78 [==============================] - 7s 88ms/step - loss: 0.0071 - val_loss: 0.0111\n",
            "Epoch 7/100\n",
            "78/78 [==============================] - 9s 115ms/step - loss: 0.0070 - val_loss: 0.0142\n",
            "Epoch 8/100\n",
            "78/78 [==============================] - 8s 99ms/step - loss: 0.0073 - val_loss: 0.0281\n",
            "Epoch 9/100\n",
            "78/78 [==============================] - 10s 132ms/step - loss: 0.0067 - val_loss: 0.0214\n",
            "Epoch 10/100\n",
            "78/78 [==============================] - 7s 91ms/step - loss: 0.0062 - val_loss: 0.0282\n",
            "Epoch 11/100\n",
            "78/78 [==============================] - 9s 119ms/step - loss: 0.0061 - val_loss: 0.0311\n",
            "Epoch 12/100\n",
            "78/78 [==============================] - 8s 103ms/step - loss: 0.0062 - val_loss: 0.0286\n",
            "Epoch 13/100\n",
            "78/78 [==============================] - 8s 99ms/step - loss: 0.0060 - val_loss: 0.0411\n",
            "Epoch 14/100\n",
            "78/78 [==============================] - 9s 116ms/step - loss: 0.0056 - val_loss: 0.0174\n",
            "Epoch 15/100\n",
            "78/78 [==============================] - 7s 89ms/step - loss: 0.0065 - val_loss: 0.0175\n",
            "Epoch 16/100\n",
            "78/78 [==============================] - 9s 115ms/step - loss: 0.0058 - val_loss: 0.0165\n",
            "Epoch 17/100\n",
            "78/78 [==============================] - 7s 89ms/step - loss: 0.0056 - val_loss: 0.0119\n",
            "Epoch 18/100\n",
            "78/78 [==============================] - 9s 115ms/step - loss: 0.0056 - val_loss: 0.0082\n",
            "Epoch 19/100\n",
            "78/78 [==============================] - 7s 88ms/step - loss: 0.0055 - val_loss: 0.0115\n",
            "Epoch 20/100\n",
            "78/78 [==============================] - 10s 125ms/step - loss: 0.0053 - val_loss: 0.0275\n",
            "Epoch 21/100\n",
            "78/78 [==============================] - 7s 94ms/step - loss: 0.0056 - val_loss: 0.0087\n",
            "Epoch 22/100\n",
            "78/78 [==============================] - 8s 108ms/step - loss: 0.0052 - val_loss: 0.0219\n",
            "Epoch 23/100\n",
            "78/78 [==============================] - 8s 103ms/step - loss: 0.0052 - val_loss: 0.0262\n",
            "Epoch 24/100\n",
            "78/78 [==============================] - 8s 100ms/step - loss: 0.0052 - val_loss: 0.0074\n",
            "Epoch 25/100\n",
            "78/78 [==============================] - 8s 109ms/step - loss: 0.0051 - val_loss: 0.0226\n",
            "Epoch 26/100\n",
            "78/78 [==============================] - 7s 93ms/step - loss: 0.0053 - val_loss: 0.0084\n",
            "Epoch 27/100\n",
            "78/78 [==============================] - 9s 114ms/step - loss: 0.0052 - val_loss: 0.0267\n",
            "Epoch 28/100\n",
            "78/78 [==============================] - 7s 88ms/step - loss: 0.0052 - val_loss: 0.0307\n",
            "Epoch 29/100\n",
            "78/78 [==============================] - 18s 237ms/step - loss: 0.0050 - val_loss: 0.0088\n",
            "Epoch 30/100\n",
            "78/78 [==============================] - 7s 87ms/step - loss: 0.0055 - val_loss: 0.0151\n",
            "Epoch 31/100\n",
            "78/78 [==============================] - 9s 115ms/step - loss: 0.0055 - val_loss: 0.0105\n",
            "Epoch 32/100\n",
            "78/78 [==============================] - 10s 127ms/step - loss: 0.0049 - val_loss: 0.0082\n",
            "Epoch 33/100\n",
            "78/78 [==============================] - 8s 100ms/step - loss: 0.0052 - val_loss: 0.0433\n",
            "Epoch 34/100\n",
            "78/78 [==============================] - 9s 111ms/step - loss: 0.0049 - val_loss: 0.0219\n",
            "Epoch 35/100\n",
            "78/78 [==============================] - 7s 91ms/step - loss: 0.0046 - val_loss: 0.0382\n",
            "Epoch 36/100\n",
            "78/78 [==============================] - 9s 114ms/step - loss: 0.0048 - val_loss: 0.0233\n",
            "Epoch 37/100\n",
            "78/78 [==============================] - 7s 89ms/step - loss: 0.0043 - val_loss: 0.0259\n",
            "Epoch 38/100\n",
            "78/78 [==============================] - 9s 117ms/step - loss: 0.0047 - val_loss: 0.0089\n",
            "Epoch 39/100\n",
            "78/78 [==============================] - 7s 88ms/step - loss: 0.0044 - val_loss: 0.0165\n",
            "Epoch 40/100\n",
            "78/78 [==============================] - 9s 114ms/step - loss: 0.0051 - val_loss: 0.0081\n",
            "Epoch 41/100\n",
            "78/78 [==============================] - 7s 87ms/step - loss: 0.0052 - val_loss: 0.0080\n",
            "Epoch 42/100\n",
            "78/78 [==============================] - 9s 116ms/step - loss: 0.0051 - val_loss: 0.0181\n",
            "Epoch 43/100\n",
            "78/78 [==============================] - 7s 89ms/step - loss: 0.0050 - val_loss: 0.0159\n",
            "Epoch 44/100\n",
            "78/78 [==============================] - 9s 115ms/step - loss: 0.0044 - val_loss: 0.0056\n",
            "Epoch 45/100\n",
            "78/78 [==============================] - 7s 96ms/step - loss: 0.0049 - val_loss: 0.0320\n",
            "Epoch 46/100\n",
            "78/78 [==============================] - 8s 105ms/step - loss: 0.0045 - val_loss: 0.0089\n",
            "Epoch 47/100\n",
            "78/78 [==============================] - 8s 106ms/step - loss: 0.0044 - val_loss: 0.0173\n",
            "Epoch 48/100\n",
            "78/78 [==============================] - 8s 96ms/step - loss: 0.0048 - val_loss: 0.0156\n",
            "Epoch 49/100\n",
            "78/78 [==============================] - 9s 115ms/step - loss: 0.0046 - val_loss: 0.0077\n",
            "Epoch 50/100\n",
            "78/78 [==============================] - 7s 88ms/step - loss: 0.0044 - val_loss: 0.0134\n",
            "Epoch 51/100\n",
            "78/78 [==============================] - 9s 115ms/step - loss: 0.0045 - val_loss: 0.0133\n",
            "Epoch 52/100\n",
            "78/78 [==============================] - 7s 88ms/step - loss: 0.0045 - val_loss: 0.0146\n",
            "1/1 [==============================] - 1s 816ms/step\n",
            "        Date  F_Open_lower        F_Open  F_Open_upper\n",
            "0 2023-04-01  38572.660156  38611.261719  38688.488281\n",
            "1 2023-04-02  38607.250000  38645.898438  38723.179688\n",
            "2 2023-04-03  38955.070312  38994.058594  39072.050781\n",
            "3 2023-04-04  39055.890625  39094.980469  39173.171875\n",
            "4 2023-04-05  39181.078125  39220.300781  39298.738281\n"
          ]
        },
        {
          "output_type": "display_data",
          "data": {
            "text/plain": [
              "<Figure size 640x480 with 1 Axes>"
            ],
            "image/png": "[encoded data removed]"
          },
          "metadata": {}
        },
        {
          "output_type": "display_data",
          "data": {
            "text/html": [
              "<html>\n",
              "<head><meta charset=\"utf-8\" /></head>\n",
              "<body>\n",
              "    <div>            <script src=\"https://cdnjs.cloudflare.com/ajax/libs/mathjax/2.7.5/MathJax.js?config=TeX-AMS-MML_SVG\"></script><script type=\"text/javascript\">if (window.MathJax && window.MathJax.Hub && window.MathJax.Hub.Config) {window.MathJax.Hub.Config({SVG: {font: \"STIX-Web\"}});}</script>                <script type=\"text/javascript\">window.PlotlyConfig = {MathJaxConfig: 'local'};</script>\n",
              "        <script src=\"https://cdn.plot.ly/plotly-2.18.2.min.js\"></script>                <div id=\"44ff0119-43b2-42db-9109-189ace3d49af\" class=\"plotly-graph-div\" style=\"height:525px; width:100%;\"></div>            <script type=\"text/javascript\">                                    window.PLOTLYENV=window.PLOTLYENV || {};                                    if (document.getElementById(\"44ff0119-43b2-42db-9109-189ace3d49af\")) {                    Plotly.newPlot(                        \"44ff0119-43b2-42db-9109-189ace3d49af\",                        [{\"fillpattern\":{\"shape\":\"\"},\"hovertemplate\":\"Date=%{x}<br>F_Open=%{y}<extra></extra>\",\"legendgroup\":\"\",\"line\":{\"color\":\"#636efa\"},\"marker\":{\"symbol\":\"circle\"},\"mode\":\"lines\",\"name\":\"\",\"orientation\":\"v\",\"showlegend\":false,\"stackgroup\":\"1\",\"x\":[\"2023-04-01T00:00:00\",\"2023-04-02T00:00:00\",\"2023-04-03T00:00:00\",\"2023-04-04T00:00:00\",\"2023-04-05T00:00:00\",\"2023-04-06T00:00:00\",\"2023-04-07T00:00:00\",\"2023-04-08T00:00:00\",\"2023-04-09T00:00:00\",\"2023-04-10T00:00:00\",\"2023-04-11T00:00:00\",\"2023-04-12T00:00:00\",\"2023-04-13T00:00:00\",\"2023-04-14T00:00:00\",\"2023-04-15T00:00:00\",\"2023-04-16T00:00:00\",\"2023-04-17T00:00:00\",\"2023-04-18T00:00:00\",\"2023-04-19T00:00:00\",\"2023-04-20T00:00:00\",\"2023-04-21T00:00:00\",\"2023-04-22T00:00:00\",\"2023-04-23T00:00:00\",\"2023-04-24T00:00:00\",\"2023-04-25T00:00:00\",\"2023-04-26T00:00:00\",\"2023-04-27T00:00:00\",\"2023-04-28T00:00:00\",\"2023-04-29T00:00:00\",\"2023-04-30T00:00:00\"],\"xaxis\":\"x\",\"y\":[38611.26171875,38645.8984375,38994.05859375,39094.98046875,39220.30078125,39194.6015625,39419.078125,39587.359375,39287.87890625,39126.6015625,39024.33984375,38920.48828125,38426.109375,38291.1484375,37926.7109375,37643.0390625,37451.62109375,37458.12109375,37583.23828125,37688.671875,37946.3984375,38126.05859375,38211.8203125,38254.48046875,38266.21875,38259.109375,38290.30078125,38333.8203125,38358.9609375,38403.80078125],\"yaxis\":\"y\",\"type\":\"scatter\"}],                        {\"template\":{\"data\":{\"histogram2dcontour\":[{\"type\":\"histogram2dcontour\",\"colorbar\":{\"outlinewidth\":0,\"ticks\":\"\"},\"colorscale\":[[0.0,\"#0d0887\"],[0.1111111111111111,\"#46039f\"],[0.2222222222222222,\"#7201a8\"],[0.3333333333333333,\"#9c179e\"],[0.4444444444444444,\"#bd3786\"],[0.5555555555555556,\"#d8576b\"],[0.6666666666666666,\"#ed7953\"],[0.7777777777777778,\"#fb9f3a\"],[0.8888888888888888,\"#fdca26\"],[1.0,\"#f0f921\"]]}],\"choropleth\":[{\"type\":\"choropleth\",\"colorbar\":{\"outlinewidth\":0,\"ticks\":\"\"}}],\"histogram2d\":[{\"type\":\"histogram2d\",\"colorbar\":{\"outlinewidth\":0,\"ticks\":\"\"},\"colorscale\":[[0.0,\"#0d0887\"],[0.1111111111111111,\"#46039f\"],[0.2222222222222222,\"#7201a8\"],[0.3333333333333333,\"#9c179e\"],[0.4444444444444444,\"#bd3786\"],[0.5555555555555556,\"#d8576b\"],[0.6666666666666666,\"#ed7953\"],[0.7777777777777778,\"#fb9f3a\"],[0.8888888888888888,\"#fdca26\"],[1.0,\"#f0f921\"]]}],\"heatmap\":[{\"type\":\"heatmap\",\"colorbar\":{\"outlinewidth\":0,\"ticks\":\"\"},\"colorscale\":[[0.0,\"#0d0887\"],[0.1111111111111111,\"#46039f\"],[0.2222222222222222,\"#7201a8\"],[0.3333333333333333,\"#9c179e\"],[0.4444444444444444,\"#bd3786\"],[0.5555555555555556,\"#d8576b\"],[0.6666666666666666,\"#ed7953\"],[0.7777777777777778,\"#fb9f3a\"],[0.8888888888888888,\"#fdca26\"],[1.0,\"#f0f921\"]]}],\"heatmapgl\":[{\"type\":\"heatmapgl\",\"colorbar\":{\"outlinewidth\":0,\"ticks\":\"\"},\"colorscale\":[[0.0,\"#0d0887\"],[0.1111111111111111,\"#46039f\"],[0.2222222222222222,\"#7201a8\"],[0.3333333333333333,\"#9c179e\"],[0.4444444444444444,\"#bd3786\"],[0.5555555555555556,\"#d8576b\"],[0.6666666666666666,\"#ed7953\"],[0.7777777777777778,\"#fb9f3a\"],[0.8888888888888888,\"#fdca26\"],[1.0,\"#f0f921\"]]}],\"contourcarpet\":[{\"type\":\"contourcarpet\",\"colorbar\":{\"outlinewidth\":0,\"ticks\":\"\"}}],\"contour\":[{\"type\":\"contour\",\"colorbar\":{\"outlinewidth\":0,\"ticks\":\"\"},\"colorscale\":[[0.0,\"#0d0887\"],[0.1111111111111111,\"#46039f\"],[0.2222222222222222,\"#7201a8\"],[0.3333333333333333,\"#9c179e\"],[0.4444444444444444,\"#bd3786\"],[0.5555555555555556,\"#d8576b\"],[0.6666666666666666,\"#ed7953\"],[0.7777777777777778,\"#fb9f3a\"],[0.8888888888888888,\"#fdca26\"],[1.0,\"#f0f921\"]]}],\"surface\":[{\"type\":\"surface\",\"colorbar\":{\"outlinewidth\":0,\"ticks\":\"\"},\"colorscale\":[[0.0,\"#0d0887\"],[0.1111111111111111,\"#46039f\"],[0.2222222222222222,\"#7201a8\"],[0.3333333333333333,\"#9c179e\"],[0.4444444444444444,\"#bd3786\"],[0.5555555555555556,\"#d8576b\"],[0.6666666666666666,\"#ed7953\"],[0.7777777777777778,\"#fb9f3a\"],[0.8888888888888888,\"#fdca26\"],[1.0,\"#f0f921\"]]}],\"mesh3d\":[{\"type\":\"mesh3d\",\"colorbar\":{\"outlinewidth\":0,\"ticks\":\"\"}}],\"scatter\":[{\"fillpattern\":{\"fillmode\":\"overlay\",\"size\":10,\"solidity\":0.2},\"type\":\"scatter\"}],\"parcoords\":[{\"type\":\"parcoords\",\"line\":{\"colorbar\":{\"outlinewidth\":0,\"ticks\":\"\"}}}],\"scatterpolargl\":[{\"type\":\"scatterpolargl\",\"marker\":{\"colorbar\":{\"outlinewidth\":0,\"ticks\":\"\"}}}],\"bar\":[{\"error_x\":{\"color\":\"#2a3f5f\"},\"error_y\":{\"color\":\"#2a3f5f\"},\"marker\":{\"line\":{\"color\":\"#E5ECF6\",\"width\":0.5},\"pattern\":{\"fillmode\":\"overlay\",\"size\":10,\"solidity\":0.2}},\"type\":\"bar\"}],\"scattergeo\":[{\"type\":\"scattergeo\",\"marker\":{\"colorbar\":{\"outlinewidth\":0,\"ticks\":\"\"}}}],\"scatterpolar\":[{\"type\":\"scatterpolar\",\"marker\":{\"colorbar\":{\"outlinewidth\":0,\"ticks\":\"\"}}}],\"histogram\":[{\"marker\":{\"pattern\":{\"fillmode\":\"overlay\",\"size\":10,\"solidity\":0.2}},\"type\":\"histogram\"}],\"scattergl\":[{\"type\":\"scattergl\",\"marker\":{\"colorbar\":{\"outlinewidth\":0,\"ticks\":\"\"}}}],\"scatter3d\":[{\"type\":\"scatter3d\",\"line\":{\"colorbar\":{\"outlinewidth\":0,\"ticks\":\"\"}},\"marker\":{\"colorbar\":{\"outlinewidth\":0,\"ticks\":\"\"}}}],\"scattermapbox\":[{\"type\":\"scattermapbox\",\"marker\":{\"colorbar\":{\"outlinewidth\":0,\"ticks\":\"\"}}}],\"scatterternary\":[{\"type\":\"scatterternary\",\"marker\":{\"colorbar\":{\"outlinewidth\":0,\"ticks\":\"\"}}}],\"scattercarpet\":[{\"type\":\"scattercarpet\",\"marker\":{\"colorbar\":{\"outlinewidth\":0,\"ticks\":\"\"}}}],\"carpet\":[{\"aaxis\":{\"endlinecolor\":\"#2a3f5f\",\"gridcolor\":\"white\",\"linecolor\":\"white\",\"minorgridcolor\":\"white\",\"startlinecolor\":\"#2a3f5f\"},\"baxis\":{\"endlinecolor\":\"#2a3f5f\",\"gridcolor\":\"white\",\"linecolor\":\"white\",\"minorgridcolor\":\"white\",\"startlinecolor\":\"#2a3f5f\"},\"type\":\"carpet\"}],\"table\":[{\"cells\":{\"fill\":{\"color\":\"#EBF0F8\"},\"line\":{\"color\":\"white\"}},\"header\":{\"fill\":{\"color\":\"#C8D4E3\"},\"line\":{\"color\":\"white\"}},\"type\":\"table\"}],\"barpolar\":[{\"marker\":{\"line\":{\"color\":\"#E5ECF6\",\"width\":0.5},\"pattern\":{\"fillmode\":\"overlay\",\"size\":10,\"solidity\":0.2}},\"type\":\"barpolar\"}],\"pie\":[{\"automargin\":true,\"type\":\"pie\"}]},\"layout\":{\"autotypenumbers\":\"strict\",\"colorway\":[\"#636efa\",\"#EF553B\",\"#00cc96\",\"#ab63fa\",\"#FFA15A\",\"#19d3f3\",\"#FF6692\",\"#B6E880\",\"#FF97FF\",\"#FECB52\"],\"font\":{\"color\":\"#2a3f5f\"},\"hovermode\":\"closest\",\"hoverlabel\":{\"align\":\"left\"},\"paper_bgcolor\":\"white\",\"plot_bgcolor\":\"#E5ECF6\",\"polar\":{\"bgcolor\":\"#E5ECF6\",\"angularaxis\":{\"gridcolor\":\"white\",\"linecolor\":\"white\",\"ticks\":\"\"},\"radialaxis\":{\"gridcolor\":\"white\",\"linecolor\":\"white\",\"ticks\":\"\"}},\"ternary\":{\"bgcolor\":\"#E5ECF6\",\"aaxis\":{\"gridcolor\":\"white\",\"linecolor\":\"white\",\"ticks\":\"\"},\"baxis\":{\"gridcolor\":\"white\",\"linecolor\":\"white\",\"ticks\":\"\"},\"caxis\":{\"gridcolor\":\"white\",\"linecolor\":\"white\",\"ticks\":\"\"}},\"coloraxis\":{\"colorbar\":{\"outlinewidth\":0,\"ticks\":\"\"}},\"colorscale\":{\"sequential\":[[0.0,\"#0d0887\"],[0.1111111111111111,\"#46039f\"],[0.2222222222222222,\"#7201a8\"],[0.3333333333333333,\"#9c179e\"],[0.4444444444444444,\"#bd3786\"],[0.5555555555555556,\"#d8576b\"],[0.6666666666666666,\"#ed7953\"],[0.7777777777777778,\"#fb9f3a\"],[0.8888888888888888,\"#fdca26\"],[1.0,\"#f0f921\"]],\"sequentialminus\":[[0.0,\"#0d0887\"],[0.1111111111111111,\"#46039f\"],[0.2222222222222222,\"#7201a8\"],[0.3333333333333333,\"#9c179e\"],[0.4444444444444444,\"#bd3786\"],[0.5555555555555556,\"#d8576b\"],[0.6666666666666666,\"#ed7953\"],[0.7777777777777778,\"#fb9f3a\"],[0.8888888888888888,\"#fdca26\"],[1.0,\"#f0f921\"]],\"diverging\":[[0,\"#8e0152\"],[0.1,\"#c51b7d\"],[0.2,\"#de77ae\"],[0.3,\"#f1b6da\"],[0.4,\"#fde0ef\"],[0.5,\"#f7f7f7\"],[0.6,\"#e6f5d0\"],[0.7,\"#b8e186\"],[0.8,\"#7fbc41\"],[0.9,\"#4d9221\"],[1,\"#276419\"]]},\"xaxis\":{\"gridcolor\":\"white\",\"linecolor\":\"white\",\"ticks\":\"\",\"title\":{\"standoff\":15},\"zerolinecolor\":\"white\",\"automargin\":true,\"zerolinewidth\":2},\"yaxis\":{\"gridcolor\":\"white\",\"linecolor\":\"white\",\"ticks\":\"\",\"title\":{\"standoff\":15},\"zerolinecolor\":\"white\",\"automargin\":true,\"zerolinewidth\":2},\"scene\":{\"xaxis\":{\"backgroundcolor\":\"#E5ECF6\",\"gridcolor\":\"white\",\"linecolor\":\"white\",\"showbackground\":true,\"ticks\":\"\",\"zerolinecolor\":\"white\",\"gridwidth\":2},\"yaxis\":{\"backgroundcolor\":\"#E5ECF6\",\"gridcolor\":\"white\",\"linecolor\":\"white\",\"showbackground\":true,\"ticks\":\"\",\"zerolinecolor\":\"white\",\"gridwidth\":2},\"zaxis\":{\"backgroundcolor\":\"#E5ECF6\",\"gridcolor\":\"white\",\"linecolor\":\"white\",\"showbackground\":true,\"ticks\":\"\",\"zerolinecolor\":\"white\",\"gridwidth\":2}},\"shapedefaults\":{\"line\":{\"color\":\"#2a3f5f\"}},\"annotationdefaults\":{\"arrowcolor\":\"#2a3f5f\",\"arrowhead\":0,\"arrowwidth\":1},\"geo\":{\"bgcolor\":\"white\",\"landcolor\":\"#E5ECF6\",\"subunitcolor\":\"white\",\"showland\":true,\"showlakes\":true,\"lakecolor\":\"white\"},\"title\":{\"x\":0.05},\"mapbox\":{\"style\":\"light\"}}},\"xaxis\":{\"anchor\":\"y\",\"domain\":[0.0,1.0],\"title\":{\"text\":\"Date\"}},\"yaxis\":{\"anchor\":\"x\",\"domain\":[0.0,1.0],\"title\":{\"text\":\"F_Open\"},\"range\":[37441.62109375,39597.359375]},\"legend\":{\"tracegroupgap\":0},\"title\":{\"text\":\"Open value of BankNifty\"}},                        {\"responsive\": true}                    ).then(function(){\n",
              "                            \n",
              "var gd = document.getElementById('44ff0119-43b2-42db-9109-189ace3d49af');\n",
              "var x = new MutationObserver(function (mutations, observer) {{\n",
              "        var display = window.getComputedStyle(gd).display;\n",
              "        if (!display || display === 'none') {{\n",
              "            console.log([gd, 'removed!']);\n",
              "            Plotly.purge(gd);\n",
              "            observer.disconnect();\n",
              "        }}\n",
              "}});\n",
              "\n",
              "// Listen for the removal of the full notebook cells\n",
              "var notebookContainer = gd.closest('#notebook-container');\n",
              "if (notebookContainer) {{\n",
              "    x.observe(notebookContainer, {childList: true});\n",
              "}}\n",
              "\n",
              "// Listen for the clearing of the current output cell\n",
              "var outputEl = gd.closest('.output');\n",
              "if (outputEl) {{\n",
              "    x.observe(outputEl, {childList: true});\n",
              "}}\n",
              "\n",
              "                        })                };                            </script>        </div>\n",
              "</body>\n",
              "</html>"
            ]
          },
          "metadata": {}
        }
      ]
    },
    {
      "cell_type": "code",
      "source": [
        "df_forecast.head()"
      ],
      "metadata": {
        "id": "AFSfOw8VVGxI",
        "colab": {
          "base_uri": "https://localhost:8080/",
          "height": 206
        },
        "outputId": "69e04615-2d9c-4c04-90b7-29a046790d3d"
      },
      "execution_count": 47,
      "outputs": [
        {
          "output_type": "execute_result",
          "data": {
            "text/plain": [
              "        Date  F_Open_lower        F_Open  F_Open_upper\n",
              "0 2023-04-01  38572.660156  38611.261719  38688.488281\n",
              "1 2023-04-02  38607.250000  38645.898438  38723.179688\n",
              "2 2023-04-03  38955.070312  38994.058594  39072.050781\n",
              "3 2023-04-04  39055.890625  39094.980469  39173.171875\n",
              "4 2023-04-05  39181.078125  39220.300781  39298.738281"
            ],
            "text/html": [
              "\n",
              "  <div id=\"df-0813ae7d-24e9-4cfa-8bf0-5de5748f02b6\">\n",
              "    <div class=\"colab-df-container\">\n",
              "      <div>\n",
              "<style scoped>\n",
              "    .dataframe tbody tr th:only-of-type {\n",
              "        vertical-align: middle;\n",
              "    }\n",
              "\n",
              "    .dataframe tbody tr th {\n",
              "        vertical-align: top;\n",
              "    }\n",
              "\n",
              "    .dataframe thead th {\n",
              "        text-align: right;\n",
              "    }\n",
              "</style>\n",
              "<table border=\"1\" class=\"dataframe\">\n",
              "  <thead>\n",
              "    <tr style=\"text-align: right;\">\n",
              "      <th></th>\n",
              "      <th>Date</th>\n",
              "      <th>F_Open_lower</th>\n",
              "      <th>F_Open</th>\n",
              "      <th>F_Open_upper</th>\n",
              "    </tr>\n",
              "  </thead>\n",
              "  <tbody>\n",
              "    <tr>\n",
              "      <th>0</th>\n",
              "      <td>2023-04-01</td>\n",
              "      <td>38572.660156</td>\n",
              "      <td>38611.261719</td>\n",
              "      <td>38688.488281</td>\n",
              "    </tr>\n",
              "    <tr>\n",
              "      <th>1</th>\n",
              "      <td>2023-04-02</td>\n",
              "      <td>38607.250000</td>\n",
              "      <td>38645.898438</td>\n",
              "      <td>38723.179688</td>\n",
              "    </tr>\n",
              "    <tr>\n",
              "      <th>2</th>\n",
              "      <td>2023-04-03</td>\n",
              "      <td>38955.070312</td>\n",
              "      <td>38994.058594</td>\n",
              "      <td>39072.050781</td>\n",
              "    </tr>\n",
              "    <tr>\n",
              "      <th>3</th>\n",
              "      <td>2023-04-04</td>\n",
              "      <td>39055.890625</td>\n",
              "      <td>39094.980469</td>\n",
              "      <td>39173.171875</td>\n",
              "    </tr>\n",
              "    <tr>\n",
              "      <th>4</th>\n",
              "      <td>2023-04-05</td>\n",
              "      <td>39181.078125</td>\n",
              "      <td>39220.300781</td>\n",
              "      <td>39298.738281</td>\n",
              "    </tr>\n",
              "  </tbody>\n",
              "</table>\n",
              "</div>\n",
              "      <button class=\"colab-df-convert\" onclick=\"convertToInteractive('df-0813ae7d-24e9-4cfa-8bf0-5de5748f02b6')\"\n",
              "              title=\"Convert this dataframe to an interactive table.\"\n",
              "              style=\"display:none;\">\n",
              "        \n",
              "  <svg xmlns=\"http://www.w3.org/2000/svg\" height=\"24px\"viewBox=\"0 0 24 24\"\n",
              "       width=\"24px\">\n",
              "    <path d=\"M0 0h24v24H0V0z\" fill=\"none\"/>\n",
              "    <path d=\"M18.56 5.44l.94 2.06.94-2.06 2.06-.94-2.06-.94-.94-2.06-.94 2.06-2.06.94zm-11 1L8.5 8.5l.94-2.06 2.06-.94-2.06-.94L8.5 2.5l-.94 2.06-2.06.94zm10 10l.94 2.06.94-2.06 2.06-.94-2.06-.94-.94-2.06-.94 2.06-2.06.94z\"/><path d=\"M17.41 7.96l-1.37-1.37c-.4-.4-.92-.59-1.43-.59-.52 0-1.04.2-1.43.59L10.3 9.45l-7.72 7.72c-.78.78-.78 2.05 0 2.83L4 21.41c.39.39.9.59 1.41.59.51 0 1.02-.2 1.41-.59l7.78-7.78 2.81-2.81c.8-.78.8-2.07 0-2.86zM5.41 20L4 18.59l7.72-7.72 1.47 1.35L5.41 20z\"/>\n",
              "  </svg>\n",
              "      </button>\n",
              "      \n",
              "  <style>\n",
              "    .colab-df-container {\n",
              "      display:flex;\n",
              "      flex-wrap:wrap;\n",
              "      gap: 12px;\n",
              "    }\n",
              "\n",
              "    .colab-df-convert {\n",
              "      background-color: #E8F0FE;\n",
              "      border: none;\n",
              "      border-radius: 50%;\n",
              "      cursor: pointer;\n",
              "      display: none;\n",
              "      fill: #1967D2;\n",
              "      height: 32px;\n",
              "      padding: 0 0 0 0;\n",
              "      width: 32px;\n",
              "    }\n",
              "\n",
              "    .colab-df-convert:hover {\n",
              "      background-color: #E2EBFA;\n",
              "      box-shadow: 0px 1px 2px rgba(60, 64, 67, 0.3), 0px 1px 3px 1px rgba(60, 64, 67, 0.15);\n",
              "      fill: #174EA6;\n",
              "    }\n",
              "\n",
              "    [theme=dark] .colab-df-convert {\n",
              "      background-color: #3B4455;\n",
              "      fill: #D2E3FC;\n",
              "    }\n",
              "\n",
              "    [theme=dark] .colab-df-convert:hover {\n",
              "      background-color: #434B5C;\n",
              "      box-shadow: 0px 1px 3px 1px rgba(0, 0, 0, 0.15);\n",
              "      filter: drop-shadow(0px 1px 2px rgba(0, 0, 0, 0.3));\n",
              "      fill: #FFFFFF;\n",
              "    }\n",
              "  </style>\n",
              "\n",
              "      <script>\n",
              "        const buttonEl =\n",
              "          document.querySelector('#df-0813ae7d-24e9-4cfa-8bf0-5de5748f02b6 button.colab-df-convert');\n",
              "        buttonEl.style.display =\n",
              "          google.colab.kernel.accessAllowed ? 'block' : 'none';\n",
              "\n",
              "        async function convertToInteractive(key) {\n",
              "          const element = document.querySelector('#df-0813ae7d-24e9-4cfa-8bf0-5de5748f02b6');\n",
              "          const dataTable =\n",
              "            await google.colab.kernel.invokeFunction('convertToInteractive',\n",
              "                                                     [key], {});\n",
              "          if (!dataTable) return;\n",
              "\n",
              "          const docLinkHtml = 'Like what you see? Visit the ' +\n",
              "            '<a target=\"_blank\" href=https://colab.research.google.com/notebooks/data_table.ipynb>data table notebook</a>'\n",
              "            + ' to learn more about interactive tables.';\n",
              "          element.innerHTML = '';\n",
              "          dataTable['output_type'] = 'display_data';\n",
              "          await google.colab.output.renderOutput(dataTable, element);\n",
              "          const docLink = document.createElement('div');\n",
              "          docLink.innerHTML = docLinkHtml;\n",
              "          element.appendChild(docLink);\n",
              "        }\n",
              "      </script>\n",
              "    </div>\n",
              "  </div>\n",
              "  "
            ]
          },
          "metadata": {},
          "execution_count": 47
        }
      ]
    },
    {
      "cell_type": "code",
      "source": [
        "# # save the scaler\n",
        "# import pickle\n",
        "# pickle.dump(Scale, open('/content/drive/MyDrive/Colab Notebooks/Scale.pkl', 'wb'))\n",
        "# # load the scaler\n",
        "# Scale = pickle.load(open('/content/drive/MyDrive/Colab Notebooks/Scale.pkl', 'rb'))"
      ],
      "metadata": {
        "id": "_dLNi55403j6"
      },
      "execution_count": null,
      "outputs": []
    },
    {
      "cell_type": "code",
      "source": [
        "# # Calling `save('my_model.h5')` creates a h5 file `my_model.h5`.\n",
        "# model.save(\"/content/drive/MyDrive/Colab Notebooks/my_h5_model.h5\")\n",
        "# # It can be used to reconstruct the model identically.\n",
        "# saved_model = keras.models.load_model(\"/content/drive/MyDrive/Colab Notebooks/my_h5_model.h5\")"
      ],
      "metadata": {
        "id": "naimyhsGATRM"
      },
      "execution_count": null,
      "outputs": []
    },
    {
      "cell_type": "code",
      "source": [
        "import os\n",
        "os.getcwd()"
      ],
      "metadata": {
        "id": "oBL-4kGLDJ2q",
        "colab": {
          "base_uri": "https://localhost:8080/",
          "height": 35
        },
        "outputId": "5bbb57c2-a515-428a-f75f-bf57269c51a4"
      },
      "execution_count": 34,
      "outputs": [
        {
          "output_type": "execute_result",
          "data": {
            "text/plain": [
              "'/content'"
            ],
            "application/vnd.google.colaboratory.intrinsic+json": {
              "type": "string"
            }
          },
          "metadata": {},
          "execution_count": 34
        }
      ]
    },
    {
      "cell_type": "code",
      "source": [],
      "metadata": {
        "id": "EObFtKLXIGGJ"
      },
      "execution_count": null,
      "outputs": []
    },
    {
      "cell_type": "markdown",
      "source": [
        "## 2.2 FBPROPHET"
      ],
      "metadata": {
        "id": "A6DEOLjyn_0b"
      }
    },
    {
      "cell_type": "code",
      "source": [
        "# !pip install --user kats\n",
        "# !pip install pystan==2.19.1.1\n",
        "# !pip install fbprophet==0.7.1"
      ],
      "metadata": {
        "id": "CbGEcZzWn9UM"
      },
      "execution_count": 43,
      "outputs": []
    },
    {
      "cell_type": "code",
      "source": [
        "# n_pred_future = 30\n",
        "# from kats.consts import TimeSeriesData as tsd\n",
        "# data = tsd(processed_data[['Date','Open']])\n",
        "# from kats.models.prophet import ProphetModel\n",
        "# from kats.models.prophet import ProphetParams\n",
        "\n",
        "# parms = ProphetParams(seasonality_mode='multiplicative', interval_width=0.95)\n",
        "# model = ProphetModel(data,parms)\n",
        "# model.fit()\n",
        "# forcast = model.predict(steps = n_pred_future, freq=\"D\")"
      ],
      "metadata": {
        "id": "kzWHSm7ZtGJv"
      },
      "execution_count": 22,
      "outputs": []
    },
    {
      "cell_type": "code",
      "source": [
        "from prophet import Prophet\n",
        "\n",
        "data = processed_data[['Date','Open']]\n",
        "data.columns = ['ds','y']\n",
        "n_pred_future = 30\n",
        "#m = Prophet(seasonality_mode='multiplicative', interval_width=0.999)\n",
        "m = Prophet(seasonality_mode='multiplicative')\n",
        "m.fit(data)\n",
        "future = m.make_future_dataframe(n_pred_future, freq='D', include_history=False)\n",
        "p_forecast = m.predict(future)\n",
        "p_forecast = p_forecast[['ds', 'yhat', 'yhat_lower', 'yhat_upper']]\n",
        "p_forecast['yhat_lower'] = p_forecast['yhat'] * 0.999\n",
        "p_forecast['yhat_upper'] = p_forecast['yhat'] * 1.002\n",
        "p_forecast.rename(columns = {'ds':'Date','yhat':'F_Open','yhat_lower':'F_Open_lower','yhat_upper':'F_Open_upper'}, inplace = True)\n",
        "p_forecast = p_forecast.round(2)"
      ],
      "metadata": {
        "colab": {
          "base_uri": "https://localhost:8080/"
        },
        "id": "fsk9d4GgtGNC",
        "outputId": "08b99ef4-106f-41a3-a60a-5f5d7c9c7817"
      },
      "execution_count": 36,
      "outputs": [
        {
          "output_type": "stream",
          "name": "stderr",
          "text": [
            "INFO:prophet:Disabling daily seasonality. Run prophet with daily_seasonality=True to override this.\n",
            "DEBUG:cmdstanpy:input tempfile: /tmp/tmpot7ymnwd/mf89r07x.json\n",
            "DEBUG:cmdstanpy:input tempfile: /tmp/tmpot7ymnwd/7apk55ro.json\n",
            "DEBUG:cmdstanpy:idx 0\n",
            "DEBUG:cmdstanpy:running CmdStan, num_threads: None\n",
            "DEBUG:cmdstanpy:CmdStan args: ['/usr/local/lib/python3.9/dist-packages/prophet/stan_model/prophet_model.bin', 'random', 'seed=3295', 'data', 'file=/tmp/tmpot7ymnwd/mf89r07x.json', 'init=/tmp/tmpot7ymnwd/7apk55ro.json', 'output', 'file=/tmp/tmpot7ymnwd/prophet_modelnsqufgnf/prophet_model-20230401174511.csv', 'method=optimize', 'algorithm=lbfgs', 'iter=10000']\n",
            "17:45:11 - cmdstanpy - INFO - Chain [1] start processing\n",
            "INFO:cmdstanpy:Chain [1] start processing\n",
            "17:45:16 - cmdstanpy - INFO - Chain [1] done processing\n",
            "INFO:cmdstanpy:Chain [1] done processing\n"
          ]
        }
      ]
    },
    {
      "cell_type": "code",
      "source": [
        "p_forecast.head()"
      ],
      "metadata": {
        "colab": {
          "base_uri": "https://localhost:8080/",
          "height": 206
        },
        "id": "4dsTWAFLn97Z",
        "outputId": "66c5aab8-79c0-4f24-82fb-071e0fac9a29"
      },
      "execution_count": 37,
      "outputs": [
        {
          "output_type": "execute_result",
          "data": {
            "text/plain": [
              "        Date    F_Open  F_Open_lower  F_Open_upper\n",
              "0 2023-04-01  41789.37      41747.59      41872.95\n",
              "1 2023-04-02  41821.31      41779.48      41904.95\n",
              "2 2023-04-03  41865.01      41823.14      41948.74\n",
              "3 2023-04-04  41928.32      41886.39      42012.18\n",
              "4 2023-04-05  42035.15      41993.12      42119.22"
            ],
            "text/html": [
              "\n",
              "  <div id=\"df-10bf8689-ae45-491c-a248-53578227b910\">\n",
              "    <div class=\"colab-df-container\">\n",
              "      <div>\n",
              "<style scoped>\n",
              "    .dataframe tbody tr th:only-of-type {\n",
              "        vertical-align: middle;\n",
              "    }\n",
              "\n",
              "    .dataframe tbody tr th {\n",
              "        vertical-align: top;\n",
              "    }\n",
              "\n",
              "    .dataframe thead th {\n",
              "        text-align: right;\n",
              "    }\n",
              "</style>\n",
              "<table border=\"1\" class=\"dataframe\">\n",
              "  <thead>\n",
              "    <tr style=\"text-align: right;\">\n",
              "      <th></th>\n",
              "      <th>Date</th>\n",
              "      <th>F_Open</th>\n",
              "      <th>F_Open_lower</th>\n",
              "      <th>F_Open_upper</th>\n",
              "    </tr>\n",
              "  </thead>\n",
              "  <tbody>\n",
              "    <tr>\n",
              "      <th>0</th>\n",
              "      <td>2023-04-01</td>\n",
              "      <td>41789.37</td>\n",
              "      <td>41747.59</td>\n",
              "      <td>41872.95</td>\n",
              "    </tr>\n",
              "    <tr>\n",
              "      <th>1</th>\n",
              "      <td>2023-04-02</td>\n",
              "      <td>41821.31</td>\n",
              "      <td>41779.48</td>\n",
              "      <td>41904.95</td>\n",
              "    </tr>\n",
              "    <tr>\n",
              "      <th>2</th>\n",
              "      <td>2023-04-03</td>\n",
              "      <td>41865.01</td>\n",
              "      <td>41823.14</td>\n",
              "      <td>41948.74</td>\n",
              "    </tr>\n",
              "    <tr>\n",
              "      <th>3</th>\n",
              "      <td>2023-04-04</td>\n",
              "      <td>41928.32</td>\n",
              "      <td>41886.39</td>\n",
              "      <td>42012.18</td>\n",
              "    </tr>\n",
              "    <tr>\n",
              "      <th>4</th>\n",
              "      <td>2023-04-05</td>\n",
              "      <td>42035.15</td>\n",
              "      <td>41993.12</td>\n",
              "      <td>42119.22</td>\n",
              "    </tr>\n",
              "  </tbody>\n",
              "</table>\n",
              "</div>\n",
              "      <button class=\"colab-df-convert\" onclick=\"convertToInteractive('df-10bf8689-ae45-491c-a248-53578227b910')\"\n",
              "              title=\"Convert this dataframe to an interactive table.\"\n",
              "              style=\"display:none;\">\n",
              "        \n",
              "  <svg xmlns=\"http://www.w3.org/2000/svg\" height=\"24px\"viewBox=\"0 0 24 24\"\n",
              "       width=\"24px\">\n",
              "    <path d=\"M0 0h24v24H0V0z\" fill=\"none\"/>\n",
              "    <path d=\"M18.56 5.44l.94 2.06.94-2.06 2.06-.94-2.06-.94-.94-2.06-.94 2.06-2.06.94zm-11 1L8.5 8.5l.94-2.06 2.06-.94-2.06-.94L8.5 2.5l-.94 2.06-2.06.94zm10 10l.94 2.06.94-2.06 2.06-.94-2.06-.94-.94-2.06-.94 2.06-2.06.94z\"/><path d=\"M17.41 7.96l-1.37-1.37c-.4-.4-.92-.59-1.43-.59-.52 0-1.04.2-1.43.59L10.3 9.45l-7.72 7.72c-.78.78-.78 2.05 0 2.83L4 21.41c.39.39.9.59 1.41.59.51 0 1.02-.2 1.41-.59l7.78-7.78 2.81-2.81c.8-.78.8-2.07 0-2.86zM5.41 20L4 18.59l7.72-7.72 1.47 1.35L5.41 20z\"/>\n",
              "  </svg>\n",
              "      </button>\n",
              "      \n",
              "  <style>\n",
              "    .colab-df-container {\n",
              "      display:flex;\n",
              "      flex-wrap:wrap;\n",
              "      gap: 12px;\n",
              "    }\n",
              "\n",
              "    .colab-df-convert {\n",
              "      background-color: #E8F0FE;\n",
              "      border: none;\n",
              "      border-radius: 50%;\n",
              "      cursor: pointer;\n",
              "      display: none;\n",
              "      fill: #1967D2;\n",
              "      height: 32px;\n",
              "      padding: 0 0 0 0;\n",
              "      width: 32px;\n",
              "    }\n",
              "\n",
              "    .colab-df-convert:hover {\n",
              "      background-color: #E2EBFA;\n",
              "      box-shadow: 0px 1px 2px rgba(60, 64, 67, 0.3), 0px 1px 3px 1px rgba(60, 64, 67, 0.15);\n",
              "      fill: #174EA6;\n",
              "    }\n",
              "\n",
              "    [theme=dark] .colab-df-convert {\n",
              "      background-color: #3B4455;\n",
              "      fill: #D2E3FC;\n",
              "    }\n",
              "\n",
              "    [theme=dark] .colab-df-convert:hover {\n",
              "      background-color: #434B5C;\n",
              "      box-shadow: 0px 1px 3px 1px rgba(0, 0, 0, 0.15);\n",
              "      filter: drop-shadow(0px 1px 2px rgba(0, 0, 0, 0.3));\n",
              "      fill: #FFFFFF;\n",
              "    }\n",
              "  </style>\n",
              "\n",
              "      <script>\n",
              "        const buttonEl =\n",
              "          document.querySelector('#df-10bf8689-ae45-491c-a248-53578227b910 button.colab-df-convert');\n",
              "        buttonEl.style.display =\n",
              "          google.colab.kernel.accessAllowed ? 'block' : 'none';\n",
              "\n",
              "        async function convertToInteractive(key) {\n",
              "          const element = document.querySelector('#df-10bf8689-ae45-491c-a248-53578227b910');\n",
              "          const dataTable =\n",
              "            await google.colab.kernel.invokeFunction('convertToInteractive',\n",
              "                                                     [key], {});\n",
              "          if (!dataTable) return;\n",
              "\n",
              "          const docLinkHtml = 'Like what you see? Visit the ' +\n",
              "            '<a target=\"_blank\" href=https://colab.research.google.com/notebooks/data_table.ipynb>data table notebook</a>'\n",
              "            + ' to learn more about interactive tables.';\n",
              "          element.innerHTML = '';\n",
              "          dataTable['output_type'] = 'display_data';\n",
              "          await google.colab.output.renderOutput(dataTable, element);\n",
              "          const docLink = document.createElement('div');\n",
              "          docLink.innerHTML = docLinkHtml;\n",
              "          element.appendChild(docLink);\n",
              "        }\n",
              "      </script>\n",
              "    </div>\n",
              "  </div>\n",
              "  "
            ]
          },
          "metadata": {},
          "execution_count": 37
        }
      ]
    },
    {
      "cell_type": "code",
      "source": [],
      "metadata": {
        "id": "QrTCGHstn-DV"
      },
      "execution_count": null,
      "outputs": []
    },
    {
      "cell_type": "code",
      "source": [],
      "metadata": {
        "id": "J9CGmYn4n-Gp"
      },
      "execution_count": null,
      "outputs": []
    },
    {
      "cell_type": "markdown",
      "source": [
        "# 3. Dump forcast results"
      ],
      "metadata": {
        "id": "gXxr8HRkYTo-"
      }
    },
    {
      "cell_type": "code",
      "source": [
        "today = dt.date.today()\n",
        "currentMonth = today.strftime(\"%b\")"
      ],
      "metadata": {
        "id": "3GKKtn7jYYXL"
      },
      "execution_count": 31,
      "outputs": []
    },
    {
      "cell_type": "code",
      "source": [
        "import os\n",
        "path = f'/content/drive/MyDrive/Colab Notebooks/{currentMonth}'\n",
        "isExist = os.path.exists(path)\n",
        "if not isExist:\n",
        "  # Create a new directory because it does not exist\n",
        "  os.makedirs(path)"
      ],
      "metadata": {
        "id": "f_EnS4p1dZ55"
      },
      "execution_count": 33,
      "outputs": []
    },
    {
      "cell_type": "code",
      "source": [
        "# for LSTM\n",
        "lstm_path = f'/content/drive/MyDrive/Colab Notebooks/{currentMonth}/BankNifty_{currentMonth}_lstm.xlsx'\n",
        "df_forecast.to_excel(lstm_path, index=False)"
      ],
      "metadata": {
        "id": "b5kvSfW7ZeGp"
      },
      "execution_count": 48,
      "outputs": []
    },
    {
      "cell_type": "code",
      "source": [
        "# for Prophet\n",
        "prophet_path = f'/content/drive/MyDrive/Colab Notebooks/{currentMonth}/BankNifty_{currentMonth}_prophet.xlsx'\n",
        "p_forecast.to_excel(prophet_path, index=False)"
      ],
      "metadata": {
        "id": "YetzRP39eKSB"
      },
      "execution_count": 38,
      "outputs": []
    },
    {
      "cell_type": "code",
      "source": [],
      "metadata": {
        "id": "ZKvsGY484Rb9"
      },
      "execution_count": null,
      "outputs": []
    },
    {
      "cell_type": "code",
      "source": [],
      "metadata": {
        "id": "icIVv48dj3pE"
      },
      "execution_count": null,
      "outputs": []
    },
    {
      "cell_type": "code",
      "source": [],
      "metadata": {
        "id": "-GBsUAYLj4FG"
      },
      "execution_count": null,
      "outputs": []
    },
    {
      "cell_type": "code",
      "source": [],
      "metadata": {
        "id": "RcXo-YMVj4Ks"
      },
      "execution_count": null,
      "outputs": []
    },
    {
      "cell_type": "markdown",
      "source": [
        "# 4. Checking anamoly"
      ],
      "metadata": {
        "id": "GYwtp6HceLtV"
      }
    },
    {
      "cell_type": "markdown",
      "source": [
        "## 4.1 LSTM"
      ],
      "metadata": {
        "id": "uvhWhhRJfhNL"
      }
    },
    {
      "cell_type": "code",
      "source": [
        "import os\n",
        "import datetime as dt\n",
        "import pandas as pd\n",
        "import numpy as np\n",
        "import yfinance as yf"
      ],
      "metadata": {
        "id": "7t0vOeu8fcir"
      },
      "execution_count": 2,
      "outputs": []
    },
    {
      "cell_type": "code",
      "source": [
        "today = dt.date.today()\n",
        "currentMonth = today.strftime(\"%b\")"
      ],
      "metadata": {
        "id": "jq13CCXghWtu"
      },
      "execution_count": 6,
      "outputs": []
    },
    {
      "cell_type": "code",
      "source": [
        "lstm_path = f'/content/drive/MyDrive/Colab Notebooks/{currentMonth}/BankNifty_{currentMonth}_lstm.xlsx'\n",
        "df = pd.read_excel(lstm_path)\n",
        "df['Date'] = pd.to_datetime(df['Date'], format='%Y-%m-%d').dt.floor('D')\n",
        "df = df[df['Date']==today.strftime('%Y-%m-%d')]"
      ],
      "metadata": {
        "id": "TI307tXUeRTr"
      },
      "execution_count": 8,
      "outputs": []
    },
    {
      "cell_type": "code",
      "source": [
        "df"
      ],
      "metadata": {
        "id": "F8g43t48eYbN",
        "colab": {
          "base_uri": "https://localhost:8080/",
          "height": 81
        },
        "outputId": "f1f08b2d-8804-4ef1-d574-5a4945d1505e"
      },
      "execution_count": 9,
      "outputs": [
        {
          "output_type": "execute_result",
          "data": {
            "text/plain": [
              "        Date  F_Open_lower        F_Open  F_Open_upper\n",
              "1 2023-03-31  38569.511719  38608.121094  38685.328125"
            ],
            "text/html": [
              "\n",
              "  <div id=\"df-7b2b817d-f420-4bcd-9621-313dc57955fa\">\n",
              "    <div class=\"colab-df-container\">\n",
              "      <div>\n",
              "<style scoped>\n",
              "    .dataframe tbody tr th:only-of-type {\n",
              "        vertical-align: middle;\n",
              "    }\n",
              "\n",
              "    .dataframe tbody tr th {\n",
              "        vertical-align: top;\n",
              "    }\n",
              "\n",
              "    .dataframe thead th {\n",
              "        text-align: right;\n",
              "    }\n",
              "</style>\n",
              "<table border=\"1\" class=\"dataframe\">\n",
              "  <thead>\n",
              "    <tr style=\"text-align: right;\">\n",
              "      <th></th>\n",
              "      <th>Date</th>\n",
              "      <th>F_Open_lower</th>\n",
              "      <th>F_Open</th>\n",
              "      <th>F_Open_upper</th>\n",
              "    </tr>\n",
              "  </thead>\n",
              "  <tbody>\n",
              "    <tr>\n",
              "      <th>1</th>\n",
              "      <td>2023-03-31</td>\n",
              "      <td>38569.511719</td>\n",
              "      <td>38608.121094</td>\n",
              "      <td>38685.328125</td>\n",
              "    </tr>\n",
              "  </tbody>\n",
              "</table>\n",
              "</div>\n",
              "      <button class=\"colab-df-convert\" onclick=\"convertToInteractive('df-7b2b817d-f420-4bcd-9621-313dc57955fa')\"\n",
              "              title=\"Convert this dataframe to an interactive table.\"\n",
              "              style=\"display:none;\">\n",
              "        \n",
              "  <svg xmlns=\"http://www.w3.org/2000/svg\" height=\"24px\"viewBox=\"0 0 24 24\"\n",
              "       width=\"24px\">\n",
              "    <path d=\"M0 0h24v24H0V0z\" fill=\"none\"/>\n",
              "    <path d=\"M18.56 5.44l.94 2.06.94-2.06 2.06-.94-2.06-.94-.94-2.06-.94 2.06-2.06.94zm-11 1L8.5 8.5l.94-2.06 2.06-.94-2.06-.94L8.5 2.5l-.94 2.06-2.06.94zm10 10l.94 2.06.94-2.06 2.06-.94-2.06-.94-.94-2.06-.94 2.06-2.06.94z\"/><path d=\"M17.41 7.96l-1.37-1.37c-.4-.4-.92-.59-1.43-.59-.52 0-1.04.2-1.43.59L10.3 9.45l-7.72 7.72c-.78.78-.78 2.05 0 2.83L4 21.41c.39.39.9.59 1.41.59.51 0 1.02-.2 1.41-.59l7.78-7.78 2.81-2.81c.8-.78.8-2.07 0-2.86zM5.41 20L4 18.59l7.72-7.72 1.47 1.35L5.41 20z\"/>\n",
              "  </svg>\n",
              "      </button>\n",
              "      \n",
              "  <style>\n",
              "    .colab-df-container {\n",
              "      display:flex;\n",
              "      flex-wrap:wrap;\n",
              "      gap: 12px;\n",
              "    }\n",
              "\n",
              "    .colab-df-convert {\n",
              "      background-color: #E8F0FE;\n",
              "      border: none;\n",
              "      border-radius: 50%;\n",
              "      cursor: pointer;\n",
              "      display: none;\n",
              "      fill: #1967D2;\n",
              "      height: 32px;\n",
              "      padding: 0 0 0 0;\n",
              "      width: 32px;\n",
              "    }\n",
              "\n",
              "    .colab-df-convert:hover {\n",
              "      background-color: #E2EBFA;\n",
              "      box-shadow: 0px 1px 2px rgba(60, 64, 67, 0.3), 0px 1px 3px 1px rgba(60, 64, 67, 0.15);\n",
              "      fill: #174EA6;\n",
              "    }\n",
              "\n",
              "    [theme=dark] .colab-df-convert {\n",
              "      background-color: #3B4455;\n",
              "      fill: #D2E3FC;\n",
              "    }\n",
              "\n",
              "    [theme=dark] .colab-df-convert:hover {\n",
              "      background-color: #434B5C;\n",
              "      box-shadow: 0px 1px 3px 1px rgba(0, 0, 0, 0.15);\n",
              "      filter: drop-shadow(0px 1px 2px rgba(0, 0, 0, 0.3));\n",
              "      fill: #FFFFFF;\n",
              "    }\n",
              "  </style>\n",
              "\n",
              "      <script>\n",
              "        const buttonEl =\n",
              "          document.querySelector('#df-7b2b817d-f420-4bcd-9621-313dc57955fa button.colab-df-convert');\n",
              "        buttonEl.style.display =\n",
              "          google.colab.kernel.accessAllowed ? 'block' : 'none';\n",
              "\n",
              "        async function convertToInteractive(key) {\n",
              "          const element = document.querySelector('#df-7b2b817d-f420-4bcd-9621-313dc57955fa');\n",
              "          const dataTable =\n",
              "            await google.colab.kernel.invokeFunction('convertToInteractive',\n",
              "                                                     [key], {});\n",
              "          if (!dataTable) return;\n",
              "\n",
              "          const docLinkHtml = 'Like what you see? Visit the ' +\n",
              "            '<a target=\"_blank\" href=https://colab.research.google.com/notebooks/data_table.ipynb>data table notebook</a>'\n",
              "            + ' to learn more about interactive tables.';\n",
              "          element.innerHTML = '';\n",
              "          dataTable['output_type'] = 'display_data';\n",
              "          await google.colab.output.renderOutput(dataTable, element);\n",
              "          const docLink = document.createElement('div');\n",
              "          docLink.innerHTML = docLinkHtml;\n",
              "          element.appendChild(docLink);\n",
              "        }\n",
              "      </script>\n",
              "    </div>\n",
              "  </div>\n",
              "  "
            ]
          },
          "metadata": {},
          "execution_count": 9
        }
      ]
    },
    {
      "cell_type": "code",
      "source": [
        "# read the result file\n",
        "result_path = f'/content/drive/MyDrive/Colab Notebooks/{currentMonth}/BankNifty_{currentMonth}_result.xlsx'\n",
        "isExist = os.path.exists(result_path)\n",
        "if not isExist:\n",
        "  result = pd.DataFrame()\n",
        "else :\n",
        "  result = pd.read_excel(result_path)"
      ],
      "metadata": {
        "id": "E7LYoW9IeiWq"
      },
      "execution_count": 89,
      "outputs": []
    },
    {
      "cell_type": "code",
      "source": [],
      "metadata": {
        "id": "UD68HHNVe8FD"
      },
      "execution_count": 9,
      "outputs": []
    },
    {
      "cell_type": "code",
      "source": [
        "df1= yf.download(tickers = \"^NSEBANK\",\n",
        "            start = today,\n",
        "            interval = \"1d\",\n",
        "            ignore_tz = True,\n",
        "            prepost = False\n",
        "            ).reset_index()\n",
        "df1 = df1[['Date','Open']]\n",
        "df1"
      ],
      "metadata": {
        "id": "JhLxc23EfTY0",
        "colab": {
          "base_uri": "https://localhost:8080/",
          "height": 98
        },
        "outputId": "12b0836c-1c81-4d5d-b010-0fec8481d8ff"
      },
      "execution_count": 11,
      "outputs": [
        {
          "output_type": "stream",
          "name": "stdout",
          "text": [
            "\r[*********************100%***********************]  1 of 1 completed\n"
          ]
        },
        {
          "output_type": "execute_result",
          "data": {
            "text/plain": [
              "        Date      Open\n",
              "0 2023-03-31  40231.25"
            ],
            "text/html": [
              "\n",
              "  <div id=\"df-69e2a33d-4658-44ac-950c-6cb92dd1da20\">\n",
              "    <div class=\"colab-df-container\">\n",
              "      <div>\n",
              "<style scoped>\n",
              "    .dataframe tbody tr th:only-of-type {\n",
              "        vertical-align: middle;\n",
              "    }\n",
              "\n",
              "    .dataframe tbody tr th {\n",
              "        vertical-align: top;\n",
              "    }\n",
              "\n",
              "    .dataframe thead th {\n",
              "        text-align: right;\n",
              "    }\n",
              "</style>\n",
              "<table border=\"1\" class=\"dataframe\">\n",
              "  <thead>\n",
              "    <tr style=\"text-align: right;\">\n",
              "      <th></th>\n",
              "      <th>Date</th>\n",
              "      <th>Open</th>\n",
              "    </tr>\n",
              "  </thead>\n",
              "  <tbody>\n",
              "    <tr>\n",
              "      <th>0</th>\n",
              "      <td>2023-03-31</td>\n",
              "      <td>40231.25</td>\n",
              "    </tr>\n",
              "  </tbody>\n",
              "</table>\n",
              "</div>\n",
              "      <button class=\"colab-df-convert\" onclick=\"convertToInteractive('df-69e2a33d-4658-44ac-950c-6cb92dd1da20')\"\n",
              "              title=\"Convert this dataframe to an interactive table.\"\n",
              "              style=\"display:none;\">\n",
              "        \n",
              "  <svg xmlns=\"http://www.w3.org/2000/svg\" height=\"24px\"viewBox=\"0 0 24 24\"\n",
              "       width=\"24px\">\n",
              "    <path d=\"M0 0h24v24H0V0z\" fill=\"none\"/>\n",
              "    <path d=\"M18.56 5.44l.94 2.06.94-2.06 2.06-.94-2.06-.94-.94-2.06-.94 2.06-2.06.94zm-11 1L8.5 8.5l.94-2.06 2.06-.94-2.06-.94L8.5 2.5l-.94 2.06-2.06.94zm10 10l.94 2.06.94-2.06 2.06-.94-2.06-.94-.94-2.06-.94 2.06-2.06.94z\"/><path d=\"M17.41 7.96l-1.37-1.37c-.4-.4-.92-.59-1.43-.59-.52 0-1.04.2-1.43.59L10.3 9.45l-7.72 7.72c-.78.78-.78 2.05 0 2.83L4 21.41c.39.39.9.59 1.41.59.51 0 1.02-.2 1.41-.59l7.78-7.78 2.81-2.81c.8-.78.8-2.07 0-2.86zM5.41 20L4 18.59l7.72-7.72 1.47 1.35L5.41 20z\"/>\n",
              "  </svg>\n",
              "      </button>\n",
              "      \n",
              "  <style>\n",
              "    .colab-df-container {\n",
              "      display:flex;\n",
              "      flex-wrap:wrap;\n",
              "      gap: 12px;\n",
              "    }\n",
              "\n",
              "    .colab-df-convert {\n",
              "      background-color: #E8F0FE;\n",
              "      border: none;\n",
              "      border-radius: 50%;\n",
              "      cursor: pointer;\n",
              "      display: none;\n",
              "      fill: #1967D2;\n",
              "      height: 32px;\n",
              "      padding: 0 0 0 0;\n",
              "      width: 32px;\n",
              "    }\n",
              "\n",
              "    .colab-df-convert:hover {\n",
              "      background-color: #E2EBFA;\n",
              "      box-shadow: 0px 1px 2px rgba(60, 64, 67, 0.3), 0px 1px 3px 1px rgba(60, 64, 67, 0.15);\n",
              "      fill: #174EA6;\n",
              "    }\n",
              "\n",
              "    [theme=dark] .colab-df-convert {\n",
              "      background-color: #3B4455;\n",
              "      fill: #D2E3FC;\n",
              "    }\n",
              "\n",
              "    [theme=dark] .colab-df-convert:hover {\n",
              "      background-color: #434B5C;\n",
              "      box-shadow: 0px 1px 3px 1px rgba(0, 0, 0, 0.15);\n",
              "      filter: drop-shadow(0px 1px 2px rgba(0, 0, 0, 0.3));\n",
              "      fill: #FFFFFF;\n",
              "    }\n",
              "  </style>\n",
              "\n",
              "      <script>\n",
              "        const buttonEl =\n",
              "          document.querySelector('#df-69e2a33d-4658-44ac-950c-6cb92dd1da20 button.colab-df-convert');\n",
              "        buttonEl.style.display =\n",
              "          google.colab.kernel.accessAllowed ? 'block' : 'none';\n",
              "\n",
              "        async function convertToInteractive(key) {\n",
              "          const element = document.querySelector('#df-69e2a33d-4658-44ac-950c-6cb92dd1da20');\n",
              "          const dataTable =\n",
              "            await google.colab.kernel.invokeFunction('convertToInteractive',\n",
              "                                                     [key], {});\n",
              "          if (!dataTable) return;\n",
              "\n",
              "          const docLinkHtml = 'Like what you see? Visit the ' +\n",
              "            '<a target=\"_blank\" href=https://colab.research.google.com/notebooks/data_table.ipynb>data table notebook</a>'\n",
              "            + ' to learn more about interactive tables.';\n",
              "          element.innerHTML = '';\n",
              "          dataTable['output_type'] = 'display_data';\n",
              "          await google.colab.output.renderOutput(dataTable, element);\n",
              "          const docLink = document.createElement('div');\n",
              "          docLink.innerHTML = docLinkHtml;\n",
              "          element.appendChild(docLink);\n",
              "        }\n",
              "      </script>\n",
              "    </div>\n",
              "  </div>\n",
              "  "
            ]
          },
          "metadata": {},
          "execution_count": 11
        }
      ]
    },
    {
      "cell_type": "code",
      "source": [
        "today_result = pd.DataFrame()\n",
        "today_result['Date'] = df1['Date']\n",
        "today_result['Open'] = df1['Open']\n",
        "today_result['F_Open'] = df['F_Open'].values\n",
        "today_result['F_Open_lower'] = df['F_Open_lower'].values\n",
        "today_result['F_Open_upper'] = df['F_Open_upper'].values\n",
        "today_result['Date'] = pd.to_datetime(today_result['Date'], format='%Y-%m-%d').dt.floor('D')\n",
        "today_result['Comment'] = np.where(\n",
        "    today_result['Open'] < today_result['F_Open_lower'], 'below lower level',\n",
        "    np.where(\n",
        "        (today_result['F_Open_lower'] <= today_result['Open']) & (today_result['Open'] < today_result['F_Open']), \n",
        "        'between low and open level',\n",
        "        np.where(\n",
        "            (today_result['F_Open'] <= today_result['Open']) & (today_result['Open'] < today_result['F_Open_upper']), \n",
        "            'between open and high level', \n",
        "            'above high'\n",
        "        )\n",
        "    )\n",
        ")\n",
        "today_result['F_Method'] = 'lstm'"
      ],
      "metadata": {
        "id": "06F1LFAwg1NT"
      },
      "execution_count": 98,
      "outputs": []
    },
    {
      "cell_type": "code",
      "source": [
        "today_result"
      ],
      "metadata": {
        "colab": {
          "base_uri": "https://localhost:8080/",
          "height": 81
        },
        "id": "5T2WIqR8RpC-",
        "outputId": "7070efa2-cf3d-4944-aa60-60ed4899955a"
      },
      "execution_count": 99,
      "outputs": [
        {
          "output_type": "execute_result",
          "data": {
            "text/plain": [
              "        Date      Open        F_Open  F_Open_lower  F_Open_upper     Comment  \\\n",
              "0 2023-03-31  40231.25  38608.121094  38569.511719  38685.328125  above high   \n",
              "\n",
              "  F_Method  \n",
              "0     lstm  "
            ],
            "text/html": [
              "\n",
              "  <div id=\"df-c202bfda-48ff-4967-9561-82eec8e772c4\">\n",
              "    <div class=\"colab-df-container\">\n",
              "      <div>\n",
              "<style scoped>\n",
              "    .dataframe tbody tr th:only-of-type {\n",
              "        vertical-align: middle;\n",
              "    }\n",
              "\n",
              "    .dataframe tbody tr th {\n",
              "        vertical-align: top;\n",
              "    }\n",
              "\n",
              "    .dataframe thead th {\n",
              "        text-align: right;\n",
              "    }\n",
              "</style>\n",
              "<table border=\"1\" class=\"dataframe\">\n",
              "  <thead>\n",
              "    <tr style=\"text-align: right;\">\n",
              "      <th></th>\n",
              "      <th>Date</th>\n",
              "      <th>Open</th>\n",
              "      <th>F_Open</th>\n",
              "      <th>F_Open_lower</th>\n",
              "      <th>F_Open_upper</th>\n",
              "      <th>Comment</th>\n",
              "      <th>F_Method</th>\n",
              "    </tr>\n",
              "  </thead>\n",
              "  <tbody>\n",
              "    <tr>\n",
              "      <th>0</th>\n",
              "      <td>2023-03-31</td>\n",
              "      <td>40231.25</td>\n",
              "      <td>38608.121094</td>\n",
              "      <td>38569.511719</td>\n",
              "      <td>38685.328125</td>\n",
              "      <td>above high</td>\n",
              "      <td>lstm</td>\n",
              "    </tr>\n",
              "  </tbody>\n",
              "</table>\n",
              "</div>\n",
              "      <button class=\"colab-df-convert\" onclick=\"convertToInteractive('df-c202bfda-48ff-4967-9561-82eec8e772c4')\"\n",
              "              title=\"Convert this dataframe to an interactive table.\"\n",
              "              style=\"display:none;\">\n",
              "        \n",
              "  <svg xmlns=\"http://www.w3.org/2000/svg\" height=\"24px\"viewBox=\"0 0 24 24\"\n",
              "       width=\"24px\">\n",
              "    <path d=\"M0 0h24v24H0V0z\" fill=\"none\"/>\n",
              "    <path d=\"M18.56 5.44l.94 2.06.94-2.06 2.06-.94-2.06-.94-.94-2.06-.94 2.06-2.06.94zm-11 1L8.5 8.5l.94-2.06 2.06-.94-2.06-.94L8.5 2.5l-.94 2.06-2.06.94zm10 10l.94 2.06.94-2.06 2.06-.94-2.06-.94-.94-2.06-.94 2.06-2.06.94z\"/><path d=\"M17.41 7.96l-1.37-1.37c-.4-.4-.92-.59-1.43-.59-.52 0-1.04.2-1.43.59L10.3 9.45l-7.72 7.72c-.78.78-.78 2.05 0 2.83L4 21.41c.39.39.9.59 1.41.59.51 0 1.02-.2 1.41-.59l7.78-7.78 2.81-2.81c.8-.78.8-2.07 0-2.86zM5.41 20L4 18.59l7.72-7.72 1.47 1.35L5.41 20z\"/>\n",
              "  </svg>\n",
              "      </button>\n",
              "      \n",
              "  <style>\n",
              "    .colab-df-container {\n",
              "      display:flex;\n",
              "      flex-wrap:wrap;\n",
              "      gap: 12px;\n",
              "    }\n",
              "\n",
              "    .colab-df-convert {\n",
              "      background-color: #E8F0FE;\n",
              "      border: none;\n",
              "      border-radius: 50%;\n",
              "      cursor: pointer;\n",
              "      display: none;\n",
              "      fill: #1967D2;\n",
              "      height: 32px;\n",
              "      padding: 0 0 0 0;\n",
              "      width: 32px;\n",
              "    }\n",
              "\n",
              "    .colab-df-convert:hover {\n",
              "      background-color: #E2EBFA;\n",
              "      box-shadow: 0px 1px 2px rgba(60, 64, 67, 0.3), 0px 1px 3px 1px rgba(60, 64, 67, 0.15);\n",
              "      fill: #174EA6;\n",
              "    }\n",
              "\n",
              "    [theme=dark] .colab-df-convert {\n",
              "      background-color: #3B4455;\n",
              "      fill: #D2E3FC;\n",
              "    }\n",
              "\n",
              "    [theme=dark] .colab-df-convert:hover {\n",
              "      background-color: #434B5C;\n",
              "      box-shadow: 0px 1px 3px 1px rgba(0, 0, 0, 0.15);\n",
              "      filter: drop-shadow(0px 1px 2px rgba(0, 0, 0, 0.3));\n",
              "      fill: #FFFFFF;\n",
              "    }\n",
              "  </style>\n",
              "\n",
              "      <script>\n",
              "        const buttonEl =\n",
              "          document.querySelector('#df-c202bfda-48ff-4967-9561-82eec8e772c4 button.colab-df-convert');\n",
              "        buttonEl.style.display =\n",
              "          google.colab.kernel.accessAllowed ? 'block' : 'none';\n",
              "\n",
              "        async function convertToInteractive(key) {\n",
              "          const element = document.querySelector('#df-c202bfda-48ff-4967-9561-82eec8e772c4');\n",
              "          const dataTable =\n",
              "            await google.colab.kernel.invokeFunction('convertToInteractive',\n",
              "                                                     [key], {});\n",
              "          if (!dataTable) return;\n",
              "\n",
              "          const docLinkHtml = 'Like what you see? Visit the ' +\n",
              "            '<a target=\"_blank\" href=https://colab.research.google.com/notebooks/data_table.ipynb>data table notebook</a>'\n",
              "            + ' to learn more about interactive tables.';\n",
              "          element.innerHTML = '';\n",
              "          dataTable['output_type'] = 'display_data';\n",
              "          await google.colab.output.renderOutput(dataTable, element);\n",
              "          const docLink = document.createElement('div');\n",
              "          docLink.innerHTML = docLinkHtml;\n",
              "          element.appendChild(docLink);\n",
              "        }\n",
              "      </script>\n",
              "    </div>\n",
              "  </div>\n",
              "  "
            ]
          },
          "metadata": {},
          "execution_count": 99
        }
      ]
    },
    {
      "cell_type": "code",
      "source": [
        "today_result = pd.concat([result,today_result])\n",
        "today_result.to_excel(result_path, index=False)"
      ],
      "metadata": {
        "id": "63nWPjtkg3Ul"
      },
      "execution_count": 100,
      "outputs": []
    },
    {
      "cell_type": "markdown",
      "source": [
        "## 4.2 Prophet"
      ],
      "metadata": {
        "id": "jtMjgyeQfo-u"
      }
    },
    {
      "cell_type": "code",
      "source": [
        "prophet_path = f'/content/drive/MyDrive/Colab Notebooks/{currentMonth}/BankNifty_{currentMonth}_prophet.xlsx'\n",
        "df = pd.read_excel(prophet_path)\n",
        "df['Date'] = pd.to_datetime(df['Date'], format='%Y-%m-%d').dt.floor('D')\n",
        "df = df[df['Date']==today.strftime('%Y-%m-%d')]\n",
        "\n",
        "# read the result file\n",
        "result_path = f'/content/drive/MyDrive/Colab Notebooks/{currentMonth}/BankNifty_{currentMonth}_result.xlsx'\n",
        "isExist = os.path.exists(result_path)\n",
        "if not isExist:\n",
        "  result = pd.DataFrame()\n",
        "else :\n",
        "  result = pd.read_excel(result_path)\n",
        "\n",
        "df1= yf.download(tickers = \"^NSEBANK\",\n",
        "            start = today,\n",
        "            interval = \"1d\",\n",
        "            ignore_tz = True,\n",
        "            prepost = False\n",
        "            ).reset_index()\n",
        "df1 = df1[['Date','Open']]\n",
        "\n",
        "today_result = pd.DataFrame()\n",
        "today_result['Date'] = df1['Date']\n",
        "today_result['Open'] = df1['Open']\n",
        "today_result['F_Open'] = df['F_Open'].values\n",
        "today_result['F_Open_lower'] = df['F_Open_lower'].values\n",
        "today_result['F_Open_upper'] = df['F_Open_upper'].values\n",
        "today_result['Date'] = pd.to_datetime(today_result['Date'], format='%Y-%m-%d').dt.floor('D')\n",
        "today_result['Comment'] = np.where(\n",
        "    today_result['Open'] < today_result['F_Open_lower'], 'below lower level',\n",
        "    np.where(\n",
        "        (today_result['F_Open_lower'] <= today_result['Open']) & (today_result['Open'] < today_result['F_Open']), \n",
        "        'between low and open level',\n",
        "        np.where(\n",
        "            (today_result['F_Open'] <= today_result['Open']) & (today_result['Open'] < today_result['F_Open_upper']), \n",
        "            'between open and high level', \n",
        "            'above high'\n",
        "        )\n",
        "    )\n",
        ")\n",
        "today_result['F_Method'] = 'prophet'\n"
      ],
      "metadata": {
        "colab": {
          "base_uri": "https://localhost:8080/"
        },
        "id": "8M_a3nd0UWJZ",
        "outputId": "b784728b-e8e9-4a05-af2a-f9aac28fc376"
      },
      "execution_count": 101,
      "outputs": [
        {
          "output_type": "stream",
          "name": "stdout",
          "text": [
            "\r[*********************100%***********************]  1 of 1 completed\n"
          ]
        }
      ]
    },
    {
      "cell_type": "code",
      "source": [
        "today_result = pd.concat([result,today_result])\n",
        "today_result.to_excel(result_path, index=False)"
      ],
      "metadata": {
        "id": "lBBhv0z4UWMR"
      },
      "execution_count": null,
      "outputs": []
    },
    {
      "cell_type": "code",
      "source": [],
      "metadata": {
        "id": "IcX0k_zVUWP3"
      },
      "execution_count": null,
      "outputs": []
    },
    {
      "cell_type": "code",
      "source": [],
      "metadata": {
        "id": "gF5cvyujBnuc"
      },
      "execution_count": null,
      "outputs": []
    },
    {
      "cell_type": "code",
      "source": [],
      "metadata": {
        "id": "yHi1xBKVUWsG"
      },
      "execution_count": null,
      "outputs": []
    },
    {
      "cell_type": "code",
      "source": [],
      "metadata": {
        "id": "AyE32RwYUSg7"
      },
      "execution_count": null,
      "outputs": []
    },
    {
      "cell_type": "markdown",
      "source": [
        "# 5. LSTM Hyper Tunning"
      ],
      "metadata": {
        "id": "B9taLkTGQMKQ"
      }
    },
    {
      "cell_type": "code",
      "source": [
        "Lstm_x, Lstm_y, df_train, date_train = data_prep(processed_data, cols_str, lookback, future, Scale)"
      ],
      "metadata": {
        "id": "rQZ9yN4yGbyQ"
      },
      "execution_count": 49,
      "outputs": []
    },
    {
      "cell_type": "code",
      "source": [
        "from sklearn.model_selection import train_test_split\n",
        "X_train, X_test, y_train, y_test = train_test_split(Lstm_x, Lstm_y, test_size=0.1, random_state=0)"
      ],
      "metadata": {
        "id": "zsJQ2RBXGg2_"
      },
      "execution_count": 52,
      "outputs": []
    },
    {
      "cell_type": "code",
      "source": [
        "from keras_tuner.tuners import RandomSearch\n",
        "from keras_tuner.engine.hyperparameters import HyperParameters\n",
        "def build_model(hp):\n",
        "    tf.keras.backend.clear_session()\n",
        "    model = Sequential()\n",
        "    model.add(LSTM(hp.Int('input_unit',min_value=32,max_value=512,step=32),return_sequences=True, input_shape=(X_train.shape[1], X_train.shape[2])))\n",
        "    for i in range(hp.Int('n_layers', 1, 3)):\n",
        "        model.add(LSTM(hp.Int(f'lstm_{i}_units',min_value=32,max_value=512,step=32),return_sequences=True))\n",
        "    model.add(LSTM(hp.Int('layer_2_neurons',min_value=32,max_value=512,step=32)))\n",
        "    #model.add(Dropout(hp.Float('Dropout_rate',min_value=0,max_value=0.5,step=0.1)))\n",
        "    model.add(Dense(y_train.shape[1], activation=hp.Choice('dense_activation',values=['relu', 'sigmoid'],default='relu')))\n",
        "\n",
        "    # Tune the learning rate for the optimizer\n",
        "    # Choose an optimal value from 0.01, 0.001, or 0.0001\n",
        "    hp_learning_rate = hp.Choice('learning_rate', values=[1e-2, 1e-3, 1e-4])\n",
        "\n",
        "    #model.compile(optimizer=keras.optimizers.Adam(learning_rate=hp_learning_rate),\n",
        "                  #loss=keras.losses.SparseCategoricalCrossentropy(from_logits=True), metrics=['accuracy'])\n",
        "    #model.compile(loss='mean_squared_error', optimizer='adam',metrics = ['mse'])\n",
        "    model.compile(optimizer=keras.optimizers.Adam(learning_rate=hp_learning_rate),\n",
        "                  loss='mean_squared_error', metrics=['mse'])\n",
        "    \n",
        "    return model"
      ],
      "metadata": {
        "id": "9pwdhUYfGjtg"
      },
      "execution_count": 55,
      "outputs": []
    },
    {
      "cell_type": "code",
      "source": [
        "LOG_DIR = f\"/content\"\n",
        "tuner= RandomSearch(\n",
        "        build_model,\n",
        "        objective='mse',\n",
        "        max_trials=5,\n",
        "        executions_per_trial=1,\n",
        "        directory=LOG_DIR\n",
        "        )"
      ],
      "metadata": {
        "id": "UWsRSWxsHAnu"
      },
      "execution_count": 56,
      "outputs": []
    },
    {
      "cell_type": "code",
      "source": [
        "tuner.search_space_summary()"
      ],
      "metadata": {
        "colab": {
          "base_uri": "https://localhost:8080/"
        },
        "id": "FTiUxTaYHRGT",
        "outputId": "ca98996f-b4f1-423a-d007-3965c46c7bf4"
      },
      "execution_count": 57,
      "outputs": [
        {
          "output_type": "stream",
          "name": "stdout",
          "text": [
            "Search space summary\n",
            "Default search space size: 6\n",
            "input_unit (Int)\n",
            "{'default': None, 'conditions': [], 'min_value': 32, 'max_value': 512, 'step': 32, 'sampling': 'linear'}\n",
            "n_layers (Int)\n",
            "{'default': None, 'conditions': [], 'min_value': 1, 'max_value': 3, 'step': 1, 'sampling': 'linear'}\n",
            "lstm_0_units (Int)\n",
            "{'default': None, 'conditions': [], 'min_value': 32, 'max_value': 512, 'step': 32, 'sampling': 'linear'}\n",
            "layer_2_neurons (Int)\n",
            "{'default': None, 'conditions': [], 'min_value': 32, 'max_value': 512, 'step': 32, 'sampling': 'linear'}\n",
            "dense_activation (Choice)\n",
            "{'default': 'relu', 'conditions': [], 'values': ['relu', 'sigmoid'], 'ordered': False}\n",
            "learning_rate (Choice)\n",
            "{'default': 0.01, 'conditions': [], 'values': [0.01, 0.001, 0.0001], 'ordered': True}\n"
          ]
        }
      ]
    },
    {
      "cell_type": "code",
      "source": [
        " stop_early = tf.keras.callbacks.EarlyStopping(monitor='loss', patience=15, restore_best_weights=True)\n",
        " tuner.search(\n",
        "        x=X_train,\n",
        "        y=y_train,\n",
        "        epochs=100,\n",
        "        batch_size=128,\n",
        "        validation_data=(X_test,y_test), callbacks=[stop_early]\n",
        ")"
      ],
      "metadata": {
        "colab": {
          "base_uri": "https://localhost:8080/"
        },
        "id": "bD_afZWZHYdq",
        "outputId": "38348765-ec60-420d-cbe8-7004d1b67881"
      },
      "execution_count": null,
      "outputs": [
        {
          "output_type": "stream",
          "name": "stdout",
          "text": [
            "\n",
            "Search: Running Trial #1\n",
            "\n",
            "Value             |Best Value So Far |Hyperparameter\n",
            "224               |224               |input_unit\n",
            "2                 |2                 |n_layers\n",
            "384               |384               |lstm_0_units\n",
            "416               |416               |layer_2_neurons\n",
            "sigmoid           |sigmoid           |dense_activation\n",
            "0.0001            |0.0001            |learning_rate\n",
            "\n",
            "Epoch 1/100\n",
            "39/39 [==============================] - 73s 2s/step - loss: 0.7717 - mse: 0.7717 - val_loss: 0.5209 - val_mse: 0.5209\n",
            "Epoch 2/100\n",
            "39/39 [==============================] - 61s 2s/step - loss: 0.5288 - mse: 0.5288 - val_loss: 0.5032 - val_mse: 0.5032\n",
            "Epoch 3/100\n",
            "39/39 [==============================] - 59s 2s/step - loss: 0.5105 - mse: 0.5105 - val_loss: 0.4860 - val_mse: 0.4860\n",
            "Epoch 4/100\n",
            "39/39 [==============================] - 56s 1s/step - loss: 0.5035 - mse: 0.5035 - val_loss: 0.4846 - val_mse: 0.4846\n",
            "Epoch 5/100\n",
            "39/39 [==============================] - 58s 1s/step - loss: 0.5022 - mse: 0.5022 - val_loss: 0.4835 - val_mse: 0.4835\n",
            "Epoch 6/100\n",
            "39/39 [==============================] - 57s 1s/step - loss: 0.5017 - mse: 0.5017 - val_loss: 0.4833 - val_mse: 0.4833\n",
            "Epoch 7/100\n",
            "39/39 [==============================] - 59s 2s/step - loss: 0.5009 - mse: 0.5009 - val_loss: 0.4831 - val_mse: 0.4831\n",
            "Epoch 8/100\n",
            "39/39 [==============================] - 58s 1s/step - loss: 0.5007 - mse: 0.5007 - val_loss: 0.4830 - val_mse: 0.4830\n",
            "Epoch 9/100\n",
            "39/39 [==============================] - 57s 1s/step - loss: 0.5007 - mse: 0.5007 - val_loss: 0.4834 - val_mse: 0.4834\n",
            "Epoch 10/100\n",
            "39/39 [==============================] - 57s 1s/step - loss: 0.5004 - mse: 0.5004 - val_loss: 0.4829 - val_mse: 0.4829\n",
            "Epoch 11/100\n",
            "39/39 [==============================] - 58s 2s/step - loss: 0.5002 - mse: 0.5002 - val_loss: 0.4828 - val_mse: 0.4828\n",
            "Epoch 12/100\n",
            "39/39 [==============================] - 56s 1s/step - loss: 0.5000 - mse: 0.5000 - val_loss: 0.4829 - val_mse: 0.4829\n",
            "Epoch 13/100\n",
            "39/39 [==============================] - 56s 1s/step - loss: 0.4997 - mse: 0.4997 - val_loss: 0.4829 - val_mse: 0.4829\n",
            "Epoch 14/100\n",
            "39/39 [==============================] - 57s 1s/step - loss: 0.4998 - mse: 0.4998 - val_loss: 0.4832 - val_mse: 0.4832\n",
            "Epoch 15/100\n",
            "39/39 [==============================] - 59s 2s/step - loss: 0.4999 - mse: 0.4999 - val_loss: 0.4827 - val_mse: 0.4827\n",
            "Epoch 16/100\n",
            "39/39 [==============================] - 55s 1s/step - loss: 0.4995 - mse: 0.4995 - val_loss: 0.4830 - val_mse: 0.4830\n",
            "Epoch 17/100\n",
            "39/39 [==============================] - 57s 1s/step - loss: 0.4993 - mse: 0.4993 - val_loss: 0.4828 - val_mse: 0.4828\n",
            "Epoch 18/100\n",
            "39/39 [==============================] - 59s 2s/step - loss: 0.4992 - mse: 0.4992 - val_loss: 0.4826 - val_mse: 0.4826\n",
            "Epoch 19/100\n",
            "39/39 [==============================] - 57s 1s/step - loss: 0.4990 - mse: 0.4990 - val_loss: 0.4827 - val_mse: 0.4827\n",
            "Epoch 20/100\n",
            "39/39 [==============================] - 55s 1s/step - loss: 0.4990 - mse: 0.4990 - val_loss: 0.4826 - val_mse: 0.4826\n",
            "Epoch 21/100\n",
            "39/39 [==============================] - 58s 1s/step - loss: 0.4990 - mse: 0.4990 - val_loss: 0.4826 - val_mse: 0.4826\n",
            "Epoch 22/100\n",
            "39/39 [==============================] - 58s 1s/step - loss: 0.4990 - mse: 0.4990 - val_loss: 0.4827 - val_mse: 0.4827\n",
            "Epoch 23/100\n",
            "39/39 [==============================] - 57s 1s/step - loss: 0.4998 - mse: 0.4998 - val_loss: 0.4831 - val_mse: 0.4831\n",
            "Epoch 24/100\n",
            "39/39 [==============================] - 64s 2s/step - loss: 0.4993 - mse: 0.4993 - val_loss: 0.4825 - val_mse: 0.4825\n",
            "Epoch 25/100\n",
            "39/39 [==============================] - 60s 2s/step - loss: 0.4989 - mse: 0.4989 - val_loss: 0.4826 - val_mse: 0.4826\n",
            "Epoch 26/100\n",
            "39/39 [==============================] - 59s 2s/step - loss: 0.4989 - mse: 0.4989 - val_loss: 0.4827 - val_mse: 0.4827\n",
            "Epoch 27/100\n",
            "39/39 [==============================] - 61s 2s/step - loss: 0.4990 - mse: 0.4990 - val_loss: 0.4829 - val_mse: 0.4829\n",
            "Epoch 28/100\n",
            "39/39 [==============================] - 58s 1s/step - loss: 0.4990 - mse: 0.4990 - val_loss: 0.4825 - val_mse: 0.4825\n",
            "Epoch 29/100\n",
            "39/39 [==============================] - 55s 1s/step - loss: 0.4988 - mse: 0.4988 - val_loss: 0.4825 - val_mse: 0.4825\n",
            "Epoch 30/100\n",
            "39/39 [==============================] - 60s 2s/step - loss: 0.4988 - mse: 0.4988 - val_loss: 0.4825 - val_mse: 0.4825\n",
            "Epoch 31/100\n",
            "39/39 [==============================] - 57s 1s/step - loss: 0.4988 - mse: 0.4988 - val_loss: 0.4825 - val_mse: 0.4825\n",
            "Epoch 32/100\n",
            "39/39 [==============================] - 57s 1s/step - loss: 0.4990 - mse: 0.4990 - val_loss: 0.4825 - val_mse: 0.4825\n",
            "Epoch 33/100\n",
            "39/39 [==============================] - 59s 2s/step - loss: 0.4988 - mse: 0.4988 - val_loss: 0.4825 - val_mse: 0.4825\n",
            "Epoch 34/100\n",
            "39/39 [==============================] - 59s 1s/step - loss: 0.4988 - mse: 0.4988 - val_loss: 0.4828 - val_mse: 0.4828\n",
            "Epoch 35/100\n",
            "39/39 [==============================] - 55s 1s/step - loss: 0.4989 - mse: 0.4989 - val_loss: 0.4824 - val_mse: 0.4824\n",
            "Epoch 36/100\n",
            "39/39 [==============================] - 56s 1s/step - loss: 0.4988 - mse: 0.4988 - val_loss: 0.4824 - val_mse: 0.4824\n",
            "Epoch 37/100\n",
            "39/39 [==============================] - 59s 2s/step - loss: 0.4987 - mse: 0.4987 - val_loss: 0.4824 - val_mse: 0.4824\n",
            "Epoch 38/100\n",
            "39/39 [==============================] - 57s 1s/step - loss: 0.4988 - mse: 0.4988 - val_loss: 0.4825 - val_mse: 0.4825\n",
            "Epoch 39/100\n",
            "39/39 [==============================] - 55s 1s/step - loss: 0.4990 - mse: 0.4990 - val_loss: 0.4825 - val_mse: 0.4825\n",
            "Epoch 40/100\n",
            "39/39 [==============================] - 71s 2s/step - loss: 0.4987 - mse: 0.4987 - val_loss: 0.4825 - val_mse: 0.4825\n",
            "Epoch 41/100\n",
            "39/39 [==============================] - 61s 2s/step - loss: 0.4987 - mse: 0.4987 - val_loss: 0.4824 - val_mse: 0.4824\n",
            "Epoch 42/100\n",
            "39/39 [==============================] - 58s 2s/step - loss: 0.4987 - mse: 0.4987 - val_loss: 0.4823 - val_mse: 0.4823\n",
            "Epoch 43/100\n",
            "39/39 [==============================] - 56s 1s/step - loss: 0.4986 - mse: 0.4986 - val_loss: 0.4823 - val_mse: 0.4823\n",
            "Epoch 44/100\n",
            "15/39 [==========>...................] - ETA: 35s - loss: 0.5125 - mse: 0.5125"
          ]
        }
      ]
    },
    {
      "cell_type": "code",
      "source": [],
      "metadata": {
        "id": "zGog5vQiHdPt"
      },
      "execution_count": null,
      "outputs": []
    }
  ]
}