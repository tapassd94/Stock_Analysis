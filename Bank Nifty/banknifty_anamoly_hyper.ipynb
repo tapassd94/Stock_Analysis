{
  "nbformat": 4,
  "nbformat_minor": 0,
  "metadata": {
    "colab": {
      "provenance": []
    },
    "kernelspec": {
      "name": "python3",
      "display_name": "Python 3"
    },
    "language_info": {
      "name": "python"
    }
  },
  "cells": [
    {
      "cell_type": "code",
      "execution_count": null,
      "metadata": {
        "id": "53e88eG2wQU8"
      },
      "outputs": [],
      "source": [
        "# Author : Tapas"
      ]
    },
    {
      "cell_type": "markdown",
      "source": [
        "## Applications of Machine Learning in Stock Markets"
      ],
      "metadata": {
        "id": "ApPS5Msbw3fK"
      }
    },
    {
      "cell_type": "code",
      "source": [
        "from google.colab import drive\n",
        "drive.mount('/content/drive')"
      ],
      "metadata": {
        "colab": {
          "base_uri": "https://localhost:8080/"
        },
        "id": "NUUyum-AXkcA",
        "outputId": "e684b459-dc52-4543-c252-a95d653f3511"
      },
      "execution_count": 17,
      "outputs": [
        {
          "output_type": "stream",
          "name": "stdout",
          "text": [
            "Drive already mounted at /content/drive; to attempt to forcibly remount, call drive.mount(\"/content/drive\", force_remount=True).\n"
          ]
        }
      ]
    },
    {
      "cell_type": "markdown",
      "source": [
        "# 1.Data Preparation"
      ],
      "metadata": {
        "id": "Cgp5wSppsFAM"
      }
    },
    {
      "cell_type": "code",
      "source": [
        "import datetime as dt\n",
        "import pandas as pd\n",
        "import numpy as np\n",
        "import matplotlib.pyplot as plt\n",
        "from sklearn.preprocessing import StandardScaler\n",
        "from pandas.plotting import lag_plot\n",
        "\n",
        "from pandas_datareader import data as pdr\n",
        "import yfinance as yf\n",
        "yf.pdr_override()"
      ],
      "metadata": {
        "id": "Dyn_9TDNwdHF"
      },
      "execution_count": 18,
      "outputs": []
    },
    {
      "cell_type": "code",
      "source": [
        "import warnings\n",
        "warnings.filterwarnings(\"ignore\")"
      ],
      "metadata": {
        "id": "j54RaHUmtA9p"
      },
      "execution_count": 19,
      "outputs": []
    },
    {
      "cell_type": "code",
      "source": [
        "today = dt.date.today()\n",
        "year_back = 20\n",
        "end_date = today - dt.timedelta(days = 365 * year_back)"
      ],
      "metadata": {
        "id": "aMiMb6Szw2bQ"
      },
      "execution_count": 20,
      "outputs": []
    },
    {
      "cell_type": "code",
      "source": [
        "print(today)\n",
        "print(end_date)"
      ],
      "metadata": {
        "colab": {
          "base_uri": "https://localhost:8080/"
        },
        "id": "3ZcnfSRYyqyy",
        "outputId": "451487e3-cd6c-46a6-df37-dedec863aa3b"
      },
      "execution_count": 21,
      "outputs": [
        {
          "output_type": "stream",
          "name": "stdout",
          "text": [
            "2023-04-03\n",
            "2003-04-08\n"
          ]
        }
      ]
    },
    {
      "cell_type": "code",
      "source": [
        "# reliance_data = pdr.get_data_yahoo(f\"{'RELIANCE.NS'}\",today,end_date)\n",
        "# reliance_data.sample(5)"
      ],
      "metadata": {
        "id": "ibcv7ReZ1MeV"
      },
      "execution_count": null,
      "outputs": []
    },
    {
      "cell_type": "code",
      "source": [
        "# # download dataframe\n",
        "# data = pdr.get_data_yahoo(\"SPY\", start=\"2017-01-01\", end=\"2017-04-30\")\n",
        "# data"
      ],
      "metadata": {
        "id": "u_3xREXWHT00"
      },
      "execution_count": null,
      "outputs": []
    },
    {
      "cell_type": "code",
      "source": [
        "# df= yf.Ticker(\"^NSEBANK\").history(period='12y').reset_index()\n",
        "# df_axis= yf.Ticker(\"AXISBANK.NS\").history(period='3y').reset_index()\n",
        "# df_sbi= yf.Ticker(\"SBIN.NS\").history(period='3y').reset_index()\n",
        "# df_rbl= yf.Ticker(\"RBLBANK.NS\").history(period='3y').reset_index()\n",
        "# df_pnb= yf.Ticker(\"PNB.NS\").history(period='3y').reset_index()\n",
        "# df_kot= yf.Ticker(\"KOTAKBANK.NS\").history(period='3y').reset_index()\n",
        "# df_ind= yf.Ticker(\"INDUSINDBK.NS\").history(period='3y').reset_index()\n",
        "# df_idfc= yf.Ticker(\"IDFCFIRSTB.NS\").history(period='3y').reset_index()\n",
        "# df_icic= yf.Ticker(\"ICICIBANK.NS\").history(period='3y').reset_index()\n",
        "# df_band= yf.Ticker(\"BANDHANBNK.NS\").history(period='3y').reset_index()\n",
        "# df_hdfc= yf.Ticker(\"HDFC.NS\").history(period='3y').reset_index()\n",
        "# df_fed= yf.Ticker(\"FEDERALBNK.NS\").history(period='3y').reset_index()\n",
        "# df_au= yf.Ticker(\"AUBANK.NS\").history(period='3y').reset_index()"
      ],
      "metadata": {
        "id": "mUivvLs-9Qcm"
      },
      "execution_count": null,
      "outputs": []
    },
    {
      "cell_type": "code",
      "source": [
        "# df= yf.download(tickers = \"^NSEBANK\",  # list of tickers\n",
        "#             period = \"20y\",         # time period\n",
        "#             interval = \"1d\",       # trading interval\n",
        "#             ignore_tz = True,      # ignore timezone when aligning data from different exchanges?\n",
        "#             prepost = False       # download pre/post market hours data?\n",
        "#             ).reset_index()"
      ],
      "metadata": {
        "id": "3Seje_r17Kk0"
      },
      "execution_count": null,
      "outputs": []
    },
    {
      "cell_type": "code",
      "source": [
        "# df= yf.download(tickers = \"^NSEBANK\",\n",
        "#             start = '2008-01-01', end = today,\n",
        "#             interval = \"1d\",\n",
        "#             ignore_tz = True,\n",
        "#             prepost = False\n",
        "#             ).reset_index()\n",
        "\n",
        "# df= yf.download(tickers = \"^NSEBANK\",\n",
        "#             period = \"max\",\n",
        "#             interval = \"1d\",\n",
        "#             ignore_tz = True,\n",
        "#             prepost = False\n",
        "#             ).reset_index()"
      ],
      "metadata": {
        "id": "IHvQEDi3Y3bg"
      },
      "execution_count": null,
      "outputs": []
    },
    {
      "cell_type": "code",
      "source": [
        "df= yf.download(tickers = \"^NSEBANK\",\n",
        "            start = '2008-01-01',\n",
        "            interval = \"1d\",\n",
        "            ignore_tz = True,\n",
        "            prepost = False\n",
        "            ).reset_index()"
      ],
      "metadata": {
        "colab": {
          "base_uri": "https://localhost:8080/"
        },
        "id": "XvPfN6NMSrbQ",
        "outputId": "227ac287-a029-4d78-e174-eae5f569d344"
      },
      "execution_count": 22,
      "outputs": [
        {
          "output_type": "stream",
          "name": "stdout",
          "text": [
            "\r[*********************100%***********************]  1 of 1 completed\n"
          ]
        }
      ]
    },
    {
      "cell_type": "code",
      "source": [
        "df.tail(15)"
      ],
      "metadata": {
        "colab": {
          "base_uri": "https://localhost:8080/",
          "height": 520
        },
        "id": "gEYZHnHd7M9R",
        "outputId": "dea85784-c233-4f43-ca9f-da2ca0ca5200"
      },
      "execution_count": 23,
      "outputs": [
        {
          "output_type": "execute_result",
          "data": {
            "text/plain": [
              "           Date          Open          High           Low         Close  \\\n",
              "3451 2023-03-10  40805.250000  40839.000000  40341.699219  40485.449219   \n",
              "3452 2023-03-13  40356.101562  40690.050781  39454.601562  39564.699219   \n",
              "3453 2023-03-14  39522.398438  39768.500000  39132.601562  39411.398438   \n",
              "3454 2023-03-15  39777.898438  39914.101562  38934.648438  39051.500000   \n",
              "3455 2023-03-16  39061.699219  39381.398438  38613.148438  39132.601562   \n",
              "3456 2023-03-17  39442.398438  39705.148438  38926.800781  39598.101562   \n",
              "3457 2023-03-20  39512.101562  39512.101562  38941.898438  39361.949219   \n",
              "3458 2023-03-21  39599.648438  39970.898438  39366.300781  39894.699219   \n",
              "3459 2023-03-22  40036.000000  40085.601562  39837.800781  39999.050781   \n",
              "3460 2023-03-23  39836.148438  40201.601562  39552.500000  39616.898438   \n",
              "3461 2023-03-24  39555.250000  39767.898438  39294.898438  39395.351562   \n",
              "3462 2023-03-27  39484.699219  39695.199219  39273.750000  39431.300781   \n",
              "3463 2023-03-28  39545.050781  39645.199219  39326.101562  39567.898438   \n",
              "3464 2023-03-29  39611.550781  40055.000000  39609.550781  39910.148438   \n",
              "3465 2023-03-31  40231.250000  40690.398438  40180.199219  40608.648438   \n",
              "\n",
              "         Adj Close  Volume  \n",
              "3451  40485.449219  145300  \n",
              "3452  39564.699219  174500  \n",
              "3453  39411.398438  205700  \n",
              "3454  39051.500000  164300  \n",
              "3455  39132.601562  196300  \n",
              "3456  39598.101562  173400  \n",
              "3457  39361.949219  173800  \n",
              "3458  39894.699219  187900  \n",
              "3459  39999.050781       0  \n",
              "3460  39616.898438  153200  \n",
              "3461  39395.351562  166100  \n",
              "3462  39431.300781  194200  \n",
              "3463  39567.898438  202300  \n",
              "3464  39910.148438  259600  \n",
              "3465  40608.648438  188000  "
            ],
            "text/html": [
              "\n",
              "  <div id=\"df-da7bcf41-07ba-48a6-a854-4fefebb4f528\">\n",
              "    <div class=\"colab-df-container\">\n",
              "      <div>\n",
              "<style scoped>\n",
              "    .dataframe tbody tr th:only-of-type {\n",
              "        vertical-align: middle;\n",
              "    }\n",
              "\n",
              "    .dataframe tbody tr th {\n",
              "        vertical-align: top;\n",
              "    }\n",
              "\n",
              "    .dataframe thead th {\n",
              "        text-align: right;\n",
              "    }\n",
              "</style>\n",
              "<table border=\"1\" class=\"dataframe\">\n",
              "  <thead>\n",
              "    <tr style=\"text-align: right;\">\n",
              "      <th></th>\n",
              "      <th>Date</th>\n",
              "      <th>Open</th>\n",
              "      <th>High</th>\n",
              "      <th>Low</th>\n",
              "      <th>Close</th>\n",
              "      <th>Adj Close</th>\n",
              "      <th>Volume</th>\n",
              "    </tr>\n",
              "  </thead>\n",
              "  <tbody>\n",
              "    <tr>\n",
              "      <th>3451</th>\n",
              "      <td>2023-03-10</td>\n",
              "      <td>40805.250000</td>\n",
              "      <td>40839.000000</td>\n",
              "      <td>40341.699219</td>\n",
              "      <td>40485.449219</td>\n",
              "      <td>40485.449219</td>\n",
              "      <td>145300</td>\n",
              "    </tr>\n",
              "    <tr>\n",
              "      <th>3452</th>\n",
              "      <td>2023-03-13</td>\n",
              "      <td>40356.101562</td>\n",
              "      <td>40690.050781</td>\n",
              "      <td>39454.601562</td>\n",
              "      <td>39564.699219</td>\n",
              "      <td>39564.699219</td>\n",
              "      <td>174500</td>\n",
              "    </tr>\n",
              "    <tr>\n",
              "      <th>3453</th>\n",
              "      <td>2023-03-14</td>\n",
              "      <td>39522.398438</td>\n",
              "      <td>39768.500000</td>\n",
              "      <td>39132.601562</td>\n",
              "      <td>39411.398438</td>\n",
              "      <td>39411.398438</td>\n",
              "      <td>205700</td>\n",
              "    </tr>\n",
              "    <tr>\n",
              "      <th>3454</th>\n",
              "      <td>2023-03-15</td>\n",
              "      <td>39777.898438</td>\n",
              "      <td>39914.101562</td>\n",
              "      <td>38934.648438</td>\n",
              "      <td>39051.500000</td>\n",
              "      <td>39051.500000</td>\n",
              "      <td>164300</td>\n",
              "    </tr>\n",
              "    <tr>\n",
              "      <th>3455</th>\n",
              "      <td>2023-03-16</td>\n",
              "      <td>39061.699219</td>\n",
              "      <td>39381.398438</td>\n",
              "      <td>38613.148438</td>\n",
              "      <td>39132.601562</td>\n",
              "      <td>39132.601562</td>\n",
              "      <td>196300</td>\n",
              "    </tr>\n",
              "    <tr>\n",
              "      <th>3456</th>\n",
              "      <td>2023-03-17</td>\n",
              "      <td>39442.398438</td>\n",
              "      <td>39705.148438</td>\n",
              "      <td>38926.800781</td>\n",
              "      <td>39598.101562</td>\n",
              "      <td>39598.101562</td>\n",
              "      <td>173400</td>\n",
              "    </tr>\n",
              "    <tr>\n",
              "      <th>3457</th>\n",
              "      <td>2023-03-20</td>\n",
              "      <td>39512.101562</td>\n",
              "      <td>39512.101562</td>\n",
              "      <td>38941.898438</td>\n",
              "      <td>39361.949219</td>\n",
              "      <td>39361.949219</td>\n",
              "      <td>173800</td>\n",
              "    </tr>\n",
              "    <tr>\n",
              "      <th>3458</th>\n",
              "      <td>2023-03-21</td>\n",
              "      <td>39599.648438</td>\n",
              "      <td>39970.898438</td>\n",
              "      <td>39366.300781</td>\n",
              "      <td>39894.699219</td>\n",
              "      <td>39894.699219</td>\n",
              "      <td>187900</td>\n",
              "    </tr>\n",
              "    <tr>\n",
              "      <th>3459</th>\n",
              "      <td>2023-03-22</td>\n",
              "      <td>40036.000000</td>\n",
              "      <td>40085.601562</td>\n",
              "      <td>39837.800781</td>\n",
              "      <td>39999.050781</td>\n",
              "      <td>39999.050781</td>\n",
              "      <td>0</td>\n",
              "    </tr>\n",
              "    <tr>\n",
              "      <th>3460</th>\n",
              "      <td>2023-03-23</td>\n",
              "      <td>39836.148438</td>\n",
              "      <td>40201.601562</td>\n",
              "      <td>39552.500000</td>\n",
              "      <td>39616.898438</td>\n",
              "      <td>39616.898438</td>\n",
              "      <td>153200</td>\n",
              "    </tr>\n",
              "    <tr>\n",
              "      <th>3461</th>\n",
              "      <td>2023-03-24</td>\n",
              "      <td>39555.250000</td>\n",
              "      <td>39767.898438</td>\n",
              "      <td>39294.898438</td>\n",
              "      <td>39395.351562</td>\n",
              "      <td>39395.351562</td>\n",
              "      <td>166100</td>\n",
              "    </tr>\n",
              "    <tr>\n",
              "      <th>3462</th>\n",
              "      <td>2023-03-27</td>\n",
              "      <td>39484.699219</td>\n",
              "      <td>39695.199219</td>\n",
              "      <td>39273.750000</td>\n",
              "      <td>39431.300781</td>\n",
              "      <td>39431.300781</td>\n",
              "      <td>194200</td>\n",
              "    </tr>\n",
              "    <tr>\n",
              "      <th>3463</th>\n",
              "      <td>2023-03-28</td>\n",
              "      <td>39545.050781</td>\n",
              "      <td>39645.199219</td>\n",
              "      <td>39326.101562</td>\n",
              "      <td>39567.898438</td>\n",
              "      <td>39567.898438</td>\n",
              "      <td>202300</td>\n",
              "    </tr>\n",
              "    <tr>\n",
              "      <th>3464</th>\n",
              "      <td>2023-03-29</td>\n",
              "      <td>39611.550781</td>\n",
              "      <td>40055.000000</td>\n",
              "      <td>39609.550781</td>\n",
              "      <td>39910.148438</td>\n",
              "      <td>39910.148438</td>\n",
              "      <td>259600</td>\n",
              "    </tr>\n",
              "    <tr>\n",
              "      <th>3465</th>\n",
              "      <td>2023-03-31</td>\n",
              "      <td>40231.250000</td>\n",
              "      <td>40690.398438</td>\n",
              "      <td>40180.199219</td>\n",
              "      <td>40608.648438</td>\n",
              "      <td>40608.648438</td>\n",
              "      <td>188000</td>\n",
              "    </tr>\n",
              "  </tbody>\n",
              "</table>\n",
              "</div>\n",
              "      <button class=\"colab-df-convert\" onclick=\"convertToInteractive('df-da7bcf41-07ba-48a6-a854-4fefebb4f528')\"\n",
              "              title=\"Convert this dataframe to an interactive table.\"\n",
              "              style=\"display:none;\">\n",
              "        \n",
              "  <svg xmlns=\"http://www.w3.org/2000/svg\" height=\"24px\"viewBox=\"0 0 24 24\"\n",
              "       width=\"24px\">\n",
              "    <path d=\"M0 0h24v24H0V0z\" fill=\"none\"/>\n",
              "    <path d=\"M18.56 5.44l.94 2.06.94-2.06 2.06-.94-2.06-.94-.94-2.06-.94 2.06-2.06.94zm-11 1L8.5 8.5l.94-2.06 2.06-.94-2.06-.94L8.5 2.5l-.94 2.06-2.06.94zm10 10l.94 2.06.94-2.06 2.06-.94-2.06-.94-.94-2.06-.94 2.06-2.06.94z\"/><path d=\"M17.41 7.96l-1.37-1.37c-.4-.4-.92-.59-1.43-.59-.52 0-1.04.2-1.43.59L10.3 9.45l-7.72 7.72c-.78.78-.78 2.05 0 2.83L4 21.41c.39.39.9.59 1.41.59.51 0 1.02-.2 1.41-.59l7.78-7.78 2.81-2.81c.8-.78.8-2.07 0-2.86zM5.41 20L4 18.59l7.72-7.72 1.47 1.35L5.41 20z\"/>\n",
              "  </svg>\n",
              "      </button>\n",
              "      \n",
              "  <style>\n",
              "    .colab-df-container {\n",
              "      display:flex;\n",
              "      flex-wrap:wrap;\n",
              "      gap: 12px;\n",
              "    }\n",
              "\n",
              "    .colab-df-convert {\n",
              "      background-color: #E8F0FE;\n",
              "      border: none;\n",
              "      border-radius: 50%;\n",
              "      cursor: pointer;\n",
              "      display: none;\n",
              "      fill: #1967D2;\n",
              "      height: 32px;\n",
              "      padding: 0 0 0 0;\n",
              "      width: 32px;\n",
              "    }\n",
              "\n",
              "    .colab-df-convert:hover {\n",
              "      background-color: #E2EBFA;\n",
              "      box-shadow: 0px 1px 2px rgba(60, 64, 67, 0.3), 0px 1px 3px 1px rgba(60, 64, 67, 0.15);\n",
              "      fill: #174EA6;\n",
              "    }\n",
              "\n",
              "    [theme=dark] .colab-df-convert {\n",
              "      background-color: #3B4455;\n",
              "      fill: #D2E3FC;\n",
              "    }\n",
              "\n",
              "    [theme=dark] .colab-df-convert:hover {\n",
              "      background-color: #434B5C;\n",
              "      box-shadow: 0px 1px 3px 1px rgba(0, 0, 0, 0.15);\n",
              "      filter: drop-shadow(0px 1px 2px rgba(0, 0, 0, 0.3));\n",
              "      fill: #FFFFFF;\n",
              "    }\n",
              "  </style>\n",
              "\n",
              "      <script>\n",
              "        const buttonEl =\n",
              "          document.querySelector('#df-da7bcf41-07ba-48a6-a854-4fefebb4f528 button.colab-df-convert');\n",
              "        buttonEl.style.display =\n",
              "          google.colab.kernel.accessAllowed ? 'block' : 'none';\n",
              "\n",
              "        async function convertToInteractive(key) {\n",
              "          const element = document.querySelector('#df-da7bcf41-07ba-48a6-a854-4fefebb4f528');\n",
              "          const dataTable =\n",
              "            await google.colab.kernel.invokeFunction('convertToInteractive',\n",
              "                                                     [key], {});\n",
              "          if (!dataTable) return;\n",
              "\n",
              "          const docLinkHtml = 'Like what you see? Visit the ' +\n",
              "            '<a target=\"_blank\" href=https://colab.research.google.com/notebooks/data_table.ipynb>data table notebook</a>'\n",
              "            + ' to learn more about interactive tables.';\n",
              "          element.innerHTML = '';\n",
              "          dataTable['output_type'] = 'display_data';\n",
              "          await google.colab.output.renderOutput(dataTable, element);\n",
              "          const docLink = document.createElement('div');\n",
              "          docLink.innerHTML = docLinkHtml;\n",
              "          element.appendChild(docLink);\n",
              "        }\n",
              "      </script>\n",
              "    </div>\n",
              "  </div>\n",
              "  "
            ]
          },
          "metadata": {},
          "execution_count": 23
        }
      ]
    },
    {
      "cell_type": "code",
      "source": [
        "df['Date'] = pd.to_datetime(df['Date'], format=\"%Y-%m-%d\").dt.floor('D')\n",
        "display(df['Date'].min())\n",
        "display(df['Date'].max())"
      ],
      "metadata": {
        "colab": {
          "base_uri": "https://localhost:8080/",
          "height": 53
        },
        "id": "kSizPrxG7N-m",
        "outputId": "3f803593-de52-466a-b336-b483e528cb27"
      },
      "execution_count": 24,
      "outputs": [
        {
          "output_type": "display_data",
          "data": {
            "text/plain": [
              "Timestamp('2008-01-01 00:00:00')"
            ]
          },
          "metadata": {}
        },
        {
          "output_type": "display_data",
          "data": {
            "text/plain": [
              "Timestamp('2023-03-31 00:00:00')"
            ]
          },
          "metadata": {}
        }
      ]
    },
    {
      "cell_type": "code",
      "source": [
        "max_date = str(df['Date'].max())\n",
        "dateprocess_max = dt.datetime.strptime(max_date, \"%Y-%m-%d %H:%M:%S\")\n",
        "min_date = str(df['Date'].min())\n",
        "dateprocess_min = dt.datetime.strptime(min_date, \"%Y-%m-%d %H:%M:%S\")\n",
        "#max_date_limit = (dateprocess_max - pd.DateOffset(days=1)).strftime('%Y-%m-%d')\n",
        "min_date_limit = str(dateprocess_min.year) +'-'+ str(dateprocess_min.month) +'-'+ str(dateprocess_min.day)\n",
        "max_date_limit = str(dateprocess_max.year) +'-'+ str(dateprocess_max.month) +'-'+ str(dateprocess_max.day)"
      ],
      "metadata": {
        "id": "QI_DSYzWEarV"
      },
      "execution_count": 25,
      "outputs": []
    },
    {
      "cell_type": "code",
      "source": [
        "dates_required = pd.date_range(min_date, max_date, freq='D').strftime(\"%Y-%m-%d\").tolist()\n",
        "dates_required = pd.DataFrame(dates_required, columns = ['Date'])\n",
        "dates_required.Date = pd.to_datetime(dates_required.Date)\n",
        "processed_data = dates_required.merge(df,on='Date', how='left')\n",
        "processed_data.columns = df.columns\n",
        "processed_data = processed_data.fillna(method='ffill')\n",
        "processed_data['Date'] = pd.to_datetime(processed_data['Date'], format=\"%Y-%m-%d\").dt.floor('D')"
      ],
      "metadata": {
        "id": "U22UkiOHFZ6R"
      },
      "execution_count": 26,
      "outputs": []
    },
    {
      "cell_type": "code",
      "source": [
        "processed_data['OCDifference'] = processed_data['Close']-processed_data['Open']\n",
        "processed_data['OCDiff_perc'] = (processed_data['Close']-processed_data['Open'])/processed_data['Open']*100\n",
        "\n",
        "processed_data['OHDifference'] = processed_data['High']-processed_data['Open']\n",
        "processed_data['OHDiff_perc'] = (processed_data['High']-processed_data['Open'])/processed_data['Open']*100\n",
        "\n",
        "processed_data['OLDifference'] = processed_data['Low']-processed_data['Open']\n",
        "processed_data['OLDiff_perc'] = (processed_data['Low']-processed_data['Open'])/processed_data['Open']*100\n",
        "\n",
        "processed_data['OADifference'] = processed_data['Adj Close']-processed_data['Open']\n",
        "processed_data['OADiff_perc'] = (processed_data['Adj Close']-processed_data['Open'])/processed_data['Open']*100"
      ],
      "metadata": {
        "id": "6cw0-FsUc_Kj"
      },
      "execution_count": 27,
      "outputs": []
    },
    {
      "cell_type": "code",
      "source": [
        "processed_data.tail(15)"
      ],
      "metadata": {
        "colab": {
          "base_uri": "https://localhost:8080/",
          "height": 844
        },
        "id": "5al4xpcmJnkf",
        "outputId": "d817635e-eb45-4f22-ede0-e59cec2c4e07"
      },
      "execution_count": 28,
      "outputs": [
        {
          "output_type": "execute_result",
          "data": {
            "text/plain": [
              "           Date          Open          High           Low         Close  \\\n",
              "5554 2023-03-17  39442.398438  39705.148438  38926.800781  39598.101562   \n",
              "5555 2023-03-18  39442.398438  39705.148438  38926.800781  39598.101562   \n",
              "5556 2023-03-19  39442.398438  39705.148438  38926.800781  39598.101562   \n",
              "5557 2023-03-20  39512.101562  39512.101562  38941.898438  39361.949219   \n",
              "5558 2023-03-21  39599.648438  39970.898438  39366.300781  39894.699219   \n",
              "5559 2023-03-22  40036.000000  40085.601562  39837.800781  39999.050781   \n",
              "5560 2023-03-23  39836.148438  40201.601562  39552.500000  39616.898438   \n",
              "5561 2023-03-24  39555.250000  39767.898438  39294.898438  39395.351562   \n",
              "5562 2023-03-25  39555.250000  39767.898438  39294.898438  39395.351562   \n",
              "5563 2023-03-26  39555.250000  39767.898438  39294.898438  39395.351562   \n",
              "5564 2023-03-27  39484.699219  39695.199219  39273.750000  39431.300781   \n",
              "5565 2023-03-28  39545.050781  39645.199219  39326.101562  39567.898438   \n",
              "5566 2023-03-29  39611.550781  40055.000000  39609.550781  39910.148438   \n",
              "5567 2023-03-30  39611.550781  40055.000000  39609.550781  39910.148438   \n",
              "5568 2023-03-31  40231.250000  40690.398438  40180.199219  40608.648438   \n",
              "\n",
              "         Adj Close    Volume  OCDifference  OCDiff_perc  OHDifference  \\\n",
              "5554  39598.101562  173400.0    155.703125     0.394761    262.750000   \n",
              "5555  39598.101562  173400.0    155.703125     0.394761    262.750000   \n",
              "5556  39598.101562  173400.0    155.703125     0.394761    262.750000   \n",
              "5557  39361.949219  173800.0   -150.152344    -0.380016      0.000000   \n",
              "5558  39894.699219  187900.0    295.050781     0.745084    371.250000   \n",
              "5559  39999.050781       0.0    -36.949219    -0.092290     49.601562   \n",
              "5560  39616.898438  153200.0   -219.250000    -0.550380    365.453125   \n",
              "5561  39395.351562  166100.0   -159.898438    -0.404241    212.648438   \n",
              "5562  39395.351562  166100.0   -159.898438    -0.404241    212.648438   \n",
              "5563  39395.351562  166100.0   -159.898438    -0.404241    212.648438   \n",
              "5564  39431.300781  194200.0    -53.398438    -0.135238    210.500000   \n",
              "5565  39567.898438  202300.0     22.847656     0.057776    100.148438   \n",
              "5566  39910.148438  259600.0    298.597656     0.753815    443.449219   \n",
              "5567  39910.148438  259600.0    298.597656     0.753815    443.449219   \n",
              "5568  40608.648438  188000.0    377.398438     0.938073    459.148438   \n",
              "\n",
              "      OHDiff_perc  OLDifference  OLDiff_perc  OADifference  OADiff_perc  \n",
              "5554     0.666161   -515.597656    -1.307217    155.703125     0.394761  \n",
              "5555     0.666161   -515.597656    -1.307217    155.703125     0.394761  \n",
              "5556     0.666161   -515.597656    -1.307217    155.703125     0.394761  \n",
              "5557     0.000000   -570.203125    -1.443110   -150.152344    -0.380016  \n",
              "5558     0.937508   -233.347656    -0.589267    295.050781     0.745084  \n",
              "5559     0.123892   -198.199219    -0.495052    -36.949219    -0.092290  \n",
              "5560     0.917391   -283.648438    -0.712038   -219.250000    -0.550380  \n",
              "5561     0.537599   -260.351562    -0.658197   -159.898438    -0.404241  \n",
              "5562     0.537599   -260.351562    -0.658197   -159.898438    -0.404241  \n",
              "5563     0.537599   -260.351562    -0.658197   -159.898438    -0.404241  \n",
              "5564     0.533118   -210.949219    -0.534256    -53.398438    -0.135238  \n",
              "5565     0.253252   -218.949219    -0.553670     22.847656     0.057776  \n",
              "5566     1.119495     -2.000000    -0.005049    298.597656     0.753815  \n",
              "5567     1.119495     -2.000000    -0.005049    298.597656     0.753815  \n",
              "5568     1.141273    -51.050781    -0.126893    377.398438     0.938073  "
            ],
            "text/html": [
              "\n",
              "  <div id=\"df-8ce73844-bd74-43f8-9ebe-84abf27219d2\">\n",
              "    <div class=\"colab-df-container\">\n",
              "      <div>\n",
              "<style scoped>\n",
              "    .dataframe tbody tr th:only-of-type {\n",
              "        vertical-align: middle;\n",
              "    }\n",
              "\n",
              "    .dataframe tbody tr th {\n",
              "        vertical-align: top;\n",
              "    }\n",
              "\n",
              "    .dataframe thead th {\n",
              "        text-align: right;\n",
              "    }\n",
              "</style>\n",
              "<table border=\"1\" class=\"dataframe\">\n",
              "  <thead>\n",
              "    <tr style=\"text-align: right;\">\n",
              "      <th></th>\n",
              "      <th>Date</th>\n",
              "      <th>Open</th>\n",
              "      <th>High</th>\n",
              "      <th>Low</th>\n",
              "      <th>Close</th>\n",
              "      <th>Adj Close</th>\n",
              "      <th>Volume</th>\n",
              "      <th>OCDifference</th>\n",
              "      <th>OCDiff_perc</th>\n",
              "      <th>OHDifference</th>\n",
              "      <th>OHDiff_perc</th>\n",
              "      <th>OLDifference</th>\n",
              "      <th>OLDiff_perc</th>\n",
              "      <th>OADifference</th>\n",
              "      <th>OADiff_perc</th>\n",
              "    </tr>\n",
              "  </thead>\n",
              "  <tbody>\n",
              "    <tr>\n",
              "      <th>5554</th>\n",
              "      <td>2023-03-17</td>\n",
              "      <td>39442.398438</td>\n",
              "      <td>39705.148438</td>\n",
              "      <td>38926.800781</td>\n",
              "      <td>39598.101562</td>\n",
              "      <td>39598.101562</td>\n",
              "      <td>173400.0</td>\n",
              "      <td>155.703125</td>\n",
              "      <td>0.394761</td>\n",
              "      <td>262.750000</td>\n",
              "      <td>0.666161</td>\n",
              "      <td>-515.597656</td>\n",
              "      <td>-1.307217</td>\n",
              "      <td>155.703125</td>\n",
              "      <td>0.394761</td>\n",
              "    </tr>\n",
              "    <tr>\n",
              "      <th>5555</th>\n",
              "      <td>2023-03-18</td>\n",
              "      <td>39442.398438</td>\n",
              "      <td>39705.148438</td>\n",
              "      <td>38926.800781</td>\n",
              "      <td>39598.101562</td>\n",
              "      <td>39598.101562</td>\n",
              "      <td>173400.0</td>\n",
              "      <td>155.703125</td>\n",
              "      <td>0.394761</td>\n",
              "      <td>262.750000</td>\n",
              "      <td>0.666161</td>\n",
              "      <td>-515.597656</td>\n",
              "      <td>-1.307217</td>\n",
              "      <td>155.703125</td>\n",
              "      <td>0.394761</td>\n",
              "    </tr>\n",
              "    <tr>\n",
              "      <th>5556</th>\n",
              "      <td>2023-03-19</td>\n",
              "      <td>39442.398438</td>\n",
              "      <td>39705.148438</td>\n",
              "      <td>38926.800781</td>\n",
              "      <td>39598.101562</td>\n",
              "      <td>39598.101562</td>\n",
              "      <td>173400.0</td>\n",
              "      <td>155.703125</td>\n",
              "      <td>0.394761</td>\n",
              "      <td>262.750000</td>\n",
              "      <td>0.666161</td>\n",
              "      <td>-515.597656</td>\n",
              "      <td>-1.307217</td>\n",
              "      <td>155.703125</td>\n",
              "      <td>0.394761</td>\n",
              "    </tr>\n",
              "    <tr>\n",
              "      <th>5557</th>\n",
              "      <td>2023-03-20</td>\n",
              "      <td>39512.101562</td>\n",
              "      <td>39512.101562</td>\n",
              "      <td>38941.898438</td>\n",
              "      <td>39361.949219</td>\n",
              "      <td>39361.949219</td>\n",
              "      <td>173800.0</td>\n",
              "      <td>-150.152344</td>\n",
              "      <td>-0.380016</td>\n",
              "      <td>0.000000</td>\n",
              "      <td>0.000000</td>\n",
              "      <td>-570.203125</td>\n",
              "      <td>-1.443110</td>\n",
              "      <td>-150.152344</td>\n",
              "      <td>-0.380016</td>\n",
              "    </tr>\n",
              "    <tr>\n",
              "      <th>5558</th>\n",
              "      <td>2023-03-21</td>\n",
              "      <td>39599.648438</td>\n",
              "      <td>39970.898438</td>\n",
              "      <td>39366.300781</td>\n",
              "      <td>39894.699219</td>\n",
              "      <td>39894.699219</td>\n",
              "      <td>187900.0</td>\n",
              "      <td>295.050781</td>\n",
              "      <td>0.745084</td>\n",
              "      <td>371.250000</td>\n",
              "      <td>0.937508</td>\n",
              "      <td>-233.347656</td>\n",
              "      <td>-0.589267</td>\n",
              "      <td>295.050781</td>\n",
              "      <td>0.745084</td>\n",
              "    </tr>\n",
              "    <tr>\n",
              "      <th>5559</th>\n",
              "      <td>2023-03-22</td>\n",
              "      <td>40036.000000</td>\n",
              "      <td>40085.601562</td>\n",
              "      <td>39837.800781</td>\n",
              "      <td>39999.050781</td>\n",
              "      <td>39999.050781</td>\n",
              "      <td>0.0</td>\n",
              "      <td>-36.949219</td>\n",
              "      <td>-0.092290</td>\n",
              "      <td>49.601562</td>\n",
              "      <td>0.123892</td>\n",
              "      <td>-198.199219</td>\n",
              "      <td>-0.495052</td>\n",
              "      <td>-36.949219</td>\n",
              "      <td>-0.092290</td>\n",
              "    </tr>\n",
              "    <tr>\n",
              "      <th>5560</th>\n",
              "      <td>2023-03-23</td>\n",
              "      <td>39836.148438</td>\n",
              "      <td>40201.601562</td>\n",
              "      <td>39552.500000</td>\n",
              "      <td>39616.898438</td>\n",
              "      <td>39616.898438</td>\n",
              "      <td>153200.0</td>\n",
              "      <td>-219.250000</td>\n",
              "      <td>-0.550380</td>\n",
              "      <td>365.453125</td>\n",
              "      <td>0.917391</td>\n",
              "      <td>-283.648438</td>\n",
              "      <td>-0.712038</td>\n",
              "      <td>-219.250000</td>\n",
              "      <td>-0.550380</td>\n",
              "    </tr>\n",
              "    <tr>\n",
              "      <th>5561</th>\n",
              "      <td>2023-03-24</td>\n",
              "      <td>39555.250000</td>\n",
              "      <td>39767.898438</td>\n",
              "      <td>39294.898438</td>\n",
              "      <td>39395.351562</td>\n",
              "      <td>39395.351562</td>\n",
              "      <td>166100.0</td>\n",
              "      <td>-159.898438</td>\n",
              "      <td>-0.404241</td>\n",
              "      <td>212.648438</td>\n",
              "      <td>0.537599</td>\n",
              "      <td>-260.351562</td>\n",
              "      <td>-0.658197</td>\n",
              "      <td>-159.898438</td>\n",
              "      <td>-0.404241</td>\n",
              "    </tr>\n",
              "    <tr>\n",
              "      <th>5562</th>\n",
              "      <td>2023-03-25</td>\n",
              "      <td>39555.250000</td>\n",
              "      <td>39767.898438</td>\n",
              "      <td>39294.898438</td>\n",
              "      <td>39395.351562</td>\n",
              "      <td>39395.351562</td>\n",
              "      <td>166100.0</td>\n",
              "      <td>-159.898438</td>\n",
              "      <td>-0.404241</td>\n",
              "      <td>212.648438</td>\n",
              "      <td>0.537599</td>\n",
              "      <td>-260.351562</td>\n",
              "      <td>-0.658197</td>\n",
              "      <td>-159.898438</td>\n",
              "      <td>-0.404241</td>\n",
              "    </tr>\n",
              "    <tr>\n",
              "      <th>5563</th>\n",
              "      <td>2023-03-26</td>\n",
              "      <td>39555.250000</td>\n",
              "      <td>39767.898438</td>\n",
              "      <td>39294.898438</td>\n",
              "      <td>39395.351562</td>\n",
              "      <td>39395.351562</td>\n",
              "      <td>166100.0</td>\n",
              "      <td>-159.898438</td>\n",
              "      <td>-0.404241</td>\n",
              "      <td>212.648438</td>\n",
              "      <td>0.537599</td>\n",
              "      <td>-260.351562</td>\n",
              "      <td>-0.658197</td>\n",
              "      <td>-159.898438</td>\n",
              "      <td>-0.404241</td>\n",
              "    </tr>\n",
              "    <tr>\n",
              "      <th>5564</th>\n",
              "      <td>2023-03-27</td>\n",
              "      <td>39484.699219</td>\n",
              "      <td>39695.199219</td>\n",
              "      <td>39273.750000</td>\n",
              "      <td>39431.300781</td>\n",
              "      <td>39431.300781</td>\n",
              "      <td>194200.0</td>\n",
              "      <td>-53.398438</td>\n",
              "      <td>-0.135238</td>\n",
              "      <td>210.500000</td>\n",
              "      <td>0.533118</td>\n",
              "      <td>-210.949219</td>\n",
              "      <td>-0.534256</td>\n",
              "      <td>-53.398438</td>\n",
              "      <td>-0.135238</td>\n",
              "    </tr>\n",
              "    <tr>\n",
              "      <th>5565</th>\n",
              "      <td>2023-03-28</td>\n",
              "      <td>39545.050781</td>\n",
              "      <td>39645.199219</td>\n",
              "      <td>39326.101562</td>\n",
              "      <td>39567.898438</td>\n",
              "      <td>39567.898438</td>\n",
              "      <td>202300.0</td>\n",
              "      <td>22.847656</td>\n",
              "      <td>0.057776</td>\n",
              "      <td>100.148438</td>\n",
              "      <td>0.253252</td>\n",
              "      <td>-218.949219</td>\n",
              "      <td>-0.553670</td>\n",
              "      <td>22.847656</td>\n",
              "      <td>0.057776</td>\n",
              "    </tr>\n",
              "    <tr>\n",
              "      <th>5566</th>\n",
              "      <td>2023-03-29</td>\n",
              "      <td>39611.550781</td>\n",
              "      <td>40055.000000</td>\n",
              "      <td>39609.550781</td>\n",
              "      <td>39910.148438</td>\n",
              "      <td>39910.148438</td>\n",
              "      <td>259600.0</td>\n",
              "      <td>298.597656</td>\n",
              "      <td>0.753815</td>\n",
              "      <td>443.449219</td>\n",
              "      <td>1.119495</td>\n",
              "      <td>-2.000000</td>\n",
              "      <td>-0.005049</td>\n",
              "      <td>298.597656</td>\n",
              "      <td>0.753815</td>\n",
              "    </tr>\n",
              "    <tr>\n",
              "      <th>5567</th>\n",
              "      <td>2023-03-30</td>\n",
              "      <td>39611.550781</td>\n",
              "      <td>40055.000000</td>\n",
              "      <td>39609.550781</td>\n",
              "      <td>39910.148438</td>\n",
              "      <td>39910.148438</td>\n",
              "      <td>259600.0</td>\n",
              "      <td>298.597656</td>\n",
              "      <td>0.753815</td>\n",
              "      <td>443.449219</td>\n",
              "      <td>1.119495</td>\n",
              "      <td>-2.000000</td>\n",
              "      <td>-0.005049</td>\n",
              "      <td>298.597656</td>\n",
              "      <td>0.753815</td>\n",
              "    </tr>\n",
              "    <tr>\n",
              "      <th>5568</th>\n",
              "      <td>2023-03-31</td>\n",
              "      <td>40231.250000</td>\n",
              "      <td>40690.398438</td>\n",
              "      <td>40180.199219</td>\n",
              "      <td>40608.648438</td>\n",
              "      <td>40608.648438</td>\n",
              "      <td>188000.0</td>\n",
              "      <td>377.398438</td>\n",
              "      <td>0.938073</td>\n",
              "      <td>459.148438</td>\n",
              "      <td>1.141273</td>\n",
              "      <td>-51.050781</td>\n",
              "      <td>-0.126893</td>\n",
              "      <td>377.398438</td>\n",
              "      <td>0.938073</td>\n",
              "    </tr>\n",
              "  </tbody>\n",
              "</table>\n",
              "</div>\n",
              "      <button class=\"colab-df-convert\" onclick=\"convertToInteractive('df-8ce73844-bd74-43f8-9ebe-84abf27219d2')\"\n",
              "              title=\"Convert this dataframe to an interactive table.\"\n",
              "              style=\"display:none;\">\n",
              "        \n",
              "  <svg xmlns=\"http://www.w3.org/2000/svg\" height=\"24px\"viewBox=\"0 0 24 24\"\n",
              "       width=\"24px\">\n",
              "    <path d=\"M0 0h24v24H0V0z\" fill=\"none\"/>\n",
              "    <path d=\"M18.56 5.44l.94 2.06.94-2.06 2.06-.94-2.06-.94-.94-2.06-.94 2.06-2.06.94zm-11 1L8.5 8.5l.94-2.06 2.06-.94-2.06-.94L8.5 2.5l-.94 2.06-2.06.94zm10 10l.94 2.06.94-2.06 2.06-.94-2.06-.94-.94-2.06-.94 2.06-2.06.94z\"/><path d=\"M17.41 7.96l-1.37-1.37c-.4-.4-.92-.59-1.43-.59-.52 0-1.04.2-1.43.59L10.3 9.45l-7.72 7.72c-.78.78-.78 2.05 0 2.83L4 21.41c.39.39.9.59 1.41.59.51 0 1.02-.2 1.41-.59l7.78-7.78 2.81-2.81c.8-.78.8-2.07 0-2.86zM5.41 20L4 18.59l7.72-7.72 1.47 1.35L5.41 20z\"/>\n",
              "  </svg>\n",
              "      </button>\n",
              "      \n",
              "  <style>\n",
              "    .colab-df-container {\n",
              "      display:flex;\n",
              "      flex-wrap:wrap;\n",
              "      gap: 12px;\n",
              "    }\n",
              "\n",
              "    .colab-df-convert {\n",
              "      background-color: #E8F0FE;\n",
              "      border: none;\n",
              "      border-radius: 50%;\n",
              "      cursor: pointer;\n",
              "      display: none;\n",
              "      fill: #1967D2;\n",
              "      height: 32px;\n",
              "      padding: 0 0 0 0;\n",
              "      width: 32px;\n",
              "    }\n",
              "\n",
              "    .colab-df-convert:hover {\n",
              "      background-color: #E2EBFA;\n",
              "      box-shadow: 0px 1px 2px rgba(60, 64, 67, 0.3), 0px 1px 3px 1px rgba(60, 64, 67, 0.15);\n",
              "      fill: #174EA6;\n",
              "    }\n",
              "\n",
              "    [theme=dark] .colab-df-convert {\n",
              "      background-color: #3B4455;\n",
              "      fill: #D2E3FC;\n",
              "    }\n",
              "\n",
              "    [theme=dark] .colab-df-convert:hover {\n",
              "      background-color: #434B5C;\n",
              "      box-shadow: 0px 1px 3px 1px rgba(0, 0, 0, 0.15);\n",
              "      filter: drop-shadow(0px 1px 2px rgba(0, 0, 0, 0.3));\n",
              "      fill: #FFFFFF;\n",
              "    }\n",
              "  </style>\n",
              "\n",
              "      <script>\n",
              "        const buttonEl =\n",
              "          document.querySelector('#df-8ce73844-bd74-43f8-9ebe-84abf27219d2 button.colab-df-convert');\n",
              "        buttonEl.style.display =\n",
              "          google.colab.kernel.accessAllowed ? 'block' : 'none';\n",
              "\n",
              "        async function convertToInteractive(key) {\n",
              "          const element = document.querySelector('#df-8ce73844-bd74-43f8-9ebe-84abf27219d2');\n",
              "          const dataTable =\n",
              "            await google.colab.kernel.invokeFunction('convertToInteractive',\n",
              "                                                     [key], {});\n",
              "          if (!dataTable) return;\n",
              "\n",
              "          const docLinkHtml = 'Like what you see? Visit the ' +\n",
              "            '<a target=\"_blank\" href=https://colab.research.google.com/notebooks/data_table.ipynb>data table notebook</a>'\n",
              "            + ' to learn more about interactive tables.';\n",
              "          element.innerHTML = '';\n",
              "          dataTable['output_type'] = 'display_data';\n",
              "          await google.colab.output.renderOutput(dataTable, element);\n",
              "          const docLink = document.createElement('div');\n",
              "          docLink.innerHTML = docLinkHtml;\n",
              "          element.appendChild(docLink);\n",
              "        }\n",
              "      </script>\n",
              "    </div>\n",
              "  </div>\n",
              "  "
            ]
          },
          "metadata": {},
          "execution_count": 28
        }
      ]
    },
    {
      "cell_type": "code",
      "source": [
        "import plotly.graph_objects as go\n",
        "\n",
        "fig = go.Figure(data=go.Ohlc(x=processed_data['Date'],\n",
        "        open=processed_data['Open'],\n",
        "        high=processed_data['High'],\n",
        "        low=processed_data['Low'],\n",
        "        close=processed_data['Close']))\n",
        "fig.show()\n"
      ],
      "metadata": {
        "colab": {
          "base_uri": "https://localhost:8080/",
          "height": 542
        },
        "id": "N2_uGqI0azmr",
        "outputId": "625e8e4d-ffad-45c3-fa9c-f2b30029fbac"
      },
      "execution_count": 29,
      "outputs": [
        {
          "output_type": "display_data",
          "data": {
            "text/html": [
              "<html>\n",
              "<head><meta charset=\"utf-8\" /></head>\n",
              "<body>\n",
              "    <div>            <script src=\"https://cdnjs.cloudflare.com/ajax/libs/mathjax/2.7.5/MathJax.js?config=TeX-AMS-MML_SVG\"></script><script type=\"text/javascript\">if (window.MathJax && window.MathJax.Hub && window.MathJax.Hub.Config) {window.MathJax.Hub.Config({SVG: {font: \"STIX-Web\"}});}</script>                <script type=\"text/javascript\">window.PlotlyConfig = {MathJaxConfig: 'local'};</script>\n",
              "        <script src=\"https://cdn.plot.ly/plotly-2.18.2.min.js\"></script>                <div id=\"20781ee4-b03c-4d28-9c16-1cae40ca8f2f\" class=\"plotly-graph-div\" style=\"height:525px; width:100%;\"></div>            <script type=\"text/javascript\">                                    window.PLOTLYENV=window.PLOTLYENV || {};                                    if (document.getElementById(\"20781ee4-b03c-4d28-9c16-1cae40ca8f2f\")) {                    Plotly.newPlot(                        \"20781ee4-b03c-4d28-9c16-1cae40ca8f2f\",                        [{\"close\":[9905.25,10250.849609375,10100.7001953125,10233.2001953125,10233.2001953125,10233.2001953125,10391.099609375,10355.599609375,10306.4501953125,10266.849609375,10561.5498046875,10561.5498046875,10561.5498046875,10698.349609375,10465.7001953125,10346.9501953125,10261.5,9739.900390625,9739.900390625,9739.900390625,9038.9501953125,8682.4501953125,9259.2001953125,9133.849609375,9752.25,9752.25,9752.25,9901.900390625,9569.599609375,9404.150390625,9226.25,9327.0498046875,9327.0498046875,9327.0498046875,9561.5,9397.7998046875,9185.650390625,8960.4501953125,8817.0,8817.0,8817.0,8419.25,8512.349609375,8748.75,9125.2001953125,9380.0498046875,9380.0498046875,9380.0498046875,9404.2001953125,9423.4501953125,9129.099609375,8946.2001953125,8685.099609375,8685.099609375,8685.099609375,8666.5,8742.25,8719.599609375,8608.25,8688.349609375,8688.349609375,8688.349609375,8047.4501953125,7736.60009765625,7588.35009765625,7588.35009765625,7268.14990234375,7268.14990234375,7268.14990234375,7272.5,7356.39990234375,7341.5498046875,6914.64990234375,7106.0,7106.0,7106.0,6556.2001953125,6472.7998046875,6456.5498046875,6456.5498046875,6456.5498046875,6456.5498046875,6456.5498046875,6634.60009765625,7147.14990234375,7120.89990234375,6969.2998046875,7037.85009765625,7037.85009765625,7037.85009765625,6655.0,6608.10009765625,6772.7001953125,6746.10009765625,6545.14990234375,6545.14990234375,6545.14990234375,6832.39990234375,6862.7001953125,7059.5498046875,6872.85009765625,6838.4501953125,6838.4501953125,6838.4501953125,6838.4501953125,6916.75,6951.89990234375,7165.0498046875,7165.0498046875,7165.0498046875,7165.0498046875,7425.4501953125,7520.89990234375,7378.0498046875,7391.89990234375,7616.2998046875,7616.2998046875,7616.2998046875,7590.0498046875,7737.4501953125,7629.0,7629.0,7871.89990234375,7871.89990234375,7871.89990234375,7851.5,7814.5498046875,7743.60009765625,7518.7998046875,7299.0,7299.0,7299.0,7330.5498046875,7340.9501953125,7324.85009765625,7508.14990234375,7644.60009765625,7644.60009765625,7644.60009765625,7644.60009765625,7459.2001953125,7374.25,7147.2998046875,7009.0498046875,7009.0498046875,7009.0498046875,6767.4501953125,6593.9501953125,6780.89990234375,6576.75,6584.35009765625,6584.35009765625,6584.35009765625,6347.14990234375,6301.2001953125,6113.64990234375,6211.7998046875,6140.0498046875,6140.0498046875,6140.0498046875,5949.2001953125,5814.35009765625,5971.25,5999.35009765625,5993.14990234375,5993.14990234375,5993.14990234375,6127.75,6425.64990234375,6200.5498046875,5957.25,5758.60009765625,5758.60009765625,5758.60009765625,5593.75,5489.85009765625,5480.7001953125,5512.14990234375,5210.89990234375,5210.89990234375,5210.89990234375,5027.0498046875,4732.85009765625,5025.75,4851.35009765625,4990.89990234375,4990.89990234375,4990.89990234375,5075.60009765625,5106.7998046875,5341.4501953125,5339.0,5240.7001953125,5240.7001953125,5240.7001953125,5207.75,4838.9501953125,4726.4501953125,5034.75,5389.14990234375,5389.14990234375,5389.14990234375,5601.5,5793.7001953125,6343.14990234375,6213.60009765625,5917.25,5917.25,5917.25,5919.14990234375,5422.14990234375,5719.4501953125,5730.0498046875,5961.89990234375,5961.89990234375,5961.89990234375,5992.39990234375,6371.7001953125,6328.2001953125,6363.14990234375,6447.5,6447.5,6447.5,6723.2001953125,6490.7998046875,6370.75,6030.0498046875,6030.0498046875,6030.0498046875,6030.0498046875,6015.0498046875,5992.39990234375,6026.2998046875,5711.5498046875,5776.0498046875,5776.0498046875,5776.0498046875,5860.7998046875,5943.2001953125,5823.5498046875,5721.14990234375,6102.0498046875,6102.0498046875,6102.0498046875,6128.85009765625,6508.89990234375,6508.89990234375,6494.64990234375,6288.60009765625,6288.60009765625,6288.60009765625,6538.85009765625,6441.35009765625,6427.5498046875,6332.25,6194.14990234375,6194.14990234375,6194.14990234375,5997.64990234375,6132.9501953125,5912.5,6077.2001953125,6312.0498046875,6312.0498046875,6312.0498046875,6303.89990234375,6033.35009765625,6109.64990234375,6080.2001953125,5828.60009765625,5828.60009765625,5828.60009765625,5538.75,5803.5498046875,5982.39990234375,5982.39990234375,5793.35009765625,5793.35009765625,5793.35009765625,5560.5498046875,5457.5498046875,5222.60009765625,5222.60009765625,4938.0,4938.0,4938.0,5496.75,5578.39990234375,5425.25,5481.64990234375,5183.5498046875,5183.5498046875,5183.5498046875,5284.2001953125,5414.5,5095.75,4932.39990234375,4310.0498046875,4310.0498046875,4310.0498046875,4092.89990234375,4092.89990234375,4280.4501953125,4280.4501953125,4521.7001953125,4521.7001953125,4521.7001953125,4875.7001953125,5220.7001953125,5121.2998046875,4940.0,5043.5498046875,5043.5498046875,5043.5498046875,5261.14990234375,4945.7001953125,4748.14990234375,4748.14990234375,4719.39990234375,4719.39990234375,4719.39990234375,4545.2998046875,4346.75,4233.7001953125,4086.89990234375,4300.7001953125,4300.7001953125,4300.7001953125,4164.75,4053.199951171875,4267.89990234375,4267.89990234375,4291.14990234375,4291.14990234375,4291.14990234375,4124.2998046875,4099.2998046875,4220.35009765625,4446.64990234375,4357.0,4357.0,4357.0,4429.85009765625,4429.85009765625,4550.75,4597.14990234375,4655.2998046875,4655.2998046875,4655.2998046875,4707.5,4820.64990234375,4789.64990234375,5122.9501953125,5144.14990234375,5144.14990234375,5144.14990234375,5036.5,4858.35009765625,4930.25,4930.25,4789.4501953125,4789.4501953125,4789.4501953125,4953.9501953125,5062.2001953125,5001.5498046875,5001.5498046875,5195.10009765625,5195.10009765625,5195.10009765625,5359.39990234375,5395.2998046875,4984.5498046875,4984.5498046875,4906.7001953125,4906.7001953125,4906.7001953125,4698.0,4661.7001953125,4751.10009765625,4484.64990234375,4581.25,4581.25,4581.25,4542.25,4402.35009765625,4252.2998046875,4289.7998046875,4082.14990234375,4082.14990234375,4082.14990234375,4082.14990234375,4199.5498046875,4340.10009765625,4362.0498046875,4456.5498046875,4456.5498046875,4456.5498046875,4238.14990234375,4253.7998046875,4251.2001953125,4235.35009765625,4334.14990234375,4334.14990234375,4334.14990234375,4459.5,4515.7998046875,4504.2998046875,4468.35009765625,4565.85009765625,4565.85009765625,4565.85009765625,4351.4501953125,4164.2998046875,4077.300048828125,4059.14990234375,3934.39990234375,3934.39990234375,3934.39990234375,3934.39990234375,3878.60009765625,3911.699951171875,3834.89990234375,3892.39990234375,3892.39990234375,3892.39990234375,3718.35009765625,3636.85009765625,3586.89990234375,3446.35009765625,3455.35009765625,3455.35009765625,3455.35009765625,3339.699951171875,3339.699951171875,3339.699951171875,3442.550048828125,3632.75,3632.75,3632.75,3736.64990234375,3644.64990234375,3727.64990234375,3763.5,3691.699951171875,3691.699951171875,3691.699951171875,3944.75,4008.050048828125,4126.4501953125,4285.14990234375,4406.7998046875,4406.7998046875,4406.7998046875,4035.699951171875,4133.2001953125,4211.4501953125,4426.0498046875,4426.0498046875,4426.0498046875,4426.0498046875,4487.10009765625,4487.10009765625,4479.35009765625,4584.7998046875,4584.7998046875,4584.7998046875,4584.7998046875,4818.0,4818.0,5049.4501953125,4915.75,5056.89990234375,5056.89990234375,5056.89990234375,5009.2001953125,4853.89990234375,4813.2998046875,4968.39990234375,5125.35009765625,5125.35009765625,5125.35009765625,5182.75,4931.2998046875,5130.9501953125,5130.9501953125,5130.9501953125,5130.9501953125,5130.9501953125,5504.0498046875,5596.2001953125,5446.4501953125,5577.2998046875,5409.75,5409.75,5409.75,5343.60009765625,5585.5498046875,5523.75,5495.10009765625,5695.0498046875,5695.0498046875,5695.0498046875,6766.5498046875,7268.2001953125,7128.60009765625,6905.0498046875,7036.2998046875,7036.2998046875,7036.2998046875,7049.75,6851.10009765625,7215.2001953125,7338.60009765625,7414.35009765625,7414.35009765625,7414.35009765625,7376.0,7374.5498046875,7262.2998046875,7347.35009765625,7348.39990234375,7348.39990234375,7348.39990234375,6975.0498046875,7185.75,7338.9501953125,7251.64990234375,7083.10009765625,7083.10009765625,7083.10009765625,7081.2001953125,7274.14990234375,7081.75,7081.14990234375,7223.5498046875,7223.5498046875,7223.5498046875,7229.5498046875,7091.2998046875,7107.89990234375,7123.0,7398.4501953125,7398.4501953125,7398.4501953125,7508.60009765625,7338.85009765625,7452.60009765625,7397.9501953125,7566.0498046875,7566.0498046875,7566.0498046875,6946.4501953125,6952.60009765625,6661.75,6672.75,6520.60009765625,6520.60009765625,6520.60009765625,6531.2998046875,6756.39990234375,6938.7001953125,6912.39990234375,7231.0498046875,7231.0498046875,7231.0498046875,7530.2001953125,7430.39990234375,7329.5498046875,7473.5,7385.5498046875,7385.5498046875,7385.5498046875,7398.64990234375,7312.5498046875,7224.2001953125,7389.7001953125,7544.5,7544.5,7544.5,7650.10009765625,7617.7998046875,7607.5,7471.7998046875,7249.5,7249.5,7249.5,7160.0,7218.25,7172.0498046875,7472.39990234375,7418.9501953125,7418.9501953125,7418.9501953125,7104.85009765625,7207.25,7106.7001953125,7261.2001953125,7377.10009765625,7377.10009765625,7377.10009765625,7507.39990234375,7424.5,7418.35009765625,7385.64990234375,7482.39990234375,7482.39990234375,7482.39990234375,7431.64990234375,7377.2001953125,7339.5498046875,7351.0,7444.14990234375,7444.14990234375,7444.14990234375,7650.64990234375,7717.89990234375,7776.2001953125,7828.2998046875,7914.9501953125,7914.9501953125,7914.9501953125,7985.60009765625,8210.7001953125,8362.7998046875,8433.349609375,8379.25,8379.25,8379.25,8379.25,8452.0,8423.7001953125,8545.0,8456.25,8456.25,8456.25,8456.25,8487.7001953125,8812.349609375,8861.0498046875,8861.0498046875,8861.0498046875,8861.0498046875,8661.7001953125,8808.400390625,8750.0,8834.599609375,8696.7998046875,8696.7998046875,8696.7998046875,8963.7998046875,8963.7998046875,9150.0,9296.75,9526.7001953125,9526.7001953125,9526.7001953125,9526.7001953125,9476.400390625,9273.0498046875,9090.099609375,9188.400390625,9188.400390625,9188.400390625,9033.849609375,8698.7998046875,8609.099609375,8417.849609375,8438.599609375,8438.599609375,8438.599609375,8438.599609375,8255.4501953125,8506.75,8537.2001953125,8723.75,8723.75,8723.75,9137.5,9179.5,9337.599609375,9084.7998046875,9155.650390625,9155.650390625,9155.650390625,9266.400390625,9299.599609375,9223.849609375,9041.650390625,9219.0498046875,9219.0498046875,9219.0498046875,9274.099609375,9247.650390625,9303.150390625,9067.650390625,8945.0498046875,8945.0498046875,8945.0498046875,9046.9501953125,9250.9501953125,9327.25,9345.25,9245.0498046875,9245.0498046875,9245.0498046875,9175.599609375,9290.099609375,9146.349609375,9205.650390625,9097.2001953125,9097.2001953125,9097.2001953125,8996.75,8734.4501953125,8667.400390625,8697.2001953125,8599.9501953125,8599.9501953125,8599.9501953125,8609.5498046875,8712.5,8919.0498046875,8968.099609375,8968.099609375,8968.099609375,8968.099609375,8968.099609375,8991.900390625,8994.599609375,9029.5,9029.5,9029.5,9029.5,9112.349609375,9192.150390625,9223.0,9192.9501953125,9160.7001953125,9160.7001953125,9160.7001953125,9173.5498046875,8985.099609375,8926.099609375,8910.7998046875,8911.099609375,8911.099609375,8911.099609375,9093.25,9135.900390625,9126.349609375,8919.2998046875,8772.650390625,8772.650390625,8772.650390625,8696.599609375,8696.599609375,8329.7998046875,8423.849609375,8651.5498046875,8651.5498046875,8651.5498046875,8649.25,8468.150390625,8631.849609375,8471.099609375,8223.25,8223.25,8223.25,8342.2001953125,8392.4501953125,8290.0,8381.400390625,8381.400390625,8381.400390625,8381.400390625,8312.7001953125,8397.7998046875,8551.5,8573.900390625,8487.099609375,8487.099609375,8487.099609375,8493.349609375,8512.9501953125,8504.5498046875,8537.7998046875,8722.75,8722.75,8722.75,8722.75,8922.099609375,9039.4501953125,9013.7998046875,9038.4501953125,9038.4501953125,9038.4501953125,9145.9501953125,9138.2001953125,9119.25,9186.849609375,9172.900390625,9172.900390625,9172.900390625,9085.5,9102.9501953125,9188.400390625,9252.2998046875,9270.7998046875,9270.7998046875,9270.7998046875,9186.9501953125,9222.900390625,9222.900390625,9318.25,9456.2001953125,9456.2001953125,9456.2001953125,9517.599609375,9470.2998046875,9459.599609375,9507.75,9507.75,9507.75,9507.75,9698.599609375,9728.2001953125,9681.0498046875,9520.0,9656.5,9656.5,9656.5,9575.4501953125,9483.0,9483.0,9344.599609375,9353.75,9353.75,9353.75,9302.900390625,9446.099609375,9555.2998046875,9623.25,9813.2998046875,9813.2998046875,9813.2998046875,9839.150390625,9756.4501953125,9634.900390625,9803.7998046875,9870.349609375,9870.349609375,9870.349609375,9775.5,9623.7001953125,9581.849609375,9582.0,9276.099609375,9276.099609375,9276.099609375,9656.25,9626.099609375,9722.2001953125,9773.349609375,9589.0498046875,9589.0498046875,9589.0498046875,9526.5,9492.25,9108.349609375,9174.599609375,9135.7001953125,9135.7001953125,9135.7001953125,9087.25,8851.75,9027.599609375,9258.4501953125,9312.599609375,9312.599609375,9312.599609375,9363.7001953125,9119.0498046875,9192.4501953125,9387.7001953125,9455.9501953125,9455.9501953125,9455.9501953125,9292.599609375,9185.2998046875,9238.2001953125,9346.4501953125,9451.75,9451.75,9451.75,9534.099609375,9554.400390625,9588.900390625,9613.400390625,9576.25,9576.25,9576.25,9758.0498046875,9675.5,9718.9501953125,9673.599609375,9451.099609375,9451.099609375,9451.099609375,9542.2001953125,9381.400390625,9464.599609375,9349.400390625,9357.150390625,9357.150390625,9357.150390625,9385.349609375,9550.900390625,9449.25,9566.599609375,9713.7001953125,9713.7001953125,9713.7001953125,9850.599609375,9931.599609375,9956.650390625,9932.099609375,10013.4501953125,10013.4501953125,10013.4501953125,10032.5,9976.0,9992.150390625,10060.25,10093.900390625,10093.900390625,10093.900390625,10024.0,10090.650390625,10068.150390625,10179.7001953125,10161.0,10161.0,10161.0,10411.5,10502.650390625,10489.2998046875,10454.900390625,10383.650390625,10383.650390625,10383.650390625,10524.099609375,10519.9501953125,10428.650390625,10583.650390625,10737.349609375,10737.349609375,10737.349609375,10680.5498046875,10770.25,10894.0498046875,11110.5,11033.75,11033.75,11033.75,11095.5,11043.0,10937.849609375,10981.7001953125,10727.4501953125,10727.4501953125,10727.4501953125,10747.25,10746.349609375,10879.75,10980.599609375,10991.2001953125,10991.2001953125,10991.2001953125,11218.7998046875,11192.9501953125,11190.0498046875,11446.7001953125,11446.7001953125,11446.7001953125,11446.7001953125,11872.849609375,11928.349609375,11987.599609375,12032.0498046875,12104.099609375,12104.099609375,12104.099609375,12251.2001953125,12244.9501953125,12305.7001953125,12146.2998046875,12263.5498046875,12263.5498046875,12263.5498046875,12253.2001953125,12272.400390625,12237.5498046875,12366.349609375,12556.75,12556.75,12556.75,12651.2998046875,12596.5,12629.2001953125,12536.599609375,12473.400390625,12473.400390625,12473.400390625,12513.0,12461.7998046875,12745.0,12598.849609375,12346.4501953125,12346.4501953125,12346.4501953125,12331.2998046875,12245.650390625,12176.5,12435.7998046875,12384.7998046875,12384.7998046875,12384.7998046875,12424.7001953125,12332.650390625,12182.650390625,12105.2998046875,12330.75,12330.75,12330.75,12734.900390625,12770.900390625,12891.7998046875,13182.900390625,13182.900390625,13182.900390625,13182.900390625,13105.099609375,13121.349609375,13007.099609375,12823.599609375,12457.2998046875,12457.2998046875,12457.2998046875,12762.150390625,12524.4501953125,12524.4501953125,12315.150390625,12062.9501953125,12062.9501953125,12062.9501953125,12390.099609375,12206.4501953125,11842.5498046875,11652.400390625,11668.849609375,11668.849609375,11668.849609375,11828.349609375,11952.599609375,12310.75,12472.599609375,12349.2001953125,12349.2001953125,12349.2001953125,12051.2001953125,11695.2998046875,11460.2001953125,11116.0498046875,11447.0,11447.0,11447.0,11518.099609375,11560.5,11196.2998046875,11424.150390625,11424.150390625,11424.150390625,11424.150390625,11267.099609375,11537.25,11467.7001953125,11469.0498046875,11477.0498046875,11477.0498046875,11477.0498046875,11470.9501953125,11427.2998046875,11612.900390625,11629.2998046875,11791.4501953125,11791.4501953125,11791.4501953125,11855.75,11564.0498046875,11305.4501953125,11186.7998046875,11053.349609375,11053.349609375,11053.349609375,10700.650390625,10833.5498046875,11128.150390625,10716.650390625,10432.900390625,10432.900390625,10432.900390625,10471.099609375,10618.5,10615.150390625,10798.349609375,10889.400390625,10889.400390625,10889.400390625,11151.150390625,10872.9501953125,10872.9501953125,10676.150390625,10578.25,10578.25,10578.25,10641.849609375,10481.2001953125,10470.150390625,10670.599609375,10433.849609375,10433.849609375,10433.849609375,10384.0498046875,10147.75,10116.650390625,10074.099609375,10447.75,10447.75,10447.75,10802.5498046875,10959.7001953125,10960.7001953125,11134.7001953125,10949.7001953125,10949.7001953125,10949.7001953125,11050.099609375,10836.7998046875,10646.4501953125,10210.75,10435.849609375,10435.849609375,10435.849609375,10435.349609375,10885.400390625,10885.400390625,10914.5,10963.400390625,10963.400390625,10963.400390625,10782.25,10931.5498046875,10974.7998046875,10850.25,10740.9501953125,10740.9501953125,10740.9501953125,10893.25,10725.7998046875,10957.599609375,10851.9501953125,10715.900390625,10715.900390625,10715.900390625,10723.599609375,10771.2998046875,10958.099609375,11070.349609375,11387.2998046875,11387.2998046875,11387.2998046875,11523.400390625,11582.5,11765.2001953125,11705.4501953125,11590.9501953125,11590.9501953125,11590.9501953125,11804.2998046875,11798.900390625,11730.0498046875,11754.400390625,11673.25,11673.25,11673.25,11597.7998046875,11597.7998046875,11839.5,11839.5,11735.650390625,11735.650390625,11735.650390625,11539.75,11586.75,11794.5498046875,11894.75,11894.75,11894.75,11894.75,11879.0,11867.7001953125,11779.849609375,11684.7998046875,11483.75,11483.75,11483.75,11243.7998046875,10898.2998046875,10913.349609375,10730.099609375,11145.099609375,11145.099609375,11145.099609375,11076.5,11009.400390625,11059.0498046875,10887.4501953125,11020.9501953125,11020.9501953125,11020.9501953125,10912.349609375,10668.849609375,10599.0498046875,10558.349609375,10664.099609375,10664.099609375,10664.099609375,10368.25,10425.5498046875,10355.7998046875,10468.2998046875,10722.650390625,10722.650390625,10722.650390625,10781.4501953125,10781.4501953125,11033.400390625,10839.25,10782.0,10782.0,10782.0,10854.650390625,10873.4501953125,10791.4501953125,10785.400390625,10714.25,10714.25,10714.25,10717.5,10803.9501953125,10626.650390625,10572.150390625,10598.25,10598.25,10598.25,10484.2998046875,10459.150390625,10475.2001953125,10526.4501953125,10854.5,10854.5,10854.5,11032.5,11054.0498046875,11153.349609375,11244.650390625,11255.0,11255.0,11255.0,11379.7998046875,11406.099609375,11283.0498046875,11426.099609375,11285.150390625,11285.150390625,11285.150390625,11135.5,11022.5498046875,11142.25,11263.7998046875,11234.5498046875,11234.5498046875,11234.5498046875,11228.849609375,11313.849609375,11164.7001953125,11049.7998046875,11291.9501953125,11291.9501953125,11291.9501953125,11391.7998046875,11114.5498046875,11000.150390625,10828.5,10893.650390625,10893.650390625,10893.650390625,10939.0,10743.2998046875,10639.5498046875,10537.0498046875,10354.5,10354.5,10354.5,10232.2998046875,10196.5498046875,10463.2001953125,10338.7998046875,10182.7001953125,10182.7001953125,10182.7001953125,10182.7001953125,10056.400390625,9953.2001953125,9601.5,9404.849609375,9404.849609375,9404.849609375,9407.349609375,9488.7001953125,9331.849609375,9177.25,8974.5498046875,8974.5498046875,8974.5498046875,9342.4501953125,9533.400390625,9533.400390625,9533.400390625,9581.349609375,9581.349609375,9581.349609375,9614.0498046875,9657.599609375,9858.900390625,9920.0498046875,9678.7001953125,9678.7001953125,9678.7001953125,9395.25,9339.7001953125,9472.4501953125,9660.349609375,9720.25,9720.25,9720.25,9583.5498046875,9812.7001953125,9929.0,9520.599609375,9375.7001953125,9375.7001953125,9375.7001953125,9384.5,9619.9501953125,9512.150390625,9653.400390625,9468.2998046875,9468.2998046875,9468.2998046875,9185.900390625,8913.349609375,8701.2998046875,8701.2998046875,9038.25,9038.25,9038.25,9168.900390625,9178.650390625,9482.2998046875,9591.25,9660.400390625,9660.400390625,9660.400390625,9721.2998046875,9583.900390625,9841.349609375,9746.400390625,9695.349609375,9695.349609375,9695.349609375,9647.849609375,9511.599609375,9511.599609375,9511.599609375,9917.0498046875,9917.0498046875,9917.0498046875,9989.650390625,9822.25,9781.0498046875,9782.5,9836.349609375,9836.349609375,9836.349609375,9836.349609375,9852.5498046875,9592.650390625,9592.650390625,9292.5498046875,9292.5498046875,9292.5498046875,9275.0,9085.7001953125,9061.5498046875,8930.900390625,8850.25,8850.25,8850.25,8554.150390625,8611.7001953125,8399.2998046875,8399.2998046875,8488.599609375,8488.599609375,8488.599609375,8793.150390625,8623.900390625,8564.099609375,8895.2998046875,9172.75,9172.75,9172.75,9173.75,9173.75,9176.25,8915.7001953125,8811.099609375,8811.099609375,8811.099609375,8543.400390625,8571.9501953125,8533.0,8445.099609375,8171.89990234375,8171.89990234375,8171.89990234375,7920.75,7798.5498046875,8189.14990234375,8384.650390625,8296.4501953125,8296.4501953125,8296.4501953125,8296.4501953125,8275.5,8111.39990234375,8027.39990234375,7968.64990234375,7968.64990234375,7968.64990234375,7968.64990234375,8340.2998046875,8408.400390625,8454.900390625,8488.25,8488.25,8488.25,8481.349609375,8735.0498046875,8839.7001953125,8930.25,8975.0498046875,8975.0498046875,8975.0498046875,8940.25,9056.7001953125,9023.400390625,9199.400390625,9516.849609375,9516.849609375,9516.849609375,9520.2998046875,9834.0,9856.599609375,9856.599609375,9813.650390625,9813.650390625,9813.650390625,9537.099609375,9919.4501953125,9949.099609375,9992.0498046875,10133.650390625,10133.650390625,10133.650390625,10269.25,10324.599609375,10320.099609375,10507.599609375,10442.650390625,10442.650390625,10442.650390625,10473.599609375,10556.650390625,10930.7001953125,10921.900390625,11074.900390625,11074.900390625,11074.900390625,11074.900390625,11170.400390625,10747.150390625,10713.349609375,10506.7998046875,10506.7998046875,10506.7998046875,10103.9501953125,10484.0,10414.2001953125,10288.900390625,10434.2998046875,10434.2998046875,10434.2998046875,10178.849609375,10058.150390625,10132.849609375,10132.849609375,10505.650390625,10505.650390625,10505.650390625,10625.650390625,10686.2001953125,10889.7001953125,10595.0,10391.349609375,10391.349609375,10391.349609375,10188.849609375,10281.599609375,10524.4501953125,10173.5498046875,10294.5498046875,10294.5498046875,10294.5498046875,10043.5,10148.849609375,9960.400390625,9927.650390625,10212.75,10212.75,10212.75,10305.349609375,10432.599609375,10340.099609375,10340.099609375,10340.099609375,10340.099609375,10340.099609375,10131.599609375,10196.0498046875,10214.25,10400.7001953125,10306.25,10306.25,10306.25,10432.7001953125,10519.5498046875,10512.4501953125,10567.900390625,10456.5,10456.5,10456.5,10243.150390625,10215.150390625,10159.849609375,10128.0,10148.7001953125,10148.7001953125,10148.7001953125,10276.7998046875,10276.7998046875,10306.599609375,10126.5498046875,9802.349609375,9802.349609375,9802.349609375,9876.349609375,9588.75,9404.7998046875,9410.900390625,9398.099609375,9398.099609375,9398.099609375,9257.650390625,9319.7001953125,9164.25,9154.2001953125,9310.25,9310.25,9310.25,9310.25,9268.7998046875,9209.900390625,9437.599609375,9456.2998046875,9456.2998046875,9456.2998046875,9698.2998046875,9708.099609375,9534.0498046875,9441.0,9267.599609375,9267.599609375,9267.599609375,9362.2998046875,9460.150390625,9742.7998046875,9950.900390625,9998.849609375,9998.849609375,9998.849609375,9969.2001953125,10139.2001953125,10128.150390625,9836.9501953125,10064.7998046875,10064.7998046875,10064.7998046875,9749.900390625,9786.4501953125,9831.7998046875,10033.650390625,10038.349609375,10038.349609375,10038.349609375,9925.75,9970.099609375,10017.7998046875,10003.849609375,10340.650390625,10340.650390625,10340.650390625,10412.2001953125,10481.2998046875,10529.4501953125,10641.900390625,10655.349609375,10655.349609375,10655.349609375,10588.0498046875,10751.5498046875,10713.2998046875,10616.2998046875,10594.4501953125,10594.4501953125,10594.4501953125,10568.2001953125,10558.0498046875,10607.099609375,10622.0498046875,10481.599609375,10481.599609375,10481.599609375,10274.599609375,10299.0,10267.849609375,10083.7998046875,10140.5498046875,10140.5498046875,10140.5498046875,10412.150390625,10384.099609375,10419.900390625,10379.599609375,10315.599609375,10315.599609375,10315.599609375,10462.400390625,10591.9501953125,10529.25,10445.900390625,10358.9501953125,10358.9501953125,10358.9501953125,10401.2998046875,10519.150390625,10519.150390625,10426.75,10417.900390625,10417.900390625,10417.900390625,10417.900390625,10469.5,10472.2001953125,10457.7001953125,10332.849609375,10332.849609375,10332.849609375,10150.400390625,10150.400390625,10011.900390625,10085.2001953125,9990.5,9990.5,9990.5,9963.0,10020.650390625,9827.900390625,9893.150390625,10122.0,10122.0,10122.0,10069.849609375,10135.900390625,10183.4501953125,10207.7998046875,10642.900390625,10642.900390625,10642.900390625,10981.650390625,11043.5,11043.5,10920.7998046875,11358.5,11358.5,11358.5,11423.5,11420.75,11427.25,11419.4501953125,11456.7998046875,11456.7998046875,11456.7998046875,11420.4501953125,11420.4501953125,11414.9501953125,11636.0498046875,11511.400390625,11511.400390625,11511.400390625,11362.2001953125,11446.099609375,11291.5,11431.2998046875,11388.4501953125,11388.4501953125,11388.4501953125,11441.7998046875,11348.0,11358.25,11586.349609375,11491.2001953125,11491.2001953125,11491.2001953125,11607.400390625,11578.150390625,11578.150390625,11614.5,11614.5,11614.5,11614.5,11472.150390625,11203.0,11268.7998046875,11315.0498046875,11460.4501953125,11460.4501953125,11460.4501953125,11475.150390625,11539.0498046875,11665.5,11613.5498046875,11475.599609375,11475.599609375,11475.599609375,11583.849609375,11583.849609375,11583.849609375,11521.400390625,11335.5,11335.5,11335.5,11306.9501953125,11318.2998046875,11465.349609375,11508.349609375,11475.7998046875,11475.7998046875,11475.7998046875,11432.4501953125,11657.400390625,11657.400390625,11992.7998046875,12158.900390625,12158.900390625,12158.900390625,12103.900390625,12197.150390625,12281.599609375,12427.5498046875,12363.7001953125,12363.7001953125,12363.7001953125,12381.650390625,12344.599609375,12301.7001953125,12269.150390625,12424.7001953125,12424.7001953125,12424.7001953125,12427.4501953125,12477.150390625,12510.25,12486.5,12315.0498046875,12315.0498046875,12315.0498046875,12317.7001953125,12317.7001953125,12479.4501953125,12459.7001953125,12458.150390625,12458.150390625,12458.150390625,12474.25,12474.25,12786.849609375,12778.150390625,12787.349609375,12787.349609375,12787.349609375,12708.7001953125,12725.5,12718.0,12802.25,12617.849609375,12617.849609375,12617.849609375,12758.75,12855.400390625,12638.5,12649.599609375,12680.0,12680.0,12680.0,12651.349609375,12574.349609375,12635.2001953125,12561.400390625,12693.25,12693.25,12693.25,12781.349609375,12722.7998046875,12767.5,12708.599609375,12606.25,12606.25,12606.25,12548.349609375,12467.75,12417.7001953125,12349.2998046875,12280.150390625,12280.150390625,12280.150390625,12333.0,12405.25,12385.099609375,12311.2998046875,12336.5498046875,12336.5498046875,12336.5498046875,12347.2001953125,12413.650390625,12363.7001953125,12055.5,12068.9501953125,12068.9501953125,12068.9501953125,12037.2998046875,11844.849609375,11930.5,11487.349609375,11540.0498046875,11540.0498046875,11540.0498046875,11575.599609375,11792.0498046875,11876.2001953125,11970.25,12197.25,12197.25,12197.25,12165.400390625,12054.5,11777.5,12020.75,11816.5498046875,11816.5498046875,11816.5498046875,11735.5,11508.0498046875,11254.849609375,11238.349609375,11204.0498046875,11204.0498046875,11204.0498046875,11125.650390625,11163.4501953125,11163.4501953125,11361.849609375,11361.849609375,11361.849609375,11361.849609375,11425.5498046875,11523.400390625,11344.099609375,11126.25,11098.9501953125,11098.9501953125,11098.9501953125,11012.650390625,10929.150390625,11122.25,11306.5,11410.099609375,11410.099609375,11410.099609375,11526.25,11871.599609375,11981.0498046875,12288.25,12288.25,12288.25,12288.25,12576.2001953125,12543.400390625,12543.400390625,12726.849609375,12533.150390625,12533.150390625,12533.150390625,12609.150390625,12561.5498046875,12561.5498046875,12709.9501953125,12393.599609375,12393.599609375,12393.599609375,12396.400390625,12631.5,12643.0498046875,12596.2998046875,12752.2998046875,12752.2998046875,12752.2998046875,12568.849609375,12583.599609375,13077.900390625,13239.4501953125,13317.099609375,13317.099609375,13317.099609375,13181.5,13066.5,13008.25,12636.5,12769.349609375,12769.349609375,12769.349609375,12961.5498046875,12950.0,12853.2001953125,12805.900390625,12475.650390625,12475.650390625,12475.650390625,12402.099609375,12275.099609375,12289.349609375,12398.400390625,12231.5,12231.5,12231.5,12087.0498046875,11820.5,11814.849609375,11686.75,11922.849609375,11922.849609375,11922.849609375,11971.0498046875,11820.9501953125,11852.650390625,11375.400390625,11340.150390625,11340.150390625,11340.150390625,11178.2998046875,11181.0498046875,11066.5498046875,11235.75,11617.25,11617.25,11617.25,11714.900390625,11614.25,11357.7998046875,11381.2001953125,11434.2998046875,11434.2998046875,11434.2998046875,11283.2998046875,11442.4501953125,11364.4501953125,11655.2998046875,11722.7998046875,11722.7998046875,11722.7998046875,11790.25,11226.150390625,10971.599609375,11187.7001953125,10973.900390625,10973.900390625,10973.900390625,11086.9501953125,11239.7001953125,10720.150390625,10614.0,10465.25,10465.25,10465.25,10331.0,10209.5498046875,10015.75,10142.9501953125,9997.7998046875,9997.7998046875,9997.7998046875,10094.900390625,9703.099609375,9757.25,9816.400390625,9816.400390625,9816.400390625,9816.400390625,9711.400390625,9985.650390625,10026.400390625,10026.400390625,9450.849609375,9450.849609375,9450.849609375,9145.0,9218.9501953125,9264.400390625,9268.900390625,9470.099609375,9470.099609375,9470.099609375,9373.5498046875,8870.5,8760.849609375,8904.599609375,9049.2001953125,9049.2001953125,9049.2001953125,9139.5,8664.2001953125,8845.75,9682.400390625,9961.400390625,9961.400390625,9961.400390625,9961.400390625,10188.25,10369.099609375,10158.5498046875,10180.4501953125,10180.4501953125,10180.4501953125,10368.400390625,10279.599609375,10447.849609375,11148.650390625,10686.7998046875,10686.7998046875,10686.7998046875,10211.7001953125,10175.900390625,10081.7001953125,10098.25,9899.75,9899.75,9899.75,9617.7998046875,9883.2998046875,9883.2998046875,10222.9501953125,10197.150390625,10197.150390625,10197.150390625,10082.099609375,10141.4501953125,10334.9501953125,10288.9501953125,10622.150390625,10622.150390625,10622.150390625,10665.25,10389.25,10389.25,10336.5498046875,10744.900390625,10744.900390625,10744.900390625,10797.5498046875,10809.099609375,10880.650390625,10902.4501953125,10896.5,10896.5,10896.5,10773.2001953125,11241.650390625,11249.349609375,11473.150390625,11628.650390625,11628.650390625,11628.650390625,11628.650390625,11498.900390625,11292.5498046875,11054.900390625,10913.150390625,10913.150390625,10913.150390625,10758.4501953125,10583.0498046875,10523.349609375,10811.2001953125,10811.2001953125,10811.2001953125,10811.2001953125,11142.2998046875,11187.849609375,10967.150390625,10706.900390625,10677.349609375,10677.349609375,10677.349609375,11083.400390625,10909.349609375,10899.2998046875,10906.75,11153.9501953125,11153.9501953125,11153.9501953125,11284.349609375,11211.2998046875,11156.75,11665.099609375,11720.2001953125,11720.2001953125,11720.2001953125,12065.900390625,11843.4501953125,11784.349609375,11635.5,11366.900390625,11366.900390625,11366.900390625,11372.9501953125,11208.650390625,11357.900390625,11087.4501953125,11292.349609375,11292.349609375,11292.349609375,11378.5,11330.650390625,11330.650390625,11385.75,11459.7001953125,11459.7001953125,11459.7001953125,11376.0,11385.25,11385.25,11183.2001953125,11181.650390625,11181.650390625,11181.650390625,11049.0498046875,11036.75,11053.7001953125,10970.4501953125,10805.2998046875,10805.2998046875,10805.2998046875,11021.599609375,10948.900390625,11125.400390625,11092.5498046875,10911.349609375,10911.349609375,10911.349609375,11007.5,11171.5,11207.349609375,11199.0,10982.400390625,10982.400390625,10982.400390625,10540.400390625,10507.599609375,10437.75,10153.150390625,10237.75,10237.75,10237.75,10102.099609375,10191.2001953125,10231.650390625,10205.2001953125,10263.2001953125,10263.2001953125,10263.2001953125,10213.900390625,10245.4501953125,10348.7998046875,10135.7001953125,10203.75,10203.75,10203.75,10203.75,10575.2001953125,10609.599609375,10428.2998046875,10554.349609375,10554.349609375,10554.349609375,10683.5,10666.75,10730.400390625,10730.400390625,10764.7001953125,10764.7001953125,10764.7001953125,10651.9501953125,10929.0498046875,11098.7998046875,11278.349609375,11884.75,11884.75,11884.75,12108.099609375,12043.150390625,12024.099609375,12141.4501953125,12055.849609375,12055.849609375,12055.849609375,12055.849609375,12114.849609375,12186.5498046875,12017.25,12092.349609375,12092.349609375,12092.349609375,12408.150390625,12450.0,12518.349609375,12604.9501953125,12754.7001953125,12754.7001953125,12754.7001953125,12742.0498046875,12588.5,12715.2998046875,12563.849609375,12551.7001953125,12551.7001953125,12551.7001953125,12506.4501953125,12506.4501953125,12937.400390625,12949.400390625,12840.2001953125,12840.2001953125,12840.2001953125,12840.2001953125,12579.900390625,12563.150390625,12787.25,12787.25,12787.25,12787.25,12958.5,12987.099609375,13122.099609375,13122.099609375,13034.5,13034.5,13034.5,13081.5498046875,12910.5498046875,12855.849609375,12855.849609375,12842.0,12842.0,12842.0,12880.650390625,12966.0498046875,12938.2001953125,13037.400390625,13750.5,13750.5,13750.5,14085.0498046875,14165.5498046875,14207.099609375,14236.5498046875,14853.0,14853.0,14853.0,15222.150390625,15111.2001953125,14952.099609375,15055.5498046875,15285.5,15285.5,15285.5,15175.900390625,15084.0,15173.349609375,15030.2998046875,14793.400390625,14793.400390625,14793.400390625,15287.25,15257.5,15333.400390625,15282.150390625,15543.150390625,15543.150390625,15543.150390625,15567.400390625,15427.7998046875,15450.5498046875,15464.849609375,15106.900390625,15106.900390625,15106.900390625,15030.0,15373.2001953125,15220.400390625,15067.400390625,14997.650390625,14997.650390625,14997.650390625,15076.349609375,15309.5,15237.849609375,15050.0,14992.349609375,14992.349609375,14992.349609375,15241.900390625,15321.349609375,15490.349609375,15451.650390625,15556.150390625,15556.150390625,15556.150390625,15367.599609375,14997.5,14931.099609375,14821.7001953125,14447.2001953125,14447.2001953125,14447.2001953125,14489.75,14891.900390625,15265.4501953125,15269.0498046875,15389.349609375,15389.349609375,15389.349609375,15385.9501953125,15427.349609375,15463.0,15534.349609375,15322.25,15322.25,15322.25,15212.150390625,15212.150390625,15452.400390625,15267.599609375,15127.7998046875,15127.7998046875,15127.7998046875,15242.349609375,15293.25,15008.650390625,14986.849609375,14765.75,14765.75,14765.75,14846.7998046875,15056.7001953125,14910.900390625,15089.650390625,15089.650390625,15089.650390625,15089.650390625,15439.75,15524.650390625,15481.7001953125,15662.2001953125,15819.150390625,15819.150390625,15819.150390625,15669.0,15624.099609375,15717.650390625,15740.400390625,15740.400390625,15740.400390625,15740.400390625,16012.7998046875,16130.5498046875,16110.0,16033.5498046875,15982.5,15982.5,15982.5,16206.7001953125,16156.75,16151.75,16204.150390625,16254.150390625,16254.150390625,16254.150390625,16167.5498046875,15844.099609375,15838.599609375,16156.849609375,16152.150390625,16152.150390625,16152.150390625,16194.5498046875,15902.849609375,15740.2998046875,15299.0498046875,15607.25,15607.25,15607.25,15473.5498046875,15392.25,15316.2001953125,15316.2001953125,15316.2001953125,15316.2001953125,15316.2001953125,15316.2001953125,15180.25,15344.0,15741.2001953125,15453.7998046875,15453.7998046875,15453.7998046875,15677.5,15751.5498046875,15751.5498046875,15541.599609375,15929.7998046875,15929.7998046875,15929.7998046875,16216.599609375,16427.25,16444.69921875,16444.69921875,16444.69921875,16444.69921875,16444.69921875,16556.599609375,16667.0,16634.05078125,16760.05078125,17045.05078125,17045.05078125,17045.05078125,17134.099609375,17134.099609375,17352.94921875,17352.94921875,17347.05078125,17347.05078125,17347.05078125,17262.400390625,17390.19921875,17587.05078125,17453.0,17576.80078125,17576.80078125,17576.80078125,17640.400390625,17702.55078125,17585.650390625,17645.05078125,18056.30078125,18056.30078125,18056.30078125,18281.94921875,18037.05078125,17975.94921875,18022.5,18513.150390625,18513.150390625,18513.150390625,18525.30078125,18555.849609375,18645.849609375,18782.849609375,18756.75,18756.75,18756.75,18510.05078125,18290.650390625,18462.94921875,18405.0,18299.75,18299.75,18299.75,18372.650390625,17830.55078125,17865.75,18326.599609375,18478.900390625,18478.900390625,18478.900390625,18747.349609375,18603.75,18535.349609375,18535.349609375,18557.19921875,18557.19921875,18557.19921875,18528.349609375,18647.55078125,18736.650390625,18736.650390625,19057.80078125,19057.80078125,19057.80078125,19017.400390625,18430.75,18304.25,18701.400390625,18637.25,18637.25,18637.25,18795.849609375,18707.19921875,18603.80078125,19235.650390625,19223.150390625,19223.150390625,19223.150390625,19406.05078125,19767.05078125,19843.25,19917.650390625,20072.69921875,20072.69921875,20072.69921875,20072.69921875,20555.25,20491.75,20528.599609375,19843.75,19843.75,19843.75,19865.900390625,19382.94921875,19174.0,19051.900390625,19051.900390625,19051.900390625,19051.900390625,18403.849609375,18752.5,18940.80078125,19128.599609375,19369.69921875,19369.69921875,19369.69921875,19189.94921875,19189.94921875,19296.5,19188.30078125,19073.55078125,19073.55078125,19073.55078125,18913.400390625,18883.80078125,18733.05078125,18538.099609375,19074.55078125,19074.55078125,19074.55078125,20008.099609375,19961.19921875,19643.900390625,19748.0,19748.0,19748.0,19748.0,19145.55078125,19054.400390625,19044.0,19141.849609375,18779.80078125,18779.80078125,18779.80078125,18837.349609375,19058.25,19147.25,18811.150390625,18606.349609375,18606.349609375,18606.349609375,18449.0,18331.44921875,18310.099609375,17831.650390625,18044.80078125,18044.80078125,18044.80078125,18361.80078125,18206.650390625,18206.650390625,18206.650390625,18206.650390625,18206.650390625,18206.650390625,18605.44921875,18469.30078125,18416.599609375,18875.849609375,18875.849609375,18875.849609375,18875.849609375,18875.849609375,18875.849609375,18716.30078125,18637.05078125,18637.05078125,18637.05078125,18637.05078125,18112.75,18105.75,18243.69921875,18245.599609375,18245.599609375,18245.599609375,18245.599609375,17767.599609375,18246.25,18302.650390625,18302.650390625,18302.650390625,18302.650390625,18302.650390625,18501.30078125,18471.44921875,17799.55078125,17376.900390625,17376.900390625,17376.900390625,17376.900390625,18199.75,17628.650390625,18097.44921875,18116.19921875,18116.19921875,18116.19921875,18116.19921875,18422.94921875,18380.400390625,18555.150390625,18513.150390625,18513.150390625,18513.150390625,18513.150390625,18324.849609375,18329.30078125,18538.849609375,18449.19921875,18721.349609375,18721.349609375,18721.349609375,18617.0,17977.30078125,17721.400390625,17719.19921875,17549.25,17549.25,17549.25,17432.599609375,17489.900390625,17707.25,17304.400390625,17523.55078125,17523.55078125,17523.55078125,17458.69921875,17602.44921875,17584.05078125,17733.55078125,17880.849609375,17880.849609375,17880.849609375,18334.5,18391.349609375,18365.55078125,18492.900390625,18371.5,18371.5,18371.5,18241.25,18296.099609375,18581.599609375,18585.55078125,18585.55078125,18585.55078125,18585.55078125,18825.150390625,18798.5,18463.150390625,18508.69921875,18719.80078125,18719.80078125,18719.80078125,18893.55078125,18780.19921875,18816.25,19168.05078125,19094.69921875,19094.69921875,19094.69921875,19032.69921875,18723.400390625,18997.0,18865.0,18635.849609375,18635.849609375,18635.849609375,18213.05078125,18282.80078125,18323.400390625,18440.400390625,18729.849609375,18729.849609375,18729.849609375,18914.69921875,18972.599609375,18928.55078125,19029.349609375,18893.55078125,18893.55078125,18893.55078125,18875.0,18616.900390625,18059.75,18175.400390625,18723.599609375,18723.599609375,18723.599609375,18822.05078125,18780.849609375,18703.25,18283.099609375,18057.19921875,18057.19921875,18057.19921875,16811.80078125,17192.75,16917.650390625,17214.400390625,17211.94921875,17211.94921875,17211.94921875,17146.55078125,16530.30078125,16252.7001953125,16555.400390625,16129.099609375,16129.099609375,16129.099609375,15790.099609375,16350.9501953125,16631.5,16597.650390625,16612.599609375,16612.599609375,16612.599609375,16911.80078125,16739.55078125,16739.55078125,16739.55078125,17409.150390625,17409.150390625,17409.150390625,17542.900390625,17031.150390625,17255.30078125,17255.30078125,17255.30078125,17255.30078125,17255.30078125,17100.30078125,17281.19921875,17216.30078125,17216.30078125,17216.30078125,17216.30078125,17216.30078125,17674.05078125,17605.349609375,17616.80078125,17474.30078125,17590.25,17590.25,17590.25,17583.150390625,17554.849609375,17543.25,17686.099609375,17912.849609375,17912.849609375,17912.849609375,17855.05078125,17830.25,17710.55078125,17710.55078125,17934.05078125,17934.05078125,17934.05078125,17815.05078125,17806.30078125,17373.150390625,17212.19921875,17354.5,17354.5,17354.5,17340.599609375,17325.599609375,17221.05078125,16995.099609375,16995.099609375,16995.099609375,16995.099609375,16995.099609375,16995.099609375,16995.099609375,16995.099609375,16995.099609375,16995.099609375,16995.099609375,16995.099609375,16995.099609375,16995.099609375,16995.099609375,16995.099609375,16995.099609375,16995.099609375,16995.099609375,16995.099609375,16995.099609375,16995.099609375,16995.099609375,16995.099609375,16995.099609375,16995.099609375,16995.099609375,16995.099609375,16995.099609375,16995.099609375,16995.099609375,16995.099609375,16995.099609375,16995.099609375,16995.099609375,16995.099609375,16995.099609375,16995.099609375,16995.099609375,16995.099609375,16398.650390625,16398.650390625,16398.650390625,16398.650390625,16398.650390625,16398.650390625,16398.650390625,16398.650390625,16398.650390625,16398.650390625,16398.650390625,16398.650390625,16398.650390625,16398.650390625,16398.650390625,16398.650390625,16398.650390625,16398.650390625,16398.650390625,16398.650390625,16398.650390625,16398.650390625,16398.650390625,16398.650390625,16398.650390625,16398.650390625,16398.650390625,16398.650390625,16398.650390625,16398.650390625,15609.7998046875,15609.7998046875,15609.7998046875,15609.7998046875,15609.7998046875,15609.7998046875,15609.7998046875,15609.7998046875,15609.7998046875,15609.7998046875,15609.7998046875,15561.150390625,15561.150390625,15561.150390625,15561.150390625,15561.150390625,15561.150390625,15561.150390625,15561.150390625,15561.150390625,15561.150390625,15561.150390625,15561.150390625,15561.150390625,15561.150390625,15046.7998046875,15046.7998046875,15046.7998046875,15046.7998046875,15046.7998046875,15046.7998046875,15046.7998046875,15046.7998046875,15046.7998046875,15046.7998046875,15046.7998046875,14344.2001953125,14344.2001953125,14344.2001953125,14344.2001953125,14344.2001953125,14344.2001953125,13555.7001953125,13555.7001953125,13555.7001953125,13555.7001953125,13555.7001953125,13555.7001953125,13555.7001953125,13555.7001953125,13555.7001953125,13555.7001953125,13555.7001953125,13555.7001953125,13555.7001953125,13555.7001953125,13555.7001953125,13555.7001953125,13555.7001953125,13555.7001953125,13555.7001953125,13555.7001953125,13555.7001953125,13555.7001953125,13555.7001953125,13555.7001953125,13555.7001953125,13555.7001953125,13555.7001953125,13555.7001953125,13555.7001953125,13555.7001953125,13555.7001953125,13555.7001953125,13555.7001953125,13555.7001953125,13555.7001953125,13555.7001953125,13555.7001953125,13555.7001953125,13555.7001953125,16190.599609375,16190.599609375,16190.599609375,16190.599609375,16190.599609375,16190.599609375,16190.599609375,16190.599609375,16190.599609375,16190.599609375,16190.599609375,16190.599609375,16190.599609375,16190.599609375,16190.599609375,16190.599609375,16190.599609375,16190.599609375,16190.599609375,16190.599609375,16190.599609375,16190.599609375,16190.599609375,16190.599609375,16190.599609375,16190.599609375,16190.599609375,16190.599609375,16190.599609375,16190.599609375,16190.599609375,16190.599609375,16190.599609375,16190.599609375,16190.599609375,16190.599609375,16190.599609375,16190.599609375,16190.599609375,16190.599609375,16190.599609375,16190.599609375,16190.599609375,16190.599609375,16190.599609375,16190.599609375,16190.599609375,16190.599609375,16190.599609375,16190.599609375,16190.599609375,16997.44921875,16997.44921875,16997.44921875,16997.44921875,16997.44921875,16997.44921875,16997.44921875,16997.44921875,16997.44921875,16997.44921875,16997.44921875,16997.44921875,17671.400390625,17671.400390625,17671.400390625,17671.400390625,17828.599609375,17828.599609375,17828.599609375,17828.599609375,17828.599609375,17828.599609375,17828.599609375,17828.599609375,17828.599609375,17828.599609375,17828.599609375,17828.599609375,17828.599609375,17828.599609375,17828.599609375,17828.599609375,17828.599609375,17828.599609375,17828.599609375,17828.599609375,17828.599609375,17828.599609375,17828.599609375,17828.599609375,17828.599609375,17828.599609375,17828.599609375,17828.599609375,17828.599609375,17828.599609375,17828.599609375,17828.599609375,17828.599609375,17828.599609375,17828.599609375,17828.599609375,17828.599609375,17828.599609375,17828.599609375,17828.599609375,17828.599609375,17828.599609375,17828.599609375,17828.599609375,17828.599609375,17828.599609375,17828.599609375,17828.599609375,19076.55078125,19076.55078125,19076.55078125,19076.55078125,19076.55078125,19076.55078125,19076.55078125,19076.55078125,19076.55078125,19076.55078125,19076.55078125,19076.55078125,19076.55078125,19076.55078125,19076.55078125,19076.55078125,19076.55078125,19076.55078125,19076.55078125,19076.55078125,19076.55078125,19076.55078125,19076.55078125,19076.55078125,19076.55078125,19076.55078125,19076.55078125,19076.55078125,19076.55078125,19076.55078125,19076.55078125,19076.55078125,19076.55078125,19076.55078125,19076.55078125,19076.55078125,19076.55078125,19076.55078125,19076.55078125,19076.55078125,19076.55078125,19076.55078125,19076.55078125,19076.55078125,19076.55078125,19076.55078125,19076.55078125,19076.55078125,19076.55078125,19076.55078125,19076.55078125,19076.55078125,19076.55078125,19076.55078125,19076.55078125,19076.55078125,19076.55078125,19076.55078125,19076.55078125,19076.55078125,19076.55078125,19076.55078125,19076.55078125,19076.55078125,19076.55078125,19076.55078125,19076.55078125,19076.55078125,19076.55078125,19076.55078125,19076.55078125,19076.55078125,19076.55078125,19076.55078125,19076.55078125,19076.55078125,19076.55078125,19076.55078125,19076.55078125,19076.55078125,19076.55078125,19076.55078125,19076.55078125,19076.55078125,19076.55078125,19076.55078125,19076.55078125,19076.55078125,19076.55078125,19076.55078125,19076.55078125,19076.55078125,19076.55078125,19076.55078125,19076.55078125,19076.55078125,19076.55078125,19076.55078125,19076.55078125,19076.55078125,19076.55078125,19076.55078125,19076.55078125,19076.55078125,19076.55078125,20200.25,20200.25,20200.25,20200.25,20200.25,20200.25,20200.25,20200.25,20200.25,20200.25,20200.25,20200.25,20200.25,20200.25,20200.25,20200.25,20200.25,20200.25,20200.25,20200.25,20200.25,20200.25,20200.25,20200.25,20200.25,20200.25,20200.25,20200.25,20200.25,20200.25,20200.25,20200.25,18392.94921875,18466.05078125,18341.5,18401.150390625,18312.80078125,18312.80078125,18312.80078125,18257.05078125,18069.400390625,18084.5,17891.44921875,17884.0,17884.0,17884.0,17884.0,17879.55078125,17876.69921875,18033.150390625,18177.19921875,18177.19921875,18177.19921875,18177.19921875,18035.599609375,17891.0,18115.94921875,18264.0,18264.0,18264.0,18286.650390625,18409.599609375,18830.0,18873.94921875,18912.099609375,18912.099609375,18912.099609375,19096.44921875,19067.05078125,19164.5,19124.25,18820.80078125,18820.80078125,18820.80078125,18842.69921875,19023.5,19473.19921875,19473.19921875,19708.30078125,19708.30078125,19708.30078125,19585.25,19515.150390625,20020.599609375,20070.30078125,20196.80078125,20196.80078125,20196.80078125,20371.599609375,20327.25,20245.400390625,20151.150390625,20213.900390625,20213.900390625,20213.900390625,20251.80078125,20258.099609375,20163.69921875,20243.69921875,20551.349609375,20551.349609375,20551.349609375,20677.099609375,20860.94921875,20868.44921875,20876.650390625,20876.650390625,20876.650390625,20876.650390625,20613.05078125,20607.25,20783.75,20560.05078125,20495.599609375,20495.599609375,20495.599609375,20663.650390625,20627.5,20676.55078125,20721.349609375,20727.55078125,20727.55078125,20727.55078125,20727.55078125,21102.69921875,21157.900390625,21249.900390625,21175.05078125,21175.05078125,21175.05078125,21110.25,21019.0,20781.349609375,20895.5,21122.55078125,21122.55078125,21122.55078125,21056.900390625,21225.400390625,21391.150390625,21620.69921875,21444.150390625,21444.150390625,21444.150390625,21547.75,21547.75,21652.69921875,21622.94921875,21431.150390625,21431.150390625,21431.150390625,21520.150390625,21736.150390625,21666.80078125,21686.599609375,21686.599609375,21686.599609375,21686.599609375,21647.599609375,21671.849609375,21556.349609375,21491.400390625,21551.44921875,21551.44921875,21551.44921875,21857.400390625,22054.69921875,22242.849609375,22326.30078125,22358.25,22358.25,22358.25,22358.25,22341.349609375,22307.30078125,22720.099609375,22604.94921875,22604.94921875,22604.94921875,22767.349609375,22707.30078125,22830.349609375,22818.44921875,22671.69921875,22671.69921875,22671.69921875,22821.5,22928.599609375,22935.94921875,22698.599609375,22769.80078125,22769.80078125,22769.80078125,22652.849609375,22582.80078125,22536.30078125,23190.80078125,23362.19921875,23362.19921875,23362.19921875,23182.75,23307.25,23424.80078125,23310.150390625,23375.900390625,23375.900390625,23375.900390625,23459.650390625,23416.30078125,23567.650390625,23536.099609375,23690.900390625,23690.900390625,23690.900390625,23470.44921875,23477.849609375,23498.69921875,23391.75,23502.75,23502.75,23502.75,23742.150390625,23697.94921875,23708.75,23736.099609375,23542.75,23542.75,23542.75,23542.75,23216.25,23235.849609375,23227.30078125,23211.19921875,23211.19921875,23211.19921875,23272.80078125,23214.19921875,23352.599609375,23466.650390625,23449.150390625,23449.150390625,23449.150390625,23675.05078125,23584.599609375,23695.44921875,23888.650390625,23937.69921875,23937.69921875,23937.69921875,24015.05078125,24022.05078125,24152.650390625,24213.349609375,24257.05078125,24257.05078125,24257.05078125,24420.849609375,24520.69921875,24670.69921875,24922.400390625,24811.30078125,24811.30078125,24811.30078125,25103.650390625,25122.80078125,25055.19921875,24675.05078125,24827.44921875,24827.44921875,24827.44921875,24906.349609375,24599.5,24374.599609375,24217.349609375,23985.75,23985.75,23985.75,24115.75,24115.75,24437.69921875,24237.25,24074.44921875,24074.44921875,24074.44921875,23936.5,23974.44921875,24316.80078125,24274.19921875,24274.19921875,24274.19921875,24274.19921875,24377.099609375,24128.94921875,24308.69921875,24318.400390625,24434.0,24434.0,24434.0,24434.0,24328.30078125,24279.150390625,24304.900390625,24370.80078125,24370.80078125,24370.80078125,24672.25,24784.69921875,24831.80078125,24912.25,24844.30078125,24844.30078125,24844.30078125,25046.900390625,25041.55078125,24965.05078125,24799.25,24368.849609375,24368.849609375,24368.849609375,24165.05078125,24199.150390625,23812.94921875,24008.150390625,24053.0,24053.0,24053.0,24053.0,24103.400390625,24113.30078125,24058.05078125,24190.0,24190.0,24190.0,24251.900390625,24347.44921875,24107.44921875,24361.25,24689.150390625,24689.150390625,24689.150390625,24703.05078125,24645.599609375,24313.75,24009.75,24009.75,24009.75,24009.75,24088.900390625,24222.150390625,25035.900390625,25022.19921875,24839.55078125,24839.55078125,24839.55078125,24988.55078125,25019.349609375,25490.44921875,25427.30078125,25650.69921875,25650.69921875,25650.69921875,25571.150390625,25300.80078125,25184.349609375,25291.349609375,25498.94921875,25498.94921875,25498.94921875,25358.30078125,25284.599609375,25218.900390625,25446.599609375,25728.400390625,25728.400390625,25728.400390625,25768.599609375,25757.5,25766.650390625,25736.25,25779.650390625,25779.650390625,25779.650390625,25891.94921875,25846.400390625,25795.69921875,25332.400390625,25191.94921875,25191.94921875,25191.94921875,25075.099609375,25124.849609375,24851.80078125,25057.25,25321.150390625,25321.150390625,25321.150390625,25404.849609375,25125.44921875,25000.349609375,25168.19921875,25440.30078125,25440.30078125,25440.30078125,25594.55078125,25716.19921875,25591.69921875,25554.30078125,25648.55078125,25648.55078125,25648.55078125,25648.55078125,25675.25,25496.05078125,25490.0,25539.44921875,25539.44921875,25539.44921875,25539.44921875,25338.25,25318.599609375,25462.599609375,25601.849609375,25601.849609375,25601.849609375,25676.099609375,25703.80078125,25617.30078125,25660.900390625,25749.05078125,25749.05078125,25749.05078125,26069.19921875,25974.900390625,26289.099609375,26537.400390625,26909.5,26909.5,26909.5,27041.19921875,27390.599609375,27398.55078125,27445.650390625,27445.650390625,27445.650390625,27445.650390625,27498.44921875,27269.05078125,27379.44921875,27220.69921875,26451.150390625,26451.150390625,26451.150390625,26098.75,25811.30078125,25670.0,25920.650390625,25463.650390625,25463.650390625,25463.650390625,25701.599609375,25701.599609375,25341.25,25424.349609375,25163.900390625,25163.900390625,25163.900390625,25058.55078125,24874.400390625,24936.69921875,24955.19921875,25302.5,25302.5,25302.5,25687.900390625,25383.599609375,25107.400390625,24902.55078125,24902.55078125,24902.55078125,24902.55078125,24818.69921875,24448.44921875,24134.099609375,24477.650390625,24296.44921875,24296.44921875,24296.44921875,24664.19921875,24738.650390625,24851.650390625,24791.849609375,24489.55078125,24489.55078125,24489.55078125,24245.099609375,24168.19921875,24255.599609375,24141.5,23670.400390625,23670.400390625,23670.400390625,24244.349609375,24434.150390625,24263.349609375,24263.349609375,24263.349609375,24263.349609375,24263.349609375,24328.5,24510.599609375,24129.5,24759.80078125,24873.150390625,24873.150390625,24873.150390625,25093.80078125,25226.80078125,25098.25,25195.099609375,25200.599609375,25200.599609375,25200.599609375,25320.849609375,25334.44921875,25102.30078125,25126.150390625,24943.849609375,24943.849609375,24943.849609375,24960.650390625,25042.099609375,24814.400390625,25010.900390625,25394.599609375,25394.599609375,25394.599609375,25531.599609375,25531.599609375,25568.30078125,25605.25,25645.400390625,25645.400390625,25645.400390625,25852.05078125,26090.5,26154.44921875,26131.0,26413.150390625,26413.150390625,26413.150390625,26475.150390625,26474.0,26182.150390625,26073.80078125,25875.599609375,25875.599609375,25875.599609375,25750.80078125,25777.69921875,25684.94921875,26016.80078125,26273.55078125,26273.55078125,26273.55078125,26614.25,26254.80078125,26327.80078125,26956.19921875,26692.80078125,26692.80078125,26692.80078125,26257.55078125,26251.0,26367.599609375,26517.80078125,26451.349609375,26451.349609375,26451.349609375,26453.55078125,26607.099609375,26642.80078125,26562.25,26417.400390625,26417.400390625,26417.400390625,26409.30078125,26265.75,26557.69921875,26496.94921875,26766.849609375,26766.849609375,26766.849609375,26609.69921875,26601.69921875,26423.400390625,26324.599609375,26364.19921875,26364.19921875,26364.19921875,26230.30078125,26204.099609375,26433.94921875,26503.30078125,26493.849609375,26493.849609375,26493.849609375,26753.30078125,26894.55078125,26816.19921875,27026.55078125,26935.94921875,26935.94921875,26935.94921875,26679.80078125,27008.099609375,26880.900390625,26789.650390625,26873.19921875,26873.19921875,26873.19921875,27008.150390625,26974.400390625,27031.30078125,27406.400390625,27634.400390625,27634.400390625,27634.400390625,27842.599609375,27764.150390625,27596.599609375,27355.94921875,27695.5,27695.5,27695.5,27898.5,27875.900390625,28062.44921875,28320.0,28124.25,28124.25,28124.25,27794.400390625,28021.69921875,28021.69921875,27826.55078125,28128.55078125,28128.55078125,28128.55078125,28274.25,28257.900390625,28257.900390625,28027.900390625,27834.69921875,27834.69921875,27834.69921875,28264.19921875,28269.650390625,28224.099609375,28103.25,28061.75,28061.75,28061.75,27819.5,27430.75,27376.05078125,27468.69921875,27481.44921875,27481.44921875,27481.44921875,27201.75,26807.5,26819.19921875,26819.19921875,27163.849609375,27163.849609375,27163.849609375,26820.30078125,26441.44921875,26277.349609375,26277.349609375,25596.900390625,25596.900390625,25596.900390625,24970.349609375,25330.349609375,25376.30078125,25042.150390625,25119.849609375,25119.849609375,25119.849609375,25367.0,25367.0,25069.900390625,24819.30078125,24443.44921875,24443.44921875,24443.44921875,24618.349609375,24527.650390625,25321.69921875,24783.94921875,25395.849609375,25395.849609375,25395.849609375,25388.05078125,25589.650390625,25188.599609375,25188.599609375,25085.80078125,25085.80078125,25085.80078125,25078.599609375,24972.44921875,25064.19921875,24817.44921875,24421.05078125,24421.05078125,24421.05078125,24959.69921875,24807.75,25153.25,25323.650390625,25701.650390625,25701.650390625,25701.650390625,25732.19921875,25598.0,25737.5,25737.5,25771.0,25771.0,25771.0,25539.75,25768.599609375,25930.150390625,26154.75,26245.55078125,26245.55078125,26245.55078125,26300.69921875,26113.349609375,26262.05078125,25999.44921875,25999.44921875,25999.44921875,25999.44921875,26365.599609375,26443.099609375,26457.94921875,26939.599609375,26862.94921875,26862.94921875,26862.94921875,26857.55078125,26693.80078125,26519.599609375,26198.30078125,26594.30078125,26594.30078125,26594.30078125,26102.650390625,26163.400390625,26643.849609375,26816.349609375,26826.0,26826.0,26826.0,27015.80078125,27174.69921875,27298.400390625,27275.099609375,26869.650390625,26869.650390625,26869.650390625,26714.75,26714.75,26986.80078125,26878.55078125,27125.25,27125.25,27125.25,27160.19921875,27160.19921875,27174.69921875,26959.849609375,27195.0,27195.0,27195.0,27304.55078125,27509.5,27720.400390625,27528.55078125,27453.900390625,27453.900390625,27453.900390625,27248.25,27400.75,27483.69921875,27528.75,27456.69921875,27456.69921875,27456.69921875,27533.599609375,27482.25,27250.75,27266.400390625,27115.30078125,27115.30078125,27115.30078125,26653.05078125,26573.400390625,26825.5,27295.44921875,27085.94921875,27085.94921875,27085.94921875,27186.599609375,27271.69921875,27402.349609375,27387.150390625,27294.400390625,27294.400390625,27294.400390625,27227.80078125,27010.75,27010.75,26970.599609375,26794.25,26794.25,26794.25,26654.25,26684.849609375,26955.5,27052.400390625,26867.55078125,26867.55078125,26867.55078125,27159.25,26952.94921875,26799.30078125,26789.900390625,27043.900390625,27043.900390625,27043.900390625,27043.900390625,27554.05078125,27625.650390625,27764.599609375,27761.80078125,27761.80078125,27761.80078125,27966.650390625,28443.69921875,28884.30078125,28923.099609375,29381.44921875,29381.44921875,29381.44921875,29596.099609375,29767.849609375,29832.19921875,29832.19921875,29582.5,29582.5,29582.5,29281.19921875,29882.150390625,30019.80078125,30420.55078125,30420.55078125,30420.55078125,30420.55078125,30326.5,30354.25,30093.30078125,29904.900390625,30084.650390625,30084.650390625,30084.650390625,29845.30078125,30113.849609375,29803.5,29786.099609375,29938.55078125,29938.55078125,29938.55078125,30104.25,30531.349609375,30531.349609375,30223.400390625,30223.400390625,30223.400390625,30223.400390625,29687.94921875,29479.69921875,29860.80078125,29561.349609375,30013.5,30013.5,30013.5,30013.5,29764.80078125,29764.80078125,29708.599609375,29954.150390625,29954.150390625,29954.150390625,29618.44921875,29288.19921875,28994.400390625,28884.599609375,29040.5,29040.5,29040.5,28659.94921875,28829.19921875,28616.44921875,28855.30078125,29450.150390625,29450.150390625,29450.150390625,30759.69921875,30308.400390625,30526.80078125,30409.099609375,31212.55078125,31212.55078125,31212.55078125,31647.650390625,31597.900390625,31295.55078125,31537.099609375,31375.400390625,31375.400390625,31375.400390625,31653.650390625,31589.05078125,31589.05078125,30857.400390625,31066.55078125,31066.55078125,31066.55078125,31034.0,31265.44921875,30965.69921875,30976.099609375,30614.349609375,30614.349609375,30614.349609375,30273.25,30351.0,30362.099609375,30781.099609375,30628.349609375,30628.349609375,30628.349609375,30602.05078125,30847.05078125,31162.349609375,31269.5,31105.19921875,31105.19921875,31105.19921875,31372.19921875,31283.30078125,31382.30078125,31471.849609375,31475.80078125,31475.80078125,31475.80078125,30603.849609375,30569.150390625,30522.099609375,30716.55078125,30601.44921875,30601.44921875,30601.44921875,30445.94921875,30570.80078125,30735.5,30430.599609375,29770.349609375,29770.349609375,29770.349609375,29284.94921875,29128.099609375,28952.25,29043.05078125,29325.30078125,29325.30078125,29325.30078125,29295.900390625,28791.599609375,28876.0,28367.25,28204.94921875,28204.94921875,28204.94921875,27648.05078125,28022.099609375,27702.05078125,28110.44921875,28431.900390625,28431.900390625,28431.900390625,28431.900390625,27729.099609375,28019.19921875,28019.19921875,28217.0,28217.0,28217.0,28186.099609375,27982.44921875,27719.05078125,27034.19921875,26958.650390625,26958.650390625,26958.650390625,27951.349609375,28126.150390625,27804.30078125,27305.19921875,27427.849609375,27427.849609375,27427.849609375,27427.849609375,26824.150390625,27123.849609375,26919.69921875,27247.900390625,27247.900390625,27247.900390625,27504.650390625,27504.650390625,27776.19921875,27818.5,28098.75,28098.75,28098.75,27855.0,27131.75,27172.650390625,26757.650390625,28981.55078125,28981.55078125,28981.55078125,30566.19921875,30183.099609375,29586.05078125,30002.599609375,29876.650390625,29876.650390625,29876.650390625,29103.150390625,28725.5,28725.5,28414.099609375,27731.849609375,27731.849609375,27731.849609375,27767.55078125,27767.55078125,28785.849609375,28013.44921875,28042.5,28042.5,28042.5,28181.94921875,28555.099609375,28538.80078125,28989.44921875,29120.25,29120.25,29120.25,29120.25,29411.150390625,29459.599609375,29107.94921875,29395.94921875,29395.94921875,29395.94921875,29395.94921875,29873.05078125,29987.5,30066.25,30330.55078125,30330.55078125,30330.55078125,30333.099609375,30219.849609375,30609.599609375,30633.150390625,30749.400390625,30749.400390625,30749.400390625,31115.55078125,31115.55078125,30541.55078125,30749.94921875,31008.400390625,31008.400390625,31008.400390625,30992.099609375,31236.25,31353.849609375,31349.94921875,31111.599609375,31111.599609375,31111.599609375,31555.900390625,31718.349609375,31875.94921875,32122.94921875,31946.099609375,31946.099609375,31946.099609375,31871.44921875,31613.349609375,31979.30078125,31712.94921875,31341.55078125,31341.55078125,31341.55078125,31316.650390625,31160.349609375,31256.75,31665.44921875,32014.25,32014.25,32014.25,31974.19921875,32140.25,32244.25,32241.44921875,32384.94921875,32384.94921875,32384.94921875,32339.44921875,32280.75,32280.75,31997.69921875,32412.349609375,32412.349609375,32412.349609375,32354.900390625,32161.650390625,32161.650390625,32443.849609375,32069.25,32069.25,32069.25,31237.150390625,31399.400390625,31373.650390625,32092.400390625,32097.400390625,32097.400390625,32097.400390625,32177.650390625,32071.650390625,31824.900390625,31853.900390625,31590.650390625,31590.650390625,31590.650390625,31080.650390625,30947.55078125,30701.44921875,31004.05078125,31241.75,31241.75,31241.75,30837.400390625,30761.400390625,30877.0,30647.400390625,30833.599609375,30833.599609375,30833.599609375,30023.25,30686.69921875,31001.94921875,31304.05078125,31201.94921875,31201.94921875,31201.94921875,31058.150390625,31300.599609375,31492.900390625,31230.25,30834.80078125,30834.80078125,30834.80078125,30680.69921875,30562.5,30838.19921875,30942.849609375,30942.849609375,30942.849609375,30942.849609375,30455.099609375,30432.69921875,30306.849609375,30187.0,29147.150390625,29147.150390625,29147.150390625,28868.400390625,29177.05078125,28653.69921875,28815.349609375,27801.44921875,27801.44921875,27801.44921875,26462.599609375,26462.599609375,26487.80078125,23971.150390625,25166.44921875,25166.44921875,25166.44921875,23101.150390625,22155.150390625,20580.19921875,20083.5,20317.599609375,20317.599609375,20317.599609375,16917.650390625,17107.30078125,18481.05078125,19613.900390625,19969.0,19969.0,19969.0,18782.400390625,19144.0,18208.349609375,18208.349609375,17249.30078125,17249.30078125,17249.30078125,17249.30078125,19062.5,18946.44921875,19913.599609375,19913.599609375,19913.599609375,19913.599609375,19488.0,19488.0,19057.05078125,19400.0,20681.44921875,20681.44921875,20681.44921875,20522.650390625,19409.349609375,19701.849609375,20267.94921875,19586.650390625,19586.650390625,19586.650390625,20081.150390625,20671.099609375,21090.19921875,21534.5,21534.5,21534.5,21534.5,19743.75,19271.75,19694.55078125,19491.80078125,19352.900390625,19352.900390625,19352.900390625,18950.5,18862.849609375,19634.94921875,19068.5,18833.94921875,18833.94921875,18833.94921875,17573.19921875,17486.25,17840.19921875,17735.099609375,17278.900390625,17278.900390625,17278.900390625,17278.900390625,17440.349609375,18710.55078125,19169.80078125,19297.25,19297.25,19297.25,19959.900390625,20530.19921875,20940.69921875,20390.44921875,21034.5,21034.5,21034.5,21187.349609375,20724.900390625,21100.099609375,20525.150390625,20654.55078125,20654.55078125,20654.55078125,19912.900390625,20296.69921875,20201.75,20956.30078125,21338.099609375,21338.099609375,21338.099609375,21708.349609375,22264.900390625,21426.80078125,21506.150390625,21592.05078125,21592.05078125,21592.05078125,21359.0,21370.150390625,21977.599609375,21953.19921875,21852.400390625,21852.400390625,21852.400390625,22198.94921875,22628.0,22584.650390625,22907.19921875,22398.44921875,22398.44921875,22398.44921875,22089.25,21392.19921875,21340.75,21597.150390625,21966.80078125,21966.80078125,21966.80078125,22321.849609375,22782.0,22882.599609375,23083.900390625,22662.05078125,22662.05078125,22662.05078125,21848.75,22105.19921875,22076.599609375,21646.849609375,21640.05078125,21640.05078125,21640.05078125,21072.099609375,21490.5,21509.94921875,21642.599609375,21754.0,21754.0,21754.0,21900.25,22227.19921875,22264.0,22196.349609375,21679.400390625,21679.400390625,21679.400390625,21700.849609375,22170.599609375,22285.900390625,21999.44921875,22299.599609375,22299.599609375,22299.599609375,22833.0,23092.150390625,23414.19921875,23600.349609375,24523.80078125,24523.80078125,24523.80078125,23754.349609375,23812.0,23874.55078125,23530.849609375,23011.5,23011.5,23011.5,22945.05078125,22744.400390625,22267.0,22466.19921875,22479.94921875,22479.94921875,22479.94921875,22101.25,22465.650390625,22573.55078125,22320.349609375,22031.05078125,22031.05078125,22031.05078125,21366.80078125,21139.099609375,21178.5,20456.849609375,20982.349609375,20982.349609375,20982.349609375,21665.5,21411.30078125,21451.80078125,22246.0,22246.0,22246.0,22246.0,22370.94921875,22853.69921875,22964.80078125,23191.349609375,23846.80078125,23846.80078125,23846.80078125,23712.80078125,23492.19921875,23874.650390625,23072.400390625,23533.25,23533.25,23533.25,24266.75,24311.80078125,24635.05078125,24484.150390625,24478.30078125,24478.30078125,24478.30078125,24075.44921875,24769.5,24232.5,24092.0,23900.900390625,23900.900390625,23900.900390625,24892.5,25682.80078125,25771.599609375,26313.099609375,26798.94921875,26798.94921875,26798.94921875,27534.099609375,28606.0,28845.0,28278.80078125,28465.69921875,28465.69921875,28465.69921875,28465.69921875,29181.30078125,29749.849609375,28903.05078125,29236.0,29236.0,29236.0,29024.19921875,29737.25,29196.400390625,29549.75,29609.05078125,29609.05078125,29609.05078125,29609.05078125,29817.849609375,29463.150390625,29448.75,30052.400390625,30052.400390625,30052.400390625,30211.55078125,30261.900390625,30709.400390625,30510.349609375,30604.849609375,30604.849609375,30604.849609375,30745.900390625,30691.05078125,30698.400390625,30847.05078125,30714.650390625,30714.650390625,30714.650390625,29456.44921875,29625.94921875,29883.30078125,30402.19921875,30402.19921875,30402.19921875,30402.19921875,30880.94921875,31322.5,31303.05078125,31264.05078125,31264.05078125,31264.05078125,31264.05078125,31212.44921875,31722.25,31797.900390625,31956.0,32084.19921875,32084.19921875,32084.19921875,31998.900390625,32339.0,32574.650390625,32519.75,32246.80078125,32246.80078125,32246.80078125,31811.75,32424.849609375,32543.69921875,32186.900390625,31167.25,31167.25,31167.25,31198.400390625,31198.400390625,30284.55078125,30358.30078125,30565.5,30565.5,30565.5,33089.05078125,34267.8984375,34758.44921875,35344.80078125,35654.5,35654.5,35654.5,35983.6484375,36056.5,35783.1015625,35752.1015625,36108.8984375,36108.8984375,36108.8984375,37306.25,37098.3984375,36910.94921875,36587.0,35841.6015625,35841.6015625,35841.6015625,35257.19921875,35116.94921875,36452.30078125,36549.0,34803.6015625,34803.6015625,34803.6015625,35296.0,35419.69921875,36368.05078125,35802.5,35228.1484375,35228.1484375,35228.1484375,35275.75,35865.6484375,35938.30078125,35938.30078125,35496.6484375,35496.6484375,35496.6484375,35182.55078125,34804.6015625,34229.25,33856.80078125,34161.6015625,34161.6015625,34161.6015625,33603.44921875,34184.3984375,33293.25,33006.44921875,33318.19921875,33318.19921875,33318.19921875,33318.19921875,33875.1015625,33303.8984375,33858.0,33858.0,33858.0,33858.0,32678.849609375,32501.349609375,32991.19921875,32782.8515625,32448.05078125,32448.05078125,32448.05078125,30792.0,31771.599609375,31771.599609375,32112.849609375,31977.44921875,31977.44921875,31977.44921875,31208.400390625,31112.69921875,31112.69921875,31782.599609375,31722.30078125,31722.30078125,31722.30078125,32275.150390625,32735.349609375,33722.80078125,33714.5,32781.80078125,32781.80078125,32781.80078125,32465.75,32270.349609375,32783.69921875,32827.80078125,32904.5,32904.5,32904.5,33142.3984375,32872.19921875,32452.30078125,32452.30078125,32169.55078125,32169.55078125,32169.55078125,33459.25,33922.3984375,33685.19921875,33334.55078125,34606.8984375,34606.8984375,34606.8984375,34943.6015625,34662.0,34684.19921875,35095.05078125,35141.44921875,35141.44921875,35141.44921875,35526.6484375,35337.19921875,35373.75,35649.0,35291.6484375,35291.6484375,35291.6484375,35443.6484375,35085.30078125,34800.5,35131.19921875,35047.3984375,35047.3984375,35047.3984375,34950.6015625,35247.75,35003.5,34605.3984375,34558.0,34558.0,34558.0,34871.30078125,34745.0,34574.0,34827.0,35364.6484375,35364.6484375,35364.6484375,35359.44921875,35010.30078125,34772.19921875,34684.0,34809.8984375,34809.8984375,34809.8984375,35212.0,35579.1484375,35771.30078125,35274.1015625,35071.94921875,35071.94921875,35071.94921875,35198.8984375,35673.3984375,35668.25,35907.6484375,35751.80078125,35751.80078125,35751.80078125,35079.19921875,34415.44921875,34415.44921875,34677.30078125,35034.3984375,35034.3984375,35034.3984375,34949.69921875,34797.44921875,34532.8984375,34691.5,34584.3515625,34584.3515625,34584.3515625,34710.0,35207.44921875,36028.05078125,35834.75,35809.25,35809.25,35809.25,36028.94921875,36034.1015625,35806.3984375,35937.05078125,36169.3515625,36169.3515625,36169.3515625,36094.5,35867.44921875,35554.5,35554.5,35033.8515625,35033.8515625,35033.8515625,35124.3984375,35712.1015625,35586.25,35617.55078125,35627.80078125,35627.80078125,35627.80078125,36347.6484375,36424.6015625,36574.30078125,36831.30078125,36761.1484375,36761.1484375,36761.1484375,36592.3515625,36468.80078125,36768.19921875,36683.19921875,36683.19921875,36683.19921875,36683.19921875,36471.80078125,36613.05078125,36852.25,37668.6015625,37811.94921875,37811.94921875,37811.94921875,37145.69921875,37235.8515625,36944.6484375,37771.69921875,37830.30078125,37830.30078125,37830.30078125,38171.25,37945.0,37743.0,37425.1015625,37225.8984375,37225.8984375,37225.8984375,37579.6484375,37741.0,37521.55078125,37753.19921875,37775.25,37775.25,37775.25,38293.80078125,38521.5,38635.75,39340.8984375,39340.8984375,39340.8984375,39340.8984375,39684.80078125,39540.5,39518.19921875,40030.19921875,40323.6484375,40323.6484375,40323.6484375,41192.3984375,41238.30078125,40874.3515625,39508.94921875,39115.6015625,39115.6015625,39115.6015625,39763.75,39938.44921875,39402.05078125,39573.69921875,39573.69921875,39573.69921875,39573.69921875,39438.25,39368.80078125,39023.25,38560.19921875,38733.3515625,38733.3515625,38733.3515625,38702.3515625,38307.1015625,38041.55078125,37976.25,37976.25,37976.25,37976.25,37128.80078125,37272.80078125,37441.94921875,37364.75,36025.5,36025.5,36025.5,35976.44921875,35695.30078125,36364.8984375,36508.25,36197.1484375,36197.1484375,36197.1484375,35735.8984375,36618.3984375,37284.69921875,37082.44921875,37105.6484375,37105.6484375,37105.6484375,36925.25,36893.94921875,36789.55078125,36548.6484375,35618.6484375,35618.6484375,35618.6484375,34439.8515625,34607.8515625,35029.5,35191.1484375,34857.05078125,34857.05078125,34857.05078125,35057.8984375,35183.80078125,35045.3984375,35063.6015625,35481.69921875,35481.69921875,35481.69921875,36421.8984375,36840.1484375,37695.8984375,37490.25,37739.6015625,37739.6015625,37739.6015625,38347.8984375,38442.19921875,38727.55078125,38469.94921875,38370.3984375,38370.3984375,38370.3984375,38216.1484375,38210.30078125,38041.3515625,37850.8515625,37574.30078125,37574.30078125,37574.30078125,36947.55078125,37706.75,37706.75,37982.1015625,37689.3984375,37689.3984375,37689.3984375,37975.3515625,38505.5,39330.5,39010.0,38789.3515625,38789.3515625,38789.3515625,37995.44921875,38028.44921875,38610.25,39010.94921875,38517.25,38517.25,38517.25,36908.55078125,38170.1015625,37953.80078125,37531.6484375,37599.1484375,37599.1484375,37599.1484375,37685.6015625,37371.6484375,37392.05078125,35228.1015625,36430.75,36430.75,36430.75,36205.30078125,36205.30078125,35372.80078125,34944.30078125,34407.80078125,34407.80078125,34407.80078125,32871.25,33158.1015625,33815.44921875,34475.6015625,34546.25,34546.25,34546.25,35312.1484375,35022.6484375,35748.25,36428.55078125,36428.55078125,36428.55078125,36428.55078125,36018.5,36348.55078125,36147.3515625,35527.1015625,35410.1015625,35410.1015625,35410.1015625,35710.5,35847.3984375,36334.30078125,36373.6015625,37148.5,37148.5,37148.5,38635.19921875,38067.8984375,37632.80078125,37557.3515625,37752.05078125,37752.05078125,37752.05078125,37613.80078125,37747.3984375,37463.3984375,37463.3984375,37463.3984375,37463.3984375,37463.3984375,36729.0,36341.6015625,36314.8984375,36816.1015625,36044.75,36044.75,36044.75,36082.3515625,36404.80078125,36028.8515625,36422.19921875,36088.1484375,36088.1484375,36088.1484375,36163.75,36163.75,35264.55078125,35232.8515625,34591.19921875,34591.19921875,34591.19921875,34275.3984375,34482.6484375,34693.1484375,33532.1484375,33121.3515625,33121.3515625,33121.3515625,33597.6015625,34301.8984375,34163.69921875,33315.6484375,34276.3984375,34276.3984375,34276.3984375,34247.6015625,34290.1484375,34339.5,35094.8984375,35613.30078125,35613.30078125,35613.30078125,35826.94921875,35487.3984375,35620.80078125,35613.6484375,35275.05078125,35275.05078125,35275.05078125,35310.19921875,34996.0,34946.1484375,35085.44921875,34483.80078125,34483.80078125,34483.80078125,33405.8515625,33311.3515625,33339.0,32617.099609375,32743.05078125,32743.05078125,32743.05078125,32684.80078125,33191.75,32845.30078125,33135.0,33627.44921875,33627.44921875,33627.44921875,33811.25,33642.44921875,33269.8984375,33425.1015625,33539.44921875,33539.44921875,33539.44921875,33940.8984375,33815.8984375,34324.25,34920.30078125,35124.05078125,35124.05078125,35124.05078125,35469.6484375,35132.25,34827.80078125,34651.19921875,34682.6484375,34682.6484375,34682.6484375,35358.69921875,35720.3515625,35972.1015625,36201.0,36738.94921875,36738.94921875,36738.94921875,36726.3984375,36408.5,36783.75,37378.1484375,37491.3984375,37491.3984375,37491.3984375,37903.19921875,38024.0,37989.25,37755.55078125,37920.6015625,37920.6015625,37920.6015625,38237.3984375,38237.3984375,38287.8515625,38879.8515625,39042.30078125,39042.30078125,39042.30078125,39042.30078125,39239.6484375,39461.69921875,39656.1484375,38985.94921875,38985.94921875,38985.94921875,38297.75,38697.6484375,39038.5,38950.75,38987.1484375,38987.1484375,38987.1484375,38276.69921875,39536.75,39536.75,39301.25,39421.0,39421.0,39421.0,39805.75,39666.5,39455.8984375,40208.94921875,40415.69921875,40415.69921875,40415.69921875,40574.0,40873.1015625,41405.3984375,41209.19921875,40776.80078125,40776.80078125,40776.80078125,40904.3984375,41468.30078125,41203.44921875,40630.6015625,39546.25,39546.25,39546.25,38616.25,38359.1484375,37759.8515625,37647.75,38631.94921875,38631.94921875,38631.94921875,38029.6484375,39110.05078125,39110.05078125,39282.8515625,39178.05078125,39178.05078125,39178.05078125,39093.1015625,38712.44921875,39118.55078125,38624.0,39305.6015625,39305.6015625,39305.6015625,39920.44921875,40318.75,40373.19921875,40099.55078125,40784.05078125,40784.05078125,40784.05078125,41304.8984375,41122.75,41122.75,41299.30078125,40990.8515625,40990.8515625,40990.8515625,41307.8984375,41289.55078125,41146.6484375,41298.3515625,41258.44921875,41258.44921875,41258.44921875,41686.69921875,41686.69921875,41783.19921875,41603.75,42137.05078125,42137.05078125,42137.05078125,42076.75,42372.69921875,42535.30078125,42458.05078125,42437.44921875,42437.44921875,42437.44921875,42346.55078125,42457.05078125,42729.1015625,43075.3984375,42983.94921875,42983.94921875,42983.94921875,43020.44921875,43053.44921875,43231.0,43260.6484375,43103.75,43103.75,43103.75,43332.94921875,43138.55078125,43098.69921875,43596.8515625,43633.44921875,43633.44921875,43633.44921875,43708.75,43946.55078125,44049.1015625,43498.19921875,43219.5,43219.5,43219.5,43413.75,43359.5,42617.94921875,42408.80078125,41668.05078125,41668.05078125,41668.05078125,41668.05078125,42859.5,42827.69921875,43252.3515625,42986.44921875,42986.44921875,42986.44921875,43203.1015625,43425.25,42958.80078125,42608.69921875,42188.80078125,42188.80078125,42188.80078125,42582.75,42014.75,42232.69921875,42082.25,42371.25,42371.25,42371.25,42167.55078125,42235.05078125,42458.0,42328.8515625,42506.80078125,42506.80078125,42506.80078125,42821.25,42733.44921875,41647.6484375,41647.6484375,40345.30078125,40345.30078125,40345.30078125,40387.44921875,40655.05078125,40513.0,40669.30078125,41499.69921875,41499.69921875,41499.69921875,41374.6484375,41490.94921875,41537.6484375,41554.30078125,41559.3984375,41559.3984375,41559.3984375,41282.19921875,41648.3515625,41731.05078125,41631.3515625,41131.75,41131.75,41131.75,40701.69921875,40673.6015625,39995.8984375,40001.55078125,39909.3984375,39909.3984375,39909.3984375,40307.1015625,40269.05078125,40698.1484375,40389.80078125,41251.3515625,41251.3515625,41251.3515625,41350.3984375,41350.3984375,41577.1015625,41256.75,40485.44921875,40485.44921875,40485.44921875,39564.69921875,39411.3984375,39051.5,39132.6015625,39598.1015625,39598.1015625,39598.1015625,39361.94921875,39894.69921875,39999.05078125,39616.8984375,39395.3515625,39395.3515625,39395.3515625,39431.30078125,39567.8984375,39910.1484375,39910.1484375,40608.6484375],\"high\":[9927.400390625,10333.2998046875,10265.599609375,10326.25,10326.25,10326.25,10482.400390625,10558.2998046875,10495.2998046875,10624.2001953125,10634.2001953125,10634.2001953125,10634.2001953125,10774.150390625,10755.7001953125,10397.2998046875,10420.25,10215.2998046875,10215.2998046875,10215.2998046875,9701.099609375,9015.7998046875,9501.5498046875,9630.5498046875,9827.2998046875,9827.2998046875,9827.2998046875,9937.900390625,10113.349609375,9635.349609375,9505.349609375,9379.0498046875,9379.0498046875,9379.0498046875,9708.599609375,9577.2998046875,9256.0498046875,9283.349609375,8999.9501953125,8999.9501953125,8999.9501953125,8879.2998046875,8637.900390625,8805.5498046875,9163.2001953125,9403.7001953125,9403.7001953125,9403.7001953125,9518.349609375,9538.7001953125,9346.0498046875,9260.099609375,8922.150390625,8922.150390625,8922.150390625,8756.0,8810.150390625,8903.4501953125,8757.150390625,8758.5498046875,8758.5498046875,8758.5498046875,8460.599609375,8101.0,7734.89990234375,7734.89990234375,7474.2998046875,7474.2998046875,7474.2998046875,7375.2001953125,7481.75,7705.64990234375,7226.7998046875,7124.9501953125,7124.9501953125,7124.9501953125,6956.0,6611.14990234375,6849.89990234375,6849.89990234375,6849.89990234375,6849.89990234375,6849.89990234375,6691.0498046875,7188.5,7230.7998046875,7105.7001953125,7079.14990234375,7079.14990234375,7079.14990234375,6970.5498046875,6727.25,6949.4501953125,6836.10009765625,6766.2998046875,6766.2998046875,6766.2998046875,6857.5498046875,6959.75,7094.85009765625,7090.60009765625,6960.2001953125,6960.2001953125,6960.2001953125,6960.2001953125,6970.85009765625,7052.60009765625,7213.7998046875,7213.7998046875,7213.7998046875,7213.7998046875,7451.89990234375,7542.25,7532.4501953125,7446.75,7651.39990234375,7651.39990234375,7651.39990234375,7706.60009765625,7815.89990234375,7804.2001953125,7804.2001953125,7900.85009765625,7900.85009765625,7900.85009765625,7990.4501953125,7871.2998046875,7802.25,7671.85009765625,7540.60009765625,7540.60009765625,7540.60009765625,7359.60009765625,7471.4501953125,7358.75,7524.7001953125,7666.89990234375,7666.89990234375,7666.89990234375,7666.89990234375,7616.85009765625,7425.35009765625,7288.64990234375,7220.60009765625,7220.60009765625,7220.60009765625,6925.39990234375,6850.35009765625,6837.39990234375,6847.89990234375,6651.5,6651.5,6651.5,6677.14990234375,6338.5,6350.9501953125,6238.7998046875,6308.7001953125,6308.7001953125,6308.7001953125,5987.75,5949.60009765625,5988.60009765625,6024.10009765625,6092.2998046875,6092.2998046875,6092.2998046875,6171.7998046875,6437.0,6455.2001953125,6159.35009765625,6009.39990234375,6009.39990234375,6009.39990234375,5737.0498046875,5693.64990234375,5521.14990234375,5600.2998046875,5343.89990234375,5343.89990234375,5343.89990234375,5214.10009765625,5063.2001953125,5077.10009765625,4993.5,5037.10009765625,5037.10009765625,5037.10009765625,5241.39990234375,5174.4501953125,5387.0,5363.5498046875,5404.64990234375,5404.64990234375,5404.64990234375,5322.2001953125,5124.85009765625,4928.35009765625,5066.4501953125,5418.39990234375,5418.39990234375,5418.39990234375,5614.85009765625,5859.0,6369.60009765625,6468.39990234375,6046.89990234375,6046.89990234375,6046.89990234375,5987.2001953125,5817.0,5737.9501953125,5762.39990234375,5989.4501953125,5989.4501953125,5989.4501953125,6089.60009765625,6412.14990234375,6725.7001953125,6442.5498046875,6488.25,6488.25,6488.25,6743.64990234375,6754.4501953125,6483.2001953125,6305.10009765625,6305.10009765625,6305.10009765625,6305.10009765625,6114.14990234375,6027.89990234375,6090.64990234375,6002.2001953125,5803.60009765625,5803.60009765625,5803.60009765625,5995.60009765625,5957.14990234375,5987.35009765625,5848.5,6112.25,6112.25,6112.25,6178.2998046875,6624.0,6624.0,6528.5,6388.7001953125,6388.7001953125,6388.7001953125,6631.9501953125,6506.35009765625,6485.2998046875,6431.9501953125,6414.35009765625,6414.35009765625,6414.35009765625,6031.39990234375,6168.89990234375,6169.9501953125,6101.7998046875,6357.2001953125,6357.2001953125,6357.2001953125,6396.2001953125,6258.85009765625,6203.2001953125,6146.4501953125,6070.60009765625,6070.60009765625,6070.60009765625,5863.0498046875,5875.25,6040.14990234375,6040.14990234375,6017.2998046875,6017.2998046875,6017.2998046875,5704.25,5798.89990234375,5336.0,5336.0,5112.25,5112.25,5112.25,5557.0498046875,5799.0,5551.2001953125,5565.35009765625,5591.39990234375,5591.39990234375,5591.39990234375,5477.4501953125,5478.39990234375,5364.10009765625,5189.89990234375,4796.64990234375,4796.64990234375,4796.64990234375,4286.39990234375,4286.39990234375,4459.39990234375,4459.39990234375,4621.64990234375,4621.64990234375,4621.64990234375,4902.2001953125,5254.60009765625,5431.89990234375,5137.39990234375,5097.39990234375,5097.39990234375,5097.39990234375,5274.85009765625,5207.7998046875,4970.35009765625,4970.35009765625,4926.39990234375,4926.39990234375,4926.39990234375,4736.25,4474.5,4520.64990234375,4181.7001953125,4376.89990234375,4376.89990234375,4376.89990234375,4355.60009765625,4328.7001953125,4298.35009765625,4298.35009765625,4313.25,4313.25,4313.25,4441.2001953125,4123.25,4245.5,4460.75,4611.4501953125,4611.4501953125,4611.4501953125,4599.5,4599.5,4573.0,4681.10009765625,4687.5,4687.5,4687.5,4832.64990234375,4836.5,4929.5498046875,5142.89990234375,5226.85009765625,5226.85009765625,5226.85009765625,5213.2998046875,5019.0,4962.10009765625,4962.10009765625,5041.0,5041.0,5041.0,4969.10009765625,5112.9501953125,5119.35009765625,5119.35009765625,5258.64990234375,5258.64990234375,5258.64990234375,5371.10009765625,5448.7998046875,5440.5498046875,5440.5498046875,5056.9501953125,5056.9501953125,5056.9501953125,4881.5,4764.14990234375,4819.5,4598.39990234375,4596.85009765625,4596.85009765625,4596.85009765625,4622.0,4495.0,4365.0498046875,4339.5498046875,4338.5498046875,4338.5498046875,4338.5498046875,4338.5498046875,4212.35009765625,4355.7001953125,4487.85009765625,4472.7998046875,4472.7998046875,4472.7998046875,4405.35009765625,4332.75,4352.0498046875,4284.64990234375,4350.2001953125,4350.2001953125,4350.2001953125,4469.64990234375,4596.60009765625,4522.7998046875,4530.0,4602.14990234375,4602.14990234375,4602.14990234375,4551.75,4303.39990234375,4180.5498046875,4157.5,4013.85009765625,4013.85009765625,4013.85009765625,4013.85009765625,3923.85009765625,3976.050048828125,3907.949951171875,3905.449951171875,3905.449951171875,3905.449951171875,3831.25,3750.5,3689.449951171875,3667.35009765625,3541.0,3541.0,3541.0,3446.75,3446.75,3446.75,3467.75,3646.64990234375,3646.64990234375,3646.64990234375,3747.75,3783.25,3777.39990234375,3802.10009765625,3753.10009765625,3753.10009765625,3753.10009765625,3963.64990234375,4184.64990234375,4145.2998046875,4311.7001953125,4423.64990234375,4423.64990234375,4423.64990234375,4368.0498046875,4213.14990234375,4225.85009765625,4489.85009765625,4489.85009765625,4489.85009765625,4489.85009765625,4610.64990234375,4610.64990234375,4504.39990234375,4639.5,4639.5,4639.5,4639.5,4869.2998046875,4869.2998046875,5104.14990234375,5169.2001953125,5193.2998046875,5193.2998046875,5193.2998046875,5201.89990234375,4960.64990234375,4964.75,5013.89990234375,5151.2001953125,5151.2001953125,5151.2001953125,5288.7001953125,5231.89990234375,5158.0498046875,5158.0498046875,5158.0498046875,5158.0498046875,5158.0498046875,5514.2001953125,5626.2998046875,5649.39990234375,5591.14990234375,5570.0,5570.0,5570.0,5531.25,5611.9501953125,5628.25,5515.9501953125,5719.4501953125,5719.4501953125,5719.4501953125,6822.89990234375,7567.89990234375,7314.0,7215.7001953125,7065.7001953125,7065.7001953125,7065.7001953125,7100.5498046875,7142.0498046875,7234.0498046875,7376.0498046875,7496.75,7496.75,7496.75,7559.2998046875,7452.64990234375,7425.64990234375,7362.5498046875,7448.7001953125,7448.7001953125,7448.7001953125,7362.14990234375,7207.0498046875,7402.0,7368.85009765625,7338.0498046875,7338.0498046875,7338.0498046875,7192.85009765625,7295.0498046875,7339.25,7251.9501953125,7262.0,7262.0,7262.0,7402.85009765625,7129.4501953125,7147.10009765625,7239.9501953125,7417.5,7417.5,7417.5,7626.9501953125,7577.60009765625,7484.25,7468.7001953125,7586.7001953125,7586.7001953125,7586.7001953125,7711.39990234375,7087.4501953125,6870.25,6747.7998046875,6761.2998046875,6761.2998046875,6761.2998046875,6565.39990234375,6787.14990234375,6979.2998046875,7066.10009765625,7253.2998046875,7253.2998046875,7253.2998046875,7546.35009765625,7547.5,7614.75,7513.75,7552.60009765625,7552.60009765625,7552.60009765625,7485.75,7430.2001953125,7288.2998046875,7428.5498046875,7611.7001953125,7611.7001953125,7611.7001953125,7674.7998046875,7720.35009765625,7656.2001953125,7690.9501953125,7461.4501953125,7461.4501953125,7461.4501953125,7387.64990234375,7290.35009765625,7198.7998046875,7489.25,7502.9501953125,7502.9501953125,7502.9501953125,7311.89990234375,7291.89990234375,7241.39990234375,7308.64990234375,7404.7001953125,7404.7001953125,7404.7001953125,7536.10009765625,7506.9501953125,7489.4501953125,7438.0498046875,7520.35009765625,7520.35009765625,7520.35009765625,7470.60009765625,7577.39990234375,7395.64990234375,7423.39990234375,7468.4501953125,7468.4501953125,7468.4501953125,7662.75,7775.10009765625,7790.5498046875,7944.64990234375,7931.89990234375,7931.89990234375,7931.89990234375,8005.0498046875,8225.2998046875,8374.849609375,8495.9501953125,8434.7001953125,8434.7001953125,8434.7001953125,8434.7001953125,8465.349609375,8534.650390625,8584.2001953125,8548.849609375,8548.849609375,8548.849609375,8548.849609375,8567.0498046875,8832.25,8911.75,8911.75,8911.75,8911.75,8789.2001953125,8820.0,8971.5,8870.900390625,8861.2001953125,8861.2001953125,8861.2001953125,8981.2998046875,8981.2998046875,9166.75,9313.900390625,9555.900390625,9555.900390625,9555.900390625,9555.900390625,9630.349609375,9453.75,9250.0,9261.599609375,9261.599609375,9261.599609375,9225.2001953125,9100.349609375,8680.900390625,8552.75,8728.0498046875,8728.0498046875,8728.0498046875,8728.0498046875,8506.7998046875,8521.099609375,8564.25,8780.0,8780.0,8780.0,9150.75,9267.4501953125,9355.400390625,9332.650390625,9215.75,9215.75,9215.75,9339.099609375,9315.2001953125,9308.4501953125,9210.2001953125,9241.2998046875,9241.2998046875,9241.2998046875,9325.0,9295.900390625,9340.75,9291.5498046875,8994.2001953125,8994.2001953125,8994.2001953125,9137.75,9260.7001953125,9407.0498046875,9435.900390625,9338.7001953125,9338.7001953125,9338.7001953125,9309.75,9301.099609375,9266.0498046875,9224.7001953125,9293.0498046875,9293.0498046875,9293.0498046875,9131.5498046875,9027.400390625,8748.0,8757.5,8708.0,8708.0,8708.0,8662.900390625,8737.150390625,8927.25,9012.4501953125,9012.4501953125,9012.4501953125,9012.4501953125,9012.4501953125,9042.5498046875,9021.2001953125,9093.650390625,9093.650390625,9093.650390625,9093.650390625,9129.4501953125,9214.0,9265.5498046875,9261.849609375,9214.349609375,9214.349609375,9214.349609375,9248.0,9173.849609375,8937.849609375,9040.0,8982.5498046875,8982.5498046875,8982.5498046875,9120.349609375,9202.5,9196.400390625,9098.099609375,8891.7998046875,8891.7998046875,8891.7998046875,8751.2001953125,8751.2001953125,8602.650390625,8496.099609375,8687.0,8687.0,8687.0,8712.25,8718.650390625,8662.9501953125,8623.25,8319.150390625,8319.150390625,8319.150390625,8412.2998046875,8420.400390625,8444.2001953125,8451.9501953125,8451.9501953125,8451.9501953125,8451.9501953125,8441.599609375,8432.150390625,8569.25,8602.0,8530.25,8530.25,8530.25,8598.25,8577.900390625,8527.349609375,8554.9501953125,8851.349609375,8851.349609375,8851.349609375,8851.349609375,8945.599609375,9046.900390625,9068.9501953125,9095.2998046875,9095.2998046875,9095.2998046875,9178.5498046875,9177.0,9156.0,9219.2001953125,9230.0,9230.0,9230.0,9146.2001953125,9121.9501953125,9221.0498046875,9287.599609375,9294.099609375,9294.099609375,9294.099609375,9240.849609375,9257.900390625,9257.900390625,9342.0,9473.2001953125,9473.2001953125,9473.2001953125,9578.5,9587.650390625,9537.4501953125,9523.400390625,9523.400390625,9523.400390625,9523.400390625,9708.900390625,9772.400390625,9793.2001953125,9676.7001953125,9686.25,9686.25,9686.25,9667.400390625,9565.349609375,9565.349609375,9575.25,9410.150390625,9410.150390625,9410.150390625,9357.0498046875,9501.849609375,9574.5498046875,9739.099609375,9824.9501953125,9824.9501953125,9824.9501953125,9920.4501953125,9827.0,9723.349609375,9822.0498046875,9923.150390625,9923.150390625,9923.150390625,9863.4501953125,9837.7001953125,9609.4501953125,9627.4501953125,9444.0498046875,9444.0498046875,9444.0498046875,9684.400390625,9733.7998046875,9740.849609375,9849.0498046875,9762.150390625,9762.150390625,9762.150390625,9551.0498046875,9572.0498046875,9408.7001953125,9251.9501953125,9174.900390625,9174.900390625,9174.900390625,9524.5,9023.599609375,9037.650390625,9292.150390625,9383.9501953125,9383.9501953125,9383.9501953125,9385.2998046875,9334.2998046875,9220.2001953125,9404.099609375,9490.9501953125,9490.9501953125,9490.9501953125,9328.150390625,9387.099609375,9341.2998046875,9367.4501953125,9463.0498046875,9463.0498046875,9463.0498046875,9549.900390625,9566.2998046875,9629.650390625,9636.7998046875,9611.5498046875,9611.5498046875,9611.5498046875,9793.150390625,9762.599609375,9744.150390625,9731.5,9627.599609375,9627.599609375,9627.599609375,9551.900390625,9513.0498046875,9486.75,9412.7998046875,9410.2998046875,9410.2998046875,9410.2998046875,9415.849609375,9564.7998046875,9534.9501953125,9615.150390625,9726.5,9726.5,9726.5,9864.400390625,9940.75,10061.9501953125,9995.75,10026.25,10026.25,10026.25,10078.400390625,10106.849609375,10037.5,10069.2001953125,10120.599609375,10120.599609375,10120.599609375,10152.5,10128.599609375,10117.0,10207.2001953125,10243.900390625,10243.900390625,10243.900390625,10436.400390625,10542.900390625,10525.849609375,10539.650390625,10476.7001953125,10476.7001953125,10476.7001953125,10534.0,10578.849609375,10545.5,10614.2001953125,10782.2001953125,10782.2001953125,10782.2001953125,10778.25,10810.2998046875,10931.650390625,11126.9501953125,11105.0,11105.0,11105.0,11115.5498046875,11125.7998046875,11029.25,11042.150390625,11003.25,11003.25,11003.25,10873.2998046875,10771.0,10895.5498046875,11001.650390625,11017.150390625,11017.150390625,11017.150390625,11261.150390625,11247.150390625,11256.2001953125,11468.75,11468.75,11468.75,11468.75,11905.2001953125,12042.599609375,12022.349609375,12236.849609375,12175.7998046875,12175.7998046875,12175.7998046875,12291.0,12335.099609375,12340.0,12327.7998046875,12287.9501953125,12287.9501953125,12287.9501953125,12363.349609375,12295.849609375,12342.5498046875,12410.599609375,12579.9501953125,12579.9501953125,12579.9501953125,12738.5,12679.25,12728.9501953125,12650.25,12586.7001953125,12586.7001953125,12586.7001953125,12592.0,12521.7998046875,12763.7001953125,12827.349609375,12629.4501953125,12629.4501953125,12629.4501953125,12451.5498046875,12535.849609375,12302.7001953125,12458.150390625,12486.5498046875,12486.5498046875,12486.5498046875,12580.5,12435.7001953125,12331.099609375,12291.150390625,12396.7001953125,12396.7001953125,12396.7001953125,12779.650390625,12844.5,12958.099609375,13204.5498046875,13204.5498046875,13204.5498046875,13204.5498046875,13301.4501953125,13171.099609375,13098.75,13068.5498046875,12826.650390625,12826.650390625,12826.650390625,12789.4501953125,12826.900390625,12826.900390625,12630.900390625,12325.75,12325.75,12325.75,12414.5498046875,12318.7998046875,12292.849609375,11962.099609375,11874.5498046875,11874.5498046875,11874.5498046875,11855.7001953125,12031.25,12345.349609375,12535.849609375,12464.099609375,12464.099609375,12464.099609375,12429.4501953125,12040.400390625,11646.0,11534.0,11482.7001953125,11482.7001953125,11482.7001953125,11565.349609375,11623.7001953125,11490.349609375,11484.9501953125,11484.9501953125,11484.9501953125,11484.9501953125,11404.650390625,11571.0,11634.650390625,11541.0498046875,11510.5498046875,11510.5498046875,11510.5498046875,11543.900390625,11497.349609375,11627.099609375,11662.099609375,11828.400390625,11828.400390625,11828.400390625,11912.150390625,11872.7998046875,11545.75,11377.099609375,11258.5,11258.5,11258.5,11072.7001953125,10951.2001953125,11161.150390625,11127.9501953125,10907.2998046875,10907.2998046875,10907.2998046875,10571.7998046875,10677.9501953125,10715.0498046875,10878.7998046875,10923.7001953125,10923.7001953125,10923.7001953125,11177.849609375,11256.9501953125,11256.9501953125,10970.849609375,10736.400390625,10736.400390625,10736.400390625,10696.2998046875,10683.4501953125,10614.9501953125,10704.2998046875,10772.4501953125,10772.4501953125,10772.4501953125,10509.7998046875,10431.0498046875,10294.7998046875,10227.75,10473.4501953125,10473.4501953125,10473.4501953125,10815.7001953125,11035.150390625,11024.25,11190.2001953125,11300.4501953125,11300.4501953125,11300.4501953125,11070.349609375,10957.5,10857.849609375,10643.25,10510.5,10510.5,10510.5,10744.849609375,10906.150390625,10906.150390625,11066.400390625,11134.099609375,11134.099609375,11134.099609375,10886.099609375,10962.7001953125,11054.0,10920.650390625,10904.2001953125,10904.2001953125,10904.2001953125,10916.650390625,10784.2001953125,11001.25,11018.2998046875,10927.25,10927.25,10927.25,10814.75,10822.25,10972.2998046875,11112.599609375,11420.400390625,11420.400390625,11420.400390625,11599.0,11657.599609375,11801.650390625,11898.400390625,11738.4501953125,11738.4501953125,11738.4501953125,11840.7001953125,11861.150390625,11838.0498046875,11825.0,11853.349609375,11853.349609375,11853.349609375,11637.0,11637.0,11856.349609375,11856.349609375,11950.7001953125,11950.7001953125,11950.7001953125,11887.099609375,11631.150390625,11813.7001953125,11926.0498046875,11926.0498046875,11926.0498046875,11926.0498046875,11978.0498046875,11912.4501953125,11936.349609375,11855.2001953125,11723.25,11723.25,11723.25,11543.349609375,11349.5,11013.400390625,10987.599609375,11167.400390625,11167.400390625,11167.400390625,11213.5,11096.900390625,11097.25,11076.0,11180.400390625,11180.400390625,11180.400390625,10975.150390625,10972.4501953125,10695.7001953125,10674.7001953125,10727.25,10727.25,10727.25,10612.5498046875,10524.7998046875,10428.25,10501.900390625,10735.2001953125,10735.2001953125,10735.2001953125,10823.25,10823.25,11056.400390625,10881.400390625,10946.75,10946.75,10946.75,10873.900390625,10918.25,10882.2998046875,10850.349609375,10814.849609375,10814.849609375,10814.849609375,10757.400390625,10830.400390625,10795.849609375,10706.0,10652.849609375,10652.849609375,10652.849609375,10618.400390625,10645.099609375,10551.7998046875,10553.349609375,10875.25,10875.25,10875.25,11068.599609375,11114.2001953125,11170.349609375,11271.349609375,11359.9501953125,11359.9501953125,11359.9501953125,11401.0,11431.7001953125,11404.7001953125,11446.5498046875,11451.25,11451.25,11451.25,11275.0,11131.75,11164.25,11385.349609375,11334.599609375,11334.599609375,11334.599609375,11277.4501953125,11353.75,11388.5,11193.0498046875,11309.4501953125,11309.4501953125,11309.4501953125,11433.099609375,11430.75,11139.650390625,10954.25,10968.7998046875,10968.7998046875,10968.7998046875,11064.900390625,10902.5498046875,10686.400390625,10765.9501953125,10392.25,10392.25,10392.25,10481.5,10424.25,10516.4501953125,10516.900390625,10469.150390625,10469.150390625,10469.150390625,10469.150390625,10315.099609375,10173.099609375,10002.2998046875,9587.7001953125,9587.7001953125,9587.7001953125,9466.099609375,9523.0,9561.900390625,9401.150390625,9217.7001953125,9217.7001953125,9217.7001953125,9378.099609375,9565.2998046875,9565.2998046875,9565.2998046875,9707.4501953125,9707.4501953125,9707.4501953125,9630.0498046875,9695.4501953125,9906.7998046875,9940.25,9972.0,9972.0,9972.0,9550.9501953125,9567.5,9507.349609375,9708.7998046875,9798.75,9798.75,9798.75,9664.349609375,9848.650390625,9962.9501953125,9756.2001953125,9540.7998046875,9540.7998046875,9540.7998046875,9467.75,9661.5,9675.650390625,9688.650390625,9635.650390625,9635.650390625,9635.650390625,9332.599609375,9240.150390625,8991.7998046875,8991.7998046875,9120.0498046875,9120.0498046875,9120.0498046875,9190.849609375,9363.2001953125,9514.2001953125,9685.0498046875,9691.849609375,9691.849609375,9691.849609375,9788.2001953125,9634.5498046875,9865.849609375,9763.7998046875,9811.349609375,9811.349609375,9811.349609375,9916.599609375,9817.099609375,9817.099609375,9817.099609375,9932.400390625,9932.400390625,9932.400390625,10080.0498046875,9984.349609375,9888.7001953125,9814.650390625,9914.099609375,9914.099609375,9914.099609375,9914.099609375,9893.9501953125,9896.150390625,9896.150390625,9571.849609375,9571.849609375,9571.849609375,9458.349609375,9308.5,9145.650390625,9124.900390625,8872.650390625,8872.650390625,8872.650390625,8806.7001953125,8698.2001953125,8556.400390625,8556.400390625,8558.599609375,8558.599609375,8558.599609375,8809.9501953125,8843.900390625,8704.099609375,9033.849609375,9200.650390625,9200.650390625,9200.650390625,9215.400390625,9215.400390625,9273.099609375,9153.400390625,8932.0,8932.0,8932.0,8920.25,8642.349609375,8696.900390625,8509.5,8602.7998046875,8602.7998046875,8602.7998046875,8122.25,7961.7001953125,8235.650390625,8415.7001953125,8451.9501953125,8451.9501953125,8451.9501953125,8451.9501953125,8365.75,8256.099609375,8137.39990234375,8120.14990234375,8120.14990234375,8120.14990234375,8120.14990234375,8356.349609375,8453.400390625,8516.150390625,8586.650390625,8586.650390625,8586.650390625,8517.7998046875,8748.7998046875,8858.9501953125,9015.25,9073.0,9073.0,9073.0,8967.9501953125,9114.4501953125,9067.349609375,9212.849609375,9560.150390625,9560.150390625,9560.150390625,9659.0,9885.150390625,9905.5,9905.5,9969.25,9969.25,9969.25,9741.25,9946.5,9967.4501953125,10090.2001953125,10158.9501953125,10158.9501953125,10158.9501953125,10331.25,10429.7001953125,10401.650390625,10546.400390625,10555.0,10555.0,10555.0,10532.849609375,10606.849609375,10959.5,10940.7998046875,11203.349609375,11203.349609375,11203.349609375,11203.349609375,11207.0498046875,11226.75,10852.650390625,10759.0498046875,10759.0498046875,10759.0498046875,10527.650390625,10561.7001953125,10667.2998046875,10385.150390625,10584.25,10584.25,10584.25,10406.849609375,10438.0,10169.4501953125,10169.4501953125,10526.5498046875,10526.5498046875,10526.5498046875,10786.4501953125,10765.7001953125,10912.0498046875,10894.4501953125,10832.2998046875,10832.2998046875,10832.2998046875,10440.849609375,10369.2001953125,10562.0498046875,10583.75,10404.25,10404.25,10404.25,10263.099609375,10247.0498046875,10122.0498046875,9988.5498046875,10248.0498046875,10248.0498046875,10248.0498046875,10321.75,10502.7001953125,10371.849609375,10371.849609375,10371.849609375,10371.849609375,10371.849609375,10256.650390625,10209.900390625,10309.75,10432.7998046875,10587.9501953125,10587.9501953125,10587.9501953125,10447.9501953125,10621.900390625,10645.849609375,10594.900390625,10577.4501953125,10577.4501953125,10577.4501953125,10521.4501953125,10287.900390625,10277.849609375,10193.900390625,10249.150390625,10249.150390625,10249.150390625,10360.5498046875,10360.5498046875,10382.349609375,10255.849609375,10068.650390625,10068.650390625,10068.650390625,9910.7001953125,9924.150390625,9572.349609375,9580.400390625,9532.650390625,9532.650390625,9532.650390625,9498.7998046875,9361.4501953125,9208.150390625,9328.5,9364.7001953125,9364.7001953125,9364.7001953125,9364.7001953125,9522.2998046875,9295.650390625,9463.7001953125,9497.0,9497.0,9497.0,9716.5,9783.4501953125,9642.2001953125,9441.0,9493.25,9493.25,9493.25,9406.25,9545.5,9770.650390625,9974.7001953125,10031.2001953125,10031.2001953125,10031.2001953125,10157.75,10156.400390625,10224.5498046875,10096.75,10098.900390625,10098.900390625,10098.900390625,10197.7998046875,9808.0,9875.650390625,10046.900390625,10073.4501953125,10073.4501953125,10073.4501953125,10193.4501953125,10024.650390625,10109.650390625,10052.2001953125,10360.0,10360.0,10360.0,10450.2998046875,10544.2998046875,10548.900390625,10651.2001953125,10687.900390625,10687.900390625,10687.900390625,10635.900390625,10767.25,10782.5498046875,10676.0,10715.150390625,10715.150390625,10715.150390625,10692.7998046875,10673.5,10629.150390625,10708.599609375,10622.849609375,10622.849609375,10622.849609375,10402.25,10349.4501953125,10315.400390625,10314.0498046875,10401.650390625,10401.650390625,10401.650390625,10427.0498046875,10467.9501953125,10445.2001953125,10417.5,10336.25,10336.25,10336.25,10501.4501953125,10616.900390625,10640.75,10614.2001953125,10449.25,10449.25,10449.25,10415.2001953125,10547.099609375,10547.099609375,10551.0498046875,10505.849609375,10505.849609375,10505.849609375,10505.849609375,10484.5498046875,10533.7001953125,10560.849609375,10412.25,10412.25,10412.25,10338.25,10338.25,10127.0,10130.900390625,10130.9501953125,10130.9501953125,10130.9501953125,10082.5,10033.0,9976.400390625,9947.4501953125,10134.75,10134.75,10134.75,10181.849609375,10154.2001953125,10223.9501953125,10259.400390625,10664.5498046875,10664.5498046875,10664.5498046875,11045.4501953125,11065.0,11065.0,11031.7998046875,11433.099609375,11433.099609375,11433.099609375,11533.75,11517.650390625,11441.0498046875,11490.25,11536.849609375,11536.849609375,11536.849609375,11466.0498046875,11466.0498046875,11471.849609375,11685.5498046875,11745.2001953125,11745.2001953125,11745.2001953125,11530.650390625,11528.349609375,11380.25,11476.9501953125,11527.150390625,11527.150390625,11527.150390625,11454.7998046875,11508.5,11425.4501953125,11594.599609375,11605.650390625,11605.650390625,11605.650390625,11619.25,11656.7998046875,11656.7998046875,11643.400390625,11643.400390625,11643.400390625,11643.400390625,11585.7998046875,11600.0498046875,11290.0,11349.400390625,11477.5498046875,11477.5498046875,11477.5498046875,11489.2998046875,11568.4501953125,11719.099609375,11637.9501953125,11663.900390625,11663.900390625,11663.900390625,11608.7998046875,11608.7998046875,11608.7998046875,11530.25,11537.150390625,11537.150390625,11537.150390625,11378.25,11409.7998046875,11477.349609375,11570.849609375,11549.0,11549.0,11549.0,11534.2001953125,11663.5,11663.5,12035.400390625,12175.2998046875,12175.2998046875,12175.2998046875,12165.650390625,12215.5,12314.7998046875,12480.599609375,12477.849609375,12477.849609375,12477.849609375,12409.75,12538.900390625,12385.5498046875,12438.849609375,12447.349609375,12447.349609375,12447.349609375,12462.25,12522.650390625,12571.599609375,12514.599609375,12432.2001953125,12432.2001953125,12432.2001953125,12366.25,12366.25,12519.0,12523.5,12494.150390625,12494.150390625,12494.150390625,12512.7001953125,12512.7001953125,12811.4501953125,12837.7998046875,12801.7001953125,12801.7001953125,12801.7001953125,12837.4501953125,12743.9501953125,12791.7001953125,12822.7998046875,12834.5498046875,12834.5498046875,12834.5498046875,12773.349609375,12908.2001953125,12836.2001953125,12714.599609375,12778.349609375,12778.349609375,12778.349609375,12690.400390625,12748.9501953125,12695.9501953125,12662.849609375,12717.900390625,12717.900390625,12717.900390625,12822.0498046875,12960.650390625,12825.650390625,12852.5,12743.2001953125,12743.2001953125,12743.2001953125,12723.2998046875,12501.5,12525.400390625,12474.5,12389.7998046875,12389.7998046875,12389.7998046875,12361.099609375,12415.7998046875,12485.9501953125,12434.0,12373.150390625,12373.150390625,12373.150390625,12399.849609375,12426.900390625,12470.7001953125,12301.25,12139.650390625,12139.650390625,12139.650390625,12137.849609375,11995.0,11971.349609375,12041.4501953125,11592.5498046875,11592.5498046875,11592.5498046875,11602.5,11814.0498046875,11904.150390625,11989.849609375,12219.4501953125,12219.4501953125,12219.4501953125,12241.2998046875,12183.5,11989.5498046875,12058.5498046875,12034.9501953125,12034.9501953125,12034.9501953125,11810.400390625,11814.75,11491.7998046875,11512.099609375,11331.2001953125,11331.2001953125,11331.2001953125,11372.7998046875,11198.4501953125,11198.4501953125,11413.25,11413.25,11413.25,11413.25,11460.599609375,11548.0498046875,11590.599609375,11344.099609375,11168.25,11168.25,11168.25,11133.849609375,11210.349609375,11143.599609375,11341.849609375,11442.900390625,11442.900390625,11442.900390625,11643.2998046875,11906.25,12112.25,12313.0,12313.0,12313.0,12313.0,12637.9501953125,12605.7001953125,12605.7001953125,12755.7998046875,12726.849609375,12726.849609375,12726.849609375,12661.25,12658.599609375,12658.599609375,12783.2998046875,12709.9501953125,12709.9501953125,12709.9501953125,12436.0,12649.4501953125,12694.400390625,12718.900390625,12783.0498046875,12783.0498046875,12783.0498046875,12865.349609375,12698.349609375,13099.349609375,13281.7998046875,13355.099609375,13355.099609375,13355.099609375,13414.2998046875,13268.25,13175.650390625,13008.25,12828.599609375,12828.599609375,12828.599609375,13014.75,13016.4501953125,12950.0,12853.2001953125,12805.900390625,12805.900390625,12805.900390625,12499.849609375,12520.5498046875,12347.2998046875,12475.0498046875,12488.599609375,12488.599609375,12488.599609375,12363.7998046875,12087.0498046875,11899.0498046875,11814.849609375,11947.349609375,11947.349609375,11947.349609375,11992.9501953125,11971.0498046875,11867.2001953125,11852.650390625,11420.25,11420.25,11420.25,11340.150390625,11325.5,11261.650390625,11277.0498046875,11654.7001953125,11654.7001953125,11654.7001953125,11733.099609375,11752.900390625,11614.25,11454.2998046875,11530.650390625,11530.650390625,11530.650390625,11434.2998046875,11458.2998046875,11540.900390625,11710.4501953125,11743.25,11743.25,11743.25,11811.900390625,11790.25,11264.0,11236.849609375,11237.900390625,11237.900390625,11237.900390625,11132.2001953125,11285.7998046875,11239.7001953125,10772.7001953125,10723.2998046875,10723.2998046875,10723.2998046875,10465.25,10449.7001953125,10209.5498046875,10219.400390625,10219.599609375,10219.599609375,10219.599609375,10117.650390625,10094.900390625,9848.349609375,9909.75,9909.75,9909.75,9909.75,9853.9501953125,10007.599609375,10071.25,10071.25,10026.400390625,10026.400390625,10026.400390625,9425.5,9277.0498046875,9766.099609375,9373.7998046875,9493.849609375,9493.849609375,9493.849609375,9586.650390625,9208.150390625,8869.7001953125,8958.349609375,9135.5498046875,9135.5498046875,9135.5498046875,9233.599609375,9220.9501953125,8916.75,9704.599609375,9989.849609375,9989.849609375,9989.849609375,9989.849609375,10304.900390625,10409.150390625,10358.25,10272.400390625,10272.400390625,10272.400390625,10536.7001953125,10334.2998046875,10481.5,11219.4501953125,11188.099609375,11188.099609375,11188.099609375,10509.5498046875,10289.75,10232.4501953125,10189.400390625,10131.650390625,10131.650390625,10131.650390625,9815.0,9912.9501953125,9912.9501953125,10241.4501953125,10328.75,10328.75,10328.75,10124.150390625,10451.150390625,10360.349609375,10372.0498046875,10649.2998046875,10649.2998046875,10649.2998046875,10706.7998046875,10738.2001953125,10738.2001953125,10416.2001953125,10784.0,10784.0,10784.0,10871.75,10907.5498046875,10912.7998046875,11091.599609375,10951.75,10951.75,10951.75,11002.400390625,11268.2001953125,11366.4501953125,11512.5,11694.4501953125,11694.4501953125,11694.4501953125,11694.4501953125,11736.2001953125,11510.400390625,11398.599609375,11067.0,11067.0,11067.0,10940.5,10860.349609375,10652.2998046875,10891.900390625,10891.900390625,10891.900390625,10891.900390625,11156.599609375,11207.7001953125,11156.5,10866.2998046875,10820.0,10820.0,10820.0,11097.9501953125,11133.400390625,10961.349609375,11062.150390625,11186.150390625,11186.150390625,11186.150390625,11347.4501953125,11310.7001953125,11216.0498046875,11685.5498046875,11770.650390625,11770.650390625,11770.650390625,12225.9501953125,12067.4501953125,11877.75,11781.7001953125,11534.349609375,11534.349609375,11534.349609375,11440.849609375,11418.099609375,11572.2998046875,11505.5498046875,11318.5498046875,11318.5498046875,11318.5498046875,11453.4501953125,11405.0,11405.0,11426.4501953125,11514.4501953125,11514.4501953125,11514.4501953125,11552.400390625,11427.849609375,11427.849609375,11578.900390625,11208.0,11208.0,11208.0,11174.349609375,11154.099609375,11122.75,11090.25,11056.900390625,11056.900390625,11056.900390625,11070.2001953125,11065.650390625,11164.099609375,11192.7998046875,11081.9501953125,11081.9501953125,11081.9501953125,11022.4501953125,11190.099609375,11248.349609375,11221.099609375,11132.7001953125,11132.7001953125,11132.7001953125,10802.2998046875,10708.0,10644.2001953125,10314.25,10266.4501953125,10266.4501953125,10266.4501953125,10222.650390625,10222.099609375,10254.0498046875,10321.5,10321.099609375,10321.099609375,10321.099609375,10310.2998046875,10296.7998046875,10395.150390625,10386.650390625,10229.4501953125,10229.4501953125,10229.4501953125,10229.4501953125,10618.849609375,10630.150390625,10525.7001953125,10584.75,10584.75,10584.75,10711.650390625,10768.9501953125,10758.650390625,10758.650390625,10793.599609375,10793.599609375,10793.599609375,10836.2001953125,10936.75,11122.5498046875,11303.2001953125,11947.5,11947.5,11947.5,12157.900390625,12285.4501953125,12142.900390625,12308.7001953125,12090.0498046875,12090.0498046875,12090.0498046875,12090.0498046875,12268.75,12256.4501953125,12160.650390625,12123.150390625,12123.150390625,12123.150390625,12423.0,12523.7001953125,12570.599609375,12767.5,12787.5,12787.5,12787.5,12869.349609375,12806.150390625,12740.150390625,12754.75,12656.5,12656.5,12656.5,12615.349609375,12615.349609375,12957.5498046875,13055.599609375,12934.900390625,12934.900390625,12934.900390625,12934.900390625,12831.599609375,12727.0498046875,12819.099609375,12819.099609375,12819.099609375,12819.099609375,13002.75,13040.150390625,13176.0498046875,13176.0498046875,13268.599609375,13268.599609375,13268.599609375,13116.0,13124.2998046875,13100.75,13100.75,12995.599609375,12995.599609375,12995.599609375,12981.599609375,13012.5498046875,13017.0,13095.5,13814.25,13814.25,13814.25,14152.4501953125,14367.75,14320.75,14301.2998046875,15742.0498046875,15742.0498046875,15742.0498046875,15305.650390625,15362.5498046875,15126.599609375,15204.4501953125,15321.25,15321.25,15321.25,15568.0498046875,15158.400390625,15198.349609375,15254.5,15108.7998046875,15108.7998046875,15108.7998046875,15321.7998046875,15414.0498046875,15396.900390625,15337.150390625,15576.0498046875,15576.0498046875,15576.0498046875,15725.7998046875,15585.400390625,15660.0498046875,15518.75,15599.75,15599.75,15599.75,15091.2998046875,15393.75,15461.5498046875,15332.75,15195.5498046875,15195.5498046875,15195.5498046875,15148.0,15341.9501953125,15320.9501953125,15333.25,15117.150390625,15117.150390625,15117.150390625,15329.9501953125,15365.650390625,15519.2998046875,15554.7001953125,15582.650390625,15582.650390625,15582.650390625,15592.7998046875,15437.400390625,15093.4501953125,15371.0498046875,14918.849609375,14918.849609375,14918.849609375,14561.75,14919.5498046875,15299.7998046875,15301.9501953125,15463.150390625,15463.150390625,15463.150390625,15554.900390625,15473.349609375,15626.900390625,15559.099609375,15571.900390625,15571.900390625,15571.900390625,15403.900390625,15403.900390625,15470.599609375,15499.5,15417.25,15417.25,15417.25,15326.150390625,15343.5,15239.349609375,15135.099609375,14858.9501953125,14858.9501953125,14858.9501953125,14896.900390625,15078.099609375,15078.349609375,15144.75,15144.75,15144.75,15144.75,15465.0498046875,15624.349609375,15566.75,15721.9501953125,15865.2998046875,15865.2998046875,15865.2998046875,15973.349609375,15674.5498046875,15758.849609375,15794.599609375,15794.599609375,15794.599609375,15794.599609375,16060.2001953125,16170.849609375,16208.5498046875,16114.75,16111.0,16111.0,16111.0,16222.5498046875,16199.099609375,16190.5,16309.7001953125,16278.650390625,16278.650390625,16278.650390625,16239.7001953125,16169.599609375,15937.2998046875,16173.7998046875,16197.5,16197.5,16197.5,16272.349609375,16240.5498046875,15954.4501953125,15734.099609375,15666.400390625,15666.400390625,15666.400390625,15636.4501953125,15596.099609375,15377.599609375,15377.599609375,15377.599609375,15377.599609375,15377.599609375,15377.599609375,15344.599609375,15371.7998046875,15795.650390625,15628.75,15628.75,15628.75,15705.7001953125,15843.7001953125,15843.7001953125,15836.150390625,15973.5,15973.5,15973.5,16297.25,16452.849609375,16572.5,16572.5,16572.5,16572.5,16572.5,16664.30078125,16702.30078125,16770.19921875,16776.349609375,17060.150390625,17060.150390625,17060.150390625,17168.400390625,17168.400390625,17425.19921875,17425.19921875,17383.599609375,17383.599609375,17383.599609375,17412.0,17434.150390625,17635.900390625,17651.0,17601.150390625,17601.150390625,17601.150390625,17676.599609375,17750.25,17745.69921875,17681.80078125,18139.94921875,18139.94921875,18139.94921875,18313.099609375,18261.94921875,18128.150390625,18054.650390625,18615.400390625,18615.400390625,18615.400390625,18676.099609375,18601.849609375,18723.650390625,18793.150390625,18875.44921875,18875.44921875,18875.44921875,18804.94921875,18585.349609375,18532.900390625,18529.650390625,18501.75,18501.75,18501.75,18470.05078125,18308.94921875,18051.849609375,18356.30078125,18563.599609375,18563.599609375,18563.599609375,18801.150390625,18923.599609375,18709.150390625,18709.150390625,18681.75,18681.75,18681.75,18700.69921875,18671.94921875,18774.19921875,18774.19921875,19118.849609375,19118.849609375,19118.849609375,19166.0,18874.599609375,18482.05078125,18752.30078125,18864.0,18864.0,18864.0,18822.05078125,18920.650390625,18769.650390625,19410.400390625,19275.80078125,19275.80078125,19275.80078125,19434.19921875,19808.25,19964.94921875,19964.25,20167.650390625,20167.650390625,20167.650390625,20167.650390625,20609.25,20907.55078125,20579.0,20600.650390625,20600.650390625,20600.650390625,19991.400390625,19963.69921875,19423.25,19444.650390625,19444.650390625,19444.650390625,19444.650390625,18667.05078125,18933.69921875,19051.80078125,19176.80078125,19441.0,19441.0,19441.0,19532.69921875,19532.69921875,19389.80078125,19377.44921875,19307.80078125,19307.80078125,19307.80078125,19219.75,19022.150390625,19069.150390625,18795.099609375,19114.44921875,19114.44921875,19114.44921875,20065.5,20043.400390625,20541.650390625,19830.349609375,19830.349609375,19830.349609375,19830.349609375,19545.25,19271.80078125,19181.80078125,19255.900390625,19376.849609375,19376.849609375,19376.849609375,18912.849609375,19121.849609375,19234.400390625,19373.44921875,18782.94921875,18782.94921875,18782.94921875,18696.69921875,18546.25,18433.0,18224.099609375,18092.400390625,18092.400390625,18092.400390625,18393.25,18494.349609375,18494.349609375,18494.349609375,18494.349609375,18494.349609375,18494.349609375,18702.599609375,18669.599609375,18595.599609375,18894.75,18894.75,18894.75,18894.75,18894.75,18894.75,19038.5,18731.650390625,18731.650390625,18731.650390625,18731.650390625,18500.30078125,18328.349609375,18297.19921875,18433.80078125,18433.80078125,18433.80078125,18433.80078125,18075.69921875,18320.099609375,18431.900390625,18431.900390625,18431.900390625,18431.900390625,18431.900390625,18586.30078125,18563.05078125,18580.099609375,17751.400390625,17751.400390625,17751.400390625,17751.400390625,18240.650390625,18193.55078125,18127.80078125,18156.94921875,18156.94921875,18156.94921875,18156.94921875,18439.69921875,18556.05078125,18619.599609375,18603.80078125,18603.80078125,18603.80078125,18603.80078125,18475.55078125,18378.19921875,18561.5,18639.650390625,18751.19921875,18751.19921875,18751.19921875,18832.5,18656.05078125,17978.150390625,17777.900390625,17786.5,17786.5,17786.5,17561.400390625,17560.5,17782.0,17821.900390625,17551.349609375,17551.349609375,17551.349609375,17579.0,17651.900390625,17692.55078125,17797.349609375,17935.30078125,17935.30078125,17935.30078125,18420.94921875,18499.599609375,18499.75,18539.150390625,18461.599609375,18461.599609375,18461.599609375,18291.75,18342.5,18629.150390625,18642.849609375,18642.849609375,18642.849609375,18642.849609375,18855.900390625,18980.650390625,18669.44921875,18584.0,18767.80078125,18767.80078125,18767.80078125,18929.19921875,18940.849609375,18894.900390625,19195.400390625,19229.05078125,19229.05078125,19229.05078125,19149.05078125,19101.5,19038.150390625,19091.44921875,18860.75,18860.75,18860.75,18566.55078125,18379.099609375,18383.650390625,18521.75,18828.849609375,18828.849609375,18828.849609375,19016.400390625,19067.349609375,19103.69921875,19100.55078125,19019.650390625,19019.650390625,19019.650390625,19071.349609375,18918.55078125,18515.19921875,18359.25,18766.0,18766.0,18766.0,18896.44921875,18874.099609375,18803.5,18711.349609375,18118.80078125,18118.80078125,18118.80078125,17446.349609375,17269.150390625,17172.19921875,17249.5,17569.80078125,17569.80078125,17569.80078125,17353.30078125,16983.80078125,16714.5,16607.400390625,16444.19921875,16444.19921875,16444.19921875,16273.349609375,16419.0,16781.55078125,16711.55078125,16781.150390625,16781.150390625,16781.150390625,16937.900390625,16919.44921875,16919.44921875,16919.44921875,17602.0,17602.0,17602.0,17571.30078125,17652.349609375,17309.69921875,17309.69921875,17309.69921875,17309.69921875,17309.69921875,17384.75,17461.349609375,17449.849609375,17449.849609375,17449.849609375,17449.849609375,17449.849609375,17699.75,17827.150390625,17674.55078125,17622.849609375,17749.55078125,17749.55078125,17749.55078125,17759.80078125,17632.25,17598.099609375,17752.69921875,17947.75,17947.75,17947.75,17954.900390625,17940.400390625,17891.75,17891.75,17980.5,17980.5,17980.5,18029.05078125,17855.349609375,17682.44921875,17400.19921875,17399.099609375,17399.099609375,17399.099609375,17372.25,17466.19921875,17449.0,17166.44921875,17166.44921875,17166.44921875,17166.44921875,17166.44921875,17166.44921875,17166.44921875,17166.44921875,17166.44921875,17166.44921875,17166.44921875,17166.44921875,17166.44921875,17166.44921875,17166.44921875,17166.44921875,17166.44921875,17166.44921875,17166.44921875,17166.44921875,17166.44921875,17166.44921875,17166.44921875,17166.44921875,17166.44921875,17166.44921875,17166.44921875,17166.44921875,17166.44921875,17166.44921875,17166.44921875,17166.44921875,17166.44921875,17166.44921875,17166.44921875,17166.44921875,17166.44921875,17166.44921875,17166.44921875,17166.44921875,16425.150390625,16425.150390625,16425.150390625,16425.150390625,16425.150390625,16425.150390625,16425.150390625,16425.150390625,16425.150390625,16425.150390625,16425.150390625,16425.150390625,16425.150390625,16425.150390625,16425.150390625,16425.150390625,16425.150390625,16425.150390625,16425.150390625,16425.150390625,16425.150390625,16425.150390625,16425.150390625,16425.150390625,16425.150390625,16425.150390625,16425.150390625,16425.150390625,16425.150390625,16425.150390625,15803.2001953125,15803.2001953125,15803.2001953125,15803.2001953125,15803.2001953125,15803.2001953125,15803.2001953125,15803.2001953125,15803.2001953125,15803.2001953125,15803.2001953125,15682.650390625,15682.650390625,15682.650390625,15682.650390625,15682.650390625,15682.650390625,15682.650390625,15682.650390625,15682.650390625,15682.650390625,15682.650390625,15682.650390625,15682.650390625,15682.650390625,15367.900390625,15367.900390625,15367.900390625,15367.900390625,15367.900390625,15367.900390625,15367.900390625,15367.900390625,15367.900390625,15367.900390625,15367.900390625,14395.849609375,14395.849609375,14395.849609375,14395.849609375,14395.849609375,14395.849609375,13844.4501953125,13844.4501953125,13844.4501953125,13844.4501953125,13844.4501953125,13844.4501953125,13844.4501953125,13844.4501953125,13844.4501953125,13844.4501953125,13844.4501953125,13844.4501953125,13844.4501953125,13844.4501953125,13844.4501953125,13844.4501953125,13844.4501953125,13844.4501953125,13844.4501953125,13844.4501953125,13844.4501953125,13844.4501953125,13844.4501953125,13844.4501953125,13844.4501953125,13844.4501953125,13844.4501953125,13844.4501953125,13844.4501953125,13844.4501953125,13844.4501953125,13844.4501953125,13844.4501953125,13844.4501953125,13844.4501953125,13844.4501953125,13844.4501953125,13844.4501953125,13844.4501953125,16278.5,16278.5,16278.5,16278.5,16278.5,16278.5,16278.5,16278.5,16278.5,16278.5,16278.5,16278.5,16278.5,16278.5,16278.5,16278.5,16278.5,16278.5,16278.5,16278.5,16278.5,16278.5,16278.5,16278.5,16278.5,16278.5,16278.5,16278.5,16278.5,16278.5,16278.5,16278.5,16278.5,16278.5,16278.5,16278.5,16278.5,16278.5,16278.5,16278.5,16278.5,16278.5,16278.5,16278.5,16278.5,16278.5,16278.5,16278.5,16278.5,16278.5,16278.5,17025.849609375,17025.849609375,17025.849609375,17025.849609375,17025.849609375,17025.849609375,17025.849609375,17025.849609375,17025.849609375,17025.849609375,17025.849609375,17025.849609375,17754.150390625,17754.150390625,17754.150390625,17754.150390625,18051.5,18051.5,18051.5,18051.5,18051.5,18051.5,18051.5,18051.5,18051.5,18051.5,18051.5,18051.5,18051.5,18051.5,18051.5,18051.5,18051.5,18051.5,18051.5,18051.5,18051.5,18051.5,18051.5,18051.5,18051.5,18051.5,18051.5,18051.5,18051.5,18051.5,18051.5,18051.5,18051.5,18051.5,18051.5,18051.5,18051.5,18051.5,18051.5,18051.5,18051.5,18051.5,18051.5,18051.5,18051.5,18051.5,18051.5,18051.5,19126.75,19126.75,19126.75,19126.75,19126.75,19126.75,19126.75,19126.75,19126.75,19126.75,19126.75,19126.75,19126.75,19126.75,19126.75,19126.75,19126.75,19126.75,19126.75,19126.75,19126.75,19126.75,19126.75,19126.75,19126.75,19126.75,19126.75,19126.75,19126.75,19126.75,19126.75,19126.75,19126.75,19126.75,19126.75,19126.75,19126.75,19126.75,19126.75,19126.75,19126.75,19126.75,19126.75,19126.75,19126.75,19126.75,19126.75,19126.75,19126.75,19126.75,19126.75,19126.75,19126.75,19126.75,19126.75,19126.75,19126.75,19126.75,19126.75,19126.75,19126.75,19126.75,19126.75,19126.75,19126.75,19126.75,19126.75,19126.75,19126.75,19126.75,19126.75,19126.75,19126.75,19126.75,19126.75,19126.75,19126.75,19126.75,19126.75,19126.75,19126.75,19126.75,19126.75,19126.75,19126.75,19126.75,19126.75,19126.75,19126.75,19126.75,19126.75,19126.75,19126.75,19126.75,19126.75,19126.75,19126.75,19126.75,19126.75,19126.75,19126.75,19126.75,19126.75,19126.75,19126.75,20200.25,20200.25,20200.25,20200.25,20200.25,20200.25,20200.25,20200.25,20200.25,20200.25,20200.25,20200.25,20200.25,20200.25,20200.25,20200.25,20200.25,20200.25,20200.25,20200.25,20200.25,20200.25,20200.25,20200.25,20200.25,20200.25,20200.25,20200.25,20200.25,20200.25,20200.25,20200.25,18616.05078125,18492.849609375,18485.44921875,18532.0,18428.44921875,18428.44921875,18428.44921875,18316.80078125,18274.900390625,18167.150390625,18029.599609375,17962.30078125,17962.30078125,17962.30078125,17962.30078125,17907.349609375,18059.650390625,18053.30078125,18245.75,18245.75,18245.75,18245.75,18115.05078125,18092.849609375,18164.05078125,18325.5,18325.5,18325.5,18373.099609375,18441.150390625,18889.44921875,18966.30078125,18952.25,18952.25,18952.25,19134.5,19202.25,19276.5,19185.30078125,19071.650390625,19071.650390625,19071.650390625,18909.650390625,19054.30078125,19518.44921875,19518.44921875,19794.94921875,19794.94921875,19794.94921875,19767.05078125,19624.099609375,20047.849609375,20146.900390625,20229.650390625,20229.650390625,20229.650390625,20462.44921875,20426.94921875,20362.80078125,20406.599609375,20310.0,20310.0,20310.0,20308.69921875,20314.05078125,20368.19921875,20295.55078125,21042.349609375,21042.349609375,21042.349609375,20702.599609375,20903.349609375,20958.25,21011.900390625,21011.900390625,21011.900390625,21011.900390625,20853.44921875,20681.30078125,20833.75,20905.0,20580.44921875,20580.44921875,20580.44921875,20727.5,20701.25,20715.19921875,20780.25,20876.94921875,20876.94921875,20876.94921875,20876.94921875,21274.44921875,21216.900390625,21289.80078125,21336.05078125,21336.05078125,21336.05078125,21202.55078125,21146.5,20899.0,20934.75,21174.099609375,21174.099609375,21174.099609375,21179.19921875,21264.94921875,21418.599609375,21696.0,21574.150390625,21574.150390625,21574.150390625,21565.44921875,21565.44921875,21699.30078125,21674.0,21616.849609375,21616.849609375,21616.849609375,21552.099609375,21753.349609375,21787.099609375,21758.849609375,21758.849609375,21758.849609375,21758.849609375,21743.30078125,21947.0,21706.30078125,21558.849609375,21614.55078125,21614.55078125,21614.55078125,21884.849609375,22093.25,22276.05078125,22380.849609375,22383.0,22383.0,22383.0,22383.0,22492.150390625,22449.0,22743.69921875,22853.55078125,22853.55078125,22853.55078125,22835.150390625,22835.349609375,22859.400390625,22977.849609375,22859.150390625,22859.150390625,22859.150390625,22891.69921875,22944.099609375,22978.150390625,22834.55078125,22902.25,22902.25,22902.25,22918.349609375,22740.400390625,22673.400390625,23267.80078125,23408.349609375,23408.349609375,23408.349609375,23464.0,23337.150390625,23469.44921875,23396.150390625,23453.30078125,23453.30078125,23453.30078125,23494.69921875,23536.099609375,23606.150390625,23659.099609375,23708.650390625,23708.650390625,23708.650390625,23630.099609375,23615.19921875,23562.80078125,23473.30078125,23527.650390625,23527.650390625,23527.650390625,23806.650390625,23760.349609375,23760.75,23897.849609375,23786.5,23786.5,23786.5,23786.5,23640.099609375,23322.55078125,23476.0,23254.099609375,23254.099609375,23254.099609375,23330.099609375,23363.05078125,23380.349609375,23540.150390625,23492.599609375,23492.599609375,23492.599609375,23964.80078125,23744.55078125,23736.55078125,23938.0,23963.650390625,23963.650390625,23963.650390625,24066.099609375,24147.44921875,24180.75,24299.599609375,24289.30078125,24289.30078125,24289.30078125,24460.55078125,24624.650390625,24720.900390625,25032.25,24859.75,24859.75,24859.75,25168.099609375,25179.5,25198.80078125,25005.150390625,24879.69921875,24879.69921875,24879.69921875,24979.349609375,24966.05078125,24532.400390625,24326.900390625,24191.19921875,24191.19921875,24191.19921875,24212.150390625,24212.150390625,24461.19921875,24496.19921875,24130.150390625,24130.150390625,24130.150390625,24258.94921875,24127.44921875,24350.0,24411.05078125,24411.05078125,24411.05078125,24411.05078125,24422.44921875,24320.94921875,24384.099609375,24354.349609375,24494.349609375,24494.349609375,24494.349609375,24494.349609375,24388.05078125,24331.30078125,24413.099609375,24419.25,24419.25,24419.25,24735.349609375,24821.349609375,24948.80078125,24994.30078125,24916.849609375,24916.849609375,24916.849609375,25105.349609375,25103.44921875,25052.599609375,24992.5,24709.69921875,24709.69921875,24709.69921875,24363.80078125,24236.94921875,24331.849609375,24074.19921875,24227.44921875,24227.44921875,24227.44921875,24227.44921875,24226.80078125,24230.44921875,24188.30078125,24242.05078125,24242.05078125,24242.05078125,24311.099609375,24379.75,24460.25,24393.400390625,24779.75,24779.75,24779.75,24878.650390625,24809.150390625,24454.650390625,24255.30078125,24255.30078125,24255.30078125,24255.30078125,24151.0,24293.25,25157.80078125,25186.05078125,24995.69921875,24995.69921875,24995.69921875,25064.849609375,25078.650390625,25549.349609375,25598.75,25695.5,25695.5,25695.5,25694.599609375,25695.75,25435.599609375,25385.19921875,25598.55078125,25598.55078125,25598.55078125,25611.55078125,25404.80078125,25318.05078125,25496.05078125,25924.900390625,25924.900390625,25924.900390625,25803.150390625,25871.099609375,25831.94921875,25838.55078125,25849.0,25849.0,25849.0,25931.849609375,25953.5,25877.75,25700.849609375,25441.349609375,25441.349609375,25441.349609375,25297.19921875,25217.69921875,25077.44921875,25097.400390625,25367.69921875,25367.69921875,25367.69921875,25448.849609375,25416.19921875,25270.75,25205.900390625,25559.05078125,25559.05078125,25559.05078125,25759.900390625,25757.94921875,25780.05078125,25629.94921875,25694.5,25694.5,25694.5,25694.5,25712.94921875,25733.19921875,25561.94921875,25566.400390625,25566.400390625,25566.400390625,25566.400390625,25425.5,25454.900390625,25490.349609375,25643.349609375,25643.349609375,25643.349609375,25771.5,25803.80078125,25717.599609375,25694.650390625,25775.150390625,25775.150390625,25775.150390625,26091.80078125,26136.400390625,26335.849609375,26887.650390625,26957.849609375,26957.849609375,26957.849609375,27074.900390625,27422.05078125,27479.25,27522.849609375,27522.849609375,27522.849609375,27522.849609375,27652.05078125,27470.25,27455.75,27613.5,27017.55078125,27017.55078125,27017.55078125,26215.099609375,26140.599609375,26078.400390625,26126.400390625,25598.30078125,25598.30078125,25598.30078125,25757.849609375,25757.849609375,25810.25,25615.150390625,25601.0,25601.0,25601.0,25326.05078125,25158.099609375,24999.69921875,24987.05078125,25345.150390625,25345.150390625,25345.150390625,25722.150390625,25723.55078125,25192.94921875,25226.05078125,25226.05078125,25226.05078125,25226.05078125,24873.05078125,25040.25,24373.400390625,24534.5,24564.75,24564.75,24564.75,24716.05078125,25009.650390625,24894.30078125,24939.849609375,24785.349609375,24785.349609375,24785.349609375,24588.05078125,24355.650390625,24459.75,24314.400390625,23796.30078125,23796.30078125,23796.30078125,24290.650390625,24496.94921875,24361.0,24361.0,24361.0,24361.0,24361.0,24373.400390625,24538.0,24666.30078125,24824.900390625,24933.599609375,24933.599609375,24933.599609375,25152.849609375,25279.900390625,25207.05078125,25244.80078125,25411.30078125,25411.30078125,25411.30078125,25348.55078125,25402.55078125,25426.75,25207.30078125,25126.80078125,25126.80078125,25126.80078125,25084.150390625,25123.44921875,24993.400390625,25064.0,25441.5,25441.5,25441.5,25617.5,25617.5,25716.75,25653.44921875,25680.400390625,25680.400390625,25680.400390625,25913.5,26116.25,26206.5,26266.400390625,26437.25,26437.25,26437.25,26565.400390625,26972.05078125,26428.349609375,26283.55078125,26032.0,26032.0,26032.0,26066.75,25945.650390625,25903.900390625,26073.099609375,26325.55078125,26325.55078125,26325.55078125,26713.650390625,26570.94921875,26405.44921875,27164.55078125,26996.80078125,26996.80078125,26996.80078125,27047.55078125,26342.400390625,26425.19921875,26766.94921875,26481.0,26481.0,26481.0,26653.0,26656.44921875,26765.44921875,26623.25,26586.400390625,26586.400390625,26586.400390625,26477.5,26448.099609375,26574.75,26682.94921875,26806.55078125,26806.55078125,26806.55078125,26804.900390625,26712.599609375,26634.30078125,26487.849609375,26465.0,26465.0,26465.0,26371.599609375,26316.099609375,26480.5,26598.44921875,26609.849609375,26609.849609375,26609.849609375,26781.19921875,26939.55078125,26938.849609375,27164.80078125,27102.349609375,27102.349609375,27102.349609375,26939.05078125,27041.349609375,27187.150390625,27025.44921875,26946.55078125,26946.55078125,26946.55078125,27040.099609375,27128.0,27074.0,27455.099609375,27661.05078125,27661.05078125,27661.05078125,27873.69921875,27839.19921875,27820.150390625,27487.900390625,27723.0,27723.0,27723.0,27994.0,27988.19921875,28128.650390625,28363.400390625,28377.900390625,28377.900390625,28377.900390625,27911.849609375,28053.05078125,28053.05078125,28013.099609375,28178.150390625,28178.150390625,28178.150390625,28322.30078125,28305.94921875,28305.94921875,28325.44921875,28122.75,28122.75,28122.75,28317.75,28388.650390625,28344.099609375,28233.69921875,28157.349609375,28157.349609375,28157.349609375,28203.19921875,27875.150390625,27506.30078125,27552.80078125,27512.5,27512.5,27512.5,27404.849609375,27318.44921875,26895.150390625,26895.150390625,27205.75,27205.75,27205.75,27002.599609375,26901.05078125,26611.599609375,26611.599609375,26490.400390625,26490.400390625,26490.400390625,25649.69921875,25406.94921875,25525.099609375,25452.5,25354.69921875,25354.69921875,25354.69921875,25412.150390625,25412.150390625,25470.05078125,24893.400390625,25080.19921875,25080.19921875,25080.19921875,24745.349609375,24759.900390625,25371.150390625,24940.099609375,25484.19921875,25484.19921875,25484.19921875,25466.19921875,25707.05078125,25915.349609375,25915.349609375,25277.900390625,25277.900390625,25277.900390625,25504.75,25124.599609375,25356.900390625,24977.349609375,24771.94921875,24771.94921875,24771.94921875,25023.75,25121.5,25201.30078125,25401.599609375,25856.25,25856.25,25856.25,25788.19921875,25860.75,25824.400390625,25824.400390625,25822.75,25822.75,25822.75,25907.19921875,25796.5,26045.05078125,26197.599609375,26332.75,26332.75,26332.75,26379.099609375,26259.400390625,26342.05078125,26323.94921875,26323.94921875,26323.94921875,26323.94921875,26396.599609375,26491.25,26584.94921875,27003.75,27012.69921875,27012.69921875,27012.69921875,27037.099609375,26843.80078125,26627.349609375,26359.900390625,26659.69921875,26659.69921875,26659.69921875,26336.19921875,26227.900390625,26672.69921875,26951.44921875,26909.0,26909.0,26909.0,27051.400390625,27210.05078125,27364.349609375,27309.099609375,27369.099609375,27369.099609375,27369.099609375,26934.849609375,26934.849609375,27029.150390625,27239.94921875,27213.44921875,27213.44921875,27213.44921875,27286.5,27286.5,27397.55078125,27206.19921875,27274.5,27274.5,27274.5,27477.80078125,27542.400390625,27754.44921875,27713.55078125,27612.44921875,27612.44921875,27612.44921875,27389.80078125,27447.55078125,27554.75,27611.55078125,27576.44921875,27576.44921875,27576.44921875,27622.19921875,27533.349609375,27564.69921875,27342.349609375,27433.55078125,27433.55078125,27433.55078125,27134.19921875,26743.849609375,26916.25,27325.05078125,27533.05078125,27533.05078125,27533.05078125,27243.80078125,27348.25,27428.650390625,27589.75,27482.099609375,27482.099609375,27482.099609375,27305.900390625,27286.650390625,27286.650390625,27030.0,27029.94921875,27029.94921875,27029.94921875,26829.94921875,26996.44921875,26985.5,27100.900390625,26997.349609375,26997.349609375,26997.349609375,27197.099609375,27127.25,27189.44921875,26920.5,27076.55078125,27076.55078125,27076.55078125,27076.55078125,27580.75,27681.650390625,27815.5,27811.349609375,27811.349609375,27811.349609375,28035.599609375,28488.099609375,28927.69921875,29070.349609375,29520.69921875,29520.69921875,29520.69921875,29812.0,29799.75,29885.19921875,29885.19921875,30008.099609375,30008.099609375,30008.099609375,29329.400390625,29950.150390625,30262.55078125,30496.05078125,30496.05078125,30496.05078125,30496.05078125,30648.099609375,30452.900390625,30602.55078125,30245.69921875,30174.0,30174.0,30174.0,30232.05078125,30165.05078125,30155.75,29852.25,30000.94921875,30000.94921875,30000.94921875,30163.099609375,30590.94921875,30590.94921875,30669.80078125,30669.80078125,30669.80078125,30669.80078125,30289.900390625,29906.5,29914.849609375,30057.69921875,30048.19921875,30048.19921875,30048.19921875,30048.19921875,29920.400390625,29920.400390625,29919.349609375,30121.75,30121.75,30121.75,29757.400390625,29835.5,29261.30078125,29040.30078125,29202.849609375,29202.849609375,29202.849609375,29049.05078125,29058.30078125,28983.150390625,28947.599609375,29559.44921875,29559.44921875,29559.44921875,30827.849609375,30926.69921875,30675.099609375,31705.0,31275.400390625,31275.400390625,31275.400390625,31700.75,31712.400390625,31546.75,31619.25,31783.599609375,31783.599609375,31783.599609375,31674.599609375,31752.69921875,31752.69921875,31541.5,31139.599609375,31139.599609375,31139.599609375,31367.400390625,31399.349609375,31222.30078125,31036.900390625,31032.650390625,31032.650390625,31032.650390625,30684.05078125,30550.650390625,30699.150390625,30824.55078125,30804.94921875,30804.94921875,30804.94921875,30783.650390625,30913.25,31202.69921875,31490.599609375,31308.900390625,31308.900390625,31308.900390625,31449.650390625,31431.349609375,31466.349609375,31608.349609375,31660.75,31660.75,31660.75,31346.849609375,30702.05078125,30728.349609375,30787.0,30861.400390625,30861.400390625,30861.400390625,30688.849609375,30632.150390625,30799.30078125,30768.099609375,30537.650390625,30537.650390625,30537.650390625,29635.150390625,29364.400390625,29250.75,29240.80078125,29377.599609375,29377.599609375,29377.599609375,29583.44921875,29528.30078125,28974.19921875,28819.69921875,28541.19921875,28541.19921875,28541.19921875,27866.55078125,28147.400390625,28175.55078125,28225.0,28602.19921875,28602.19921875,28602.19921875,28602.19921875,28358.849609375,28104.599609375,28104.599609375,28250.150390625,28250.150390625,28250.150390625,28468.900390625,28038.599609375,28098.900390625,27690.05078125,27207.30078125,27207.30078125,27207.30078125,27995.25,28277.69921875,28095.55078125,27719.05078125,27586.5,27586.5,27586.5,27586.5,27247.05078125,27278.69921875,27243.94921875,27311.05078125,27311.05078125,27311.05078125,27565.55078125,27565.55078125,27829.650390625,28062.30078125,28126.849609375,28126.849609375,28126.849609375,28066.69921875,27851.400390625,27414.44921875,27175.44921875,29418.94921875,29418.94921875,29418.94921875,30801.30078125,30668.099609375,30067.599609375,30718.349609375,30112.650390625,30112.650390625,30112.650390625,29754.400390625,29526.400390625,29526.400390625,28769.099609375,28730.30078125,28730.30078125,28730.30078125,28185.150390625,28185.150390625,28857.69921875,28552.75,28604.05078125,28604.05078125,28604.05078125,28553.400390625,28694.849609375,28759.349609375,29049.05078125,29249.5,29249.5,29249.5,29249.5,29690.0,29643.80078125,29693.25,29452.099609375,29452.099609375,29452.099609375,29452.099609375,29997.650390625,30151.099609375,30415.650390625,30409.0,30409.0,30409.0,30607.05078125,30452.69921875,30699.0,30821.349609375,31108.400390625,31108.400390625,31108.400390625,31205.19921875,31205.19921875,31198.5,30789.19921875,31165.44921875,31165.44921875,31165.44921875,31203.55078125,31298.05078125,31471.650390625,31463.150390625,31394.19921875,31394.19921875,31394.19921875,31591.599609375,31850.349609375,31916.80078125,32157.05078125,32086.94921875,32086.94921875,32086.94921875,32024.099609375,31936.599609375,32017.75,32126.94921875,31883.69921875,31883.69921875,31883.69921875,31537.650390625,31412.80078125,31337.849609375,31711.44921875,32105.05078125,32105.05078125,32105.05078125,32186.94921875,32213.349609375,32293.650390625,32328.349609375,32443.349609375,32443.349609375,32443.349609375,32502.80078125,32390.349609375,32390.349609375,32314.599609375,32444.849609375,32444.849609375,32444.849609375,32613.099609375,32345.94921875,32345.94921875,32465.44921875,32329.80078125,32329.80078125,32329.80078125,31914.44921875,31851.44921875,31451.849609375,32172.69921875,32347.19921875,32347.19921875,32347.19921875,32322.650390625,32196.44921875,32000.900390625,31988.900390625,31773.55078125,31773.55078125,31773.55078125,31923.94921875,31171.25,31149.05078125,31087.25,31375.44921875,31375.44921875,31375.44921875,31227.05078125,31048.44921875,31082.849609375,30909.5,31033.44921875,31033.44921875,31033.44921875,30105.80078125,30776.94921875,31065.849609375,31470.650390625,31368.19921875,31368.19921875,31368.19921875,31248.80078125,31505.94921875,31588.599609375,31649.44921875,31436.650390625,31436.650390625,31436.650390625,30998.150390625,30692.75,30947.150390625,31085.30078125,31085.30078125,31085.30078125,31085.30078125,30702.150390625,30610.69921875,30515.349609375,30271.94921875,29564.099609375,29564.099609375,29564.099609375,29791.150390625,29285.349609375,29273.650390625,29134.30078125,28047.19921875,28047.19921875,28047.19921875,27091.599609375,27091.599609375,26791.44921875,25223.099609375,25670.75,25670.75,25670.75,24074.150390625,23449.5,22544.05078125,21035.05078125,20924.55078125,20924.55078125,20924.55078125,18895.650390625,17841.400390625,18740.19921875,20409.349609375,21462.400390625,21462.400390625,21462.400390625,19716.25,19466.30078125,19154.75,19154.75,18326.099609375,18326.099609375,18326.099609375,18326.099609375,19190.55078125,20324.099609375,19988.30078125,19988.30078125,19988.30078125,19988.30078125,19887.05078125,19887.05078125,20184.099609375,19520.30078125,20866.55078125,20866.55078125,20866.55078125,21122.099609375,19891.44921875,19806.349609375,20356.5,19950.150390625,19950.150390625,19950.150390625,20224.75,20751.30078125,21348.150390625,21967.0,21967.0,21967.0,21967.0,20530.44921875,20223.150390625,19806.599609375,19757.25,19969.599609375,19969.599609375,19969.599609375,19733.400390625,18993.400390625,20122.25,19380.099609375,19119.099609375,19119.099609375,19119.099609375,18795.099609375,18175.30078125,18002.650390625,18200.69921875,17952.25,17952.25,17952.25,17952.25,17681.69921875,18874.25,19455.55078125,19358.05078125,19358.05078125,19358.05078125,20225.349609375,20615.75,21619.55078125,21141.80078125,21198.69921875,21198.69921875,21198.69921875,21807.400390625,21568.849609375,21251.44921875,21244.44921875,20747.69921875,20747.69921875,20747.69921875,20470.849609375,20638.849609375,20627.900390625,21028.349609375,21467.650390625,21467.650390625,21467.650390625,22078.25,22322.30078125,22479.55078125,21703.5,21784.650390625,21784.650390625,21784.650390625,21440.05078125,21650.5,22061.599609375,22344.849609375,22130.30078125,22130.30078125,22130.30078125,22399.25,22674.5,23080.599609375,22998.30078125,22835.19921875,22835.19921875,22835.19921875,22657.400390625,21909.69921875,21935.5,21671.25,22065.0,22065.0,22065.0,22520.44921875,22861.900390625,23211.349609375,23122.349609375,22854.05078125,22854.05078125,22854.05078125,22668.05078125,22233.0,22346.400390625,22252.599609375,21806.94921875,21806.94921875,21806.94921875,21543.80078125,21576.349609375,21936.5,21926.55078125,21787.25,21787.25,21787.25,22071.94921875,22277.599609375,22326.55078125,22439.94921875,22334.94921875,22334.94921875,22334.94921875,21909.400390625,22227.75,22419.349609375,22079.900390625,22344.05078125,22344.05078125,22344.05078125,22897.5,23180.30078125,23453.400390625,23704.05078125,24611.80078125,24611.80078125,24611.80078125,25232.599609375,24199.650390625,23926.150390625,24051.599609375,23394.80078125,23394.80078125,23394.80078125,23109.099609375,23064.150390625,22554.599609375,22678.650390625,22668.75,22668.75,22668.75,22757.30078125,22514.150390625,22659.400390625,22504.44921875,22469.400390625,22469.400390625,22469.400390625,22098.849609375,21473.349609375,21365.05078125,20955.599609375,21064.30078125,21064.30078125,21064.30078125,21708.849609375,21811.5,21549.349609375,22293.75,22293.75,22293.75,22293.75,22768.55078125,22893.5,23036.19921875,23450.900390625,23904.099609375,23904.099609375,23904.099609375,24190.349609375,23775.150390625,23962.69921875,24087.849609375,23646.19921875,23646.19921875,23646.19921875,24320.94921875,24410.900390625,24823.599609375,24691.150390625,24764.150390625,24764.150390625,24764.150390625,24577.30078125,24809.650390625,24780.69921875,24339.099609375,24277.349609375,24277.349609375,24277.349609375,25139.0,25760.69921875,25891.0,26375.19921875,26853.44921875,26853.44921875,26853.44921875,27595.0,28802.5,29030.900390625,28672.900390625,28520.55078125,28520.55078125,28520.55078125,28520.55078125,29239.25,29784.75,29627.19921875,29406.69921875,29406.69921875,29406.69921875,29492.30078125,29827.80078125,30197.849609375,29623.0,29716.849609375,29716.849609375,29716.849609375,29716.849609375,29919.75,29886.25,29813.0,30162.30078125,30162.30078125,30162.30078125,30354.19921875,30363.80078125,30807.25,30610.0,30811.80078125,30811.80078125,30811.80078125,30845.80078125,30805.849609375,30932.25,30945.19921875,30854.05078125,30854.05078125,30854.05078125,30607.5,29711.150390625,29941.400390625,30545.849609375,30545.849609375,30545.849609375,30545.849609375,30929.05078125,31359.349609375,31510.25,31409.5,31409.5,31409.5,31409.5,31489.599609375,31767.650390625,31982.30078125,32177.400390625,32298.05078125,32298.05078125,32298.05078125,32288.44921875,32397.94921875,32683.5,32718.94921875,32544.80078125,32544.80078125,32544.80078125,32441.5,32464.94921875,32607.44921875,32842.30078125,32131.400390625,32131.400390625,32131.400390625,31697.55078125,31697.55078125,31287.05078125,30464.400390625,31111.94921875,31111.94921875,31111.94921875,33305.30078125,34652.5,34908.05078125,35413.1484375,36615.19921875,36615.19921875,36615.19921875,36466.44921875,36477.1484375,36227.19921875,36009.44921875,36322.80078125,36322.80078125,36322.80078125,37449.8984375,37708.75,37331.44921875,37108.75,36656.19921875,36656.19921875,36656.19921875,36128.8984375,35680.8515625,36567.6484375,37232.19921875,35902.8984375,35902.8984375,35902.8984375,35581.1015625,35747.05078125,36455.1484375,36316.3984375,35616.05078125,35616.05078125,35616.05078125,35827.30078125,36077.80078125,36176.8984375,36176.8984375,36497.3515625,36497.3515625,36497.3515625,35544.25,35405.05078125,35100.5,34759.8515625,34355.3984375,34355.3984375,34355.3984375,34148.8984375,34360.05078125,33970.6484375,33550.1484375,33610.6484375,33610.6484375,33610.6484375,33610.6484375,33990.80078125,33773.1015625,33949.1484375,33949.1484375,33949.1484375,33949.1484375,33697.75,33007.6484375,33191.69921875,33306.80078125,32972.1484375,32972.1484375,32972.1484375,31698.05078125,31885.44921875,31885.44921875,32187.05078125,32325.150390625,32325.150390625,32325.150390625,31304.30078125,31731.650390625,31731.650390625,31834.5,32148.400390625,32148.400390625,32148.400390625,32603.69921875,32807.1015625,33777.69921875,34287.0,33455.25,33455.25,33455.25,32566.599609375,33011.55078125,32862.1484375,32956.3515625,33259.1484375,33259.1484375,33259.1484375,33297.6015625,33154.30078125,32747.69921875,32747.69921875,32622.650390625,32622.650390625,32622.650390625,33506.8984375,34142.8515625,33959.30078125,33833.69921875,34694.44921875,34694.44921875,34694.44921875,35216.1015625,35125.8515625,34897.94921875,35220.80078125,35436.6484375,35436.6484375,35436.6484375,35584.30078125,35713.8984375,35415.8515625,35723.69921875,35810.8984375,35810.8984375,35810.8984375,35545.8515625,35449.5,35402.44921875,35165.6484375,35344.0,35344.0,35344.0,34995.1484375,35317.3984375,35380.0,34882.3984375,34787.3984375,34787.3984375,34787.3984375,34927.6484375,35281.8984375,34937.6484375,34935.30078125,35491.94921875,35491.94921875,35491.94921875,35576.94921875,35337.44921875,35214.8984375,34917.6484375,34894.44921875,34894.44921875,34894.44921875,35234.30078125,35807.44921875,35795.75,35811.0,35225.19921875,35225.19921875,35225.19921875,35394.30078125,35727.8515625,35804.05078125,35985.25,35977.94921875,35977.94921875,35977.94921875,35347.05078125,34894.1484375,34894.1484375,34989.1015625,35088.0,35088.0,35088.0,35138.19921875,35186.1015625,34841.55078125,34778.1484375,34738.75,34738.75,34738.75,34861.75,35238.44921875,36219.80078125,36115.44921875,36080.1015625,36080.1015625,36080.1015625,36159.8515625,36317.0,36227.55078125,35998.1484375,36233.30078125,36233.30078125,36233.30078125,36261.55078125,35993.69921875,36248.8984375,36248.8984375,35306.5,35306.5,35306.5,35427.3984375,35795.30078125,35910.30078125,35785.80078125,35727.8984375,35727.8984375,35727.8984375,36398.44921875,36552.80078125,36997.69921875,36895.55078125,37140.0,37140.0,37140.0,36923.6484375,36685.8515625,36855.8984375,36857.19921875,36857.19921875,36857.19921875,36857.19921875,36724.8515625,36756.0,36949.69921875,37720.1484375,38112.75,38112.75,38112.75,37802.75,37340.69921875,37328.6015625,37830.75,38112.6015625,38112.6015625,38112.6015625,38355.19921875,38377.25,37923.44921875,37884.8515625,37299.3984375,37299.3984375,37299.3984375,37670.69921875,37786.6015625,38106.8515625,37923.6484375,38105.19921875,38105.19921875,38105.19921875,38495.30078125,38609.6015625,38779.05078125,39375.05078125,39375.05078125,39375.05078125,39375.05078125,39947.6015625,40011.1484375,39774.55078125,40200.44921875,40587.3515625,40587.3515625,40587.3515625,41829.6015625,41367.25,41347.0,40931.05078125,39775.25,39775.25,39775.25,39862.6015625,40107.6015625,40160.19921875,39734.69921875,39734.69921875,39734.69921875,39734.69921875,39674.05078125,39560.6015625,39220.30078125,38929.94921875,38822.8515625,38822.8515625,38822.8515625,39117.1484375,38724.69921875,38456.30078125,38233.94921875,38233.94921875,38233.94921875,38233.94921875,38241.0,37448.75,37891.8984375,37507.94921875,36868.8984375,36868.8984375,36868.8984375,36347.8515625,36774.19921875,36445.3515625,36563.5,36844.0,36844.0,36844.0,36344.55078125,36820.69921875,37384.80078125,37397.55078125,37153.25,37153.25,37153.25,37581.05078125,37039.05078125,37083.5,37159.30078125,36550.75,36550.75,36550.75,35231.1015625,35050.0,35112.1015625,35477.30078125,35327.94921875,35327.94921875,35327.94921875,35143.69921875,35352.3984375,35378.30078125,35179.05078125,35596.94921875,35596.94921875,35596.94921875,36492.1015625,36887.80078125,37862.3984375,37752.5,38134.8515625,38134.8515625,38134.8515625,38400.3515625,38504.6015625,38851.44921875,38717.55078125,38448.05078125,38448.05078125,38448.05078125,38617.5,38855.55078125,38330.5,38167.94921875,37741.0,37741.0,37741.0,37694.69921875,37788.80078125,37788.80078125,38147.6484375,38421.69921875,38421.69921875,38421.69921875,38217.25,38802.69921875,39386.6015625,39424.8515625,39278.6015625,39278.6015625,39278.6015625,38837.55078125,38222.1015625,38648.1484375,39197.19921875,38790.25,38790.25,38790.25,37796.55078125,38231.6015625,38461.69921875,38124.5,37817.55078125,37817.55078125,37817.55078125,38054.3984375,37659.3984375,37774.6015625,36709.1484375,36684.6484375,36684.6484375,36684.6484375,36270.25,36270.25,35553.69921875,35804.1484375,35097.75,35097.75,35097.75,33543.30078125,33263.55078125,33969.5,35374.1484375,34880.05078125,34880.05078125,34880.05078125,35435.1015625,35643.80078125,35806.3515625,36611.94921875,36611.94921875,36611.94921875,36611.94921875,36600.19921875,36468.80078125,36827.6015625,35957.69921875,35717.3984375,35717.3984375,35717.3984375,35770.80078125,35977.19921875,36421.1015625,36590.8515625,37209.80078125,37209.80078125,37209.80078125,38765.8515625,38759.25,37868.5,37975.8984375,37884.19921875,37884.19921875,37884.19921875,37941.75,37920.6015625,37988.6015625,37988.6015625,37988.6015625,37988.6015625,37988.6015625,36965.8515625,37123.55078125,36513.8515625,36913.3515625,36578.94921875,36578.94921875,36578.94921875,36270.1484375,36604.55078125,36175.8984375,36501.1015625,36718.80078125,36718.80078125,36718.80078125,36235.25,36235.25,36309.30078125,35934.8515625,34797.94921875,34797.94921875,34797.94921875,34554.3515625,34781.80078125,34793.19921875,34341.19921875,34002.19921875,34002.19921875,34002.19921875,33821.6484375,34366.05078125,34655.80078125,33633.94921875,34358.05078125,34358.05078125,34358.05078125,34819.94921875,34586.44921875,34722.6015625,35222.05078125,35694.8515625,35694.8515625,35694.8515625,36083.69921875,35881.94921875,35768.69921875,35676.19921875,35958.44921875,35958.44921875,35958.44921875,35424.5,35154.30078125,35449.8984375,35149.1015625,34752.44921875,34752.44921875,34752.44921875,33774.05078125,33618.1484375,33554.55078125,33756.5,32889.80078125,32889.80078125,32889.80078125,32926.1015625,33593.80078125,33106.94921875,33431.75,33721.8984375,33721.8984375,33721.8984375,34147.5,33745.30078125,33422.80078125,33659.30078125,33666.5,33666.5,33666.5,33978.5,34361.05078125,34388.5,34965.75,35262.1015625,35262.1015625,35262.1015625,35543.1015625,35419.6484375,35308.1484375,35027.6015625,34899.94921875,34899.94921875,34899.94921875,35382.5,35761.6484375,36182.69921875,36331.69921875,36823.44921875,36823.44921875,36823.44921875,37011.19921875,36695.75,36808.30078125,37414.3984375,37754.6484375,37754.6484375,37754.6484375,37939.6015625,38179.8515625,38068.6015625,38231.8515625,38150.44921875,38150.44921875,38150.44921875,38302.3515625,38302.3515625,38402.94921875,38932.1015625,39088.8984375,39088.8984375,39088.8984375,39088.8984375,39444.6015625,39504.5,39703.69921875,39759.1484375,39759.1484375,39759.1484375,38732.8515625,38869.8984375,39120.80078125,39471.75,39337.1015625,39337.1015625,39337.1015625,38397.1015625,39606.55078125,39606.55078125,39667.6484375,39595.8515625,39595.8515625,39595.8515625,39865.19921875,40073.75,39572.05078125,40265.75,40685.94921875,40685.94921875,40685.94921875,40684.8984375,40904.30078125,41626.8984375,41840.1484375,41162.5,41162.5,41162.5,41184.25,41677.6484375,41501.69921875,41159.19921875,40528.3984375,40528.3984375,40528.3984375,39229.3984375,39050.5,38368.80078125,38283.3984375,38811.0,38811.0,38811.0,38641.6015625,39177.5,39177.5,39608.3515625,39235.05078125,39235.05078125,39235.05078125,39315.69921875,39174.94921875,39164.1015625,39061.30078125,39570.8515625,39570.8515625,39570.8515625,39974.69921875,40435.3515625,40643.6015625,40208.3515625,41032.25,41032.25,41032.25,41427.25,41530.6484375,41530.6484375,41511.80078125,41482.3984375,41482.3984375,41482.3984375,41353.69921875,41677.25,41474.30078125,41478.0,41516.19921875,41516.19921875,41516.19921875,41779.3984375,41779.3984375,41948.8984375,41643.8984375,42345.5,42345.5,42345.5,42231.44921875,42450.05078125,42611.75,42622.75,42590.75,42590.75,42590.75,42386.80078125,42508.75,42860.55078125,43163.3984375,43339.1484375,43339.1484375,43339.1484375,43159.80078125,43279.6015625,43332.30078125,43515.05078125,43131.8984375,43131.8984375,43131.8984375,43372.1484375,43306.8515625,43327.3515625,43640.8984375,43853.3984375,43853.3984375,43853.3984375,43767.05078125,43983.80078125,44151.80078125,44120.6015625,43598.19921875,43598.19921875,43598.19921875,43451.44921875,43426.19921875,43614.6484375,42933.5,42226.6484375,42226.6484375,42226.6484375,42226.6484375,42927.19921875,43034.94921875,43498.05078125,43422.94921875,43422.94921875,43422.94921875,43382.75,43482.80078125,43578.3984375,43137.55078125,42685.8984375,42685.8984375,42685.8984375,42716.80078125,42674.25,42318.0,42343.5,42453.94921875,42453.94921875,42453.94921875,42715.6484375,42383.80078125,42555.8984375,42506.25,42709.19921875,42709.19921875,42709.19921875,43005.8515625,43078.8984375,42733.05078125,42733.05078125,41417.8984375,41417.8984375,41417.8984375,40789.55078125,40811.6484375,42015.6484375,40757.6015625,41539.94921875,41539.94921875,41539.94921875,41724.5,41630.75,41791.94921875,41634.0,41678.8984375,41678.8984375,41678.8984375,41662.55078125,41718.0,41795.44921875,41979.1015625,41516.30078125,41516.30078125,41516.30078125,41292.6015625,40946.19921875,40529.25,40147.80078125,40348.1015625,40348.1015625,40348.1015625,40371.44921875,40391.44921875,40725.3515625,40773.25,41390.1484375,41390.1484375,41390.1484375,41671.19921875,41671.19921875,41625.3515625,41659.0,40839.0,40839.0,40839.0,40690.05078125,39768.5,39914.1015625,39381.3984375,39705.1484375,39705.1484375,39705.1484375,39512.1015625,39970.8984375,40085.6015625,40201.6015625,39767.8984375,39767.8984375,39767.8984375,39695.19921875,39645.19921875,40055.0,40055.0,40690.3984375],\"low\":[9813.9501953125,9862.150390625,10070.7998046875,10120.900390625,10120.900390625,10120.900390625,9948.349609375,10244.900390625,10232.5498046875,10239.349609375,10295.7001953125,10295.7001953125,10295.7001953125,10525.7001953125,10433.9501953125,10038.9501953125,10123.7001953125,9648.4501953125,9648.4501953125,9648.4501953125,8504.650390625,7958.9501953125,8889.599609375,8960.2001953125,9170.349609375,9170.349609375,9170.349609375,9313.599609375,9420.75,9309.7998046875,9147.25,9002.2001953125,9002.2001953125,9002.2001953125,9424.2001953125,9363.349609375,9052.349609375,8925.900390625,8624.75,8624.75,8624.75,8216.900390625,8406.25,8564.650390625,8911.599609375,8951.099609375,8951.099609375,8951.099609375,9320.400390625,9384.9501953125,9056.099609375,8768.150390625,8642.0,8642.0,8642.0,8399.2001953125,8691.099609375,8676.0,8496.7998046875,8248.75,8248.75,8248.75,8004.7001953125,7587.60009765625,7519.10009765625,7519.10009765625,7064.5,7064.5,7064.5,6945.5,7124.60009765625,7289.0498046875,6840.64990234375,6880.0,6880.0,6880.0,6493.0498046875,6335.0,6379.2001953125,6379.2001953125,6379.2001953125,6379.2001953125,6379.2001953125,6456.7998046875,6804.25,7078.0498046875,6941.0498046875,6751.89990234375,6751.89990234375,6751.89990234375,6606.0498046875,6446.7001953125,6690.7998046875,6697.0,6502.0,6502.0,6502.0,6485.39990234375,6750.39990234375,6805.39990234375,6853.5,6817.5498046875,6817.5498046875,6817.5498046875,6817.5498046875,6687.89990234375,6927.89990234375,7030.4501953125,7030.4501953125,7030.4501953125,7030.4501953125,7117.64990234375,7383.7001953125,7298.9501953125,7362.60009765625,7409.5,7409.5,7409.5,7567.85009765625,7570.4501953125,7575.4501953125,7575.4501953125,7774.10009765625,7774.10009765625,7774.10009765625,7819.89990234375,7751.85009765625,7661.35009765625,7502.10009765625,7267.89990234375,7267.89990234375,7267.89990234375,7140.10009765625,7295.7998046875,7276.5,7325.14990234375,7559.14990234375,7559.14990234375,7559.14990234375,7559.14990234375,7405.5,7299.0498046875,7132.2998046875,6994.89990234375,6994.89990234375,6994.89990234375,6745.5,6573.7998046875,6557.64990234375,6526.5,6502.4501953125,6502.4501953125,6502.4501953125,6306.25,6190.60009765625,6075.0498046875,5974.10009765625,6113.85009765625,6113.85009765625,6113.85009765625,5803.0,5702.5,5853.75,5703.10009765625,5962.4501953125,5962.4501953125,5962.4501953125,6030.60009765625,6119.2998046875,6182.35009765625,5933.89990234375,5731.25,5731.25,5731.25,5555.4501953125,5441.64990234375,5282.85009765625,5425.75,5183.2001953125,5183.2001953125,5183.2001953125,4996.85009765625,4684.0498046875,4633.9501953125,4721.75,4796.2998046875,4796.2998046875,4796.2998046875,5009.10009765625,4843.60009765625,5214.60009765625,5210.0498046875,5175.0498046875,5175.0498046875,5175.0498046875,5123.14990234375,4790.0,4676.4501953125,4872.4501953125,5103.2001953125,5103.2001953125,5103.2001953125,5406.2998046875,5573.0498046875,6033.0498046875,6103.10009765625,5881.75,5881.75,5881.75,5842.7001953125,5394.9501953125,5522.75,5573.60009765625,5546.89990234375,5546.89990234375,5546.89990234375,5905.7001953125,5888.85009765625,6300.5,6281.5,6179.0498046875,6179.0498046875,6179.0498046875,6574.5,6433.7998046875,6318.0498046875,6010.0498046875,6010.0498046875,6010.0498046875,6010.0498046875,5940.7998046875,5874.10009765625,5985.5498046875,5692.64990234375,5649.89990234375,5649.89990234375,5649.89990234375,5842.2998046875,5770.89990234375,5809.2998046875,5686.60009765625,5828.0,5828.0,5828.0,5941.4501953125,6139.4501953125,6139.4501953125,6324.25,6259.14990234375,6259.14990234375,6259.14990234375,6522.0498046875,6400.14990234375,6328.64990234375,6246.5498046875,6168.7998046875,6168.7998046875,6168.7998046875,5758.4501953125,5754.35009765625,5785.89990234375,5551.7001953125,6141.4501953125,6141.4501953125,6141.4501953125,6256.9501953125,6009.14990234375,6059.2001953125,5969.7001953125,5797.5,5797.5,5797.5,5432.2001953125,5296.60009765625,5671.7001953125,5671.7001953125,5761.5,5761.5,5761.5,5522.85009765625,5376.10009765625,4918.2998046875,4918.2998046875,4662.2001953125,4662.2001953125,4662.2001953125,5034.64990234375,5521.2998046875,5348.7998046875,5145.7998046875,5113.4501953125,5113.4501953125,5113.4501953125,5113.14990234375,5296.7998046875,5075.7998046875,4880.60009765625,4229.64990234375,4229.64990234375,4229.64990234375,3799.35009765625,3799.35009765625,4236.0,4236.0,4364.35009765625,4364.35009765625,4364.35009765625,4779.60009765625,4807.10009765625,5078.14990234375,4873.4501953125,4804.5,4804.5,4804.5,5086.0498046875,4921.9501953125,4685.85009765625,4685.85009765625,4668.0498046875,4668.0498046875,4668.0498046875,4364.35009765625,4285.0,4213.5,3972.14990234375,4052.10009765625,4052.10009765625,4052.10009765625,4095.949951171875,4032.550048828125,4005.35009765625,4005.35009765625,4148.75,4148.75,4148.75,4107.7001953125,3919.0,4068.300048828125,4224.9501953125,4308.5498046875,4308.5498046875,4308.5498046875,4407.2001953125,4407.2001953125,4423.4501953125,4485.2001953125,4411.60009765625,4411.60009765625,4411.60009765625,4685.39990234375,4677.2998046875,4769.7998046875,4782.60009765625,5069.5498046875,5069.5498046875,5069.5498046875,5010.25,4817.5,4793.7001953125,4793.7001953125,4770.2001953125,4770.2001953125,4770.2001953125,4684.7998046875,4928.4501953125,4981.25,4981.25,5103.60009765625,5103.60009765625,5103.60009765625,5273.4501953125,5276.39990234375,4954.0,4954.0,4840.0,4840.0,4840.0,4612.75,4605.64990234375,4682.10009765625,4442.7001953125,4520.89990234375,4520.89990234375,4520.89990234375,4519.85009765625,4363.9501953125,4230.75,4216.9501953125,4049.89990234375,4049.89990234375,4049.89990234375,4049.89990234375,4111.2998046875,4206.35009765625,4336.9501953125,4285.2001953125,4285.2001953125,4285.2001953125,4223.75,4191.10009765625,4238.60009765625,4202.39990234375,4275.64990234375,4275.64990234375,4275.64990234375,4365.5498046875,4455.5,4403.2998046875,4456.85009765625,4511.35009765625,4511.35009765625,4511.35009765625,4333.89990234375,4145.0498046875,4039.39990234375,4036.800048828125,3912.35009765625,3912.35009765625,3912.35009765625,3912.35009765625,3794.89990234375,3899.550048828125,3781.89990234375,3758.39990234375,3758.39990234375,3758.39990234375,3702.0,3621.89990234375,3576.550048828125,3413.5,3338.800048828125,3338.800048828125,3338.800048828125,3314.550048828125,3314.550048828125,3314.550048828125,3380.699951171875,3498.10009765625,3498.10009765625,3498.10009765625,3645.14990234375,3615.60009765625,3704.0,3668.14990234375,3665.10009765625,3665.10009765625,3665.10009765625,3743.0,3982.800048828125,3993.10009765625,4167.2001953125,4262.9501953125,4262.9501953125,4262.9501953125,4009.35009765625,3871.449951171875,4023.449951171875,4322.2001953125,4322.2001953125,4322.2001953125,4322.2001953125,4412.2001953125,4412.2001953125,4259.64990234375,4445.25,4445.25,4445.25,4445.25,4661.9501953125,4661.9501953125,4691.7998046875,4892.0498046875,4939.64990234375,4939.64990234375,4939.64990234375,4950.5498046875,4824.2998046875,4777.10009765625,4725.7001953125,4963.2001953125,4963.2001953125,4963.2001953125,5025.75,4909.39990234375,4958.0,4958.0,4958.0,4958.0,4958.0,5291.25,5488.89990234375,5403.39990234375,5481.35009765625,5352.0,5352.0,5352.0,5313.14990234375,5315.60009765625,5475.2001953125,5330.5,5519.35009765625,5519.35009765625,5519.35009765625,6304.25,6603.0498046875,7093.14990234375,6904.60009765625,6819.85009765625,6819.85009765625,6819.85009765625,6964.5498046875,6813.10009765625,7013.7998046875,7143.39990234375,7362.89990234375,7362.89990234375,7362.89990234375,7287.14990234375,7134.5,7187.4501953125,7111.9501953125,7308.85009765625,7308.85009765625,7308.85009765625,6938.5498046875,6909.5,7230.2001953125,7176.39990234375,7063.85009765625,7063.85009765625,7063.85009765625,6986.0498046875,6970.60009765625,7032.60009765625,6967.0,7017.0,7017.0,7017.0,7196.9501953125,6989.10009765625,7015.39990234375,7100.25,7160.0,7160.0,7160.0,7381.7998046875,7303.35009765625,7270.2998046875,7285.85009765625,7318.4501953125,7318.4501953125,7318.4501953125,6859.89990234375,6873.75,6619.2998046875,6542.39990234375,6469.0,6469.0,6469.0,6393.5,6649.5,6736.5498046875,6859.2998046875,6897.2001953125,6897.2001953125,6897.2001953125,7239.39990234375,7385.5498046875,7289.85009765625,7369.2998046875,7351.2998046875,7351.2998046875,7351.2998046875,7343.39990234375,7261.2998046875,7092.0498046875,7178.25,7472.0498046875,7472.0498046875,7472.0498046875,7514.7001953125,7571.89990234375,7516.0,7445.35009765625,7226.7001953125,7226.7001953125,7226.7001953125,7126.85009765625,7129.0,6988.5498046875,7293.39990234375,7373.35009765625,7373.35009765625,7373.35009765625,7085.25,7098.64990234375,6998.7998046875,7168.5498046875,7145.85009765625,7145.85009765625,7145.85009765625,7472.60009765625,7366.0,7385.5,7366.85009765625,7377.89990234375,7377.89990234375,7377.89990234375,7377.2998046875,7343.0,7292.7001953125,7324.7001953125,7346.2998046875,7346.2998046875,7346.2998046875,7495.39990234375,7655.39990234375,7688.75,7794.39990234375,7803.14990234375,7803.14990234375,7803.14990234375,7877.9501953125,8000.39990234375,8273.75,8398.7001953125,8292.150390625,8292.150390625,8292.150390625,8292.150390625,8369.150390625,8406.150390625,8341.099609375,8436.9501953125,8436.9501953125,8436.9501953125,8436.9501953125,8465.900390625,8487.599609375,8787.0,8787.0,8787.0,8787.0,8631.9501953125,8555.0,8724.75,8738.2998046875,8658.150390625,8658.150390625,8658.150390625,8698.5498046875,8698.5498046875,8984.099609375,9155.25,9259.900390625,9259.900390625,9259.900390625,9259.900390625,9429.7998046875,9259.7001953125,9057.099609375,9131.0498046875,9131.0498046875,9131.0498046875,9014.099609375,8661.599609375,8410.9501953125,8370.150390625,8411.150390625,8411.150390625,8411.150390625,8411.150390625,8207.75,8267.9501953125,8319.5,8612.2998046875,8612.2998046875,8612.2998046875,8750.7001953125,9124.0,9095.650390625,9024.900390625,9055.849609375,9055.849609375,9055.849609375,9201.849609375,9118.0,9206.0498046875,8992.5,8890.099609375,8890.099609375,8890.099609375,9223.150390625,9163.7001953125,9214.25,9045.349609375,8591.75,8591.75,8591.75,8989.0,9056.0498046875,9293.900390625,9294.75,9195.5498046875,9195.5498046875,9195.5498046875,9150.25,9124.5,9119.5,9078.900390625,9054.75,9054.75,9054.75,8977.5,8715.2998046875,8640.900390625,8586.9501953125,8577.7001953125,8577.7001953125,8577.7001953125,8560.150390625,8647.0498046875,8721.5,8895.599609375,8895.599609375,8895.599609375,8895.599609375,8895.599609375,8965.7001953125,8937.2998046875,9002.4501953125,9002.4501953125,9002.4501953125,9002.4501953125,9031.900390625,9157.349609375,9183.650390625,9153.25,9141.4501953125,9141.4501953125,9141.4501953125,9161.0498046875,8973.0498046875,8836.7001953125,8883.099609375,8874.7998046875,8874.7998046875,8874.7998046875,8863.2001953125,9093.9501953125,9104.099609375,8889.0498046875,8659.900390625,8659.900390625,8659.900390625,8669.5498046875,8669.5498046875,8294.599609375,8354.25,8306.099609375,8306.099609375,8306.099609375,8495.25,8453.900390625,8489.7998046875,8455.5,8150.4501953125,8150.4501953125,8150.4501953125,8160.9501953125,8271.5498046875,8259.400390625,8327.7001953125,8327.7001953125,8327.7001953125,8327.7001953125,8282.0498046875,8289.150390625,8446.5498046875,8523.349609375,8407.9501953125,8407.9501953125,8407.9501953125,8473.150390625,8453.400390625,8458.4501953125,8469.650390625,8527.0498046875,8527.0498046875,8527.0498046875,8527.0498046875,8826.900390625,8922.150390625,8965.25,8967.7998046875,8967.7998046875,8967.7998046875,9093.4501953125,9073.5,9074.0,9087.349609375,9145.599609375,9145.599609375,9145.599609375,9056.150390625,8986.75,9142.0,9172.0498046875,9231.900390625,9231.900390625,9231.900390625,9066.7001953125,9166.400390625,9166.400390625,9165.5,9321.5,9321.5,9321.5,9452.099609375,9461.25,9440.349609375,9445.5498046875,9445.5498046875,9445.5498046875,9445.5498046875,9582.0,9674.099609375,9639.849609375,9492.2998046875,9538.0,9538.0,9538.0,9547.599609375,9453.5498046875,9453.5498046875,9330.7998046875,9266.150390625,9266.150390625,9266.150390625,9206.0,9314.5498046875,9477.099609375,9500.150390625,9653.150390625,9653.150390625,9653.150390625,9824.75,9744.7001953125,9603.5,9652.599609375,9809.400390625,9809.400390625,9809.400390625,9741.5,9607.4501953125,9454.75,9449.75,9239.7998046875,9239.7998046875,9239.7998046875,9402.0498046875,9593.5498046875,9587.099609375,9748.849609375,9548.2001953125,9548.2001953125,9548.2001953125,9303.75,9430.7001953125,9075.0,9108.2001953125,8969.2001953125,8969.2001953125,8969.2001953125,9044.5498046875,8806.650390625,8911.400390625,8954.349609375,9215.599609375,9215.599609375,9215.599609375,9257.650390625,9093.150390625,9083.650390625,9288.5,9363.2998046875,9363.2998046875,9363.2998046875,9192.7001953125,9143.5,9182.4501953125,9215.349609375,9386.7001953125,9386.7001953125,9386.7001953125,9468.75,9422.9501953125,9527.400390625,9446.2998046875,9544.2998046875,9544.2998046875,9544.2998046875,9626.400390625,9665.2998046875,9622.099609375,9617.7001953125,9429.7001953125,9429.7001953125,9429.7001953125,9436.75,9348.400390625,9301.400390625,9303.0498046875,9330.2998046875,9330.2998046875,9330.2998046875,9312.099609375,9383.25,9430.5,9516.7001953125,9616.599609375,9616.599609375,9616.599609375,9745.900390625,9737.650390625,9928.400390625,9885.5498046875,9941.7001953125,9941.7001953125,9941.7001953125,9956.650390625,9949.0498046875,9940.9501953125,9914.849609375,10034.4501953125,10034.4501953125,10034.4501953125,9998.9501953125,9951.5498046875,10024.400390625,10032.0498046875,10116.7001953125,10116.7001953125,10116.7001953125,10255.400390625,10448.150390625,10412.650390625,10441.5,10364.9501953125,10364.9501953125,10364.9501953125,10393.5,10473.5498046875,10391.900390625,10308.150390625,10603.900390625,10603.900390625,10603.900390625,10645.4501953125,10705.650390625,10756.5498046875,10895.849609375,11005.5,11005.5,11005.5,10971.7001953125,10979.5,10917.099609375,10941.7998046875,10681.599609375,10681.599609375,10681.599609375,10671.4501953125,10653.2998046875,10761.650390625,10931.400390625,10938.900390625,10938.900390625,10938.900390625,11033.599609375,11156.849609375,11099.2998046875,11223.650390625,11223.650390625,11223.650390625,11223.650390625,11489.5,11893.349609375,11917.4501953125,11960.599609375,12037.349609375,12037.349609375,12037.349609375,12067.400390625,12173.2001953125,12177.7998046875,12111.400390625,12068.400390625,12068.400390625,12068.400390625,12227.75,12163.349609375,12220.900390625,12178.900390625,12376.25,12376.25,12376.25,12605.4501953125,12572.25,12588.9501953125,12512.849609375,12414.7998046875,12414.7998046875,12414.7998046875,12457.5498046875,12371.400390625,12459.2001953125,12532.400390625,12324.400390625,12324.400390625,12324.400390625,12149.5498046875,12212.349609375,12139.900390625,12190.5,12298.150390625,12298.150390625,12298.150390625,12397.400390625,12314.650390625,12097.849609375,12052.0498046875,11955.5498046875,11955.5498046875,11955.5498046875,12485.5,12685.25,12843.9501953125,12952.150390625,12952.150390625,12952.150390625,12952.150390625,13078.900390625,12950.7001953125,12980.849609375,12782.0,12428.7998046875,12428.7998046875,12428.7998046875,12445.5498046875,12436.5,12436.5,12050.349609375,12013.650390625,12013.650390625,12013.650390625,12054.5498046875,11891.349609375,11746.75,11608.2998046875,11362.900390625,11362.900390625,11362.900390625,11707.849609375,11725.5,11963.849609375,12389.650390625,12232.7001953125,12232.7001953125,12232.7001953125,12011.5,11629.5,11403.849609375,11043.9501953125,10977.900390625,10977.900390625,10977.900390625,11270.099609375,11441.400390625,11150.9501953125,11147.4501953125,11147.4501953125,11147.4501953125,11147.4501953125,11237.2001953125,11294.349609375,11408.150390625,11432.150390625,11390.099609375,11390.099609375,11390.099609375,11441.5498046875,11392.900390625,11433.2998046875,11573.7001953125,11631.2001953125,11631.2001953125,11631.2001953125,11826.9501953125,11545.5498046875,11265.5498046875,11164.75,11007.900390625,11007.900390625,11007.900390625,10671.599609375,10620.7998046875,10728.4501953125,10676.5,10387.900390625,10387.900390625,10387.900390625,10373.7998046875,10520.2998046875,10562.25,10493.25,10740.0,10740.0,10740.0,10913.4501953125,10849.400390625,10849.400390625,10639.849609375,10481.099609375,10481.099609375,10481.099609375,10400.25,10457.7998046875,10418.2001953125,10429.5,10385.900390625,10385.900390625,10385.900390625,10354.599609375,10119.4501953125,10038.150390625,10017.849609375,10061.400390625,10061.400390625,10061.400390625,10477.849609375,10722.7001953125,10908.650390625,10918.099609375,10915.349609375,10915.349609375,10915.349609375,10806.2998046875,10777.650390625,10628.650390625,10169.0,10263.150390625,10263.150390625,10263.150390625,10364.349609375,10528.349609375,10528.349609375,10759.7001953125,10924.099609375,10924.099609375,10924.099609375,10658.2998046875,10779.150390625,10904.599609375,10783.2998046875,10697.099609375,10697.099609375,10697.099609375,10730.400390625,10591.2998046875,10777.099609375,10824.400390625,10699.400390625,10699.400390625,10699.400390625,10661.150390625,10726.25,10744.7001953125,11001.75,11136.4501953125,11136.4501953125,11136.4501953125,11348.150390625,11507.4501953125,11625.5,11569.25,11540.849609375,11540.849609375,11540.849609375,11614.4501953125,11678.099609375,11686.5498046875,11656.7001953125,11632.5498046875,11632.5498046875,11632.5498046875,11551.75,11551.75,11490.5498046875,11490.5498046875,11707.599609375,11707.599609375,11707.599609375,11525.0498046875,11482.150390625,11614.599609375,11836.9501953125,11836.9501953125,11836.9501953125,11836.9501953125,11860.349609375,11709.7998046875,11732.25,11659.5,11406.849609375,11406.849609375,11406.849609375,11204.650390625,10849.150390625,10797.599609375,10677.2998046875,10751.2998046875,10751.2998046875,10751.2998046875,10956.349609375,10945.7001953125,10904.099609375,10865.150390625,10838.150390625,10838.150390625,10838.150390625,10878.650390625,10617.150390625,10550.9501953125,10524.349609375,10540.9501953125,10540.9501953125,10540.9501953125,10339.9501953125,10360.75,10340.650390625,10379.25,10491.4501953125,10491.4501953125,10491.4501953125,10715.099609375,10715.099609375,10959.099609375,10802.349609375,10751.099609375,10751.099609375,10751.099609375,10682.2998046875,10796.150390625,10764.7001953125,10734.75,10627.599609375,10627.599609375,10627.599609375,10616.0498046875,10737.2998046875,10608.7998046875,10502.400390625,10548.2001953125,10548.2001953125,10548.2001953125,10340.400390625,10426.849609375,10435.0498046875,10421.650390625,10576.5,10576.5,10576.5,10774.099609375,10986.7001953125,11090.5498046875,11149.2001953125,11190.0,11190.0,11190.0,11322.0498046875,11302.599609375,11255.0498046875,11232.150390625,11270.0,11270.0,11270.0,11106.849609375,10941.2998046875,11060.900390625,11072.5,11195.5,11195.5,11195.5,11176.849609375,11204.75,11142.400390625,11021.7001953125,11105.7001953125,11105.7001953125,11105.7001953125,11233.349609375,11068.2001953125,10961.9501953125,10799.849609375,10758.400390625,10758.400390625,10758.400390625,10882.0498046875,10720.2998046875,10545.150390625,10515.0498046875,10150.2998046875,10150.2998046875,10150.2998046875,10072.4501953125,9920.7998046875,10393.7001953125,10323.5,10131.650390625,10131.650390625,10131.650390625,10131.650390625,10023.0,9869.75,9564.9501953125,9280.25,9280.25,9280.25,9224.9501953125,9303.349609375,9275.150390625,9134.9501953125,8917.9501953125,8917.9501953125,8917.9501953125,9099.849609375,9355.150390625,9355.150390625,9355.150390625,9490.0,9490.0,9490.0,9448.75,9364.599609375,9683.9501953125,9749.2001953125,9647.599609375,9647.599609375,9647.599609375,9347.150390625,9260.900390625,9267.5498046875,9390.099609375,9590.150390625,9590.150390625,9590.150390625,9545.849609375,9578.599609375,9809.2998046875,9489.7001953125,9284.650390625,9284.650390625,9284.650390625,9165.7998046875,9528.2998046875,9449.0,9406.349609375,9420.650390625,9420.650390625,9420.650390625,9156.4501953125,8818.0498046875,8626.4501953125,8626.4501953125,8970.5498046875,8970.5498046875,8970.5498046875,8982.900390625,9148.099609375,9193.75,9547.099609375,9526.9501953125,9526.9501953125,9526.9501953125,9666.349609375,9492.9501953125,9673.0,9618.349609375,9678.400390625,9678.400390625,9678.400390625,9606.75,9323.0,9323.0,9323.0,9837.349609375,9837.349609375,9837.349609375,9826.7998046875,9782.7001953125,9726.75,9648.650390625,9808.099609375,9808.099609375,9808.099609375,9808.099609375,9732.849609375,9565.099609375,9565.099609375,9270.349609375,9270.349609375,9270.349609375,9254.2998046875,9062.400390625,8957.0498046875,8899.650390625,8706.0,8706.0,8706.0,8522.2998046875,8544.0498046875,8240.4501953125,8240.4501953125,8360.5498046875,8360.5498046875,8360.5498046875,8598.7001953125,8587.4501953125,8490.349609375,8821.5,8859.650390625,8859.650390625,8859.650390625,9073.7998046875,9073.7998046875,9133.5498046875,8871.25,8689.849609375,8689.849609375,8689.849609375,8504.4501953125,8393.2998046875,8482.9501953125,8375.650390625,8127.2001953125,8127.2001953125,8127.2001953125,7801.5498046875,7766.35009765625,7936.0,8064.14990234375,8253.4501953125,8253.4501953125,8253.4501953125,8253.4501953125,8223.849609375,8053.14990234375,7986.75,7925.14990234375,7925.14990234375,7925.14990234375,7925.14990234375,8072.7998046875,8294.349609375,8394.25,8297.5498046875,8297.5498046875,8297.5498046875,8329.900390625,8535.650390625,8736.25,8830.25,8913.9501953125,8913.9501953125,8913.9501953125,8813.849609375,9011.7998046875,8922.7001953125,9106.7998046875,9268.5,9268.5,9268.5,9503.099609375,9456.25,9762.5,9762.5,9701.5,9701.5,9701.5,9509.150390625,9625.7001953125,9762.0,9776.5498046875,9928.4501953125,9928.4501953125,9928.4501953125,10183.4501953125,10260.150390625,10208.4501953125,10267.25,10344.2001953125,10344.2001953125,10344.2001953125,10335.7001953125,10449.099609375,10633.150390625,10780.0498046875,11013.0,11013.0,11013.0,11013.0,11042.599609375,10714.0498046875,10621.7998046875,10435.5498046875,10435.5498046875,10435.5498046875,10073.900390625,10178.849609375,10340.75,10160.25,10192.7998046875,10192.7998046875,10192.7998046875,10152.099609375,10020.4501953125,9939.9501953125,9939.9501953125,10286.7998046875,10286.7998046875,10286.7998046875,10543.25,10671.4501953125,10768.650390625,10556.400390625,10348.0498046875,10348.0498046875,10348.0498046875,10135.25,10137.7998046875,10217.4501953125,10135.849609375,10125.75,10125.75,10125.75,10013.0498046875,9967.5498046875,9901.2001953125,9845.400390625,9981.900390625,9981.900390625,9981.900390625,10180.9501953125,10376.0,10267.9501953125,10267.9501953125,10267.9501953125,10267.9501953125,10267.9501953125,10113.75,10077.0498046875,10060.7001953125,10250.7001953125,10235.7001953125,10235.7001953125,10235.7001953125,10274.150390625,10248.5498046875,10479.5,10438.650390625,10387.0498046875,10387.0498046875,10387.0498046875,10206.900390625,10151.7998046875,10043.650390625,10083.5,10029.4501953125,10029.4501953125,10029.4501953125,10210.099609375,10210.099609375,10278.4501953125,10100.25,9757.75,9757.75,9757.75,9480.5,9526.650390625,9340.4501953125,9362.099609375,9296.650390625,9296.650390625,9296.650390625,9190.2998046875,9166.099609375,9047.0498046875,9113.650390625,8995.25,8995.25,8995.25,8995.25,9253.0498046875,9157.2001953125,9198.75,9371.5498046875,9371.5498046875,9371.5498046875,9483.099609375,9687.650390625,9514.25,9362.900390625,9252.599609375,9252.599609375,9252.599609375,9110.4501953125,9400.349609375,9519.0,9787.9501953125,9809.9501953125,9809.9501953125,9809.9501953125,9934.0498046875,9893.349609375,10075.2001953125,9813.650390625,9881.400390625,9881.400390625,9881.400390625,9695.599609375,9619.150390625,9764.4501953125,9769.2998046875,9873.849609375,9873.849609375,9873.849609375,9892.7998046875,9901.849609375,9988.5,9950.099609375,10105.4501953125,10105.4501953125,10105.4501953125,10303.650390625,10444.2998046875,10482.849609375,10468.75,10547.349609375,10547.349609375,10547.349609375,10524.75,10615.2998046875,10692.9501953125,10557.349609375,10568.75,10568.75,10568.75,10552.7001953125,10518.9501953125,10498.599609375,10606.599609375,10463.400390625,10463.400390625,10463.400390625,10254.0,10237.25,10224.75,10056.150390625,10102.75,10102.75,10102.75,10222.5498046875,10239.7001953125,10324.599609375,10310.849609375,10209.150390625,10209.150390625,10209.150390625,10426.75,10463.5498046875,10511.349609375,10425.150390625,10272.0498046875,10272.0498046875,10272.0498046875,10284.0498046875,10387.9501953125,10387.9501953125,10405.7001953125,10354.7001953125,10354.7001953125,10354.7001953125,10354.7001953125,10353.849609375,10401.75,10413.2998046875,10318.5498046875,10318.5498046875,10318.5498046875,10134.400390625,10134.400390625,9998.099609375,9959.0498046875,9948.7001953125,9948.7001953125,9948.7001953125,9941.5,9916.849609375,9814.0498046875,9831.349609375,10036.4501953125,10036.4501953125,10036.4501953125,10041.25,10006.5,10109.599609375,10171.25,10408.25,10408.25,10408.25,10797.099609375,10922.7001953125,10922.7001953125,10887.0,10973.150390625,10973.150390625,10973.150390625,11359.2998046875,11321.2001953125,11322.25,11378.349609375,11437.900390625,11437.900390625,11437.900390625,11366.400390625,11366.400390625,11361.650390625,11460.150390625,10043.599609375,10043.599609375,10043.599609375,11342.849609375,11373.7001953125,11271.150390625,11244.7001953125,11372.099609375,11372.099609375,11372.099609375,11288.400390625,11328.25,11302.900390625,11364.2001953125,11424.25,11424.25,11424.25,11419.400390625,11534.5498046875,11534.5498046875,11542.2998046875,11542.2998046875,11542.2998046875,11542.2998046875,11431.9501953125,11173.7998046875,11125.2001953125,11230.2001953125,11394.150390625,11394.150390625,11394.150390625,11401.2998046875,11427.9501953125,11519.599609375,11533.2998046875,11427.2001953125,11427.2001953125,11427.2001953125,11462.2998046875,11462.2998046875,11462.2998046875,11419.0498046875,11306.0498046875,11306.0498046875,11306.0498046875,11256.400390625,11269.7001953125,11303.75,11495.0498046875,11392.0,11392.0,11392.0,11411.099609375,11502.2001953125,11502.2001953125,11703.25,12001.150390625,12001.150390625,12001.150390625,12053.4501953125,12075.900390625,12219.2998046875,12142.599609375,12305.650390625,12305.650390625,12305.650390625,12341.150390625,12238.0,12271.349609375,12251.0498046875,12242.7998046875,12242.7998046875,12242.7998046875,12402.7001953125,12197.2001953125,12455.5498046875,12385.099609375,12288.900390625,12288.900390625,12288.900390625,12265.75,12265.75,12304.7001953125,12436.650390625,12394.150390625,12394.150390625,12394.150390625,12427.7001953125,12427.7001953125,12748.849609375,12722.4501953125,12684.650390625,12684.650390625,12684.650390625,12682.7998046875,12632.349609375,12687.9501953125,12697.75,12582.650390625,12582.650390625,12582.650390625,12609.900390625,12718.400390625,12616.2001953125,12583.349609375,12624.400390625,12624.400390625,12624.400390625,12608.5,12544.400390625,12509.4501953125,12534.25,12535.75,12535.75,12535.75,12698.849609375,12685.900390625,12726.650390625,12688.75,12580.849609375,12580.849609375,12580.849609375,12515.349609375,12415.150390625,12396.7998046875,12305.4501953125,12245.9501953125,12245.9501953125,12245.9501953125,12273.650390625,12301.650390625,12361.900390625,12284.5,12256.7998046875,12256.7998046875,12256.7998046875,12329.349609375,12303.7001953125,12351.7001953125,12036.4501953125,12024.400390625,12024.400390625,12024.400390625,11961.5,11808.7998046875,11838.349609375,11401.2001953125,11458.7001953125,11458.7001953125,11458.7001953125,11453.099609375,11623.650390625,11822.349609375,11819.599609375,12008.7998046875,12008.7998046875,12008.7998046875,12130.25,11970.900390625,11754.2998046875,11555.4501953125,11749.849609375,11749.849609375,11749.849609375,11625.599609375,11416.75,11231.75,11209.650390625,11173.349609375,11173.349609375,11173.349609375,11097.9501953125,11048.400390625,11048.400390625,11080.0498046875,11080.0498046875,11080.0498046875,11080.0498046875,11330.849609375,11361.150390625,11283.400390625,11105.099609375,11021.400390625,11021.400390625,11021.400390625,11002.099609375,10897.150390625,10888.75,11122.25,11236.0498046875,11236.0498046875,11236.0498046875,11334.75,11515.2998046875,11871.599609375,11891.9501953125,11891.9501953125,11891.9501953125,11891.9501953125,12288.25,12333.0,12333.0,12543.400390625,12470.0,12470.0,12470.0,12508.400390625,12402.150390625,12402.150390625,12552.849609375,12364.7001953125,12364.7001953125,12364.7001953125,12188.2998046875,12396.400390625,12514.7001953125,12541.7998046875,12580.400390625,12580.400390625,12580.400390625,12546.25,12516.099609375,12583.599609375,13022.25,13116.849609375,13116.849609375,13116.849609375,13150.2998046875,13038.0,12932.2001953125,12594.900390625,12582.5,12582.5,12582.5,12735.0498046875,12872.900390625,12773.400390625,12721.4501953125,12453.150390625,12453.150390625,12453.150390625,12323.599609375,12252.400390625,12196.75,12184.0498046875,12209.25,12209.25,12209.25,12017.900390625,11795.4501953125,11732.349609375,11656.900390625,11686.75,11686.75,11686.75,11735.25,11795.2001953125,11738.7001953125,11347.5498046875,11210.75,11210.75,11210.75,11134.2001953125,11107.7998046875,11033.75,11066.5498046875,11235.75,11235.75,11235.75,11597.4501953125,11590.5,11322.7998046875,11273.599609375,11381.2001953125,11381.2001953125,11381.2001953125,11176.650390625,11283.2998046875,11317.2001953125,11364.4501953125,11589.4501953125,11589.4501953125,11589.4501953125,11621.75,11209.75,10829.75,10837.75,10934.25,10934.25,10934.25,10948.400390625,11086.9501953125,10661.2998046875,10594.599609375,10352.9501953125,10352.9501953125,10352.9501953125,10310.650390625,10195.5,9863.0498046875,9867.599609375,9958.400390625,9958.400390625,9958.400390625,9818.5,9660.2998046875,9667.5498046875,9724.7998046875,9724.7998046875,9724.7998046875,9724.7998046875,9669.099609375,9582.5498046875,9912.349609375,9912.349609375,9420.150390625,9420.150390625,9420.150390625,9087.0,8860.150390625,9129.25,9005.25,9215.849609375,9215.849609375,9215.849609375,9294.0498046875,8842.5,8366.75,8759.849609375,8846.5498046875,8846.5498046875,8846.5498046875,9086.75,8625.400390625,8605.650390625,9253.4501953125,9568.5,9568.5,9568.5,9568.5,10084.0,9980.5,10070.9501953125,10037.2998046875,10037.2998046875,10037.2998046875,10175.0498046875,10223.9501953125,10241.9501953125,10984.5,10409.7998046875,10409.7998046875,10409.7998046875,10177.900390625,10046.7001953125,9919.7001953125,10051.2001953125,9883.9501953125,9883.9501953125,9883.9501953125,9587.75,9582.75,9582.75,9888.7001953125,10111.75,10111.75,10111.75,9877.4501953125,10090.599609375,9947.25,10199.5498046875,10307.900390625,10307.900390625,10307.900390625,10550.0,10339.099609375,10339.099609375,10274.349609375,10387.2998046875,10387.2998046875,10387.2998046875,10700.5498046875,10707.849609375,10732.349609375,10839.4501953125,10797.599609375,10797.599609375,10797.599609375,10752.349609375,10669.0,11211.5,11170.0498046875,11443.599609375,11443.599609375,11443.599609375,11443.599609375,11462.099609375,11269.9501953125,11024.75,10841.599609375,10841.599609375,10841.599609375,10674.5,10543.150390625,10412.0498046875,10660.650390625,10660.650390625,10660.650390625,10660.650390625,10962.25,11107.349609375,10905.5498046875,10657.849609375,10630.5498046875,10630.5498046875,10630.5498046875,10780.599609375,10893.2998046875,10827.75,10843.0,10941.599609375,10941.599609375,10941.599609375,11180.2998046875,11174.5,11107.75,11469.349609375,11579.5,11579.5,11579.5,12007.2998046875,11774.9501953125,11687.599609375,11622.7001953125,11349.849609375,11349.849609375,11349.849609375,11309.7001953125,11178.0,11117.4501953125,11040.150390625,11074.5498046875,11074.5498046875,11074.5498046875,11258.650390625,11287.2998046875,11287.2998046875,11317.4501953125,11409.25,11409.25,11409.25,11355.0498046875,11316.5498046875,11316.5498046875,11150.2001953125,11052.599609375,11052.599609375,11052.599609375,10996.9501953125,10892.150390625,10988.7998046875,10925.150390625,10788.2001953125,10788.2001953125,10788.2001953125,10814.650390625,10922.599609375,10986.099609375,11070.0,10893.75,10893.75,10893.75,10876.25,11036.400390625,11094.7998046875,11122.349609375,10972.099609375,10972.099609375,10972.099609375,10520.900390625,10333.400390625,10406.9501953125,10101.2001953125,10130.2998046875,10130.2998046875,10130.2998046875,10089.25,9944.0,10112.5,10107.7998046875,10180.849609375,10180.849609375,10180.849609375,10187.7998046875,10200.599609375,10307.599609375,10113.7998046875,10064.75,10064.75,10064.75,10064.75,10296.25,10520.2998046875,10419.099609375,10429.2998046875,10429.2998046875,10429.2998046875,10471.4501953125,10611.75,10659.2001953125,10659.2001953125,10688.9501953125,10688.9501953125,10688.9501953125,10613.0,10661.400390625,10899.400390625,11117.25,11332.599609375,11332.599609375,11332.599609375,11784.5498046875,11994.849609375,11887.75,12062.349609375,11867.150390625,11867.150390625,11867.150390625,11867.150390625,12052.349609375,12132.400390625,11989.9501953125,12043.400390625,12043.400390625,12043.400390625,12134.650390625,12394.2998046875,12469.150390625,12513.099609375,12633.2998046875,12633.2998046875,12633.2998046875,12660.0498046875,12509.9501953125,12542.349609375,12518.0,12430.849609375,12430.849609375,12430.849609375,12439.5498046875,12439.5498046875,12548.4501953125,12881.2001953125,12777.9501953125,12777.9501953125,12777.9501953125,12777.9501953125,12537.7001953125,12514.75,12514.7998046875,12514.7998046875,12514.7998046875,12514.7998046875,12838.849609375,12913.900390625,12957.900390625,12957.900390625,12968.7998046875,12968.7998046875,12968.7998046875,12927.75,12897.349609375,12738.599609375,12738.599609375,12818.849609375,12818.849609375,12818.849609375,12773.0498046875,12917.150390625,12877.75,12952.5,13017.900390625,13017.900390625,13017.900390625,13801.0,14105.650390625,14063.599609375,14159.099609375,14468.099609375,14468.099609375,14468.099609375,15032.0,15087.7001953125,14857.5,14938.25,14972.599609375,14972.599609375,14972.599609375,14969.25,14934.9501953125,15032.4501953125,15007.5,14709.2998046875,14709.2998046875,14709.2998046875,14770.0,15148.5,15171.150390625,15152.400390625,15320.75,15320.75,15320.75,15522.849609375,15337.849609375,15367.599609375,15293.400390625,15083.900390625,15083.900390625,15083.900390625,14858.900390625,14933.25,15128.4501953125,14976.150390625,14978.5,14978.5,14978.5,14940.349609375,15142.349609375,15221.150390625,15020.650390625,14946.849609375,14946.849609375,14946.849609375,15059.099609375,15261.150390625,15414.849609375,15431.5,15305.0,15305.0,15305.0,15349.2001953125,14889.349609375,14827.099609375,14621.9501953125,14406.650390625,14406.650390625,14406.650390625,14338.650390625,14601.849609375,15006.4501953125,15156.0,15089.2998046875,15089.2998046875,15089.2998046875,15355.349609375,15306.349609375,15398.7001953125,15410.2001953125,15272.4501953125,15272.4501953125,15272.4501953125,15162.0498046875,15162.0498046875,15184.650390625,15233.0,15096.099609375,15096.099609375,15096.099609375,15128.099609375,15105.900390625,14983.5,14956.849609375,14709.099609375,14709.099609375,14709.099609375,14807.0,14850.150390625,14843.7998046875,14940.2998046875,14940.2998046875,14940.2998046875,14940.2998046875,15068.349609375,15469.849609375,15448.900390625,15462.5,15696.2998046875,15696.2998046875,15696.2998046875,15625.4501953125,15503.400390625,15669.0498046875,15688.150390625,15688.150390625,15688.150390625,15688.150390625,15790.25,16047.2998046875,16048.099609375,15926.650390625,15891.75,15891.75,15891.75,16049.25,16085.7001953125,16053.900390625,16166.849609375,16145.7001953125,16145.7001953125,16145.7001953125,16106.0498046875,15814.650390625,15799.7001953125,15770.7998046875,16064.599609375,16064.599609375,16064.599609375,16021.150390625,15894.5498046875,15625.849609375,15213.349609375,15168.400390625,15168.400390625,15168.400390625,15420.7998046875,15336.7001953125,15270.9501953125,15270.9501953125,15270.9501953125,15270.9501953125,15270.9501953125,15270.9501953125,15157.7001953125,15130.349609375,15434.349609375,15439.349609375,15439.349609375,15439.349609375,15301.650390625,15560.25,15560.25,15477.0498046875,15603.4501953125,15603.4501953125,15603.4501953125,16157.0498046875,16269.0,16365.599609375,16365.599609375,16365.599609375,16365.599609375,16365.599609375,16470.849609375,16607.5,16596.25,16561.349609375,16783.650390625,16783.650390625,16783.650390625,16934.849609375,16934.849609375,17157.80078125,17157.80078125,17202.19921875,17202.19921875,17202.19921875,17203.0,17220.44921875,17453.44921875,17389.650390625,17410.5,17410.5,17410.5,17469.25,17601.150390625,17557.099609375,17546.69921875,17716.650390625,17716.650390625,17716.650390625,18119.650390625,17992.5,17890.849609375,17898.400390625,18082.400390625,18082.400390625,18082.400390625,18497.0,18301.0,18518.0,18575.349609375,18706.25,18706.25,18706.25,18486.55078125,18248.099609375,18183.099609375,18218.400390625,18236.55078125,18236.55078125,18236.55078125,18157.25,17776.349609375,17502.44921875,18109.349609375,18413.75,18413.75,18413.75,18424.0,18558.5,18493.30078125,18493.30078125,18448.599609375,18448.599609375,18448.599609375,18501.05078125,18428.099609375,18659.599609375,18659.599609375,18752.19921875,18752.19921875,18752.19921875,18987.69921875,18388.349609375,18211.5,18486.19921875,18479.650390625,18479.650390625,18479.650390625,18530.099609375,18642.80078125,18517.900390625,19061.349609375,19108.349609375,19108.349609375,19108.349609375,19299.099609375,19446.80078125,19803.150390625,19788.69921875,19967.349609375,19967.349609375,19967.349609375,19967.349609375,20098.25,20435.0,20338.94921875,19732.44921875,19732.44921875,19732.44921875,19564.5,19303.5,19113.349609375,18977.900390625,18977.900390625,18977.900390625,18977.900390625,18379.599609375,18226.900390625,18890.75,18739.849609375,19164.25,19164.25,19164.25,19127.150390625,19127.150390625,19171.900390625,18876.25,18882.25,18882.25,18882.25,18835.349609375,18737.75,18700.19921875,18489.599609375,18654.849609375,18654.849609375,18654.849609375,19750.849609375,19821.55078125,19555.099609375,19398.75,19398.75,19398.75,19398.75,19112.650390625,18915.099609375,18917.900390625,19095.30078125,18737.349609375,18737.349609375,18737.349609375,18688.0,18781.5,18937.25,18739.849609375,18541.5,18541.5,18541.5,18409.900390625,18289.75,18271.599609375,17729.099609375,17719.349609375,17719.349609375,17719.349609375,18089.44921875,18158.55078125,18158.55078125,18158.55078125,18158.55078125,18158.55078125,18158.55078125,18455.19921875,18351.80078125,18381.55078125,18401.44921875,18401.44921875,18401.44921875,18401.44921875,18401.44921875,18401.44921875,18615.849609375,18504.69921875,18504.69921875,18504.69921875,18504.69921875,17984.650390625,18036.900390625,17798.650390625,18143.75,18143.75,18143.75,18143.75,17738.900390625,17766.55078125,18202.400390625,18202.400390625,18202.400390625,18202.400390625,18202.400390625,18350.94921875,18396.80078125,17757.69921875,17246.55078125,17246.55078125,17246.55078125,17246.55078125,17841.75,17597.75,17650.349609375,17806.099609375,17806.099609375,17806.099609375,17806.099609375,18213.75,18296.75,18432.599609375,18398.650390625,18398.650390625,18398.650390625,18398.650390625,18302.5,18226.0,18236.25,18381.75,18461.44921875,18461.44921875,18461.44921875,18598.69921875,17932.30078125,17567.19921875,17469.650390625,17506.25,17506.25,17506.25,17358.44921875,17392.94921875,17485.900390625,17264.19921875,17174.69921875,17174.69921875,17174.69921875,17366.150390625,17293.44921875,17533.44921875,17630.650390625,17730.69921875,17730.69921875,17730.69921875,17950.599609375,18287.25,18304.94921875,18278.69921875,18199.25,18199.25,18199.25,17821.900390625,18086.80078125,18261.900390625,18513.30078125,18513.30078125,18513.30078125,18513.30078125,18417.349609375,18713.150390625,18402.849609375,18409.19921875,18534.55078125,18534.55078125,18534.55078125,18657.599609375,18734.400390625,18773.900390625,18867.5,19069.30078125,19069.30078125,19069.30078125,18852.69921875,18702.44921875,18613.599609375,18819.25,18613.55078125,18613.55078125,18613.55078125,18187.44921875,18174.19921875,18264.30078125,18367.19921875,18474.80078125,18474.80078125,18474.80078125,18782.650390625,18758.900390625,18868.650390625,18830.400390625,18849.150390625,18849.150390625,18849.150390625,18781.30078125,18555.5,18034.75,18080.5,18193.099609375,18193.099609375,18193.099609375,18580.650390625,18595.5,18636.099609375,18219.900390625,17842.099609375,17842.099609375,17842.099609375,16740.69921875,16670.55078125,16875.5,17061.849609375,17099.80078125,17099.80078125,17099.80078125,17028.900390625,16436.849609375,16218.650390625,16320.5498046875,15933.150390625,15933.150390625,15933.150390625,15762.2001953125,15819.5498046875,16462.44921875,16192.25,16518.80078125,16518.80078125,16518.80078125,16525.150390625,16681.55078125,16681.55078125,16681.55078125,17156.19921875,17156.19921875,17156.19921875,17178.849609375,16946.25,16759.0,16759.0,16759.0,16759.0,16759.0,17073.94921875,16648.30078125,17100.19921875,17100.19921875,17100.19921875,17100.19921875,17100.19921875,17362.69921875,17493.75,17500.349609375,17401.19921875,17498.44921875,17498.44921875,17498.44921875,17546.94921875,17473.69921875,17434.05078125,17582.849609375,17583.55078125,17583.55078125,17583.55078125,17817.94921875,17755.650390625,17565.349609375,17565.349609375,17852.55078125,17852.55078125,17852.55078125,17798.650390625,17738.44921875,17281.400390625,17178.849609375,17170.349609375,17170.349609375,17170.349609375,17208.94921875,17265.05078125,17175.650390625,16957.349609375,16957.349609375,16957.349609375,16957.349609375,16957.349609375,16957.349609375,16957.349609375,16957.349609375,16957.349609375,16957.349609375,16957.349609375,16957.349609375,16957.349609375,16957.349609375,16957.349609375,16957.349609375,16957.349609375,16957.349609375,16957.349609375,16957.349609375,16957.349609375,16957.349609375,16957.349609375,16957.349609375,16957.349609375,16957.349609375,16957.349609375,16957.349609375,16957.349609375,16957.349609375,16957.349609375,16957.349609375,16957.349609375,16957.349609375,16957.349609375,16957.349609375,16957.349609375,16957.349609375,16957.349609375,16957.349609375,16188.0498046875,16188.0498046875,16188.0498046875,16188.0498046875,16188.0498046875,16188.0498046875,16188.0498046875,16188.0498046875,16188.0498046875,16188.0498046875,16188.0498046875,16188.0498046875,16188.0498046875,16188.0498046875,16188.0498046875,16188.0498046875,16188.0498046875,16188.0498046875,16188.0498046875,16188.0498046875,16188.0498046875,16188.0498046875,16188.0498046875,16188.0498046875,16188.0498046875,16188.0498046875,16188.0498046875,16188.0498046875,16188.0498046875,16188.0498046875,15453.400390625,15453.400390625,15453.400390625,15453.400390625,15453.400390625,15453.400390625,15453.400390625,15453.400390625,15453.400390625,15453.400390625,15453.400390625,15495.099609375,15495.099609375,15495.099609375,15495.099609375,15495.099609375,15495.099609375,15495.099609375,15495.099609375,15495.099609375,15495.099609375,15495.099609375,15495.099609375,15495.099609375,15495.099609375,14960.099609375,14960.099609375,14960.099609375,14960.099609375,14960.099609375,14960.099609375,14960.099609375,14960.099609375,14960.099609375,14960.099609375,14960.099609375,14207.349609375,14207.349609375,14207.349609375,14207.349609375,14207.349609375,14207.349609375,13519.900390625,13519.900390625,13519.900390625,13519.900390625,13519.900390625,13519.900390625,13519.900390625,13519.900390625,13519.900390625,13519.900390625,13519.900390625,13519.900390625,13519.900390625,13519.900390625,13519.900390625,13519.900390625,13519.900390625,13519.900390625,13519.900390625,13519.900390625,13519.900390625,13519.900390625,13519.900390625,13519.900390625,13519.900390625,13519.900390625,13519.900390625,13519.900390625,13519.900390625,13519.900390625,13519.900390625,13519.900390625,13519.900390625,13519.900390625,13519.900390625,13519.900390625,13519.900390625,13519.900390625,13519.900390625,16046.5,16046.5,16046.5,16046.5,16046.5,16046.5,16046.5,16046.5,16046.5,16046.5,16046.5,16046.5,16046.5,16046.5,16046.5,16046.5,16046.5,16046.5,16046.5,16046.5,16046.5,16046.5,16046.5,16046.5,16046.5,16046.5,16046.5,16046.5,16046.5,16046.5,16046.5,16046.5,16046.5,16046.5,16046.5,16046.5,16046.5,16046.5,16046.5,16046.5,16046.5,16046.5,16046.5,16046.5,16046.5,16046.5,16046.5,16046.5,16046.5,16046.5,16046.5,16599.05078125,16599.05078125,16599.05078125,16599.05078125,16599.05078125,16599.05078125,16599.05078125,16599.05078125,16599.05078125,16599.05078125,16599.05078125,16599.05078125,17636.900390625,17636.900390625,17636.900390625,17636.900390625,17815.25,17815.25,17815.25,17815.25,17815.25,17815.25,17815.25,17815.25,17815.25,17815.25,17815.25,17815.25,17815.25,17815.25,17815.25,17815.25,17815.25,17815.25,17815.25,17815.25,17815.25,17815.25,17815.25,17815.25,17815.25,17815.25,17815.25,17815.25,17815.25,17815.25,17815.25,17815.25,17815.25,17815.25,17815.25,17815.25,17815.25,17815.25,17815.25,17815.25,17815.25,17815.25,17815.25,17815.25,17815.25,17815.25,17815.25,17815.25,18998.80078125,18998.80078125,18998.80078125,18998.80078125,18998.80078125,18998.80078125,18998.80078125,18998.80078125,18998.80078125,18998.80078125,18998.80078125,18998.80078125,18998.80078125,18998.80078125,18998.80078125,18998.80078125,18998.80078125,18998.80078125,18998.80078125,18998.80078125,18998.80078125,18998.80078125,18998.80078125,18998.80078125,18998.80078125,18998.80078125,18998.80078125,18998.80078125,18998.80078125,18998.80078125,18998.80078125,18998.80078125,18998.80078125,18998.80078125,18998.80078125,18998.80078125,18998.80078125,18998.80078125,18998.80078125,18998.80078125,18998.80078125,18998.80078125,18998.80078125,18998.80078125,18998.80078125,18998.80078125,18998.80078125,18998.80078125,18998.80078125,18998.80078125,18998.80078125,18998.80078125,18998.80078125,18998.80078125,18998.80078125,18998.80078125,18998.80078125,18998.80078125,18998.80078125,18998.80078125,18998.80078125,18998.80078125,18998.80078125,18998.80078125,18998.80078125,18998.80078125,18998.80078125,18998.80078125,18998.80078125,18998.80078125,18998.80078125,18998.80078125,18998.80078125,18998.80078125,18998.80078125,18998.80078125,18998.80078125,18998.80078125,18998.80078125,18998.80078125,18998.80078125,18998.80078125,18998.80078125,18998.80078125,18998.80078125,18998.80078125,18998.80078125,18998.80078125,18998.80078125,18998.80078125,18998.80078125,18998.80078125,18998.80078125,18998.80078125,18998.80078125,18998.80078125,18998.80078125,18998.80078125,18998.80078125,18998.80078125,18998.80078125,18998.80078125,18998.80078125,18998.80078125,18998.80078125,20200.25,20200.25,20200.25,20200.25,20200.25,20200.25,20200.25,20200.25,20200.25,20200.25,20200.25,20200.25,20200.25,20200.25,20200.25,20200.25,20200.25,20200.25,20200.25,20200.25,20200.25,20200.25,20200.25,20200.25,20200.25,20200.25,20200.25,20200.25,20200.25,20200.25,20200.25,20200.25,18364.05078125,18291.349609375,18322.900390625,18122.099609375,18268.30078125,18268.30078125,18268.30078125,18215.5,18009.80078125,18043.94921875,17839.75,17819.75,17819.75,17819.75,17819.75,17616.099609375,17829.150390625,17829.400390625,18016.80078125,18016.80078125,18016.80078125,18016.80078125,17830.94921875,17868.900390625,17977.80078125,18157.30078125,18157.30078125,18157.30078125,18256.150390625,18275.75,18515.25,18805.849609375,18781.25,18781.25,18781.25,18865.25,18981.849609375,19072.099609375,19046.099609375,18793.05078125,18793.05078125,18793.05078125,18722.849609375,18906.94921875,19114.150390625,19114.150390625,19534.900390625,19534.900390625,19534.900390625,19561.099609375,19435.44921875,19470.94921875,19915.19921875,20009.94921875,20009.94921875,20009.94921875,20298.05078125,20281.5,20070.150390625,20000.349609375,20167.099609375,20167.099609375,20167.099609375,20116.900390625,20158.849609375,20115.849609375,20088.19921875,20449.650390625,20449.650390625,20449.650390625,20472.400390625,20619.25,20829.650390625,20828.400390625,20828.400390625,20828.400390625,20828.400390625,20584.75,20560.599609375,20678.75,20516.900390625,20423.349609375,20423.349609375,20423.349609375,20532.19921875,20585.94921875,20534.25,20603.900390625,20648.80078125,20648.80078125,20648.80078125,20648.80078125,21059.69921875,21063.94921875,21194.25,21127.94921875,21127.94921875,21127.94921875,21084.80078125,20967.0,20753.900390625,20775.349609375,20929.150390625,20929.150390625,20929.150390625,20979.55078125,21145.0,21255.75,21331.900390625,21414.0,21414.0,21414.0,21408.599609375,21408.599609375,21499.75,21488.900390625,21397.0,21397.0,21397.0,21396.05078125,21483.55078125,21551.75,21627.0,21627.0,21627.0,21627.0,21576.75,21634.150390625,21470.19921875,21396.0,21386.19921875,21386.19921875,21386.19921875,21578.650390625,21900.30078125,21814.900390625,22169.80078125,22182.55078125,22182.55078125,22182.55078125,22182.55078125,22266.150390625,22240.05078125,22449.900390625,22514.0,22514.0,22514.0,22632.5,22664.349609375,22742.05078125,22764.650390625,22578.0,22578.0,22578.0,22730.349609375,22727.650390625,22830.099609375,22660.19921875,22628.44921875,22628.44921875,22628.44921875,22637.75,22492.19921875,22469.80078125,22570.349609375,23092.349609375,23092.349609375,23092.349609375,23141.150390625,23093.94921875,23248.5,23224.05078125,23308.400390625,23308.400390625,23308.400390625,23349.94921875,23381.69921875,23427.55078125,23514.19921875,23476.849609375,23476.849609375,23476.849609375,23441.80078125,23446.900390625,23399.400390625,23311.849609375,23391.0,23391.0,23391.0,23535.69921875,23651.19921875,23610.19921875,23694.150390625,23507.5,23507.5,23507.5,23507.5,23055.75,23113.650390625,23124.349609375,22996.400390625,22996.400390625,22996.400390625,23144.30078125,23163.69921875,23205.55078125,23369.5,23400.599609375,23400.599609375,23400.599609375,23289.900390625,23552.599609375,23523.650390625,23811.0,23755.94921875,23755.94921875,23755.94921875,23913.650390625,23942.099609375,24053.69921875,24170.650390625,24066.900390625,24066.900390625,24066.900390625,24234.650390625,24450.19921875,24484.900390625,24799.400390625,24651.05078125,24651.05078125,24651.05078125,24828.5,25000.900390625,24926.25,24619.599609375,24591.80078125,24591.80078125,24591.80078125,24844.44921875,24534.349609375,24328.099609375,23822.19921875,23868.30078125,23868.30078125,23868.30078125,24038.150390625,24038.150390625,23947.44921875,24121.55078125,23925.94921875,23925.94921875,23925.94921875,23882.25,23852.650390625,24074.150390625,24224.849609375,24224.849609375,24224.849609375,24224.849609375,24301.349609375,24103.30078125,24241.30078125,24207.69921875,24319.19921875,24319.19921875,24319.19921875,24319.19921875,24256.30078125,24151.099609375,24246.900390625,24273.0,24273.0,24273.0,24458.25,24653.599609375,24737.80078125,24815.5,24791.55078125,24791.55078125,24791.55078125,24941.75,24993.0,24938.30078125,24706.44921875,24340.0,24340.0,24340.0,24015.44921875,24017.400390625,23766.599609375,23611.099609375,24004.80078125,24004.80078125,24004.80078125,24004.80078125,24007.25,24058.650390625,24033.349609375,24074.349609375,24074.349609375,24074.349609375,24156.05078125,24273.650390625,24054.25,23978.400390625,24387.80078125,24387.80078125,24387.80078125,24516.55078125,24571.849609375,24270.05078125,23923.69921875,23923.69921875,23923.69921875,23923.69921875,23912.55078125,24032.650390625,24560.75,24864.599609375,24798.650390625,24798.650390625,24798.650390625,24808.55078125,24948.099609375,25171.75,25405.5,25394.94921875,25394.94921875,25394.94921875,25529.5,25248.94921875,25119.5,25166.150390625,25237.19921875,25237.19921875,25237.19921875,25337.25,25223.099609375,25166.349609375,25273.69921875,25679.55078125,25679.55078125,25679.55078125,25681.69921875,25726.5,25665.849609375,25620.94921875,25749.099609375,25749.099609375,25749.099609375,25673.5,25795.5,25746.80078125,25246.849609375,25152.650390625,25152.650390625,25152.650390625,24993.349609375,24921.30078125,24813.599609375,24875.349609375,25145.5,25145.5,25145.5,25318.69921875,25108.599609375,24938.55078125,24888.650390625,25411.25,25411.25,25411.25,24617.150390625,25619.599609375,25566.05078125,25508.900390625,25560.5,25560.5,25560.5,25560.5,25545.599609375,25429.55078125,25417.400390625,25450.25,25450.25,25450.25,25450.25,25232.80078125,25300.900390625,25310.30078125,25499.55078125,25499.55078125,25499.55078125,25643.80078125,25617.25,25527.5,25532.25,25557.599609375,25557.599609375,25557.599609375,25842.94921875,25931.69921875,25922.30078125,26423.75,26433.55078125,26433.55078125,26433.55078125,26841.19921875,27066.150390625,27219.44921875,27151.75,27151.75,27151.75,27151.75,27407.400390625,27242.05078125,27116.94921875,27046.349609375,26364.05078125,26364.05078125,26364.05078125,25917.55078125,25023.849609375,25558.05078125,25637.400390625,25371.0,25371.0,25371.0,25485.400390625,25485.400390625,25212.349609375,25295.150390625,25100.900390625,25100.900390625,25100.900390625,24824.55078125,24829.0,24796.349609375,24781.69921875,24962.849609375,24962.849609375,24962.849609375,25381.19921875,25356.400390625,24942.0,24854.400390625,24854.400390625,24854.400390625,24854.400390625,24682.0,24362.05078125,24096.75,24048.55078125,24259.69921875,24259.69921875,24259.69921875,24358.5,24597.55078125,24487.0,24732.0,24439.150390625,24439.150390625,24439.150390625,24186.94921875,24082.94921875,24208.650390625,24094.849609375,23605.599609375,23605.599609375,23605.599609375,23657.05078125,24266.400390625,24203.400390625,24203.400390625,24203.400390625,24203.400390625,24203.400390625,24062.94921875,24254.349609375,24087.80078125,24380.849609375,24626.400390625,24626.400390625,24626.400390625,24828.0,25120.19921875,24950.30078125,24969.400390625,25076.849609375,25076.849609375,25076.849609375,25067.349609375,25224.0,25058.75,25049.69921875,24839.30078125,24839.30078125,24839.30078125,24466.099609375,24955.0,24734.599609375,24753.400390625,25029.650390625,25029.650390625,25029.650390625,25464.80078125,25464.80078125,25499.349609375,25469.05078125,25537.69921875,25537.69921875,25537.69921875,25675.150390625,25954.599609375,25946.30078125,26057.19921875,26099.849609375,26099.849609375,26099.849609375,26338.05078125,26407.30078125,26102.150390625,26012.0,25839.0,25839.0,25839.0,25685.349609375,25701.349609375,25622.150390625,25658.400390625,26031.44921875,26031.44921875,26031.44921875,26273.900390625,26221.099609375,25980.849609375,26354.55078125,26658.55078125,26658.55078125,26658.55078125,26205.900390625,26069.55078125,26147.80078125,26483.900390625,26284.19921875,26284.19921875,26284.19921875,26421.94921875,26449.849609375,26598.19921875,26503.099609375,26344.94921875,26344.94921875,26344.94921875,26322.44921875,26224.75,26309.94921875,26454.94921875,26364.25,26364.25,26364.25,26573.0,26479.650390625,26336.5,26161.0,26291.349609375,26291.349609375,26291.349609375,26060.599609375,26142.0,26132.900390625,26415.19921875,26410.0,26410.0,26410.0,26611.55078125,26778.5,26774.599609375,26936.05078125,26902.30078125,26902.30078125,26902.30078125,26643.94921875,26653.650390625,26834.44921875,26730.099609375,26718.599609375,26718.599609375,26718.599609375,26671.349609375,26868.150390625,26939.349609375,27045.05078125,27455.0,27455.0,27455.0,27607.94921875,27651.30078125,27477.900390625,27327.94921875,27448.150390625,27448.150390625,27448.150390625,27766.05078125,27827.30078125,27858.75,28132.0,28087.650390625,28087.650390625,28087.650390625,27739.5,27854.900390625,27854.900390625,27779.5,27953.80078125,27953.80078125,27953.80078125,28171.650390625,28151.900390625,28151.900390625,27965.349609375,27782.80078125,27782.80078125,27782.80078125,27958.19921875,28152.69921875,28167.80078125,27961.75,27940.94921875,27940.94921875,27940.94921875,27777.400390625,27385.849609375,27136.05078125,27246.25,27232.80078125,27232.80078125,27232.80078125,27142.55078125,26772.25,26555.150390625,26555.150390625,26989.80078125,26989.80078125,26989.80078125,26743.400390625,26407.44921875,26235.69921875,26235.69921875,25053.349609375,25053.349609375,25053.349609375,24904.5,24678.25,25197.349609375,25007.05078125,24919.25,24919.25,24919.25,24707.650390625,24707.650390625,25026.349609375,24501.05078125,24250.650390625,24250.650390625,24250.650390625,24240.05078125,24464.900390625,24559.900390625,24493.69921875,24975.44921875,24975.44921875,24975.44921875,25147.80078125,25351.80078125,25101.94921875,25101.94921875,24922.650390625,24922.650390625,24922.650390625,25021.349609375,24784.900390625,24839.650390625,24696.849609375,24353.099609375,24353.099609375,24353.099609375,24404.55078125,24686.849609375,24528.349609375,25129.44921875,25499.150390625,25499.150390625,25499.150390625,25534.400390625,25558.349609375,25698.099609375,25698.099609375,25598.75,25598.75,25598.75,25495.099609375,25384.55078125,25806.69921875,25728.0,26122.55078125,26122.55078125,26122.55078125,26204.349609375,26041.80078125,26060.55078125,25947.849609375,25947.849609375,25947.849609375,25947.849609375,26025.05078125,26268.650390625,26419.650390625,26577.150390625,26764.900390625,26764.900390625,26764.900390625,26791.650390625,26644.75,26443.650390625,26149.44921875,26252.099609375,26252.099609375,26252.099609375,26072.0,25598.94921875,26214.75,26723.650390625,26732.69921875,26732.69921875,26732.69921875,26908.599609375,26840.80078125,27214.30078125,27084.5,26823.099609375,26823.099609375,26823.099609375,26676.94921875,26676.94921875,26408.150390625,26845.099609375,27039.599609375,27039.599609375,27039.599609375,27105.0,27105.0,27077.599609375,26923.75,26926.099609375,26926.099609375,26926.099609375,27279.55078125,27161.94921875,27409.5,27488.19921875,27382.44921875,27382.44921875,27382.44921875,27182.19921875,27317.099609375,27403.05078125,27335.150390625,27410.650390625,27410.650390625,27410.650390625,27388.5,27385.400390625,27189.599609375,27142.80078125,27045.19921875,27045.19921875,27045.19921875,26587.94921875,26441.55078125,26693.69921875,26891.05078125,26930.44921875,26930.44921875,26930.44921875,26825.55078125,27153.19921875,27294.099609375,27322.94921875,27221.25,27221.25,27221.25,27151.55078125,26988.900390625,26988.900390625,26818.05078125,26635.25,26635.25,26635.25,26617.69921875,26625.599609375,26732.650390625,26973.0,26847.80078125,26847.80078125,26847.80078125,26932.650390625,26736.599609375,26719.400390625,26762.55078125,26928.900390625,26928.900390625,26928.900390625,26928.900390625,26958.099609375,27492.05078125,27560.0,27645.400390625,27645.400390625,27645.400390625,27791.25,28142.25,28353.650390625,28819.75,28990.849609375,28990.849609375,28990.849609375,29361.650390625,29547.69921875,29633.5,29633.5,29508.69921875,29508.69921875,29508.69921875,29156.25,29278.5,29790.25,29969.099609375,29969.099609375,29969.099609375,29969.099609375,30218.349609375,30155.849609375,30036.25,29809.900390625,29850.0,29850.0,29850.0,29716.599609375,29703.55078125,29768.099609375,29640.25,29707.0,29707.0,29707.0,29919.099609375,30228.19921875,30228.19921875,30142.19921875,30142.19921875,30142.19921875,30142.19921875,29647.55078125,29455.44921875,29435.05078125,29511.94921875,29563.150390625,29563.150390625,29563.150390625,29563.150390625,29550.05078125,29550.05078125,29638.80078125,29795.099609375,29795.099609375,29795.099609375,29528.599609375,29244.25,28951.349609375,28784.650390625,28900.099609375,28900.099609375,28900.099609375,28621.099609375,28582.599609375,28555.150390625,28525.44921875,28856.0,28856.0,28856.0,30111.19921875,30265.099609375,30268.599609375,30292.349609375,30564.400390625,30564.400390625,30564.400390625,31142.5,31328.599609375,31257.900390625,31236.099609375,30623.05078125,30623.05078125,30623.05078125,31284.69921875,31512.94921875,31512.94921875,30800.80078125,30627.05078125,30627.05078125,30627.05078125,30861.30078125,30973.349609375,30911.44921875,30638.25,30508.94921875,30508.94921875,30508.94921875,30249.400390625,30222.849609375,30242.0,30220.69921875,30541.5,30541.5,30541.5,30528.0,30451.400390625,30766.650390625,31158.80078125,31060.599609375,31060.599609375,31060.599609375,31247.44921875,31105.099609375,31242.099609375,31428.05078125,31323.25,31323.25,31323.25,30538.55078125,30348.849609375,30431.25,30566.099609375,30550.75,30550.75,30550.75,30334.650390625,30430.150390625,30570.05078125,30379.0,29705.900390625,29705.900390625,29705.900390625,29194.099609375,29078.80078125,28872.30078125,28931.05078125,28999.55078125,28999.55078125,28999.55078125,29106.75,28739.5,28537.0,28047.349609375,27937.55078125,27937.55078125,27937.55078125,27389.5,27518.5,27641.849609375,27531.94921875,28254.69921875,28254.69921875,28254.69921875,28254.69921875,27683.5,27729.400390625,27729.400390625,27720.94921875,27720.94921875,27720.94921875,28146.5,27864.599609375,27666.19921875,26975.55078125,26560.599609375,26560.599609375,26560.599609375,26859.349609375,27960.80078125,27634.650390625,27239.94921875,27121.94921875,27121.94921875,27121.94921875,27121.94921875,26742.599609375,26641.349609375,26815.400390625,26950.55078125,26950.55078125,26950.55078125,26993.900390625,26993.900390625,27551.650390625,27764.69921875,27573.44921875,27573.44921875,27573.44921875,27798.849609375,27047.94921875,27088.80078125,26643.0,26727.55078125,26727.55078125,26727.55078125,29776.30078125,29889.55078125,29470.099609375,29627.0,29711.349609375,29711.349609375,29711.349609375,28943.44921875,28077.349609375,28077.349609375,28240.80078125,27653.69921875,27653.69921875,27653.69921875,27568.349609375,27568.349609375,27702.05078125,27914.150390625,27736.80078125,27736.80078125,27736.80078125,28043.25,28186.25,28305.400390625,28487.94921875,28864.099609375,28864.099609375,28864.099609375,28864.099609375,29231.19921875,29214.05078125,28994.19921875,28923.80078125,28923.80078125,28923.80078125,28923.80078125,29385.44921875,29753.0,29987.150390625,30028.900390625,30028.900390625,30028.900390625,30227.25,30091.349609375,30013.650390625,30462.55078125,30504.05078125,30504.05078125,30504.05078125,30625.80078125,30625.80078125,30488.099609375,30338.349609375,30860.69921875,30860.69921875,30860.69921875,30901.849609375,30974.30078125,31205.55078125,31243.0,31055.19921875,31055.19921875,31055.19921875,31049.75,31465.849609375,31734.5,31905.900390625,31770.80078125,31770.80078125,31770.80078125,31720.599609375,31502.94921875,31444.0,31628.30078125,31250.650390625,31250.650390625,31250.650390625,31122.05078125,31126.0,30996.400390625,31352.099609375,31770.5,31770.5,31770.5,31897.75,31987.349609375,32017.30078125,32085.05078125,32199.44921875,32199.44921875,32199.44921875,32196.849609375,32246.05078125,32246.05078125,31963.25,32056.25,32056.25,32056.25,32248.5,32108.75,32108.75,32121.400390625,31960.400390625,31960.400390625,31960.400390625,31170.55078125,31200.900390625,30899.55078125,31667.150390625,31953.400390625,31953.400390625,31953.400390625,32074.05078125,31989.19921875,31670.349609375,31692.400390625,31445.5,31445.5,31445.5,31050.94921875,30858.599609375,30614.0,30621.349609375,30879.05078125,30879.05078125,30879.05078125,30808.55078125,30656.349609375,30835.80078125,30521.30078125,30691.80078125,30691.80078125,30691.80078125,29612.55078125,30182.44921875,30630.849609375,30917.25,31111.05078125,31111.05078125,31111.05078125,30957.19921875,31225.900390625,31398.150390625,31180.599609375,30776.099609375,30776.099609375,30776.099609375,30630.5,30252.44921875,30606.150390625,30702.44921875,30702.44921875,30702.44921875,30702.44921875,30428.0,30329.94921875,30131.75,29914.150390625,29051.5,29051.5,29051.5,28571.69921875,28749.55078125,28125.150390625,28535.599609375,27162.30078125,27162.30078125,27162.30078125,25923.400390625,25923.400390625,26234.099609375,23536.349609375,21351.69921875,21351.69921875,21351.69921875,23008.25,22002.0,20267.94921875,18675.650390625,19265.0,19265.0,19265.0,16791.05078125,16116.25,16635.5,18364.5,19580.099609375,19580.099609375,19580.099609375,18668.69921875,18792.400390625,18042.25,18042.25,17143.19921875,17143.19921875,17143.19921875,17143.19921875,17953.75,18482.900390625,19166.900390625,19166.900390625,19166.900390625,19166.900390625,19294.0,19294.0,18776.75,18703.44921875,19729.30078125,19729.30078125,19729.30078125,20444.25,19247.94921875,19051.94921875,19584.400390625,19515.400390625,19515.400390625,19515.400390625,19847.650390625,20260.80078125,20393.650390625,21353.650390625,21353.650390625,21353.650390625,21353.650390625,19643.599609375,19212.349609375,18941.0,19332.150390625,19285.05078125,19285.05078125,19285.05078125,18900.900390625,18287.0,19429.900390625,19024.75,18683.650390625,18683.650390625,18683.650390625,17514.19921875,17390.650390625,17407.69921875,17658.55078125,17105.0,17105.0,17105.0,17105.0,17311.25,17560.349609375,18818.94921875,18729.900390625,18729.900390625,18729.900390625,19632.900390625,19852.55078125,20822.0,20316.19921875,20425.05078125,20425.05078125,20425.05078125,20911.25,20629.69921875,20671.55078125,20458.30078125,19526.099609375,19526.099609375,19526.099609375,19740.19921875,19507.05078125,19978.150390625,20030.349609375,20878.25,20878.25,20878.25,21425.55078125,21647.80078125,21336.349609375,20926.44921875,21320.099609375,21320.099609375,21320.099609375,21026.44921875,21212.0,21281.849609375,21890.5,21768.0,21768.0,21768.0,22171.05078125,22040.349609375,22499.5,22673.400390625,22320.05078125,22320.05078125,22320.05078125,21981.650390625,21222.44921875,21230.55078125,21027.849609375,21550.80078125,21550.80078125,21550.80078125,22187.80078125,22597.94921875,22658.19921875,22734.900390625,22417.19921875,22417.19921875,22417.19921875,21801.349609375,21611.400390625,21906.349609375,21580.150390625,21375.0,21375.0,21375.0,21031.44921875,21057.75,21448.400390625,21370.30078125,21451.30078125,21451.30078125,21451.30078125,21795.099609375,22039.849609375,21990.19921875,22139.599609375,21459.099609375,21459.099609375,21459.099609375,21403.150390625,21629.400390625,22234.25,21886.69921875,22165.05078125,22165.05078125,22165.05078125,22410.05078125,22857.900390625,23093.150390625,23464.150390625,23599.19921875,23599.19921875,23599.19921875,23385.30078125,23473.150390625,23482.55078125,23451.650390625,22876.900390625,22876.900390625,22876.900390625,22716.25,22641.400390625,22080.400390625,22225.25,22205.94921875,22205.94921875,22205.94921875,22028.150390625,22062.349609375,22216.5,22267.05078125,21784.900390625,21784.900390625,21784.900390625,21274.30078125,20958.44921875,20821.0,20404.900390625,20430.69921875,20430.69921875,20430.69921875,21055.099609375,21280.599609375,21128.5,21664.150390625,21664.150390625,21664.150390625,21664.150390625,22247.25,22521.05078125,22607.80078125,23063.599609375,23132.44921875,23132.44921875,23132.44921875,23552.599609375,23431.5,23149.44921875,22970.94921875,23148.94921875,23148.94921875,23148.94921875,23754.849609375,24039.849609375,24099.849609375,24250.19921875,24360.849609375,24360.849609375,24360.849609375,23867.75,23924.19921875,24057.94921875,23822.05078125,23612.69921875,23612.69921875,23612.69921875,24120.599609375,25085.69921875,25142.0,26000.05078125,26135.30078125,26135.30078125,26135.30078125,27068.94921875,27916.900390625,28211.099609375,28066.05078125,27703.30078125,27703.30078125,27703.30078125,27703.30078125,28722.900390625,29056.75,28819.55078125,28580.900390625,28580.900390625,28580.900390625,28852.900390625,29206.75,29132.30078125,28923.099609375,29368.69921875,29368.69921875,29368.69921875,29368.69921875,29511.0,29149.900390625,29379.400390625,29473.5,29473.5,29473.5,29950.599609375,30025.19921875,30326.69921875,30202.099609375,30328.44921875,30328.44921875,30328.44921875,30624.25,30345.75,30587.099609375,30643.900390625,30374.5,30374.5,30374.5,29201.19921875,28976.75,29446.0,30007.80078125,30007.80078125,30007.80078125,30007.80078125,30538.150390625,31002.599609375,31007.150390625,31088.099609375,31088.099609375,31088.099609375,31088.099609375,30893.650390625,30935.55078125,31548.150390625,31911.5,32002.94921875,32002.94921875,32002.94921875,31836.94921875,31725.849609375,32148.25,32442.349609375,32044.349609375,32044.349609375,32044.349609375,31650.900390625,31863.94921875,32322.900390625,31985.55078125,31119.900390625,31119.900390625,31119.900390625,31013.650390625,31013.650390625,30165.650390625,29687.69921875,30254.55078125,30254.55078125,30254.55078125,30906.44921875,33583.1484375,34011.8984375,34238.8984375,35545.0,35545.0,35545.0,35872.25,35636.8515625,35428.1484375,35573.30078125,35700.25,35700.25,35700.25,36405.1015625,36762.75,36764.25,36367.44921875,35584.6015625,35584.6015625,35584.6015625,35097.55078125,34976.0,35060.6484375,36494.0,34658.69921875,34658.69921875,34658.69921875,34983.75,35002.44921875,35570.55078125,35519.25,34893.25,34893.25,34893.25,35090.75,35544.94921875,35764.3515625,35764.3515625,35188.05078125,35188.05078125,35188.05078125,34430.6484375,34744.6015625,34126.8515625,33597.55078125,33361.0,33361.0,33361.0,33389.1484375,33622.0,33203.3984375,32415.25,33166.1015625,33166.1015625,33166.1015625,33166.1015625,33564.55078125,33151.80078125,33208.75,33208.75,33208.75,33208.75,32330.150390625,32338.400390625,32141.55078125,32704.75,32329.94921875,32329.94921875,32329.94921875,30520.30078125,30722.849609375,30722.849609375,31406.400390625,31911.900390625,31911.900390625,31911.900390625,30405.650390625,30891.0,30891.0,30555.25,31377.150390625,31377.150390625,31377.150390625,32144.80078125,32152.94921875,32840.30078125,33304.6015625,32663.400390625,32663.400390625,32663.400390625,31906.55078125,32191.400390625,32068.55078125,32564.0,32771.3515625,32771.3515625,32771.3515625,33028.1484375,32611.69921875,32352.30078125,32352.30078125,32115.5,32115.5,32115.5,32318.69921875,33730.44921875,33608.25,33273.94921875,33559.75,33559.75,33559.75,34528.30078125,34410.3984375,34462.5,34529.69921875,34977.19921875,34977.19921875,34977.19921875,34930.1015625,35241.19921875,35070.30078125,35413.0,35176.1484375,35176.1484375,35176.1484375,35338.55078125,34962.6484375,34641.19921875,34734.3984375,34891.30078125,34891.30078125,34891.30078125,34374.3515625,34917.8984375,34916.19921875,34458.1015625,33908.94921875,33908.94921875,33908.94921875,33937.5,34664.3515625,34525.44921875,34592.3515625,34915.8515625,34915.8515625,34915.8515625,35236.44921875,34913.69921875,34730.44921875,34650.94921875,34632.6015625,34632.6015625,34632.6015625,34926.3984375,35165.55078125,35427.6484375,35134.6484375,34859.8984375,34859.8984375,34859.8984375,35060.3515625,35340.69921875,35434.75,35625.69921875,35674.75,35674.75,35674.75,34899.19921875,34357.3515625,34357.3515625,34557.8515625,34404.75,34404.75,34404.75,34669.55078125,34713.55078125,34115.19921875,34495.19921875,34445.3984375,34445.3984375,34445.3984375,34588.25,34649.19921875,35313.0,35661.30078125,35700.44921875,35700.44921875,35700.44921875,35612.30078125,35890.5,35531.3515625,35702.8984375,35937.1015625,35937.1015625,35937.1015625,36032.3984375,35611.8515625,35432.0,35432.0,34926.5,34926.5,34926.5,34817.5,35070.0,35499.6484375,35411.80078125,35359.25,35359.25,35359.25,35721.8984375,36216.19921875,36487.1484375,36469.0,36563.19921875,36563.19921875,36563.19921875,36554.44921875,36151.94921875,36393.6015625,36566.69921875,36566.69921875,36566.69921875,36566.69921875,36327.05078125,36529.6484375,36496.05078125,36907.75,37396.05078125,37396.05078125,37396.05078125,37068.44921875,36525.94921875,36885.6015625,37216.1484375,37680.0,37680.0,37680.0,37968.19921875,37315.19921875,37371.05078125,37354.25,36876.3515625,36876.3515625,36876.3515625,37355.6015625,37364.75,37452.0,37650.25,37674.3515625,37674.3515625,37674.3515625,37744.6484375,38144.6015625,38502.69921875,38673.0,38673.0,38673.0,38673.0,39569.55078125,39394.25,39292.80078125,39428.1015625,40149.55078125,40149.55078125,40149.55078125,40508.1015625,40829.1484375,40750.0,39350.19921875,38426.6484375,38426.6484375,38426.6484375,39120.6484375,39590.69921875,39304.8515625,39514.1484375,39514.1484375,39514.1484375,39514.1484375,38932.1484375,39223.3984375,38873.80078125,38346.05078125,38467.80078125,38467.80078125,38467.80078125,38606.6015625,38211.1015625,37981.19921875,37748.44921875,37748.44921875,37748.44921875,37748.44921875,36655.3984375,36647.55078125,37238.05078125,37118.3984375,35904.1015625,35904.1015625,35904.1015625,35327.8984375,35526.3515625,35805.0,36166.69921875,36062.8515625,36062.8515625,36062.8515625,35696.75,36013.94921875,36905.1484375,36884.44921875,36824.3984375,36824.3984375,36824.3984375,36861.8984375,36545.3984375,36743.19921875,36385.75,35535.05078125,35535.05078125,35535.05078125,34018.44921875,34389.94921875,34687.6015625,35046.25,34583.3984375,34583.3984375,34583.3984375,34233.0,35037.8984375,34890.80078125,34751.25,35113.75,35113.75,35113.75,35526.6015625,36374.3984375,36756.3515625,37058.44921875,37427.80078125,37427.80078125,37427.80078125,37929.3515625,38031.75,38604.6015625,38376.1484375,38007.75,38007.75,38007.75,38138.25,38095.3984375,37769.25,37591.8515625,37224.25,37224.25,37224.25,36375.3515625,36415.6015625,36415.6015625,37012.25,37581.5,37581.5,37581.5,37647.8515625,37690.6015625,38752.6484375,38861.1484375,38562.6015625,38562.6015625,38562.6015625,37802.69921875,37319.05078125,38192.0,38520.0,38396.3984375,38396.3984375,38396.3984375,36828.05078125,36651.8515625,37762.80078125,37425.6015625,37304.44921875,37304.44921875,37304.44921875,37156.80078125,36818.1015625,37318.0,34991.3515625,35768.19921875,35768.19921875,35768.19921875,35611.8984375,35611.8984375,34897.44921875,34721.1484375,34094.1015625,34094.1015625,34094.1015625,32376.5,32155.349609375,32948.8984375,34218.05078125,34094.30078125,34094.30078125,34094.30078125,34625.05078125,34706.05078125,35461.55078125,36261.6484375,36261.6484375,36261.6484375,36261.6484375,35900.19921875,35384.75,36064.75,35421.69921875,35203.8515625,35203.8515625,35203.8515625,35016.30078125,35506.55078125,36070.55078125,36278.1484375,36242.3515625,36242.3515625,36242.3515625,37665.55078125,37935.94921875,37513.8515625,37346.80078125,37405.19921875,37405.19921875,37405.19921875,37524.44921875,37264.44921875,37408.19921875,37408.19921875,37408.19921875,37408.19921875,37408.19921875,36441.3515625,35926.30078125,36114.05078125,36395.69921875,35991.5,35991.5,35991.5,35511.3984375,36265.8984375,35747.1484375,35951.1015625,35978.94921875,35978.94921875,35978.94921875,35618.19921875,35618.19921875,35127.8515625,35133.80078125,34353.19921875,34353.19921875,34353.19921875,33927.19921875,34176.80078125,34143.19921875,33297.6484375,33007.8984375,33007.8984375,33007.8984375,33001.75,33680.6015625,34134.69921875,33180.6015625,33658.05078125,33658.05078125,33658.05078125,34117.3515625,34115.80078125,34285.80078125,34424.75,35291.94921875,35291.94921875,35291.94921875,35748.44921875,35288.94921875,35285.44921875,35385.0,35175.1015625,35175.1015625,35175.1015625,35072.30078125,34834.3984375,34831.75,34659.1015625,34346.6484375,34346.6484375,34346.6484375,33210.3515625,33123.8984375,33249.55078125,32537.94921875,32290.55078125,32290.55078125,32290.55078125,32426.400390625,32797.55078125,32758.150390625,32652.150390625,33390.8515625,33390.8515625,33390.8515625,33735.5,33503.30078125,33185.25,33179.6015625,33080.44921875,33080.44921875,33080.44921875,33515.6015625,33757.0,33876.1484375,34553.1015625,34977.75,34977.75,34977.75,35006.55078125,35047.5,34757.6015625,34558.44921875,34463.8984375,34463.8984375,34463.8984375,34804.3984375,35110.5,35876.55078125,35887.3515625,36286.3515625,36286.3515625,36286.3515625,36464.6484375,36334.1015625,36248.6015625,37028.5,37221.1484375,37221.1484375,37221.1484375,37407.19921875,37632.30078125,37692.94921875,37249.5,37779.8984375,37779.8984375,37779.8984375,37681.44921875,37681.44921875,38155.30078125,38648.8984375,38739.94921875,38739.94921875,38739.94921875,38739.94921875,39119.8984375,39202.80078125,39291.1484375,38848.3984375,38848.3984375,38848.3984375,38247.25,37950.8515625,38552.19921875,38803.69921875,38846.80078125,38846.80078125,38846.80078125,37943.8515625,38472.69921875,38472.69921875,38803.30078125,39200.44921875,39200.44921875,39200.44921875,39407.3984375,39564.30078125,39258.25,39706.3984375,40280.30078125,40280.30078125,40280.30078125,40377.8984375,40693.94921875,40288.8984375,41153.5,40502.05078125,40502.05078125,40502.05078125,40509.8984375,41207.30078125,40889.1484375,40360.19921875,39412.69921875,39412.69921875,39412.69921875,38492.19921875,38184.8984375,37626.19921875,37536.6484375,37386.3515625,37386.3515625,37386.3515625,37963.25,38596.8984375,38596.8984375,39232.8984375,38807.5,38807.5,38807.5,38518.30078125,38622.75,38606.3984375,38437.94921875,39196.30078125,39196.30078125,39196.30078125,39146.69921875,40139.8515625,40195.19921875,39848.8515625,40355.44921875,40355.44921875,40355.44921875,41201.1484375,41021.44921875,41021.44921875,41178.6484375,40839.30078125,40839.30078125,40839.30078125,41106.1015625,41188.55078125,41060.44921875,40819.1484375,41051.1484375,41051.1484375,41051.1484375,41337.05078125,41337.05078125,41667.8984375,41318.6015625,41918.1015625,41918.1015625,41918.1015625,41965.44921875,42079.55078125,42296.30078125,42366.55078125,42223.69921875,42223.69921875,42223.69921875,42202.55078125,42347.1484375,42556.3984375,42769.6484375,42864.94921875,42864.94921875,42864.94921875,42740.0,42959.3984375,42880.05078125,43101.8515625,42937.80078125,42937.80078125,42937.80078125,42985.0,43076.3984375,42948.44921875,43095.30078125,43361.69921875,43361.69921875,43361.69921875,43378.80078125,43767.75,43987.94921875,43379.1015625,43080.55078125,43080.55078125,43080.55078125,43110.30078125,42955.3984375,42363.80078125,42231.3515625,41597.6484375,41597.6484375,41597.6484375,41597.6484375,42394.1484375,42694.8515625,42489.80078125,42833.1015625,42833.1015625,42833.1015625,42961.75,43148.44921875,42858.6484375,42298.6015625,41877.0,41877.0,41877.0,42186.55078125,41835.75,41729.0,41742.94921875,41885.6015625,41885.6015625,41885.6015625,42066.55078125,41861.1015625,42119.6484375,42234.8984375,42366.1484375,42366.1484375,42366.1484375,42727.69921875,42615.6484375,41540.30078125,41540.30078125,40148.80078125,40148.80078125,40148.80078125,39419.80078125,40167.69921875,39490.5,39761.44921875,40609.75,40609.75,40609.75,41261.19921875,41095.1015625,41403.05078125,41252.94921875,41424.8984375,41424.8984375,41424.8984375,41157.8984375,41195.75,41455.6015625,41521.94921875,40882.69921875,40882.69921875,40882.69921875,40580.1015625,40508.25,39899.0,39600.25,39818.8984375,39818.8984375,39818.8984375,39745.3984375,40073.0,40341.94921875,40312.8984375,40605.3515625,40605.3515625,40605.3515625,41259.1484375,41259.1484375,41100.3515625,41208.1015625,40341.69921875,40341.69921875,40341.69921875,39454.6015625,39132.6015625,38934.6484375,38613.1484375,38926.80078125,38926.80078125,38926.80078125,38941.8984375,39366.30078125,39837.80078125,39552.5,39294.8984375,39294.8984375,39294.8984375,39273.75,39326.1015625,39609.55078125,39609.55078125,40180.19921875],\"open\":[9819.5,10103.349609375,10164.0,10288.0498046875,10288.0498046875,10288.0498046875,9983.099609375,10463.849609375,10355.0498046875,10442.2998046875,10295.7001953125,10295.7001953125,10295.7001953125,10614.849609375,10680.0,10390.4501953125,10404.7001953125,10168.25,10168.25,10168.25,9671.400390625,8663.7001953125,9021.5,9369.099609375,9170.349609375,9170.349609375,9170.349609375,9748.349609375,9933.2001953125,9635.349609375,9442.2001953125,9320.25,9320.25,9320.25,9444.400390625,9577.2998046875,9169.5498046875,9225.2998046875,8976.599609375,8976.599609375,8976.599609375,8841.2001953125,8586.0,8598.25,8911.599609375,9059.2001953125,9059.2001953125,9059.2001953125,9411.25,9438.2001953125,9215.4501953125,9143.7998046875,8922.150390625,8922.150390625,8922.150390625,8715.7998046875,8704.349609375,8808.650390625,8683.849609375,8535.849609375,8535.849609375,8535.849609375,8460.599609375,8032.9501953125,7696.7998046875,7696.7998046875,7474.2998046875,7474.2998046875,7474.2998046875,7163.5,7186.10009765625,7533.5,7226.7998046875,6914.14990234375,6914.14990234375,6914.14990234375,6956.0,6493.35009765625,6718.2998046875,6718.2998046875,6718.2998046875,6718.2998046875,6718.2998046875,6461.64990234375,6804.25,7151.64990234375,7075.89990234375,7022.0498046875,7022.0498046875,7022.0498046875,6970.5498046875,6706.7001953125,6690.7998046875,6769.89990234375,6754.0498046875,6754.0498046875,6754.0498046875,6485.39990234375,6843.0,6839.25,7090.60009765625,6935.7998046875,6935.7998046875,6935.7998046875,6935.7998046875,6773.2998046875,6979.85009765625,7045.39990234375,7045.39990234375,7045.39990234375,7045.39990234375,7174.4501953125,7402.7998046875,7518.7998046875,7408.35009765625,7409.5,7409.5,7409.5,7643.35009765625,7580.0498046875,7765.25,7765.25,7774.10009765625,7774.10009765625,7774.10009765625,7879.64990234375,7842.89990234375,7787.85009765625,7671.85009765625,7530.89990234375,7530.89990234375,7530.89990234375,7274.7001953125,7384.7998046875,7288.25,7325.14990234375,7559.14990234375,7559.14990234375,7559.14990234375,7559.14990234375,7616.85009765625,7425.35009765625,7283.60009765625,7170.39990234375,7170.39990234375,7170.39990234375,6899.89990234375,6832.4501953125,6595.0498046875,6826.5,6608.60009765625,6608.60009765625,6608.60009765625,6577.2998046875,6265.64990234375,6311.25,6151.35009765625,6205.5498046875,6205.5498046875,6205.5498046875,5960.89990234375,5910.2998046875,5857.5498046875,5796.64990234375,5976.5,5976.5,5976.5,6030.60009765625,6127.25,6441.5,6159.35009765625,6003.2998046875,6003.2998046875,6003.2998046875,5686.5498046875,5644.14990234375,5382.2998046875,5536.14990234375,5343.89990234375,5343.89990234375,5343.89990234375,5214.10009765625,5042.10009765625,4725.0,4993.5,4834.0,4834.0,4834.0,5009.10009765625,4951.5498046875,5214.60009765625,5251.4501953125,5361.39990234375,5361.39990234375,5361.39990234375,5179.9501953125,5124.85009765625,4837.60009765625,4906.35009765625,5109.2998046875,5109.2998046875,5109.2998046875,5448.2001953125,5594.7998046875,6033.0498046875,6445.2998046875,6044.60009765625,6044.60009765625,6044.60009765625,5900.2998046875,5767.0,5522.75,5762.39990234375,5655.35009765625,5655.35009765625,5655.35009765625,5932.4501953125,5888.85009765625,6544.75,6281.5,6295.7001953125,6295.7001953125,6295.7001953125,6574.5,6650.2001953125,6403.85009765625,6305.10009765625,6305.10009765625,6305.10009765625,6305.10009765625,5999.14990234375,5928.9501953125,6039.89990234375,6001.64990234375,5671.60009765625,5671.60009765625,5671.60009765625,5897.2001953125,5801.10009765625,5978.89990234375,5817.7998046875,5828.0,5828.0,5828.0,6070.89990234375,6139.4501953125,6139.4501953125,6439.85009765625,6318.25,6318.25,6318.25,6608.0,6469.9501953125,6401.39990234375,6342.7998046875,6405.64990234375,6405.64990234375,6405.64990234375,6006.7001953125,5783.7001953125,6169.9501953125,5692.64990234375,6281.5498046875,6281.5498046875,6281.5498046875,6396.2001953125,6147.5,6091.64990234375,6131.5498046875,6070.60009765625,6070.60009765625,6070.60009765625,5863.0498046875,5447.64990234375,5875.5498046875,5875.5498046875,5920.7001953125,5920.7001953125,5920.7001953125,5702.85009765625,5713.25,5336.0,5336.0,4890.0,4890.0,4890.0,5034.64990234375,5694.14990234375,5452.4501953125,5222.0,5557.9501953125,5557.9501953125,5557.9501953125,5237.60009765625,5373.64990234375,5339.25,4904.5498046875,4769.7001953125,4769.7001953125,4769.7001953125,4280.5498046875,4280.5498046875,4451.7001953125,4451.7001953125,4364.35009765625,4364.35009765625,4364.35009765625,4791.7998046875,4884.2998046875,5355.4501953125,4949.75,4894.25,4894.25,4894.25,5097.85009765625,5207.7998046875,4875.10009765625,4875.10009765625,4866.5,4866.5,4866.5,4736.25,4474.5,4366.0,4078.10009765625,4083.5,4083.5,4083.5,4274.2998046875,4289.39990234375,4086.5,4086.5,4148.75,4148.75,4148.75,4317.7998046875,3989.0,4161.9501953125,4224.9501953125,4442.9501953125,4442.9501953125,4442.9501953125,4502.0498046875,4502.0498046875,4517.64990234375,4557.0498046875,4502.5498046875,4502.5498046875,4502.5498046875,4714.9501953125,4698.5,4868.5,4785.2001953125,5091.14990234375,5091.14990234375,5091.14990234375,5119.25,4986.5498046875,4824.9501953125,4824.9501953125,4964.35009765625,4964.35009765625,4964.35009765625,4774.7001953125,4988.39990234375,5094.35009765625,5094.35009765625,5154.2001953125,5154.2001953125,5154.2001953125,5273.4501953125,5333.5,5416.35009765625,5416.35009765625,4891.7998046875,4891.7998046875,4891.7998046875,4862.0,4700.25,4684.2998046875,4598.39990234375,4528.89990234375,4528.89990234375,4528.89990234375,4585.7001953125,4495.0,4347.60009765625,4326.25,4270.7001953125,4270.7001953125,4270.7001953125,4270.7001953125,4167.64990234375,4220.5,4345.4501953125,4289.64990234375,4289.64990234375,4289.64990234375,4403.89990234375,4266.0498046875,4296.2998046875,4278.5,4275.64990234375,4275.64990234375,4275.64990234375,4365.5498046875,4475.14990234375,4425.2998046875,4476.0498046875,4511.35009765625,4511.35009765625,4511.35009765625,4538.60009765625,4303.39990234375,4101.35009765625,4075.85009765625,4013.85009765625,4013.85009765625,4013.85009765625,4013.85009765625,3923.85009765625,3929.85009765625,3896.050048828125,3823.25,3823.25,3823.25,3831.25,3682.10009765625,3671.199951171875,3635.550048828125,3385.39990234375,3385.39990234375,3385.39990234375,3424.35009765625,3424.35009765625,3424.35009765625,3422.85009765625,3498.10009765625,3498.10009765625,3498.10009765625,3651.300048828125,3752.199951171875,3704.0,3759.25,3753.10009765625,3753.10009765625,3753.10009765625,3763.75,4016.25,4013.699951171875,4179.25,4282.35009765625,4282.35009765625,4282.35009765625,4368.0498046875,4071.60009765625,4153.5498046875,4322.2001953125,4322.2001953125,4322.2001953125,4322.2001953125,4501.25,4501.25,4325.10009765625,4566.7001953125,4566.7001953125,4566.7001953125,4566.7001953125,4661.9501953125,4661.9501953125,4717.35009765625,5079.2001953125,4939.64990234375,4939.64990234375,4939.64990234375,5107.0,4959.14990234375,4865.0,4825.2001953125,4968.35009765625,4968.35009765625,4968.35009765625,5042.0,5169.5,4958.0,4958.0,4958.0,4958.0,4958.0,5291.25,5540.60009765625,5607.0,5551.7998046875,5570.0,5570.0,5570.0,5463.60009765625,5336.0,5597.85009765625,5415.5498046875,5519.35009765625,5519.35009765625,5519.35009765625,6304.25,7129.64990234375,7168.75,7124.39990234375,6856.7998046875,6856.7998046875,6856.7998046875,7033.7001953125,7072.7001953125,7013.7998046875,7202.35009765625,7373.89990234375,7373.89990234375,7373.89990234375,7559.2998046875,7399.89990234375,7361.35009765625,7176.7998046875,7418.7998046875,7418.7998046875,7418.7998046875,7322.10009765625,6909.5,7230.2001953125,7368.85009765625,7334.5498046875,7334.5498046875,7334.5498046875,7013.5498046875,7037.35009765625,7275.10009765625,7082.75,7147.9501953125,7147.9501953125,7147.9501953125,7261.5,7108.0,7147.10009765625,7158.9501953125,7182.2001953125,7182.2001953125,7182.2001953125,7446.4501953125,7538.64990234375,7325.10009765625,7466.60009765625,7344.5498046875,7344.5498046875,7344.5498046875,7566.0498046875,7007.2001953125,6870.25,6654.7001953125,6673.9501953125,6673.9501953125,6673.9501953125,6456.89990234375,6649.5,6827.75,7028.5,6897.2001953125,6897.2001953125,6897.2001953125,7273.9501953125,7547.5,7464.89990234375,7421.35009765625,7536.85009765625,7536.85009765625,7536.85009765625,7441.60009765625,7419.2998046875,7225.0498046875,7208.0,7472.0498046875,7472.0498046875,7472.0498046875,7564.0498046875,7656.64990234375,7642.0,7596.39990234375,7394.7001953125,7394.7001953125,7394.7001953125,7363.60009765625,7161.25,7144.0498046875,7293.39990234375,7502.9501953125,7502.9501953125,7502.9501953125,7311.89990234375,7111.2001953125,7214.7998046875,7168.5498046875,7249.7998046875,7249.7998046875,7249.7998046875,7472.60009765625,7506.9501953125,7466.25,7395.5,7407.5498046875,7407.5498046875,7407.5498046875,7382.0,7459.60009765625,7326.89990234375,7358.0,7382.35009765625,7382.35009765625,7382.35009765625,7503.14990234375,7692.2001953125,7694.64990234375,7862.0498046875,7928.0,7928.0,7928.0,7879.4501953125,8000.39990234375,8290.4501953125,8446.099609375,8434.7001953125,8434.7001953125,8434.7001953125,8434.7001953125,8377.7998046875,8478.25,8355.7001953125,8485.150390625,8485.150390625,8485.150390625,8485.150390625,8490.400390625,8513.0498046875,8835.2998046875,8835.2998046875,8835.2998046875,8835.2998046875,8765.900390625,8709.650390625,8827.2998046875,8784.650390625,8827.849609375,8827.849609375,8827.849609375,8720.7001953125,8720.7001953125,8984.099609375,9157.099609375,9312.7998046875,9312.7998046875,9312.7998046875,9312.7998046875,9548.0498046875,9395.0,9244.5,9189.099609375,9189.099609375,9189.099609375,9193.2001953125,8948.2998046875,8652.099609375,8541.650390625,8476.9501953125,8476.9501953125,8476.9501953125,8476.9501953125,8372.099609375,8330.5,8521.5498046875,8612.2998046875,8612.2998046875,8612.2998046875,8750.7001953125,9182.0,9147.650390625,9323.75,9055.849609375,9055.849609375,9055.849609375,9201.849609375,9259.2001953125,9236.400390625,9210.2001953125,8993.2998046875,8993.2998046875,8993.2998046875,9256.75,9266.099609375,9215.5,9291.5498046875,8994.2001953125,8994.2001953125,8994.2001953125,9121.7001953125,9056.0498046875,9293.900390625,9370.650390625,9263.2001953125,9263.2001953125,9263.2001953125,9257.599609375,9126.0,9224.2998046875,9140.349609375,9265.349609375,9265.349609375,9265.349609375,9072.849609375,8994.849609375,8701.7001953125,8659.349609375,8644.25,8644.25,8644.25,8601.0,8647.0498046875,8721.5,8957.400390625,8957.400390625,8957.400390625,8957.400390625,8957.400390625,8990.349609375,8989.0,9014.75,9014.75,9014.75,9014.75,9031.900390625,9191.25,9243.900390625,9240.25,9185.0498046875,9185.0498046875,9185.0498046875,9209.150390625,9173.849609375,8912.599609375,8952.0,8961.650390625,8961.650390625,8961.650390625,8887.150390625,9125.900390625,9177.75,9093.0,8891.7998046875,8891.7998046875,8891.7998046875,8724.7998046875,8724.7998046875,8564.599609375,8396.5,8346.5498046875,8346.5498046875,8346.5498046875,8597.4501953125,8666.7001953125,8489.7998046875,8591.7998046875,8319.150390625,8319.150390625,8319.150390625,8279.75,8322.0,8410.5498046875,8327.7001953125,8327.7001953125,8327.7001953125,8327.7001953125,8441.599609375,8324.2998046875,8446.5498046875,8574.75,8490.25,8490.25,8490.25,8565.2998046875,8491.400390625,8463.4501953125,8520.599609375,8535.4501953125,8535.4501953125,8535.4501953125,8535.4501953125,8826.900390625,8922.150390625,9055.9501953125,9012.849609375,9012.849609375,9012.849609375,9102.150390625,9118.7001953125,9136.25,9114.650390625,9201.150390625,9201.150390625,9201.150390625,9118.2001953125,9071.0,9162.4501953125,9214.099609375,9293.7001953125,9293.7001953125,9293.7001953125,9171.2001953125,9192.4501953125,9192.4501953125,9191.400390625,9331.650390625,9331.650390625,9331.650390625,9452.099609375,9558.9501953125,9509.849609375,9464.150390625,9464.150390625,9464.150390625,9464.150390625,9593.5498046875,9732.599609375,9778.5,9676.7001953125,9538.0,9538.0,9538.0,9661.2001953125,9565.0498046875,9565.0498046875,9501.599609375,9345.5,9345.5,9345.5,9273.849609375,9314.5498046875,9477.099609375,9534.0498046875,9653.150390625,9653.150390625,9653.150390625,9890.7998046875,9827.0,9630.349609375,9652.599609375,9809.400390625,9809.400390625,9809.400390625,9809.400390625,9816.599609375,9461.349609375,9588.849609375,9426.650390625,9426.650390625,9426.650390625,9419.5,9683.2001953125,9640.7998046875,9788.349609375,9738.150390625,9738.150390625,9738.150390625,9485.349609375,9522.150390625,9408.7001953125,9208.2998046875,9151.2998046875,9151.2998046875,9151.2998046875,9524.5,9023.599609375,8911.400390625,9007.2998046875,9285.9501953125,9285.9501953125,9285.9501953125,9305.5498046875,9331.849609375,9164.0498046875,9290.349609375,9402.7998046875,9402.7998046875,9402.7998046875,9221.7998046875,9291.25,9195.900390625,9233.5498046875,9428.849609375,9428.849609375,9428.849609375,9496.349609375,9524.900390625,9629.650390625,9582.9501953125,9600.7001953125,9600.7001953125,9600.7001953125,9626.400390625,9739.0498046875,9622.75,9706.900390625,9627.599609375,9627.599609375,9627.599609375,9456.099609375,9513.0498046875,9344.0,9403.9501953125,9363.599609375,9363.599609375,9363.599609375,9335.4501953125,9388.7001953125,9534.9501953125,9516.7001953125,9616.599609375,9616.599609375,9616.599609375,9745.900390625,9737.650390625,10009.0,9967.25,9951.2998046875,9951.2998046875,9951.2998046875,10001.900390625,10081.75,10003.5,9954.900390625,10088.25,10088.25,10088.25,10108.900390625,10035.650390625,10093.900390625,10038.599609375,10152.5,10152.5,10152.5,10258.349609375,10452.150390625,10511.0498046875,10444.599609375,10442.25,10442.25,10442.25,10407.5498046875,10507.4501953125,10506.0498046875,10308.150390625,10603.900390625,10603.900390625,10603.900390625,10732.0498046875,10709.150390625,10790.849609375,10920.400390625,11058.5498046875,11058.5498046875,11058.5498046875,11024.5,11082.9501953125,10993.0,10941.7998046875,11003.25,11003.25,11003.25,10834.400390625,10699.0498046875,10761.650390625,10931.400390625,10992.150390625,10992.150390625,10992.150390625,11033.599609375,11236.650390625,11110.349609375,11223.650390625,11223.650390625,11223.650390625,11223.650390625,11489.5,11902.7998046875,11917.4501953125,11960.650390625,12071.7001953125,12071.7001953125,12071.7001953125,12109.0498046875,12288.099609375,12248.099609375,12312.5498046875,12083.2998046875,12083.2998046875,12083.2998046875,12323.4501953125,12242.75,12324.5,12210.75,12390.900390625,12390.900390625,12390.900390625,12605.4501953125,12638.849609375,12647.25,12638.400390625,12560.900390625,12560.900390625,12560.900390625,12514.900390625,12517.2001953125,12494.7001953125,12785.9501953125,12615.5,12615.5,12615.5,12451.5498046875,12415.0,12214.75,12219.0,12480.2001953125,12480.2001953125,12480.2001953125,12423.349609375,12427.5498046875,12324.849609375,12226.7001953125,12145.7001953125,12145.7001953125,12145.7001953125,12485.5,12749.9501953125,12843.9501953125,12987.2998046875,12987.2998046875,12987.2998046875,12987.2998046875,13288.0498046875,13023.849609375,13092.900390625,13014.2001953125,12788.5498046875,12788.5498046875,12788.5498046875,12467.5,12826.900390625,12826.900390625,12630.900390625,12325.75,12325.75,12325.75,12120.7998046875,12318.7998046875,12206.0,11897.900390625,11703.25,11703.25,11703.25,11731.349609375,11811.099609375,11987.7001953125,12411.0,12453.25,12453.25,12453.25,12427.9501953125,12040.400390625,11646.0,11470.650390625,11087.75,11087.75,11087.75,11527.349609375,11558.400390625,11478.849609375,11231.150390625,11231.150390625,11231.150390625,11231.150390625,11401.0498046875,11294.349609375,11597.5498046875,11510.5,11412.650390625,11412.650390625,11412.650390625,11491.400390625,11497.349609375,11448.650390625,11605.0498046875,11633.650390625,11633.650390625,11633.650390625,11882.099609375,11868.400390625,11545.75,11350.7001953125,11146.4501953125,11146.4501953125,11146.4501953125,11024.5,10734.2001953125,10906.400390625,11125.9501953125,10746.7998046875,10746.7998046875,10746.7998046875,10459.599609375,10534.2998046875,10646.0,10579.25,10750.400390625,10750.400390625,10750.400390625,10923.75,11183.5498046875,11183.5498046875,10946.400390625,10690.0498046875,10690.0498046875,10690.0498046875,10444.349609375,10683.4501953125,10599.0,10460.9501953125,10632.900390625,10632.900390625,10632.900390625,10457.7998046875,10431.0498046875,10131.349609375,10106.25,10061.400390625,10061.400390625,10061.400390625,10477.849609375,10821.5,10929.25,10996.25,11153.7998046875,11153.7998046875,11153.7998046875,10935.2998046875,10957.5,10776.7998046875,10603.25,10329.650390625,10329.650390625,10329.650390625,10512.2001953125,10541.9501953125,10541.9501953125,10805.0,11008.900390625,11008.900390625,11008.900390625,10886.099609375,10782.599609375,10987.400390625,10920.650390625,10772.900390625,10772.900390625,10772.900390625,10730.400390625,10673.900390625,10777.099609375,10881.849609375,10882.0,10882.0,10882.0,10795.650390625,10759.9501953125,10755.849609375,11001.75,11179.2001953125,11179.2001953125,11179.2001953125,11348.849609375,11522.75,11625.5,11804.9501953125,11713.0498046875,11713.0498046875,11713.0498046875,11614.4501953125,11853.599609375,11784.5498046875,11724.75,11751.7998046875,11751.7998046875,11751.7998046875,11591.0,11591.0,11531.4501953125,11531.4501953125,11810.099609375,11810.099609375,11810.099609375,11754.2001953125,11562.9501953125,11678.7001953125,11857.4501953125,11857.4501953125,11857.4501953125,11857.4501953125,11860.349609375,11903.7998046875,11922.2998046875,11851.75,11671.0498046875,11671.0498046875,11671.0498046875,11509.2998046875,11222.0498046875,10888.4501953125,10909.0498046875,10751.2998046875,10751.2998046875,10751.2998046875,11194.4501953125,11068.599609375,11036.150390625,11009.2998046875,10896.5498046875,10896.5498046875,10896.5498046875,10975.150390625,10920.9501953125,10669.599609375,10661.4501953125,10582.4501953125,10582.4501953125,10582.4501953125,10612.5498046875,10360.9501953125,10427.150390625,10404.0498046875,10491.4501953125,10491.4501953125,10491.4501953125,10742.0,10742.0,11011.2001953125,10872.25,10860.25,10860.25,10860.25,10734.25,10799.349609375,10816.400390625,10775.4501953125,10800.4501953125,10800.4501953125,10800.4501953125,10675.2998046875,10737.2998046875,10789.900390625,10550.650390625,10652.849609375,10652.849609375,10652.849609375,10592.650390625,10503.75,10526.400390625,10453.099609375,10576.5,10576.5,10576.5,10808.900390625,11059.150390625,11110.349609375,11183.25,11359.9501953125,11359.9501953125,11359.9501953125,11379.0498046875,11385.0498046875,11379.2001953125,11298.0,11431.9501953125,11431.9501953125,11431.9501953125,11275.0,11040.7001953125,11065.2001953125,11121.400390625,11249.400390625,11249.400390625,11249.400390625,11234.7001953125,11230.0498046875,11372.150390625,11159.099609375,11110.75,11110.75,11110.75,11286.25,11397.9501953125,11126.7001953125,10902.599609375,10820.650390625,10820.650390625,10820.650390625,11014.150390625,10902.5498046875,10647.900390625,10682.4501953125,10306.099609375,10306.099609375,10306.099609375,10121.400390625,9952.2001953125,10516.4501953125,10419.400390625,10469.150390625,10469.150390625,10469.150390625,10469.150390625,10315.099609375,10050.0,9987.599609375,9452.7001953125,9452.7001953125,9452.7001953125,9422.650390625,9474.0498046875,9453.0498046875,9393.349609375,9186.400390625,9186.400390625,9186.400390625,9099.849609375,9466.2998046875,9466.2998046875,9466.2998046875,9707.4501953125,9707.4501953125,9707.4501953125,9509.0,9556.9501953125,9698.400390625,9888.5498046875,9947.099609375,9947.099609375,9947.099609375,9550.9501953125,9454.4501953125,9365.0498046875,9569.349609375,9744.650390625,9744.650390625,9744.650390625,9664.349609375,9589.349609375,9838.599609375,9756.2001953125,9418.7001953125,9418.7001953125,9418.7001953125,9373.9501953125,9528.2998046875,9670.4501953125,9467.5498046875,9600.349609375,9600.349609375,9600.349609375,9332.599609375,9135.0498046875,8930.75,8930.75,8970.5498046875,8970.5498046875,8970.5498046875,9051.0,9262.099609375,9240.400390625,9594.0,9548.25,9548.25,9548.25,9717.349609375,9625.5498046875,9673.0,9722.849609375,9767.400390625,9767.400390625,9767.400390625,9819.5,9709.849609375,9709.849609375,9709.849609375,9837.9501953125,9837.9501953125,9837.9501953125,9932.0,9898.400390625,9739.099609375,9743.849609375,9887.900390625,9887.900390625,9887.900390625,9887.900390625,9855.9501953125,9896.150390625,9896.150390625,9553.0,9553.0,9553.0,9416.349609375,9254.75,9055.599609375,9049.2998046875,8867.7998046875,8867.7998046875,8867.7998046875,8806.7001953125,8603.849609375,8556.400390625,8556.400390625,8438.2001953125,8438.2001953125,8438.2001953125,8598.7001953125,8824.5498046875,8529.0498046875,8872.7998046875,8924.150390625,8924.150390625,8924.150390625,9154.900390625,9154.900390625,9235.349609375,9126.4501953125,8786.349609375,8786.349609375,8786.349609375,8900.900390625,8475.849609375,8549.5498046875,8449.4501953125,8482.25,8482.25,8482.25,8122.25,7948.4501953125,7999.0,8106.2001953125,8406.2001953125,8406.2001953125,8406.2001953125,8406.2001953125,8348.5498046875,8256.099609375,8050.2998046875,8073.2001953125,8073.2001953125,8073.2001953125,8073.2001953125,8072.7998046875,8388.9501953125,8421.5,8397.349609375,8397.349609375,8397.349609375,8450.400390625,8535.650390625,8758.25,8831.4501953125,8989.900390625,8989.900390625,8989.900390625,8913.25,9013.650390625,9067.349609375,9106.7998046875,9291.150390625,9291.150390625,9291.150390625,9503.099609375,9536.0498046875,9871.9501953125,9871.9501953125,9969.25,9969.25,9969.25,9741.25,9625.7001953125,9941.900390625,10012.9501953125,9992.0,9992.0,9992.0,10219.599609375,10368.5,10308.2001953125,10267.25,10482.150390625,10482.150390625,10482.150390625,10451.099609375,10449.4501953125,10633.650390625,10896.0498046875,11042.849609375,11042.849609375,11042.849609375,11042.849609375,11042.599609375,11160.400390625,10693.75,10691.75,10691.75,10691.75,10527.650390625,10179.9501953125,10561.75,10385.150390625,10337.7001953125,10337.7001953125,10337.7001953125,10406.849609375,10149.7998046875,10030.25,10030.25,10286.7998046875,10286.7998046875,10286.7998046875,10765.9501953125,10707.900390625,10820.400390625,10894.4501953125,10607.75,10607.75,10607.75,10440.849609375,10183.0,10238.650390625,10525.0,10249.75,10249.75,10249.75,10260.2001953125,10171.900390625,10122.0498046875,9859.25,9984.7998046875,9984.7998046875,9984.7998046875,10186.7998046875,10381.0,10345.150390625,10345.150390625,10345.150390625,10345.150390625,10345.150390625,10256.650390625,10169.2001953125,10117.25,10250.7001953125,10478.25,10478.25,10478.25,10274.150390625,10502.650390625,10585.5498046875,10536.9501953125,10538.2998046875,10538.2998046875,10538.2998046875,10432.599609375,10275.5498046875,10215.849609375,10171.849609375,10146.099609375,10146.099609375,10146.099609375,10210.099609375,10210.099609375,10282.7001953125,10231.7001953125,10063.5,10063.5,10063.5,9664.849609375,9909.400390625,9517.0,9411.75,9353.4501953125,9353.4501953125,9353.4501953125,9412.599609375,9186.4501953125,9184.4501953125,9199.5,9013.099609375,9013.099609375,9013.099609375,9013.099609375,9510.4501953125,9237.349609375,9277.25,9422.4501953125,9422.4501953125,9422.4501953125,9483.099609375,9734.849609375,9642.2001953125,9414.349609375,9434.4501953125,9434.4501953125,9434.4501953125,9174.5498046875,9433.25,9519.0,9830.5,9969.5498046875,9969.5498046875,9969.5498046875,10070.150390625,9899.4501953125,10150.0,10073.5,9881.400390625,9881.400390625,9881.400390625,10178.849609375,9730.0,9812.849609375,9795.9501953125,9907.349609375,9907.349609375,9907.349609375,10068.900390625,9914.7998046875,10025.4501953125,10023.900390625,10105.4501953125,10105.4501953125,10105.4501953125,10366.5,10460.0,10522.400390625,10520.0498046875,10637.9501953125,10637.9501953125,10637.9501953125,10594.9501953125,10617.0498046875,10701.599609375,10640.150390625,10654.900390625,10654.900390625,10654.900390625,10614.099609375,10648.7001953125,10569.0498046875,10684.400390625,10622.849609375,10622.849609375,10622.849609375,10401.7001953125,10282.650390625,10286.5498046875,10306.5,10256.25,10256.25,10256.25,10222.5498046875,10462.7998046875,10347.7998046875,10408.9501953125,10312.7998046875,10312.7998046875,10312.7998046875,10426.75,10499.7001953125,10621.0,10572.400390625,10427.349609375,10427.349609375,10427.349609375,10339.2001953125,10411.5498046875,10411.5498046875,10537.9501953125,10425.849609375,10425.849609375,10425.849609375,10425.849609375,10436.849609375,10413.9501953125,10508.75,10404.5,10404.5,10404.5,10338.25,10338.25,10077.400390625,9978.2001953125,10037.0,10037.0,10037.0,10030.849609375,9967.4501953125,9965.0,9846.5498046875,10047.150390625,10047.150390625,10047.150390625,10153.7998046875,10020.75,10176.4501953125,10213.849609375,10408.25,10408.25,10408.25,10797.099609375,10949.9501953125,10949.9501953125,10907.7001953125,10973.150390625,10973.150390625,10973.150390625,11359.2998046875,11450.4501953125,11385.7001953125,11466.25,11486.5498046875,11486.5498046875,11486.5498046875,11462.099609375,11462.099609375,11440.2001953125,11460.150390625,11745.2001953125,11745.2001953125,11745.2001953125,11530.650390625,11442.75,11380.25,11334.900390625,11469.2001953125,11469.2001953125,11469.2001953125,11397.7001953125,11495.5,11417.099609375,11406.4501953125,11539.0498046875,11539.0498046875,11539.0498046875,11422.099609375,11605.7998046875,11605.7998046875,11542.2998046875,11542.2998046875,11542.2998046875,11542.2998046875,11506.5,11467.2001953125,11204.9501953125,11266.5,11450.650390625,11450.650390625,11450.650390625,11449.7001953125,11427.9501953125,11545.349609375,11561.349609375,11608.7998046875,11608.7998046875,11608.7998046875,11488.099609375,11488.099609375,11488.099609375,11493.099609375,11487.5498046875,11487.5498046875,11487.5498046875,11342.650390625,11373.9501953125,11352.2001953125,11497.349609375,11540.599609375,11540.599609375,11540.599609375,11534.2001953125,11502.2001953125,11502.2001953125,11706.900390625,12082.5498046875,12082.5498046875,12082.5498046875,12126.599609375,12092.75,12240.849609375,12358.349609375,12462.400390625,12462.400390625,12462.400390625,12380.0,12418.9501953125,12374.7001953125,12337.349609375,12247.25,12247.25,12247.25,12403.650390625,12455.7001953125,12514.0,12514.599609375,12423.599609375,12423.599609375,12423.599609375,12363.849609375,12363.849609375,12350.25,12516.0498046875,12494.150390625,12494.150390625,12494.150390625,12442.849609375,12442.849609375,12748.849609375,12828.2998046875,12774.7998046875,12774.7998046875,12774.7998046875,12837.4501953125,12693.599609375,12724.400390625,12775.25,12832.4501953125,12832.4501953125,12832.4501953125,12622.0498046875,12766.5498046875,12836.2001953125,12608.849609375,12688.150390625,12688.150390625,12688.150390625,12678.0,12640.400390625,12635.25,12624.4501953125,12575.849609375,12575.849609375,12575.849609375,12705.7998046875,12804.400390625,12754.849609375,12741.2998046875,12718.5498046875,12718.5498046875,12718.5498046875,12656.849609375,12426.4501953125,12525.400390625,12372.5,12341.4501953125,12341.4501953125,12341.4501953125,12298.099609375,12331.400390625,12424.9501953125,12400.650390625,12284.4501953125,12284.4501953125,12284.4501953125,12353.0,12347.5498046875,12460.400390625,12295.150390625,12024.400390625,12024.400390625,12024.400390625,12119.9501953125,11995.0,11882.7001953125,12007.0,11533.0498046875,11533.0498046875,11533.0498046875,11515.400390625,11642.7998046875,11871.5498046875,11829.2001953125,12008.7998046875,12008.7998046875,12008.7998046875,12221.5,12150.7001953125,11989.5498046875,11772.4501953125,11972.75,11972.75,11972.75,11679.349609375,11796.2001953125,11491.7998046875,11285.650390625,11275.4501953125,11275.4501953125,11275.4501953125,11204.0498046875,11125.650390625,11125.650390625,11163.4501953125,11163.4501953125,11163.4501953125,11163.4501953125,11361.849609375,11425.5498046875,11523.400390625,11344.099609375,11126.25,11126.25,11126.25,11098.9501953125,11012.650390625,10929.150390625,11122.25,11306.5,11306.5,11306.5,11410.099609375,11526.25,11871.599609375,11981.0498046875,11981.0498046875,11981.0498046875,11981.0498046875,12288.25,12576.2001953125,12576.2001953125,12543.400390625,12726.849609375,12726.849609375,12726.849609375,12533.150390625,12609.150390625,12609.150390625,12561.5498046875,12709.9501953125,12709.9501953125,12709.9501953125,12393.599609375,12396.400390625,12631.5,12643.0498046875,12596.2998046875,12596.2998046875,12596.2998046875,12780.150390625,12568.849609375,12583.599609375,13077.900390625,13239.4501953125,13239.4501953125,13239.4501953125,13317.099609375,13181.5,13066.5,13008.25,12636.5,12636.5,12636.5,12769.349609375,12961.5498046875,12950.0,12853.2001953125,12805.900390625,12805.900390625,12805.900390625,12475.650390625,12402.099609375,12275.099609375,12289.349609375,12398.400390625,12398.400390625,12398.400390625,12231.5,12087.0498046875,11820.5,11814.849609375,11686.75,11686.75,11686.75,11922.849609375,11971.0498046875,11820.9501953125,11852.650390625,11375.400390625,11375.400390625,11375.400390625,11340.150390625,11178.2998046875,11181.0498046875,11066.5498046875,11235.75,11235.75,11235.75,11617.25,11714.900390625,11614.25,11357.7998046875,11381.2001953125,11381.2001953125,11381.2001953125,11434.2998046875,11283.2998046875,11442.4501953125,11364.4501953125,11655.2998046875,11655.2998046875,11655.2998046875,11722.7998046875,11790.25,11226.150390625,10971.599609375,11187.7001953125,11187.7001953125,11187.7001953125,10973.900390625,11086.9501953125,11239.7001953125,10720.150390625,10614.0,10614.0,10614.0,10465.25,10331.0,10209.5498046875,10015.75,10142.9501953125,10142.9501953125,10142.9501953125,9997.7998046875,10094.900390625,9703.099609375,9757.25,9757.25,9757.25,9757.25,9816.400390625,9711.400390625,9985.650390625,9985.650390625,10026.400390625,10026.400390625,10026.400390625,9425.5,8939.2001953125,9652.0,9194.849609375,9322.7998046875,9322.7998046875,9322.7998046875,9529.7001953125,9208.150390625,8729.25,8897.0,8891.900390625,8891.900390625,8891.900390625,9112.7998046875,9220.9501953125,8688.650390625,9253.4501953125,9746.650390625,9746.650390625,9746.650390625,9746.650390625,10084.0,10112.650390625,10338.2998046875,10067.150390625,10067.150390625,10067.150390625,10418.5,10320.849609375,10327.150390625,10984.5,11163.9501953125,11163.9501953125,11163.9501953125,10466.2998046875,10063.0498046875,10191.849609375,10091.400390625,10131.650390625,10131.650390625,10131.650390625,9783.900390625,9685.150390625,9685.150390625,9946.2998046875,10171.4501953125,10171.4501953125,10171.4501953125,10124.150390625,10418.849609375,10004.400390625,10309.2001953125,10423.599609375,10423.599609375,10423.599609375,10588.9501953125,10738.2001953125,10738.2001953125,10406.0498046875,10387.2998046875,10387.2998046875,10387.2998046875,10751.7001953125,10743.7998046875,10837.0498046875,10839.4501953125,10880.849609375,10880.849609375,10880.849609375,10924.4501953125,10779.650390625,11284.849609375,11211.2998046875,11472.2001953125,11472.2001953125,11472.2001953125,11472.2001953125,11539.75,11510.400390625,11320.849609375,11011.0498046875,11011.0498046875,11011.0498046875,10786.25,10755.650390625,10469.099609375,10660.650390625,10660.650390625,10660.650390625,10660.650390625,10962.25,11159.0498046875,11127.349609375,10866.2998046875,10796.4501953125,10796.4501953125,10796.4501953125,10780.599609375,11040.650390625,10941.599609375,10994.25,10941.599609375,10941.599609375,10941.599609375,11180.2998046875,11250.7001953125,11158.7001953125,11469.349609375,11648.349609375,11648.349609375,11648.349609375,12206.9501953125,12041.0,11747.4501953125,11736.25,11483.849609375,11483.849609375,11483.849609375,11347.2001953125,11412.7001953125,11129.650390625,11505.5498046875,11117.7001953125,11117.7001953125,11117.7001953125,11258.650390625,11399.150390625,11399.150390625,11335.7998046875,11409.25,11409.25,11409.25,11532.599609375,11410.25,11410.25,11383.7998046875,11098.25,11098.25,11098.25,11174.349609375,11097.7998046875,11071.75,11068.900390625,10969.349609375,10969.349609375,10969.349609375,10814.650390625,10989.150390625,11000.2001953125,11187.349609375,11080.099609375,11080.099609375,11080.099609375,10909.900390625,11067.0498046875,11164.25,11183.75,11063.2001953125,11063.2001953125,11063.2001953125,10802.2998046875,10541.5,10609.900390625,10287.849609375,10193.5498046875,10193.5498046875,10193.5498046875,10205.4501953125,9983.650390625,10215.650390625,10257.099609375,10311.9501953125,10311.9501953125,10311.9501953125,10287.349609375,10242.099609375,10307.599609375,10360.7001953125,10169.0,10169.0,10169.0,10169.0,10324.349609375,10548.349609375,10515.2998046875,10429.2998046875,10429.2998046875,10429.2998046875,10508.9501953125,10742.150390625,10659.2001953125,10659.2001953125,10793.599609375,10793.599609375,10793.599609375,10705.4501953125,10661.400390625,10987.599609375,11147.599609375,11357.900390625,11357.900390625,11357.900390625,11784.5498046875,12132.0,11997.849609375,12062.349609375,11984.5,11984.5,11984.5,11984.5,12093.2001953125,12190.849609375,12160.650390625,12083.4501953125,12083.4501953125,12083.4501953125,12134.650390625,12403.650390625,12529.4501953125,12560.900390625,12693.25,12693.25,12693.25,12855.5,12806.150390625,12674.349609375,12749.849609375,12523.2998046875,12523.2998046875,12523.2998046875,12562.349609375,12562.349609375,12593.150390625,12937.400390625,12822.25,12822.25,12822.25,12822.25,12830.5,12557.400390625,12564.5498046875,12564.5498046875,12564.5498046875,12564.5498046875,12845.2998046875,12989.5498046875,12961.349609375,12961.349609375,13134.5,13134.5,13134.5,13038.9501953125,13107.5498046875,12946.099609375,12946.099609375,12920.349609375,12920.349609375,12920.349609375,12841.400390625,12961.5,12944.900390625,12982.75,13023.400390625,13023.400390625,13023.400390625,13801.0,14269.25,14124.5498046875,14186.099609375,14675.599609375,14675.599609375,14675.599609375,15032.0,15351.650390625,15126.599609375,15009.900390625,15091.7001953125,15091.7001953125,15091.7001953125,15431.9501953125,15141.5,15075.599609375,15169.25,15093.099609375,15093.099609375,15093.099609375,14786.4501953125,15335.849609375,15221.2998046875,15250.599609375,15405.75,15405.75,15405.75,15625.400390625,15585.400390625,15436.0498046875,15456.25,15506.75,15506.75,15506.75,15055.2001953125,14982.349609375,15369.5,15282.0498046875,15064.4501953125,15064.4501953125,15064.4501953125,15014.2001953125,15142.349609375,15320.9501953125,15247.099609375,15092.25,15092.25,15092.25,15059.099609375,15288.7998046875,15464.5498046875,15512.75,15458.75,15458.75,15458.75,15589.5,15437.400390625,15008.25,14940.0,14796.900390625,14796.900390625,14796.900390625,14508.099609375,14601.849609375,15033.9501953125,15258.9501953125,15169.0,15169.0,15169.0,15510.0,15440.349609375,15513.4501953125,15471.349609375,15494.849609375,15494.849609375,15494.849609375,15399.5,15399.5,15256.2001953125,15447.900390625,15137.599609375,15137.599609375,15137.599609375,15242.25,15283.599609375,15209.0498046875,15004.849609375,14831.75,14831.75,14831.75,14858.75,14943.7998046875,15007.25,14954.2001953125,14954.2001953125,14954.2001953125,14954.2001953125,15099.7001953125,15507.0498046875,15566.75,15475.5,15699.0498046875,15699.0498046875,15699.0498046875,15817.5498046875,15530.650390625,15745.599609375,15758.0498046875,15758.0498046875,15758.0498046875,15758.0498046875,15790.25,16049.75,16208.5498046875,16102.900390625,16030.4501953125,16030.4501953125,16030.4501953125,16084.2001953125,16171.7998046875,16173.5,16197.2998046875,16208.0,16208.0,16208.0,16158.650390625,16160.7001953125,15926.849609375,15778.75,16197.5,16197.5,16197.5,16052.5498046875,16194.400390625,15883.4501953125,15690.5,15262.900390625,15262.900390625,15262.900390625,15636.4501953125,15441.349609375,15370.7001953125,15370.7001953125,15370.7001953125,15370.7001953125,15370.7001953125,15370.7001953125,15214.25,15130.349609375,15434.349609375,15603.4501953125,15603.4501953125,15603.4501953125,15360.7001953125,15790.9501953125,15790.9501953125,15690.349609375,15617.349609375,15617.349609375,15617.349609375,16259.7001953125,16281.9501953125,16570.400390625,16570.400390625,16570.400390625,16570.400390625,16570.400390625,16538.900390625,16607.5,16770.19921875,16606.5,16812.44921875,16812.44921875,16812.44921875,17087.0,17087.0,17201.44921875,17201.44921875,17366.849609375,17366.849609375,17366.849609375,17364.650390625,17266.25,17461.44921875,17645.30078125,17460.55078125,17460.55078125,17460.55078125,17571.69921875,17672.849609375,17739.19921875,17649.349609375,17767.75,17767.75,17767.75,18128.599609375,18261.94921875,17914.349609375,17988.69921875,18082.400390625,18082.400390625,18082.400390625,18586.94921875,18434.75,18549.75,18758.80078125,18827.599609375,18827.599609375,18827.599609375,18804.94921875,18499.94921875,18183.099609375,18427.5,18413.69921875,18413.69921875,18413.69921875,18176.69921875,18249.0,17762.25,18238.0,18545.69921875,18545.69921875,18545.69921875,18562.349609375,18746.80078125,18582.75,18582.75,18602.55078125,18602.55078125,18602.55078125,18589.599609375,18573.25,18659.599609375,18659.599609375,18752.19921875,18752.19921875,18752.19921875,19155.19921875,18874.599609375,18382.55078125,18587.099609375,18845.900390625,18845.900390625,18845.900390625,18632.0,18889.0,18670.400390625,19340.44921875,19274.150390625,19274.150390625,19274.150390625,19345.650390625,19446.80078125,19811.849609375,19898.5,20133.849609375,20133.849609375,20133.849609375,20133.849609375,20179.80078125,20507.5,20475.69921875,20600.650390625,20600.650390625,20600.650390625,19778.94921875,19941.69921875,19423.25,19170.150390625,19170.150390625,19170.150390625,19170.150390625,18650.0,18242.94921875,18890.75,19073.44921875,19284.30078125,19284.30078125,19284.30078125,19518.849609375,19518.849609375,19226.400390625,19296.150390625,19157.30078125,19157.30078125,19157.30078125,19199.150390625,18940.44921875,18969.19921875,18781.400390625,18659.650390625,18659.650390625,18659.650390625,19954.5,20043.400390625,20541.650390625,19605.599609375,19605.599609375,19605.599609375,19605.599609375,19545.25,19170.30078125,19050.30078125,19201.099609375,19359.75,19359.75,19359.75,18786.650390625,18961.30078125,19080.25,19345.69921875,18778.80078125,18778.80078125,18778.80078125,18695.05078125,18348.349609375,18364.30078125,18138.80078125,18013.650390625,18013.650390625,18013.650390625,18160.19921875,18424.099609375,18424.099609375,18424.099609375,18424.099609375,18424.099609375,18424.099609375,18702.599609375,18666.599609375,18559.55078125,18523.349609375,18523.349609375,18523.349609375,18523.349609375,18523.349609375,18523.349609375,18848.650390625,18731.650390625,18731.650390625,18731.650390625,18731.650390625,18386.25,18102.30078125,18196.849609375,18350.349609375,18350.349609375,18350.349609375,18350.349609375,18063.599609375,17766.55078125,18255.80078125,18255.80078125,18255.80078125,18255.80078125,18255.80078125,18417.5,18500.0,18436.900390625,17751.400390625,17751.400390625,17751.400390625,17751.400390625,17921.150390625,18193.55078125,17779.25,18071.0,18071.0,18071.0,18071.0,18274.599609375,18364.900390625,18432.599609375,18593.849609375,18593.849609375,18593.849609375,18593.849609375,18405.05078125,18339.099609375,18299.650390625,18562.75,18486.400390625,18486.400390625,18486.400390625,18721.150390625,18656.05078125,17978.150390625,17757.349609375,17679.900390625,17679.900390625,17679.900390625,17542.5,17413.44921875,17485.900390625,17819.599609375,17298.44921875,17298.44921875,17298.44921875,17499.349609375,17368.44921875,17681.19921875,17661.900390625,17758.94921875,17758.94921875,17758.94921875,17956.55078125,18414.55078125,18403.900390625,18312.849609375,18461.599609375,18461.599609375,18461.599609375,17962.5,18204.849609375,18275.599609375,18605.099609375,18605.099609375,18605.099609375,18605.099609375,18488.349609375,18794.099609375,18579.650390625,18442.150390625,18584.94921875,18584.94921875,18584.94921875,18753.80078125,18913.75,18801.5,18870.5,19175.30078125,19175.30078125,19175.30078125,19126.099609375,19042.94921875,18683.30078125,18990.849609375,18832.44921875,18832.44921875,18832.44921875,18566.55078125,18250.650390625,18331.55078125,18383.0,18489.849609375,18489.849609375,18489.849609375,18782.650390625,18968.25,19047.30078125,18946.30078125,18992.80078125,18992.80078125,18992.80078125,18926.099609375,18918.55078125,18515.19921875,18211.5,18275.5,18275.5,18275.5,18763.05078125,18862.150390625,18753.44921875,18533.25,17978.25,17978.25,17978.25,17446.349609375,17084.150390625,17113.099609375,17175.650390625,17425.30078125,17425.30078125,17425.30078125,17137.25,16983.80078125,16703.94921875,16404.94921875,16444.19921875,16444.19921875,16444.19921875,16222.2001953125,15888.5,16658.349609375,16351.75,16682.25,16682.25,16682.25,16596.5,16905.80078125,16905.80078125,16905.80078125,17184.25,17184.25,17184.25,17186.05078125,17574.599609375,16783.80078125,16783.80078125,16783.80078125,16783.80078125,16783.80078125,17286.25,16859.75,17404.75,17404.75,17404.75,17404.75,17404.75,17373.55078125,17822.69921875,17577.5,17622.849609375,17640.400390625,17640.400390625,17640.400390625,17642.599609375,17530.55078125,17453.0,17604.44921875,17701.5,17701.5,17701.5,17911.650390625,17843.650390625,17814.55078125,17814.55078125,17859.75,17859.75,17859.75,18027.099609375,17738.44921875,17589.349609375,17388.400390625,17249.900390625,17249.900390625,17249.900390625,17351.44921875,17436.5,17449.0,17166.44921875,17166.44921875,17166.44921875,17166.44921875,17166.44921875,17166.44921875,17166.44921875,17166.44921875,17166.44921875,17166.44921875,17166.44921875,17166.44921875,17166.44921875,17166.44921875,17166.44921875,17166.44921875,17166.44921875,17166.44921875,17166.44921875,17166.44921875,17166.44921875,17166.44921875,17166.44921875,17166.44921875,17166.44921875,17166.44921875,17166.44921875,17166.44921875,17166.44921875,17166.44921875,17166.44921875,17166.44921875,17166.44921875,17166.44921875,17166.44921875,17166.44921875,17166.44921875,17166.44921875,17166.44921875,17166.44921875,16342.349609375,16342.349609375,16342.349609375,16342.349609375,16342.349609375,16342.349609375,16342.349609375,16342.349609375,16342.349609375,16342.349609375,16342.349609375,16342.349609375,16342.349609375,16342.349609375,16342.349609375,16342.349609375,16342.349609375,16342.349609375,16342.349609375,16342.349609375,16342.349609375,16342.349609375,16342.349609375,16342.349609375,16342.349609375,16342.349609375,16342.349609375,16342.349609375,16342.349609375,16342.349609375,15612.099609375,15612.099609375,15612.099609375,15612.099609375,15612.099609375,15612.099609375,15612.099609375,15612.099609375,15612.099609375,15612.099609375,15612.099609375,15667.0,15667.0,15667.0,15667.0,15667.0,15667.0,15667.0,15667.0,15667.0,15667.0,15667.0,15667.0,15667.0,15667.0,15206.2998046875,15206.2998046875,15206.2998046875,15206.2998046875,15206.2998046875,15206.2998046875,15206.2998046875,15206.2998046875,15206.2998046875,15206.2998046875,15206.2998046875,14243.4501953125,14243.4501953125,14243.4501953125,14243.4501953125,14243.4501953125,14243.4501953125,13844.4501953125,13844.4501953125,13844.4501953125,13844.4501953125,13844.4501953125,13844.4501953125,13844.4501953125,13844.4501953125,13844.4501953125,13844.4501953125,13844.4501953125,13844.4501953125,13844.4501953125,13844.4501953125,13844.4501953125,13844.4501953125,13844.4501953125,13844.4501953125,13844.4501953125,13844.4501953125,13844.4501953125,13844.4501953125,13844.4501953125,13844.4501953125,13844.4501953125,13844.4501953125,13844.4501953125,13844.4501953125,13844.4501953125,13844.4501953125,13844.4501953125,13844.4501953125,13844.4501953125,13844.4501953125,13844.4501953125,13844.4501953125,13844.4501953125,13844.4501953125,13844.4501953125,16236.900390625,16236.900390625,16236.900390625,16236.900390625,16236.900390625,16236.900390625,16236.900390625,16236.900390625,16236.900390625,16236.900390625,16236.900390625,16236.900390625,16236.900390625,16236.900390625,16236.900390625,16236.900390625,16236.900390625,16236.900390625,16236.900390625,16236.900390625,16236.900390625,16236.900390625,16236.900390625,16236.900390625,16236.900390625,16236.900390625,16236.900390625,16236.900390625,16236.900390625,16236.900390625,16236.900390625,16236.900390625,16236.900390625,16236.900390625,16236.900390625,16236.900390625,16236.900390625,16236.900390625,16236.900390625,16236.900390625,16236.900390625,16236.900390625,16236.900390625,16236.900390625,16236.900390625,16236.900390625,16236.900390625,16236.900390625,16236.900390625,16236.900390625,16236.900390625,16600.650390625,16600.650390625,16600.650390625,16600.650390625,16600.650390625,16600.650390625,16600.650390625,16600.650390625,16600.650390625,16600.650390625,16600.650390625,16600.650390625,17710.44921875,17710.44921875,17710.44921875,17710.44921875,17830.19921875,17830.19921875,17830.19921875,17830.19921875,17830.19921875,17830.19921875,17830.19921875,17830.19921875,17830.19921875,17830.19921875,17830.19921875,17830.19921875,17830.19921875,17830.19921875,17830.19921875,17830.19921875,17830.19921875,17830.19921875,17830.19921875,17830.19921875,17830.19921875,17830.19921875,17830.19921875,17830.19921875,17830.19921875,17830.19921875,17830.19921875,17830.19921875,17830.19921875,17830.19921875,17830.19921875,17830.19921875,17830.19921875,17830.19921875,17830.19921875,17830.19921875,17830.19921875,17830.19921875,17830.19921875,17830.19921875,17830.19921875,17830.19921875,17830.19921875,17830.19921875,17830.19921875,17830.19921875,17830.19921875,17830.19921875,19050.400390625,19050.400390625,19050.400390625,19050.400390625,19050.400390625,19050.400390625,19050.400390625,19050.400390625,19050.400390625,19050.400390625,19050.400390625,19050.400390625,19050.400390625,19050.400390625,19050.400390625,19050.400390625,19050.400390625,19050.400390625,19050.400390625,19050.400390625,19050.400390625,19050.400390625,19050.400390625,19050.400390625,19050.400390625,19050.400390625,19050.400390625,19050.400390625,19050.400390625,19050.400390625,19050.400390625,19050.400390625,19050.400390625,19050.400390625,19050.400390625,19050.400390625,19050.400390625,19050.400390625,19050.400390625,19050.400390625,19050.400390625,19050.400390625,19050.400390625,19050.400390625,19050.400390625,19050.400390625,19050.400390625,19050.400390625,19050.400390625,19050.400390625,19050.400390625,19050.400390625,19050.400390625,19050.400390625,19050.400390625,19050.400390625,19050.400390625,19050.400390625,19050.400390625,19050.400390625,19050.400390625,19050.400390625,19050.400390625,19050.400390625,19050.400390625,19050.400390625,19050.400390625,19050.400390625,19050.400390625,19050.400390625,19050.400390625,19050.400390625,19050.400390625,19050.400390625,19050.400390625,19050.400390625,19050.400390625,19050.400390625,19050.400390625,19050.400390625,19050.400390625,19050.400390625,19050.400390625,19050.400390625,19050.400390625,19050.400390625,19050.400390625,19050.400390625,19050.400390625,19050.400390625,19050.400390625,19050.400390625,19050.400390625,19050.400390625,19050.400390625,19050.400390625,19050.400390625,19050.400390625,19050.400390625,19050.400390625,19050.400390625,19050.400390625,19050.400390625,19050.400390625,19050.400390625,20200.25,20200.25,20200.25,20200.25,20200.25,20200.25,20200.25,20200.25,20200.25,20200.25,20200.25,20200.25,20200.25,20200.25,20200.25,20200.25,20200.25,20200.25,20200.25,20200.25,20200.25,20200.25,20200.25,20200.25,20200.25,20200.25,20200.25,20200.25,20200.25,20200.25,20200.25,20200.25,18616.05078125,18354.099609375,18480.349609375,18143.5,18417.900390625,18417.900390625,18417.900390625,18258.099609375,18264.099609375,18124.599609375,18027.0,17849.25,17849.25,17849.25,17849.25,17677.69921875,17929.19921875,17861.44921875,18026.349609375,18026.349609375,18026.349609375,18026.349609375,18002.75,18037.44921875,18000.75,18168.44921875,18168.44921875,18168.44921875,18314.25,18351.44921875,18535.349609375,18885.44921875,18949.69921875,18949.69921875,18949.69921875,18899.69921875,19128.150390625,19074.849609375,19165.349609375,18996.599609375,18996.599609375,18996.599609375,18762.0,18931.0,19120.05078125,19120.05078125,19588.400390625,19588.400390625,19588.400390625,19718.80078125,19533.19921875,19522.400390625,20053.94921875,20061.900390625,20061.900390625,20061.900390625,20307.150390625,20367.30078125,20335.25,20312.650390625,20225.75,20225.75,20225.75,20273.650390625,20304.5,20282.099609375,20243.25,20918.44921875,20918.44921875,20918.44921875,20494.849609375,20695.900390625,20937.599609375,20887.650390625,20887.650390625,20887.650390625,20887.650390625,20853.44921875,20632.849609375,20698.900390625,20885.0,20572.849609375,20572.849609375,20572.849609375,20548.94921875,20685.94921875,20630.150390625,20620.55078125,20825.900390625,20825.900390625,20825.900390625,20825.900390625,21189.849609375,21089.400390625,21237.5,21308.44921875,21308.44921875,21308.44921875,21202.55078125,21110.650390625,20815.349609375,20848.75,20987.599609375,20987.599609375,20987.599609375,21178.099609375,21229.0,21291.44921875,21374.349609375,21551.849609375,21551.849609375,21551.849609375,21539.19921875,21539.19921875,21602.19921875,21572.69921875,21536.5,21536.5,21536.5,21492.05078125,21521.44921875,21735.650390625,21651.25,21651.25,21651.25,21651.25,21700.5,21706.05078125,21674.099609375,21419.44921875,21567.5,21567.5,21567.5,21591.900390625,21960.650390625,22158.650390625,22274.05078125,22296.80078125,22296.80078125,22296.80078125,22296.80078125,22412.55078125,22445.849609375,22618.30078125,22844.849609375,22844.849609375,22844.849609375,22678.44921875,22820.80078125,22767.75,22916.05078125,22840.400390625,22840.400390625,22840.400390625,22735.849609375,22857.599609375,22972.349609375,22750.44921875,22761.94921875,22761.94921875,22761.94921875,22874.80078125,22674.900390625,22624.5,22573.650390625,23151.400390625,23151.400390625,23151.400390625,23310.599609375,23142.099609375,23321.19921875,23394.099609375,23435.19921875,23435.19921875,23435.19921875,23397.400390625,23523.05078125,23482.849609375,23630.349609375,23483.94921875,23483.94921875,23483.94921875,23610.150390625,23447.0,23555.30078125,23444.69921875,23448.599609375,23448.599609375,23448.599609375,23571.349609375,23720.599609375,23638.150390625,23716.849609375,23772.30078125,23772.30078125,23772.30078125,23772.30078125,23636.94921875,23209.55078125,23312.400390625,23137.25,23137.25,23137.25,23240.349609375,23325.5,23241.900390625,23399.5,23463.75,23463.75,23463.75,23583.25,23744.55078125,23623.75,23817.25,23949.5,23949.5,23949.5,24011.400390625,23958.150390625,24069.19921875,24170.650390625,24231.400390625,24231.400390625,24231.400390625,24307.69921875,24622.900390625,24578.150390625,24857.5,24744.55078125,24744.55078125,24744.55078125,24880.599609375,25152.849609375,25190.400390625,25002.849609375,24629.5,24629.5,24629.5,24854.150390625,24942.19921875,24519.25,24300.44921875,23958.25,23958.25,23958.25,24051.05078125,24051.05078125,24188.75,24495.19921875,24125.30078125,24125.30078125,24125.30078125,24140.55078125,24080.599609375,24084.94921875,24374.75,24374.75,24374.75,24374.75,24351.25,24302.0,24253.05078125,24354.349609375,24389.19921875,24389.19921875,24389.19921875,24389.19921875,24272.599609375,24192.400390625,24324.849609375,24409.5,24409.5,24409.5,24468.5,24779.150390625,24818.349609375,24857.25,24840.30078125,24840.30078125,24840.30078125,24948.150390625,25059.75,24984.650390625,24934.099609375,24704.55078125,24704.55078125,24704.55078125,24361.55078125,24105.599609375,24308.69921875,23804.05078125,24114.0,24114.0,24114.0,24114.0,24200.599609375,24124.150390625,24114.75,24083.55078125,24083.55078125,24083.55078125,24209.55078125,24304.80078125,24411.44921875,24151.44921875,24411.099609375,24411.099609375,24411.099609375,24815.400390625,24697.25,24354.75,24238.400390625,24238.400390625,24238.400390625,24238.400390625,24085.44921875,24141.94921875,24980.650390625,24953.94921875,24887.599609375,24887.599609375,24887.599609375,24873.650390625,25042.099609375,25197.30078125,25508.400390625,25531.400390625,25531.400390625,25531.400390625,25569.0,25669.099609375,25375.80078125,25281.0,25250.900390625,25250.900390625,25250.900390625,25570.25,25352.55078125,25241.650390625,25292.900390625,25875.69921875,25875.69921875,25875.69921875,25733.69921875,25829.30078125,25805.650390625,25826.30078125,25776.599609375,25776.599609375,25776.599609375,25693.05078125,25830.44921875,25829.650390625,25693.80078125,25409.55078125,25409.55078125,25409.55078125,25295.05078125,25030.75,25066.30078125,24935.30078125,25145.5,25145.5,25145.5,25434.75,25413.400390625,25118.19921875,25062.400390625,25487.150390625,25487.150390625,25487.150390625,25181.75,25640.900390625,25779.05078125,25608.25,25615.599609375,25615.599609375,25615.599609375,25615.599609375,25659.75,25652.849609375,25463.599609375,25484.849609375,25484.849609375,25484.849609375,25484.849609375,25382.19921875,25425.75,25367.650390625,25524.44921875,25524.44921875,25524.44921875,25690.25,25727.94921875,25709.900390625,25628.19921875,25732.400390625,25732.400390625,25732.400390625,25858.150390625,26129.150390625,25946.150390625,26762.25,26615.650390625,26615.650390625,26615.650390625,26940.5,27089.94921875,27310.150390625,27414.099609375,27414.099609375,27414.099609375,27414.099609375,27446.099609375,27466.849609375,27136.25,27334.849609375,27017.400390625,27017.400390625,27017.400390625,25968.150390625,25140.099609375,26065.400390625,25759.849609375,25466.30078125,25466.30078125,25466.30078125,25530.099609375,25530.099609375,25810.25,25360.900390625,25511.94921875,25511.94921875,25511.94921875,25324.599609375,25105.55078125,24996.599609375,24812.69921875,25002.25,25002.25,25002.25,25452.0,25684.599609375,25116.25,25022.349609375,25022.349609375,25022.349609375,25022.349609375,24831.349609375,24964.099609375,24333.849609375,24273.900390625,24556.94921875,24556.94921875,24556.94921875,24443.599609375,24624.599609375,24629.650390625,24854.30078125,24753.650390625,24753.650390625,24753.650390625,24530.150390625,24133.94921875,24331.30078125,24252.94921875,23785.650390625,23785.650390625,23785.650390625,23674.900390625,24396.400390625,24299.5,24299.5,24299.5,24299.5,24299.5,24235.650390625,24285.94921875,24502.5,24394.44921875,24776.349609375,24776.349609375,24776.349609375,24848.849609375,25153.599609375,25198.349609375,25076.900390625,25239.650390625,25239.650390625,25239.650390625,25082.099609375,25383.75,25426.75,25206.44921875,25126.80078125,25126.80078125,25126.80078125,25065.5,24972.19921875,24993.400390625,24833.19921875,25030.150390625,25030.150390625,25030.150390625,25490.150390625,25490.150390625,25607.05078125,25547.900390625,25632.30078125,25632.30078125,25632.30078125,25676.25,26074.150390625,25988.099609375,26216.099609375,26173.69921875,26173.69921875,26173.69921875,26404.44921875,26494.900390625,26269.349609375,26233.19921875,26025.599609375,26025.599609375,26025.599609375,26017.5,25780.25,25726.94921875,25722.900390625,26066.75,26066.75,26066.75,26291.650390625,26567.25,26039.900390625,26587.0,26913.400390625,26913.400390625,26913.400390625,27023.69921875,26263.0,26266.900390625,26577.94921875,26457.25,26457.25,26457.25,26473.19921875,26566.599609375,26721.94921875,26612.30078125,26513.69921875,26513.69921875,26513.69921875,26444.30078125,26448.099609375,26320.44921875,26645.30078125,26518.400390625,26518.400390625,26518.400390625,26718.150390625,26495.650390625,26616.30078125,26398.099609375,26312.69921875,26312.69921875,26312.69921875,26364.44921875,26210.099609375,26249.25,26481.55078125,26427.55078125,26427.55078125,26427.55078125,26642.349609375,26844.55078125,26900.650390625,26937.5,27046.849609375,27046.849609375,27046.849609375,26914.5,26662.849609375,27107.349609375,26960.19921875,26764.400390625,26764.400390625,26764.400390625,26701.30078125,26984.150390625,26992.55078125,27054.69921875,27497.80078125,27497.80078125,27497.80078125,27767.650390625,27797.19921875,27684.80078125,27469.5,27471.94921875,27471.94921875,27471.94921875,27769.55078125,27972.94921875,27930.55078125,28173.650390625,28348.94921875,28348.94921875,28348.94921875,27760.80078125,27864.400390625,27864.400390625,27836.150390625,27991.75,27991.75,27991.75,28171.650390625,28295.849609375,28295.849609375,28321.94921875,27954.25,27954.25,27954.25,27971.25,28379.900390625,28233.400390625,28233.69921875,27998.0,27998.0,27998.0,28199.44921875,27845.55078125,27409.30078125,27464.25,27439.25,27439.25,27439.25,27395.19921875,27295.19921875,26895.150390625,26895.150390625,27059.849609375,27059.849609375,27059.849609375,27002.599609375,26757.0,26532.0,26532.0,26331.05078125,26331.05078125,26331.05078125,25645.05078125,24947.69921875,25525.099609375,25442.099609375,25135.80078125,25135.80078125,25135.80078125,24943.900390625,24943.900390625,25290.55078125,24735.150390625,24741.650390625,24741.650390625,24741.650390625,24470.75,24703.650390625,24596.599609375,24541.75,25001.94921875,25001.94921875,25001.94921875,25444.0,25414.19921875,25839.099609375,25839.099609375,24966.5,24966.5,24966.5,25484.25,24786.900390625,25312.69921875,24841.5,24771.849609375,24771.849609375,24771.849609375,24647.94921875,24924.75,24823.80078125,25285.19921875,25545.349609375,25545.349609375,25545.349609375,25731.55078125,25747.400390625,25818.099609375,25818.099609375,25742.55078125,25742.55078125,25742.55078125,25816.150390625,25422.0,25952.400390625,25946.19921875,26205.349609375,26205.349609375,26205.349609375,26364.599609375,26211.5,26105.44921875,26233.650390625,26233.650390625,26233.650390625,26233.650390625,26096.0,26286.099609375,26489.650390625,26641.599609375,27009.30078125,27009.30078125,27009.30078125,27032.900390625,26809.5,26572.099609375,26339.099609375,26307.400390625,26307.400390625,26307.400390625,26073.650390625,25602.25,26286.25,26844.150390625,26810.849609375,26810.849609375,26810.849609375,26915.44921875,26917.30078125,27229.05078125,27128.650390625,27261.25,27261.25,27261.25,26877.05078125,26877.05078125,26634.0,27200.650390625,27048.400390625,27048.400390625,27048.400390625,27267.80078125,27267.80078125,27297.0,27181.599609375,26999.69921875,26999.69921875,26999.69921875,27378.650390625,27301.900390625,27651.25,27713.55078125,27602.80078125,27602.80078125,27602.80078125,27389.19921875,27317.55078125,27405.650390625,27568.599609375,27550.05078125,27550.05078125,27550.05078125,27514.55078125,27526.55078125,27493.099609375,27273.5,27261.44921875,27261.44921875,27261.44921875,27041.44921875,26616.25,26789.75,26969.150390625,27334.55078125,27334.55078125,27334.55078125,26974.0,27226.05078125,27326.19921875,27424.099609375,27302.650390625,27302.650390625,27302.650390625,27240.5,27166.900390625,27166.900390625,26978.0,27017.19921875,27017.19921875,27017.19921875,26754.599609375,26666.55078125,26786.0,26994.75,26960.05078125,26960.05078125,26960.05078125,26934.19921875,26853.80078125,27078.099609375,26878.0,26941.0,26941.0,26941.0,26941.0,27068.150390625,27618.099609375,27661.0,27686.150390625,27686.150390625,27686.150390625,27840.099609375,28168.19921875,28480.30078125,29028.900390625,29007.0,29007.0,29007.0,29521.599609375,29702.599609375,29769.650390625,29769.650390625,29920.75,29920.75,29920.75,29329.400390625,29300.400390625,30034.150390625,30064.80078125,30064.80078125,30064.80078125,30064.80078125,30537.599609375,30450.099609375,30440.849609375,30147.30078125,30002.849609375,30002.849609375,30002.849609375,30201.5,29901.5,29916.599609375,29841.849609375,29780.55078125,29780.55078125,29780.55078125,29983.5,30236.25,30236.25,30656.5,30656.5,30656.5,30656.5,30282.5,29761.94921875,29550.5,29927.05078125,29764.849609375,29764.849609375,29764.849609375,29764.849609375,29920.400390625,29920.400390625,29699.80078125,29811.650390625,29811.650390625,29811.650390625,29626.5,29749.55078125,29261.30078125,28893.94921875,28927.599609375,28927.599609375,28927.599609375,29026.650390625,28718.75,28925.44921875,28625.900390625,28881.400390625,28881.400390625,28881.400390625,30230.400390625,30862.099609375,30410.650390625,30962.80078125,30685.5,30685.5,30685.5,31234.900390625,31711.30078125,31459.25,31256.849609375,31678.900390625,31678.900390625,31678.900390625,31406.05078125,31532.900390625,31532.900390625,31523.94921875,30943.150390625,30943.150390625,30943.150390625,31259.19921875,31172.25,31219.30078125,30876.75,30983.44921875,30983.44921875,30983.44921875,30652.0,30299.44921875,30526.5,30390.19921875,30804.94921875,30804.94921875,30804.94921875,30680.94921875,30567.650390625,30809.19921875,31192.099609375,31281.0,31281.0,31281.0,31271.0,31414.650390625,31347.69921875,31471.0,31523.05078125,31523.05078125,31523.05078125,31346.849609375,30533.400390625,30618.05078125,30707.0,30789.75,30789.75,30789.75,30688.849609375,30532.650390625,30622.25,30705.80078125,30515.099609375,30515.099609375,30515.099609375,29617.05078125,29342.44921875,29085.44921875,28981.05078125,29062.5,29062.5,29062.5,29583.44921875,29434.849609375,28575.44921875,28660.5,28224.25,28224.25,28224.25,27841.19921875,27518.5,28053.849609375,27840.099609375,28293.650390625,28293.650390625,28293.650390625,28293.650390625,28356.80078125,27885.5,27885.5,27920.30078125,27920.30078125,27920.30078125,28331.25,28029.80078125,28021.0,27690.05078125,26835.349609375,26835.349609375,26835.349609375,27663.94921875,28106.30078125,28080.25,27694.94921875,27407.900390625,27407.900390625,27407.900390625,27407.900390625,27239.19921875,26785.94921875,27086.94921875,26986.5,26986.5,26986.5,27240.349609375,27240.349609375,27639.05078125,27870.80078125,27772.0,27772.0,27772.0,27868.0,27765.099609375,27304.69921875,27175.44921875,26878.650390625,26878.650390625,26878.650390625,30039.400390625,30432.0,30029.05078125,29640.55078125,29974.94921875,29974.94921875,29974.94921875,29674.80078125,29226.150390625,29226.150390625,28606.69921875,28681.900390625,28681.900390625,28681.900390625,27909.900390625,27909.900390625,27901.650390625,28542.94921875,28245.55078125,28245.55078125,28245.55078125,28238.5,28257.849609375,28689.44921875,28596.349609375,28954.80078125,28954.80078125,28954.80078125,28954.80078125,29416.25,29478.849609375,29604.349609375,29228.650390625,29228.650390625,29228.650390625,29228.650390625,29527.599609375,30005.69921875,30168.650390625,30196.150390625,30196.150390625,30196.150390625,30415.900390625,30403.25,30225.19921875,30722.599609375,30571.30078125,30571.30078125,30571.30078125,30664.650390625,30664.650390625,31084.75,30615.80078125,30912.400390625,30912.400390625,30912.400390625,31036.80078125,31045.150390625,31292.349609375,31413.25,31389.599609375,31389.599609375,31389.599609375,31065.099609375,31692.849609375,31832.75,31981.69921875,32074.150390625,32074.150390625,32074.150390625,32008.30078125,31920.099609375,31549.30078125,32083.80078125,31797.150390625,31797.150390625,31797.150390625,31321.400390625,31386.400390625,31151.650390625,31356.80078125,31775.55078125,31775.55078125,31775.55078125,32159.0,32082.400390625,32292.25,32281.650390625,32266.849609375,32266.849609375,32266.849609375,32381.0,32337.80078125,32337.80078125,32276.150390625,32142.5,32142.5,32142.5,32486.599609375,32345.94921875,32345.94921875,32133.150390625,32326.94921875,32326.94921875,32326.94921875,31910.44921875,31598.05078125,30995.5,31748.25,32215.69921875,32215.69921875,32215.69921875,32139.099609375,32196.44921875,31994.75,31810.55078125,31571.650390625,31571.650390625,31571.650390625,31923.94921875,30978.849609375,31061.599609375,30742.19921875,31040.099609375,31040.099609375,31040.099609375,31110.55078125,30922.0,30915.099609375,30889.25,30950.5,30950.5,30950.5,29811.75,30235.30078125,30761.94921875,31070.75,31367.05078125,31367.05078125,31367.05078125,31248.650390625,31230.19921875,31441.150390625,31586.55078125,31281.849609375,31281.849609375,31281.849609375,30873.849609375,30661.5,30905.0,30862.30078125,30862.30078125,30862.30078125,30862.30078125,30666.349609375,30517.0,30279.94921875,30270.0,29501.55078125,29501.55078125,29501.55078125,29701.0,29012.55078125,29252.94921875,28830.30078125,27649.94921875,27649.94921875,27649.94921875,27031.44921875,27031.44921875,26272.75,25175.900390625,22720.75,22720.75,22720.75,24061.599609375,23348.05078125,22411.849609375,19428.94921875,19898.30078125,19898.30078125,19898.30078125,18311.30078125,17705.849609375,16759.94921875,18781.849609375,20801.599609375,20801.599609375,20801.599609375,19254.44921875,19307.650390625,19122.400390625,19122.400390625,18325.05078125,18325.05078125,18325.05078125,18325.05078125,18454.55078125,18799.400390625,19553.150390625,19553.150390625,19553.150390625,19553.150390625,19854.900390625,19854.900390625,20096.349609375,18957.150390625,20394.75,20394.75,20394.75,21104.69921875,19812.05078125,19306.94921875,19871.349609375,19697.650390625,19697.650390625,19697.650390625,19870.80078125,20436.599609375,20440.400390625,21589.19921875,21589.19921875,21589.19921875,21589.19921875,20514.75,20147.30078125,19302.44921875,19536.05078125,19844.0,19844.0,19844.0,19610.44921875,18751.400390625,20017.75,19197.69921875,19098.80078125,19098.80078125,19098.80078125,18795.099609375,18037.150390625,17486.5,17901.94921875,17554.25,17554.25,17554.25,17554.25,17537.650390625,17603.400390625,18924.44921875,18962.0,18962.0,18962.0,19728.900390625,20120.599609375,20966.599609375,20932.349609375,20516.400390625,20516.400390625,20516.400390625,21636.099609375,21295.5,20760.94921875,21084.69921875,19529.30078125,19529.30078125,19529.30078125,20457.150390625,20500.650390625,20137.44921875,20137.599609375,20970.099609375,20970.099609375,20970.099609375,21491.55078125,21859.25,22479.349609375,21218.05078125,21735.05078125,21735.05078125,21735.05078125,21291.55078125,21524.30078125,21354.099609375,22133.80078125,22101.75,22101.75,22101.75,22270.94921875,22254.30078125,22700.900390625,22753.150390625,22720.94921875,22720.94921875,22720.94921875,22613.25,21877.599609375,21634.25,21453.25,21608.05078125,21608.05078125,21608.05078125,22307.30078125,22639.849609375,23159.0,22854.849609375,22853.19921875,22853.19921875,22853.19921875,22664.599609375,21940.150390625,22075.0,22195.05078125,21730.55078125,21730.55078125,21730.55078125,21543.80078125,21248.25,21686.849609375,21644.25,21620.25,21620.25,21620.25,21824.900390625,22050.19921875,22135.94921875,22395.19921875,22334.94921875,22334.94921875,22334.94921875,21906.94921875,21702.0,22315.400390625,21989.900390625,22190.69921875,22190.69921875,22190.69921875,22436.849609375,22973.400390625,23175.55078125,23511.44921875,23635.30078125,23635.30078125,23635.30078125,25038.80078125,23893.80078125,23769.0,23986.150390625,23119.150390625,23119.150390625,23119.150390625,23036.25,22971.19921875,22486.69921875,22466.55078125,22509.94921875,22509.94921875,22509.94921875,22683.349609375,22202.80078125,22476.30078125,22352.0,22439.349609375,22439.349609375,22439.349609375,21983.400390625,21445.25,21350.80078125,20898.80078125,20740.80078125,20740.80078125,20740.80078125,21152.05078125,21770.900390625,21405.25,21685.25,21685.25,21685.25,21685.25,22352.099609375,22673.05078125,22836.94921875,23150.25,23312.599609375,23312.599609375,23312.599609375,23955.599609375,23663.05078125,23353.150390625,23920.349609375,23219.849609375,23219.849609375,23219.849609375,23902.900390625,24117.349609375,24444.19921875,24447.349609375,24669.19921875,24669.19921875,24669.19921875,24525.80078125,24288.05078125,24737.849609375,24063.5,24090.150390625,24090.150390625,24090.150390625,24367.599609375,25108.0,25539.55078125,26174.80078125,26274.099609375,26274.099609375,26274.099609375,27088.94921875,28039.44921875,28713.150390625,28633.75,28108.69921875,28108.69921875,28108.69921875,28108.69921875,28792.25,29107.900390625,29302.599609375,28935.75,28935.75,28935.75,29432.80078125,29265.599609375,30021.900390625,29370.400390625,29622.0,29622.0,29622.0,29622.0,29844.80078125,29876.69921875,29728.900390625,29573.400390625,29573.400390625,29573.400390625,30062.599609375,30300.30078125,30335.05078125,30545.349609375,30555.30078125,30555.30078125,30555.30078125,30735.150390625,30805.400390625,30920.349609375,30791.19921875,30841.849609375,30841.849609375,30841.849609375,30595.80078125,29607.5,29560.75,30071.650390625,30071.650390625,30071.650390625,30071.650390625,30558.849609375,31006.900390625,31479.80078125,31295.900390625,31295.900390625,31295.900390625,31295.900390625,31485.150390625,31041.099609375,31839.94921875,32129.80078125,32298.05078125,32298.05078125,32298.05078125,32280.30078125,31835.05078125,32546.599609375,32526.69921875,32508.900390625,32508.900390625,32508.900390625,32275.150390625,32082.900390625,32388.94921875,32732.80078125,32088.0,32088.0,32088.0,31507.150390625,31507.150390625,31236.25,29812.30078125,30700.650390625,30700.650390625,30700.650390625,30976.349609375,33589.05078125,34555.6015625,34548.8984375,35634.94921875,35634.94921875,35634.94921875,36073.8515625,36058.80078125,36042.3515625,35687.25,35736.6015625,35736.6015625,35736.6015625,36501.3984375,37492.6015625,37041.94921875,37088.75,36371.55078125,36371.55078125,36371.55078125,35874.30078125,35540.55078125,35205.3984375,36763.1484375,35806.6484375,35806.6484375,35806.6484375,35374.25,35458.1484375,35754.44921875,35575.6484375,35458.5,35458.5,35458.5,35462.44921875,35705.8984375,36112.25,36112.25,36497.3515625,36497.3515625,36497.3515625,35544.25,35352.0,34905.05078125,34577.5,33590.3984375,33590.3984375,33590.3984375,34088.3984375,33747.94921875,33894.69921875,33420.75,33605.05078125,33605.05078125,33605.05078125,33605.05078125,33615.8984375,33764.80078125,33588.0,33588.0,33588.0,33588.0,33649.1484375,32915.6484375,32529.69921875,33154.19921875,32636.900390625,32636.900390625,32636.900390625,31637.900390625,30901.80078125,30901.80078125,31929.099609375,32161.44921875,32161.44921875,32161.44921875,30993.44921875,31568.94921875,31568.94921875,30763.5,31490.599609375,31490.599609375,31490.599609375,32316.650390625,32228.94921875,32865.5,33901.6015625,33112.3984375,33112.3984375,33112.3984375,32368.55078125,32610.400390625,32577.099609375,32900.75,33041.6484375,33041.6484375,33041.6484375,33175.30078125,32640.94921875,32717.650390625,32717.650390625,32495.150390625,32495.150390625,32495.150390625,32437.849609375,33893.1015625,33717.1015625,33692.55078125,33559.80078125,33559.80078125,33559.80078125,34869.30078125,35095.0,34757.1484375,34664.19921875,35345.6484375,35345.6484375,35345.6484375,35097.44921875,35639.75,35271.6015625,35536.44921875,35657.8515625,35657.8515625,35657.8515625,35460.80078125,35433.80078125,35114.25,34903.6015625,35324.6484375,35324.6484375,35324.6484375,34936.55078125,35038.05078125,35196.25,34619.80078125,34735.1484375,34735.1484375,34735.1484375,34109.44921875,35084.8984375,34911.8515625,34687.69921875,34916.6484375,34916.6484375,34916.6484375,35488.19921875,35320.44921875,35001.8984375,34866.0,34728.1015625,34728.1015625,34728.1015625,35010.94921875,35173.6015625,35550.6015625,35603.25,35163.75,35163.75,35163.75,35285.05078125,35480.05078125,35585.8515625,35757.44921875,35977.94921875,35977.94921875,35977.94921875,35070.5,34791.1484375,34791.1484375,34774.55078125,34748.3515625,34748.3515625,34748.3515625,34947.8515625,35029.30078125,34839.44921875,34740.30078125,34698.75,34698.75,34698.75,34760.8984375,34660.75,35388.1484375,36093.94921875,35875.80078125,35875.80078125,35875.80078125,35824.19921875,35954.55078125,36218.25,35825.3984375,36000.75,36000.75,36000.75,36100.6484375,35935.05078125,36222.5,36222.5,35146.5,35146.5,35146.5,35424.19921875,35200.75,35768.8515625,35485.94921875,35559.75,35559.75,35559.75,35781.05078125,36367.3984375,36591.44921875,36588.3984375,36883.6484375,36883.6484375,36883.6484375,36878.25,36558.8515625,36519.69921875,36725.5,36725.5,36725.5,36725.5,36608.44921875,36639.94921875,36543.55078125,36946.0,37929.5,37929.5,37929.5,37388.19921875,37238.3984375,37277.1015625,37241.25,37954.0,37954.0,37954.0,38054.75,38360.0,37601.1015625,37677.80078125,37140.3984375,37140.3984375,37140.3984375,37392.1484375,37499.80078125,37768.80078125,37894.0,37906.3984375,37906.3984375,37906.3984375,37782.75,38178.3515625,38735.30078125,38684.6484375,38684.6484375,38684.6484375,38684.6484375,39794.25,39927.30078125,39545.44921875,39676.55078125,40192.6484375,40192.6484375,40192.6484375,40961.25,41057.75,41234.55078125,40915.1484375,39424.55078125,39424.55078125,39424.55078125,39432.1484375,39796.8984375,40040.6484375,39669.1015625,39669.1015625,39669.1015625,39669.1015625,39674.05078125,39517.8515625,39206.19921875,38913.05078125,38707.1484375,38707.1484375,38707.1484375,38849.44921875,38710.8984375,38113.3984375,38071.8984375,38071.8984375,38071.8984375,38071.8984375,38232.1484375,36787.0,37384.75,37362.05078125,36830.8984375,36830.8984375,36830.8984375,36224.44921875,35958.80078125,35902.8984375,36281.8515625,36497.30078125,36497.30078125,36497.30078125,36252.75,36086.94921875,37052.75,37331.75,37083.1484375,37083.1484375,37083.1484375,37358.19921875,36778.94921875,36929.5,37092.94921875,36491.80078125,36491.80078125,36491.80078125,35124.3515625,34863.3515625,34865.25,35350.5,35282.19921875,35282.19921875,35282.19921875,34573.6484375,35308.30078125,35168.8515625,34977.6484375,35114.3984375,35114.3984375,35114.3984375,35585.19921875,36551.25,36943.55078125,37242.55078125,37667.05078125,37667.05078125,37667.05078125,37930.55078125,38370.0,38719.6015625,38717.55078125,38302.3515625,38302.3515625,38302.3515625,38212.55078125,38337.3984375,38145.75,38106.1015625,37522.3515625,37522.3515625,37522.3515625,37601.94921875,36598.05078125,36598.05078125,37058.19921875,38246.6015625,38246.6015625,38246.6015625,38091.80078125,38460.44921875,38841.55078125,39255.69921875,39128.0,39128.0,39128.0,38592.05078125,38176.1015625,38283.6015625,38801.44921875,38567.6484375,38567.6484375,38567.6484375,37664.0,36989.80078125,38296.5,38042.1015625,37344.44921875,37344.44921875,37344.44921875,37400.0,36833.0,37628.55078125,36085.19921875,35901.69921875,35901.69921875,35901.69921875,35938.94921875,35938.94921875,35381.8984375,35621.1484375,34526.1015625,34526.1015625,34526.1015625,33278.1484375,32531.900390625,33278.8984375,35153.94921875,34331.0,34331.0,34331.0,34660.25,35467.94921875,35555.75,36302.0,36302.0,36302.0,36302.0,36545.8515625,35975.6015625,36627.69921875,35633.69921875,35700.3984375,35700.3984375,35700.3984375,35488.69921875,35931.75,36241.55078125,36457.19921875,36298.3515625,36298.3515625,36298.3515625,37824.94921875,38731.30078125,37711.30078125,37421.75,37619.69921875,37619.69921875,37619.69921875,37591.75,37407.3984375,37887.30078125,37887.30078125,37887.30078125,37887.30078125,37887.30078125,36833.1484375,36806.80078125,36482.6015625,36513.1015625,36514.1484375,36514.1484375,36514.1484375,35792.3515625,36515.3515625,36067.55078125,36189.94921875,36474.05078125,36474.05078125,36474.05078125,35627.6015625,35627.6015625,36266.1484375,35705.3515625,34569.1015625,34569.1015625,34569.1015625,34091.75,34181.19921875,34686.30078125,34289.1015625,33925.94921875,33925.94921875,33925.94921875,33256.0,33796.19921875,34448.19921875,33461.0,33765.1484375,33765.1484375,33765.1484375,34321.3984375,34223.19921875,34491.80078125,34670.6015625,35326.6015625,35326.6015625,35326.6015625,35958.80078125,35615.30078125,35358.94921875,35470.94921875,35929.55078125,35929.55078125,35929.55078125,35159.1484375,35080.80078125,35165.6484375,34802.25,34686.94921875,34686.94921875,34686.94921875,33728.6484375,33180.6015625,33317.80078125,33648.80078125,32393.44921875,32393.44921875,32393.44921875,32873.3984375,32978.05078125,33051.6484375,32927.3984375,33434.80078125,33434.80078125,33434.80078125,34126.19921875,33578.19921875,33273.55078125,33180.69921875,33264.75,33264.75,33264.75,33558.8515625,34084.69921875,33929.3984375,34627.3984375,35258.8984375,35258.8984375,35258.8984375,35017.6015625,35298.69921875,35259.80078125,34817.94921875,34734.44921875,34734.44921875,34734.44921875,34841.8515625,35113.25,36061.30078125,36026.55078125,36322.8984375,36322.8984375,36322.8984375,36766.69921875,36688.55078125,36370.55078125,37102.44921875,37717.30078125,37717.30078125,37717.30078125,37594.1484375,37767.69921875,37954.55078125,38111.05078125,37868.25,37868.25,37868.25,37847.3515625,37847.3515625,38298.8515625,38712.94921875,38942.44921875,38942.44921875,38942.44921875,38942.44921875,39284.1015625,39351.30078125,39324.3984375,39732.6484375,39732.6484375,39732.6484375,38693.6484375,37955.44921875,38552.69921875,39190.05078125,39129.6484375,39129.6484375,39129.6484375,38111.6015625,38516.94921875,38516.94921875,38806.69921875,39422.30078125,39422.30078125,39422.30078125,39412.05078125,39892.94921875,39337.75,39763.8984375,40520.75,40520.75,40520.75,40540.44921875,40802.1015625,40308.80078125,41533.69921875,40977.19921875,40977.19921875,40977.19921875,40685.6015625,41304.1484375,41282.6015625,40889.05078125,40429.3515625,40429.3515625,40429.3515625,39027.8515625,38811.69921875,38081.25,38092.8515625,37660.0,37660.0,37660.0,38444.8984375,38700.3984375,38700.3984375,39343.69921875,39093.5,39093.5,39093.5,38641.55078125,39058.8515625,38784.19921875,38957.6484375,39446.05078125,39446.05078125,39446.05078125,39295.6015625,40252.05078125,40556.6484375,40149.5,40370.75,40370.75,40370.75,41348.3515625,41513.6484375,41513.6484375,41440.69921875,41236.80078125,41236.80078125,41236.80078125,41265.69921875,41552.3984375,41472.6015625,40873.69921875,41314.8515625,41314.8515625,41314.8515625,41740.6484375,41740.6484375,41914.8515625,41462.8515625,42163.3984375,42163.3984375,42163.3984375,42177.55078125,42234.8515625,42371.80078125,42399.6484375,42545.75,42545.75,42545.75,42286.94921875,42467.3984375,42668.55078125,42838.3515625,43192.44921875,43192.44921875,43192.44921875,42757.19921875,42959.3984375,43122.75,43512.1015625,42976.69921875,42976.69921875,42976.69921875,43269.3515625,43093.8984375,43157.3515625,43142.25,43765.30078125,43765.30078125,43765.30078125,43455.8515625,43793.69921875,44078.6015625,43940.1015625,43261.75,43261.75,43261.75,43346.3515625,43152.6484375,43525.75,42864.0,41951.3515625,41951.3515625,41951.3515625,41951.3515625,42827.75,42733.6015625,42684.8984375,43401.69921875,43401.69921875,43401.69921875,43038.25,43151.44921875,43417.5,43073.05078125,42649.69921875,42649.69921875,42649.69921875,42404.8515625,42642.0,42071.8515625,42238.5,42171.25,42171.25,42171.25,42622.5,42241.19921875,42271.80078125,42416.30078125,42516.05078125,42516.05078125,42516.05078125,42891.44921875,42994.44921875,42703.6015625,42703.6015625,41382.3515625,41382.3515625,41382.3515625,39856.1484375,40563.8515625,41115.0,39943.3515625,41019.3515625,41019.3515625,41019.3515625,41530.1484375,41513.1015625,41542.05078125,41634.0,41452.3984375,41452.3984375,41452.3984375,41563.5,41410.44921875,41674.6015625,41925.69921875,41514.0,41514.0,41514.0,41221.55078125,40784.8984375,40494.1484375,39983.69921875,40259.1015625,40259.1015625,40259.1015625,39820.3984375,40302.69921875,40473.8515625,40604.55078125,40671.3984375,40671.3984375,40671.3984375,41418.3984375,41418.3984375,41178.3515625,41532.6484375,40805.25,40805.25,40805.25,40356.1015625,39522.3984375,39777.8984375,39061.69921875,39442.3984375,39442.3984375,39442.3984375,39512.1015625,39599.6484375,40036.0,39836.1484375,39555.25,39555.25,39555.25,39484.69921875,39545.05078125,39611.55078125,39611.55078125,40231.25],\"x\":[\"2008-01-01T00:00:00\",\"2008-01-02T00:00:00\",\"2008-01-03T00:00:00\",\"2008-01-04T00:00:00\",\"2008-01-05T00:00:00\",\"2008-01-06T00:00:00\",\"2008-01-07T00:00:00\",\"2008-01-08T00:00:00\",\"2008-01-09T00:00:00\",\"2008-01-10T00:00:00\",\"2008-01-11T00:00:00\",\"2008-01-12T00:00:00\",\"2008-01-13T00:00:00\",\"2008-01-14T00:00:00\",\"2008-01-15T00:00:00\",\"2008-01-16T00:00:00\",\"2008-01-17T00:00:00\",\"2008-01-18T00:00:00\",\"2008-01-19T00:00:00\",\"2008-01-20T00:00:00\",\"2008-01-21T00:00:00\",\"2008-01-22T00:00:00\",\"2008-01-23T00:00:00\",\"2008-01-24T00:00:00\",\"2008-01-25T00:00:00\",\"2008-01-26T00:00:00\",\"2008-01-27T00:00:00\",\"2008-01-28T00:00:00\",\"2008-01-29T00:00:00\",\"2008-01-30T00:00:00\",\"2008-01-31T00:00:00\",\"2008-02-01T00:00:00\",\"2008-02-02T00:00:00\",\"2008-02-03T00:00:00\",\"2008-02-04T00:00:00\",\"2008-02-05T00:00:00\",\"2008-02-06T00:00:00\",\"2008-02-07T00:00:00\",\"2008-02-08T00:00:00\",\"2008-02-09T00:00:00\",\"2008-02-10T00:00:00\",\"2008-02-11T00:00:00\",\"2008-02-12T00:00:00\",\"2008-02-13T00:00:00\",\"2008-02-14T00:00:00\",\"2008-02-15T00:00:00\",\"2008-02-16T00:00:00\",\"2008-02-17T00:00:00\",\"2008-02-18T00:00:00\",\"2008-02-19T00:00:00\",\"2008-02-20T00:00:00\",\"2008-02-21T00:00:00\",\"2008-02-22T00:00:00\",\"2008-02-23T00:00:00\",\"2008-02-24T00:00:00\",\"2008-02-25T00:00:00\",\"2008-02-26T00:00:00\",\"2008-02-27T00:00:00\",\"2008-02-28T00:00:00\",\"2008-02-29T00:00:00\",\"2008-03-01T00:00:00\",\"2008-03-02T00:00:00\",\"2008-03-03T00:00:00\",\"2008-03-04T00:00:00\",\"2008-03-05T00:00:00\",\"2008-03-06T00:00:00\",\"2008-03-07T00:00:00\",\"2008-03-08T00:00:00\",\"2008-03-09T00:00:00\",\"2008-03-10T00:00:00\",\"2008-03-11T00:00:00\",\"2008-03-12T00:00:00\",\"2008-03-13T00:00:00\",\"2008-03-14T00:00:00\",\"2008-03-15T00:00:00\",\"2008-03-16T00:00:00\",\"2008-03-17T00:00:00\",\"2008-03-18T00:00:00\",\"2008-03-19T00:00:00\",\"2008-03-20T00:00:00\",\"2008-03-21T00:00:00\",\"2008-03-22T00:00:00\",\"2008-03-23T00:00:00\",\"2008-03-24T00:00:00\",\"2008-03-25T00:00:00\",\"2008-03-26T00:00:00\",\"2008-03-27T00:00:00\",\"2008-03-28T00:00:00\",\"2008-03-29T00:00:00\",\"2008-03-30T00:00:00\",\"2008-03-31T00:00:00\",\"2008-04-01T00:00:00\",\"2008-04-02T00:00:00\",\"2008-04-03T00:00:00\",\"2008-04-04T00:00:00\",\"2008-04-05T00:00:00\",\"2008-04-06T00:00:00\",\"2008-04-07T00:00:00\",\"2008-04-08T00:00:00\",\"2008-04-09T00:00:00\",\"2008-04-10T00:00:00\",\"2008-04-11T00:00:00\",\"2008-04-12T00:00:00\",\"2008-04-13T00:00:00\",\"2008-04-14T00:00:00\",\"2008-04-15T00:00:00\",\"2008-04-16T00:00:00\",\"2008-04-17T00:00:00\",\"2008-04-18T00:00:00\",\"2008-04-19T00:00:00\",\"2008-04-20T00:00:00\",\"2008-04-21T00:00:00\",\"2008-04-22T00:00:00\",\"2008-04-23T00:00:00\",\"2008-04-24T00:00:00\",\"2008-04-25T00:00:00\",\"2008-04-26T00:00:00\",\"2008-04-27T00:00:00\",\"2008-04-28T00:00:00\",\"2008-04-29T00:00:00\",\"2008-04-30T00:00:00\",\"2008-05-01T00:00:00\",\"2008-05-02T00:00:00\",\"2008-05-03T00:00:00\",\"2008-05-04T00:00:00\",\"2008-05-05T00:00:00\",\"2008-05-06T00:00:00\",\"2008-05-07T00:00:00\",\"2008-05-08T00:00:00\",\"2008-05-09T00:00:00\",\"2008-05-10T00:00:00\",\"2008-05-11T00:00:00\",\"2008-05-12T00:00:00\",\"2008-05-13T00:00:00\",\"2008-05-14T00:00:00\",\"2008-05-15T00:00:00\",\"2008-05-16T00:00:00\",\"2008-05-17T00:00:00\",\"2008-05-18T00:00:00\",\"2008-05-19T00:00:00\",\"2008-05-20T00:00:00\",\"2008-05-21T00:00:00\",\"2008-05-22T00:00:00\",\"2008-05-23T00:00:00\",\"2008-05-24T00:00:00\",\"2008-05-25T00:00:00\",\"2008-05-26T00:00:00\",\"2008-05-27T00:00:00\",\"2008-05-28T00:00:00\",\"2008-05-29T00:00:00\",\"2008-05-30T00:00:00\",\"2008-05-31T00:00:00\",\"2008-06-01T00:00:00\",\"2008-06-02T00:00:00\",\"2008-06-03T00:00:00\",\"2008-06-04T00:00:00\",\"2008-06-05T00:00:00\",\"2008-06-06T00:00:00\",\"2008-06-07T00:00:00\",\"2008-06-08T00:00:00\",\"2008-06-09T00:00:00\",\"2008-06-10T00:00:00\",\"2008-06-11T00:00:00\",\"2008-06-12T00:00:00\",\"2008-06-13T00:00:00\",\"2008-06-14T00:00:00\",\"2008-06-15T00:00:00\",\"2008-06-16T00:00:00\",\"2008-06-17T00:00:00\",\"2008-06-18T00:00:00\",\"2008-06-19T00:00:00\",\"2008-06-20T00:00:00\",\"2008-06-21T00:00:00\",\"2008-06-22T00:00:00\",\"2008-06-23T00:00:00\",\"2008-06-24T00:00:00\",\"2008-06-25T00:00:00\",\"2008-06-26T00:00:00\",\"2008-06-27T00:00:00\",\"2008-06-28T00:00:00\",\"2008-06-29T00:00:00\",\"2008-06-30T00:00:00\",\"2008-07-01T00:00:00\",\"2008-07-02T00:00:00\",\"2008-07-03T00:00:00\",\"2008-07-04T00:00:00\",\"2008-07-05T00:00:00\",\"2008-07-06T00:00:00\",\"2008-07-07T00:00:00\",\"2008-07-08T00:00:00\",\"2008-07-09T00:00:00\",\"2008-07-10T00:00:00\",\"2008-07-11T00:00:00\",\"2008-07-12T00:00:00\",\"2008-07-13T00:00:00\",\"2008-07-14T00:00:00\",\"2008-07-15T00:00:00\",\"2008-07-16T00:00:00\",\"2008-07-17T00:00:00\",\"2008-07-18T00:00:00\",\"2008-07-19T00:00:00\",\"2008-07-20T00:00:00\",\"2008-07-21T00:00:00\",\"2008-07-22T00:00:00\",\"2008-07-23T00:00:00\",\"2008-07-24T00:00:00\",\"2008-07-25T00:00:00\",\"2008-07-26T00:00:00\",\"2008-07-27T00:00:00\",\"2008-07-28T00:00:00\",\"2008-07-29T00:00:00\",\"2008-07-30T00:00:00\",\"2008-07-31T00:00:00\",\"2008-08-01T00:00:00\",\"2008-08-02T00:00:00\",\"2008-08-03T00:00:00\",\"2008-08-04T00:00:00\",\"2008-08-05T00:00:00\",\"2008-08-06T00:00:00\",\"2008-08-07T00:00:00\",\"2008-08-08T00:00:00\",\"2008-08-09T00:00:00\",\"2008-08-10T00:00:00\",\"2008-08-11T00:00:00\",\"2008-08-12T00:00:00\",\"2008-08-13T00:00:00\",\"2008-08-14T00:00:00\",\"2008-08-15T00:00:00\",\"2008-08-16T00:00:00\",\"2008-08-17T00:00:00\",\"2008-08-18T00:00:00\",\"2008-08-19T00:00:00\",\"2008-08-20T00:00:00\",\"2008-08-21T00:00:00\",\"2008-08-22T00:00:00\",\"2008-08-23T00:00:00\",\"2008-08-24T00:00:00\",\"2008-08-25T00:00:00\",\"2008-08-26T00:00:00\",\"2008-08-27T00:00:00\",\"2008-08-28T00:00:00\",\"2008-08-29T00:00:00\",\"2008-08-30T00:00:00\",\"2008-08-31T00:00:00\",\"2008-09-01T00:00:00\",\"2008-09-02T00:00:00\",\"2008-09-03T00:00:00\",\"2008-09-04T00:00:00\",\"2008-09-05T00:00:00\",\"2008-09-06T00:00:00\",\"2008-09-07T00:00:00\",\"2008-09-08T00:00:00\",\"2008-09-09T00:00:00\",\"2008-09-10T00:00:00\",\"2008-09-11T00:00:00\",\"2008-09-12T00:00:00\",\"2008-09-13T00:00:00\",\"2008-09-14T00:00:00\",\"2008-09-15T00:00:00\",\"2008-09-16T00:00:00\",\"2008-09-17T00:00:00\",\"2008-09-18T00:00:00\",\"2008-09-19T00:00:00\",\"2008-09-20T00:00:00\",\"2008-09-21T00:00:00\",\"2008-09-22T00:00:00\",\"2008-09-23T00:00:00\",\"2008-09-24T00:00:00\",\"2008-09-25T00:00:00\",\"2008-09-26T00:00:00\",\"2008-09-27T00:00:00\",\"2008-09-28T00:00:00\",\"2008-09-29T00:00:00\",\"2008-09-30T00:00:00\",\"2008-10-01T00:00:00\",\"2008-10-02T00:00:00\",\"2008-10-03T00:00:00\",\"2008-10-04T00:00:00\",\"2008-10-05T00:00:00\",\"2008-10-06T00:00:00\",\"2008-10-07T00:00:00\",\"2008-10-08T00:00:00\",\"2008-10-09T00:00:00\",\"2008-10-10T00:00:00\",\"2008-10-11T00:00:00\",\"2008-10-12T00:00:00\",\"2008-10-13T00:00:00\",\"2008-10-14T00:00:00\",\"2008-10-15T00:00:00\",\"2008-10-16T00:00:00\",\"2008-10-17T00:00:00\",\"2008-10-18T00:00:00\",\"2008-10-19T00:00:00\",\"2008-10-20T00:00:00\",\"2008-10-21T00:00:00\",\"2008-10-22T00:00:00\",\"2008-10-23T00:00:00\",\"2008-10-24T00:00:00\",\"2008-10-25T00:00:00\",\"2008-10-26T00:00:00\",\"2008-10-27T00:00:00\",\"2008-10-28T00:00:00\",\"2008-10-29T00:00:00\",\"2008-10-30T00:00:00\",\"2008-10-31T00:00:00\",\"2008-11-01T00:00:00\",\"2008-11-02T00:00:00\",\"2008-11-03T00:00:00\",\"2008-11-04T00:00:00\",\"2008-11-05T00:00:00\",\"2008-11-06T00:00:00\",\"2008-11-07T00:00:00\",\"2008-11-08T00:00:00\",\"2008-11-09T00:00:00\",\"2008-11-10T00:00:00\",\"2008-11-11T00:00:00\",\"2008-11-12T00:00:00\",\"2008-11-13T00:00:00\",\"2008-11-14T00:00:00\",\"2008-11-15T00:00:00\",\"2008-11-16T00:00:00\",\"2008-11-17T00:00:00\",\"2008-11-18T00:00:00\",\"2008-11-19T00:00:00\",\"2008-11-20T00:00:00\",\"2008-11-21T00:00:00\",\"2008-11-22T00:00:00\",\"2008-11-23T00:00:00\",\"2008-11-24T00:00:00\",\"2008-11-25T00:00:00\",\"2008-11-26T00:00:00\",\"2008-11-27T00:00:00\",\"2008-11-28T00:00:00\",\"2008-11-29T00:00:00\",\"2008-11-30T00:00:00\",\"2008-12-01T00:00:00\",\"2008-12-02T00:00:00\",\"2008-12-03T00:00:00\",\"2008-12-04T00:00:00\",\"2008-12-05T00:00:00\",\"2008-12-06T00:00:00\",\"2008-12-07T00:00:00\",\"2008-12-08T00:00:00\",\"2008-12-09T00:00:00\",\"2008-12-10T00:00:00\",\"2008-12-11T00:00:00\",\"2008-12-12T00:00:00\",\"2008-12-13T00:00:00\",\"2008-12-14T00:00:00\",\"2008-12-15T00:00:00\",\"2008-12-16T00:00:00\",\"2008-12-17T00:00:00\",\"2008-12-18T00:00:00\",\"2008-12-19T00:00:00\",\"2008-12-20T00:00:00\",\"2008-12-21T00:00:00\",\"2008-12-22T00:00:00\",\"2008-12-23T00:00:00\",\"2008-12-24T00:00:00\",\"2008-12-25T00:00:00\",\"2008-12-26T00:00:00\",\"2008-12-27T00:00:00\",\"2008-12-28T00:00:00\",\"2008-12-29T00:00:00\",\"2008-12-30T00:00:00\",\"2008-12-31T00:00:00\",\"2009-01-01T00:00:00\",\"2009-01-02T00:00:00\",\"2009-01-03T00:00:00\",\"2009-01-04T00:00:00\",\"2009-01-05T00:00:00\",\"2009-01-06T00:00:00\",\"2009-01-07T00:00:00\",\"2009-01-08T00:00:00\",\"2009-01-09T00:00:00\",\"2009-01-10T00:00:00\",\"2009-01-11T00:00:00\",\"2009-01-12T00:00:00\",\"2009-01-13T00:00:00\",\"2009-01-14T00:00:00\",\"2009-01-15T00:00:00\",\"2009-01-16T00:00:00\",\"2009-01-17T00:00:00\",\"2009-01-18T00:00:00\",\"2009-01-19T00:00:00\",\"2009-01-20T00:00:00\",\"2009-01-21T00:00:00\",\"2009-01-22T00:00:00\",\"2009-01-23T00:00:00\",\"2009-01-24T00:00:00\",\"2009-01-25T00:00:00\",\"2009-01-26T00:00:00\",\"2009-01-27T00:00:00\",\"2009-01-28T00:00:00\",\"2009-01-29T00:00:00\",\"2009-01-30T00:00:00\",\"2009-01-31T00:00:00\",\"2009-02-01T00:00:00\",\"2009-02-02T00:00:00\",\"2009-02-03T00:00:00\",\"2009-02-04T00:00:00\",\"2009-02-05T00:00:00\",\"2009-02-06T00:00:00\",\"2009-02-07T00:00:00\",\"2009-02-08T00:00:00\",\"2009-02-09T00:00:00\",\"2009-02-10T00:00:00\",\"2009-02-11T00:00:00\",\"2009-02-12T00:00:00\",\"2009-02-13T00:00:00\",\"2009-02-14T00:00:00\",\"2009-02-15T00:00:00\",\"2009-02-16T00:00:00\",\"2009-02-17T00:00:00\",\"2009-02-18T00:00:00\",\"2009-02-19T00:00:00\",\"2009-02-20T00:00:00\",\"2009-02-21T00:00:00\",\"2009-02-22T00:00:00\",\"2009-02-23T00:00:00\",\"2009-02-24T00:00:00\",\"2009-02-25T00:00:00\",\"2009-02-26T00:00:00\",\"2009-02-27T00:00:00\",\"2009-02-28T00:00:00\",\"2009-03-01T00:00:00\",\"2009-03-02T00:00:00\",\"2009-03-03T00:00:00\",\"2009-03-04T00:00:00\",\"2009-03-05T00:00:00\",\"2009-03-06T00:00:00\",\"2009-03-07T00:00:00\",\"2009-03-08T00:00:00\",\"2009-03-09T00:00:00\",\"2009-03-10T00:00:00\",\"2009-03-11T00:00:00\",\"2009-03-12T00:00:00\",\"2009-03-13T00:00:00\",\"2009-03-14T00:00:00\",\"2009-03-15T00:00:00\",\"2009-03-16T00:00:00\",\"2009-03-17T00:00:00\",\"2009-03-18T00:00:00\",\"2009-03-19T00:00:00\",\"2009-03-20T00:00:00\",\"2009-03-21T00:00:00\",\"2009-03-22T00:00:00\",\"2009-03-23T00:00:00\",\"2009-03-24T00:00:00\",\"2009-03-25T00:00:00\",\"2009-03-26T00:00:00\",\"2009-03-27T00:00:00\",\"2009-03-28T00:00:00\",\"2009-03-29T00:00:00\",\"2009-03-30T00:00:00\",\"2009-03-31T00:00:00\",\"2009-04-01T00:00:00\",\"2009-04-02T00:00:00\",\"2009-04-03T00:00:00\",\"2009-04-04T00:00:00\",\"2009-04-05T00:00:00\",\"2009-04-06T00:00:00\",\"2009-04-07T00:00:00\",\"2009-04-08T00:00:00\",\"2009-04-09T00:00:00\",\"2009-04-10T00:00:00\",\"2009-04-11T00:00:00\",\"2009-04-12T00:00:00\",\"2009-04-13T00:00:00\",\"2009-04-14T00:00:00\",\"2009-04-15T00:00:00\",\"2009-04-16T00:00:00\",\"2009-04-17T00:00:00\",\"2009-04-18T00:00:00\",\"2009-04-19T00:00:00\",\"2009-04-20T00:00:00\",\"2009-04-21T00:00:00\",\"2009-04-22T00:00:00\",\"2009-04-23T00:00:00\",\"2009-04-24T00:00:00\",\"2009-04-25T00:00:00\",\"2009-04-26T00:00:00\",\"2009-04-27T00:00:00\",\"2009-04-28T00:00:00\",\"2009-04-29T00:00:00\",\"2009-04-30T00:00:00\",\"2009-05-01T00:00:00\",\"2009-05-02T00:00:00\",\"2009-05-03T00:00:00\",\"2009-05-04T00:00:00\",\"2009-05-05T00:00:00\",\"2009-05-06T00:00:00\",\"2009-05-07T00:00:00\",\"2009-05-08T00:00:00\",\"2009-05-09T00:00:00\",\"2009-05-10T00:00:00\",\"2009-05-11T00:00:00\",\"2009-05-12T00:00:00\",\"2009-05-13T00:00:00\",\"2009-05-14T00:00:00\",\"2009-05-15T00:00:00\",\"2009-05-16T00:00:00\",\"2009-05-17T00:00:00\",\"2009-05-18T00:00:00\",\"2009-05-19T00:00:00\",\"2009-05-20T00:00:00\",\"2009-05-21T00:00:00\",\"2009-05-22T00:00:00\",\"2009-05-23T00:00:00\",\"2009-05-24T00:00:00\",\"2009-05-25T00:00:00\",\"2009-05-26T00:00:00\",\"2009-05-27T00:00:00\",\"2009-05-28T00:00:00\",\"2009-05-29T00:00:00\",\"2009-05-30T00:00:00\",\"2009-05-31T00:00:00\",\"2009-06-01T00:00:00\",\"2009-06-02T00:00:00\",\"2009-06-03T00:00:00\",\"2009-06-04T00:00:00\",\"2009-06-05T00:00:00\",\"2009-06-06T00:00:00\",\"2009-06-07T00:00:00\",\"2009-06-08T00:00:00\",\"2009-06-09T00:00:00\",\"2009-06-10T00:00:00\",\"2009-06-11T00:00:00\",\"2009-06-12T00:00:00\",\"2009-06-13T00:00:00\",\"2009-06-14T00:00:00\",\"2009-06-15T00:00:00\",\"2009-06-16T00:00:00\",\"2009-06-17T00:00:00\",\"2009-06-18T00:00:00\",\"2009-06-19T00:00:00\",\"2009-06-20T00:00:00\",\"2009-06-21T00:00:00\",\"2009-06-22T00:00:00\",\"2009-06-23T00:00:00\",\"2009-06-24T00:00:00\",\"2009-06-25T00:00:00\",\"2009-06-26T00:00:00\",\"2009-06-27T00:00:00\",\"2009-06-28T00:00:00\",\"2009-06-29T00:00:00\",\"2009-06-30T00:00:00\",\"2009-07-01T00:00:00\",\"2009-07-02T00:00:00\",\"2009-07-03T00:00:00\",\"2009-07-04T00:00:00\",\"2009-07-05T00:00:00\",\"2009-07-06T00:00:00\",\"2009-07-07T00:00:00\",\"2009-07-08T00:00:00\",\"2009-07-09T00:00:00\",\"2009-07-10T00:00:00\",\"2009-07-11T00:00:00\",\"2009-07-12T00:00:00\",\"2009-07-13T00:00:00\",\"2009-07-14T00:00:00\",\"2009-07-15T00:00:00\",\"2009-07-16T00:00:00\",\"2009-07-17T00:00:00\",\"2009-07-18T00:00:00\",\"2009-07-19T00:00:00\",\"2009-07-20T00:00:00\",\"2009-07-21T00:00:00\",\"2009-07-22T00:00:00\",\"2009-07-23T00:00:00\",\"2009-07-24T00:00:00\",\"2009-07-25T00:00:00\",\"2009-07-26T00:00:00\",\"2009-07-27T00:00:00\",\"2009-07-28T00:00:00\",\"2009-07-29T00:00:00\",\"2009-07-30T00:00:00\",\"2009-07-31T00:00:00\",\"2009-08-01T00:00:00\",\"2009-08-02T00:00:00\",\"2009-08-03T00:00:00\",\"2009-08-04T00:00:00\",\"2009-08-05T00:00:00\",\"2009-08-06T00:00:00\",\"2009-08-07T00:00:00\",\"2009-08-08T00:00:00\",\"2009-08-09T00:00:00\",\"2009-08-10T00:00:00\",\"2009-08-11T00:00:00\",\"2009-08-12T00:00:00\",\"2009-08-13T00:00:00\",\"2009-08-14T00:00:00\",\"2009-08-15T00:00:00\",\"2009-08-16T00:00:00\",\"2009-08-17T00:00:00\",\"2009-08-18T00:00:00\",\"2009-08-19T00:00:00\",\"2009-08-20T00:00:00\",\"2009-08-21T00:00:00\",\"2009-08-22T00:00:00\",\"2009-08-23T00:00:00\",\"2009-08-24T00:00:00\",\"2009-08-25T00:00:00\",\"2009-08-26T00:00:00\",\"2009-08-27T00:00:00\",\"2009-08-28T00:00:00\",\"2009-08-29T00:00:00\",\"2009-08-30T00:00:00\",\"2009-08-31T00:00:00\",\"2009-09-01T00:00:00\",\"2009-09-02T00:00:00\",\"2009-09-03T00:00:00\",\"2009-09-04T00:00:00\",\"2009-09-05T00:00:00\",\"2009-09-06T00:00:00\",\"2009-09-07T00:00:00\",\"2009-09-08T00:00:00\",\"2009-09-09T00:00:00\",\"2009-09-10T00:00:00\",\"2009-09-11T00:00:00\",\"2009-09-12T00:00:00\",\"2009-09-13T00:00:00\",\"2009-09-14T00:00:00\",\"2009-09-15T00:00:00\",\"2009-09-16T00:00:00\",\"2009-09-17T00:00:00\",\"2009-09-18T00:00:00\",\"2009-09-19T00:00:00\",\"2009-09-20T00:00:00\",\"2009-09-21T00:00:00\",\"2009-09-22T00:00:00\",\"2009-09-23T00:00:00\",\"2009-09-24T00:00:00\",\"2009-09-25T00:00:00\",\"2009-09-26T00:00:00\",\"2009-09-27T00:00:00\",\"2009-09-28T00:00:00\",\"2009-09-29T00:00:00\",\"2009-09-30T00:00:00\",\"2009-10-01T00:00:00\",\"2009-10-02T00:00:00\",\"2009-10-03T00:00:00\",\"2009-10-04T00:00:00\",\"2009-10-05T00:00:00\",\"2009-10-06T00:00:00\",\"2009-10-07T00:00:00\",\"2009-10-08T00:00:00\",\"2009-10-09T00:00:00\",\"2009-10-10T00:00:00\",\"2009-10-11T00:00:00\",\"2009-10-12T00:00:00\",\"2009-10-13T00:00:00\",\"2009-10-14T00:00:00\",\"2009-10-15T00:00:00\",\"2009-10-16T00:00:00\",\"2009-10-17T00:00:00\",\"2009-10-18T00:00:00\",\"2009-10-19T00:00:00\",\"2009-10-20T00:00:00\",\"2009-10-21T00:00:00\",\"2009-10-22T00:00:00\",\"2009-10-23T00:00:00\",\"2009-10-24T00:00:00\",\"2009-10-25T00:00:00\",\"2009-10-26T00:00:00\",\"2009-10-27T00:00:00\",\"2009-10-28T00:00:00\",\"2009-10-29T00:00:00\",\"2009-10-30T00:00:00\",\"2009-10-31T00:00:00\",\"2009-11-01T00:00:00\",\"2009-11-02T00:00:00\",\"2009-11-03T00:00:00\",\"2009-11-04T00:00:00\",\"2009-11-05T00:00:00\",\"2009-11-06T00:00:00\",\"2009-11-07T00:00:00\",\"2009-11-08T00:00:00\",\"2009-11-09T00:00:00\",\"2009-11-10T00:00:00\",\"2009-11-11T00:00:00\",\"2009-11-12T00:00:00\",\"2009-11-13T00:00:00\",\"2009-11-14T00:00:00\",\"2009-11-15T00:00:00\",\"2009-11-16T00:00:00\",\"2009-11-17T00:00:00\",\"2009-11-18T00:00:00\",\"2009-11-19T00:00:00\",\"2009-11-20T00:00:00\",\"2009-11-21T00:00:00\",\"2009-11-22T00:00:00\",\"2009-11-23T00:00:00\",\"2009-11-24T00:00:00\",\"2009-11-25T00:00:00\",\"2009-11-26T00:00:00\",\"2009-11-27T00:00:00\",\"2009-11-28T00:00:00\",\"2009-11-29T00:00:00\",\"2009-11-30T00:00:00\",\"2009-12-01T00:00:00\",\"2009-12-02T00:00:00\",\"2009-12-03T00:00:00\",\"2009-12-04T00:00:00\",\"2009-12-05T00:00:00\",\"2009-12-06T00:00:00\",\"2009-12-07T00:00:00\",\"2009-12-08T00:00:00\",\"2009-12-09T00:00:00\",\"2009-12-10T00:00:00\",\"2009-12-11T00:00:00\",\"2009-12-12T00:00:00\",\"2009-12-13T00:00:00\",\"2009-12-14T00:00:00\",\"2009-12-15T00:00:00\",\"2009-12-16T00:00:00\",\"2009-12-17T00:00:00\",\"2009-12-18T00:00:00\",\"2009-12-19T00:00:00\",\"2009-12-20T00:00:00\",\"2009-12-21T00:00:00\",\"2009-12-22T00:00:00\",\"2009-12-23T00:00:00\",\"2009-12-24T00:00:00\",\"2009-12-25T00:00:00\",\"2009-12-26T00:00:00\",\"2009-12-27T00:00:00\",\"2009-12-28T00:00:00\",\"2009-12-29T00:00:00\",\"2009-12-30T00:00:00\",\"2009-12-31T00:00:00\",\"2010-01-01T00:00:00\",\"2010-01-02T00:00:00\",\"2010-01-03T00:00:00\",\"2010-01-04T00:00:00\",\"2010-01-05T00:00:00\",\"2010-01-06T00:00:00\",\"2010-01-07T00:00:00\",\"2010-01-08T00:00:00\",\"2010-01-09T00:00:00\",\"2010-01-10T00:00:00\",\"2010-01-11T00:00:00\",\"2010-01-12T00:00:00\",\"2010-01-13T00:00:00\",\"2010-01-14T00:00:00\",\"2010-01-15T00:00:00\",\"2010-01-16T00:00:00\",\"2010-01-17T00:00:00\",\"2010-01-18T00:00:00\",\"2010-01-19T00:00:00\",\"2010-01-20T00:00:00\",\"2010-01-21T00:00:00\",\"2010-01-22T00:00:00\",\"2010-01-23T00:00:00\",\"2010-01-24T00:00:00\",\"2010-01-25T00:00:00\",\"2010-01-26T00:00:00\",\"2010-01-27T00:00:00\",\"2010-01-28T00:00:00\",\"2010-01-29T00:00:00\",\"2010-01-30T00:00:00\",\"2010-01-31T00:00:00\",\"2010-02-01T00:00:00\",\"2010-02-02T00:00:00\",\"2010-02-03T00:00:00\",\"2010-02-04T00:00:00\",\"2010-02-05T00:00:00\",\"2010-02-06T00:00:00\",\"2010-02-07T00:00:00\",\"2010-02-08T00:00:00\",\"2010-02-09T00:00:00\",\"2010-02-10T00:00:00\",\"2010-02-11T00:00:00\",\"2010-02-12T00:00:00\",\"2010-02-13T00:00:00\",\"2010-02-14T00:00:00\",\"2010-02-15T00:00:00\",\"2010-02-16T00:00:00\",\"2010-02-17T00:00:00\",\"2010-02-18T00:00:00\",\"2010-02-19T00:00:00\",\"2010-02-20T00:00:00\",\"2010-02-21T00:00:00\",\"2010-02-22T00:00:00\",\"2010-02-23T00:00:00\",\"2010-02-24T00:00:00\",\"2010-02-25T00:00:00\",\"2010-02-26T00:00:00\",\"2010-02-27T00:00:00\",\"2010-02-28T00:00:00\",\"2010-03-01T00:00:00\",\"2010-03-02T00:00:00\",\"2010-03-03T00:00:00\",\"2010-03-04T00:00:00\",\"2010-03-05T00:00:00\",\"2010-03-06T00:00:00\",\"2010-03-07T00:00:00\",\"2010-03-08T00:00:00\",\"2010-03-09T00:00:00\",\"2010-03-10T00:00:00\",\"2010-03-11T00:00:00\",\"2010-03-12T00:00:00\",\"2010-03-13T00:00:00\",\"2010-03-14T00:00:00\",\"2010-03-15T00:00:00\",\"2010-03-16T00:00:00\",\"2010-03-17T00:00:00\",\"2010-03-18T00:00:00\",\"2010-03-19T00:00:00\",\"2010-03-20T00:00:00\",\"2010-03-21T00:00:00\",\"2010-03-22T00:00:00\",\"2010-03-23T00:00:00\",\"2010-03-24T00:00:00\",\"2010-03-25T00:00:00\",\"2010-03-26T00:00:00\",\"2010-03-27T00:00:00\",\"2010-03-28T00:00:00\",\"2010-03-29T00:00:00\",\"2010-03-30T00:00:00\",\"2010-03-31T00:00:00\",\"2010-04-01T00:00:00\",\"2010-04-02T00:00:00\",\"2010-04-03T00:00:00\",\"2010-04-04T00:00:00\",\"2010-04-05T00:00:00\",\"2010-04-06T00:00:00\",\"2010-04-07T00:00:00\",\"2010-04-08T00:00:00\",\"2010-04-09T00:00:00\",\"2010-04-10T00:00:00\",\"2010-04-11T00:00:00\",\"2010-04-12T00:00:00\",\"2010-04-13T00:00:00\",\"2010-04-14T00:00:00\",\"2010-04-15T00:00:00\",\"2010-04-16T00:00:00\",\"2010-04-17T00:00:00\",\"2010-04-18T00:00:00\",\"2010-04-19T00:00:00\",\"2010-04-20T00:00:00\",\"2010-04-21T00:00:00\",\"2010-04-22T00:00:00\",\"2010-04-23T00:00:00\",\"2010-04-24T00:00:00\",\"2010-04-25T00:00:00\",\"2010-04-26T00:00:00\",\"2010-04-27T00:00:00\",\"2010-04-28T00:00:00\",\"2010-04-29T00:00:00\",\"2010-04-30T00:00:00\",\"2010-05-01T00:00:00\",\"2010-05-02T00:00:00\",\"2010-05-03T00:00:00\",\"2010-05-04T00:00:00\",\"2010-05-05T00:00:00\",\"2010-05-06T00:00:00\",\"2010-05-07T00:00:00\",\"2010-05-08T00:00:00\",\"2010-05-09T00:00:00\",\"2010-05-10T00:00:00\",\"2010-05-11T00:00:00\",\"2010-05-12T00:00:00\",\"2010-05-13T00:00:00\",\"2010-05-14T00:00:00\",\"2010-05-15T00:00:00\",\"2010-05-16T00:00:00\",\"2010-05-17T00:00:00\",\"2010-05-18T00:00:00\",\"2010-05-19T00:00:00\",\"2010-05-20T00:00:00\",\"2010-05-21T00:00:00\",\"2010-05-22T00:00:00\",\"2010-05-23T00:00:00\",\"2010-05-24T00:00:00\",\"2010-05-25T00:00:00\",\"2010-05-26T00:00:00\",\"2010-05-27T00:00:00\",\"2010-05-28T00:00:00\",\"2010-05-29T00:00:00\",\"2010-05-30T00:00:00\",\"2010-05-31T00:00:00\",\"2010-06-01T00:00:00\",\"2010-06-02T00:00:00\",\"2010-06-03T00:00:00\",\"2010-06-04T00:00:00\",\"2010-06-05T00:00:00\",\"2010-06-06T00:00:00\",\"2010-06-07T00:00:00\",\"2010-06-08T00:00:00\",\"2010-06-09T00:00:00\",\"2010-06-10T00:00:00\",\"2010-06-11T00:00:00\",\"2010-06-12T00:00:00\",\"2010-06-13T00:00:00\",\"2010-06-14T00:00:00\",\"2010-06-15T00:00:00\",\"2010-06-16T00:00:00\",\"2010-06-17T00:00:00\",\"2010-06-18T00:00:00\",\"2010-06-19T00:00:00\",\"2010-06-20T00:00:00\",\"2010-06-21T00:00:00\",\"2010-06-22T00:00:00\",\"2010-06-23T00:00:00\",\"2010-06-24T00:00:00\",\"2010-06-25T00:00:00\",\"2010-06-26T00:00:00\",\"2010-06-27T00:00:00\",\"2010-06-28T00:00:00\",\"2010-06-29T00:00:00\",\"2010-06-30T00:00:00\",\"2010-07-01T00:00:00\",\"2010-07-02T00:00:00\",\"2010-07-03T00:00:00\",\"2010-07-04T00:00:00\",\"2010-07-05T00:00:00\",\"2010-07-06T00:00:00\",\"2010-07-07T00:00:00\",\"2010-07-08T00:00:00\",\"2010-07-09T00:00:00\",\"2010-07-10T00:00:00\",\"2010-07-11T00:00:00\",\"2010-07-12T00:00:00\",\"2010-07-13T00:00:00\",\"2010-07-14T00:00:00\",\"2010-07-15T00:00:00\",\"2010-07-16T00:00:00\",\"2010-07-17T00:00:00\",\"2010-07-18T00:00:00\",\"2010-07-19T00:00:00\",\"2010-07-20T00:00:00\",\"2010-07-21T00:00:00\",\"2010-07-22T00:00:00\",\"2010-07-23T00:00:00\",\"2010-07-24T00:00:00\",\"2010-07-25T00:00:00\",\"2010-07-26T00:00:00\",\"2010-07-27T00:00:00\",\"2010-07-28T00:00:00\",\"2010-07-29T00:00:00\",\"2010-07-30T00:00:00\",\"2010-07-31T00:00:00\",\"2010-08-01T00:00:00\",\"2010-08-02T00:00:00\",\"2010-08-03T00:00:00\",\"2010-08-04T00:00:00\",\"2010-08-05T00:00:00\",\"2010-08-06T00:00:00\",\"2010-08-07T00:00:00\",\"2010-08-08T00:00:00\",\"2010-08-09T00:00:00\",\"2010-08-10T00:00:00\",\"2010-08-11T00:00:00\",\"2010-08-12T00:00:00\",\"2010-08-13T00:00:00\",\"2010-08-14T00:00:00\",\"2010-08-15T00:00:00\",\"2010-08-16T00:00:00\",\"2010-08-17T00:00:00\",\"2010-08-18T00:00:00\",\"2010-08-19T00:00:00\",\"2010-08-20T00:00:00\",\"2010-08-21T00:00:00\",\"2010-08-22T00:00:00\",\"2010-08-23T00:00:00\",\"2010-08-24T00:00:00\",\"2010-08-25T00:00:00\",\"2010-08-26T00:00:00\",\"2010-08-27T00:00:00\",\"2010-08-28T00:00:00\",\"2010-08-29T00:00:00\",\"2010-08-30T00:00:00\",\"2010-08-31T00:00:00\",\"2010-09-01T00:00:00\",\"2010-09-02T00:00:00\",\"2010-09-03T00:00:00\",\"2010-09-04T00:00:00\",\"2010-09-05T00:00:00\",\"2010-09-06T00:00:00\",\"2010-09-07T00:00:00\",\"2010-09-08T00:00:00\",\"2010-09-09T00:00:00\",\"2010-09-10T00:00:00\",\"2010-09-11T00:00:00\",\"2010-09-12T00:00:00\",\"2010-09-13T00:00:00\",\"2010-09-14T00:00:00\",\"2010-09-15T00:00:00\",\"2010-09-16T00:00:00\",\"2010-09-17T00:00:00\",\"2010-09-18T00:00:00\",\"2010-09-19T00:00:00\",\"2010-09-20T00:00:00\",\"2010-09-21T00:00:00\",\"2010-09-22T00:00:00\",\"2010-09-23T00:00:00\",\"2010-09-24T00:00:00\",\"2010-09-25T00:00:00\",\"2010-09-26T00:00:00\",\"2010-09-27T00:00:00\",\"2010-09-28T00:00:00\",\"2010-09-29T00:00:00\",\"2010-09-30T00:00:00\",\"2010-10-01T00:00:00\",\"2010-10-02T00:00:00\",\"2010-10-03T00:00:00\",\"2010-10-04T00:00:00\",\"2010-10-05T00:00:00\",\"2010-10-06T00:00:00\",\"2010-10-07T00:00:00\",\"2010-10-08T00:00:00\",\"2010-10-09T00:00:00\",\"2010-10-10T00:00:00\",\"2010-10-11T00:00:00\",\"2010-10-12T00:00:00\",\"2010-10-13T00:00:00\",\"2010-10-14T00:00:00\",\"2010-10-15T00:00:00\",\"2010-10-16T00:00:00\",\"2010-10-17T00:00:00\",\"2010-10-18T00:00:00\",\"2010-10-19T00:00:00\",\"2010-10-20T00:00:00\",\"2010-10-21T00:00:00\",\"2010-10-22T00:00:00\",\"2010-10-23T00:00:00\",\"2010-10-24T00:00:00\",\"2010-10-25T00:00:00\",\"2010-10-26T00:00:00\",\"2010-10-27T00:00:00\",\"2010-10-28T00:00:00\",\"2010-10-29T00:00:00\",\"2010-10-30T00:00:00\",\"2010-10-31T00:00:00\",\"2010-11-01T00:00:00\",\"2010-11-02T00:00:00\",\"2010-11-03T00:00:00\",\"2010-11-04T00:00:00\",\"2010-11-05T00:00:00\",\"2010-11-06T00:00:00\",\"2010-11-07T00:00:00\",\"2010-11-08T00:00:00\",\"2010-11-09T00:00:00\",\"2010-11-10T00:00:00\",\"2010-11-11T00:00:00\",\"2010-11-12T00:00:00\",\"2010-11-13T00:00:00\",\"2010-11-14T00:00:00\",\"2010-11-15T00:00:00\",\"2010-11-16T00:00:00\",\"2010-11-17T00:00:00\",\"2010-11-18T00:00:00\",\"2010-11-19T00:00:00\",\"2010-11-20T00:00:00\",\"2010-11-21T00:00:00\",\"2010-11-22T00:00:00\",\"2010-11-23T00:00:00\",\"2010-11-24T00:00:00\",\"2010-11-25T00:00:00\",\"2010-11-26T00:00:00\",\"2010-11-27T00:00:00\",\"2010-11-28T00:00:00\",\"2010-11-29T00:00:00\",\"2010-11-30T00:00:00\",\"2010-12-01T00:00:00\",\"2010-12-02T00:00:00\",\"2010-12-03T00:00:00\",\"2010-12-04T00:00:00\",\"2010-12-05T00:00:00\",\"2010-12-06T00:00:00\",\"2010-12-07T00:00:00\",\"2010-12-08T00:00:00\",\"2010-12-09T00:00:00\",\"2010-12-10T00:00:00\",\"2010-12-11T00:00:00\",\"2010-12-12T00:00:00\",\"2010-12-13T00:00:00\",\"2010-12-14T00:00:00\",\"2010-12-15T00:00:00\",\"2010-12-16T00:00:00\",\"2010-12-17T00:00:00\",\"2010-12-18T00:00:00\",\"2010-12-19T00:00:00\",\"2010-12-20T00:00:00\",\"2010-12-21T00:00:00\",\"2010-12-22T00:00:00\",\"2010-12-23T00:00:00\",\"2010-12-24T00:00:00\",\"2010-12-25T00:00:00\",\"2010-12-26T00:00:00\",\"2010-12-27T00:00:00\",\"2010-12-28T00:00:00\",\"2010-12-29T00:00:00\",\"2010-12-30T00:00:00\",\"2010-12-31T00:00:00\",\"2011-01-01T00:00:00\",\"2011-01-02T00:00:00\",\"2011-01-03T00:00:00\",\"2011-01-04T00:00:00\",\"2011-01-05T00:00:00\",\"2011-01-06T00:00:00\",\"2011-01-07T00:00:00\",\"2011-01-08T00:00:00\",\"2011-01-09T00:00:00\",\"2011-01-10T00:00:00\",\"2011-01-11T00:00:00\",\"2011-01-12T00:00:00\",\"2011-01-13T00:00:00\",\"2011-01-14T00:00:00\",\"2011-01-15T00:00:00\",\"2011-01-16T00:00:00\",\"2011-01-17T00:00:00\",\"2011-01-18T00:00:00\",\"2011-01-19T00:00:00\",\"2011-01-20T00:00:00\",\"2011-01-21T00:00:00\",\"2011-01-22T00:00:00\",\"2011-01-23T00:00:00\",\"2011-01-24T00:00:00\",\"2011-01-25T00:00:00\",\"2011-01-26T00:00:00\",\"2011-01-27T00:00:00\",\"2011-01-28T00:00:00\",\"2011-01-29T00:00:00\",\"2011-01-30T00:00:00\",\"2011-01-31T00:00:00\",\"2011-02-01T00:00:00\",\"2011-02-02T00:00:00\",\"2011-02-03T00:00:00\",\"2011-02-04T00:00:00\",\"2011-02-05T00:00:00\",\"2011-02-06T00:00:00\",\"2011-02-07T00:00:00\",\"2011-02-08T00:00:00\",\"2011-02-09T00:00:00\",\"2011-02-10T00:00:00\",\"2011-02-11T00:00:00\",\"2011-02-12T00:00:00\",\"2011-02-13T00:00:00\",\"2011-02-14T00:00:00\",\"2011-02-15T00:00:00\",\"2011-02-16T00:00:00\",\"2011-02-17T00:00:00\",\"2011-02-18T00:00:00\",\"2011-02-19T00:00:00\",\"2011-02-20T00:00:00\",\"2011-02-21T00:00:00\",\"2011-02-22T00:00:00\",\"2011-02-23T00:00:00\",\"2011-02-24T00:00:00\",\"2011-02-25T00:00:00\",\"2011-02-26T00:00:00\",\"2011-02-27T00:00:00\",\"2011-02-28T00:00:00\",\"2011-03-01T00:00:00\",\"2011-03-02T00:00:00\",\"2011-03-03T00:00:00\",\"2011-03-04T00:00:00\",\"2011-03-05T00:00:00\",\"2011-03-06T00:00:00\",\"2011-03-07T00:00:00\",\"2011-03-08T00:00:00\",\"2011-03-09T00:00:00\",\"2011-03-10T00:00:00\",\"2011-03-11T00:00:00\",\"2011-03-12T00:00:00\",\"2011-03-13T00:00:00\",\"2011-03-14T00:00:00\",\"2011-03-15T00:00:00\",\"2011-03-16T00:00:00\",\"2011-03-17T00:00:00\",\"2011-03-18T00:00:00\",\"2011-03-19T00:00:00\",\"2011-03-20T00:00:00\",\"2011-03-21T00:00:00\",\"2011-03-22T00:00:00\",\"2011-03-23T00:00:00\",\"2011-03-24T00:00:00\",\"2011-03-25T00:00:00\",\"2011-03-26T00:00:00\",\"2011-03-27T00:00:00\",\"2011-03-28T00:00:00\",\"2011-03-29T00:00:00\",\"2011-03-30T00:00:00\",\"2011-03-31T00:00:00\",\"2011-04-01T00:00:00\",\"2011-04-02T00:00:00\",\"2011-04-03T00:00:00\",\"2011-04-04T00:00:00\",\"2011-04-05T00:00:00\",\"2011-04-06T00:00:00\",\"2011-04-07T00:00:00\",\"2011-04-08T00:00:00\",\"2011-04-09T00:00:00\",\"2011-04-10T00:00:00\",\"2011-04-11T00:00:00\",\"2011-04-12T00:00:00\",\"2011-04-13T00:00:00\",\"2011-04-14T00:00:00\",\"2011-04-15T00:00:00\",\"2011-04-16T00:00:00\",\"2011-04-17T00:00:00\",\"2011-04-18T00:00:00\",\"2011-04-19T00:00:00\",\"2011-04-20T00:00:00\",\"2011-04-21T00:00:00\",\"2011-04-22T00:00:00\",\"2011-04-23T00:00:00\",\"2011-04-24T00:00:00\",\"2011-04-25T00:00:00\",\"2011-04-26T00:00:00\",\"2011-04-27T00:00:00\",\"2011-04-28T00:00:00\",\"2011-04-29T00:00:00\",\"2011-04-30T00:00:00\",\"2011-05-01T00:00:00\",\"2011-05-02T00:00:00\",\"2011-05-03T00:00:00\",\"2011-05-04T00:00:00\",\"2011-05-05T00:00:00\",\"2011-05-06T00:00:00\",\"2011-05-07T00:00:00\",\"2011-05-08T00:00:00\",\"2011-05-09T00:00:00\",\"2011-05-10T00:00:00\",\"2011-05-11T00:00:00\",\"2011-05-12T00:00:00\",\"2011-05-13T00:00:00\",\"2011-05-14T00:00:00\",\"2011-05-15T00:00:00\",\"2011-05-16T00:00:00\",\"2011-05-17T00:00:00\",\"2011-05-18T00:00:00\",\"2011-05-19T00:00:00\",\"2011-05-20T00:00:00\",\"2011-05-21T00:00:00\",\"2011-05-22T00:00:00\",\"2011-05-23T00:00:00\",\"2011-05-24T00:00:00\",\"2011-05-25T00:00:00\",\"2011-05-26T00:00:00\",\"2011-05-27T00:00:00\",\"2011-05-28T00:00:00\",\"2011-05-29T00:00:00\",\"2011-05-30T00:00:00\",\"2011-05-31T00:00:00\",\"2011-06-01T00:00:00\",\"2011-06-02T00:00:00\",\"2011-06-03T00:00:00\",\"2011-06-04T00:00:00\",\"2011-06-05T00:00:00\",\"2011-06-06T00:00:00\",\"2011-06-07T00:00:00\",\"2011-06-08T00:00:00\",\"2011-06-09T00:00:00\",\"2011-06-10T00:00:00\",\"2011-06-11T00:00:00\",\"2011-06-12T00:00:00\",\"2011-06-13T00:00:00\",\"2011-06-14T00:00:00\",\"2011-06-15T00:00:00\",\"2011-06-16T00:00:00\",\"2011-06-17T00:00:00\",\"2011-06-18T00:00:00\",\"2011-06-19T00:00:00\",\"2011-06-20T00:00:00\",\"2011-06-21T00:00:00\",\"2011-06-22T00:00:00\",\"2011-06-23T00:00:00\",\"2011-06-24T00:00:00\",\"2011-06-25T00:00:00\",\"2011-06-26T00:00:00\",\"2011-06-27T00:00:00\",\"2011-06-28T00:00:00\",\"2011-06-29T00:00:00\",\"2011-06-30T00:00:00\",\"2011-07-01T00:00:00\",\"2011-07-02T00:00:00\",\"2011-07-03T00:00:00\",\"2011-07-04T00:00:00\",\"2011-07-05T00:00:00\",\"2011-07-06T00:00:00\",\"2011-07-07T00:00:00\",\"2011-07-08T00:00:00\",\"2011-07-09T00:00:00\",\"2011-07-10T00:00:00\",\"2011-07-11T00:00:00\",\"2011-07-12T00:00:00\",\"2011-07-13T00:00:00\",\"2011-07-14T00:00:00\",\"2011-07-15T00:00:00\",\"2011-07-16T00:00:00\",\"2011-07-17T00:00:00\",\"2011-07-18T00:00:00\",\"2011-07-19T00:00:00\",\"2011-07-20T00:00:00\",\"2011-07-21T00:00:00\",\"2011-07-22T00:00:00\",\"2011-07-23T00:00:00\",\"2011-07-24T00:00:00\",\"2011-07-25T00:00:00\",\"2011-07-26T00:00:00\",\"2011-07-27T00:00:00\",\"2011-07-28T00:00:00\",\"2011-07-29T00:00:00\",\"2011-07-30T00:00:00\",\"2011-07-31T00:00:00\",\"2011-08-01T00:00:00\",\"2011-08-02T00:00:00\",\"2011-08-03T00:00:00\",\"2011-08-04T00:00:00\",\"2011-08-05T00:00:00\",\"2011-08-06T00:00:00\",\"2011-08-07T00:00:00\",\"2011-08-08T00:00:00\",\"2011-08-09T00:00:00\",\"2011-08-10T00:00:00\",\"2011-08-11T00:00:00\",\"2011-08-12T00:00:00\",\"2011-08-13T00:00:00\",\"2011-08-14T00:00:00\",\"2011-08-15T00:00:00\",\"2011-08-16T00:00:00\",\"2011-08-17T00:00:00\",\"2011-08-18T00:00:00\",\"2011-08-19T00:00:00\",\"2011-08-20T00:00:00\",\"2011-08-21T00:00:00\",\"2011-08-22T00:00:00\",\"2011-08-23T00:00:00\",\"2011-08-24T00:00:00\",\"2011-08-25T00:00:00\",\"2011-08-26T00:00:00\",\"2011-08-27T00:00:00\",\"2011-08-28T00:00:00\",\"2011-08-29T00:00:00\",\"2011-08-30T00:00:00\",\"2011-08-31T00:00:00\",\"2011-09-01T00:00:00\",\"2011-09-02T00:00:00\",\"2011-09-03T00:00:00\",\"2011-09-04T00:00:00\",\"2011-09-05T00:00:00\",\"2011-09-06T00:00:00\",\"2011-09-07T00:00:00\",\"2011-09-08T00:00:00\",\"2011-09-09T00:00:00\",\"2011-09-10T00:00:00\",\"2011-09-11T00:00:00\",\"2011-09-12T00:00:00\",\"2011-09-13T00:00:00\",\"2011-09-14T00:00:00\",\"2011-09-15T00:00:00\",\"2011-09-16T00:00:00\",\"2011-09-17T00:00:00\",\"2011-09-18T00:00:00\",\"2011-09-19T00:00:00\",\"2011-09-20T00:00:00\",\"2011-09-21T00:00:00\",\"2011-09-22T00:00:00\",\"2011-09-23T00:00:00\",\"2011-09-24T00:00:00\",\"2011-09-25T00:00:00\",\"2011-09-26T00:00:00\",\"2011-09-27T00:00:00\",\"2011-09-28T00:00:00\",\"2011-09-29T00:00:00\",\"2011-09-30T00:00:00\",\"2011-10-01T00:00:00\",\"2011-10-02T00:00:00\",\"2011-10-03T00:00:00\",\"2011-10-04T00:00:00\",\"2011-10-05T00:00:00\",\"2011-10-06T00:00:00\",\"2011-10-07T00:00:00\",\"2011-10-08T00:00:00\",\"2011-10-09T00:00:00\",\"2011-10-10T00:00:00\",\"2011-10-11T00:00:00\",\"2011-10-12T00:00:00\",\"2011-10-13T00:00:00\",\"2011-10-14T00:00:00\",\"2011-10-15T00:00:00\",\"2011-10-16T00:00:00\",\"2011-10-17T00:00:00\",\"2011-10-18T00:00:00\",\"2011-10-19T00:00:00\",\"2011-10-20T00:00:00\",\"2011-10-21T00:00:00\",\"2011-10-22T00:00:00\",\"2011-10-23T00:00:00\",\"2011-10-24T00:00:00\",\"2011-10-25T00:00:00\",\"2011-10-26T00:00:00\",\"2011-10-27T00:00:00\",\"2011-10-28T00:00:00\",\"2011-10-29T00:00:00\",\"2011-10-30T00:00:00\",\"2011-10-31T00:00:00\",\"2011-11-01T00:00:00\",\"2011-11-02T00:00:00\",\"2011-11-03T00:00:00\",\"2011-11-04T00:00:00\",\"2011-11-05T00:00:00\",\"2011-11-06T00:00:00\",\"2011-11-07T00:00:00\",\"2011-11-08T00:00:00\",\"2011-11-09T00:00:00\",\"2011-11-10T00:00:00\",\"2011-11-11T00:00:00\",\"2011-11-12T00:00:00\",\"2011-11-13T00:00:00\",\"2011-11-14T00:00:00\",\"2011-11-15T00:00:00\",\"2011-11-16T00:00:00\",\"2011-11-17T00:00:00\",\"2011-11-18T00:00:00\",\"2011-11-19T00:00:00\",\"2011-11-20T00:00:00\",\"2011-11-21T00:00:00\",\"2011-11-22T00:00:00\",\"2011-11-23T00:00:00\",\"2011-11-24T00:00:00\",\"2011-11-25T00:00:00\",\"2011-11-26T00:00:00\",\"2011-11-27T00:00:00\",\"2011-11-28T00:00:00\",\"2011-11-29T00:00:00\",\"2011-11-30T00:00:00\",\"2011-12-01T00:00:00\",\"2011-12-02T00:00:00\",\"2011-12-03T00:00:00\",\"2011-12-04T00:00:00\",\"2011-12-05T00:00:00\",\"2011-12-06T00:00:00\",\"2011-12-07T00:00:00\",\"2011-12-08T00:00:00\",\"2011-12-09T00:00:00\",\"2011-12-10T00:00:00\",\"2011-12-11T00:00:00\",\"2011-12-12T00:00:00\",\"2011-12-13T00:00:00\",\"2011-12-14T00:00:00\",\"2011-12-15T00:00:00\",\"2011-12-16T00:00:00\",\"2011-12-17T00:00:00\",\"2011-12-18T00:00:00\",\"2011-12-19T00:00:00\",\"2011-12-20T00:00:00\",\"2011-12-21T00:00:00\",\"2011-12-22T00:00:00\",\"2011-12-23T00:00:00\",\"2011-12-24T00:00:00\",\"2011-12-25T00:00:00\",\"2011-12-26T00:00:00\",\"2011-12-27T00:00:00\",\"2011-12-28T00:00:00\",\"2011-12-29T00:00:00\",\"2011-12-30T00:00:00\",\"2011-12-31T00:00:00\",\"2012-01-01T00:00:00\",\"2012-01-02T00:00:00\",\"2012-01-03T00:00:00\",\"2012-01-04T00:00:00\",\"2012-01-05T00:00:00\",\"2012-01-06T00:00:00\",\"2012-01-07T00:00:00\",\"2012-01-08T00:00:00\",\"2012-01-09T00:00:00\",\"2012-01-10T00:00:00\",\"2012-01-11T00:00:00\",\"2012-01-12T00:00:00\",\"2012-01-13T00:00:00\",\"2012-01-14T00:00:00\",\"2012-01-15T00:00:00\",\"2012-01-16T00:00:00\",\"2012-01-17T00:00:00\",\"2012-01-18T00:00:00\",\"2012-01-19T00:00:00\",\"2012-01-20T00:00:00\",\"2012-01-21T00:00:00\",\"2012-01-22T00:00:00\",\"2012-01-23T00:00:00\",\"2012-01-24T00:00:00\",\"2012-01-25T00:00:00\",\"2012-01-26T00:00:00\",\"2012-01-27T00:00:00\",\"2012-01-28T00:00:00\",\"2012-01-29T00:00:00\",\"2012-01-30T00:00:00\",\"2012-01-31T00:00:00\",\"2012-02-01T00:00:00\",\"2012-02-02T00:00:00\",\"2012-02-03T00:00:00\",\"2012-02-04T00:00:00\",\"2012-02-05T00:00:00\",\"2012-02-06T00:00:00\",\"2012-02-07T00:00:00\",\"2012-02-08T00:00:00\",\"2012-02-09T00:00:00\",\"2012-02-10T00:00:00\",\"2012-02-11T00:00:00\",\"2012-02-12T00:00:00\",\"2012-02-13T00:00:00\",\"2012-02-14T00:00:00\",\"2012-02-15T00:00:00\",\"2012-02-16T00:00:00\",\"2012-02-17T00:00:00\",\"2012-02-18T00:00:00\",\"2012-02-19T00:00:00\",\"2012-02-20T00:00:00\",\"2012-02-21T00:00:00\",\"2012-02-22T00:00:00\",\"2012-02-23T00:00:00\",\"2012-02-24T00:00:00\",\"2012-02-25T00:00:00\",\"2012-02-26T00:00:00\",\"2012-02-27T00:00:00\",\"2012-02-28T00:00:00\",\"2012-02-29T00:00:00\",\"2012-03-01T00:00:00\",\"2012-03-02T00:00:00\",\"2012-03-03T00:00:00\",\"2012-03-04T00:00:00\",\"2012-03-05T00:00:00\",\"2012-03-06T00:00:00\",\"2012-03-07T00:00:00\",\"2012-03-08T00:00:00\",\"2012-03-09T00:00:00\",\"2012-03-10T00:00:00\",\"2012-03-11T00:00:00\",\"2012-03-12T00:00:00\",\"2012-03-13T00:00:00\",\"2012-03-14T00:00:00\",\"2012-03-15T00:00:00\",\"2012-03-16T00:00:00\",\"2012-03-17T00:00:00\",\"2012-03-18T00:00:00\",\"2012-03-19T00:00:00\",\"2012-03-20T00:00:00\",\"2012-03-21T00:00:00\",\"2012-03-22T00:00:00\",\"2012-03-23T00:00:00\",\"2012-03-24T00:00:00\",\"2012-03-25T00:00:00\",\"2012-03-26T00:00:00\",\"2012-03-27T00:00:00\",\"2012-03-28T00:00:00\",\"2012-03-29T00:00:00\",\"2012-03-30T00:00:00\",\"2012-03-31T00:00:00\",\"2012-04-01T00:00:00\",\"2012-04-02T00:00:00\",\"2012-04-03T00:00:00\",\"2012-04-04T00:00:00\",\"2012-04-05T00:00:00\",\"2012-04-06T00:00:00\",\"2012-04-07T00:00:00\",\"2012-04-08T00:00:00\",\"2012-04-09T00:00:00\",\"2012-04-10T00:00:00\",\"2012-04-11T00:00:00\",\"2012-04-12T00:00:00\",\"2012-04-13T00:00:00\",\"2012-04-14T00:00:00\",\"2012-04-15T00:00:00\",\"2012-04-16T00:00:00\",\"2012-04-17T00:00:00\",\"2012-04-18T00:00:00\",\"2012-04-19T00:00:00\",\"2012-04-20T00:00:00\",\"2012-04-21T00:00:00\",\"2012-04-22T00:00:00\",\"2012-04-23T00:00:00\",\"2012-04-24T00:00:00\",\"2012-04-25T00:00:00\",\"2012-04-26T00:00:00\",\"2012-04-27T00:00:00\",\"2012-04-28T00:00:00\",\"2012-04-29T00:00:00\",\"2012-04-30T00:00:00\",\"2012-05-01T00:00:00\",\"2012-05-02T00:00:00\",\"2012-05-03T00:00:00\",\"2012-05-04T00:00:00\",\"2012-05-05T00:00:00\",\"2012-05-06T00:00:00\",\"2012-05-07T00:00:00\",\"2012-05-08T00:00:00\",\"2012-05-09T00:00:00\",\"2012-05-10T00:00:00\",\"2012-05-11T00:00:00\",\"2012-05-12T00:00:00\",\"2012-05-13T00:00:00\",\"2012-05-14T00:00:00\",\"2012-05-15T00:00:00\",\"2012-05-16T00:00:00\",\"2012-05-17T00:00:00\",\"2012-05-18T00:00:00\",\"2012-05-19T00:00:00\",\"2012-05-20T00:00:00\",\"2012-05-21T00:00:00\",\"2012-05-22T00:00:00\",\"2012-05-23T00:00:00\",\"2012-05-24T00:00:00\",\"2012-05-25T00:00:00\",\"2012-05-26T00:00:00\",\"2012-05-27T00:00:00\",\"2012-05-28T00:00:00\",\"2012-05-29T00:00:00\",\"2012-05-30T00:00:00\",\"2012-05-31T00:00:00\",\"2012-06-01T00:00:00\",\"2012-06-02T00:00:00\",\"2012-06-03T00:00:00\",\"2012-06-04T00:00:00\",\"2012-06-05T00:00:00\",\"2012-06-06T00:00:00\",\"2012-06-07T00:00:00\",\"2012-06-08T00:00:00\",\"2012-06-09T00:00:00\",\"2012-06-10T00:00:00\",\"2012-06-11T00:00:00\",\"2012-06-12T00:00:00\",\"2012-06-13T00:00:00\",\"2012-06-14T00:00:00\",\"2012-06-15T00:00:00\",\"2012-06-16T00:00:00\",\"2012-06-17T00:00:00\",\"2012-06-18T00:00:00\",\"2012-06-19T00:00:00\",\"2012-06-20T00:00:00\",\"2012-06-21T00:00:00\",\"2012-06-22T00:00:00\",\"2012-06-23T00:00:00\",\"2012-06-24T00:00:00\",\"2012-06-25T00:00:00\",\"2012-06-26T00:00:00\",\"2012-06-27T00:00:00\",\"2012-06-28T00:00:00\",\"2012-06-29T00:00:00\",\"2012-06-30T00:00:00\",\"2012-07-01T00:00:00\",\"2012-07-02T00:00:00\",\"2012-07-03T00:00:00\",\"2012-07-04T00:00:00\",\"2012-07-05T00:00:00\",\"2012-07-06T00:00:00\",\"2012-07-07T00:00:00\",\"2012-07-08T00:00:00\",\"2012-07-09T00:00:00\",\"2012-07-10T00:00:00\",\"2012-07-11T00:00:00\",\"2012-07-12T00:00:00\",\"2012-07-13T00:00:00\",\"2012-07-14T00:00:00\",\"2012-07-15T00:00:00\",\"2012-07-16T00:00:00\",\"2012-07-17T00:00:00\",\"2012-07-18T00:00:00\",\"2012-07-19T00:00:00\",\"2012-07-20T00:00:00\",\"2012-07-21T00:00:00\",\"2012-07-22T00:00:00\",\"2012-07-23T00:00:00\",\"2012-07-24T00:00:00\",\"2012-07-25T00:00:00\",\"2012-07-26T00:00:00\",\"2012-07-27T00:00:00\",\"2012-07-28T00:00:00\",\"2012-07-29T00:00:00\",\"2012-07-30T00:00:00\",\"2012-07-31T00:00:00\",\"2012-08-01T00:00:00\",\"2012-08-02T00:00:00\",\"2012-08-03T00:00:00\",\"2012-08-04T00:00:00\",\"2012-08-05T00:00:00\",\"2012-08-06T00:00:00\",\"2012-08-07T00:00:00\",\"2012-08-08T00:00:00\",\"2012-08-09T00:00:00\",\"2012-08-10T00:00:00\",\"2012-08-11T00:00:00\",\"2012-08-12T00:00:00\",\"2012-08-13T00:00:00\",\"2012-08-14T00:00:00\",\"2012-08-15T00:00:00\",\"2012-08-16T00:00:00\",\"2012-08-17T00:00:00\",\"2012-08-18T00:00:00\",\"2012-08-19T00:00:00\",\"2012-08-20T00:00:00\",\"2012-08-21T00:00:00\",\"2012-08-22T00:00:00\",\"2012-08-23T00:00:00\",\"2012-08-24T00:00:00\",\"2012-08-25T00:00:00\",\"2012-08-26T00:00:00\",\"2012-08-27T00:00:00\",\"2012-08-28T00:00:00\",\"2012-08-29T00:00:00\",\"2012-08-30T00:00:00\",\"2012-08-31T00:00:00\",\"2012-09-01T00:00:00\",\"2012-09-02T00:00:00\",\"2012-09-03T00:00:00\",\"2012-09-04T00:00:00\",\"2012-09-05T00:00:00\",\"2012-09-06T00:00:00\",\"2012-09-07T00:00:00\",\"2012-09-08T00:00:00\",\"2012-09-09T00:00:00\",\"2012-09-10T00:00:00\",\"2012-09-11T00:00:00\",\"2012-09-12T00:00:00\",\"2012-09-13T00:00:00\",\"2012-09-14T00:00:00\",\"2012-09-15T00:00:00\",\"2012-09-16T00:00:00\",\"2012-09-17T00:00:00\",\"2012-09-18T00:00:00\",\"2012-09-19T00:00:00\",\"2012-09-20T00:00:00\",\"2012-09-21T00:00:00\",\"2012-09-22T00:00:00\",\"2012-09-23T00:00:00\",\"2012-09-24T00:00:00\",\"2012-09-25T00:00:00\",\"2012-09-26T00:00:00\",\"2012-09-27T00:00:00\",\"2012-09-28T00:00:00\",\"2012-09-29T00:00:00\",\"2012-09-30T00:00:00\",\"2012-10-01T00:00:00\",\"2012-10-02T00:00:00\",\"2012-10-03T00:00:00\",\"2012-10-04T00:00:00\",\"2012-10-05T00:00:00\",\"2012-10-06T00:00:00\",\"2012-10-07T00:00:00\",\"2012-10-08T00:00:00\",\"2012-10-09T00:00:00\",\"2012-10-10T00:00:00\",\"2012-10-11T00:00:00\",\"2012-10-12T00:00:00\",\"2012-10-13T00:00:00\",\"2012-10-14T00:00:00\",\"2012-10-15T00:00:00\",\"2012-10-16T00:00:00\",\"2012-10-17T00:00:00\",\"2012-10-18T00:00:00\",\"2012-10-19T00:00:00\",\"2012-10-20T00:00:00\",\"2012-10-21T00:00:00\",\"2012-10-22T00:00:00\",\"2012-10-23T00:00:00\",\"2012-10-24T00:00:00\",\"2012-10-25T00:00:00\",\"2012-10-26T00:00:00\",\"2012-10-27T00:00:00\",\"2012-10-28T00:00:00\",\"2012-10-29T00:00:00\",\"2012-10-30T00:00:00\",\"2012-10-31T00:00:00\",\"2012-11-01T00:00:00\",\"2012-11-02T00:00:00\",\"2012-11-03T00:00:00\",\"2012-11-04T00:00:00\",\"2012-11-05T00:00:00\",\"2012-11-06T00:00:00\",\"2012-11-07T00:00:00\",\"2012-11-08T00:00:00\",\"2012-11-09T00:00:00\",\"2012-11-10T00:00:00\",\"2012-11-11T00:00:00\",\"2012-11-12T00:00:00\",\"2012-11-13T00:00:00\",\"2012-11-14T00:00:00\",\"2012-11-15T00:00:00\",\"2012-11-16T00:00:00\",\"2012-11-17T00:00:00\",\"2012-11-18T00:00:00\",\"2012-11-19T00:00:00\",\"2012-11-20T00:00:00\",\"2012-11-21T00:00:00\",\"2012-11-22T00:00:00\",\"2012-11-23T00:00:00\",\"2012-11-24T00:00:00\",\"2012-11-25T00:00:00\",\"2012-11-26T00:00:00\",\"2012-11-27T00:00:00\",\"2012-11-28T00:00:00\",\"2012-11-29T00:00:00\",\"2012-11-30T00:00:00\",\"2012-12-01T00:00:00\",\"2012-12-02T00:00:00\",\"2012-12-03T00:00:00\",\"2012-12-04T00:00:00\",\"2012-12-05T00:00:00\",\"2012-12-06T00:00:00\",\"2012-12-07T00:00:00\",\"2012-12-08T00:00:00\",\"2012-12-09T00:00:00\",\"2012-12-10T00:00:00\",\"2012-12-11T00:00:00\",\"2012-12-12T00:00:00\",\"2012-12-13T00:00:00\",\"2012-12-14T00:00:00\",\"2012-12-15T00:00:00\",\"2012-12-16T00:00:00\",\"2012-12-17T00:00:00\",\"2012-12-18T00:00:00\",\"2012-12-19T00:00:00\",\"2012-12-20T00:00:00\",\"2012-12-21T00:00:00\",\"2012-12-22T00:00:00\",\"2012-12-23T00:00:00\",\"2012-12-24T00:00:00\",\"2012-12-25T00:00:00\",\"2012-12-26T00:00:00\",\"2012-12-27T00:00:00\",\"2012-12-28T00:00:00\",\"2012-12-29T00:00:00\",\"2012-12-30T00:00:00\",\"2012-12-31T00:00:00\",\"2013-01-01T00:00:00\",\"2013-01-02T00:00:00\",\"2013-01-03T00:00:00\",\"2013-01-04T00:00:00\",\"2013-01-05T00:00:00\",\"2013-01-06T00:00:00\",\"2013-01-07T00:00:00\",\"2013-01-08T00:00:00\",\"2013-01-09T00:00:00\",\"2013-01-10T00:00:00\",\"2013-01-11T00:00:00\",\"2013-01-12T00:00:00\",\"2013-01-13T00:00:00\",\"2013-01-14T00:00:00\",\"2013-01-15T00:00:00\",\"2013-01-16T00:00:00\",\"2013-01-17T00:00:00\",\"2013-01-18T00:00:00\",\"2013-01-19T00:00:00\",\"2013-01-20T00:00:00\",\"2013-01-21T00:00:00\",\"2013-01-22T00:00:00\",\"2013-01-23T00:00:00\",\"2013-01-24T00:00:00\",\"2013-01-25T00:00:00\",\"2013-01-26T00:00:00\",\"2013-01-27T00:00:00\",\"2013-01-28T00:00:00\",\"2013-01-29T00:00:00\",\"2013-01-30T00:00:00\",\"2013-01-31T00:00:00\",\"2013-02-01T00:00:00\",\"2013-02-02T00:00:00\",\"2013-02-03T00:00:00\",\"2013-02-04T00:00:00\",\"2013-02-05T00:00:00\",\"2013-02-06T00:00:00\",\"2013-02-07T00:00:00\",\"2013-02-08T00:00:00\",\"2013-02-09T00:00:00\",\"2013-02-10T00:00:00\",\"2013-02-11T00:00:00\",\"2013-02-12T00:00:00\",\"2013-02-13T00:00:00\",\"2013-02-14T00:00:00\",\"2013-02-15T00:00:00\",\"2013-02-16T00:00:00\",\"2013-02-17T00:00:00\",\"2013-02-18T00:00:00\",\"2013-02-19T00:00:00\",\"2013-02-20T00:00:00\",\"2013-02-21T00:00:00\",\"2013-02-22T00:00:00\",\"2013-02-23T00:00:00\",\"2013-02-24T00:00:00\",\"2013-02-25T00:00:00\",\"2013-02-26T00:00:00\",\"2013-02-27T00:00:00\",\"2013-02-28T00:00:00\",\"2013-03-01T00:00:00\",\"2013-03-02T00:00:00\",\"2013-03-03T00:00:00\",\"2013-03-04T00:00:00\",\"2013-03-05T00:00:00\",\"2013-03-06T00:00:00\",\"2013-03-07T00:00:00\",\"2013-03-08T00:00:00\",\"2013-03-09T00:00:00\",\"2013-03-10T00:00:00\",\"2013-03-11T00:00:00\",\"2013-03-12T00:00:00\",\"2013-03-13T00:00:00\",\"2013-03-14T00:00:00\",\"2013-03-15T00:00:00\",\"2013-03-16T00:00:00\",\"2013-03-17T00:00:00\",\"2013-03-18T00:00:00\",\"2013-03-19T00:00:00\",\"2013-03-20T00:00:00\",\"2013-03-21T00:00:00\",\"2013-03-22T00:00:00\",\"2013-03-23T00:00:00\",\"2013-03-24T00:00:00\",\"2013-03-25T00:00:00\",\"2013-03-26T00:00:00\",\"2013-03-27T00:00:00\",\"2013-03-28T00:00:00\",\"2013-03-29T00:00:00\",\"2013-03-30T00:00:00\",\"2013-03-31T00:00:00\",\"2013-04-01T00:00:00\",\"2013-04-02T00:00:00\",\"2013-04-03T00:00:00\",\"2013-04-04T00:00:00\",\"2013-04-05T00:00:00\",\"2013-04-06T00:00:00\",\"2013-04-07T00:00:00\",\"2013-04-08T00:00:00\",\"2013-04-09T00:00:00\",\"2013-04-10T00:00:00\",\"2013-04-11T00:00:00\",\"2013-04-12T00:00:00\",\"2013-04-13T00:00:00\",\"2013-04-14T00:00:00\",\"2013-04-15T00:00:00\",\"2013-04-16T00:00:00\",\"2013-04-17T00:00:00\",\"2013-04-18T00:00:00\",\"2013-04-19T00:00:00\",\"2013-04-20T00:00:00\",\"2013-04-21T00:00:00\",\"2013-04-22T00:00:00\",\"2013-04-23T00:00:00\",\"2013-04-24T00:00:00\",\"2013-04-25T00:00:00\",\"2013-04-26T00:00:00\",\"2013-04-27T00:00:00\",\"2013-04-28T00:00:00\",\"2013-04-29T00:00:00\",\"2013-04-30T00:00:00\",\"2013-05-01T00:00:00\",\"2013-05-02T00:00:00\",\"2013-05-03T00:00:00\",\"2013-05-04T00:00:00\",\"2013-05-05T00:00:00\",\"2013-05-06T00:00:00\",\"2013-05-07T00:00:00\",\"2013-05-08T00:00:00\",\"2013-05-09T00:00:00\",\"2013-05-10T00:00:00\",\"2013-05-11T00:00:00\",\"2013-05-12T00:00:00\",\"2013-05-13T00:00:00\",\"2013-05-14T00:00:00\",\"2013-05-15T00:00:00\",\"2013-05-16T00:00:00\",\"2013-05-17T00:00:00\",\"2013-05-18T00:00:00\",\"2013-05-19T00:00:00\",\"2013-05-20T00:00:00\",\"2013-05-21T00:00:00\",\"2013-05-22T00:00:00\",\"2013-05-23T00:00:00\",\"2013-05-24T00:00:00\",\"2013-05-25T00:00:00\",\"2013-05-26T00:00:00\",\"2013-05-27T00:00:00\",\"2013-05-28T00:00:00\",\"2013-05-29T00:00:00\",\"2013-05-30T00:00:00\",\"2013-05-31T00:00:00\",\"2013-06-01T00:00:00\",\"2013-06-02T00:00:00\",\"2013-06-03T00:00:00\",\"2013-06-04T00:00:00\",\"2013-06-05T00:00:00\",\"2013-06-06T00:00:00\",\"2013-06-07T00:00:00\",\"2013-06-08T00:00:00\",\"2013-06-09T00:00:00\",\"2013-06-10T00:00:00\",\"2013-06-11T00:00:00\",\"2013-06-12T00:00:00\",\"2013-06-13T00:00:00\",\"2013-06-14T00:00:00\",\"2013-06-15T00:00:00\",\"2013-06-16T00:00:00\",\"2013-06-17T00:00:00\",\"2013-06-18T00:00:00\",\"2013-06-19T00:00:00\",\"2013-06-20T00:00:00\",\"2013-06-21T00:00:00\",\"2013-06-22T00:00:00\",\"2013-06-23T00:00:00\",\"2013-06-24T00:00:00\",\"2013-06-25T00:00:00\",\"2013-06-26T00:00:00\",\"2013-06-27T00:00:00\",\"2013-06-28T00:00:00\",\"2013-06-29T00:00:00\",\"2013-06-30T00:00:00\",\"2013-07-01T00:00:00\",\"2013-07-02T00:00:00\",\"2013-07-03T00:00:00\",\"2013-07-04T00:00:00\",\"2013-07-05T00:00:00\",\"2013-07-06T00:00:00\",\"2013-07-07T00:00:00\",\"2013-07-08T00:00:00\",\"2013-07-09T00:00:00\",\"2013-07-10T00:00:00\",\"2013-07-11T00:00:00\",\"2013-07-12T00:00:00\",\"2013-07-13T00:00:00\",\"2013-07-14T00:00:00\",\"2013-07-15T00:00:00\",\"2013-07-16T00:00:00\",\"2013-07-17T00:00:00\",\"2013-07-18T00:00:00\",\"2013-07-19T00:00:00\",\"2013-07-20T00:00:00\",\"2013-07-21T00:00:00\",\"2013-07-22T00:00:00\",\"2013-07-23T00:00:00\",\"2013-07-24T00:00:00\",\"2013-07-25T00:00:00\",\"2013-07-26T00:00:00\",\"2013-07-27T00:00:00\",\"2013-07-28T00:00:00\",\"2013-07-29T00:00:00\",\"2013-07-30T00:00:00\",\"2013-07-31T00:00:00\",\"2013-08-01T00:00:00\",\"2013-08-02T00:00:00\",\"2013-08-03T00:00:00\",\"2013-08-04T00:00:00\",\"2013-08-05T00:00:00\",\"2013-08-06T00:00:00\",\"2013-08-07T00:00:00\",\"2013-08-08T00:00:00\",\"2013-08-09T00:00:00\",\"2013-08-10T00:00:00\",\"2013-08-11T00:00:00\",\"2013-08-12T00:00:00\",\"2013-08-13T00:00:00\",\"2013-08-14T00:00:00\",\"2013-08-15T00:00:00\",\"2013-08-16T00:00:00\",\"2013-08-17T00:00:00\",\"2013-08-18T00:00:00\",\"2013-08-19T00:00:00\",\"2013-08-20T00:00:00\",\"2013-08-21T00:00:00\",\"2013-08-22T00:00:00\",\"2013-08-23T00:00:00\",\"2013-08-24T00:00:00\",\"2013-08-25T00:00:00\",\"2013-08-26T00:00:00\",\"2013-08-27T00:00:00\",\"2013-08-28T00:00:00\",\"2013-08-29T00:00:00\",\"2013-08-30T00:00:00\",\"2013-08-31T00:00:00\",\"2013-09-01T00:00:00\",\"2013-09-02T00:00:00\",\"2013-09-03T00:00:00\",\"2013-09-04T00:00:00\",\"2013-09-05T00:00:00\",\"2013-09-06T00:00:00\",\"2013-09-07T00:00:00\",\"2013-09-08T00:00:00\",\"2013-09-09T00:00:00\",\"2013-09-10T00:00:00\",\"2013-09-11T00:00:00\",\"2013-09-12T00:00:00\",\"2013-09-13T00:00:00\",\"2013-09-14T00:00:00\",\"2013-09-15T00:00:00\",\"2013-09-16T00:00:00\",\"2013-09-17T00:00:00\",\"2013-09-18T00:00:00\",\"2013-09-19T00:00:00\",\"2013-09-20T00:00:00\",\"2013-09-21T00:00:00\",\"2013-09-22T00:00:00\",\"2013-09-23T00:00:00\",\"2013-09-24T00:00:00\",\"2013-09-25T00:00:00\",\"2013-09-26T00:00:00\",\"2013-09-27T00:00:00\",\"2013-09-28T00:00:00\",\"2013-09-29T00:00:00\",\"2013-09-30T00:00:00\",\"2013-10-01T00:00:00\",\"2013-10-02T00:00:00\",\"2013-10-03T00:00:00\",\"2013-10-04T00:00:00\",\"2013-10-05T00:00:00\",\"2013-10-06T00:00:00\",\"2013-10-07T00:00:00\",\"2013-10-08T00:00:00\",\"2013-10-09T00:00:00\",\"2013-10-10T00:00:00\",\"2013-10-11T00:00:00\",\"2013-10-12T00:00:00\",\"2013-10-13T00:00:00\",\"2013-10-14T00:00:00\",\"2013-10-15T00:00:00\",\"2013-10-16T00:00:00\",\"2013-10-17T00:00:00\",\"2013-10-18T00:00:00\",\"2013-10-19T00:00:00\",\"2013-10-20T00:00:00\",\"2013-10-21T00:00:00\",\"2013-10-22T00:00:00\",\"2013-10-23T00:00:00\",\"2013-10-24T00:00:00\",\"2013-10-25T00:00:00\",\"2013-10-26T00:00:00\",\"2013-10-27T00:00:00\",\"2013-10-28T00:00:00\",\"2013-10-29T00:00:00\",\"2013-10-30T00:00:00\",\"2013-10-31T00:00:00\",\"2013-11-01T00:00:00\",\"2013-11-02T00:00:00\",\"2013-11-03T00:00:00\",\"2013-11-04T00:00:00\",\"2013-11-05T00:00:00\",\"2013-11-06T00:00:00\",\"2013-11-07T00:00:00\",\"2013-11-08T00:00:00\",\"2013-11-09T00:00:00\",\"2013-11-10T00:00:00\",\"2013-11-11T00:00:00\",\"2013-11-12T00:00:00\",\"2013-11-13T00:00:00\",\"2013-11-14T00:00:00\",\"2013-11-15T00:00:00\",\"2013-11-16T00:00:00\",\"2013-11-17T00:00:00\",\"2013-11-18T00:00:00\",\"2013-11-19T00:00:00\",\"2013-11-20T00:00:00\",\"2013-11-21T00:00:00\",\"2013-11-22T00:00:00\",\"2013-11-23T00:00:00\",\"2013-11-24T00:00:00\",\"2013-11-25T00:00:00\",\"2013-11-26T00:00:00\",\"2013-11-27T00:00:00\",\"2013-11-28T00:00:00\",\"2013-11-29T00:00:00\",\"2013-11-30T00:00:00\",\"2013-12-01T00:00:00\",\"2013-12-02T00:00:00\",\"2013-12-03T00:00:00\",\"2013-12-04T00:00:00\",\"2013-12-05T00:00:00\",\"2013-12-06T00:00:00\",\"2013-12-07T00:00:00\",\"2013-12-08T00:00:00\",\"2013-12-09T00:00:00\",\"2013-12-10T00:00:00\",\"2013-12-11T00:00:00\",\"2013-12-12T00:00:00\",\"2013-12-13T00:00:00\",\"2013-12-14T00:00:00\",\"2013-12-15T00:00:00\",\"2013-12-16T00:00:00\",\"2013-12-17T00:00:00\",\"2013-12-18T00:00:00\",\"2013-12-19T00:00:00\",\"2013-12-20T00:00:00\",\"2013-12-21T00:00:00\",\"2013-12-22T00:00:00\",\"2013-12-23T00:00:00\",\"2013-12-24T00:00:00\",\"2013-12-25T00:00:00\",\"2013-12-26T00:00:00\",\"2013-12-27T00:00:00\",\"2013-12-28T00:00:00\",\"2013-12-29T00:00:00\",\"2013-12-30T00:00:00\",\"2013-12-31T00:00:00\",\"2014-01-01T00:00:00\",\"2014-01-02T00:00:00\",\"2014-01-03T00:00:00\",\"2014-01-04T00:00:00\",\"2014-01-05T00:00:00\",\"2014-01-06T00:00:00\",\"2014-01-07T00:00:00\",\"2014-01-08T00:00:00\",\"2014-01-09T00:00:00\",\"2014-01-10T00:00:00\",\"2014-01-11T00:00:00\",\"2014-01-12T00:00:00\",\"2014-01-13T00:00:00\",\"2014-01-14T00:00:00\",\"2014-01-15T00:00:00\",\"2014-01-16T00:00:00\",\"2014-01-17T00:00:00\",\"2014-01-18T00:00:00\",\"2014-01-19T00:00:00\",\"2014-01-20T00:00:00\",\"2014-01-21T00:00:00\",\"2014-01-22T00:00:00\",\"2014-01-23T00:00:00\",\"2014-01-24T00:00:00\",\"2014-01-25T00:00:00\",\"2014-01-26T00:00:00\",\"2014-01-27T00:00:00\",\"2014-01-28T00:00:00\",\"2014-01-29T00:00:00\",\"2014-01-30T00:00:00\",\"2014-01-31T00:00:00\",\"2014-02-01T00:00:00\",\"2014-02-02T00:00:00\",\"2014-02-03T00:00:00\",\"2014-02-04T00:00:00\",\"2014-02-05T00:00:00\",\"2014-02-06T00:00:00\",\"2014-02-07T00:00:00\",\"2014-02-08T00:00:00\",\"2014-02-09T00:00:00\",\"2014-02-10T00:00:00\",\"2014-02-11T00:00:00\",\"2014-02-12T00:00:00\",\"2014-02-13T00:00:00\",\"2014-02-14T00:00:00\",\"2014-02-15T00:00:00\",\"2014-02-16T00:00:00\",\"2014-02-17T00:00:00\",\"2014-02-18T00:00:00\",\"2014-02-19T00:00:00\",\"2014-02-20T00:00:00\",\"2014-02-21T00:00:00\",\"2014-02-22T00:00:00\",\"2014-02-23T00:00:00\",\"2014-02-24T00:00:00\",\"2014-02-25T00:00:00\",\"2014-02-26T00:00:00\",\"2014-02-27T00:00:00\",\"2014-02-28T00:00:00\",\"2014-03-01T00:00:00\",\"2014-03-02T00:00:00\",\"2014-03-03T00:00:00\",\"2014-03-04T00:00:00\",\"2014-03-05T00:00:00\",\"2014-03-06T00:00:00\",\"2014-03-07T00:00:00\",\"2014-03-08T00:00:00\",\"2014-03-09T00:00:00\",\"2014-03-10T00:00:00\",\"2014-03-11T00:00:00\",\"2014-03-12T00:00:00\",\"2014-03-13T00:00:00\",\"2014-03-14T00:00:00\",\"2014-03-15T00:00:00\",\"2014-03-16T00:00:00\",\"2014-03-17T00:00:00\",\"2014-03-18T00:00:00\",\"2014-03-19T00:00:00\",\"2014-03-20T00:00:00\",\"2014-03-21T00:00:00\",\"2014-03-22T00:00:00\",\"2014-03-23T00:00:00\",\"2014-03-24T00:00:00\",\"2014-03-25T00:00:00\",\"2014-03-26T00:00:00\",\"2014-03-27T00:00:00\",\"2014-03-28T00:00:00\",\"2014-03-29T00:00:00\",\"2014-03-30T00:00:00\",\"2014-03-31T00:00:00\",\"2014-04-01T00:00:00\",\"2014-04-02T00:00:00\",\"2014-04-03T00:00:00\",\"2014-04-04T00:00:00\",\"2014-04-05T00:00:00\",\"2014-04-06T00:00:00\",\"2014-04-07T00:00:00\",\"2014-04-08T00:00:00\",\"2014-04-09T00:00:00\",\"2014-04-10T00:00:00\",\"2014-04-11T00:00:00\",\"2014-04-12T00:00:00\",\"2014-04-13T00:00:00\",\"2014-04-14T00:00:00\",\"2014-04-15T00:00:00\",\"2014-04-16T00:00:00\",\"2014-04-17T00:00:00\",\"2014-04-18T00:00:00\",\"2014-04-19T00:00:00\",\"2014-04-20T00:00:00\",\"2014-04-21T00:00:00\",\"2014-04-22T00:00:00\",\"2014-04-23T00:00:00\",\"2014-04-24T00:00:00\",\"2014-04-25T00:00:00\",\"2014-04-26T00:00:00\",\"2014-04-27T00:00:00\",\"2014-04-28T00:00:00\",\"2014-04-29T00:00:00\",\"2014-04-30T00:00:00\",\"2014-05-01T00:00:00\",\"2014-05-02T00:00:00\",\"2014-05-03T00:00:00\",\"2014-05-04T00:00:00\",\"2014-05-05T00:00:00\",\"2014-05-06T00:00:00\",\"2014-05-07T00:00:00\",\"2014-05-08T00:00:00\",\"2014-05-09T00:00:00\",\"2014-05-10T00:00:00\",\"2014-05-11T00:00:00\",\"2014-05-12T00:00:00\",\"2014-05-13T00:00:00\",\"2014-05-14T00:00:00\",\"2014-05-15T00:00:00\",\"2014-05-16T00:00:00\",\"2014-05-17T00:00:00\",\"2014-05-18T00:00:00\",\"2014-05-19T00:00:00\",\"2014-05-20T00:00:00\",\"2014-05-21T00:00:00\",\"2014-05-22T00:00:00\",\"2014-05-23T00:00:00\",\"2014-05-24T00:00:00\",\"2014-05-25T00:00:00\",\"2014-05-26T00:00:00\",\"2014-05-27T00:00:00\",\"2014-05-28T00:00:00\",\"2014-05-29T00:00:00\",\"2014-05-30T00:00:00\",\"2014-05-31T00:00:00\",\"2014-06-01T00:00:00\",\"2014-06-02T00:00:00\",\"2014-06-03T00:00:00\",\"2014-06-04T00:00:00\",\"2014-06-05T00:00:00\",\"2014-06-06T00:00:00\",\"2014-06-07T00:00:00\",\"2014-06-08T00:00:00\",\"2014-06-09T00:00:00\",\"2014-06-10T00:00:00\",\"2014-06-11T00:00:00\",\"2014-06-12T00:00:00\",\"2014-06-13T00:00:00\",\"2014-06-14T00:00:00\",\"2014-06-15T00:00:00\",\"2014-06-16T00:00:00\",\"2014-06-17T00:00:00\",\"2014-06-18T00:00:00\",\"2014-06-19T00:00:00\",\"2014-06-20T00:00:00\",\"2014-06-21T00:00:00\",\"2014-06-22T00:00:00\",\"2014-06-23T00:00:00\",\"2014-06-24T00:00:00\",\"2014-06-25T00:00:00\",\"2014-06-26T00:00:00\",\"2014-06-27T00:00:00\",\"2014-06-28T00:00:00\",\"2014-06-29T00:00:00\",\"2014-06-30T00:00:00\",\"2014-07-01T00:00:00\",\"2014-07-02T00:00:00\",\"2014-07-03T00:00:00\",\"2014-07-04T00:00:00\",\"2014-07-05T00:00:00\",\"2014-07-06T00:00:00\",\"2014-07-07T00:00:00\",\"2014-07-08T00:00:00\",\"2014-07-09T00:00:00\",\"2014-07-10T00:00:00\",\"2014-07-11T00:00:00\",\"2014-07-12T00:00:00\",\"2014-07-13T00:00:00\",\"2014-07-14T00:00:00\",\"2014-07-15T00:00:00\",\"2014-07-16T00:00:00\",\"2014-07-17T00:00:00\",\"2014-07-18T00:00:00\",\"2014-07-19T00:00:00\",\"2014-07-20T00:00:00\",\"2014-07-21T00:00:00\",\"2014-07-22T00:00:00\",\"2014-07-23T00:00:00\",\"2014-07-24T00:00:00\",\"2014-07-25T00:00:00\",\"2014-07-26T00:00:00\",\"2014-07-27T00:00:00\",\"2014-07-28T00:00:00\",\"2014-07-29T00:00:00\",\"2014-07-30T00:00:00\",\"2014-07-31T00:00:00\",\"2014-08-01T00:00:00\",\"2014-08-02T00:00:00\",\"2014-08-03T00:00:00\",\"2014-08-04T00:00:00\",\"2014-08-05T00:00:00\",\"2014-08-06T00:00:00\",\"2014-08-07T00:00:00\",\"2014-08-08T00:00:00\",\"2014-08-09T00:00:00\",\"2014-08-10T00:00:00\",\"2014-08-11T00:00:00\",\"2014-08-12T00:00:00\",\"2014-08-13T00:00:00\",\"2014-08-14T00:00:00\",\"2014-08-15T00:00:00\",\"2014-08-16T00:00:00\",\"2014-08-17T00:00:00\",\"2014-08-18T00:00:00\",\"2014-08-19T00:00:00\",\"2014-08-20T00:00:00\",\"2014-08-21T00:00:00\",\"2014-08-22T00:00:00\",\"2014-08-23T00:00:00\",\"2014-08-24T00:00:00\",\"2014-08-25T00:00:00\",\"2014-08-26T00:00:00\",\"2014-08-27T00:00:00\",\"2014-08-28T00:00:00\",\"2014-08-29T00:00:00\",\"2014-08-30T00:00:00\",\"2014-08-31T00:00:00\",\"2014-09-01T00:00:00\",\"2014-09-02T00:00:00\",\"2014-09-03T00:00:00\",\"2014-09-04T00:00:00\",\"2014-09-05T00:00:00\",\"2014-09-06T00:00:00\",\"2014-09-07T00:00:00\",\"2014-09-08T00:00:00\",\"2014-09-09T00:00:00\",\"2014-09-10T00:00:00\",\"2014-09-11T00:00:00\",\"2014-09-12T00:00:00\",\"2014-09-13T00:00:00\",\"2014-09-14T00:00:00\",\"2014-09-15T00:00:00\",\"2014-09-16T00:00:00\",\"2014-09-17T00:00:00\",\"2014-09-18T00:00:00\",\"2014-09-19T00:00:00\",\"2014-09-20T00:00:00\",\"2014-09-21T00:00:00\",\"2014-09-22T00:00:00\",\"2014-09-23T00:00:00\",\"2014-09-24T00:00:00\",\"2014-09-25T00:00:00\",\"2014-09-26T00:00:00\",\"2014-09-27T00:00:00\",\"2014-09-28T00:00:00\",\"2014-09-29T00:00:00\",\"2014-09-30T00:00:00\",\"2014-10-01T00:00:00\",\"2014-10-02T00:00:00\",\"2014-10-03T00:00:00\",\"2014-10-04T00:00:00\",\"2014-10-05T00:00:00\",\"2014-10-06T00:00:00\",\"2014-10-07T00:00:00\",\"2014-10-08T00:00:00\",\"2014-10-09T00:00:00\",\"2014-10-10T00:00:00\",\"2014-10-11T00:00:00\",\"2014-10-12T00:00:00\",\"2014-10-13T00:00:00\",\"2014-10-14T00:00:00\",\"2014-10-15T00:00:00\",\"2014-10-16T00:00:00\",\"2014-10-17T00:00:00\",\"2014-10-18T00:00:00\",\"2014-10-19T00:00:00\",\"2014-10-20T00:00:00\",\"2014-10-21T00:00:00\",\"2014-10-22T00:00:00\",\"2014-10-23T00:00:00\",\"2014-10-24T00:00:00\",\"2014-10-25T00:00:00\",\"2014-10-26T00:00:00\",\"2014-10-27T00:00:00\",\"2014-10-28T00:00:00\",\"2014-10-29T00:00:00\",\"2014-10-30T00:00:00\",\"2014-10-31T00:00:00\",\"2014-11-01T00:00:00\",\"2014-11-02T00:00:00\",\"2014-11-03T00:00:00\",\"2014-11-04T00:00:00\",\"2014-11-05T00:00:00\",\"2014-11-06T00:00:00\",\"2014-11-07T00:00:00\",\"2014-11-08T00:00:00\",\"2014-11-09T00:00:00\",\"2014-11-10T00:00:00\",\"2014-11-11T00:00:00\",\"2014-11-12T00:00:00\",\"2014-11-13T00:00:00\",\"2014-11-14T00:00:00\",\"2014-11-15T00:00:00\",\"2014-11-16T00:00:00\",\"2014-11-17T00:00:00\",\"2014-11-18T00:00:00\",\"2014-11-19T00:00:00\",\"2014-11-20T00:00:00\",\"2014-11-21T00:00:00\",\"2014-11-22T00:00:00\",\"2014-11-23T00:00:00\",\"2014-11-24T00:00:00\",\"2014-11-25T00:00:00\",\"2014-11-26T00:00:00\",\"2014-11-27T00:00:00\",\"2014-11-28T00:00:00\",\"2014-11-29T00:00:00\",\"2014-11-30T00:00:00\",\"2014-12-01T00:00:00\",\"2014-12-02T00:00:00\",\"2014-12-03T00:00:00\",\"2014-12-04T00:00:00\",\"2014-12-05T00:00:00\",\"2014-12-06T00:00:00\",\"2014-12-07T00:00:00\",\"2014-12-08T00:00:00\",\"2014-12-09T00:00:00\",\"2014-12-10T00:00:00\",\"2014-12-11T00:00:00\",\"2014-12-12T00:00:00\",\"2014-12-13T00:00:00\",\"2014-12-14T00:00:00\",\"2014-12-15T00:00:00\",\"2014-12-16T00:00:00\",\"2014-12-17T00:00:00\",\"2014-12-18T00:00:00\",\"2014-12-19T00:00:00\",\"2014-12-20T00:00:00\",\"2014-12-21T00:00:00\",\"2014-12-22T00:00:00\",\"2014-12-23T00:00:00\",\"2014-12-24T00:00:00\",\"2014-12-25T00:00:00\",\"2014-12-26T00:00:00\",\"2014-12-27T00:00:00\",\"2014-12-28T00:00:00\",\"2014-12-29T00:00:00\",\"2014-12-30T00:00:00\",\"2014-12-31T00:00:00\",\"2015-01-01T00:00:00\",\"2015-01-02T00:00:00\",\"2015-01-03T00:00:00\",\"2015-01-04T00:00:00\",\"2015-01-05T00:00:00\",\"2015-01-06T00:00:00\",\"2015-01-07T00:00:00\",\"2015-01-08T00:00:00\",\"2015-01-09T00:00:00\",\"2015-01-10T00:00:00\",\"2015-01-11T00:00:00\",\"2015-01-12T00:00:00\",\"2015-01-13T00:00:00\",\"2015-01-14T00:00:00\",\"2015-01-15T00:00:00\",\"2015-01-16T00:00:00\",\"2015-01-17T00:00:00\",\"2015-01-18T00:00:00\",\"2015-01-19T00:00:00\",\"2015-01-20T00:00:00\",\"2015-01-21T00:00:00\",\"2015-01-22T00:00:00\",\"2015-01-23T00:00:00\",\"2015-01-24T00:00:00\",\"2015-01-25T00:00:00\",\"2015-01-26T00:00:00\",\"2015-01-27T00:00:00\",\"2015-01-28T00:00:00\",\"2015-01-29T00:00:00\",\"2015-01-30T00:00:00\",\"2015-01-31T00:00:00\",\"2015-02-01T00:00:00\",\"2015-02-02T00:00:00\",\"2015-02-03T00:00:00\",\"2015-02-04T00:00:00\",\"2015-02-05T00:00:00\",\"2015-02-06T00:00:00\",\"2015-02-07T00:00:00\",\"2015-02-08T00:00:00\",\"2015-02-09T00:00:00\",\"2015-02-10T00:00:00\",\"2015-02-11T00:00:00\",\"2015-02-12T00:00:00\",\"2015-02-13T00:00:00\",\"2015-02-14T00:00:00\",\"2015-02-15T00:00:00\",\"2015-02-16T00:00:00\",\"2015-02-17T00:00:00\",\"2015-02-18T00:00:00\",\"2015-02-19T00:00:00\",\"2015-02-20T00:00:00\",\"2015-02-21T00:00:00\",\"2015-02-22T00:00:00\",\"2015-02-23T00:00:00\",\"2015-02-24T00:00:00\",\"2015-02-25T00:00:00\",\"2015-02-26T00:00:00\",\"2015-02-27T00:00:00\",\"2015-02-28T00:00:00\",\"2015-03-01T00:00:00\",\"2015-03-02T00:00:00\",\"2015-03-03T00:00:00\",\"2015-03-04T00:00:00\",\"2015-03-05T00:00:00\",\"2015-03-06T00:00:00\",\"2015-03-07T00:00:00\",\"2015-03-08T00:00:00\",\"2015-03-09T00:00:00\",\"2015-03-10T00:00:00\",\"2015-03-11T00:00:00\",\"2015-03-12T00:00:00\",\"2015-03-13T00:00:00\",\"2015-03-14T00:00:00\",\"2015-03-15T00:00:00\",\"2015-03-16T00:00:00\",\"2015-03-17T00:00:00\",\"2015-03-18T00:00:00\",\"2015-03-19T00:00:00\",\"2015-03-20T00:00:00\",\"2015-03-21T00:00:00\",\"2015-03-22T00:00:00\",\"2015-03-23T00:00:00\",\"2015-03-24T00:00:00\",\"2015-03-25T00:00:00\",\"2015-03-26T00:00:00\",\"2015-03-27T00:00:00\",\"2015-03-28T00:00:00\",\"2015-03-29T00:00:00\",\"2015-03-30T00:00:00\",\"2015-03-31T00:00:00\",\"2015-04-01T00:00:00\",\"2015-04-02T00:00:00\",\"2015-04-03T00:00:00\",\"2015-04-04T00:00:00\",\"2015-04-05T00:00:00\",\"2015-04-06T00:00:00\",\"2015-04-07T00:00:00\",\"2015-04-08T00:00:00\",\"2015-04-09T00:00:00\",\"2015-04-10T00:00:00\",\"2015-04-11T00:00:00\",\"2015-04-12T00:00:00\",\"2015-04-13T00:00:00\",\"2015-04-14T00:00:00\",\"2015-04-15T00:00:00\",\"2015-04-16T00:00:00\",\"2015-04-17T00:00:00\",\"2015-04-18T00:00:00\",\"2015-04-19T00:00:00\",\"2015-04-20T00:00:00\",\"2015-04-21T00:00:00\",\"2015-04-22T00:00:00\",\"2015-04-23T00:00:00\",\"2015-04-24T00:00:00\",\"2015-04-25T00:00:00\",\"2015-04-26T00:00:00\",\"2015-04-27T00:00:00\",\"2015-04-28T00:00:00\",\"2015-04-29T00:00:00\",\"2015-04-30T00:00:00\",\"2015-05-01T00:00:00\",\"2015-05-02T00:00:00\",\"2015-05-03T00:00:00\",\"2015-05-04T00:00:00\",\"2015-05-05T00:00:00\",\"2015-05-06T00:00:00\",\"2015-05-07T00:00:00\",\"2015-05-08T00:00:00\",\"2015-05-09T00:00:00\",\"2015-05-10T00:00:00\",\"2015-05-11T00:00:00\",\"2015-05-12T00:00:00\",\"2015-05-13T00:00:00\",\"2015-05-14T00:00:00\",\"2015-05-15T00:00:00\",\"2015-05-16T00:00:00\",\"2015-05-17T00:00:00\",\"2015-05-18T00:00:00\",\"2015-05-19T00:00:00\",\"2015-05-20T00:00:00\",\"2015-05-21T00:00:00\",\"2015-05-22T00:00:00\",\"2015-05-23T00:00:00\",\"2015-05-24T00:00:00\",\"2015-05-25T00:00:00\",\"2015-05-26T00:00:00\",\"2015-05-27T00:00:00\",\"2015-05-28T00:00:00\",\"2015-05-29T00:00:00\",\"2015-05-30T00:00:00\",\"2015-05-31T00:00:00\",\"2015-06-01T00:00:00\",\"2015-06-02T00:00:00\",\"2015-06-03T00:00:00\",\"2015-06-04T00:00:00\",\"2015-06-05T00:00:00\",\"2015-06-06T00:00:00\",\"2015-06-07T00:00:00\",\"2015-06-08T00:00:00\",\"2015-06-09T00:00:00\",\"2015-06-10T00:00:00\",\"2015-06-11T00:00:00\",\"2015-06-12T00:00:00\",\"2015-06-13T00:00:00\",\"2015-06-14T00:00:00\",\"2015-06-15T00:00:00\",\"2015-06-16T00:00:00\",\"2015-06-17T00:00:00\",\"2015-06-18T00:00:00\",\"2015-06-19T00:00:00\",\"2015-06-20T00:00:00\",\"2015-06-21T00:00:00\",\"2015-06-22T00:00:00\",\"2015-06-23T00:00:00\",\"2015-06-24T00:00:00\",\"2015-06-25T00:00:00\",\"2015-06-26T00:00:00\",\"2015-06-27T00:00:00\",\"2015-06-28T00:00:00\",\"2015-06-29T00:00:00\",\"2015-06-30T00:00:00\",\"2015-07-01T00:00:00\",\"2015-07-02T00:00:00\",\"2015-07-03T00:00:00\",\"2015-07-04T00:00:00\",\"2015-07-05T00:00:00\",\"2015-07-06T00:00:00\",\"2015-07-07T00:00:00\",\"2015-07-08T00:00:00\",\"2015-07-09T00:00:00\",\"2015-07-10T00:00:00\",\"2015-07-11T00:00:00\",\"2015-07-12T00:00:00\",\"2015-07-13T00:00:00\",\"2015-07-14T00:00:00\",\"2015-07-15T00:00:00\",\"2015-07-16T00:00:00\",\"2015-07-17T00:00:00\",\"2015-07-18T00:00:00\",\"2015-07-19T00:00:00\",\"2015-07-20T00:00:00\",\"2015-07-21T00:00:00\",\"2015-07-22T00:00:00\",\"2015-07-23T00:00:00\",\"2015-07-24T00:00:00\",\"2015-07-25T00:00:00\",\"2015-07-26T00:00:00\",\"2015-07-27T00:00:00\",\"2015-07-28T00:00:00\",\"2015-07-29T00:00:00\",\"2015-07-30T00:00:00\",\"2015-07-31T00:00:00\",\"2015-08-01T00:00:00\",\"2015-08-02T00:00:00\",\"2015-08-03T00:00:00\",\"2015-08-04T00:00:00\",\"2015-08-05T00:00:00\",\"2015-08-06T00:00:00\",\"2015-08-07T00:00:00\",\"2015-08-08T00:00:00\",\"2015-08-09T00:00:00\",\"2015-08-10T00:00:00\",\"2015-08-11T00:00:00\",\"2015-08-12T00:00:00\",\"2015-08-13T00:00:00\",\"2015-08-14T00:00:00\",\"2015-08-15T00:00:00\",\"2015-08-16T00:00:00\",\"2015-08-17T00:00:00\",\"2015-08-18T00:00:00\",\"2015-08-19T00:00:00\",\"2015-08-20T00:00:00\",\"2015-08-21T00:00:00\",\"2015-08-22T00:00:00\",\"2015-08-23T00:00:00\",\"2015-08-24T00:00:00\",\"2015-08-25T00:00:00\",\"2015-08-26T00:00:00\",\"2015-08-27T00:00:00\",\"2015-08-28T00:00:00\",\"2015-08-29T00:00:00\",\"2015-08-30T00:00:00\",\"2015-08-31T00:00:00\",\"2015-09-01T00:00:00\",\"2015-09-02T00:00:00\",\"2015-09-03T00:00:00\",\"2015-09-04T00:00:00\",\"2015-09-05T00:00:00\",\"2015-09-06T00:00:00\",\"2015-09-07T00:00:00\",\"2015-09-08T00:00:00\",\"2015-09-09T00:00:00\",\"2015-09-10T00:00:00\",\"2015-09-11T00:00:00\",\"2015-09-12T00:00:00\",\"2015-09-13T00:00:00\",\"2015-09-14T00:00:00\",\"2015-09-15T00:00:00\",\"2015-09-16T00:00:00\",\"2015-09-17T00:00:00\",\"2015-09-18T00:00:00\",\"2015-09-19T00:00:00\",\"2015-09-20T00:00:00\",\"2015-09-21T00:00:00\",\"2015-09-22T00:00:00\",\"2015-09-23T00:00:00\",\"2015-09-24T00:00:00\",\"2015-09-25T00:00:00\",\"2015-09-26T00:00:00\",\"2015-09-27T00:00:00\",\"2015-09-28T00:00:00\",\"2015-09-29T00:00:00\",\"2015-09-30T00:00:00\",\"2015-10-01T00:00:00\",\"2015-10-02T00:00:00\",\"2015-10-03T00:00:00\",\"2015-10-04T00:00:00\",\"2015-10-05T00:00:00\",\"2015-10-06T00:00:00\",\"2015-10-07T00:00:00\",\"2015-10-08T00:00:00\",\"2015-10-09T00:00:00\",\"2015-10-10T00:00:00\",\"2015-10-11T00:00:00\",\"2015-10-12T00:00:00\",\"2015-10-13T00:00:00\",\"2015-10-14T00:00:00\",\"2015-10-15T00:00:00\",\"2015-10-16T00:00:00\",\"2015-10-17T00:00:00\",\"2015-10-18T00:00:00\",\"2015-10-19T00:00:00\",\"2015-10-20T00:00:00\",\"2015-10-21T00:00:00\",\"2015-10-22T00:00:00\",\"2015-10-23T00:00:00\",\"2015-10-24T00:00:00\",\"2015-10-25T00:00:00\",\"2015-10-26T00:00:00\",\"2015-10-27T00:00:00\",\"2015-10-28T00:00:00\",\"2015-10-29T00:00:00\",\"2015-10-30T00:00:00\",\"2015-10-31T00:00:00\",\"2015-11-01T00:00:00\",\"2015-11-02T00:00:00\",\"2015-11-03T00:00:00\",\"2015-11-04T00:00:00\",\"2015-11-05T00:00:00\",\"2015-11-06T00:00:00\",\"2015-11-07T00:00:00\",\"2015-11-08T00:00:00\",\"2015-11-09T00:00:00\",\"2015-11-10T00:00:00\",\"2015-11-11T00:00:00\",\"2015-11-12T00:00:00\",\"2015-11-13T00:00:00\",\"2015-11-14T00:00:00\",\"2015-11-15T00:00:00\",\"2015-11-16T00:00:00\",\"2015-11-17T00:00:00\",\"2015-11-18T00:00:00\",\"2015-11-19T00:00:00\",\"2015-11-20T00:00:00\",\"2015-11-21T00:00:00\",\"2015-11-22T00:00:00\",\"2015-11-23T00:00:00\",\"2015-11-24T00:00:00\",\"2015-11-25T00:00:00\",\"2015-11-26T00:00:00\",\"2015-11-27T00:00:00\",\"2015-11-28T00:00:00\",\"2015-11-29T00:00:00\",\"2015-11-30T00:00:00\",\"2015-12-01T00:00:00\",\"2015-12-02T00:00:00\",\"2015-12-03T00:00:00\",\"2015-12-04T00:00:00\",\"2015-12-05T00:00:00\",\"2015-12-06T00:00:00\",\"2015-12-07T00:00:00\",\"2015-12-08T00:00:00\",\"2015-12-09T00:00:00\",\"2015-12-10T00:00:00\",\"2015-12-11T00:00:00\",\"2015-12-12T00:00:00\",\"2015-12-13T00:00:00\",\"2015-12-14T00:00:00\",\"2015-12-15T00:00:00\",\"2015-12-16T00:00:00\",\"2015-12-17T00:00:00\",\"2015-12-18T00:00:00\",\"2015-12-19T00:00:00\",\"2015-12-20T00:00:00\",\"2015-12-21T00:00:00\",\"2015-12-22T00:00:00\",\"2015-12-23T00:00:00\",\"2015-12-24T00:00:00\",\"2015-12-25T00:00:00\",\"2015-12-26T00:00:00\",\"2015-12-27T00:00:00\",\"2015-12-28T00:00:00\",\"2015-12-29T00:00:00\",\"2015-12-30T00:00:00\",\"2015-12-31T00:00:00\",\"2016-01-01T00:00:00\",\"2016-01-02T00:00:00\",\"2016-01-03T00:00:00\",\"2016-01-04T00:00:00\",\"2016-01-05T00:00:00\",\"2016-01-06T00:00:00\",\"2016-01-07T00:00:00\",\"2016-01-08T00:00:00\",\"2016-01-09T00:00:00\",\"2016-01-10T00:00:00\",\"2016-01-11T00:00:00\",\"2016-01-12T00:00:00\",\"2016-01-13T00:00:00\",\"2016-01-14T00:00:00\",\"2016-01-15T00:00:00\",\"2016-01-16T00:00:00\",\"2016-01-17T00:00:00\",\"2016-01-18T00:00:00\",\"2016-01-19T00:00:00\",\"2016-01-20T00:00:00\",\"2016-01-21T00:00:00\",\"2016-01-22T00:00:00\",\"2016-01-23T00:00:00\",\"2016-01-24T00:00:00\",\"2016-01-25T00:00:00\",\"2016-01-26T00:00:00\",\"2016-01-27T00:00:00\",\"2016-01-28T00:00:00\",\"2016-01-29T00:00:00\",\"2016-01-30T00:00:00\",\"2016-01-31T00:00:00\",\"2016-02-01T00:00:00\",\"2016-02-02T00:00:00\",\"2016-02-03T00:00:00\",\"2016-02-04T00:00:00\",\"2016-02-05T00:00:00\",\"2016-02-06T00:00:00\",\"2016-02-07T00:00:00\",\"2016-02-08T00:00:00\",\"2016-02-09T00:00:00\",\"2016-02-10T00:00:00\",\"2016-02-11T00:00:00\",\"2016-02-12T00:00:00\",\"2016-02-13T00:00:00\",\"2016-02-14T00:00:00\",\"2016-02-15T00:00:00\",\"2016-02-16T00:00:00\",\"2016-02-17T00:00:00\",\"2016-02-18T00:00:00\",\"2016-02-19T00:00:00\",\"2016-02-20T00:00:00\",\"2016-02-21T00:00:00\",\"2016-02-22T00:00:00\",\"2016-02-23T00:00:00\",\"2016-02-24T00:00:00\",\"2016-02-25T00:00:00\",\"2016-02-26T00:00:00\",\"2016-02-27T00:00:00\",\"2016-02-28T00:00:00\",\"2016-02-29T00:00:00\",\"2016-03-01T00:00:00\",\"2016-03-02T00:00:00\",\"2016-03-03T00:00:00\",\"2016-03-04T00:00:00\",\"2016-03-05T00:00:00\",\"2016-03-06T00:00:00\",\"2016-03-07T00:00:00\",\"2016-03-08T00:00:00\",\"2016-03-09T00:00:00\",\"2016-03-10T00:00:00\",\"2016-03-11T00:00:00\",\"2016-03-12T00:00:00\",\"2016-03-13T00:00:00\",\"2016-03-14T00:00:00\",\"2016-03-15T00:00:00\",\"2016-03-16T00:00:00\",\"2016-03-17T00:00:00\",\"2016-03-18T00:00:00\",\"2016-03-19T00:00:00\",\"2016-03-20T00:00:00\",\"2016-03-21T00:00:00\",\"2016-03-22T00:00:00\",\"2016-03-23T00:00:00\",\"2016-03-24T00:00:00\",\"2016-03-25T00:00:00\",\"2016-03-26T00:00:00\",\"2016-03-27T00:00:00\",\"2016-03-28T00:00:00\",\"2016-03-29T00:00:00\",\"2016-03-30T00:00:00\",\"2016-03-31T00:00:00\",\"2016-04-01T00:00:00\",\"2016-04-02T00:00:00\",\"2016-04-03T00:00:00\",\"2016-04-04T00:00:00\",\"2016-04-05T00:00:00\",\"2016-04-06T00:00:00\",\"2016-04-07T00:00:00\",\"2016-04-08T00:00:00\",\"2016-04-09T00:00:00\",\"2016-04-10T00:00:00\",\"2016-04-11T00:00:00\",\"2016-04-12T00:00:00\",\"2016-04-13T00:00:00\",\"2016-04-14T00:00:00\",\"2016-04-15T00:00:00\",\"2016-04-16T00:00:00\",\"2016-04-17T00:00:00\",\"2016-04-18T00:00:00\",\"2016-04-19T00:00:00\",\"2016-04-20T00:00:00\",\"2016-04-21T00:00:00\",\"2016-04-22T00:00:00\",\"2016-04-23T00:00:00\",\"2016-04-24T00:00:00\",\"2016-04-25T00:00:00\",\"2016-04-26T00:00:00\",\"2016-04-27T00:00:00\",\"2016-04-28T00:00:00\",\"2016-04-29T00:00:00\",\"2016-04-30T00:00:00\",\"2016-05-01T00:00:00\",\"2016-05-02T00:00:00\",\"2016-05-03T00:00:00\",\"2016-05-04T00:00:00\",\"2016-05-05T00:00:00\",\"2016-05-06T00:00:00\",\"2016-05-07T00:00:00\",\"2016-05-08T00:00:00\",\"2016-05-09T00:00:00\",\"2016-05-10T00:00:00\",\"2016-05-11T00:00:00\",\"2016-05-12T00:00:00\",\"2016-05-13T00:00:00\",\"2016-05-14T00:00:00\",\"2016-05-15T00:00:00\",\"2016-05-16T00:00:00\",\"2016-05-17T00:00:00\",\"2016-05-18T00:00:00\",\"2016-05-19T00:00:00\",\"2016-05-20T00:00:00\",\"2016-05-21T00:00:00\",\"2016-05-22T00:00:00\",\"2016-05-23T00:00:00\",\"2016-05-24T00:00:00\",\"2016-05-25T00:00:00\",\"2016-05-26T00:00:00\",\"2016-05-27T00:00:00\",\"2016-05-28T00:00:00\",\"2016-05-29T00:00:00\",\"2016-05-30T00:00:00\",\"2016-05-31T00:00:00\",\"2016-06-01T00:00:00\",\"2016-06-02T00:00:00\",\"2016-06-03T00:00:00\",\"2016-06-04T00:00:00\",\"2016-06-05T00:00:00\",\"2016-06-06T00:00:00\",\"2016-06-07T00:00:00\",\"2016-06-08T00:00:00\",\"2016-06-09T00:00:00\",\"2016-06-10T00:00:00\",\"2016-06-11T00:00:00\",\"2016-06-12T00:00:00\",\"2016-06-13T00:00:00\",\"2016-06-14T00:00:00\",\"2016-06-15T00:00:00\",\"2016-06-16T00:00:00\",\"2016-06-17T00:00:00\",\"2016-06-18T00:00:00\",\"2016-06-19T00:00:00\",\"2016-06-20T00:00:00\",\"2016-06-21T00:00:00\",\"2016-06-22T00:00:00\",\"2016-06-23T00:00:00\",\"2016-06-24T00:00:00\",\"2016-06-25T00:00:00\",\"2016-06-26T00:00:00\",\"2016-06-27T00:00:00\",\"2016-06-28T00:00:00\",\"2016-06-29T00:00:00\",\"2016-06-30T00:00:00\",\"2016-07-01T00:00:00\",\"2016-07-02T00:00:00\",\"2016-07-03T00:00:00\",\"2016-07-04T00:00:00\",\"2016-07-05T00:00:00\",\"2016-07-06T00:00:00\",\"2016-07-07T00:00:00\",\"2016-07-08T00:00:00\",\"2016-07-09T00:00:00\",\"2016-07-10T00:00:00\",\"2016-07-11T00:00:00\",\"2016-07-12T00:00:00\",\"2016-07-13T00:00:00\",\"2016-07-14T00:00:00\",\"2016-07-15T00:00:00\",\"2016-07-16T00:00:00\",\"2016-07-17T00:00:00\",\"2016-07-18T00:00:00\",\"2016-07-19T00:00:00\",\"2016-07-20T00:00:00\",\"2016-07-21T00:00:00\",\"2016-07-22T00:00:00\",\"2016-07-23T00:00:00\",\"2016-07-24T00:00:00\",\"2016-07-25T00:00:00\",\"2016-07-26T00:00:00\",\"2016-07-27T00:00:00\",\"2016-07-28T00:00:00\",\"2016-07-29T00:00:00\",\"2016-07-30T00:00:00\",\"2016-07-31T00:00:00\",\"2016-08-01T00:00:00\",\"2016-08-02T00:00:00\",\"2016-08-03T00:00:00\",\"2016-08-04T00:00:00\",\"2016-08-05T00:00:00\",\"2016-08-06T00:00:00\",\"2016-08-07T00:00:00\",\"2016-08-08T00:00:00\",\"2016-08-09T00:00:00\",\"2016-08-10T00:00:00\",\"2016-08-11T00:00:00\",\"2016-08-12T00:00:00\",\"2016-08-13T00:00:00\",\"2016-08-14T00:00:00\",\"2016-08-15T00:00:00\",\"2016-08-16T00:00:00\",\"2016-08-17T00:00:00\",\"2016-08-18T00:00:00\",\"2016-08-19T00:00:00\",\"2016-08-20T00:00:00\",\"2016-08-21T00:00:00\",\"2016-08-22T00:00:00\",\"2016-08-23T00:00:00\",\"2016-08-24T00:00:00\",\"2016-08-25T00:00:00\",\"2016-08-26T00:00:00\",\"2016-08-27T00:00:00\",\"2016-08-28T00:00:00\",\"2016-08-29T00:00:00\",\"2016-08-30T00:00:00\",\"2016-08-31T00:00:00\",\"2016-09-01T00:00:00\",\"2016-09-02T00:00:00\",\"2016-09-03T00:00:00\",\"2016-09-04T00:00:00\",\"2016-09-05T00:00:00\",\"2016-09-06T00:00:00\",\"2016-09-07T00:00:00\",\"2016-09-08T00:00:00\",\"2016-09-09T00:00:00\",\"2016-09-10T00:00:00\",\"2016-09-11T00:00:00\",\"2016-09-12T00:00:00\",\"2016-09-13T00:00:00\",\"2016-09-14T00:00:00\",\"2016-09-15T00:00:00\",\"2016-09-16T00:00:00\",\"2016-09-17T00:00:00\",\"2016-09-18T00:00:00\",\"2016-09-19T00:00:00\",\"2016-09-20T00:00:00\",\"2016-09-21T00:00:00\",\"2016-09-22T00:00:00\",\"2016-09-23T00:00:00\",\"2016-09-24T00:00:00\",\"2016-09-25T00:00:00\",\"2016-09-26T00:00:00\",\"2016-09-27T00:00:00\",\"2016-09-28T00:00:00\",\"2016-09-29T00:00:00\",\"2016-09-30T00:00:00\",\"2016-10-01T00:00:00\",\"2016-10-02T00:00:00\",\"2016-10-03T00:00:00\",\"2016-10-04T00:00:00\",\"2016-10-05T00:00:00\",\"2016-10-06T00:00:00\",\"2016-10-07T00:00:00\",\"2016-10-08T00:00:00\",\"2016-10-09T00:00:00\",\"2016-10-10T00:00:00\",\"2016-10-11T00:00:00\",\"2016-10-12T00:00:00\",\"2016-10-13T00:00:00\",\"2016-10-14T00:00:00\",\"2016-10-15T00:00:00\",\"2016-10-16T00:00:00\",\"2016-10-17T00:00:00\",\"2016-10-18T00:00:00\",\"2016-10-19T00:00:00\",\"2016-10-20T00:00:00\",\"2016-10-21T00:00:00\",\"2016-10-22T00:00:00\",\"2016-10-23T00:00:00\",\"2016-10-24T00:00:00\",\"2016-10-25T00:00:00\",\"2016-10-26T00:00:00\",\"2016-10-27T00:00:00\",\"2016-10-28T00:00:00\",\"2016-10-29T00:00:00\",\"2016-10-30T00:00:00\",\"2016-10-31T00:00:00\",\"2016-11-01T00:00:00\",\"2016-11-02T00:00:00\",\"2016-11-03T00:00:00\",\"2016-11-04T00:00:00\",\"2016-11-05T00:00:00\",\"2016-11-06T00:00:00\",\"2016-11-07T00:00:00\",\"2016-11-08T00:00:00\",\"2016-11-09T00:00:00\",\"2016-11-10T00:00:00\",\"2016-11-11T00:00:00\",\"2016-11-12T00:00:00\",\"2016-11-13T00:00:00\",\"2016-11-14T00:00:00\",\"2016-11-15T00:00:00\",\"2016-11-16T00:00:00\",\"2016-11-17T00:00:00\",\"2016-11-18T00:00:00\",\"2016-11-19T00:00:00\",\"2016-11-20T00:00:00\",\"2016-11-21T00:00:00\",\"2016-11-22T00:00:00\",\"2016-11-23T00:00:00\",\"2016-11-24T00:00:00\",\"2016-11-25T00:00:00\",\"2016-11-26T00:00:00\",\"2016-11-27T00:00:00\",\"2016-11-28T00:00:00\",\"2016-11-29T00:00:00\",\"2016-11-30T00:00:00\",\"2016-12-01T00:00:00\",\"2016-12-02T00:00:00\",\"2016-12-03T00:00:00\",\"2016-12-04T00:00:00\",\"2016-12-05T00:00:00\",\"2016-12-06T00:00:00\",\"2016-12-07T00:00:00\",\"2016-12-08T00:00:00\",\"2016-12-09T00:00:00\",\"2016-12-10T00:00:00\",\"2016-12-11T00:00:00\",\"2016-12-12T00:00:00\",\"2016-12-13T00:00:00\",\"2016-12-14T00:00:00\",\"2016-12-15T00:00:00\",\"2016-12-16T00:00:00\",\"2016-12-17T00:00:00\",\"2016-12-18T00:00:00\",\"2016-12-19T00:00:00\",\"2016-12-20T00:00:00\",\"2016-12-21T00:00:00\",\"2016-12-22T00:00:00\",\"2016-12-23T00:00:00\",\"2016-12-24T00:00:00\",\"2016-12-25T00:00:00\",\"2016-12-26T00:00:00\",\"2016-12-27T00:00:00\",\"2016-12-28T00:00:00\",\"2016-12-29T00:00:00\",\"2016-12-30T00:00:00\",\"2016-12-31T00:00:00\",\"2017-01-01T00:00:00\",\"2017-01-02T00:00:00\",\"2017-01-03T00:00:00\",\"2017-01-04T00:00:00\",\"2017-01-05T00:00:00\",\"2017-01-06T00:00:00\",\"2017-01-07T00:00:00\",\"2017-01-08T00:00:00\",\"2017-01-09T00:00:00\",\"2017-01-10T00:00:00\",\"2017-01-11T00:00:00\",\"2017-01-12T00:00:00\",\"2017-01-13T00:00:00\",\"2017-01-14T00:00:00\",\"2017-01-15T00:00:00\",\"2017-01-16T00:00:00\",\"2017-01-17T00:00:00\",\"2017-01-18T00:00:00\",\"2017-01-19T00:00:00\",\"2017-01-20T00:00:00\",\"2017-01-21T00:00:00\",\"2017-01-22T00:00:00\",\"2017-01-23T00:00:00\",\"2017-01-24T00:00:00\",\"2017-01-25T00:00:00\",\"2017-01-26T00:00:00\",\"2017-01-27T00:00:00\",\"2017-01-28T00:00:00\",\"2017-01-29T00:00:00\",\"2017-01-30T00:00:00\",\"2017-01-31T00:00:00\",\"2017-02-01T00:00:00\",\"2017-02-02T00:00:00\",\"2017-02-03T00:00:00\",\"2017-02-04T00:00:00\",\"2017-02-05T00:00:00\",\"2017-02-06T00:00:00\",\"2017-02-07T00:00:00\",\"2017-02-08T00:00:00\",\"2017-02-09T00:00:00\",\"2017-02-10T00:00:00\",\"2017-02-11T00:00:00\",\"2017-02-12T00:00:00\",\"2017-02-13T00:00:00\",\"2017-02-14T00:00:00\",\"2017-02-15T00:00:00\",\"2017-02-16T00:00:00\",\"2017-02-17T00:00:00\",\"2017-02-18T00:00:00\",\"2017-02-19T00:00:00\",\"2017-02-20T00:00:00\",\"2017-02-21T00:00:00\",\"2017-02-22T00:00:00\",\"2017-02-23T00:00:00\",\"2017-02-24T00:00:00\",\"2017-02-25T00:00:00\",\"2017-02-26T00:00:00\",\"2017-02-27T00:00:00\",\"2017-02-28T00:00:00\",\"2017-03-01T00:00:00\",\"2017-03-02T00:00:00\",\"2017-03-03T00:00:00\",\"2017-03-04T00:00:00\",\"2017-03-05T00:00:00\",\"2017-03-06T00:00:00\",\"2017-03-07T00:00:00\",\"2017-03-08T00:00:00\",\"2017-03-09T00:00:00\",\"2017-03-10T00:00:00\",\"2017-03-11T00:00:00\",\"2017-03-12T00:00:00\",\"2017-03-13T00:00:00\",\"2017-03-14T00:00:00\",\"2017-03-15T00:00:00\",\"2017-03-16T00:00:00\",\"2017-03-17T00:00:00\",\"2017-03-18T00:00:00\",\"2017-03-19T00:00:00\",\"2017-03-20T00:00:00\",\"2017-03-21T00:00:00\",\"2017-03-22T00:00:00\",\"2017-03-23T00:00:00\",\"2017-03-24T00:00:00\",\"2017-03-25T00:00:00\",\"2017-03-26T00:00:00\",\"2017-03-27T00:00:00\",\"2017-03-28T00:00:00\",\"2017-03-29T00:00:00\",\"2017-03-30T00:00:00\",\"2017-03-31T00:00:00\",\"2017-04-01T00:00:00\",\"2017-04-02T00:00:00\",\"2017-04-03T00:00:00\",\"2017-04-04T00:00:00\",\"2017-04-05T00:00:00\",\"2017-04-06T00:00:00\",\"2017-04-07T00:00:00\",\"2017-04-08T00:00:00\",\"2017-04-09T00:00:00\",\"2017-04-10T00:00:00\",\"2017-04-11T00:00:00\",\"2017-04-12T00:00:00\",\"2017-04-13T00:00:00\",\"2017-04-14T00:00:00\",\"2017-04-15T00:00:00\",\"2017-04-16T00:00:00\",\"2017-04-17T00:00:00\",\"2017-04-18T00:00:00\",\"2017-04-19T00:00:00\",\"2017-04-20T00:00:00\",\"2017-04-21T00:00:00\",\"2017-04-22T00:00:00\",\"2017-04-23T00:00:00\",\"2017-04-24T00:00:00\",\"2017-04-25T00:00:00\",\"2017-04-26T00:00:00\",\"2017-04-27T00:00:00\",\"2017-04-28T00:00:00\",\"2017-04-29T00:00:00\",\"2017-04-30T00:00:00\",\"2017-05-01T00:00:00\",\"2017-05-02T00:00:00\",\"2017-05-03T00:00:00\",\"2017-05-04T00:00:00\",\"2017-05-05T00:00:00\",\"2017-05-06T00:00:00\",\"2017-05-07T00:00:00\",\"2017-05-08T00:00:00\",\"2017-05-09T00:00:00\",\"2017-05-10T00:00:00\",\"2017-05-11T00:00:00\",\"2017-05-12T00:00:00\",\"2017-05-13T00:00:00\",\"2017-05-14T00:00:00\",\"2017-05-15T00:00:00\",\"2017-05-16T00:00:00\",\"2017-05-17T00:00:00\",\"2017-05-18T00:00:00\",\"2017-05-19T00:00:00\",\"2017-05-20T00:00:00\",\"2017-05-21T00:00:00\",\"2017-05-22T00:00:00\",\"2017-05-23T00:00:00\",\"2017-05-24T00:00:00\",\"2017-05-25T00:00:00\",\"2017-05-26T00:00:00\",\"2017-05-27T00:00:00\",\"2017-05-28T00:00:00\",\"2017-05-29T00:00:00\",\"2017-05-30T00:00:00\",\"2017-05-31T00:00:00\",\"2017-06-01T00:00:00\",\"2017-06-02T00:00:00\",\"2017-06-03T00:00:00\",\"2017-06-04T00:00:00\",\"2017-06-05T00:00:00\",\"2017-06-06T00:00:00\",\"2017-06-07T00:00:00\",\"2017-06-08T00:00:00\",\"2017-06-09T00:00:00\",\"2017-06-10T00:00:00\",\"2017-06-11T00:00:00\",\"2017-06-12T00:00:00\",\"2017-06-13T00:00:00\",\"2017-06-14T00:00:00\",\"2017-06-15T00:00:00\",\"2017-06-16T00:00:00\",\"2017-06-17T00:00:00\",\"2017-06-18T00:00:00\",\"2017-06-19T00:00:00\",\"2017-06-20T00:00:00\",\"2017-06-21T00:00:00\",\"2017-06-22T00:00:00\",\"2017-06-23T00:00:00\",\"2017-06-24T00:00:00\",\"2017-06-25T00:00:00\",\"2017-06-26T00:00:00\",\"2017-06-27T00:00:00\",\"2017-06-28T00:00:00\",\"2017-06-29T00:00:00\",\"2017-06-30T00:00:00\",\"2017-07-01T00:00:00\",\"2017-07-02T00:00:00\",\"2017-07-03T00:00:00\",\"2017-07-04T00:00:00\",\"2017-07-05T00:00:00\",\"2017-07-06T00:00:00\",\"2017-07-07T00:00:00\",\"2017-07-08T00:00:00\",\"2017-07-09T00:00:00\",\"2017-07-10T00:00:00\",\"2017-07-11T00:00:00\",\"2017-07-12T00:00:00\",\"2017-07-13T00:00:00\",\"2017-07-14T00:00:00\",\"2017-07-15T00:00:00\",\"2017-07-16T00:00:00\",\"2017-07-17T00:00:00\",\"2017-07-18T00:00:00\",\"2017-07-19T00:00:00\",\"2017-07-20T00:00:00\",\"2017-07-21T00:00:00\",\"2017-07-22T00:00:00\",\"2017-07-23T00:00:00\",\"2017-07-24T00:00:00\",\"2017-07-25T00:00:00\",\"2017-07-26T00:00:00\",\"2017-07-27T00:00:00\",\"2017-07-28T00:00:00\",\"2017-07-29T00:00:00\",\"2017-07-30T00:00:00\",\"2017-07-31T00:00:00\",\"2017-08-01T00:00:00\",\"2017-08-02T00:00:00\",\"2017-08-03T00:00:00\",\"2017-08-04T00:00:00\",\"2017-08-05T00:00:00\",\"2017-08-06T00:00:00\",\"2017-08-07T00:00:00\",\"2017-08-08T00:00:00\",\"2017-08-09T00:00:00\",\"2017-08-10T00:00:00\",\"2017-08-11T00:00:00\",\"2017-08-12T00:00:00\",\"2017-08-13T00:00:00\",\"2017-08-14T00:00:00\",\"2017-08-15T00:00:00\",\"2017-08-16T00:00:00\",\"2017-08-17T00:00:00\",\"2017-08-18T00:00:00\",\"2017-08-19T00:00:00\",\"2017-08-20T00:00:00\",\"2017-08-21T00:00:00\",\"2017-08-22T00:00:00\",\"2017-08-23T00:00:00\",\"2017-08-24T00:00:00\",\"2017-08-25T00:00:00\",\"2017-08-26T00:00:00\",\"2017-08-27T00:00:00\",\"2017-08-28T00:00:00\",\"2017-08-29T00:00:00\",\"2017-08-30T00:00:00\",\"2017-08-31T00:00:00\",\"2017-09-01T00:00:00\",\"2017-09-02T00:00:00\",\"2017-09-03T00:00:00\",\"2017-09-04T00:00:00\",\"2017-09-05T00:00:00\",\"2017-09-06T00:00:00\",\"2017-09-07T00:00:00\",\"2017-09-08T00:00:00\",\"2017-09-09T00:00:00\",\"2017-09-10T00:00:00\",\"2017-09-11T00:00:00\",\"2017-09-12T00:00:00\",\"2017-09-13T00:00:00\",\"2017-09-14T00:00:00\",\"2017-09-15T00:00:00\",\"2017-09-16T00:00:00\",\"2017-09-17T00:00:00\",\"2017-09-18T00:00:00\",\"2017-09-19T00:00:00\",\"2017-09-20T00:00:00\",\"2017-09-21T00:00:00\",\"2017-09-22T00:00:00\",\"2017-09-23T00:00:00\",\"2017-09-24T00:00:00\",\"2017-09-25T00:00:00\",\"2017-09-26T00:00:00\",\"2017-09-27T00:00:00\",\"2017-09-28T00:00:00\",\"2017-09-29T00:00:00\",\"2017-09-30T00:00:00\",\"2017-10-01T00:00:00\",\"2017-10-02T00:00:00\",\"2017-10-03T00:00:00\",\"2017-10-04T00:00:00\",\"2017-10-05T00:00:00\",\"2017-10-06T00:00:00\",\"2017-10-07T00:00:00\",\"2017-10-08T00:00:00\",\"2017-10-09T00:00:00\",\"2017-10-10T00:00:00\",\"2017-10-11T00:00:00\",\"2017-10-12T00:00:00\",\"2017-10-13T00:00:00\",\"2017-10-14T00:00:00\",\"2017-10-15T00:00:00\",\"2017-10-16T00:00:00\",\"2017-10-17T00:00:00\",\"2017-10-18T00:00:00\",\"2017-10-19T00:00:00\",\"2017-10-20T00:00:00\",\"2017-10-21T00:00:00\",\"2017-10-22T00:00:00\",\"2017-10-23T00:00:00\",\"2017-10-24T00:00:00\",\"2017-10-25T00:00:00\",\"2017-10-26T00:00:00\",\"2017-10-27T00:00:00\",\"2017-10-28T00:00:00\",\"2017-10-29T00:00:00\",\"2017-10-30T00:00:00\",\"2017-10-31T00:00:00\",\"2017-11-01T00:00:00\",\"2017-11-02T00:00:00\",\"2017-11-03T00:00:00\",\"2017-11-04T00:00:00\",\"2017-11-05T00:00:00\",\"2017-11-06T00:00:00\",\"2017-11-07T00:00:00\",\"2017-11-08T00:00:00\",\"2017-11-09T00:00:00\",\"2017-11-10T00:00:00\",\"2017-11-11T00:00:00\",\"2017-11-12T00:00:00\",\"2017-11-13T00:00:00\",\"2017-11-14T00:00:00\",\"2017-11-15T00:00:00\",\"2017-11-16T00:00:00\",\"2017-11-17T00:00:00\",\"2017-11-18T00:00:00\",\"2017-11-19T00:00:00\",\"2017-11-20T00:00:00\",\"2017-11-21T00:00:00\",\"2017-11-22T00:00:00\",\"2017-11-23T00:00:00\",\"2017-11-24T00:00:00\",\"2017-11-25T00:00:00\",\"2017-11-26T00:00:00\",\"2017-11-27T00:00:00\",\"2017-11-28T00:00:00\",\"2017-11-29T00:00:00\",\"2017-11-30T00:00:00\",\"2017-12-01T00:00:00\",\"2017-12-02T00:00:00\",\"2017-12-03T00:00:00\",\"2017-12-04T00:00:00\",\"2017-12-05T00:00:00\",\"2017-12-06T00:00:00\",\"2017-12-07T00:00:00\",\"2017-12-08T00:00:00\",\"2017-12-09T00:00:00\",\"2017-12-10T00:00:00\",\"2017-12-11T00:00:00\",\"2017-12-12T00:00:00\",\"2017-12-13T00:00:00\",\"2017-12-14T00:00:00\",\"2017-12-15T00:00:00\",\"2017-12-16T00:00:00\",\"2017-12-17T00:00:00\",\"2017-12-18T00:00:00\",\"2017-12-19T00:00:00\",\"2017-12-20T00:00:00\",\"2017-12-21T00:00:00\",\"2017-12-22T00:00:00\",\"2017-12-23T00:00:00\",\"2017-12-24T00:00:00\",\"2017-12-25T00:00:00\",\"2017-12-26T00:00:00\",\"2017-12-27T00:00:00\",\"2017-12-28T00:00:00\",\"2017-12-29T00:00:00\",\"2017-12-30T00:00:00\",\"2017-12-31T00:00:00\",\"2018-01-01T00:00:00\",\"2018-01-02T00:00:00\",\"2018-01-03T00:00:00\",\"2018-01-04T00:00:00\",\"2018-01-05T00:00:00\",\"2018-01-06T00:00:00\",\"2018-01-07T00:00:00\",\"2018-01-08T00:00:00\",\"2018-01-09T00:00:00\",\"2018-01-10T00:00:00\",\"2018-01-11T00:00:00\",\"2018-01-12T00:00:00\",\"2018-01-13T00:00:00\",\"2018-01-14T00:00:00\",\"2018-01-15T00:00:00\",\"2018-01-16T00:00:00\",\"2018-01-17T00:00:00\",\"2018-01-18T00:00:00\",\"2018-01-19T00:00:00\",\"2018-01-20T00:00:00\",\"2018-01-21T00:00:00\",\"2018-01-22T00:00:00\",\"2018-01-23T00:00:00\",\"2018-01-24T00:00:00\",\"2018-01-25T00:00:00\",\"2018-01-26T00:00:00\",\"2018-01-27T00:00:00\",\"2018-01-28T00:00:00\",\"2018-01-29T00:00:00\",\"2018-01-30T00:00:00\",\"2018-01-31T00:00:00\",\"2018-02-01T00:00:00\",\"2018-02-02T00:00:00\",\"2018-02-03T00:00:00\",\"2018-02-04T00:00:00\",\"2018-02-05T00:00:00\",\"2018-02-06T00:00:00\",\"2018-02-07T00:00:00\",\"2018-02-08T00:00:00\",\"2018-02-09T00:00:00\",\"2018-02-10T00:00:00\",\"2018-02-11T00:00:00\",\"2018-02-12T00:00:00\",\"2018-02-13T00:00:00\",\"2018-02-14T00:00:00\",\"2018-02-15T00:00:00\",\"2018-02-16T00:00:00\",\"2018-02-17T00:00:00\",\"2018-02-18T00:00:00\",\"2018-02-19T00:00:00\",\"2018-02-20T00:00:00\",\"2018-02-21T00:00:00\",\"2018-02-22T00:00:00\",\"2018-02-23T00:00:00\",\"2018-02-24T00:00:00\",\"2018-02-25T00:00:00\",\"2018-02-26T00:00:00\",\"2018-02-27T00:00:00\",\"2018-02-28T00:00:00\",\"2018-03-01T00:00:00\",\"2018-03-02T00:00:00\",\"2018-03-03T00:00:00\",\"2018-03-04T00:00:00\",\"2018-03-05T00:00:00\",\"2018-03-06T00:00:00\",\"2018-03-07T00:00:00\",\"2018-03-08T00:00:00\",\"2018-03-09T00:00:00\",\"2018-03-10T00:00:00\",\"2018-03-11T00:00:00\",\"2018-03-12T00:00:00\",\"2018-03-13T00:00:00\",\"2018-03-14T00:00:00\",\"2018-03-15T00:00:00\",\"2018-03-16T00:00:00\",\"2018-03-17T00:00:00\",\"2018-03-18T00:00:00\",\"2018-03-19T00:00:00\",\"2018-03-20T00:00:00\",\"2018-03-21T00:00:00\",\"2018-03-22T00:00:00\",\"2018-03-23T00:00:00\",\"2018-03-24T00:00:00\",\"2018-03-25T00:00:00\",\"2018-03-26T00:00:00\",\"2018-03-27T00:00:00\",\"2018-03-28T00:00:00\",\"2018-03-29T00:00:00\",\"2018-03-30T00:00:00\",\"2018-03-31T00:00:00\",\"2018-04-01T00:00:00\",\"2018-04-02T00:00:00\",\"2018-04-03T00:00:00\",\"2018-04-04T00:00:00\",\"2018-04-05T00:00:00\",\"2018-04-06T00:00:00\",\"2018-04-07T00:00:00\",\"2018-04-08T00:00:00\",\"2018-04-09T00:00:00\",\"2018-04-10T00:00:00\",\"2018-04-11T00:00:00\",\"2018-04-12T00:00:00\",\"2018-04-13T00:00:00\",\"2018-04-14T00:00:00\",\"2018-04-15T00:00:00\",\"2018-04-16T00:00:00\",\"2018-04-17T00:00:00\",\"2018-04-18T00:00:00\",\"2018-04-19T00:00:00\",\"2018-04-20T00:00:00\",\"2018-04-21T00:00:00\",\"2018-04-22T00:00:00\",\"2018-04-23T00:00:00\",\"2018-04-24T00:00:00\",\"2018-04-25T00:00:00\",\"2018-04-26T00:00:00\",\"2018-04-27T00:00:00\",\"2018-04-28T00:00:00\",\"2018-04-29T00:00:00\",\"2018-04-30T00:00:00\",\"2018-05-01T00:00:00\",\"2018-05-02T00:00:00\",\"2018-05-03T00:00:00\",\"2018-05-04T00:00:00\",\"2018-05-05T00:00:00\",\"2018-05-06T00:00:00\",\"2018-05-07T00:00:00\",\"2018-05-08T00:00:00\",\"2018-05-09T00:00:00\",\"2018-05-10T00:00:00\",\"2018-05-11T00:00:00\",\"2018-05-12T00:00:00\",\"2018-05-13T00:00:00\",\"2018-05-14T00:00:00\",\"2018-05-15T00:00:00\",\"2018-05-16T00:00:00\",\"2018-05-17T00:00:00\",\"2018-05-18T00:00:00\",\"2018-05-19T00:00:00\",\"2018-05-20T00:00:00\",\"2018-05-21T00:00:00\",\"2018-05-22T00:00:00\",\"2018-05-23T00:00:00\",\"2018-05-24T00:00:00\",\"2018-05-25T00:00:00\",\"2018-05-26T00:00:00\",\"2018-05-27T00:00:00\",\"2018-05-28T00:00:00\",\"2018-05-29T00:00:00\",\"2018-05-30T00:00:00\",\"2018-05-31T00:00:00\",\"2018-06-01T00:00:00\",\"2018-06-02T00:00:00\",\"2018-06-03T00:00:00\",\"2018-06-04T00:00:00\",\"2018-06-05T00:00:00\",\"2018-06-06T00:00:00\",\"2018-06-07T00:00:00\",\"2018-06-08T00:00:00\",\"2018-06-09T00:00:00\",\"2018-06-10T00:00:00\",\"2018-06-11T00:00:00\",\"2018-06-12T00:00:00\",\"2018-06-13T00:00:00\",\"2018-06-14T00:00:00\",\"2018-06-15T00:00:00\",\"2018-06-16T00:00:00\",\"2018-06-17T00:00:00\",\"2018-06-18T00:00:00\",\"2018-06-19T00:00:00\",\"2018-06-20T00:00:00\",\"2018-06-21T00:00:00\",\"2018-06-22T00:00:00\",\"2018-06-23T00:00:00\",\"2018-06-24T00:00:00\",\"2018-06-25T00:00:00\",\"2018-06-26T00:00:00\",\"2018-06-27T00:00:00\",\"2018-06-28T00:00:00\",\"2018-06-29T00:00:00\",\"2018-06-30T00:00:00\",\"2018-07-01T00:00:00\",\"2018-07-02T00:00:00\",\"2018-07-03T00:00:00\",\"2018-07-04T00:00:00\",\"2018-07-05T00:00:00\",\"2018-07-06T00:00:00\",\"2018-07-07T00:00:00\",\"2018-07-08T00:00:00\",\"2018-07-09T00:00:00\",\"2018-07-10T00:00:00\",\"2018-07-11T00:00:00\",\"2018-07-12T00:00:00\",\"2018-07-13T00:00:00\",\"2018-07-14T00:00:00\",\"2018-07-15T00:00:00\",\"2018-07-16T00:00:00\",\"2018-07-17T00:00:00\",\"2018-07-18T00:00:00\",\"2018-07-19T00:00:00\",\"2018-07-20T00:00:00\",\"2018-07-21T00:00:00\",\"2018-07-22T00:00:00\",\"2018-07-23T00:00:00\",\"2018-07-24T00:00:00\",\"2018-07-25T00:00:00\",\"2018-07-26T00:00:00\",\"2018-07-27T00:00:00\",\"2018-07-28T00:00:00\",\"2018-07-29T00:00:00\",\"2018-07-30T00:00:00\",\"2018-07-31T00:00:00\",\"2018-08-01T00:00:00\",\"2018-08-02T00:00:00\",\"2018-08-03T00:00:00\",\"2018-08-04T00:00:00\",\"2018-08-05T00:00:00\",\"2018-08-06T00:00:00\",\"2018-08-07T00:00:00\",\"2018-08-08T00:00:00\",\"2018-08-09T00:00:00\",\"2018-08-10T00:00:00\",\"2018-08-11T00:00:00\",\"2018-08-12T00:00:00\",\"2018-08-13T00:00:00\",\"2018-08-14T00:00:00\",\"2018-08-15T00:00:00\",\"2018-08-16T00:00:00\",\"2018-08-17T00:00:00\",\"2018-08-18T00:00:00\",\"2018-08-19T00:00:00\",\"2018-08-20T00:00:00\",\"2018-08-21T00:00:00\",\"2018-08-22T00:00:00\",\"2018-08-23T00:00:00\",\"2018-08-24T00:00:00\",\"2018-08-25T00:00:00\",\"2018-08-26T00:00:00\",\"2018-08-27T00:00:00\",\"2018-08-28T00:00:00\",\"2018-08-29T00:00:00\",\"2018-08-30T00:00:00\",\"2018-08-31T00:00:00\",\"2018-09-01T00:00:00\",\"2018-09-02T00:00:00\",\"2018-09-03T00:00:00\",\"2018-09-04T00:00:00\",\"2018-09-05T00:00:00\",\"2018-09-06T00:00:00\",\"2018-09-07T00:00:00\",\"2018-09-08T00:00:00\",\"2018-09-09T00:00:00\",\"2018-09-10T00:00:00\",\"2018-09-11T00:00:00\",\"2018-09-12T00:00:00\",\"2018-09-13T00:00:00\",\"2018-09-14T00:00:00\",\"2018-09-15T00:00:00\",\"2018-09-16T00:00:00\",\"2018-09-17T00:00:00\",\"2018-09-18T00:00:00\",\"2018-09-19T00:00:00\",\"2018-09-20T00:00:00\",\"2018-09-21T00:00:00\",\"2018-09-22T00:00:00\",\"2018-09-23T00:00:00\",\"2018-09-24T00:00:00\",\"2018-09-25T00:00:00\",\"2018-09-26T00:00:00\",\"2018-09-27T00:00:00\",\"2018-09-28T00:00:00\",\"2018-09-29T00:00:00\",\"2018-09-30T00:00:00\",\"2018-10-01T00:00:00\",\"2018-10-02T00:00:00\",\"2018-10-03T00:00:00\",\"2018-10-04T00:00:00\",\"2018-10-05T00:00:00\",\"2018-10-06T00:00:00\",\"2018-10-07T00:00:00\",\"2018-10-08T00:00:00\",\"2018-10-09T00:00:00\",\"2018-10-10T00:00:00\",\"2018-10-11T00:00:00\",\"2018-10-12T00:00:00\",\"2018-10-13T00:00:00\",\"2018-10-14T00:00:00\",\"2018-10-15T00:00:00\",\"2018-10-16T00:00:00\",\"2018-10-17T00:00:00\",\"2018-10-18T00:00:00\",\"2018-10-19T00:00:00\",\"2018-10-20T00:00:00\",\"2018-10-21T00:00:00\",\"2018-10-22T00:00:00\",\"2018-10-23T00:00:00\",\"2018-10-24T00:00:00\",\"2018-10-25T00:00:00\",\"2018-10-26T00:00:00\",\"2018-10-27T00:00:00\",\"2018-10-28T00:00:00\",\"2018-10-29T00:00:00\",\"2018-10-30T00:00:00\",\"2018-10-31T00:00:00\",\"2018-11-01T00:00:00\",\"2018-11-02T00:00:00\",\"2018-11-03T00:00:00\",\"2018-11-04T00:00:00\",\"2018-11-05T00:00:00\",\"2018-11-06T00:00:00\",\"2018-11-07T00:00:00\",\"2018-11-08T00:00:00\",\"2018-11-09T00:00:00\",\"2018-11-10T00:00:00\",\"2018-11-11T00:00:00\",\"2018-11-12T00:00:00\",\"2018-11-13T00:00:00\",\"2018-11-14T00:00:00\",\"2018-11-15T00:00:00\",\"2018-11-16T00:00:00\",\"2018-11-17T00:00:00\",\"2018-11-18T00:00:00\",\"2018-11-19T00:00:00\",\"2018-11-20T00:00:00\",\"2018-11-21T00:00:00\",\"2018-11-22T00:00:00\",\"2018-11-23T00:00:00\",\"2018-11-24T00:00:00\",\"2018-11-25T00:00:00\",\"2018-11-26T00:00:00\",\"2018-11-27T00:00:00\",\"2018-11-28T00:00:00\",\"2018-11-29T00:00:00\",\"2018-11-30T00:00:00\",\"2018-12-01T00:00:00\",\"2018-12-02T00:00:00\",\"2018-12-03T00:00:00\",\"2018-12-04T00:00:00\",\"2018-12-05T00:00:00\",\"2018-12-06T00:00:00\",\"2018-12-07T00:00:00\",\"2018-12-08T00:00:00\",\"2018-12-09T00:00:00\",\"2018-12-10T00:00:00\",\"2018-12-11T00:00:00\",\"2018-12-12T00:00:00\",\"2018-12-13T00:00:00\",\"2018-12-14T00:00:00\",\"2018-12-15T00:00:00\",\"2018-12-16T00:00:00\",\"2018-12-17T00:00:00\",\"2018-12-18T00:00:00\",\"2018-12-19T00:00:00\",\"2018-12-20T00:00:00\",\"2018-12-21T00:00:00\",\"2018-12-22T00:00:00\",\"2018-12-23T00:00:00\",\"2018-12-24T00:00:00\",\"2018-12-25T00:00:00\",\"2018-12-26T00:00:00\",\"2018-12-27T00:00:00\",\"2018-12-28T00:00:00\",\"2018-12-29T00:00:00\",\"2018-12-30T00:00:00\",\"2018-12-31T00:00:00\",\"2019-01-01T00:00:00\",\"2019-01-02T00:00:00\",\"2019-01-03T00:00:00\",\"2019-01-04T00:00:00\",\"2019-01-05T00:00:00\",\"2019-01-06T00:00:00\",\"2019-01-07T00:00:00\",\"2019-01-08T00:00:00\",\"2019-01-09T00:00:00\",\"2019-01-10T00:00:00\",\"2019-01-11T00:00:00\",\"2019-01-12T00:00:00\",\"2019-01-13T00:00:00\",\"2019-01-14T00:00:00\",\"2019-01-15T00:00:00\",\"2019-01-16T00:00:00\",\"2019-01-17T00:00:00\",\"2019-01-18T00:00:00\",\"2019-01-19T00:00:00\",\"2019-01-20T00:00:00\",\"2019-01-21T00:00:00\",\"2019-01-22T00:00:00\",\"2019-01-23T00:00:00\",\"2019-01-24T00:00:00\",\"2019-01-25T00:00:00\",\"2019-01-26T00:00:00\",\"2019-01-27T00:00:00\",\"2019-01-28T00:00:00\",\"2019-01-29T00:00:00\",\"2019-01-30T00:00:00\",\"2019-01-31T00:00:00\",\"2019-02-01T00:00:00\",\"2019-02-02T00:00:00\",\"2019-02-03T00:00:00\",\"2019-02-04T00:00:00\",\"2019-02-05T00:00:00\",\"2019-02-06T00:00:00\",\"2019-02-07T00:00:00\",\"2019-02-08T00:00:00\",\"2019-02-09T00:00:00\",\"2019-02-10T00:00:00\",\"2019-02-11T00:00:00\",\"2019-02-12T00:00:00\",\"2019-02-13T00:00:00\",\"2019-02-14T00:00:00\",\"2019-02-15T00:00:00\",\"2019-02-16T00:00:00\",\"2019-02-17T00:00:00\",\"2019-02-18T00:00:00\",\"2019-02-19T00:00:00\",\"2019-02-20T00:00:00\",\"2019-02-21T00:00:00\",\"2019-02-22T00:00:00\",\"2019-02-23T00:00:00\",\"2019-02-24T00:00:00\",\"2019-02-25T00:00:00\",\"2019-02-26T00:00:00\",\"2019-02-27T00:00:00\",\"2019-02-28T00:00:00\",\"2019-03-01T00:00:00\",\"2019-03-02T00:00:00\",\"2019-03-03T00:00:00\",\"2019-03-04T00:00:00\",\"2019-03-05T00:00:00\",\"2019-03-06T00:00:00\",\"2019-03-07T00:00:00\",\"2019-03-08T00:00:00\",\"2019-03-09T00:00:00\",\"2019-03-10T00:00:00\",\"2019-03-11T00:00:00\",\"2019-03-12T00:00:00\",\"2019-03-13T00:00:00\",\"2019-03-14T00:00:00\",\"2019-03-15T00:00:00\",\"2019-03-16T00:00:00\",\"2019-03-17T00:00:00\",\"2019-03-18T00:00:00\",\"2019-03-19T00:00:00\",\"2019-03-20T00:00:00\",\"2019-03-21T00:00:00\",\"2019-03-22T00:00:00\",\"2019-03-23T00:00:00\",\"2019-03-24T00:00:00\",\"2019-03-25T00:00:00\",\"2019-03-26T00:00:00\",\"2019-03-27T00:00:00\",\"2019-03-28T00:00:00\",\"2019-03-29T00:00:00\",\"2019-03-30T00:00:00\",\"2019-03-31T00:00:00\",\"2019-04-01T00:00:00\",\"2019-04-02T00:00:00\",\"2019-04-03T00:00:00\",\"2019-04-04T00:00:00\",\"2019-04-05T00:00:00\",\"2019-04-06T00:00:00\",\"2019-04-07T00:00:00\",\"2019-04-08T00:00:00\",\"2019-04-09T00:00:00\",\"2019-04-10T00:00:00\",\"2019-04-11T00:00:00\",\"2019-04-12T00:00:00\",\"2019-04-13T00:00:00\",\"2019-04-14T00:00:00\",\"2019-04-15T00:00:00\",\"2019-04-16T00:00:00\",\"2019-04-17T00:00:00\",\"2019-04-18T00:00:00\",\"2019-04-19T00:00:00\",\"2019-04-20T00:00:00\",\"2019-04-21T00:00:00\",\"2019-04-22T00:00:00\",\"2019-04-23T00:00:00\",\"2019-04-24T00:00:00\",\"2019-04-25T00:00:00\",\"2019-04-26T00:00:00\",\"2019-04-27T00:00:00\",\"2019-04-28T00:00:00\",\"2019-04-29T00:00:00\",\"2019-04-30T00:00:00\",\"2019-05-01T00:00:00\",\"2019-05-02T00:00:00\",\"2019-05-03T00:00:00\",\"2019-05-04T00:00:00\",\"2019-05-05T00:00:00\",\"2019-05-06T00:00:00\",\"2019-05-07T00:00:00\",\"2019-05-08T00:00:00\",\"2019-05-09T00:00:00\",\"2019-05-10T00:00:00\",\"2019-05-11T00:00:00\",\"2019-05-12T00:00:00\",\"2019-05-13T00:00:00\",\"2019-05-14T00:00:00\",\"2019-05-15T00:00:00\",\"2019-05-16T00:00:00\",\"2019-05-17T00:00:00\",\"2019-05-18T00:00:00\",\"2019-05-19T00:00:00\",\"2019-05-20T00:00:00\",\"2019-05-21T00:00:00\",\"2019-05-22T00:00:00\",\"2019-05-23T00:00:00\",\"2019-05-24T00:00:00\",\"2019-05-25T00:00:00\",\"2019-05-26T00:00:00\",\"2019-05-27T00:00:00\",\"2019-05-28T00:00:00\",\"2019-05-29T00:00:00\",\"2019-05-30T00:00:00\",\"2019-05-31T00:00:00\",\"2019-06-01T00:00:00\",\"2019-06-02T00:00:00\",\"2019-06-03T00:00:00\",\"2019-06-04T00:00:00\",\"2019-06-05T00:00:00\",\"2019-06-06T00:00:00\",\"2019-06-07T00:00:00\",\"2019-06-08T00:00:00\",\"2019-06-09T00:00:00\",\"2019-06-10T00:00:00\",\"2019-06-11T00:00:00\",\"2019-06-12T00:00:00\",\"2019-06-13T00:00:00\",\"2019-06-14T00:00:00\",\"2019-06-15T00:00:00\",\"2019-06-16T00:00:00\",\"2019-06-17T00:00:00\",\"2019-06-18T00:00:00\",\"2019-06-19T00:00:00\",\"2019-06-20T00:00:00\",\"2019-06-21T00:00:00\",\"2019-06-22T00:00:00\",\"2019-06-23T00:00:00\",\"2019-06-24T00:00:00\",\"2019-06-25T00:00:00\",\"2019-06-26T00:00:00\",\"2019-06-27T00:00:00\",\"2019-06-28T00:00:00\",\"2019-06-29T00:00:00\",\"2019-06-30T00:00:00\",\"2019-07-01T00:00:00\",\"2019-07-02T00:00:00\",\"2019-07-03T00:00:00\",\"2019-07-04T00:00:00\",\"2019-07-05T00:00:00\",\"2019-07-06T00:00:00\",\"2019-07-07T00:00:00\",\"2019-07-08T00:00:00\",\"2019-07-09T00:00:00\",\"2019-07-10T00:00:00\",\"2019-07-11T00:00:00\",\"2019-07-12T00:00:00\",\"2019-07-13T00:00:00\",\"2019-07-14T00:00:00\",\"2019-07-15T00:00:00\",\"2019-07-16T00:00:00\",\"2019-07-17T00:00:00\",\"2019-07-18T00:00:00\",\"2019-07-19T00:00:00\",\"2019-07-20T00:00:00\",\"2019-07-21T00:00:00\",\"2019-07-22T00:00:00\",\"2019-07-23T00:00:00\",\"2019-07-24T00:00:00\",\"2019-07-25T00:00:00\",\"2019-07-26T00:00:00\",\"2019-07-27T00:00:00\",\"2019-07-28T00:00:00\",\"2019-07-29T00:00:00\",\"2019-07-30T00:00:00\",\"2019-07-31T00:00:00\",\"2019-08-01T00:00:00\",\"2019-08-02T00:00:00\",\"2019-08-03T00:00:00\",\"2019-08-04T00:00:00\",\"2019-08-05T00:00:00\",\"2019-08-06T00:00:00\",\"2019-08-07T00:00:00\",\"2019-08-08T00:00:00\",\"2019-08-09T00:00:00\",\"2019-08-10T00:00:00\",\"2019-08-11T00:00:00\",\"2019-08-12T00:00:00\",\"2019-08-13T00:00:00\",\"2019-08-14T00:00:00\",\"2019-08-15T00:00:00\",\"2019-08-16T00:00:00\",\"2019-08-17T00:00:00\",\"2019-08-18T00:00:00\",\"2019-08-19T00:00:00\",\"2019-08-20T00:00:00\",\"2019-08-21T00:00:00\",\"2019-08-22T00:00:00\",\"2019-08-23T00:00:00\",\"2019-08-24T00:00:00\",\"2019-08-25T00:00:00\",\"2019-08-26T00:00:00\",\"2019-08-27T00:00:00\",\"2019-08-28T00:00:00\",\"2019-08-29T00:00:00\",\"2019-08-30T00:00:00\",\"2019-08-31T00:00:00\",\"2019-09-01T00:00:00\",\"2019-09-02T00:00:00\",\"2019-09-03T00:00:00\",\"2019-09-04T00:00:00\",\"2019-09-05T00:00:00\",\"2019-09-06T00:00:00\",\"2019-09-07T00:00:00\",\"2019-09-08T00:00:00\",\"2019-09-09T00:00:00\",\"2019-09-10T00:00:00\",\"2019-09-11T00:00:00\",\"2019-09-12T00:00:00\",\"2019-09-13T00:00:00\",\"2019-09-14T00:00:00\",\"2019-09-15T00:00:00\",\"2019-09-16T00:00:00\",\"2019-09-17T00:00:00\",\"2019-09-18T00:00:00\",\"2019-09-19T00:00:00\",\"2019-09-20T00:00:00\",\"2019-09-21T00:00:00\",\"2019-09-22T00:00:00\",\"2019-09-23T00:00:00\",\"2019-09-24T00:00:00\",\"2019-09-25T00:00:00\",\"2019-09-26T00:00:00\",\"2019-09-27T00:00:00\",\"2019-09-28T00:00:00\",\"2019-09-29T00:00:00\",\"2019-09-30T00:00:00\",\"2019-10-01T00:00:00\",\"2019-10-02T00:00:00\",\"2019-10-03T00:00:00\",\"2019-10-04T00:00:00\",\"2019-10-05T00:00:00\",\"2019-10-06T00:00:00\",\"2019-10-07T00:00:00\",\"2019-10-08T00:00:00\",\"2019-10-09T00:00:00\",\"2019-10-10T00:00:00\",\"2019-10-11T00:00:00\",\"2019-10-12T00:00:00\",\"2019-10-13T00:00:00\",\"2019-10-14T00:00:00\",\"2019-10-15T00:00:00\",\"2019-10-16T00:00:00\",\"2019-10-17T00:00:00\",\"2019-10-18T00:00:00\",\"2019-10-19T00:00:00\",\"2019-10-20T00:00:00\",\"2019-10-21T00:00:00\",\"2019-10-22T00:00:00\",\"2019-10-23T00:00:00\",\"2019-10-24T00:00:00\",\"2019-10-25T00:00:00\",\"2019-10-26T00:00:00\",\"2019-10-27T00:00:00\",\"2019-10-28T00:00:00\",\"2019-10-29T00:00:00\",\"2019-10-30T00:00:00\",\"2019-10-31T00:00:00\",\"2019-11-01T00:00:00\",\"2019-11-02T00:00:00\",\"2019-11-03T00:00:00\",\"2019-11-04T00:00:00\",\"2019-11-05T00:00:00\",\"2019-11-06T00:00:00\",\"2019-11-07T00:00:00\",\"2019-11-08T00:00:00\",\"2019-11-09T00:00:00\",\"2019-11-10T00:00:00\",\"2019-11-11T00:00:00\",\"2019-11-12T00:00:00\",\"2019-11-13T00:00:00\",\"2019-11-14T00:00:00\",\"2019-11-15T00:00:00\",\"2019-11-16T00:00:00\",\"2019-11-17T00:00:00\",\"2019-11-18T00:00:00\",\"2019-11-19T00:00:00\",\"2019-11-20T00:00:00\",\"2019-11-21T00:00:00\",\"2019-11-22T00:00:00\",\"2019-11-23T00:00:00\",\"2019-11-24T00:00:00\",\"2019-11-25T00:00:00\",\"2019-11-26T00:00:00\",\"2019-11-27T00:00:00\",\"2019-11-28T00:00:00\",\"2019-11-29T00:00:00\",\"2019-11-30T00:00:00\",\"2019-12-01T00:00:00\",\"2019-12-02T00:00:00\",\"2019-12-03T00:00:00\",\"2019-12-04T00:00:00\",\"2019-12-05T00:00:00\",\"2019-12-06T00:00:00\",\"2019-12-07T00:00:00\",\"2019-12-08T00:00:00\",\"2019-12-09T00:00:00\",\"2019-12-10T00:00:00\",\"2019-12-11T00:00:00\",\"2019-12-12T00:00:00\",\"2019-12-13T00:00:00\",\"2019-12-14T00:00:00\",\"2019-12-15T00:00:00\",\"2019-12-16T00:00:00\",\"2019-12-17T00:00:00\",\"2019-12-18T00:00:00\",\"2019-12-19T00:00:00\",\"2019-12-20T00:00:00\",\"2019-12-21T00:00:00\",\"2019-12-22T00:00:00\",\"2019-12-23T00:00:00\",\"2019-12-24T00:00:00\",\"2019-12-25T00:00:00\",\"2019-12-26T00:00:00\",\"2019-12-27T00:00:00\",\"2019-12-28T00:00:00\",\"2019-12-29T00:00:00\",\"2019-12-30T00:00:00\",\"2019-12-31T00:00:00\",\"2020-01-01T00:00:00\",\"2020-01-02T00:00:00\",\"2020-01-03T00:00:00\",\"2020-01-04T00:00:00\",\"2020-01-05T00:00:00\",\"2020-01-06T00:00:00\",\"2020-01-07T00:00:00\",\"2020-01-08T00:00:00\",\"2020-01-09T00:00:00\",\"2020-01-10T00:00:00\",\"2020-01-11T00:00:00\",\"2020-01-12T00:00:00\",\"2020-01-13T00:00:00\",\"2020-01-14T00:00:00\",\"2020-01-15T00:00:00\",\"2020-01-16T00:00:00\",\"2020-01-17T00:00:00\",\"2020-01-18T00:00:00\",\"2020-01-19T00:00:00\",\"2020-01-20T00:00:00\",\"2020-01-21T00:00:00\",\"2020-01-22T00:00:00\",\"2020-01-23T00:00:00\",\"2020-01-24T00:00:00\",\"2020-01-25T00:00:00\",\"2020-01-26T00:00:00\",\"2020-01-27T00:00:00\",\"2020-01-28T00:00:00\",\"2020-01-29T00:00:00\",\"2020-01-30T00:00:00\",\"2020-01-31T00:00:00\",\"2020-02-01T00:00:00\",\"2020-02-02T00:00:00\",\"2020-02-03T00:00:00\",\"2020-02-04T00:00:00\",\"2020-02-05T00:00:00\",\"2020-02-06T00:00:00\",\"2020-02-07T00:00:00\",\"2020-02-08T00:00:00\",\"2020-02-09T00:00:00\",\"2020-02-10T00:00:00\",\"2020-02-11T00:00:00\",\"2020-02-12T00:00:00\",\"2020-02-13T00:00:00\",\"2020-02-14T00:00:00\",\"2020-02-15T00:00:00\",\"2020-02-16T00:00:00\",\"2020-02-17T00:00:00\",\"2020-02-18T00:00:00\",\"2020-02-19T00:00:00\",\"2020-02-20T00:00:00\",\"2020-02-21T00:00:00\",\"2020-02-22T00:00:00\",\"2020-02-23T00:00:00\",\"2020-02-24T00:00:00\",\"2020-02-25T00:00:00\",\"2020-02-26T00:00:00\",\"2020-02-27T00:00:00\",\"2020-02-28T00:00:00\",\"2020-02-29T00:00:00\",\"2020-03-01T00:00:00\",\"2020-03-02T00:00:00\",\"2020-03-03T00:00:00\",\"2020-03-04T00:00:00\",\"2020-03-05T00:00:00\",\"2020-03-06T00:00:00\",\"2020-03-07T00:00:00\",\"2020-03-08T00:00:00\",\"2020-03-09T00:00:00\",\"2020-03-10T00:00:00\",\"2020-03-11T00:00:00\",\"2020-03-12T00:00:00\",\"2020-03-13T00:00:00\",\"2020-03-14T00:00:00\",\"2020-03-15T00:00:00\",\"2020-03-16T00:00:00\",\"2020-03-17T00:00:00\",\"2020-03-18T00:00:00\",\"2020-03-19T00:00:00\",\"2020-03-20T00:00:00\",\"2020-03-21T00:00:00\",\"2020-03-22T00:00:00\",\"2020-03-23T00:00:00\",\"2020-03-24T00:00:00\",\"2020-03-25T00:00:00\",\"2020-03-26T00:00:00\",\"2020-03-27T00:00:00\",\"2020-03-28T00:00:00\",\"2020-03-29T00:00:00\",\"2020-03-30T00:00:00\",\"2020-03-31T00:00:00\",\"2020-04-01T00:00:00\",\"2020-04-02T00:00:00\",\"2020-04-03T00:00:00\",\"2020-04-04T00:00:00\",\"2020-04-05T00:00:00\",\"2020-04-06T00:00:00\",\"2020-04-07T00:00:00\",\"2020-04-08T00:00:00\",\"2020-04-09T00:00:00\",\"2020-04-10T00:00:00\",\"2020-04-11T00:00:00\",\"2020-04-12T00:00:00\",\"2020-04-13T00:00:00\",\"2020-04-14T00:00:00\",\"2020-04-15T00:00:00\",\"2020-04-16T00:00:00\",\"2020-04-17T00:00:00\",\"2020-04-18T00:00:00\",\"2020-04-19T00:00:00\",\"2020-04-20T00:00:00\",\"2020-04-21T00:00:00\",\"2020-04-22T00:00:00\",\"2020-04-23T00:00:00\",\"2020-04-24T00:00:00\",\"2020-04-25T00:00:00\",\"2020-04-26T00:00:00\",\"2020-04-27T00:00:00\",\"2020-04-28T00:00:00\",\"2020-04-29T00:00:00\",\"2020-04-30T00:00:00\",\"2020-05-01T00:00:00\",\"2020-05-02T00:00:00\",\"2020-05-03T00:00:00\",\"2020-05-04T00:00:00\",\"2020-05-05T00:00:00\",\"2020-05-06T00:00:00\",\"2020-05-07T00:00:00\",\"2020-05-08T00:00:00\",\"2020-05-09T00:00:00\",\"2020-05-10T00:00:00\",\"2020-05-11T00:00:00\",\"2020-05-12T00:00:00\",\"2020-05-13T00:00:00\",\"2020-05-14T00:00:00\",\"2020-05-15T00:00:00\",\"2020-05-16T00:00:00\",\"2020-05-17T00:00:00\",\"2020-05-18T00:00:00\",\"2020-05-19T00:00:00\",\"2020-05-20T00:00:00\",\"2020-05-21T00:00:00\",\"2020-05-22T00:00:00\",\"2020-05-23T00:00:00\",\"2020-05-24T00:00:00\",\"2020-05-25T00:00:00\",\"2020-05-26T00:00:00\",\"2020-05-27T00:00:00\",\"2020-05-28T00:00:00\",\"2020-05-29T00:00:00\",\"2020-05-30T00:00:00\",\"2020-05-31T00:00:00\",\"2020-06-01T00:00:00\",\"2020-06-02T00:00:00\",\"2020-06-03T00:00:00\",\"2020-06-04T00:00:00\",\"2020-06-05T00:00:00\",\"2020-06-06T00:00:00\",\"2020-06-07T00:00:00\",\"2020-06-08T00:00:00\",\"2020-06-09T00:00:00\",\"2020-06-10T00:00:00\",\"2020-06-11T00:00:00\",\"2020-06-12T00:00:00\",\"2020-06-13T00:00:00\",\"2020-06-14T00:00:00\",\"2020-06-15T00:00:00\",\"2020-06-16T00:00:00\",\"2020-06-17T00:00:00\",\"2020-06-18T00:00:00\",\"2020-06-19T00:00:00\",\"2020-06-20T00:00:00\",\"2020-06-21T00:00:00\",\"2020-06-22T00:00:00\",\"2020-06-23T00:00:00\",\"2020-06-24T00:00:00\",\"2020-06-25T00:00:00\",\"2020-06-26T00:00:00\",\"2020-06-27T00:00:00\",\"2020-06-28T00:00:00\",\"2020-06-29T00:00:00\",\"2020-06-30T00:00:00\",\"2020-07-01T00:00:00\",\"2020-07-02T00:00:00\",\"2020-07-03T00:00:00\",\"2020-07-04T00:00:00\",\"2020-07-05T00:00:00\",\"2020-07-06T00:00:00\",\"2020-07-07T00:00:00\",\"2020-07-08T00:00:00\",\"2020-07-09T00:00:00\",\"2020-07-10T00:00:00\",\"2020-07-11T00:00:00\",\"2020-07-12T00:00:00\",\"2020-07-13T00:00:00\",\"2020-07-14T00:00:00\",\"2020-07-15T00:00:00\",\"2020-07-16T00:00:00\",\"2020-07-17T00:00:00\",\"2020-07-18T00:00:00\",\"2020-07-19T00:00:00\",\"2020-07-20T00:00:00\",\"2020-07-21T00:00:00\",\"2020-07-22T00:00:00\",\"2020-07-23T00:00:00\",\"2020-07-24T00:00:00\",\"2020-07-25T00:00:00\",\"2020-07-26T00:00:00\",\"2020-07-27T00:00:00\",\"2020-07-28T00:00:00\",\"2020-07-29T00:00:00\",\"2020-07-30T00:00:00\",\"2020-07-31T00:00:00\",\"2020-08-01T00:00:00\",\"2020-08-02T00:00:00\",\"2020-08-03T00:00:00\",\"2020-08-04T00:00:00\",\"2020-08-05T00:00:00\",\"2020-08-06T00:00:00\",\"2020-08-07T00:00:00\",\"2020-08-08T00:00:00\",\"2020-08-09T00:00:00\",\"2020-08-10T00:00:00\",\"2020-08-11T00:00:00\",\"2020-08-12T00:00:00\",\"2020-08-13T00:00:00\",\"2020-08-14T00:00:00\",\"2020-08-15T00:00:00\",\"2020-08-16T00:00:00\",\"2020-08-17T00:00:00\",\"2020-08-18T00:00:00\",\"2020-08-19T00:00:00\",\"2020-08-20T00:00:00\",\"2020-08-21T00:00:00\",\"2020-08-22T00:00:00\",\"2020-08-23T00:00:00\",\"2020-08-24T00:00:00\",\"2020-08-25T00:00:00\",\"2020-08-26T00:00:00\",\"2020-08-27T00:00:00\",\"2020-08-28T00:00:00\",\"2020-08-29T00:00:00\",\"2020-08-30T00:00:00\",\"2020-08-31T00:00:00\",\"2020-09-01T00:00:00\",\"2020-09-02T00:00:00\",\"2020-09-03T00:00:00\",\"2020-09-04T00:00:00\",\"2020-09-05T00:00:00\",\"2020-09-06T00:00:00\",\"2020-09-07T00:00:00\",\"2020-09-08T00:00:00\",\"2020-09-09T00:00:00\",\"2020-09-10T00:00:00\",\"2020-09-11T00:00:00\",\"2020-09-12T00:00:00\",\"2020-09-13T00:00:00\",\"2020-09-14T00:00:00\",\"2020-09-15T00:00:00\",\"2020-09-16T00:00:00\",\"2020-09-17T00:00:00\",\"2020-09-18T00:00:00\",\"2020-09-19T00:00:00\",\"2020-09-20T00:00:00\",\"2020-09-21T00:00:00\",\"2020-09-22T00:00:00\",\"2020-09-23T00:00:00\",\"2020-09-24T00:00:00\",\"2020-09-25T00:00:00\",\"2020-09-26T00:00:00\",\"2020-09-27T00:00:00\",\"2020-09-28T00:00:00\",\"2020-09-29T00:00:00\",\"2020-09-30T00:00:00\",\"2020-10-01T00:00:00\",\"2020-10-02T00:00:00\",\"2020-10-03T00:00:00\",\"2020-10-04T00:00:00\",\"2020-10-05T00:00:00\",\"2020-10-06T00:00:00\",\"2020-10-07T00:00:00\",\"2020-10-08T00:00:00\",\"2020-10-09T00:00:00\",\"2020-10-10T00:00:00\",\"2020-10-11T00:00:00\",\"2020-10-12T00:00:00\",\"2020-10-13T00:00:00\",\"2020-10-14T00:00:00\",\"2020-10-15T00:00:00\",\"2020-10-16T00:00:00\",\"2020-10-17T00:00:00\",\"2020-10-18T00:00:00\",\"2020-10-19T00:00:00\",\"2020-10-20T00:00:00\",\"2020-10-21T00:00:00\",\"2020-10-22T00:00:00\",\"2020-10-23T00:00:00\",\"2020-10-24T00:00:00\",\"2020-10-25T00:00:00\",\"2020-10-26T00:00:00\",\"2020-10-27T00:00:00\",\"2020-10-28T00:00:00\",\"2020-10-29T00:00:00\",\"2020-10-30T00:00:00\",\"2020-10-31T00:00:00\",\"2020-11-01T00:00:00\",\"2020-11-02T00:00:00\",\"2020-11-03T00:00:00\",\"2020-11-04T00:00:00\",\"2020-11-05T00:00:00\",\"2020-11-06T00:00:00\",\"2020-11-07T00:00:00\",\"2020-11-08T00:00:00\",\"2020-11-09T00:00:00\",\"2020-11-10T00:00:00\",\"2020-11-11T00:00:00\",\"2020-11-12T00:00:00\",\"2020-11-13T00:00:00\",\"2020-11-14T00:00:00\",\"2020-11-15T00:00:00\",\"2020-11-16T00:00:00\",\"2020-11-17T00:00:00\",\"2020-11-18T00:00:00\",\"2020-11-19T00:00:00\",\"2020-11-20T00:00:00\",\"2020-11-21T00:00:00\",\"2020-11-22T00:00:00\",\"2020-11-23T00:00:00\",\"2020-11-24T00:00:00\",\"2020-11-25T00:00:00\",\"2020-11-26T00:00:00\",\"2020-11-27T00:00:00\",\"2020-11-28T00:00:00\",\"2020-11-29T00:00:00\",\"2020-11-30T00:00:00\",\"2020-12-01T00:00:00\",\"2020-12-02T00:00:00\",\"2020-12-03T00:00:00\",\"2020-12-04T00:00:00\",\"2020-12-05T00:00:00\",\"2020-12-06T00:00:00\",\"2020-12-07T00:00:00\",\"2020-12-08T00:00:00\",\"2020-12-09T00:00:00\",\"2020-12-10T00:00:00\",\"2020-12-11T00:00:00\",\"2020-12-12T00:00:00\",\"2020-12-13T00:00:00\",\"2020-12-14T00:00:00\",\"2020-12-15T00:00:00\",\"2020-12-16T00:00:00\",\"2020-12-17T00:00:00\",\"2020-12-18T00:00:00\",\"2020-12-19T00:00:00\",\"2020-12-20T00:00:00\",\"2020-12-21T00:00:00\",\"2020-12-22T00:00:00\",\"2020-12-23T00:00:00\",\"2020-12-24T00:00:00\",\"2020-12-25T00:00:00\",\"2020-12-26T00:00:00\",\"2020-12-27T00:00:00\",\"2020-12-28T00:00:00\",\"2020-12-29T00:00:00\",\"2020-12-30T00:00:00\",\"2020-12-31T00:00:00\",\"2021-01-01T00:00:00\",\"2021-01-02T00:00:00\",\"2021-01-03T00:00:00\",\"2021-01-04T00:00:00\",\"2021-01-05T00:00:00\",\"2021-01-06T00:00:00\",\"2021-01-07T00:00:00\",\"2021-01-08T00:00:00\",\"2021-01-09T00:00:00\",\"2021-01-10T00:00:00\",\"2021-01-11T00:00:00\",\"2021-01-12T00:00:00\",\"2021-01-13T00:00:00\",\"2021-01-14T00:00:00\",\"2021-01-15T00:00:00\",\"2021-01-16T00:00:00\",\"2021-01-17T00:00:00\",\"2021-01-18T00:00:00\",\"2021-01-19T00:00:00\",\"2021-01-20T00:00:00\",\"2021-01-21T00:00:00\",\"2021-01-22T00:00:00\",\"2021-01-23T00:00:00\",\"2021-01-24T00:00:00\",\"2021-01-25T00:00:00\",\"2021-01-26T00:00:00\",\"2021-01-27T00:00:00\",\"2021-01-28T00:00:00\",\"2021-01-29T00:00:00\",\"2021-01-30T00:00:00\",\"2021-01-31T00:00:00\",\"2021-02-01T00:00:00\",\"2021-02-02T00:00:00\",\"2021-02-03T00:00:00\",\"2021-02-04T00:00:00\",\"2021-02-05T00:00:00\",\"2021-02-06T00:00:00\",\"2021-02-07T00:00:00\",\"2021-02-08T00:00:00\",\"2021-02-09T00:00:00\",\"2021-02-10T00:00:00\",\"2021-02-11T00:00:00\",\"2021-02-12T00:00:00\",\"2021-02-13T00:00:00\",\"2021-02-14T00:00:00\",\"2021-02-15T00:00:00\",\"2021-02-16T00:00:00\",\"2021-02-17T00:00:00\",\"2021-02-18T00:00:00\",\"2021-02-19T00:00:00\",\"2021-02-20T00:00:00\",\"2021-02-21T00:00:00\",\"2021-02-22T00:00:00\",\"2021-02-23T00:00:00\",\"2021-02-24T00:00:00\",\"2021-02-25T00:00:00\",\"2021-02-26T00:00:00\",\"2021-02-27T00:00:00\",\"2021-02-28T00:00:00\",\"2021-03-01T00:00:00\",\"2021-03-02T00:00:00\",\"2021-03-03T00:00:00\",\"2021-03-04T00:00:00\",\"2021-03-05T00:00:00\",\"2021-03-06T00:00:00\",\"2021-03-07T00:00:00\",\"2021-03-08T00:00:00\",\"2021-03-09T00:00:00\",\"2021-03-10T00:00:00\",\"2021-03-11T00:00:00\",\"2021-03-12T00:00:00\",\"2021-03-13T00:00:00\",\"2021-03-14T00:00:00\",\"2021-03-15T00:00:00\",\"2021-03-16T00:00:00\",\"2021-03-17T00:00:00\",\"2021-03-18T00:00:00\",\"2021-03-19T00:00:00\",\"2021-03-20T00:00:00\",\"2021-03-21T00:00:00\",\"2021-03-22T00:00:00\",\"2021-03-23T00:00:00\",\"2021-03-24T00:00:00\",\"2021-03-25T00:00:00\",\"2021-03-26T00:00:00\",\"2021-03-27T00:00:00\",\"2021-03-28T00:00:00\",\"2021-03-29T00:00:00\",\"2021-03-30T00:00:00\",\"2021-03-31T00:00:00\",\"2021-04-01T00:00:00\",\"2021-04-02T00:00:00\",\"2021-04-03T00:00:00\",\"2021-04-04T00:00:00\",\"2021-04-05T00:00:00\",\"2021-04-06T00:00:00\",\"2021-04-07T00:00:00\",\"2021-04-08T00:00:00\",\"2021-04-09T00:00:00\",\"2021-04-10T00:00:00\",\"2021-04-11T00:00:00\",\"2021-04-12T00:00:00\",\"2021-04-13T00:00:00\",\"2021-04-14T00:00:00\",\"2021-04-15T00:00:00\",\"2021-04-16T00:00:00\",\"2021-04-17T00:00:00\",\"2021-04-18T00:00:00\",\"2021-04-19T00:00:00\",\"2021-04-20T00:00:00\",\"2021-04-21T00:00:00\",\"2021-04-22T00:00:00\",\"2021-04-23T00:00:00\",\"2021-04-24T00:00:00\",\"2021-04-25T00:00:00\",\"2021-04-26T00:00:00\",\"2021-04-27T00:00:00\",\"2021-04-28T00:00:00\",\"2021-04-29T00:00:00\",\"2021-04-30T00:00:00\",\"2021-05-01T00:00:00\",\"2021-05-02T00:00:00\",\"2021-05-03T00:00:00\",\"2021-05-04T00:00:00\",\"2021-05-05T00:00:00\",\"2021-05-06T00:00:00\",\"2021-05-07T00:00:00\",\"2021-05-08T00:00:00\",\"2021-05-09T00:00:00\",\"2021-05-10T00:00:00\",\"2021-05-11T00:00:00\",\"2021-05-12T00:00:00\",\"2021-05-13T00:00:00\",\"2021-05-14T00:00:00\",\"2021-05-15T00:00:00\",\"2021-05-16T00:00:00\",\"2021-05-17T00:00:00\",\"2021-05-18T00:00:00\",\"2021-05-19T00:00:00\",\"2021-05-20T00:00:00\",\"2021-05-21T00:00:00\",\"2021-05-22T00:00:00\",\"2021-05-23T00:00:00\",\"2021-05-24T00:00:00\",\"2021-05-25T00:00:00\",\"2021-05-26T00:00:00\",\"2021-05-27T00:00:00\",\"2021-05-28T00:00:00\",\"2021-05-29T00:00:00\",\"2021-05-30T00:00:00\",\"2021-05-31T00:00:00\",\"2021-06-01T00:00:00\",\"2021-06-02T00:00:00\",\"2021-06-03T00:00:00\",\"2021-06-04T00:00:00\",\"2021-06-05T00:00:00\",\"2021-06-06T00:00:00\",\"2021-06-07T00:00:00\",\"2021-06-08T00:00:00\",\"2021-06-09T00:00:00\",\"2021-06-10T00:00:00\",\"2021-06-11T00:00:00\",\"2021-06-12T00:00:00\",\"2021-06-13T00:00:00\",\"2021-06-14T00:00:00\",\"2021-06-15T00:00:00\",\"2021-06-16T00:00:00\",\"2021-06-17T00:00:00\",\"2021-06-18T00:00:00\",\"2021-06-19T00:00:00\",\"2021-06-20T00:00:00\",\"2021-06-21T00:00:00\",\"2021-06-22T00:00:00\",\"2021-06-23T00:00:00\",\"2021-06-24T00:00:00\",\"2021-06-25T00:00:00\",\"2021-06-26T00:00:00\",\"2021-06-27T00:00:00\",\"2021-06-28T00:00:00\",\"2021-06-29T00:00:00\",\"2021-06-30T00:00:00\",\"2021-07-01T00:00:00\",\"2021-07-02T00:00:00\",\"2021-07-03T00:00:00\",\"2021-07-04T00:00:00\",\"2021-07-05T00:00:00\",\"2021-07-06T00:00:00\",\"2021-07-07T00:00:00\",\"2021-07-08T00:00:00\",\"2021-07-09T00:00:00\",\"2021-07-10T00:00:00\",\"2021-07-11T00:00:00\",\"2021-07-12T00:00:00\",\"2021-07-13T00:00:00\",\"2021-07-14T00:00:00\",\"2021-07-15T00:00:00\",\"2021-07-16T00:00:00\",\"2021-07-17T00:00:00\",\"2021-07-18T00:00:00\",\"2021-07-19T00:00:00\",\"2021-07-20T00:00:00\",\"2021-07-21T00:00:00\",\"2021-07-22T00:00:00\",\"2021-07-23T00:00:00\",\"2021-07-24T00:00:00\",\"2021-07-25T00:00:00\",\"2021-07-26T00:00:00\",\"2021-07-27T00:00:00\",\"2021-07-28T00:00:00\",\"2021-07-29T00:00:00\",\"2021-07-30T00:00:00\",\"2021-07-31T00:00:00\",\"2021-08-01T00:00:00\",\"2021-08-02T00:00:00\",\"2021-08-03T00:00:00\",\"2021-08-04T00:00:00\",\"2021-08-05T00:00:00\",\"2021-08-06T00:00:00\",\"2021-08-07T00:00:00\",\"2021-08-08T00:00:00\",\"2021-08-09T00:00:00\",\"2021-08-10T00:00:00\",\"2021-08-11T00:00:00\",\"2021-08-12T00:00:00\",\"2021-08-13T00:00:00\",\"2021-08-14T00:00:00\",\"2021-08-15T00:00:00\",\"2021-08-16T00:00:00\",\"2021-08-17T00:00:00\",\"2021-08-18T00:00:00\",\"2021-08-19T00:00:00\",\"2021-08-20T00:00:00\",\"2021-08-21T00:00:00\",\"2021-08-22T00:00:00\",\"2021-08-23T00:00:00\",\"2021-08-24T00:00:00\",\"2021-08-25T00:00:00\",\"2021-08-26T00:00:00\",\"2021-08-27T00:00:00\",\"2021-08-28T00:00:00\",\"2021-08-29T00:00:00\",\"2021-08-30T00:00:00\",\"2021-08-31T00:00:00\",\"2021-09-01T00:00:00\",\"2021-09-02T00:00:00\",\"2021-09-03T00:00:00\",\"2021-09-04T00:00:00\",\"2021-09-05T00:00:00\",\"2021-09-06T00:00:00\",\"2021-09-07T00:00:00\",\"2021-09-08T00:00:00\",\"2021-09-09T00:00:00\",\"2021-09-10T00:00:00\",\"2021-09-11T00:00:00\",\"2021-09-12T00:00:00\",\"2021-09-13T00:00:00\",\"2021-09-14T00:00:00\",\"2021-09-15T00:00:00\",\"2021-09-16T00:00:00\",\"2021-09-17T00:00:00\",\"2021-09-18T00:00:00\",\"2021-09-19T00:00:00\",\"2021-09-20T00:00:00\",\"2021-09-21T00:00:00\",\"2021-09-22T00:00:00\",\"2021-09-23T00:00:00\",\"2021-09-24T00:00:00\",\"2021-09-25T00:00:00\",\"2021-09-26T00:00:00\",\"2021-09-27T00:00:00\",\"2021-09-28T00:00:00\",\"2021-09-29T00:00:00\",\"2021-09-30T00:00:00\",\"2021-10-01T00:00:00\",\"2021-10-02T00:00:00\",\"2021-10-03T00:00:00\",\"2021-10-04T00:00:00\",\"2021-10-05T00:00:00\",\"2021-10-06T00:00:00\",\"2021-10-07T00:00:00\",\"2021-10-08T00:00:00\",\"2021-10-09T00:00:00\",\"2021-10-10T00:00:00\",\"2021-10-11T00:00:00\",\"2021-10-12T00:00:00\",\"2021-10-13T00:00:00\",\"2021-10-14T00:00:00\",\"2021-10-15T00:00:00\",\"2021-10-16T00:00:00\",\"2021-10-17T00:00:00\",\"2021-10-18T00:00:00\",\"2021-10-19T00:00:00\",\"2021-10-20T00:00:00\",\"2021-10-21T00:00:00\",\"2021-10-22T00:00:00\",\"2021-10-23T00:00:00\",\"2021-10-24T00:00:00\",\"2021-10-25T00:00:00\",\"2021-10-26T00:00:00\",\"2021-10-27T00:00:00\",\"2021-10-28T00:00:00\",\"2021-10-29T00:00:00\",\"2021-10-30T00:00:00\",\"2021-10-31T00:00:00\",\"2021-11-01T00:00:00\",\"2021-11-02T00:00:00\",\"2021-11-03T00:00:00\",\"2021-11-04T00:00:00\",\"2021-11-05T00:00:00\",\"2021-11-06T00:00:00\",\"2021-11-07T00:00:00\",\"2021-11-08T00:00:00\",\"2021-11-09T00:00:00\",\"2021-11-10T00:00:00\",\"2021-11-11T00:00:00\",\"2021-11-12T00:00:00\",\"2021-11-13T00:00:00\",\"2021-11-14T00:00:00\",\"2021-11-15T00:00:00\",\"2021-11-16T00:00:00\",\"2021-11-17T00:00:00\",\"2021-11-18T00:00:00\",\"2021-11-19T00:00:00\",\"2021-11-20T00:00:00\",\"2021-11-21T00:00:00\",\"2021-11-22T00:00:00\",\"2021-11-23T00:00:00\",\"2021-11-24T00:00:00\",\"2021-11-25T00:00:00\",\"2021-11-26T00:00:00\",\"2021-11-27T00:00:00\",\"2021-11-28T00:00:00\",\"2021-11-29T00:00:00\",\"2021-11-30T00:00:00\",\"2021-12-01T00:00:00\",\"2021-12-02T00:00:00\",\"2021-12-03T00:00:00\",\"2021-12-04T00:00:00\",\"2021-12-05T00:00:00\",\"2021-12-06T00:00:00\",\"2021-12-07T00:00:00\",\"2021-12-08T00:00:00\",\"2021-12-09T00:00:00\",\"2021-12-10T00:00:00\",\"2021-12-11T00:00:00\",\"2021-12-12T00:00:00\",\"2021-12-13T00:00:00\",\"2021-12-14T00:00:00\",\"2021-12-15T00:00:00\",\"2021-12-16T00:00:00\",\"2021-12-17T00:00:00\",\"2021-12-18T00:00:00\",\"2021-12-19T00:00:00\",\"2021-12-20T00:00:00\",\"2021-12-21T00:00:00\",\"2021-12-22T00:00:00\",\"2021-12-23T00:00:00\",\"2021-12-24T00:00:00\",\"2021-12-25T00:00:00\",\"2021-12-26T00:00:00\",\"2021-12-27T00:00:00\",\"2021-12-28T00:00:00\",\"2021-12-29T00:00:00\",\"2021-12-30T00:00:00\",\"2021-12-31T00:00:00\",\"2022-01-01T00:00:00\",\"2022-01-02T00:00:00\",\"2022-01-03T00:00:00\",\"2022-01-04T00:00:00\",\"2022-01-05T00:00:00\",\"2022-01-06T00:00:00\",\"2022-01-07T00:00:00\",\"2022-01-08T00:00:00\",\"2022-01-09T00:00:00\",\"2022-01-10T00:00:00\",\"2022-01-11T00:00:00\",\"2022-01-12T00:00:00\",\"2022-01-13T00:00:00\",\"2022-01-14T00:00:00\",\"2022-01-15T00:00:00\",\"2022-01-16T00:00:00\",\"2022-01-17T00:00:00\",\"2022-01-18T00:00:00\",\"2022-01-19T00:00:00\",\"2022-01-20T00:00:00\",\"2022-01-21T00:00:00\",\"2022-01-22T00:00:00\",\"2022-01-23T00:00:00\",\"2022-01-24T00:00:00\",\"2022-01-25T00:00:00\",\"2022-01-26T00:00:00\",\"2022-01-27T00:00:00\",\"2022-01-28T00:00:00\",\"2022-01-29T00:00:00\",\"2022-01-30T00:00:00\",\"2022-01-31T00:00:00\",\"2022-02-01T00:00:00\",\"2022-02-02T00:00:00\",\"2022-02-03T00:00:00\",\"2022-02-04T00:00:00\",\"2022-02-05T00:00:00\",\"2022-02-06T00:00:00\",\"2022-02-07T00:00:00\",\"2022-02-08T00:00:00\",\"2022-02-09T00:00:00\",\"2022-02-10T00:00:00\",\"2022-02-11T00:00:00\",\"2022-02-12T00:00:00\",\"2022-02-13T00:00:00\",\"2022-02-14T00:00:00\",\"2022-02-15T00:00:00\",\"2022-02-16T00:00:00\",\"2022-02-17T00:00:00\",\"2022-02-18T00:00:00\",\"2022-02-19T00:00:00\",\"2022-02-20T00:00:00\",\"2022-02-21T00:00:00\",\"2022-02-22T00:00:00\",\"2022-02-23T00:00:00\",\"2022-02-24T00:00:00\",\"2022-02-25T00:00:00\",\"2022-02-26T00:00:00\",\"2022-02-27T00:00:00\",\"2022-02-28T00:00:00\",\"2022-03-01T00:00:00\",\"2022-03-02T00:00:00\",\"2022-03-03T00:00:00\",\"2022-03-04T00:00:00\",\"2022-03-05T00:00:00\",\"2022-03-06T00:00:00\",\"2022-03-07T00:00:00\",\"2022-03-08T00:00:00\",\"2022-03-09T00:00:00\",\"2022-03-10T00:00:00\",\"2022-03-11T00:00:00\",\"2022-03-12T00:00:00\",\"2022-03-13T00:00:00\",\"2022-03-14T00:00:00\",\"2022-03-15T00:00:00\",\"2022-03-16T00:00:00\",\"2022-03-17T00:00:00\",\"2022-03-18T00:00:00\",\"2022-03-19T00:00:00\",\"2022-03-20T00:00:00\",\"2022-03-21T00:00:00\",\"2022-03-22T00:00:00\",\"2022-03-23T00:00:00\",\"2022-03-24T00:00:00\",\"2022-03-25T00:00:00\",\"2022-03-26T00:00:00\",\"2022-03-27T00:00:00\",\"2022-03-28T00:00:00\",\"2022-03-29T00:00:00\",\"2022-03-30T00:00:00\",\"2022-03-31T00:00:00\",\"2022-04-01T00:00:00\",\"2022-04-02T00:00:00\",\"2022-04-03T00:00:00\",\"2022-04-04T00:00:00\",\"2022-04-05T00:00:00\",\"2022-04-06T00:00:00\",\"2022-04-07T00:00:00\",\"2022-04-08T00:00:00\",\"2022-04-09T00:00:00\",\"2022-04-10T00:00:00\",\"2022-04-11T00:00:00\",\"2022-04-12T00:00:00\",\"2022-04-13T00:00:00\",\"2022-04-14T00:00:00\",\"2022-04-15T00:00:00\",\"2022-04-16T00:00:00\",\"2022-04-17T00:00:00\",\"2022-04-18T00:00:00\",\"2022-04-19T00:00:00\",\"2022-04-20T00:00:00\",\"2022-04-21T00:00:00\",\"2022-04-22T00:00:00\",\"2022-04-23T00:00:00\",\"2022-04-24T00:00:00\",\"2022-04-25T00:00:00\",\"2022-04-26T00:00:00\",\"2022-04-27T00:00:00\",\"2022-04-28T00:00:00\",\"2022-04-29T00:00:00\",\"2022-04-30T00:00:00\",\"2022-05-01T00:00:00\",\"2022-05-02T00:00:00\",\"2022-05-03T00:00:00\",\"2022-05-04T00:00:00\",\"2022-05-05T00:00:00\",\"2022-05-06T00:00:00\",\"2022-05-07T00:00:00\",\"2022-05-08T00:00:00\",\"2022-05-09T00:00:00\",\"2022-05-10T00:00:00\",\"2022-05-11T00:00:00\",\"2022-05-12T00:00:00\",\"2022-05-13T00:00:00\",\"2022-05-14T00:00:00\",\"2022-05-15T00:00:00\",\"2022-05-16T00:00:00\",\"2022-05-17T00:00:00\",\"2022-05-18T00:00:00\",\"2022-05-19T00:00:00\",\"2022-05-20T00:00:00\",\"2022-05-21T00:00:00\",\"2022-05-22T00:00:00\",\"2022-05-23T00:00:00\",\"2022-05-24T00:00:00\",\"2022-05-25T00:00:00\",\"2022-05-26T00:00:00\",\"2022-05-27T00:00:00\",\"2022-05-28T00:00:00\",\"2022-05-29T00:00:00\",\"2022-05-30T00:00:00\",\"2022-05-31T00:00:00\",\"2022-06-01T00:00:00\",\"2022-06-02T00:00:00\",\"2022-06-03T00:00:00\",\"2022-06-04T00:00:00\",\"2022-06-05T00:00:00\",\"2022-06-06T00:00:00\",\"2022-06-07T00:00:00\",\"2022-06-08T00:00:00\",\"2022-06-09T00:00:00\",\"2022-06-10T00:00:00\",\"2022-06-11T00:00:00\",\"2022-06-12T00:00:00\",\"2022-06-13T00:00:00\",\"2022-06-14T00:00:00\",\"2022-06-15T00:00:00\",\"2022-06-16T00:00:00\",\"2022-06-17T00:00:00\",\"2022-06-18T00:00:00\",\"2022-06-19T00:00:00\",\"2022-06-20T00:00:00\",\"2022-06-21T00:00:00\",\"2022-06-22T00:00:00\",\"2022-06-23T00:00:00\",\"2022-06-24T00:00:00\",\"2022-06-25T00:00:00\",\"2022-06-26T00:00:00\",\"2022-06-27T00:00:00\",\"2022-06-28T00:00:00\",\"2022-06-29T00:00:00\",\"2022-06-30T00:00:00\",\"2022-07-01T00:00:00\",\"2022-07-02T00:00:00\",\"2022-07-03T00:00:00\",\"2022-07-04T00:00:00\",\"2022-07-05T00:00:00\",\"2022-07-06T00:00:00\",\"2022-07-07T00:00:00\",\"2022-07-08T00:00:00\",\"2022-07-09T00:00:00\",\"2022-07-10T00:00:00\",\"2022-07-11T00:00:00\",\"2022-07-12T00:00:00\",\"2022-07-13T00:00:00\",\"2022-07-14T00:00:00\",\"2022-07-15T00:00:00\",\"2022-07-16T00:00:00\",\"2022-07-17T00:00:00\",\"2022-07-18T00:00:00\",\"2022-07-19T00:00:00\",\"2022-07-20T00:00:00\",\"2022-07-21T00:00:00\",\"2022-07-22T00:00:00\",\"2022-07-23T00:00:00\",\"2022-07-24T00:00:00\",\"2022-07-25T00:00:00\",\"2022-07-26T00:00:00\",\"2022-07-27T00:00:00\",\"2022-07-28T00:00:00\",\"2022-07-29T00:00:00\",\"2022-07-30T00:00:00\",\"2022-07-31T00:00:00\",\"2022-08-01T00:00:00\",\"2022-08-02T00:00:00\",\"2022-08-03T00:00:00\",\"2022-08-04T00:00:00\",\"2022-08-05T00:00:00\",\"2022-08-06T00:00:00\",\"2022-08-07T00:00:00\",\"2022-08-08T00:00:00\",\"2022-08-09T00:00:00\",\"2022-08-10T00:00:00\",\"2022-08-11T00:00:00\",\"2022-08-12T00:00:00\",\"2022-08-13T00:00:00\",\"2022-08-14T00:00:00\",\"2022-08-15T00:00:00\",\"2022-08-16T00:00:00\",\"2022-08-17T00:00:00\",\"2022-08-18T00:00:00\",\"2022-08-19T00:00:00\",\"2022-08-20T00:00:00\",\"2022-08-21T00:00:00\",\"2022-08-22T00:00:00\",\"2022-08-23T00:00:00\",\"2022-08-24T00:00:00\",\"2022-08-25T00:00:00\",\"2022-08-26T00:00:00\",\"2022-08-27T00:00:00\",\"2022-08-28T00:00:00\",\"2022-08-29T00:00:00\",\"2022-08-30T00:00:00\",\"2022-08-31T00:00:00\",\"2022-09-01T00:00:00\",\"2022-09-02T00:00:00\",\"2022-09-03T00:00:00\",\"2022-09-04T00:00:00\",\"2022-09-05T00:00:00\",\"2022-09-06T00:00:00\",\"2022-09-07T00:00:00\",\"2022-09-08T00:00:00\",\"2022-09-09T00:00:00\",\"2022-09-10T00:00:00\",\"2022-09-11T00:00:00\",\"2022-09-12T00:00:00\",\"2022-09-13T00:00:00\",\"2022-09-14T00:00:00\",\"2022-09-15T00:00:00\",\"2022-09-16T00:00:00\",\"2022-09-17T00:00:00\",\"2022-09-18T00:00:00\",\"2022-09-19T00:00:00\",\"2022-09-20T00:00:00\",\"2022-09-21T00:00:00\",\"2022-09-22T00:00:00\",\"2022-09-23T00:00:00\",\"2022-09-24T00:00:00\",\"2022-09-25T00:00:00\",\"2022-09-26T00:00:00\",\"2022-09-27T00:00:00\",\"2022-09-28T00:00:00\",\"2022-09-29T00:00:00\",\"2022-09-30T00:00:00\",\"2022-10-01T00:00:00\",\"2022-10-02T00:00:00\",\"2022-10-03T00:00:00\",\"2022-10-04T00:00:00\",\"2022-10-05T00:00:00\",\"2022-10-06T00:00:00\",\"2022-10-07T00:00:00\",\"2022-10-08T00:00:00\",\"2022-10-09T00:00:00\",\"2022-10-10T00:00:00\",\"2022-10-11T00:00:00\",\"2022-10-12T00:00:00\",\"2022-10-13T00:00:00\",\"2022-10-14T00:00:00\",\"2022-10-15T00:00:00\",\"2022-10-16T00:00:00\",\"2022-10-17T00:00:00\",\"2022-10-18T00:00:00\",\"2022-10-19T00:00:00\",\"2022-10-20T00:00:00\",\"2022-10-21T00:00:00\",\"2022-10-22T00:00:00\",\"2022-10-23T00:00:00\",\"2022-10-24T00:00:00\",\"2022-10-25T00:00:00\",\"2022-10-26T00:00:00\",\"2022-10-27T00:00:00\",\"2022-10-28T00:00:00\",\"2022-10-29T00:00:00\",\"2022-10-30T00:00:00\",\"2022-10-31T00:00:00\",\"2022-11-01T00:00:00\",\"2022-11-02T00:00:00\",\"2022-11-03T00:00:00\",\"2022-11-04T00:00:00\",\"2022-11-05T00:00:00\",\"2022-11-06T00:00:00\",\"2022-11-07T00:00:00\",\"2022-11-08T00:00:00\",\"2022-11-09T00:00:00\",\"2022-11-10T00:00:00\",\"2022-11-11T00:00:00\",\"2022-11-12T00:00:00\",\"2022-11-13T00:00:00\",\"2022-11-14T00:00:00\",\"2022-11-15T00:00:00\",\"2022-11-16T00:00:00\",\"2022-11-17T00:00:00\",\"2022-11-18T00:00:00\",\"2022-11-19T00:00:00\",\"2022-11-20T00:00:00\",\"2022-11-21T00:00:00\",\"2022-11-22T00:00:00\",\"2022-11-23T00:00:00\",\"2022-11-24T00:00:00\",\"2022-11-25T00:00:00\",\"2022-11-26T00:00:00\",\"2022-11-27T00:00:00\",\"2022-11-28T00:00:00\",\"2022-11-29T00:00:00\",\"2022-11-30T00:00:00\",\"2022-12-01T00:00:00\",\"2022-12-02T00:00:00\",\"2022-12-03T00:00:00\",\"2022-12-04T00:00:00\",\"2022-12-05T00:00:00\",\"2022-12-06T00:00:00\",\"2022-12-07T00:00:00\",\"2022-12-08T00:00:00\",\"2022-12-09T00:00:00\",\"2022-12-10T00:00:00\",\"2022-12-11T00:00:00\",\"2022-12-12T00:00:00\",\"2022-12-13T00:00:00\",\"2022-12-14T00:00:00\",\"2022-12-15T00:00:00\",\"2022-12-16T00:00:00\",\"2022-12-17T00:00:00\",\"2022-12-18T00:00:00\",\"2022-12-19T00:00:00\",\"2022-12-20T00:00:00\",\"2022-12-21T00:00:00\",\"2022-12-22T00:00:00\",\"2022-12-23T00:00:00\",\"2022-12-24T00:00:00\",\"2022-12-25T00:00:00\",\"2022-12-26T00:00:00\",\"2022-12-27T00:00:00\",\"2022-12-28T00:00:00\",\"2022-12-29T00:00:00\",\"2022-12-30T00:00:00\",\"2022-12-31T00:00:00\",\"2023-01-01T00:00:00\",\"2023-01-02T00:00:00\",\"2023-01-03T00:00:00\",\"2023-01-04T00:00:00\",\"2023-01-05T00:00:00\",\"2023-01-06T00:00:00\",\"2023-01-07T00:00:00\",\"2023-01-08T00:00:00\",\"2023-01-09T00:00:00\",\"2023-01-10T00:00:00\",\"2023-01-11T00:00:00\",\"2023-01-12T00:00:00\",\"2023-01-13T00:00:00\",\"2023-01-14T00:00:00\",\"2023-01-15T00:00:00\",\"2023-01-16T00:00:00\",\"2023-01-17T00:00:00\",\"2023-01-18T00:00:00\",\"2023-01-19T00:00:00\",\"2023-01-20T00:00:00\",\"2023-01-21T00:00:00\",\"2023-01-22T00:00:00\",\"2023-01-23T00:00:00\",\"2023-01-24T00:00:00\",\"2023-01-25T00:00:00\",\"2023-01-26T00:00:00\",\"2023-01-27T00:00:00\",\"2023-01-28T00:00:00\",\"2023-01-29T00:00:00\",\"2023-01-30T00:00:00\",\"2023-01-31T00:00:00\",\"2023-02-01T00:00:00\",\"2023-02-02T00:00:00\",\"2023-02-03T00:00:00\",\"2023-02-04T00:00:00\",\"2023-02-05T00:00:00\",\"2023-02-06T00:00:00\",\"2023-02-07T00:00:00\",\"2023-02-08T00:00:00\",\"2023-02-09T00:00:00\",\"2023-02-10T00:00:00\",\"2023-02-11T00:00:00\",\"2023-02-12T00:00:00\",\"2023-02-13T00:00:00\",\"2023-02-14T00:00:00\",\"2023-02-15T00:00:00\",\"2023-02-16T00:00:00\",\"2023-02-17T00:00:00\",\"2023-02-18T00:00:00\",\"2023-02-19T00:00:00\",\"2023-02-20T00:00:00\",\"2023-02-21T00:00:00\",\"2023-02-22T00:00:00\",\"2023-02-23T00:00:00\",\"2023-02-24T00:00:00\",\"2023-02-25T00:00:00\",\"2023-02-26T00:00:00\",\"2023-02-27T00:00:00\",\"2023-02-28T00:00:00\",\"2023-03-01T00:00:00\",\"2023-03-02T00:00:00\",\"2023-03-03T00:00:00\",\"2023-03-04T00:00:00\",\"2023-03-05T00:00:00\",\"2023-03-06T00:00:00\",\"2023-03-07T00:00:00\",\"2023-03-08T00:00:00\",\"2023-03-09T00:00:00\",\"2023-03-10T00:00:00\",\"2023-03-11T00:00:00\",\"2023-03-12T00:00:00\",\"2023-03-13T00:00:00\",\"2023-03-14T00:00:00\",\"2023-03-15T00:00:00\",\"2023-03-16T00:00:00\",\"2023-03-17T00:00:00\",\"2023-03-18T00:00:00\",\"2023-03-19T00:00:00\",\"2023-03-20T00:00:00\",\"2023-03-21T00:00:00\",\"2023-03-22T00:00:00\",\"2023-03-23T00:00:00\",\"2023-03-24T00:00:00\",\"2023-03-25T00:00:00\",\"2023-03-26T00:00:00\",\"2023-03-27T00:00:00\",\"2023-03-28T00:00:00\",\"2023-03-29T00:00:00\",\"2023-03-30T00:00:00\",\"2023-03-31T00:00:00\"],\"type\":\"ohlc\"}],                        {\"template\":{\"data\":{\"histogram2dcontour\":[{\"type\":\"histogram2dcontour\",\"colorbar\":{\"outlinewidth\":0,\"ticks\":\"\"},\"colorscale\":[[0.0,\"#0d0887\"],[0.1111111111111111,\"#46039f\"],[0.2222222222222222,\"#7201a8\"],[0.3333333333333333,\"#9c179e\"],[0.4444444444444444,\"#bd3786\"],[0.5555555555555556,\"#d8576b\"],[0.6666666666666666,\"#ed7953\"],[0.7777777777777778,\"#fb9f3a\"],[0.8888888888888888,\"#fdca26\"],[1.0,\"#f0f921\"]]}],\"choropleth\":[{\"type\":\"choropleth\",\"colorbar\":{\"outlinewidth\":0,\"ticks\":\"\"}}],\"histogram2d\":[{\"type\":\"histogram2d\",\"colorbar\":{\"outlinewidth\":0,\"ticks\":\"\"},\"colorscale\":[[0.0,\"#0d0887\"],[0.1111111111111111,\"#46039f\"],[0.2222222222222222,\"#7201a8\"],[0.3333333333333333,\"#9c179e\"],[0.4444444444444444,\"#bd3786\"],[0.5555555555555556,\"#d8576b\"],[0.6666666666666666,\"#ed7953\"],[0.7777777777777778,\"#fb9f3a\"],[0.8888888888888888,\"#fdca26\"],[1.0,\"#f0f921\"]]}],\"heatmap\":[{\"type\":\"heatmap\",\"colorbar\":{\"outlinewidth\":0,\"ticks\":\"\"},\"colorscale\":[[0.0,\"#0d0887\"],[0.1111111111111111,\"#46039f\"],[0.2222222222222222,\"#7201a8\"],[0.3333333333333333,\"#9c179e\"],[0.4444444444444444,\"#bd3786\"],[0.5555555555555556,\"#d8576b\"],[0.6666666666666666,\"#ed7953\"],[0.7777777777777778,\"#fb9f3a\"],[0.8888888888888888,\"#fdca26\"],[1.0,\"#f0f921\"]]}],\"heatmapgl\":[{\"type\":\"heatmapgl\",\"colorbar\":{\"outlinewidth\":0,\"ticks\":\"\"},\"colorscale\":[[0.0,\"#0d0887\"],[0.1111111111111111,\"#46039f\"],[0.2222222222222222,\"#7201a8\"],[0.3333333333333333,\"#9c179e\"],[0.4444444444444444,\"#bd3786\"],[0.5555555555555556,\"#d8576b\"],[0.6666666666666666,\"#ed7953\"],[0.7777777777777778,\"#fb9f3a\"],[0.8888888888888888,\"#fdca26\"],[1.0,\"#f0f921\"]]}],\"contourcarpet\":[{\"type\":\"contourcarpet\",\"colorbar\":{\"outlinewidth\":0,\"ticks\":\"\"}}],\"contour\":[{\"type\":\"contour\",\"colorbar\":{\"outlinewidth\":0,\"ticks\":\"\"},\"colorscale\":[[0.0,\"#0d0887\"],[0.1111111111111111,\"#46039f\"],[0.2222222222222222,\"#7201a8\"],[0.3333333333333333,\"#9c179e\"],[0.4444444444444444,\"#bd3786\"],[0.5555555555555556,\"#d8576b\"],[0.6666666666666666,\"#ed7953\"],[0.7777777777777778,\"#fb9f3a\"],[0.8888888888888888,\"#fdca26\"],[1.0,\"#f0f921\"]]}],\"surface\":[{\"type\":\"surface\",\"colorbar\":{\"outlinewidth\":0,\"ticks\":\"\"},\"colorscale\":[[0.0,\"#0d0887\"],[0.1111111111111111,\"#46039f\"],[0.2222222222222222,\"#7201a8\"],[0.3333333333333333,\"#9c179e\"],[0.4444444444444444,\"#bd3786\"],[0.5555555555555556,\"#d8576b\"],[0.6666666666666666,\"#ed7953\"],[0.7777777777777778,\"#fb9f3a\"],[0.8888888888888888,\"#fdca26\"],[1.0,\"#f0f921\"]]}],\"mesh3d\":[{\"type\":\"mesh3d\",\"colorbar\":{\"outlinewidth\":0,\"ticks\":\"\"}}],\"scatter\":[{\"fillpattern\":{\"fillmode\":\"overlay\",\"size\":10,\"solidity\":0.2},\"type\":\"scatter\"}],\"parcoords\":[{\"type\":\"parcoords\",\"line\":{\"colorbar\":{\"outlinewidth\":0,\"ticks\":\"\"}}}],\"scatterpolargl\":[{\"type\":\"scatterpolargl\",\"marker\":{\"colorbar\":{\"outlinewidth\":0,\"ticks\":\"\"}}}],\"bar\":[{\"error_x\":{\"color\":\"#2a3f5f\"},\"error_y\":{\"color\":\"#2a3f5f\"},\"marker\":{\"line\":{\"color\":\"#E5ECF6\",\"width\":0.5},\"pattern\":{\"fillmode\":\"overlay\",\"size\":10,\"solidity\":0.2}},\"type\":\"bar\"}],\"scattergeo\":[{\"type\":\"scattergeo\",\"marker\":{\"colorbar\":{\"outlinewidth\":0,\"ticks\":\"\"}}}],\"scatterpolar\":[{\"type\":\"scatterpolar\",\"marker\":{\"colorbar\":{\"outlinewidth\":0,\"ticks\":\"\"}}}],\"histogram\":[{\"marker\":{\"pattern\":{\"fillmode\":\"overlay\",\"size\":10,\"solidity\":0.2}},\"type\":\"histogram\"}],\"scattergl\":[{\"type\":\"scattergl\",\"marker\":{\"colorbar\":{\"outlinewidth\":0,\"ticks\":\"\"}}}],\"scatter3d\":[{\"type\":\"scatter3d\",\"line\":{\"colorbar\":{\"outlinewidth\":0,\"ticks\":\"\"}},\"marker\":{\"colorbar\":{\"outlinewidth\":0,\"ticks\":\"\"}}}],\"scattermapbox\":[{\"type\":\"scattermapbox\",\"marker\":{\"colorbar\":{\"outlinewidth\":0,\"ticks\":\"\"}}}],\"scatterternary\":[{\"type\":\"scatterternary\",\"marker\":{\"colorbar\":{\"outlinewidth\":0,\"ticks\":\"\"}}}],\"scattercarpet\":[{\"type\":\"scattercarpet\",\"marker\":{\"colorbar\":{\"outlinewidth\":0,\"ticks\":\"\"}}}],\"carpet\":[{\"aaxis\":{\"endlinecolor\":\"#2a3f5f\",\"gridcolor\":\"white\",\"linecolor\":\"white\",\"minorgridcolor\":\"white\",\"startlinecolor\":\"#2a3f5f\"},\"baxis\":{\"endlinecolor\":\"#2a3f5f\",\"gridcolor\":\"white\",\"linecolor\":\"white\",\"minorgridcolor\":\"white\",\"startlinecolor\":\"#2a3f5f\"},\"type\":\"carpet\"}],\"table\":[{\"cells\":{\"fill\":{\"color\":\"#EBF0F8\"},\"line\":{\"color\":\"white\"}},\"header\":{\"fill\":{\"color\":\"#C8D4E3\"},\"line\":{\"color\":\"white\"}},\"type\":\"table\"}],\"barpolar\":[{\"marker\":{\"line\":{\"color\":\"#E5ECF6\",\"width\":0.5},\"pattern\":{\"fillmode\":\"overlay\",\"size\":10,\"solidity\":0.2}},\"type\":\"barpolar\"}],\"pie\":[{\"automargin\":true,\"type\":\"pie\"}]},\"layout\":{\"autotypenumbers\":\"strict\",\"colorway\":[\"#636efa\",\"#EF553B\",\"#00cc96\",\"#ab63fa\",\"#FFA15A\",\"#19d3f3\",\"#FF6692\",\"#B6E880\",\"#FF97FF\",\"#FECB52\"],\"font\":{\"color\":\"#2a3f5f\"},\"hovermode\":\"closest\",\"hoverlabel\":{\"align\":\"left\"},\"paper_bgcolor\":\"white\",\"plot_bgcolor\":\"#E5ECF6\",\"polar\":{\"bgcolor\":\"#E5ECF6\",\"angularaxis\":{\"gridcolor\":\"white\",\"linecolor\":\"white\",\"ticks\":\"\"},\"radialaxis\":{\"gridcolor\":\"white\",\"linecolor\":\"white\",\"ticks\":\"\"}},\"ternary\":{\"bgcolor\":\"#E5ECF6\",\"aaxis\":{\"gridcolor\":\"white\",\"linecolor\":\"white\",\"ticks\":\"\"},\"baxis\":{\"gridcolor\":\"white\",\"linecolor\":\"white\",\"ticks\":\"\"},\"caxis\":{\"gridcolor\":\"white\",\"linecolor\":\"white\",\"ticks\":\"\"}},\"coloraxis\":{\"colorbar\":{\"outlinewidth\":0,\"ticks\":\"\"}},\"colorscale\":{\"sequential\":[[0.0,\"#0d0887\"],[0.1111111111111111,\"#46039f\"],[0.2222222222222222,\"#7201a8\"],[0.3333333333333333,\"#9c179e\"],[0.4444444444444444,\"#bd3786\"],[0.5555555555555556,\"#d8576b\"],[0.6666666666666666,\"#ed7953\"],[0.7777777777777778,\"#fb9f3a\"],[0.8888888888888888,\"#fdca26\"],[1.0,\"#f0f921\"]],\"sequentialminus\":[[0.0,\"#0d0887\"],[0.1111111111111111,\"#46039f\"],[0.2222222222222222,\"#7201a8\"],[0.3333333333333333,\"#9c179e\"],[0.4444444444444444,\"#bd3786\"],[0.5555555555555556,\"#d8576b\"],[0.6666666666666666,\"#ed7953\"],[0.7777777777777778,\"#fb9f3a\"],[0.8888888888888888,\"#fdca26\"],[1.0,\"#f0f921\"]],\"diverging\":[[0,\"#8e0152\"],[0.1,\"#c51b7d\"],[0.2,\"#de77ae\"],[0.3,\"#f1b6da\"],[0.4,\"#fde0ef\"],[0.5,\"#f7f7f7\"],[0.6,\"#e6f5d0\"],[0.7,\"#b8e186\"],[0.8,\"#7fbc41\"],[0.9,\"#4d9221\"],[1,\"#276419\"]]},\"xaxis\":{\"gridcolor\":\"white\",\"linecolor\":\"white\",\"ticks\":\"\",\"title\":{\"standoff\":15},\"zerolinecolor\":\"white\",\"automargin\":true,\"zerolinewidth\":2},\"yaxis\":{\"gridcolor\":\"white\",\"linecolor\":\"white\",\"ticks\":\"\",\"title\":{\"standoff\":15},\"zerolinecolor\":\"white\",\"automargin\":true,\"zerolinewidth\":2},\"scene\":{\"xaxis\":{\"backgroundcolor\":\"#E5ECF6\",\"gridcolor\":\"white\",\"linecolor\":\"white\",\"showbackground\":true,\"ticks\":\"\",\"zerolinecolor\":\"white\",\"gridwidth\":2},\"yaxis\":{\"backgroundcolor\":\"#E5ECF6\",\"gridcolor\":\"white\",\"linecolor\":\"white\",\"showbackground\":true,\"ticks\":\"\",\"zerolinecolor\":\"white\",\"gridwidth\":2},\"zaxis\":{\"backgroundcolor\":\"#E5ECF6\",\"gridcolor\":\"white\",\"linecolor\":\"white\",\"showbackground\":true,\"ticks\":\"\",\"zerolinecolor\":\"white\",\"gridwidth\":2}},\"shapedefaults\":{\"line\":{\"color\":\"#2a3f5f\"}},\"annotationdefaults\":{\"arrowcolor\":\"#2a3f5f\",\"arrowhead\":0,\"arrowwidth\":1},\"geo\":{\"bgcolor\":\"white\",\"landcolor\":\"#E5ECF6\",\"subunitcolor\":\"white\",\"showland\":true,\"showlakes\":true,\"lakecolor\":\"white\"},\"title\":{\"x\":0.05},\"mapbox\":{\"style\":\"light\"}}}},                        {\"responsive\": true}                    ).then(function(){\n",
              "                            \n",
              "var gd = document.getElementById('20781ee4-b03c-4d28-9c16-1cae40ca8f2f');\n",
              "var x = new MutationObserver(function (mutations, observer) {{\n",
              "        var display = window.getComputedStyle(gd).display;\n",
              "        if (!display || display === 'none') {{\n",
              "            console.log([gd, 'removed!']);\n",
              "            Plotly.purge(gd);\n",
              "            observer.disconnect();\n",
              "        }}\n",
              "}});\n",
              "\n",
              "// Listen for the removal of the full notebook cells\n",
              "var notebookContainer = gd.closest('#notebook-container');\n",
              "if (notebookContainer) {{\n",
              "    x.observe(notebookContainer, {childList: true});\n",
              "}}\n",
              "\n",
              "// Listen for the clearing of the current output cell\n",
              "var outputEl = gd.closest('.output');\n",
              "if (outputEl) {{\n",
              "    x.observe(outputEl, {childList: true});\n",
              "}}\n",
              "\n",
              "                        })                };                            </script>        </div>\n",
              "</body>\n",
              "</html>"
            ]
          },
          "metadata": {}
        }
      ]
    },
    {
      "cell_type": "code",
      "source": [],
      "metadata": {
        "id": "ylqht6QSaz1Q"
      },
      "execution_count": null,
      "outputs": []
    },
    {
      "cell_type": "code",
      "source": [],
      "metadata": {
        "id": "bbHWCE7ua0UE"
      },
      "execution_count": null,
      "outputs": []
    },
    {
      "cell_type": "markdown",
      "source": [
        "# 2. Fit Model"
      ],
      "metadata": {
        "id": "IQG6I8Tyeske"
      }
    },
    {
      "cell_type": "markdown",
      "source": [
        "## 2.1 LSTM"
      ],
      "metadata": {
        "id": "ACEsldcGn4HU"
      }
    },
    {
      "cell_type": "code",
      "source": [
        "from tensorflow.keras.models import Sequential\n",
        "from tensorflow.keras.layers import LSTM\n",
        "from tensorflow.keras.layers import Dense, Dropout, BatchNormalization\n",
        "from sklearn.preprocessing import StandardScaler\n",
        "from tensorflow import keras\n",
        "import tensorflow as tf\n",
        "tf.keras.backend.clear_session()\n",
        "tf.random.set_seed(7)"
      ],
      "metadata": {
        "id": "ZVGBP4m-JrBO"
      },
      "execution_count": 30,
      "outputs": []
    },
    {
      "cell_type": "code",
      "source": [
        "import matplotlib.pyplot as plt\n",
        "import seaborn as sns\n",
        "import plotly.express as px"
      ],
      "metadata": {
        "id": "ft_ANXzkK5Xh"
      },
      "execution_count": 31,
      "outputs": []
    },
    {
      "cell_type": "code",
      "source": [
        "Scale=StandardScaler()\n",
        "def data_prep(df, cols_str, lookback, future, Scale):\n",
        "    date_train=pd.to_datetime(df['Date'], format=\"%Y-%m-%d\").dt.floor('D')\n",
        "    cols = cols_str.split(\",\")\n",
        "    df_for_training = df[cols].astype(float)\n",
        "    \n",
        "    #df_for_training_scaled=Scale.fit_transform(df_train)\n",
        "    scaler = Scale.fit(df_for_training)\n",
        "    df_for_training_scaled = scaler.transform(df_for_training)\n",
        "\n",
        "    trainX = []\n",
        "    trainY = []\n",
        "    for i in range(lookback, len(df_for_training_scaled) - future +1):\n",
        "        trainX.append(df_for_training_scaled[i - lookback:i, 0:df_for_training.shape[1]])\n",
        "        trainY.append(df_for_training_scaled[i + future - 1:i + future, 0])\n",
        "\n",
        "    trainX, trainY = np.array(trainX), np.array(trainY)\n",
        "        \n",
        "    return trainX, trainY, df_for_training, date_train"
      ],
      "metadata": {
        "id": "EqvbkPbzK57i"
      },
      "execution_count": 43,
      "outputs": []
    },
    {
      "cell_type": "code",
      "source": [
        "#cols_str = 'Open,High,Low,Close,Adj Close,Volume,OCDifference,OCDiff_perc,OHDifference,OHDiff_perc,OLDifference,OLDiff_perc,OADifference,OADiff_perc'\n",
        "cols_str = 'Open,High,Low,Close,Adj Close,Volume,OCDifference,OCDiff_perc'\n",
        "lookback = 30\n",
        "future = 1"
      ],
      "metadata": {
        "id": "H8aWKG2EM0XZ"
      },
      "execution_count": 44,
      "outputs": []
    },
    {
      "cell_type": "code",
      "source": [
        "#Lstm_x, Lstm_y, df_train, date_train = data_prep(processed_data, cols_str, 12, 1, Scale)"
      ],
      "metadata": {
        "id": "PrtvmuEVMPjU"
      },
      "execution_count": null,
      "outputs": []
    },
    {
      "cell_type": "code",
      "source": [
        "def Lstm_model(trainX,trainY):\n",
        "    tf.keras.backend.clear_session()\n",
        "    model = Sequential()\n",
        "    model.add(LSTM(64, activation='relu', input_shape=(trainX.shape[1], trainX.shape[2]), return_sequences=True))\n",
        "    #model.add(Dropout(0.2))\n",
        "    #model.add(BatchNormalization())\n",
        "    model.add(LSTM(50, activation='relu', return_sequences=True))\n",
        "    #model.add(Dropout(0.2))\n",
        "    #model.add(BatchNormalization())\n",
        "    model.add(LSTM(50, activation='relu', return_sequences=True))\n",
        "    #model.add(Dropout(0.2))\n",
        "    #model.add(BatchNormalization())\n",
        "    model.add(LSTM(units = 50, return_sequences=False))\n",
        "    model.add(Dropout(0.2))\n",
        "    model.add(Dense(trainY.shape[1]))\n",
        "\n",
        "    ## compile the model and specify loss and optimizer\n",
        "    #opt = keras.optimizers.Adam(learning_rate=0.01)\n",
        "    #opt = Adam(learning_rate=0.01, beta_1=0.85, beta_2=0.999)\n",
        "    #model.compile(optimizer=opt, loss='mse')\n",
        "\n",
        "    model.compile(optimizer='adam', loss='mean_squared_error')\n",
        "    model.summary()\n",
        "    \n",
        "    # fit the model\n",
        "    es = tf.keras.callbacks.EarlyStopping(monitor='loss', patience=15, restore_best_weights=True)\n",
        "    model.fit(trainX, trainY, epochs=100, batch_size=64, validation_split=0.1, verbose=1, callbacks=[es])\n",
        "    #model.fit(trainX, trainY, epochs=100, batch_size=24, validation_split=0.1, verbose=1)\n",
        "    \n",
        "    return model"
      ],
      "metadata": {
        "id": "60n46sK3ONwJ"
      },
      "execution_count": 33,
      "outputs": []
    },
    {
      "cell_type": "code",
      "source": [
        "def Lstm_model1(X, y):\n",
        "    regressor = Sequential()\n",
        "    regressor.add(LSTM(units = 50, return_sequences = True, input_shape = (X.shape[1], X.shape[2])))\n",
        "    regressor.add(Dropout(0.2))\n",
        "    regressor.add(LSTM(units = 50, return_sequences = True))\n",
        "    regressor.add(Dropout(0.2))\n",
        "    regressor.add(LSTM(units = 50, return_sequences = True))\n",
        "    regressor.add(Dropout(0.2))\n",
        "    regressor.add(LSTM(units = 50))\n",
        "    regressor.add(Dropout(0.2))\n",
        "    regressor.add(Dense(units = 1))\n",
        "\n",
        "    regressor.compile(optimizer = 'adam', loss = 'mean_squared_error')\n",
        "    \n",
        "    es = tf.keras.callbacks.EarlyStopping(monitor='loss', patience=15, restore_best_weights=True)\n",
        "    regressor.fit(X, y, epochs = 100, validation_split=0.1, batch_size = 64, verbose=1, callbacks=[es])\n",
        "    return regressor"
      ],
      "metadata": {
        "id": "kOGbiiNBOYob"
      },
      "execution_count": 34,
      "outputs": []
    },
    {
      "cell_type": "code",
      "source": [
        "def predict_open(model, date_train, trainX, df_train, future, Scale):\n",
        "    forecasting_dates=pd.date_range(list(date_train)[-1], periods=future +1, freq='D').tolist()\n",
        "    #from pandas.tseries.offsets import DateOffset\n",
        "    #forecasting_dates = [df.Date[-1:] + DateOffset(months=x) for x in range(0, future + 1)]\n",
        "    forecasting_dates.pop(0)\n",
        "    \n",
        "    predicted = model.predict(trainX[-future:])\n",
        "    prediction_copies = np.repeat(predicted, df_train.shape[1], axis=-1)\n",
        "    predicted_descaled = Scale.inverse_transform(prediction_copies)[:,0]\n",
        "    \n",
        "    return predicted_descaled,forecasting_dates\n",
        "\n",
        "def output_prep(forecasting_dates, predicted_descaled, pred_col_name):\n",
        "    # Convert timestamp to date\n",
        "    forecast_dates = []\n",
        "    for time_i in forecasting_dates:\n",
        "        forecast_dates.append(time_i.date())\n",
        "    \n",
        "    y_fcst_lower = predicted_descaled * 0.999\n",
        "    y_fcst_upper = predicted_descaled * 1.002\n",
        "    low_col = pred_col_name + '_lower'\n",
        "    up_col = pred_col_name + '_upper'\n",
        "    #pred_col_name = 'Frcst_'+ pred_col_name\n",
        "    df_forecast = pd.DataFrame({'Date':np.array(forecast_dates), low_col:y_fcst_lower,\n",
        "                                pred_col_name:predicted_descaled, up_col:y_fcst_upper})\n",
        "    df_forecast['Date']=pd.to_datetime(df_forecast['Date']).dt.floor('D')\n",
        "    df_forecast = df_forecast.round(2)\n",
        "    \n",
        "    return df_forecast\n"
      ],
      "metadata": {
        "id": "FmMwQSdkQe9n"
      },
      "execution_count": 35,
      "outputs": []
    },
    {
      "cell_type": "code",
      "source": [
        "def results(df, lookback, future, Scale, cols, pred_col_name, plot_title, n_pred_future):\n",
        "    Lstm_x, Lstm_y, df_train, date_train = data_prep(df, cols, lookback, future, Scale)\n",
        "    #model=Lstm_model(Lstm_x,Lstm_y)\n",
        "    model=Lstm_model1(Lstm_x,Lstm_y)\n",
        "    loss=pd.DataFrame(model.history.history)\n",
        "    loss.plot()\n",
        "    predicted_descaled,forecasting_dates = predict_open(model, date_train, Lstm_x, df_train, n_pred_future, Scale)\n",
        "    results = output_prep(forecasting_dates, predicted_descaled, pred_col_name)   \n",
        "    print(results.head())\n",
        "    plt.show()\n",
        "    fig = px.area(results, x=\"Date\", y=pred_col_name, title=plot_title)\n",
        "    fig.update_yaxes(range=[results[pred_col_name].min()-10, results[pred_col_name].max()+10])\n",
        "    fig.show()\n",
        "    \n",
        "    return results"
      ],
      "metadata": {
        "id": "azAqEw1GQiV2"
      },
      "execution_count": 36,
      "outputs": []
    },
    {
      "cell_type": "code",
      "source": [
        "#cols_str = 'Open,High,Low,Close,Adj Close,Volume,OCDifference,OCDiff_perc,OHDifference,OHDiff_perc,OLDifference,OLDiff_perc,OADifference,OADiff_perc'\n",
        "cols_str = 'Open,High,Low,Close,Adj Close,Volume,OCDifference,OCDiff_perc'\n",
        "lookback = 30\n",
        "future = 1\n",
        "pred_col_name = 'F_Open'\n",
        "plot_title = 'Open value of BankNifty'\n",
        "n_pred_future = 30\n",
        "\n",
        "df_forecast = results(processed_data, lookback, future, Scale, cols_str, pred_col_name, plot_title, n_pred_future)\n",
        "# df_forecast = pd.DataFrame()\n",
        "# for prod in df.Item_Code.unique():\n",
        "#     print(prod)\n",
        "#     df1 = df[df['Item_Code']==prod]\n",
        "#     res = results(df1, lookback, future, Scale, cols_str, pred_col_name, plot_title, n_pred_future)\n",
        "#     df_forecast = pd.concat([df_forecast,res])"
      ],
      "metadata": {
        "colab": {
          "base_uri": "https://localhost:8080/",
          "height": 1000
        },
        "id": "XB467fD9Q-NN",
        "outputId": "4a7498ad-bb02-43f4-fb32-2f08b46f214f"
      },
      "execution_count": 37,
      "outputs": [
        {
          "output_type": "stream",
          "name": "stdout",
          "text": [
            "Epoch 1/100\n",
            "78/78 [==============================] - 20s 121ms/step - loss: 0.0622 - val_loss: 0.0849\n",
            "Epoch 2/100\n",
            "78/78 [==============================] - 9s 118ms/step - loss: 0.0117 - val_loss: 0.0403\n",
            "Epoch 3/100\n",
            "78/78 [==============================] - 9s 120ms/step - loss: 0.0096 - val_loss: 0.0181\n",
            "Epoch 4/100\n",
            "78/78 [==============================] - 8s 98ms/step - loss: 0.0092 - val_loss: 0.0222\n",
            "Epoch 5/100\n",
            "78/78 [==============================] - 10s 130ms/step - loss: 0.0086 - val_loss: 0.0223\n",
            "Epoch 6/100\n",
            "78/78 [==============================] - 8s 96ms/step - loss: 0.0088 - val_loss: 0.0117\n",
            "Epoch 7/100\n",
            "78/78 [==============================] - 9s 116ms/step - loss: 0.0080 - val_loss: 0.0100\n",
            "Epoch 8/100\n",
            "78/78 [==============================] - 9s 112ms/step - loss: 0.0072 - val_loss: 0.0152\n",
            "Epoch 9/100\n",
            "78/78 [==============================] - 8s 101ms/step - loss: 0.0076 - val_loss: 0.0162\n",
            "Epoch 10/100\n",
            "78/78 [==============================] - 9s 121ms/step - loss: 0.0075 - val_loss: 0.0236\n",
            "Epoch 11/100\n",
            "78/78 [==============================] - 7s 95ms/step - loss: 0.0074 - val_loss: 0.0089\n",
            "Epoch 12/100\n",
            "78/78 [==============================] - 9s 119ms/step - loss: 0.0076 - val_loss: 0.0106\n",
            "Epoch 13/100\n",
            "78/78 [==============================] - 8s 104ms/step - loss: 0.0068 - val_loss: 0.0108\n",
            "Epoch 14/100\n",
            "78/78 [==============================] - 9s 108ms/step - loss: 0.0067 - val_loss: 0.0094\n",
            "Epoch 15/100\n",
            "78/78 [==============================] - 10s 123ms/step - loss: 0.0078 - val_loss: 0.0167\n",
            "Epoch 16/100\n",
            "78/78 [==============================] - 7s 95ms/step - loss: 0.0065 - val_loss: 0.0117\n",
            "Epoch 17/100\n",
            "78/78 [==============================] - 9s 119ms/step - loss: 0.0069 - val_loss: 0.0119\n",
            "Epoch 18/100\n",
            "78/78 [==============================] - 8s 101ms/step - loss: 0.0066 - val_loss: 0.0083\n",
            "Epoch 19/100\n",
            "78/78 [==============================] - 9s 114ms/step - loss: 0.0066 - val_loss: 0.0332\n",
            "Epoch 20/100\n",
            "78/78 [==============================] - 9s 114ms/step - loss: 0.0064 - val_loss: 0.0110\n",
            "Epoch 21/100\n",
            "78/78 [==============================] - 8s 99ms/step - loss: 0.0071 - val_loss: 0.0110\n",
            "Epoch 22/100\n",
            "78/78 [==============================] - 9s 120ms/step - loss: 0.0063 - val_loss: 0.0113\n",
            "Epoch 23/100\n",
            "78/78 [==============================] - 7s 95ms/step - loss: 0.0062 - val_loss: 0.0094\n",
            "Epoch 24/100\n",
            "78/78 [==============================] - 9s 119ms/step - loss: 0.0065 - val_loss: 0.0111\n",
            "Epoch 25/100\n",
            "78/78 [==============================] - 8s 105ms/step - loss: 0.0068 - val_loss: 0.0099\n",
            "Epoch 26/100\n",
            "78/78 [==============================] - 8s 108ms/step - loss: 0.0062 - val_loss: 0.0279\n",
            "Epoch 27/100\n",
            "78/78 [==============================] - 9s 119ms/step - loss: 0.0065 - val_loss: 0.0106\n",
            "Epoch 28/100\n",
            "78/78 [==============================] - 8s 96ms/step - loss: 0.0056 - val_loss: 0.0109\n",
            "Epoch 29/100\n",
            "78/78 [==============================] - 9s 119ms/step - loss: 0.0061 - val_loss: 0.0145\n",
            "Epoch 30/100\n",
            "78/78 [==============================] - 8s 97ms/step - loss: 0.0067 - val_loss: 0.0411\n",
            "Epoch 31/100\n",
            "78/78 [==============================] - 9s 117ms/step - loss: 0.0057 - val_loss: 0.0285\n",
            "Epoch 32/100\n",
            "78/78 [==============================] - 9s 113ms/step - loss: 0.0064 - val_loss: 0.0184\n",
            "Epoch 33/100\n",
            "78/78 [==============================] - 8s 101ms/step - loss: 0.0064 - val_loss: 0.0179\n",
            "Epoch 34/100\n",
            "78/78 [==============================] - 9s 120ms/step - loss: 0.0057 - val_loss: 0.0518\n",
            "Epoch 35/100\n",
            "78/78 [==============================] - 7s 95ms/step - loss: 0.0057 - val_loss: 0.0194\n",
            "Epoch 36/100\n",
            "78/78 [==============================] - 9s 119ms/step - loss: 0.0060 - val_loss: 0.0298\n",
            "Epoch 37/100\n",
            "78/78 [==============================] - 9s 110ms/step - loss: 0.0057 - val_loss: 0.0230\n",
            "Epoch 38/100\n",
            "78/78 [==============================] - 8s 105ms/step - loss: 0.0058 - val_loss: 0.0172\n",
            "Epoch 39/100\n",
            "78/78 [==============================] - 9s 120ms/step - loss: 0.0057 - val_loss: 0.0175\n",
            "Epoch 40/100\n",
            "78/78 [==============================] - 8s 98ms/step - loss: 0.0055 - val_loss: 0.0395\n",
            "Epoch 41/100\n",
            "78/78 [==============================] - 9s 121ms/step - loss: 0.0056 - val_loss: 0.0444\n",
            "Epoch 42/100\n",
            "78/78 [==============================] - 9s 112ms/step - loss: 0.0056 - val_loss: 0.0282\n",
            "Epoch 43/100\n",
            "78/78 [==============================] - 8s 107ms/step - loss: 0.0058 - val_loss: 0.0199\n",
            "Epoch 44/100\n",
            "78/78 [==============================] - 9s 119ms/step - loss: 0.0059 - val_loss: 0.0403\n",
            "Epoch 45/100\n",
            "78/78 [==============================] - 7s 96ms/step - loss: 0.0054 - val_loss: 0.0278\n",
            "Epoch 46/100\n",
            "78/78 [==============================] - 10s 123ms/step - loss: 0.0055 - val_loss: 0.0260\n",
            "Epoch 47/100\n",
            "78/78 [==============================] - 8s 107ms/step - loss: 0.0054 - val_loss: 0.0376\n",
            "Epoch 48/100\n",
            "78/78 [==============================] - 9s 115ms/step - loss: 0.0056 - val_loss: 0.0356\n",
            "Epoch 49/100\n",
            "78/78 [==============================] - 10s 124ms/step - loss: 0.0053 - val_loss: 0.0348\n",
            "Epoch 50/100\n",
            "78/78 [==============================] - 8s 100ms/step - loss: 0.0055 - val_loss: 0.0301\n",
            "Epoch 51/100\n",
            "78/78 [==============================] - 9s 121ms/step - loss: 0.0057 - val_loss: 0.0322\n",
            "Epoch 52/100\n",
            "78/78 [==============================] - 8s 102ms/step - loss: 0.0054 - val_loss: 0.0321\n",
            "Epoch 53/100\n",
            "78/78 [==============================] - 9s 112ms/step - loss: 0.0060 - val_loss: 0.0492\n",
            "Epoch 54/100\n",
            "78/78 [==============================] - 11s 146ms/step - loss: 0.0055 - val_loss: 0.0641\n",
            "Epoch 55/100\n",
            "78/78 [==============================] - 8s 99ms/step - loss: 0.0057 - val_loss: 0.0513\n",
            "Epoch 56/100\n",
            "78/78 [==============================] - 9s 119ms/step - loss: 0.0055 - val_loss: 0.0291\n",
            "Epoch 57/100\n",
            "78/78 [==============================] - 7s 95ms/step - loss: 0.0052 - val_loss: 0.0456\n",
            "Epoch 58/100\n",
            "78/78 [==============================] - 9s 119ms/step - loss: 0.0051 - val_loss: 0.0283\n",
            "Epoch 59/100\n",
            "78/78 [==============================] - 9s 109ms/step - loss: 0.0052 - val_loss: 0.0346\n",
            "Epoch 60/100\n",
            "78/78 [==============================] - 8s 106ms/step - loss: 0.0051 - val_loss: 0.0498\n",
            "Epoch 61/100\n",
            "78/78 [==============================] - 9s 120ms/step - loss: 0.0054 - val_loss: 0.0341\n",
            "Epoch 62/100\n",
            "78/78 [==============================] - 8s 96ms/step - loss: 0.0055 - val_loss: 0.0476\n",
            "Epoch 63/100\n",
            "78/78 [==============================] - 9s 121ms/step - loss: 0.0056 - val_loss: 0.0739\n",
            "Epoch 64/100\n",
            "78/78 [==============================] - 8s 105ms/step - loss: 0.0051 - val_loss: 0.0417\n",
            "Epoch 65/100\n",
            "78/78 [==============================] - 9s 109ms/step - loss: 0.0048 - val_loss: 0.0588\n",
            "Epoch 66/100\n",
            "78/78 [==============================] - 9s 119ms/step - loss: 0.0049 - val_loss: 0.0500\n",
            "Epoch 67/100\n",
            "78/78 [==============================] - 8s 97ms/step - loss: 0.0049 - val_loss: 0.0490\n",
            "Epoch 68/100\n",
            "78/78 [==============================] - 9s 120ms/step - loss: 0.0050 - val_loss: 0.0596\n",
            "Epoch 69/100\n",
            "78/78 [==============================] - 8s 102ms/step - loss: 0.0055 - val_loss: 0.0577\n",
            "Epoch 70/100\n",
            "78/78 [==============================] - 9s 117ms/step - loss: 0.0053 - val_loss: 0.0566\n",
            "Epoch 71/100\n",
            "78/78 [==============================] - 10s 122ms/step - loss: 0.0051 - val_loss: 0.0340\n",
            "Epoch 72/100\n",
            "78/78 [==============================] - 7s 96ms/step - loss: 0.0048 - val_loss: 0.0324\n",
            "Epoch 73/100\n",
            "78/78 [==============================] - 9s 119ms/step - loss: 0.0052 - val_loss: 0.0526\n",
            "Epoch 74/100\n",
            "78/78 [==============================] - 7s 95ms/step - loss: 0.0050 - val_loss: 0.0456\n",
            "Epoch 75/100\n",
            "78/78 [==============================] - 9s 119ms/step - loss: 0.0054 - val_loss: 0.0450\n",
            "Epoch 76/100\n",
            "78/78 [==============================] - 9s 116ms/step - loss: 0.0053 - val_loss: 0.0614\n",
            "Epoch 77/100\n",
            "78/78 [==============================] - 8s 105ms/step - loss: 0.0050 - val_loss: 0.0521\n",
            "Epoch 78/100\n",
            "78/78 [==============================] - 10s 123ms/step - loss: 0.0048 - val_loss: 0.0458\n",
            "Epoch 79/100\n",
            "78/78 [==============================] - 8s 97ms/step - loss: 0.0051 - val_loss: 0.0593\n",
            "Epoch 80/100\n",
            "78/78 [==============================] - 9s 119ms/step - loss: 0.0048 - val_loss: 0.0566\n",
            "Epoch 81/100\n",
            "78/78 [==============================] - 9s 112ms/step - loss: 0.0050 - val_loss: 0.0492\n",
            "Epoch 82/100\n",
            "78/78 [==============================] - 8s 103ms/step - loss: 0.0049 - val_loss: 0.0594\n",
            "Epoch 83/100\n",
            "78/78 [==============================] - 9s 120ms/step - loss: 0.0045 - val_loss: 0.0560\n",
            "Epoch 84/100\n",
            "78/78 [==============================] - 8s 97ms/step - loss: 0.0048 - val_loss: 0.0396\n",
            "Epoch 85/100\n",
            "78/78 [==============================] - 9s 120ms/step - loss: 0.0052 - val_loss: 0.0839\n",
            "Epoch 86/100\n",
            "78/78 [==============================] - 8s 105ms/step - loss: 0.0050 - val_loss: 0.0498\n",
            "Epoch 87/100\n",
            "78/78 [==============================] - 9s 109ms/step - loss: 0.0050 - val_loss: 0.0700\n",
            "Epoch 88/100\n",
            "78/78 [==============================] - 9s 120ms/step - loss: 0.0054 - val_loss: 0.0713\n",
            "Epoch 89/100\n",
            "78/78 [==============================] - 7s 96ms/step - loss: 0.0050 - val_loss: 0.0530\n",
            "Epoch 90/100\n",
            "78/78 [==============================] - 9s 120ms/step - loss: 0.0048 - val_loss: 0.0484\n",
            "Epoch 91/100\n",
            "78/78 [==============================] - 8s 102ms/step - loss: 0.0052 - val_loss: 0.0717\n",
            "Epoch 92/100\n",
            "78/78 [==============================] - 9s 115ms/step - loss: 0.0050 - val_loss: 0.0695\n",
            "Epoch 93/100\n",
            "78/78 [==============================] - 9s 120ms/step - loss: 0.0050 - val_loss: 0.0635\n",
            "Epoch 94/100\n",
            "78/78 [==============================] - 7s 95ms/step - loss: 0.0050 - val_loss: 0.0651\n",
            "Epoch 95/100\n",
            "78/78 [==============================] - 9s 120ms/step - loss: 0.0047 - val_loss: 0.0779\n",
            "Epoch 96/100\n",
            "78/78 [==============================] - 8s 96ms/step - loss: 0.0050 - val_loss: 0.0744\n",
            "Epoch 97/100\n",
            "78/78 [==============================] - 9s 121ms/step - loss: 0.0048 - val_loss: 0.0621\n",
            "Epoch 98/100\n",
            "78/78 [==============================] - 9s 110ms/step - loss: 0.0050 - val_loss: 0.0502\n",
            "1/1 [==============================] - 2s 2s/step\n",
            "        Date  F_Open_lower        F_Open  F_Open_upper\n",
            "0 2023-04-01  37755.660156  37793.449219  37869.039062\n",
            "1 2023-04-02  37743.718750  37781.500000  37857.058594\n",
            "2 2023-04-03  37764.511719  37802.308594  37877.921875\n",
            "3 2023-04-04  37761.949219  37799.750000  37875.351562\n",
            "4 2023-04-05  37778.781250  37816.601562  37892.238281\n"
          ]
        },
        {
          "output_type": "display_data",
          "data": {
            "text/plain": [
              "<Figure size 640x480 with 1 Axes>"
            ],
            "image/png": "[encoded data removed]"
          },
          "metadata": {}
        },
        {
          "output_type": "display_data",
          "data": {
            "text/html": [
              "<html>\n",
              "<head><meta charset=\"utf-8\" /></head>\n",
              "<body>\n",
              "    <div>            <script src=\"https://cdnjs.cloudflare.com/ajax/libs/mathjax/2.7.5/MathJax.js?config=TeX-AMS-MML_SVG\"></script><script type=\"text/javascript\">if (window.MathJax && window.MathJax.Hub && window.MathJax.Hub.Config) {window.MathJax.Hub.Config({SVG: {font: \"STIX-Web\"}});}</script>                <script type=\"text/javascript\">window.PlotlyConfig = {MathJaxConfig: 'local'};</script>\n",
              "        <script src=\"https://cdn.plot.ly/plotly-2.18.2.min.js\"></script>                <div id=\"edbd4aa5-5473-47ef-b72d-e12f32923595\" class=\"plotly-graph-div\" style=\"height:525px; width:100%;\"></div>            <script type=\"text/javascript\">                                    window.PLOTLYENV=window.PLOTLYENV || {};                                    if (document.getElementById(\"edbd4aa5-5473-47ef-b72d-e12f32923595\")) {                    Plotly.newPlot(                        \"edbd4aa5-5473-47ef-b72d-e12f32923595\",                        [{\"fillpattern\":{\"shape\":\"\"},\"hovertemplate\":\"Date=%{x}<br>F_Open=%{y}<extra></extra>\",\"legendgroup\":\"\",\"line\":{\"color\":\"#636efa\"},\"marker\":{\"symbol\":\"circle\"},\"mode\":\"lines\",\"name\":\"\",\"orientation\":\"v\",\"showlegend\":false,\"stackgroup\":\"1\",\"x\":[\"2023-04-01T00:00:00\",\"2023-04-02T00:00:00\",\"2023-04-03T00:00:00\",\"2023-04-04T00:00:00\",\"2023-04-05T00:00:00\",\"2023-04-06T00:00:00\",\"2023-04-07T00:00:00\",\"2023-04-08T00:00:00\",\"2023-04-09T00:00:00\",\"2023-04-10T00:00:00\",\"2023-04-11T00:00:00\",\"2023-04-12T00:00:00\",\"2023-04-13T00:00:00\",\"2023-04-14T00:00:00\",\"2023-04-15T00:00:00\",\"2023-04-16T00:00:00\",\"2023-04-17T00:00:00\",\"2023-04-18T00:00:00\",\"2023-04-19T00:00:00\",\"2023-04-20T00:00:00\",\"2023-04-21T00:00:00\",\"2023-04-22T00:00:00\",\"2023-04-23T00:00:00\",\"2023-04-24T00:00:00\",\"2023-04-25T00:00:00\",\"2023-04-26T00:00:00\",\"2023-04-27T00:00:00\",\"2023-04-28T00:00:00\",\"2023-04-29T00:00:00\",\"2023-04-30T00:00:00\"],\"xaxis\":\"x\",\"y\":[37793.44921875,37781.5,37802.30859375,37799.75,37816.6015625,37826.8203125,37842.859375,37852.80078125,37855.23828125,37871.69140625,37871.16015625,37867.0,37845.640625,37845.6796875,37794.51953125,37793.421875,37756.98046875,37752.3203125,37751.58984375,37743.390625,37758.46875,37749.859375,37754.08984375,37755.76171875,37750.921875,37747.33984375,37745.19921875,37743.23828125,37750.5703125,37755.19140625],\"yaxis\":\"y\",\"type\":\"scatter\"}],                        {\"template\":{\"data\":{\"histogram2dcontour\":[{\"type\":\"histogram2dcontour\",\"colorbar\":{\"outlinewidth\":0,\"ticks\":\"\"},\"colorscale\":[[0.0,\"#0d0887\"],[0.1111111111111111,\"#46039f\"],[0.2222222222222222,\"#7201a8\"],[0.3333333333333333,\"#9c179e\"],[0.4444444444444444,\"#bd3786\"],[0.5555555555555556,\"#d8576b\"],[0.6666666666666666,\"#ed7953\"],[0.7777777777777778,\"#fb9f3a\"],[0.8888888888888888,\"#fdca26\"],[1.0,\"#f0f921\"]]}],\"choropleth\":[{\"type\":\"choropleth\",\"colorbar\":{\"outlinewidth\":0,\"ticks\":\"\"}}],\"histogram2d\":[{\"type\":\"histogram2d\",\"colorbar\":{\"outlinewidth\":0,\"ticks\":\"\"},\"colorscale\":[[0.0,\"#0d0887\"],[0.1111111111111111,\"#46039f\"],[0.2222222222222222,\"#7201a8\"],[0.3333333333333333,\"#9c179e\"],[0.4444444444444444,\"#bd3786\"],[0.5555555555555556,\"#d8576b\"],[0.6666666666666666,\"#ed7953\"],[0.7777777777777778,\"#fb9f3a\"],[0.8888888888888888,\"#fdca26\"],[1.0,\"#f0f921\"]]}],\"heatmap\":[{\"type\":\"heatmap\",\"colorbar\":{\"outlinewidth\":0,\"ticks\":\"\"},\"colorscale\":[[0.0,\"#0d0887\"],[0.1111111111111111,\"#46039f\"],[0.2222222222222222,\"#7201a8\"],[0.3333333333333333,\"#9c179e\"],[0.4444444444444444,\"#bd3786\"],[0.5555555555555556,\"#d8576b\"],[0.6666666666666666,\"#ed7953\"],[0.7777777777777778,\"#fb9f3a\"],[0.8888888888888888,\"#fdca26\"],[1.0,\"#f0f921\"]]}],\"heatmapgl\":[{\"type\":\"heatmapgl\",\"colorbar\":{\"outlinewidth\":0,\"ticks\":\"\"},\"colorscale\":[[0.0,\"#0d0887\"],[0.1111111111111111,\"#46039f\"],[0.2222222222222222,\"#7201a8\"],[0.3333333333333333,\"#9c179e\"],[0.4444444444444444,\"#bd3786\"],[0.5555555555555556,\"#d8576b\"],[0.6666666666666666,\"#ed7953\"],[0.7777777777777778,\"#fb9f3a\"],[0.8888888888888888,\"#fdca26\"],[1.0,\"#f0f921\"]]}],\"contourcarpet\":[{\"type\":\"contourcarpet\",\"colorbar\":{\"outlinewidth\":0,\"ticks\":\"\"}}],\"contour\":[{\"type\":\"contour\",\"colorbar\":{\"outlinewidth\":0,\"ticks\":\"\"},\"colorscale\":[[0.0,\"#0d0887\"],[0.1111111111111111,\"#46039f\"],[0.2222222222222222,\"#7201a8\"],[0.3333333333333333,\"#9c179e\"],[0.4444444444444444,\"#bd3786\"],[0.5555555555555556,\"#d8576b\"],[0.6666666666666666,\"#ed7953\"],[0.7777777777777778,\"#fb9f3a\"],[0.8888888888888888,\"#fdca26\"],[1.0,\"#f0f921\"]]}],\"surface\":[{\"type\":\"surface\",\"colorbar\":{\"outlinewidth\":0,\"ticks\":\"\"},\"colorscale\":[[0.0,\"#0d0887\"],[0.1111111111111111,\"#46039f\"],[0.2222222222222222,\"#7201a8\"],[0.3333333333333333,\"#9c179e\"],[0.4444444444444444,\"#bd3786\"],[0.5555555555555556,\"#d8576b\"],[0.6666666666666666,\"#ed7953\"],[0.7777777777777778,\"#fb9f3a\"],[0.8888888888888888,\"#fdca26\"],[1.0,\"#f0f921\"]]}],\"mesh3d\":[{\"type\":\"mesh3d\",\"colorbar\":{\"outlinewidth\":0,\"ticks\":\"\"}}],\"scatter\":[{\"fillpattern\":{\"fillmode\":\"overlay\",\"size\":10,\"solidity\":0.2},\"type\":\"scatter\"}],\"parcoords\":[{\"type\":\"parcoords\",\"line\":{\"colorbar\":{\"outlinewidth\":0,\"ticks\":\"\"}}}],\"scatterpolargl\":[{\"type\":\"scatterpolargl\",\"marker\":{\"colorbar\":{\"outlinewidth\":0,\"ticks\":\"\"}}}],\"bar\":[{\"error_x\":{\"color\":\"#2a3f5f\"},\"error_y\":{\"color\":\"#2a3f5f\"},\"marker\":{\"line\":{\"color\":\"#E5ECF6\",\"width\":0.5},\"pattern\":{\"fillmode\":\"overlay\",\"size\":10,\"solidity\":0.2}},\"type\":\"bar\"}],\"scattergeo\":[{\"type\":\"scattergeo\",\"marker\":{\"colorbar\":{\"outlinewidth\":0,\"ticks\":\"\"}}}],\"scatterpolar\":[{\"type\":\"scatterpolar\",\"marker\":{\"colorbar\":{\"outlinewidth\":0,\"ticks\":\"\"}}}],\"histogram\":[{\"marker\":{\"pattern\":{\"fillmode\":\"overlay\",\"size\":10,\"solidity\":0.2}},\"type\":\"histogram\"}],\"scattergl\":[{\"type\":\"scattergl\",\"marker\":{\"colorbar\":{\"outlinewidth\":0,\"ticks\":\"\"}}}],\"scatter3d\":[{\"type\":\"scatter3d\",\"line\":{\"colorbar\":{\"outlinewidth\":0,\"ticks\":\"\"}},\"marker\":{\"colorbar\":{\"outlinewidth\":0,\"ticks\":\"\"}}}],\"scattermapbox\":[{\"type\":\"scattermapbox\",\"marker\":{\"colorbar\":{\"outlinewidth\":0,\"ticks\":\"\"}}}],\"scatterternary\":[{\"type\":\"scatterternary\",\"marker\":{\"colorbar\":{\"outlinewidth\":0,\"ticks\":\"\"}}}],\"scattercarpet\":[{\"type\":\"scattercarpet\",\"marker\":{\"colorbar\":{\"outlinewidth\":0,\"ticks\":\"\"}}}],\"carpet\":[{\"aaxis\":{\"endlinecolor\":\"#2a3f5f\",\"gridcolor\":\"white\",\"linecolor\":\"white\",\"minorgridcolor\":\"white\",\"startlinecolor\":\"#2a3f5f\"},\"baxis\":{\"endlinecolor\":\"#2a3f5f\",\"gridcolor\":\"white\",\"linecolor\":\"white\",\"minorgridcolor\":\"white\",\"startlinecolor\":\"#2a3f5f\"},\"type\":\"carpet\"}],\"table\":[{\"cells\":{\"fill\":{\"color\":\"#EBF0F8\"},\"line\":{\"color\":\"white\"}},\"header\":{\"fill\":{\"color\":\"#C8D4E3\"},\"line\":{\"color\":\"white\"}},\"type\":\"table\"}],\"barpolar\":[{\"marker\":{\"line\":{\"color\":\"#E5ECF6\",\"width\":0.5},\"pattern\":{\"fillmode\":\"overlay\",\"size\":10,\"solidity\":0.2}},\"type\":\"barpolar\"}],\"pie\":[{\"automargin\":true,\"type\":\"pie\"}]},\"layout\":{\"autotypenumbers\":\"strict\",\"colorway\":[\"#636efa\",\"#EF553B\",\"#00cc96\",\"#ab63fa\",\"#FFA15A\",\"#19d3f3\",\"#FF6692\",\"#B6E880\",\"#FF97FF\",\"#FECB52\"],\"font\":{\"color\":\"#2a3f5f\"},\"hovermode\":\"closest\",\"hoverlabel\":{\"align\":\"left\"},\"paper_bgcolor\":\"white\",\"plot_bgcolor\":\"#E5ECF6\",\"polar\":{\"bgcolor\":\"#E5ECF6\",\"angularaxis\":{\"gridcolor\":\"white\",\"linecolor\":\"white\",\"ticks\":\"\"},\"radialaxis\":{\"gridcolor\":\"white\",\"linecolor\":\"white\",\"ticks\":\"\"}},\"ternary\":{\"bgcolor\":\"#E5ECF6\",\"aaxis\":{\"gridcolor\":\"white\",\"linecolor\":\"white\",\"ticks\":\"\"},\"baxis\":{\"gridcolor\":\"white\",\"linecolor\":\"white\",\"ticks\":\"\"},\"caxis\":{\"gridcolor\":\"white\",\"linecolor\":\"white\",\"ticks\":\"\"}},\"coloraxis\":{\"colorbar\":{\"outlinewidth\":0,\"ticks\":\"\"}},\"colorscale\":{\"sequential\":[[0.0,\"#0d0887\"],[0.1111111111111111,\"#46039f\"],[0.2222222222222222,\"#7201a8\"],[0.3333333333333333,\"#9c179e\"],[0.4444444444444444,\"#bd3786\"],[0.5555555555555556,\"#d8576b\"],[0.6666666666666666,\"#ed7953\"],[0.7777777777777778,\"#fb9f3a\"],[0.8888888888888888,\"#fdca26\"],[1.0,\"#f0f921\"]],\"sequentialminus\":[[0.0,\"#0d0887\"],[0.1111111111111111,\"#46039f\"],[0.2222222222222222,\"#7201a8\"],[0.3333333333333333,\"#9c179e\"],[0.4444444444444444,\"#bd3786\"],[0.5555555555555556,\"#d8576b\"],[0.6666666666666666,\"#ed7953\"],[0.7777777777777778,\"#fb9f3a\"],[0.8888888888888888,\"#fdca26\"],[1.0,\"#f0f921\"]],\"diverging\":[[0,\"#8e0152\"],[0.1,\"#c51b7d\"],[0.2,\"#de77ae\"],[0.3,\"#f1b6da\"],[0.4,\"#fde0ef\"],[0.5,\"#f7f7f7\"],[0.6,\"#e6f5d0\"],[0.7,\"#b8e186\"],[0.8,\"#7fbc41\"],[0.9,\"#4d9221\"],[1,\"#276419\"]]},\"xaxis\":{\"gridcolor\":\"white\",\"linecolor\":\"white\",\"ticks\":\"\",\"title\":{\"standoff\":15},\"zerolinecolor\":\"white\",\"automargin\":true,\"zerolinewidth\":2},\"yaxis\":{\"gridcolor\":\"white\",\"linecolor\":\"white\",\"ticks\":\"\",\"title\":{\"standoff\":15},\"zerolinecolor\":\"white\",\"automargin\":true,\"zerolinewidth\":2},\"scene\":{\"xaxis\":{\"backgroundcolor\":\"#E5ECF6\",\"gridcolor\":\"white\",\"linecolor\":\"white\",\"showbackground\":true,\"ticks\":\"\",\"zerolinecolor\":\"white\",\"gridwidth\":2},\"yaxis\":{\"backgroundcolor\":\"#E5ECF6\",\"gridcolor\":\"white\",\"linecolor\":\"white\",\"showbackground\":true,\"ticks\":\"\",\"zerolinecolor\":\"white\",\"gridwidth\":2},\"zaxis\":{\"backgroundcolor\":\"#E5ECF6\",\"gridcolor\":\"white\",\"linecolor\":\"white\",\"showbackground\":true,\"ticks\":\"\",\"zerolinecolor\":\"white\",\"gridwidth\":2}},\"shapedefaults\":{\"line\":{\"color\":\"#2a3f5f\"}},\"annotationdefaults\":{\"arrowcolor\":\"#2a3f5f\",\"arrowhead\":0,\"arrowwidth\":1},\"geo\":{\"bgcolor\":\"white\",\"landcolor\":\"#E5ECF6\",\"subunitcolor\":\"white\",\"showland\":true,\"showlakes\":true,\"lakecolor\":\"white\"},\"title\":{\"x\":0.05},\"mapbox\":{\"style\":\"light\"}}},\"xaxis\":{\"anchor\":\"y\",\"domain\":[0.0,1.0],\"title\":{\"text\":\"Date\"}},\"yaxis\":{\"anchor\":\"x\",\"domain\":[0.0,1.0],\"title\":{\"text\":\"F_Open\"},\"range\":[37733.23828125,37881.69140625]},\"legend\":{\"tracegroupgap\":0},\"title\":{\"text\":\"Open value of BankNifty\"}},                        {\"responsive\": true}                    ).then(function(){\n",
              "                            \n",
              "var gd = document.getElementById('edbd4aa5-5473-47ef-b72d-e12f32923595');\n",
              "var x = new MutationObserver(function (mutations, observer) {{\n",
              "        var display = window.getComputedStyle(gd).display;\n",
              "        if (!display || display === 'none') {{\n",
              "            console.log([gd, 'removed!']);\n",
              "            Plotly.purge(gd);\n",
              "            observer.disconnect();\n",
              "        }}\n",
              "}});\n",
              "\n",
              "// Listen for the removal of the full notebook cells\n",
              "var notebookContainer = gd.closest('#notebook-container');\n",
              "if (notebookContainer) {{\n",
              "    x.observe(notebookContainer, {childList: true});\n",
              "}}\n",
              "\n",
              "// Listen for the clearing of the current output cell\n",
              "var outputEl = gd.closest('.output');\n",
              "if (outputEl) {{\n",
              "    x.observe(outputEl, {childList: true});\n",
              "}}\n",
              "\n",
              "                        })                };                            </script>        </div>\n",
              "</body>\n",
              "</html>"
            ]
          },
          "metadata": {}
        }
      ]
    },
    {
      "cell_type": "code",
      "source": [
        "df_forecast.head()"
      ],
      "metadata": {
        "id": "AFSfOw8VVGxI",
        "colab": {
          "base_uri": "https://localhost:8080/",
          "height": 206
        },
        "outputId": "4f7744b9-6e10-4026-aeea-bd6d74d3a64a"
      },
      "execution_count": 38,
      "outputs": [
        {
          "output_type": "execute_result",
          "data": {
            "text/plain": [
              "        Date  F_Open_lower        F_Open  F_Open_upper\n",
              "0 2023-04-01  37755.660156  37793.449219  37869.039062\n",
              "1 2023-04-02  37743.718750  37781.500000  37857.058594\n",
              "2 2023-04-03  37764.511719  37802.308594  37877.921875\n",
              "3 2023-04-04  37761.949219  37799.750000  37875.351562\n",
              "4 2023-04-05  37778.781250  37816.601562  37892.238281"
            ],
            "text/html": [
              "\n",
              "  <div id=\"df-e98ae817-e4ac-45ab-ac07-168f75b0438b\">\n",
              "    <div class=\"colab-df-container\">\n",
              "      <div>\n",
              "<style scoped>\n",
              "    .dataframe tbody tr th:only-of-type {\n",
              "        vertical-align: middle;\n",
              "    }\n",
              "\n",
              "    .dataframe tbody tr th {\n",
              "        vertical-align: top;\n",
              "    }\n",
              "\n",
              "    .dataframe thead th {\n",
              "        text-align: right;\n",
              "    }\n",
              "</style>\n",
              "<table border=\"1\" class=\"dataframe\">\n",
              "  <thead>\n",
              "    <tr style=\"text-align: right;\">\n",
              "      <th></th>\n",
              "      <th>Date</th>\n",
              "      <th>F_Open_lower</th>\n",
              "      <th>F_Open</th>\n",
              "      <th>F_Open_upper</th>\n",
              "    </tr>\n",
              "  </thead>\n",
              "  <tbody>\n",
              "    <tr>\n",
              "      <th>0</th>\n",
              "      <td>2023-04-01</td>\n",
              "      <td>37755.660156</td>\n",
              "      <td>37793.449219</td>\n",
              "      <td>37869.039062</td>\n",
              "    </tr>\n",
              "    <tr>\n",
              "      <th>1</th>\n",
              "      <td>2023-04-02</td>\n",
              "      <td>37743.718750</td>\n",
              "      <td>37781.500000</td>\n",
              "      <td>37857.058594</td>\n",
              "    </tr>\n",
              "    <tr>\n",
              "      <th>2</th>\n",
              "      <td>2023-04-03</td>\n",
              "      <td>37764.511719</td>\n",
              "      <td>37802.308594</td>\n",
              "      <td>37877.921875</td>\n",
              "    </tr>\n",
              "    <tr>\n",
              "      <th>3</th>\n",
              "      <td>2023-04-04</td>\n",
              "      <td>37761.949219</td>\n",
              "      <td>37799.750000</td>\n",
              "      <td>37875.351562</td>\n",
              "    </tr>\n",
              "    <tr>\n",
              "      <th>4</th>\n",
              "      <td>2023-04-05</td>\n",
              "      <td>37778.781250</td>\n",
              "      <td>37816.601562</td>\n",
              "      <td>37892.238281</td>\n",
              "    </tr>\n",
              "  </tbody>\n",
              "</table>\n",
              "</div>\n",
              "      <button class=\"colab-df-convert\" onclick=\"convertToInteractive('df-e98ae817-e4ac-45ab-ac07-168f75b0438b')\"\n",
              "              title=\"Convert this dataframe to an interactive table.\"\n",
              "              style=\"display:none;\">\n",
              "        \n",
              "  <svg xmlns=\"http://www.w3.org/2000/svg\" height=\"24px\"viewBox=\"0 0 24 24\"\n",
              "       width=\"24px\">\n",
              "    <path d=\"M0 0h24v24H0V0z\" fill=\"none\"/>\n",
              "    <path d=\"M18.56 5.44l.94 2.06.94-2.06 2.06-.94-2.06-.94-.94-2.06-.94 2.06-2.06.94zm-11 1L8.5 8.5l.94-2.06 2.06-.94-2.06-.94L8.5 2.5l-.94 2.06-2.06.94zm10 10l.94 2.06.94-2.06 2.06-.94-2.06-.94-.94-2.06-.94 2.06-2.06.94z\"/><path d=\"M17.41 7.96l-1.37-1.37c-.4-.4-.92-.59-1.43-.59-.52 0-1.04.2-1.43.59L10.3 9.45l-7.72 7.72c-.78.78-.78 2.05 0 2.83L4 21.41c.39.39.9.59 1.41.59.51 0 1.02-.2 1.41-.59l7.78-7.78 2.81-2.81c.8-.78.8-2.07 0-2.86zM5.41 20L4 18.59l7.72-7.72 1.47 1.35L5.41 20z\"/>\n",
              "  </svg>\n",
              "      </button>\n",
              "      \n",
              "  <style>\n",
              "    .colab-df-container {\n",
              "      display:flex;\n",
              "      flex-wrap:wrap;\n",
              "      gap: 12px;\n",
              "    }\n",
              "\n",
              "    .colab-df-convert {\n",
              "      background-color: #E8F0FE;\n",
              "      border: none;\n",
              "      border-radius: 50%;\n",
              "      cursor: pointer;\n",
              "      display: none;\n",
              "      fill: #1967D2;\n",
              "      height: 32px;\n",
              "      padding: 0 0 0 0;\n",
              "      width: 32px;\n",
              "    }\n",
              "\n",
              "    .colab-df-convert:hover {\n",
              "      background-color: #E2EBFA;\n",
              "      box-shadow: 0px 1px 2px rgba(60, 64, 67, 0.3), 0px 1px 3px 1px rgba(60, 64, 67, 0.15);\n",
              "      fill: #174EA6;\n",
              "    }\n",
              "\n",
              "    [theme=dark] .colab-df-convert {\n",
              "      background-color: #3B4455;\n",
              "      fill: #D2E3FC;\n",
              "    }\n",
              "\n",
              "    [theme=dark] .colab-df-convert:hover {\n",
              "      background-color: #434B5C;\n",
              "      box-shadow: 0px 1px 3px 1px rgba(0, 0, 0, 0.15);\n",
              "      filter: drop-shadow(0px 1px 2px rgba(0, 0, 0, 0.3));\n",
              "      fill: #FFFFFF;\n",
              "    }\n",
              "  </style>\n",
              "\n",
              "      <script>\n",
              "        const buttonEl =\n",
              "          document.querySelector('#df-e98ae817-e4ac-45ab-ac07-168f75b0438b button.colab-df-convert');\n",
              "        buttonEl.style.display =\n",
              "          google.colab.kernel.accessAllowed ? 'block' : 'none';\n",
              "\n",
              "        async function convertToInteractive(key) {\n",
              "          const element = document.querySelector('#df-e98ae817-e4ac-45ab-ac07-168f75b0438b');\n",
              "          const dataTable =\n",
              "            await google.colab.kernel.invokeFunction('convertToInteractive',\n",
              "                                                     [key], {});\n",
              "          if (!dataTable) return;\n",
              "\n",
              "          const docLinkHtml = 'Like what you see? Visit the ' +\n",
              "            '<a target=\"_blank\" href=https://colab.research.google.com/notebooks/data_table.ipynb>data table notebook</a>'\n",
              "            + ' to learn more about interactive tables.';\n",
              "          element.innerHTML = '';\n",
              "          dataTable['output_type'] = 'display_data';\n",
              "          await google.colab.output.renderOutput(dataTable, element);\n",
              "          const docLink = document.createElement('div');\n",
              "          docLink.innerHTML = docLinkHtml;\n",
              "          element.appendChild(docLink);\n",
              "        }\n",
              "      </script>\n",
              "    </div>\n",
              "  </div>\n",
              "  "
            ]
          },
          "metadata": {},
          "execution_count": 38
        }
      ]
    },
    {
      "cell_type": "code",
      "source": [
        "# # save the scaler\n",
        "# import pickle\n",
        "# pickle.dump(Scale, open('/content/drive/MyDrive/Colab Notebooks/Scale.pkl', 'wb'))\n",
        "# # load the scaler\n",
        "# Scale = pickle.load(open('/content/drive/MyDrive/Colab Notebooks/Scale.pkl', 'rb'))"
      ],
      "metadata": {
        "id": "_dLNi55403j6"
      },
      "execution_count": null,
      "outputs": []
    },
    {
      "cell_type": "code",
      "source": [
        "# # Calling `save('my_model.h5')` creates a h5 file `my_model.h5`.\n",
        "# model.save(\"/content/drive/MyDrive/Colab Notebooks/my_h5_model.h5\")\n",
        "# # It can be used to reconstruct the model identically.\n",
        "# saved_model = keras.models.load_model(\"/content/drive/MyDrive/Colab Notebooks/my_h5_model.h5\")"
      ],
      "metadata": {
        "id": "naimyhsGATRM"
      },
      "execution_count": null,
      "outputs": []
    },
    {
      "cell_type": "code",
      "source": [
        "import os\n",
        "os.getcwd()"
      ],
      "metadata": {
        "id": "oBL-4kGLDJ2q",
        "colab": {
          "base_uri": "https://localhost:8080/",
          "height": 35
        },
        "outputId": "5bbb57c2-a515-428a-f75f-bf57269c51a4"
      },
      "execution_count": 34,
      "outputs": [
        {
          "output_type": "execute_result",
          "data": {
            "text/plain": [
              "'/content'"
            ],
            "application/vnd.google.colaboratory.intrinsic+json": {
              "type": "string"
            }
          },
          "metadata": {},
          "execution_count": 34
        }
      ]
    },
    {
      "cell_type": "code",
      "source": [],
      "metadata": {
        "id": "EObFtKLXIGGJ"
      },
      "execution_count": null,
      "outputs": []
    },
    {
      "cell_type": "markdown",
      "source": [
        "## 2.2 FBPROPHET"
      ],
      "metadata": {
        "id": "A6DEOLjyn_0b"
      }
    },
    {
      "cell_type": "code",
      "source": [
        "# !pip install --user kats\n",
        "# !pip install pystan==2.19.1.1\n",
        "# !pip install fbprophet==0.7.1"
      ],
      "metadata": {
        "id": "CbGEcZzWn9UM"
      },
      "execution_count": 43,
      "outputs": []
    },
    {
      "cell_type": "code",
      "source": [
        "# n_pred_future = 30\n",
        "# from kats.consts import TimeSeriesData as tsd\n",
        "# data = tsd(processed_data[['Date','Open']])\n",
        "# from kats.models.prophet import ProphetModel\n",
        "# from kats.models.prophet import ProphetParams\n",
        "\n",
        "# parms = ProphetParams(seasonality_mode='multiplicative', interval_width=0.95)\n",
        "# model = ProphetModel(data,parms)\n",
        "# model.fit()\n",
        "# forcast = model.predict(steps = n_pred_future, freq=\"D\")"
      ],
      "metadata": {
        "id": "kzWHSm7ZtGJv"
      },
      "execution_count": 22,
      "outputs": []
    },
    {
      "cell_type": "code",
      "source": [
        "from prophet import Prophet\n",
        "\n",
        "data = processed_data[['Date','Open']]\n",
        "data.columns = ['ds','y']\n",
        "n_pred_future = 30\n",
        "#m = Prophet(seasonality_mode='multiplicative', interval_width=0.999)\n",
        "m = Prophet(seasonality_mode='multiplicative')\n",
        "m.fit(data)\n",
        "future = m.make_future_dataframe(n_pred_future, freq='D', include_history=False)\n",
        "p_forecast = m.predict(future)\n",
        "p_forecast = p_forecast[['ds', 'yhat', 'yhat_lower', 'yhat_upper']]\n",
        "p_forecast['yhat_lower'] = p_forecast['yhat'] * 0.999\n",
        "p_forecast['yhat_upper'] = p_forecast['yhat'] * 1.002\n",
        "p_forecast.rename(columns = {'ds':'Date','yhat':'F_Open','yhat_lower':'F_Open_lower','yhat_upper':'F_Open_upper'}, inplace = True)\n",
        "p_forecast = p_forecast.round(2)"
      ],
      "metadata": {
        "colab": {
          "base_uri": "https://localhost:8080/"
        },
        "id": "fsk9d4GgtGNC",
        "outputId": "6dde77bc-ddca-4c21-8621-3f3822030653"
      },
      "execution_count": 39,
      "outputs": [
        {
          "output_type": "stream",
          "name": "stderr",
          "text": [
            "INFO:prophet:Disabling daily seasonality. Run prophet with daily_seasonality=True to override this.\n",
            "DEBUG:cmdstanpy:input tempfile: /tmp/tmpfrifs505/kr4ij1ta.json\n",
            "DEBUG:cmdstanpy:input tempfile: /tmp/tmpfrifs505/amnof_gh.json\n",
            "DEBUG:cmdstanpy:idx 0\n",
            "DEBUG:cmdstanpy:running CmdStan, num_threads: None\n",
            "DEBUG:cmdstanpy:CmdStan args: ['/usr/local/lib/python3.9/dist-packages/prophet/stan_model/prophet_model.bin', 'random', 'seed=87237', 'data', 'file=/tmp/tmpfrifs505/kr4ij1ta.json', 'init=/tmp/tmpfrifs505/amnof_gh.json', 'output', 'file=/tmp/tmpfrifs505/prophet_model_62a1m0s/prophet_model-20230403082129.csv', 'method=optimize', 'algorithm=lbfgs', 'iter=10000']\n",
            "08:21:29 - cmdstanpy - INFO - Chain [1] start processing\n",
            "INFO:cmdstanpy:Chain [1] start processing\n",
            "08:21:34 - cmdstanpy - INFO - Chain [1] done processing\n",
            "INFO:cmdstanpy:Chain [1] done processing\n"
          ]
        }
      ]
    },
    {
      "cell_type": "code",
      "source": [
        "p_forecast.head()"
      ],
      "metadata": {
        "colab": {
          "base_uri": "https://localhost:8080/",
          "height": 206
        },
        "id": "4dsTWAFLn97Z",
        "outputId": "54adc949-8f1c-46b4-8a50-5749220be717"
      },
      "execution_count": 40,
      "outputs": [
        {
          "output_type": "execute_result",
          "data": {
            "text/plain": [
              "        Date    F_Open  F_Open_lower  F_Open_upper\n",
              "0 2023-04-01  41789.37      41747.59      41872.95\n",
              "1 2023-04-02  41821.31      41779.48      41904.95\n",
              "2 2023-04-03  41865.01      41823.14      41948.74\n",
              "3 2023-04-04  41928.32      41886.39      42012.18\n",
              "4 2023-04-05  42035.15      41993.12      42119.22"
            ],
            "text/html": [
              "\n",
              "  <div id=\"df-53c85727-bf35-4134-9591-4f55bfd815f9\">\n",
              "    <div class=\"colab-df-container\">\n",
              "      <div>\n",
              "<style scoped>\n",
              "    .dataframe tbody tr th:only-of-type {\n",
              "        vertical-align: middle;\n",
              "    }\n",
              "\n",
              "    .dataframe tbody tr th {\n",
              "        vertical-align: top;\n",
              "    }\n",
              "\n",
              "    .dataframe thead th {\n",
              "        text-align: right;\n",
              "    }\n",
              "</style>\n",
              "<table border=\"1\" class=\"dataframe\">\n",
              "  <thead>\n",
              "    <tr style=\"text-align: right;\">\n",
              "      <th></th>\n",
              "      <th>Date</th>\n",
              "      <th>F_Open</th>\n",
              "      <th>F_Open_lower</th>\n",
              "      <th>F_Open_upper</th>\n",
              "    </tr>\n",
              "  </thead>\n",
              "  <tbody>\n",
              "    <tr>\n",
              "      <th>0</th>\n",
              "      <td>2023-04-01</td>\n",
              "      <td>41789.37</td>\n",
              "      <td>41747.59</td>\n",
              "      <td>41872.95</td>\n",
              "    </tr>\n",
              "    <tr>\n",
              "      <th>1</th>\n",
              "      <td>2023-04-02</td>\n",
              "      <td>41821.31</td>\n",
              "      <td>41779.48</td>\n",
              "      <td>41904.95</td>\n",
              "    </tr>\n",
              "    <tr>\n",
              "      <th>2</th>\n",
              "      <td>2023-04-03</td>\n",
              "      <td>41865.01</td>\n",
              "      <td>41823.14</td>\n",
              "      <td>41948.74</td>\n",
              "    </tr>\n",
              "    <tr>\n",
              "      <th>3</th>\n",
              "      <td>2023-04-04</td>\n",
              "      <td>41928.32</td>\n",
              "      <td>41886.39</td>\n",
              "      <td>42012.18</td>\n",
              "    </tr>\n",
              "    <tr>\n",
              "      <th>4</th>\n",
              "      <td>2023-04-05</td>\n",
              "      <td>42035.15</td>\n",
              "      <td>41993.12</td>\n",
              "      <td>42119.22</td>\n",
              "    </tr>\n",
              "  </tbody>\n",
              "</table>\n",
              "</div>\n",
              "      <button class=\"colab-df-convert\" onclick=\"convertToInteractive('df-53c85727-bf35-4134-9591-4f55bfd815f9')\"\n",
              "              title=\"Convert this dataframe to an interactive table.\"\n",
              "              style=\"display:none;\">\n",
              "        \n",
              "  <svg xmlns=\"http://www.w3.org/2000/svg\" height=\"24px\"viewBox=\"0 0 24 24\"\n",
              "       width=\"24px\">\n",
              "    <path d=\"M0 0h24v24H0V0z\" fill=\"none\"/>\n",
              "    <path d=\"M18.56 5.44l.94 2.06.94-2.06 2.06-.94-2.06-.94-.94-2.06-.94 2.06-2.06.94zm-11 1L8.5 8.5l.94-2.06 2.06-.94-2.06-.94L8.5 2.5l-.94 2.06-2.06.94zm10 10l.94 2.06.94-2.06 2.06-.94-2.06-.94-.94-2.06-.94 2.06-2.06.94z\"/><path d=\"M17.41 7.96l-1.37-1.37c-.4-.4-.92-.59-1.43-.59-.52 0-1.04.2-1.43.59L10.3 9.45l-7.72 7.72c-.78.78-.78 2.05 0 2.83L4 21.41c.39.39.9.59 1.41.59.51 0 1.02-.2 1.41-.59l7.78-7.78 2.81-2.81c.8-.78.8-2.07 0-2.86zM5.41 20L4 18.59l7.72-7.72 1.47 1.35L5.41 20z\"/>\n",
              "  </svg>\n",
              "      </button>\n",
              "      \n",
              "  <style>\n",
              "    .colab-df-container {\n",
              "      display:flex;\n",
              "      flex-wrap:wrap;\n",
              "      gap: 12px;\n",
              "    }\n",
              "\n",
              "    .colab-df-convert {\n",
              "      background-color: #E8F0FE;\n",
              "      border: none;\n",
              "      border-radius: 50%;\n",
              "      cursor: pointer;\n",
              "      display: none;\n",
              "      fill: #1967D2;\n",
              "      height: 32px;\n",
              "      padding: 0 0 0 0;\n",
              "      width: 32px;\n",
              "    }\n",
              "\n",
              "    .colab-df-convert:hover {\n",
              "      background-color: #E2EBFA;\n",
              "      box-shadow: 0px 1px 2px rgba(60, 64, 67, 0.3), 0px 1px 3px 1px rgba(60, 64, 67, 0.15);\n",
              "      fill: #174EA6;\n",
              "    }\n",
              "\n",
              "    [theme=dark] .colab-df-convert {\n",
              "      background-color: #3B4455;\n",
              "      fill: #D2E3FC;\n",
              "    }\n",
              "\n",
              "    [theme=dark] .colab-df-convert:hover {\n",
              "      background-color: #434B5C;\n",
              "      box-shadow: 0px 1px 3px 1px rgba(0, 0, 0, 0.15);\n",
              "      filter: drop-shadow(0px 1px 2px rgba(0, 0, 0, 0.3));\n",
              "      fill: #FFFFFF;\n",
              "    }\n",
              "  </style>\n",
              "\n",
              "      <script>\n",
              "        const buttonEl =\n",
              "          document.querySelector('#df-53c85727-bf35-4134-9591-4f55bfd815f9 button.colab-df-convert');\n",
              "        buttonEl.style.display =\n",
              "          google.colab.kernel.accessAllowed ? 'block' : 'none';\n",
              "\n",
              "        async function convertToInteractive(key) {\n",
              "          const element = document.querySelector('#df-53c85727-bf35-4134-9591-4f55bfd815f9');\n",
              "          const dataTable =\n",
              "            await google.colab.kernel.invokeFunction('convertToInteractive',\n",
              "                                                     [key], {});\n",
              "          if (!dataTable) return;\n",
              "\n",
              "          const docLinkHtml = 'Like what you see? Visit the ' +\n",
              "            '<a target=\"_blank\" href=https://colab.research.google.com/notebooks/data_table.ipynb>data table notebook</a>'\n",
              "            + ' to learn more about interactive tables.';\n",
              "          element.innerHTML = '';\n",
              "          dataTable['output_type'] = 'display_data';\n",
              "          await google.colab.output.renderOutput(dataTable, element);\n",
              "          const docLink = document.createElement('div');\n",
              "          docLink.innerHTML = docLinkHtml;\n",
              "          element.appendChild(docLink);\n",
              "        }\n",
              "      </script>\n",
              "    </div>\n",
              "  </div>\n",
              "  "
            ]
          },
          "metadata": {},
          "execution_count": 40
        }
      ]
    },
    {
      "cell_type": "code",
      "source": [],
      "metadata": {
        "id": "QrTCGHstn-DV"
      },
      "execution_count": null,
      "outputs": []
    },
    {
      "cell_type": "code",
      "source": [],
      "metadata": {
        "id": "J9CGmYn4n-Gp"
      },
      "execution_count": null,
      "outputs": []
    },
    {
      "cell_type": "markdown",
      "source": [
        "# 3. Dump forcast results"
      ],
      "metadata": {
        "id": "gXxr8HRkYTo-"
      }
    },
    {
      "cell_type": "code",
      "source": [
        "today = dt.date.today()\n",
        "currentMonth = today.strftime(\"%b\")"
      ],
      "metadata": {
        "id": "3GKKtn7jYYXL"
      },
      "execution_count": 31,
      "outputs": []
    },
    {
      "cell_type": "code",
      "source": [
        "import os\n",
        "path = f'/content/drive/MyDrive/Colab Notebooks/{currentMonth}'\n",
        "isExist = os.path.exists(path)\n",
        "if not isExist:\n",
        "  # Create a new directory because it does not exist\n",
        "  os.makedirs(path)"
      ],
      "metadata": {
        "id": "f_EnS4p1dZ55"
      },
      "execution_count": 33,
      "outputs": []
    },
    {
      "cell_type": "code",
      "source": [
        "# for LSTM\n",
        "lstm_path = f'/content/drive/MyDrive/Colab Notebooks/{currentMonth}/BankNifty_{currentMonth}_lstm.xlsx'\n",
        "df_forecast.to_excel(lstm_path, index=False)"
      ],
      "metadata": {
        "id": "b5kvSfW7ZeGp"
      },
      "execution_count": 48,
      "outputs": []
    },
    {
      "cell_type": "code",
      "source": [
        "# for Prophet\n",
        "prophet_path = f'/content/drive/MyDrive/Colab Notebooks/{currentMonth}/BankNifty_{currentMonth}_prophet.xlsx'\n",
        "p_forecast.to_excel(prophet_path, index=False)"
      ],
      "metadata": {
        "id": "YetzRP39eKSB"
      },
      "execution_count": 38,
      "outputs": []
    },
    {
      "cell_type": "code",
      "source": [],
      "metadata": {
        "id": "ZKvsGY484Rb9"
      },
      "execution_count": null,
      "outputs": []
    },
    {
      "cell_type": "code",
      "source": [],
      "metadata": {
        "id": "icIVv48dj3pE"
      },
      "execution_count": null,
      "outputs": []
    },
    {
      "cell_type": "code",
      "source": [],
      "metadata": {
        "id": "-GBsUAYLj4FG"
      },
      "execution_count": null,
      "outputs": []
    },
    {
      "cell_type": "code",
      "source": [],
      "metadata": {
        "id": "RcXo-YMVj4Ks"
      },
      "execution_count": null,
      "outputs": []
    },
    {
      "cell_type": "markdown",
      "source": [
        "# 4. Checking anamoly"
      ],
      "metadata": {
        "id": "GYwtp6HceLtV"
      }
    },
    {
      "cell_type": "markdown",
      "source": [
        "## 4.1 LSTM"
      ],
      "metadata": {
        "id": "uvhWhhRJfhNL"
      }
    },
    {
      "cell_type": "code",
      "source": [
        "import os\n",
        "import datetime as dt\n",
        "import pandas as pd\n",
        "import numpy as np\n",
        "import yfinance as yf"
      ],
      "metadata": {
        "id": "7t0vOeu8fcir"
      },
      "execution_count": 1,
      "outputs": []
    },
    {
      "cell_type": "code",
      "source": [
        "today = dt.date.today()\n",
        "currentMonth = today.strftime(\"%b\")"
      ],
      "metadata": {
        "id": "jq13CCXghWtu"
      },
      "execution_count": 2,
      "outputs": []
    },
    {
      "cell_type": "code",
      "source": [
        "lstm_path = f'/content/drive/MyDrive/Colab Notebooks/{currentMonth}/BankNifty_{currentMonth}_lstm.xlsx'\n",
        "df = pd.read_excel(lstm_path)\n",
        "df['Date'] = pd.to_datetime(df['Date'], format='%Y-%m-%d').dt.floor('D')\n",
        "df = df[df['Date']==today.strftime('%Y-%m-%d')]"
      ],
      "metadata": {
        "id": "TI307tXUeRTr"
      },
      "execution_count": 3,
      "outputs": []
    },
    {
      "cell_type": "code",
      "source": [
        "df"
      ],
      "metadata": {
        "id": "F8g43t48eYbN",
        "colab": {
          "base_uri": "https://localhost:8080/",
          "height": 81
        },
        "outputId": "f0e5818e-6a32-4eb6-e46e-e30677fdb4ff"
      },
      "execution_count": 4,
      "outputs": [
        {
          "output_type": "execute_result",
          "data": {
            "text/plain": [
              "        Date  F_Open_lower        F_Open  F_Open_upper\n",
              "2 2023-04-03  38955.070312  38994.058594  39072.050781"
            ],
            "text/html": [
              "\n",
              "  <div id=\"df-bfdc1d7d-db28-4873-96dc-0149202bd94f\">\n",
              "    <div class=\"colab-df-container\">\n",
              "      <div>\n",
              "<style scoped>\n",
              "    .dataframe tbody tr th:only-of-type {\n",
              "        vertical-align: middle;\n",
              "    }\n",
              "\n",
              "    .dataframe tbody tr th {\n",
              "        vertical-align: top;\n",
              "    }\n",
              "\n",
              "    .dataframe thead th {\n",
              "        text-align: right;\n",
              "    }\n",
              "</style>\n",
              "<table border=\"1\" class=\"dataframe\">\n",
              "  <thead>\n",
              "    <tr style=\"text-align: right;\">\n",
              "      <th></th>\n",
              "      <th>Date</th>\n",
              "      <th>F_Open_lower</th>\n",
              "      <th>F_Open</th>\n",
              "      <th>F_Open_upper</th>\n",
              "    </tr>\n",
              "  </thead>\n",
              "  <tbody>\n",
              "    <tr>\n",
              "      <th>2</th>\n",
              "      <td>2023-04-03</td>\n",
              "      <td>38955.070312</td>\n",
              "      <td>38994.058594</td>\n",
              "      <td>39072.050781</td>\n",
              "    </tr>\n",
              "  </tbody>\n",
              "</table>\n",
              "</div>\n",
              "      <button class=\"colab-df-convert\" onclick=\"convertToInteractive('df-bfdc1d7d-db28-4873-96dc-0149202bd94f')\"\n",
              "              title=\"Convert this dataframe to an interactive table.\"\n",
              "              style=\"display:none;\">\n",
              "        \n",
              "  <svg xmlns=\"http://www.w3.org/2000/svg\" height=\"24px\"viewBox=\"0 0 24 24\"\n",
              "       width=\"24px\">\n",
              "    <path d=\"M0 0h24v24H0V0z\" fill=\"none\"/>\n",
              "    <path d=\"M18.56 5.44l.94 2.06.94-2.06 2.06-.94-2.06-.94-.94-2.06-.94 2.06-2.06.94zm-11 1L8.5 8.5l.94-2.06 2.06-.94-2.06-.94L8.5 2.5l-.94 2.06-2.06.94zm10 10l.94 2.06.94-2.06 2.06-.94-2.06-.94-.94-2.06-.94 2.06-2.06.94z\"/><path d=\"M17.41 7.96l-1.37-1.37c-.4-.4-.92-.59-1.43-.59-.52 0-1.04.2-1.43.59L10.3 9.45l-7.72 7.72c-.78.78-.78 2.05 0 2.83L4 21.41c.39.39.9.59 1.41.59.51 0 1.02-.2 1.41-.59l7.78-7.78 2.81-2.81c.8-.78.8-2.07 0-2.86zM5.41 20L4 18.59l7.72-7.72 1.47 1.35L5.41 20z\"/>\n",
              "  </svg>\n",
              "      </button>\n",
              "      \n",
              "  <style>\n",
              "    .colab-df-container {\n",
              "      display:flex;\n",
              "      flex-wrap:wrap;\n",
              "      gap: 12px;\n",
              "    }\n",
              "\n",
              "    .colab-df-convert {\n",
              "      background-color: #E8F0FE;\n",
              "      border: none;\n",
              "      border-radius: 50%;\n",
              "      cursor: pointer;\n",
              "      display: none;\n",
              "      fill: #1967D2;\n",
              "      height: 32px;\n",
              "      padding: 0 0 0 0;\n",
              "      width: 32px;\n",
              "    }\n",
              "\n",
              "    .colab-df-convert:hover {\n",
              "      background-color: #E2EBFA;\n",
              "      box-shadow: 0px 1px 2px rgba(60, 64, 67, 0.3), 0px 1px 3px 1px rgba(60, 64, 67, 0.15);\n",
              "      fill: #174EA6;\n",
              "    }\n",
              "\n",
              "    [theme=dark] .colab-df-convert {\n",
              "      background-color: #3B4455;\n",
              "      fill: #D2E3FC;\n",
              "    }\n",
              "\n",
              "    [theme=dark] .colab-df-convert:hover {\n",
              "      background-color: #434B5C;\n",
              "      box-shadow: 0px 1px 3px 1px rgba(0, 0, 0, 0.15);\n",
              "      filter: drop-shadow(0px 1px 2px rgba(0, 0, 0, 0.3));\n",
              "      fill: #FFFFFF;\n",
              "    }\n",
              "  </style>\n",
              "\n",
              "      <script>\n",
              "        const buttonEl =\n",
              "          document.querySelector('#df-bfdc1d7d-db28-4873-96dc-0149202bd94f button.colab-df-convert');\n",
              "        buttonEl.style.display =\n",
              "          google.colab.kernel.accessAllowed ? 'block' : 'none';\n",
              "\n",
              "        async function convertToInteractive(key) {\n",
              "          const element = document.querySelector('#df-bfdc1d7d-db28-4873-96dc-0149202bd94f');\n",
              "          const dataTable =\n",
              "            await google.colab.kernel.invokeFunction('convertToInteractive',\n",
              "                                                     [key], {});\n",
              "          if (!dataTable) return;\n",
              "\n",
              "          const docLinkHtml = 'Like what you see? Visit the ' +\n",
              "            '<a target=\"_blank\" href=https://colab.research.google.com/notebooks/data_table.ipynb>data table notebook</a>'\n",
              "            + ' to learn more about interactive tables.';\n",
              "          element.innerHTML = '';\n",
              "          dataTable['output_type'] = 'display_data';\n",
              "          await google.colab.output.renderOutput(dataTable, element);\n",
              "          const docLink = document.createElement('div');\n",
              "          docLink.innerHTML = docLinkHtml;\n",
              "          element.appendChild(docLink);\n",
              "        }\n",
              "      </script>\n",
              "    </div>\n",
              "  </div>\n",
              "  "
            ]
          },
          "metadata": {},
          "execution_count": 4
        }
      ]
    },
    {
      "cell_type": "code",
      "source": [
        "# read the result file\n",
        "result_path = f'/content/drive/MyDrive/Colab Notebooks/{currentMonth}/BankNifty_{currentMonth}_result.xlsx'\n",
        "isExist = os.path.exists(result_path)\n",
        "if not isExist:\n",
        "  result = pd.DataFrame()\n",
        "else :\n",
        "  result = pd.read_excel(result_path)"
      ],
      "metadata": {
        "id": "E7LYoW9IeiWq"
      },
      "execution_count": 5,
      "outputs": []
    },
    {
      "cell_type": "code",
      "source": [],
      "metadata": {
        "id": "UD68HHNVe8FD"
      },
      "execution_count": 9,
      "outputs": []
    },
    {
      "cell_type": "code",
      "source": [
        "df1= yf.download(tickers = \"^NSEBANK\",\n",
        "            start = today,\n",
        "            interval = \"1d\",\n",
        "            ignore_tz = True,\n",
        "            prepost = False\n",
        "            ).reset_index()\n",
        "df1 = df1[['Date','Open']]\n",
        "df1"
      ],
      "metadata": {
        "id": "JhLxc23EfTY0",
        "colab": {
          "base_uri": "https://localhost:8080/",
          "height": 98
        },
        "outputId": "9fe55790-b302-45de-e82c-42721f615694"
      },
      "execution_count": 6,
      "outputs": [
        {
          "output_type": "stream",
          "name": "stdout",
          "text": [
            "\r[*********************100%***********************]  1 of 1 completed\n"
          ]
        },
        {
          "output_type": "execute_result",
          "data": {
            "text/plain": [
              "        Date          Open\n",
              "0 2023-04-03  40695.800781"
            ],
            "text/html": [
              "\n",
              "  <div id=\"df-06431bb2-1c6c-4dfa-af7a-3330d2a0092f\">\n",
              "    <div class=\"colab-df-container\">\n",
              "      <div>\n",
              "<style scoped>\n",
              "    .dataframe tbody tr th:only-of-type {\n",
              "        vertical-align: middle;\n",
              "    }\n",
              "\n",
              "    .dataframe tbody tr th {\n",
              "        vertical-align: top;\n",
              "    }\n",
              "\n",
              "    .dataframe thead th {\n",
              "        text-align: right;\n",
              "    }\n",
              "</style>\n",
              "<table border=\"1\" class=\"dataframe\">\n",
              "  <thead>\n",
              "    <tr style=\"text-align: right;\">\n",
              "      <th></th>\n",
              "      <th>Date</th>\n",
              "      <th>Open</th>\n",
              "    </tr>\n",
              "  </thead>\n",
              "  <tbody>\n",
              "    <tr>\n",
              "      <th>0</th>\n",
              "      <td>2023-04-03</td>\n",
              "      <td>40695.800781</td>\n",
              "    </tr>\n",
              "  </tbody>\n",
              "</table>\n",
              "</div>\n",
              "      <button class=\"colab-df-convert\" onclick=\"convertToInteractive('df-06431bb2-1c6c-4dfa-af7a-3330d2a0092f')\"\n",
              "              title=\"Convert this dataframe to an interactive table.\"\n",
              "              style=\"display:none;\">\n",
              "        \n",
              "  <svg xmlns=\"http://www.w3.org/2000/svg\" height=\"24px\"viewBox=\"0 0 24 24\"\n",
              "       width=\"24px\">\n",
              "    <path d=\"M0 0h24v24H0V0z\" fill=\"none\"/>\n",
              "    <path d=\"M18.56 5.44l.94 2.06.94-2.06 2.06-.94-2.06-.94-.94-2.06-.94 2.06-2.06.94zm-11 1L8.5 8.5l.94-2.06 2.06-.94-2.06-.94L8.5 2.5l-.94 2.06-2.06.94zm10 10l.94 2.06.94-2.06 2.06-.94-2.06-.94-.94-2.06-.94 2.06-2.06.94z\"/><path d=\"M17.41 7.96l-1.37-1.37c-.4-.4-.92-.59-1.43-.59-.52 0-1.04.2-1.43.59L10.3 9.45l-7.72 7.72c-.78.78-.78 2.05 0 2.83L4 21.41c.39.39.9.59 1.41.59.51 0 1.02-.2 1.41-.59l7.78-7.78 2.81-2.81c.8-.78.8-2.07 0-2.86zM5.41 20L4 18.59l7.72-7.72 1.47 1.35L5.41 20z\"/>\n",
              "  </svg>\n",
              "      </button>\n",
              "      \n",
              "  <style>\n",
              "    .colab-df-container {\n",
              "      display:flex;\n",
              "      flex-wrap:wrap;\n",
              "      gap: 12px;\n",
              "    }\n",
              "\n",
              "    .colab-df-convert {\n",
              "      background-color: #E8F0FE;\n",
              "      border: none;\n",
              "      border-radius: 50%;\n",
              "      cursor: pointer;\n",
              "      display: none;\n",
              "      fill: #1967D2;\n",
              "      height: 32px;\n",
              "      padding: 0 0 0 0;\n",
              "      width: 32px;\n",
              "    }\n",
              "\n",
              "    .colab-df-convert:hover {\n",
              "      background-color: #E2EBFA;\n",
              "      box-shadow: 0px 1px 2px rgba(60, 64, 67, 0.3), 0px 1px 3px 1px rgba(60, 64, 67, 0.15);\n",
              "      fill: #174EA6;\n",
              "    }\n",
              "\n",
              "    [theme=dark] .colab-df-convert {\n",
              "      background-color: #3B4455;\n",
              "      fill: #D2E3FC;\n",
              "    }\n",
              "\n",
              "    [theme=dark] .colab-df-convert:hover {\n",
              "      background-color: #434B5C;\n",
              "      box-shadow: 0px 1px 3px 1px rgba(0, 0, 0, 0.15);\n",
              "      filter: drop-shadow(0px 1px 2px rgba(0, 0, 0, 0.3));\n",
              "      fill: #FFFFFF;\n",
              "    }\n",
              "  </style>\n",
              "\n",
              "      <script>\n",
              "        const buttonEl =\n",
              "          document.querySelector('#df-06431bb2-1c6c-4dfa-af7a-3330d2a0092f button.colab-df-convert');\n",
              "        buttonEl.style.display =\n",
              "          google.colab.kernel.accessAllowed ? 'block' : 'none';\n",
              "\n",
              "        async function convertToInteractive(key) {\n",
              "          const element = document.querySelector('#df-06431bb2-1c6c-4dfa-af7a-3330d2a0092f');\n",
              "          const dataTable =\n",
              "            await google.colab.kernel.invokeFunction('convertToInteractive',\n",
              "                                                     [key], {});\n",
              "          if (!dataTable) return;\n",
              "\n",
              "          const docLinkHtml = 'Like what you see? Visit the ' +\n",
              "            '<a target=\"_blank\" href=https://colab.research.google.com/notebooks/data_table.ipynb>data table notebook</a>'\n",
              "            + ' to learn more about interactive tables.';\n",
              "          element.innerHTML = '';\n",
              "          dataTable['output_type'] = 'display_data';\n",
              "          await google.colab.output.renderOutput(dataTable, element);\n",
              "          const docLink = document.createElement('div');\n",
              "          docLink.innerHTML = docLinkHtml;\n",
              "          element.appendChild(docLink);\n",
              "        }\n",
              "      </script>\n",
              "    </div>\n",
              "  </div>\n",
              "  "
            ]
          },
          "metadata": {},
          "execution_count": 6
        }
      ]
    },
    {
      "cell_type": "code",
      "source": [
        "today_result = pd.DataFrame()\n",
        "today_result['Date'] = df1['Date']\n",
        "today_result['Open'] = df1['Open']\n",
        "today_result['F_Open'] = df['F_Open'].values\n",
        "today_result['F_Open_lower'] = df['F_Open_lower'].values\n",
        "today_result['F_Open_upper'] = df['F_Open_upper'].values\n",
        "today_result['Date'] = pd.to_datetime(today_result['Date'], format='%Y-%m-%d').dt.floor('D')\n",
        "today_result['Comment'] = np.where(\n",
        "    today_result['Open'] < today_result['F_Open_lower'], 'below lower level',\n",
        "    np.where(\n",
        "        (today_result['F_Open_lower'] <= today_result['Open']) & (today_result['Open'] < today_result['F_Open']), \n",
        "        'between low and open level',\n",
        "        np.where(\n",
        "            (today_result['F_Open'] <= today_result['Open']) & (today_result['Open'] < today_result['F_Open_upper']), \n",
        "            'between open and high level', \n",
        "            'above high'\n",
        "        )\n",
        "    )\n",
        ")\n",
        "today_result['F_Method'] = 'lstm'"
      ],
      "metadata": {
        "id": "06F1LFAwg1NT"
      },
      "execution_count": 7,
      "outputs": []
    },
    {
      "cell_type": "code",
      "source": [
        "today_result"
      ],
      "metadata": {
        "colab": {
          "base_uri": "https://localhost:8080/",
          "height": 81
        },
        "id": "5T2WIqR8RpC-",
        "outputId": "5a6e37b6-3c37-4bf9-e42d-31d21fcf9571"
      },
      "execution_count": 8,
      "outputs": [
        {
          "output_type": "execute_result",
          "data": {
            "text/plain": [
              "        Date          Open        F_Open  F_Open_lower  F_Open_upper  \\\n",
              "0 2023-04-03  40695.800781  38994.058594  38955.070312  39072.050781   \n",
              "\n",
              "      Comment F_Method  \n",
              "0  above high     lstm  "
            ],
            "text/html": [
              "\n",
              "  <div id=\"df-f3030f80-5060-44a2-8aba-5dacd3715034\">\n",
              "    <div class=\"colab-df-container\">\n",
              "      <div>\n",
              "<style scoped>\n",
              "    .dataframe tbody tr th:only-of-type {\n",
              "        vertical-align: middle;\n",
              "    }\n",
              "\n",
              "    .dataframe tbody tr th {\n",
              "        vertical-align: top;\n",
              "    }\n",
              "\n",
              "    .dataframe thead th {\n",
              "        text-align: right;\n",
              "    }\n",
              "</style>\n",
              "<table border=\"1\" class=\"dataframe\">\n",
              "  <thead>\n",
              "    <tr style=\"text-align: right;\">\n",
              "      <th></th>\n",
              "      <th>Date</th>\n",
              "      <th>Open</th>\n",
              "      <th>F_Open</th>\n",
              "      <th>F_Open_lower</th>\n",
              "      <th>F_Open_upper</th>\n",
              "      <th>Comment</th>\n",
              "      <th>F_Method</th>\n",
              "    </tr>\n",
              "  </thead>\n",
              "  <tbody>\n",
              "    <tr>\n",
              "      <th>0</th>\n",
              "      <td>2023-04-03</td>\n",
              "      <td>40695.800781</td>\n",
              "      <td>38994.058594</td>\n",
              "      <td>38955.070312</td>\n",
              "      <td>39072.050781</td>\n",
              "      <td>above high</td>\n",
              "      <td>lstm</td>\n",
              "    </tr>\n",
              "  </tbody>\n",
              "</table>\n",
              "</div>\n",
              "      <button class=\"colab-df-convert\" onclick=\"convertToInteractive('df-f3030f80-5060-44a2-8aba-5dacd3715034')\"\n",
              "              title=\"Convert this dataframe to an interactive table.\"\n",
              "              style=\"display:none;\">\n",
              "        \n",
              "  <svg xmlns=\"http://www.w3.org/2000/svg\" height=\"24px\"viewBox=\"0 0 24 24\"\n",
              "       width=\"24px\">\n",
              "    <path d=\"M0 0h24v24H0V0z\" fill=\"none\"/>\n",
              "    <path d=\"M18.56 5.44l.94 2.06.94-2.06 2.06-.94-2.06-.94-.94-2.06-.94 2.06-2.06.94zm-11 1L8.5 8.5l.94-2.06 2.06-.94-2.06-.94L8.5 2.5l-.94 2.06-2.06.94zm10 10l.94 2.06.94-2.06 2.06-.94-2.06-.94-.94-2.06-.94 2.06-2.06.94z\"/><path d=\"M17.41 7.96l-1.37-1.37c-.4-.4-.92-.59-1.43-.59-.52 0-1.04.2-1.43.59L10.3 9.45l-7.72 7.72c-.78.78-.78 2.05 0 2.83L4 21.41c.39.39.9.59 1.41.59.51 0 1.02-.2 1.41-.59l7.78-7.78 2.81-2.81c.8-.78.8-2.07 0-2.86zM5.41 20L4 18.59l7.72-7.72 1.47 1.35L5.41 20z\"/>\n",
              "  </svg>\n",
              "      </button>\n",
              "      \n",
              "  <style>\n",
              "    .colab-df-container {\n",
              "      display:flex;\n",
              "      flex-wrap:wrap;\n",
              "      gap: 12px;\n",
              "    }\n",
              "\n",
              "    .colab-df-convert {\n",
              "      background-color: #E8F0FE;\n",
              "      border: none;\n",
              "      border-radius: 50%;\n",
              "      cursor: pointer;\n",
              "      display: none;\n",
              "      fill: #1967D2;\n",
              "      height: 32px;\n",
              "      padding: 0 0 0 0;\n",
              "      width: 32px;\n",
              "    }\n",
              "\n",
              "    .colab-df-convert:hover {\n",
              "      background-color: #E2EBFA;\n",
              "      box-shadow: 0px 1px 2px rgba(60, 64, 67, 0.3), 0px 1px 3px 1px rgba(60, 64, 67, 0.15);\n",
              "      fill: #174EA6;\n",
              "    }\n",
              "\n",
              "    [theme=dark] .colab-df-convert {\n",
              "      background-color: #3B4455;\n",
              "      fill: #D2E3FC;\n",
              "    }\n",
              "\n",
              "    [theme=dark] .colab-df-convert:hover {\n",
              "      background-color: #434B5C;\n",
              "      box-shadow: 0px 1px 3px 1px rgba(0, 0, 0, 0.15);\n",
              "      filter: drop-shadow(0px 1px 2px rgba(0, 0, 0, 0.3));\n",
              "      fill: #FFFFFF;\n",
              "    }\n",
              "  </style>\n",
              "\n",
              "      <script>\n",
              "        const buttonEl =\n",
              "          document.querySelector('#df-f3030f80-5060-44a2-8aba-5dacd3715034 button.colab-df-convert');\n",
              "        buttonEl.style.display =\n",
              "          google.colab.kernel.accessAllowed ? 'block' : 'none';\n",
              "\n",
              "        async function convertToInteractive(key) {\n",
              "          const element = document.querySelector('#df-f3030f80-5060-44a2-8aba-5dacd3715034');\n",
              "          const dataTable =\n",
              "            await google.colab.kernel.invokeFunction('convertToInteractive',\n",
              "                                                     [key], {});\n",
              "          if (!dataTable) return;\n",
              "\n",
              "          const docLinkHtml = 'Like what you see? Visit the ' +\n",
              "            '<a target=\"_blank\" href=https://colab.research.google.com/notebooks/data_table.ipynb>data table notebook</a>'\n",
              "            + ' to learn more about interactive tables.';\n",
              "          element.innerHTML = '';\n",
              "          dataTable['output_type'] = 'display_data';\n",
              "          await google.colab.output.renderOutput(dataTable, element);\n",
              "          const docLink = document.createElement('div');\n",
              "          docLink.innerHTML = docLinkHtml;\n",
              "          element.appendChild(docLink);\n",
              "        }\n",
              "      </script>\n",
              "    </div>\n",
              "  </div>\n",
              "  "
            ]
          },
          "metadata": {},
          "execution_count": 8
        }
      ]
    },
    {
      "cell_type": "code",
      "source": [
        "today_result = pd.concat([result,today_result])\n",
        "today_result.to_excel(result_path, index=False)"
      ],
      "metadata": {
        "id": "63nWPjtkg3Ul"
      },
      "execution_count": 9,
      "outputs": []
    },
    {
      "cell_type": "markdown",
      "source": [
        "## 4.2 Prophet"
      ],
      "metadata": {
        "id": "jtMjgyeQfo-u"
      }
    },
    {
      "cell_type": "code",
      "source": [
        "prophet_path = f'/content/drive/MyDrive/Colab Notebooks/{currentMonth}/BankNifty_{currentMonth}_prophet.xlsx'\n",
        "df = pd.read_excel(prophet_path)\n",
        "df['Date'] = pd.to_datetime(df['Date'], format='%Y-%m-%d').dt.floor('D')\n",
        "df = df[df['Date']==today.strftime('%Y-%m-%d')]\n",
        "\n",
        "# read the result file\n",
        "result_path = f'/content/drive/MyDrive/Colab Notebooks/{currentMonth}/BankNifty_{currentMonth}_result.xlsx'\n",
        "isExist = os.path.exists(result_path)\n",
        "if not isExist:\n",
        "  result = pd.DataFrame()\n",
        "else :\n",
        "  result = pd.read_excel(result_path)\n",
        "\n",
        "df1= yf.download(tickers = \"^NSEBANK\",\n",
        "            start = today,\n",
        "            interval = \"1d\",\n",
        "            ignore_tz = True,\n",
        "            prepost = False\n",
        "            ).reset_index()\n",
        "df1 = df1[['Date','Open']]\n",
        "\n",
        "today_result = pd.DataFrame()\n",
        "today_result['Date'] = df1['Date']\n",
        "today_result['Open'] = df1['Open']\n",
        "today_result['F_Open'] = df['F_Open'].values\n",
        "today_result['F_Open_lower'] = df['F_Open_lower'].values\n",
        "today_result['F_Open_upper'] = df['F_Open_upper'].values\n",
        "today_result['Date'] = pd.to_datetime(today_result['Date'], format='%Y-%m-%d').dt.floor('D')\n",
        "today_result['Comment'] = np.where(\n",
        "    today_result['Open'] < today_result['F_Open_lower'], 'below lower level',\n",
        "    np.where(\n",
        "        (today_result['F_Open_lower'] <= today_result['Open']) & (today_result['Open'] < today_result['F_Open']), \n",
        "        'between low and open level',\n",
        "        np.where(\n",
        "            (today_result['F_Open'] <= today_result['Open']) & (today_result['Open'] < today_result['F_Open_upper']), \n",
        "            'between open and high level', \n",
        "            'above high'\n",
        "        )\n",
        "    )\n",
        ")\n",
        "today_result['F_Method'] = 'prophet'\n"
      ],
      "metadata": {
        "colab": {
          "base_uri": "https://localhost:8080/"
        },
        "id": "8M_a3nd0UWJZ",
        "outputId": "b0d741af-2fad-4a92-dea8-33d20c8d0790"
      },
      "execution_count": 14,
      "outputs": [
        {
          "output_type": "stream",
          "name": "stdout",
          "text": [
            "\r[*********************100%***********************]  1 of 1 completed\n"
          ]
        }
      ]
    },
    {
      "cell_type": "code",
      "source": [
        "today_result"
      ],
      "metadata": {
        "colab": {
          "base_uri": "https://localhost:8080/",
          "height": 81
        },
        "id": "GsVnjeVpkGN7",
        "outputId": "9e4b87c9-0464-4004-c77c-11ea1c29f5e3"
      },
      "execution_count": 15,
      "outputs": [
        {
          "output_type": "execute_result",
          "data": {
            "text/plain": [
              "        Date          Open    F_Open  F_Open_lower  F_Open_upper  \\\n",
              "0 2023-04-03  40695.800781  41865.01      41823.14      41948.74   \n",
              "\n",
              "             Comment F_Method  \n",
              "0  below lower level  prophet  "
            ],
            "text/html": [
              "\n",
              "  <div id=\"df-b1d720c3-6e18-41b5-ba6f-70291c41f593\">\n",
              "    <div class=\"colab-df-container\">\n",
              "      <div>\n",
              "<style scoped>\n",
              "    .dataframe tbody tr th:only-of-type {\n",
              "        vertical-align: middle;\n",
              "    }\n",
              "\n",
              "    .dataframe tbody tr th {\n",
              "        vertical-align: top;\n",
              "    }\n",
              "\n",
              "    .dataframe thead th {\n",
              "        text-align: right;\n",
              "    }\n",
              "</style>\n",
              "<table border=\"1\" class=\"dataframe\">\n",
              "  <thead>\n",
              "    <tr style=\"text-align: right;\">\n",
              "      <th></th>\n",
              "      <th>Date</th>\n",
              "      <th>Open</th>\n",
              "      <th>F_Open</th>\n",
              "      <th>F_Open_lower</th>\n",
              "      <th>F_Open_upper</th>\n",
              "      <th>Comment</th>\n",
              "      <th>F_Method</th>\n",
              "    </tr>\n",
              "  </thead>\n",
              "  <tbody>\n",
              "    <tr>\n",
              "      <th>0</th>\n",
              "      <td>2023-04-03</td>\n",
              "      <td>40695.800781</td>\n",
              "      <td>41865.01</td>\n",
              "      <td>41823.14</td>\n",
              "      <td>41948.74</td>\n",
              "      <td>below lower level</td>\n",
              "      <td>prophet</td>\n",
              "    </tr>\n",
              "  </tbody>\n",
              "</table>\n",
              "</div>\n",
              "      <button class=\"colab-df-convert\" onclick=\"convertToInteractive('df-b1d720c3-6e18-41b5-ba6f-70291c41f593')\"\n",
              "              title=\"Convert this dataframe to an interactive table.\"\n",
              "              style=\"display:none;\">\n",
              "        \n",
              "  <svg xmlns=\"http://www.w3.org/2000/svg\" height=\"24px\"viewBox=\"0 0 24 24\"\n",
              "       width=\"24px\">\n",
              "    <path d=\"M0 0h24v24H0V0z\" fill=\"none\"/>\n",
              "    <path d=\"M18.56 5.44l.94 2.06.94-2.06 2.06-.94-2.06-.94-.94-2.06-.94 2.06-2.06.94zm-11 1L8.5 8.5l.94-2.06 2.06-.94-2.06-.94L8.5 2.5l-.94 2.06-2.06.94zm10 10l.94 2.06.94-2.06 2.06-.94-2.06-.94-.94-2.06-.94 2.06-2.06.94z\"/><path d=\"M17.41 7.96l-1.37-1.37c-.4-.4-.92-.59-1.43-.59-.52 0-1.04.2-1.43.59L10.3 9.45l-7.72 7.72c-.78.78-.78 2.05 0 2.83L4 21.41c.39.39.9.59 1.41.59.51 0 1.02-.2 1.41-.59l7.78-7.78 2.81-2.81c.8-.78.8-2.07 0-2.86zM5.41 20L4 18.59l7.72-7.72 1.47 1.35L5.41 20z\"/>\n",
              "  </svg>\n",
              "      </button>\n",
              "      \n",
              "  <style>\n",
              "    .colab-df-container {\n",
              "      display:flex;\n",
              "      flex-wrap:wrap;\n",
              "      gap: 12px;\n",
              "    }\n",
              "\n",
              "    .colab-df-convert {\n",
              "      background-color: #E8F0FE;\n",
              "      border: none;\n",
              "      border-radius: 50%;\n",
              "      cursor: pointer;\n",
              "      display: none;\n",
              "      fill: #1967D2;\n",
              "      height: 32px;\n",
              "      padding: 0 0 0 0;\n",
              "      width: 32px;\n",
              "    }\n",
              "\n",
              "    .colab-df-convert:hover {\n",
              "      background-color: #E2EBFA;\n",
              "      box-shadow: 0px 1px 2px rgba(60, 64, 67, 0.3), 0px 1px 3px 1px rgba(60, 64, 67, 0.15);\n",
              "      fill: #174EA6;\n",
              "    }\n",
              "\n",
              "    [theme=dark] .colab-df-convert {\n",
              "      background-color: #3B4455;\n",
              "      fill: #D2E3FC;\n",
              "    }\n",
              "\n",
              "    [theme=dark] .colab-df-convert:hover {\n",
              "      background-color: #434B5C;\n",
              "      box-shadow: 0px 1px 3px 1px rgba(0, 0, 0, 0.15);\n",
              "      filter: drop-shadow(0px 1px 2px rgba(0, 0, 0, 0.3));\n",
              "      fill: #FFFFFF;\n",
              "    }\n",
              "  </style>\n",
              "\n",
              "      <script>\n",
              "        const buttonEl =\n",
              "          document.querySelector('#df-b1d720c3-6e18-41b5-ba6f-70291c41f593 button.colab-df-convert');\n",
              "        buttonEl.style.display =\n",
              "          google.colab.kernel.accessAllowed ? 'block' : 'none';\n",
              "\n",
              "        async function convertToInteractive(key) {\n",
              "          const element = document.querySelector('#df-b1d720c3-6e18-41b5-ba6f-70291c41f593');\n",
              "          const dataTable =\n",
              "            await google.colab.kernel.invokeFunction('convertToInteractive',\n",
              "                                                     [key], {});\n",
              "          if (!dataTable) return;\n",
              "\n",
              "          const docLinkHtml = 'Like what you see? Visit the ' +\n",
              "            '<a target=\"_blank\" href=https://colab.research.google.com/notebooks/data_table.ipynb>data table notebook</a>'\n",
              "            + ' to learn more about interactive tables.';\n",
              "          element.innerHTML = '';\n",
              "          dataTable['output_type'] = 'display_data';\n",
              "          await google.colab.output.renderOutput(dataTable, element);\n",
              "          const docLink = document.createElement('div');\n",
              "          docLink.innerHTML = docLinkHtml;\n",
              "          element.appendChild(docLink);\n",
              "        }\n",
              "      </script>\n",
              "    </div>\n",
              "  </div>\n",
              "  "
            ]
          },
          "metadata": {},
          "execution_count": 15
        }
      ]
    },
    {
      "cell_type": "code",
      "source": [
        "today_result = pd.concat([result,today_result])\n",
        "today_result.to_excel(result_path, index=False)"
      ],
      "metadata": {
        "id": "lBBhv0z4UWMR"
      },
      "execution_count": 16,
      "outputs": []
    },
    {
      "cell_type": "code",
      "source": [],
      "metadata": {
        "id": "IcX0k_zVUWP3"
      },
      "execution_count": null,
      "outputs": []
    },
    {
      "cell_type": "code",
      "source": [],
      "metadata": {
        "id": "gF5cvyujBnuc"
      },
      "execution_count": null,
      "outputs": []
    },
    {
      "cell_type": "code",
      "source": [],
      "metadata": {
        "id": "yHi1xBKVUWsG"
      },
      "execution_count": null,
      "outputs": []
    },
    {
      "cell_type": "code",
      "source": [],
      "metadata": {
        "id": "AyE32RwYUSg7"
      },
      "execution_count": null,
      "outputs": []
    },
    {
      "cell_type": "code",
      "source": [],
      "metadata": {
        "id": "1otmq-FOT8zA"
      },
      "execution_count": null,
      "outputs": []
    },
    {
      "cell_type": "markdown",
      "source": [
        "# 5. LSTM Hyper Tunning"
      ],
      "metadata": {
        "id": "B9taLkTGQMKQ"
      }
    },
    {
      "cell_type": "code",
      "source": [
        "!pip install -q -U keras-tuner"
      ],
      "metadata": {
        "colab": {
          "base_uri": "https://localhost:8080/"
        },
        "id": "4k0klitvPfmj",
        "outputId": "5daeffe1-e026-4381-ac8c-73bc17ce4ac8"
      },
      "execution_count": 41,
      "outputs": [
        {
          "output_type": "stream",
          "name": "stdout",
          "text": [
            "\u001b[?25l     \u001b[90m━━━━━━━━━━━━━━━━━━━━━━━━━━━━━━━━━━━━━━━━\u001b[0m \u001b[32m0.0/172.2 KB\u001b[0m \u001b[31m?\u001b[0m eta \u001b[36m-:--:--\u001b[0m\r\u001b[2K     \u001b[91m━━━━━━━━━━━━━━━━━━━━━━━━━━━━━━━━━━━━━\u001b[0m\u001b[90m╺\u001b[0m\u001b[90m━\u001b[0m \u001b[32m163.8/172.2 KB\u001b[0m \u001b[31m5.5 MB/s\u001b[0m eta \u001b[36m0:00:01\u001b[0m\r\u001b[2K     \u001b[90m━━━━━━━━━━━━━━━━━━━━━━━━━━━━━━━━━━━━━━━\u001b[0m \u001b[32m172.2/172.2 KB\u001b[0m \u001b[31m4.2 MB/s\u001b[0m eta \u001b[36m0:00:00\u001b[0m\n",
            "\u001b[?25h"
          ]
        }
      ]
    },
    {
      "cell_type": "code",
      "source": [
        "Lstm_x, Lstm_y, df_train, date_train = data_prep(processed_data, cols_str, lookback, future, Scale)"
      ],
      "metadata": {
        "id": "rQZ9yN4yGbyQ"
      },
      "execution_count": 45,
      "outputs": []
    },
    {
      "cell_type": "code",
      "source": [
        "from sklearn.model_selection import train_test_split\n",
        "X_train, X_test, y_train, y_test = train_test_split(Lstm_x, Lstm_y, test_size=0.1, random_state=0)"
      ],
      "metadata": {
        "id": "zsJQ2RBXGg2_"
      },
      "execution_count": 46,
      "outputs": []
    },
    {
      "cell_type": "code",
      "source": [
        "from keras_tuner.tuners import RandomSearch\n",
        "from keras_tuner.engine.hyperparameters import HyperParameters\n",
        "def build_model(hp):\n",
        "    tf.keras.backend.clear_session()\n",
        "    model = Sequential()\n",
        "    model.add(LSTM(hp.Int('input_unit',min_value=32,max_value=128,step=32),activation='relu',return_sequences=True, input_shape=(X_train.shape[1], X_train.shape[2])))\n",
        "    for i in range(hp.Int('n_layers', 1, 3)):\n",
        "        model.add(LSTM(hp.Int(f'lstm_{i}_units',min_value=32,max_value=128,step=32),return_sequences=True))\n",
        "    model.add(LSTM(hp.Int('layer_2_neurons',min_value=32,max_value=128,step=32)))\n",
        "    #model.add(Dropout(hp.Float('Dropout_rate',min_value=0,max_value=0.5,step=0.1)))\n",
        "    model.add(Dense(y_train.shape[1], activation=hp.Choice('dense_activation',values=['relu', 'tanh'],default='relu')))\n",
        "    model.add(Dense(1))\n",
        "\n",
        "    # Tune the learning rate for the optimizer\n",
        "    # Choose an optimal value from 0.01, 0.001, or 0.0001\n",
        "    hp_learning_rate = hp.Choice('learning_rate', values=[1e-2, 1e-3, 1e-4])\n",
        "\n",
        "    #model.compile(optimizer=keras.optimizers.Adam(learning_rate=hp_learning_rate), loss=keras.losses.SparseCategoricalCrossentropy(from_logits=True), metrics=['accuracy'])\n",
        "    #model.compile(loss='mean_squared_error', optimizer='adam',metrics = ['mse'])\n",
        "    model.compile(optimizer=keras.optimizers.Adam(learning_rate=hp_learning_rate), loss='mean_squared_error', metrics=['mse'])\n",
        "    \n",
        "    return model"
      ],
      "metadata": {
        "id": "9pwdhUYfGjtg"
      },
      "execution_count": 47,
      "outputs": []
    },
    {
      "cell_type": "code",
      "source": [
        "LOG_DIR = f\"/content/lstm_bn\"\n",
        "tuner= RandomSearch(\n",
        "        build_model,\n",
        "        objective='mse',\n",
        "        max_trials=3,\n",
        "        executions_per_trial=1,\n",
        "        directory=LOG_DIR\n",
        "        )"
      ],
      "metadata": {
        "id": "UWsRSWxsHAnu"
      },
      "execution_count": 48,
      "outputs": []
    },
    {
      "cell_type": "code",
      "source": [
        "tuner.search_space_summary()"
      ],
      "metadata": {
        "colab": {
          "base_uri": "https://localhost:8080/"
        },
        "id": "FTiUxTaYHRGT",
        "outputId": "6cd54f5e-612f-4a00-cf86-06bf2de716c6"
      },
      "execution_count": 49,
      "outputs": [
        {
          "output_type": "stream",
          "name": "stdout",
          "text": [
            "Search space summary\n",
            "Default search space size: 6\n",
            "input_unit (Int)\n",
            "{'default': None, 'conditions': [], 'min_value': 32, 'max_value': 128, 'step': 32, 'sampling': 'linear'}\n",
            "n_layers (Int)\n",
            "{'default': None, 'conditions': [], 'min_value': 1, 'max_value': 3, 'step': 1, 'sampling': 'linear'}\n",
            "lstm_0_units (Int)\n",
            "{'default': None, 'conditions': [], 'min_value': 32, 'max_value': 128, 'step': 32, 'sampling': 'linear'}\n",
            "layer_2_neurons (Int)\n",
            "{'default': None, 'conditions': [], 'min_value': 32, 'max_value': 128, 'step': 32, 'sampling': 'linear'}\n",
            "dense_activation (Choice)\n",
            "{'default': 'relu', 'conditions': [], 'values': ['relu', 'tanh'], 'ordered': False}\n",
            "learning_rate (Choice)\n",
            "{'default': 0.01, 'conditions': [], 'values': [0.01, 0.001, 0.0001], 'ordered': True}\n"
          ]
        }
      ]
    },
    {
      "cell_type": "code",
      "source": [
        " stop_early = tf.keras.callbacks.EarlyStopping(monitor='loss', patience=15, restore_best_weights=True)\n",
        " tuner.search(\n",
        "        x=X_train,\n",
        "        y=y_train,\n",
        "        epochs=100,\n",
        "        batch_size=128,\n",
        "        validation_data=(X_test,y_test), callbacks=[stop_early]\n",
        ")"
      ],
      "metadata": {
        "colab": {
          "base_uri": "https://localhost:8080/"
        },
        "id": "bD_afZWZHYdq",
        "outputId": "09615d93-cde6-4cfe-9c1c-25f8df431fc2"
      },
      "execution_count": 50,
      "outputs": [
        {
          "output_type": "stream",
          "name": "stdout",
          "text": [
            "Trial 3 Complete [00h 15m 04s]\n",
            "mse: 0.20062308013439178\n",
            "\n",
            "Best mse So Far: 0.0027437263634055853\n",
            "Total elapsed time: 00h 55m 46s\n"
          ]
        }
      ]
    },
    {
      "cell_type": "code",
      "source": [
        "#best_model = tuner.get_best_models(num_models=1)[0]"
      ],
      "metadata": {
        "id": "zGog5vQiHdPt"
      },
      "execution_count": 60,
      "outputs": []
    },
    {
      "cell_type": "code",
      "source": [
        "best_model = tuner.get_best_models()[0]\n",
        "best_model"
      ],
      "metadata": {
        "colab": {
          "base_uri": "https://localhost:8080/"
        },
        "id": "Of3sbeKlSyvM",
        "outputId": "e653a617-f31d-4769-ef8d-193f2c3e6940"
      },
      "execution_count": 55,
      "outputs": [
        {
          "output_type": "execute_result",
          "data": {
            "text/plain": [
              "<keras.engine.sequential.Sequential at 0x7f1221f45220>"
            ]
          },
          "metadata": {},
          "execution_count": 55
        }
      ]
    },
    {
      "cell_type": "code",
      "source": [
        "predicted_descaled,forecasting_dates = predict_open(best_model, date_train, Lstm_x, df_train, n_pred_future, Scale)\n",
        "results = output_prep(forecasting_dates, predicted_descaled, pred_col_name)   \n",
        "print(results.head())"
      ],
      "metadata": {
        "colab": {
          "base_uri": "https://localhost:8080/"
        },
        "id": "kS024fRfSy-N",
        "outputId": "b6ddc221-0af9-4367-ca17-95c5ddd0cdb5"
      },
      "execution_count": 61,
      "outputs": [
        {
          "output_type": "stream",
          "name": "stdout",
          "text": [
            "1/1 [==============================] - 4s 4s/step\n",
            "        Date  F_Open_lower        F_Open  F_Open_upper\n",
            "0 2023-04-01  39715.078125  39754.839844  39834.351562\n",
            "1 2023-04-02  39721.199219  39760.960938  39840.480469\n",
            "2 2023-04-03  39729.421875  39769.191406  39848.730469\n",
            "3 2023-04-04  39737.179688  39776.960938  39856.511719\n",
            "4 2023-04-05  39741.558594  39781.339844  39860.898438\n"
          ]
        }
      ]
    },
    {
      "cell_type": "code",
      "source": [
        "#del tuner"
      ],
      "metadata": {
        "id": "VGagWHtLSzCx"
      },
      "execution_count": null,
      "outputs": []
    },
    {
      "cell_type": "code",
      "source": [
        "# save the scaler\n",
        "import pickle\n",
        "pickle.dump(Scale, open('/content/drive/MyDrive/Colab Notebooks/Scale.pkl', 'wb'))\n",
        "\n",
        "# Calling `save('my_model.h5')` creates a h5 file `my_model.h5`.\n",
        "best_model.save(\"/content/drive/MyDrive/Colab Notebooks/best_model_bnknfty_h5_model.h5\")"
      ],
      "metadata": {
        "id": "_8W9sJTTSzXv"
      },
      "execution_count": 62,
      "outputs": []
    },
    {
      "cell_type": "code",
      "source": [],
      "metadata": {
        "id": "b-eE3GLrcyIn"
      },
      "execution_count": null,
      "outputs": []
    },
    {
      "cell_type": "code",
      "source": [],
      "metadata": {
        "id": "RiZOl4jUcyLQ"
      },
      "execution_count": null,
      "outputs": []
    },
    {
      "cell_type": "code",
      "source": [],
      "metadata": {
        "id": "V85qqexxcyN1"
      },
      "execution_count": null,
      "outputs": []
    },
    {
      "cell_type": "code",
      "source": [],
      "metadata": {
        "id": "AiBYHTuUcyQ-"
      },
      "execution_count": null,
      "outputs": []
    },
    {
      "cell_type": "code",
      "source": [],
      "metadata": {
        "id": "u7px-zdkcyUP"
      },
      "execution_count": null,
      "outputs": []
    },
    {
      "cell_type": "code",
      "source": [
        "# from keras.models import Sequential\n",
        "# from keras.layers import Dense, LSTM\n",
        "# from keras.optimizers import Adam\n",
        "# from keras.wrappers.scikit_learn import KerasRegressor\n",
        "# from sklearn.model_selection import GridSearchCV\n",
        "\n",
        "# # Define LSTM model architecture\n",
        "# def create_model(learning_rate=0.001, num_neurons=32, dropout_rate=0.0):\n",
        "#     model = Sequential()\n",
        "#     model.add(LSTM(num_neurons, input_shape=(10, 1)))\n",
        "#     model.add(Dense(1))\n",
        "#     optimizer = Adam(learning_rate=learning_rate)\n",
        "#     model.compile(loss='mean_squared_error', optimizer=optimizer)\n",
        "#     return model\n",
        "\n",
        "# # Wrap the model with the KerasRegressor for use in GridSearchCV\n",
        "# model = KerasRegressor(build_fn=create_model, epochs=50, batch_size=32, verbose=0)\n",
        "\n",
        "# # Define hyperparameters to search\n",
        "# learning_rate = [0.01, 0.001, 0.0001]\n",
        "# num_neurons = [32, 64, 128]\n",
        "# dropout_rate = [0.0, 0.2, 0.4]\n",
        "# param_grid = dict(learning_rate=learning_rate, num_neurons=num_neurons, dropout_rate=dropout_rate)\n",
        "\n",
        "# # Perform grid search\n",
        "# grid = GridSearchCV(estimator=model, param_grid=param_grid, cv=3)\n",
        "# grid_result = grid.fit(X_train, y_train)\n",
        "\n",
        "# # Print results\n",
        "# print(\"Best: %f using %s\" % (grid_result.best_score_, grid_result.best_params_))\n"
      ],
      "metadata": {
        "id": "7wNK22ltcyXj"
      },
      "execution_count": 51,
      "outputs": []
    },
    {
      "cell_type": "code",
      "source": [
        "# from tensorflow import keras\n",
        "# from tensorflow.keras import layers\n",
        "# from kerastuner.tuners import RandomSearch\n",
        "\n",
        "# # Define a function to build the LSTM model\n",
        "# def build_model(hp):\n",
        "#     model = keras.Sequential()\n",
        "#     model.add(layers.LSTM(units=hp.Int('units', min_value=32, max_value=128, step=32),\n",
        "#                            input_shape=(10, 1)))\n",
        "#     model.add(layers.Dense(units=1))\n",
        "#     model.compile(optimizer=keras.optimizers.Adam(hp.Choice('learning_rate', values=[1e-2, 1e-3, 1e-4])),\n",
        "#                   loss='mean_squared_error')\n",
        "#     return model\n",
        "\n",
        "# # Define a tuner object to search for the best hyperparameters\n",
        "# tuner = RandomSearch(\n",
        "#     build_model,\n",
        "#     objective='val_loss',\n",
        "#     max_trials=10,\n",
        "#     executions_per_trial=3,\n",
        "#     directory='my_dir',\n",
        "#     project_name='stock_price_prediction'\n",
        "# )\n",
        "\n",
        "# # Train the tuner object to search for the best hyperparameters\n",
        "# tuner.search(X_train, y_train, epochs=50, validation_data=(X_test, y_test))\n",
        "\n",
        "# # Get the best model and summary of the search\n",
        "# best_model = tuner.get_best_models(num_models=1)[0]\n",
        "# best_hyperparameters = tuner.get_best_hyperparameters(num_trials=1)[0]\n",
        "# best_summary = tuner.results_summary(num_trials=1)\n",
        "\n",
        "# # Evaluate the best model on test data\n",
        "# loss, accuracy = best_model.evaluate(X_test, y_test)\n",
        "# print(f'Test loss: {loss}, Test accuracy: {accuracy}')\n"
      ],
      "metadata": {
        "id": "THhQfx3Lc1FO"
      },
      "execution_count": 52,
      "outputs": []
    },
    {
      "cell_type": "code",
      "source": [
        "# from tensorflow import keras\n",
        "# from tensorflow.keras import layers\n",
        "# from kerastuner.tuners import GridSearch\n",
        "\n",
        "# # Define a function to build the LSTM model\n",
        "# def build_model(hp):\n",
        "#     model = keras.Sequential()\n",
        "#     model.add(layers.LSTM(units=hp.Int('units', min_value=32, max_value=128, step=32),\n",
        "#                            input_shape=(10, 1)))\n",
        "#     model.add(layers.Dense(units=1))\n",
        "#     model.compile(optimizer=keras.optimizers.Adam(hp.Choice('learning_rate', values=[1e-2, 1e-3, 1e-4])),\n",
        "#                   loss='mean_squared_error')\n",
        "#     return model\n",
        "\n",
        "# # Define a tuner object to search for the best hyperparameters\n",
        "# tuner = GridSearch(\n",
        "#     build_model,\n",
        "#     hyperparameters={\n",
        "#         'units': [32, 64, 128],\n",
        "#         'learning_rate': [1e-2, 1e-3, 1e-4]\n",
        "#     },\n",
        "#     objective='val_loss',\n",
        "#     max_trials=10,\n",
        "#     directory='my_dir',\n",
        "#     project_name='stock_price_prediction'\n",
        "# )\n",
        "\n",
        "\n",
        "# # Train the tuner object to search for the best hyperparameters\n",
        "# tuner.search(X_train, y_train, epochs=50, validation_data=(X_test, y_test))\n",
        "\n",
        "# # Get the best model and summary of the search\n",
        "# best_model = tuner.get_best_models(num_models=1)[0]\n",
        "# best_hyperparameters = tuner.get_best_hyperparameters(num_trials=1)[0]\n",
        "# best_summary = tuner.results_summary(num_trials=1)\n",
        "\n",
        "# # Evaluate the best model on test data\n",
        "# loss, accuracy = best_model.evaluate(X_test, y_test)\n",
        "# print(f'Test loss: {loss}, Test accuracy: {accuracy}')\n"
      ],
      "metadata": {
        "id": "2WbQUCG6dSTh"
      },
      "execution_count": 54,
      "outputs": []
    },
    {
      "cell_type": "code",
      "source": [],
      "metadata": {
        "id": "1HU2zezydXLb"
      },
      "execution_count": null,
      "outputs": []
    }
  ]
}