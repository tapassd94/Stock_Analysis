{
  "cells": [
    {
      "cell_type": "code",
      "execution_count": 1,
      "id": "49c46c36-bfa7-44ac-bf30-bc5b91dc7c07",
      "metadata": {
        "id": "49c46c36-bfa7-44ac-bf30-bc5b91dc7c07"
      },
      "outputs": [],
      "source": [
        "import pandas as pd\n",
        "import numpy as np"
      ]
    },
    {
      "cell_type": "code",
      "source": [
        "from google.colab import drive\n",
        "drive.mount('/content/drive')"
      ],
      "metadata": {
        "id": "Y7j4ZTdDSFeJ",
        "colab": {
          "base_uri": "https://localhost:8080/"
        },
        "outputId": "df4375ed-0740-4331-8635-c4462673b442"
      },
      "id": "Y7j4ZTdDSFeJ",
      "execution_count": 2,
      "outputs": [
        {
          "output_type": "stream",
          "name": "stdout",
          "text": [
            "Mounted at /content/drive\n"
          ]
        }
      ]
    },
    {
      "cell_type": "code",
      "execution_count": 3,
      "id": "f1a55963-0873-4c83-8a30-b892512fba4b",
      "metadata": {
        "id": "f1a55963-0873-4c83-8a30-b892512fba4b"
      },
      "outputs": [],
      "source": [
        "#df = pd.read_csv('multi_data.csv')\n",
        "df = pd.read_csv('/content/drive/MyDrive/Colab Notebooks/multi_data.csv')"
      ]
    },
    {
      "cell_type": "code",
      "execution_count": 11,
      "id": "fc95821b-0015-463d-a615-300e5d6ceee4",
      "metadata": {
        "colab": {
          "base_uri": "https://localhost:8080/",
          "height": 423
        },
        "id": "fc95821b-0015-463d-a615-300e5d6ceee4",
        "outputId": "7cca42ea-57c8-4793-de25-e776d6147410"
      },
      "outputs": [
        {
          "output_type": "execute_result",
          "data": {
            "text/plain": [
              "     Predicted_Sales_Lost  Actual_Sales_quantity       Date Item_Code\n",
              "0                       0                    120 1980-01-01      ABCD\n",
              "1                       0                     78 1980-02-01      ABCD\n",
              "2                       2                    273 1980-03-01      ABCD\n",
              "3                       0                     28 1980-04-01      ABCD\n",
              "4                       0                     78 1980-05-01      ABCD\n",
              "..                    ...                    ...        ...       ...\n",
              "931                     0                     22 2018-08-01     ABCDE\n",
              "932                     0                    136 2018-09-01     ABCDE\n",
              "933                     0                      0 2018-10-01     ABCDE\n",
              "934                     0                     75 2018-11-01     ABCDE\n",
              "935                     0                     95 2018-12-01     ABCDE\n",
              "\n",
              "[936 rows x 4 columns]"
            ],
            "text/html": [
              "\n",
              "  <div id=\"df-53e4b7b4-1f01-4a53-85e1-7b4caaa4d986\">\n",
              "    <div class=\"colab-df-container\">\n",
              "      <div>\n",
              "<style scoped>\n",
              "    .dataframe tbody tr th:only-of-type {\n",
              "        vertical-align: middle;\n",
              "    }\n",
              "\n",
              "    .dataframe tbody tr th {\n",
              "        vertical-align: top;\n",
              "    }\n",
              "\n",
              "    .dataframe thead th {\n",
              "        text-align: right;\n",
              "    }\n",
              "</style>\n",
              "<table border=\"1\" class=\"dataframe\">\n",
              "  <thead>\n",
              "    <tr style=\"text-align: right;\">\n",
              "      <th></th>\n",
              "      <th>Predicted_Sales_Lost</th>\n",
              "      <th>Actual_Sales_quantity</th>\n",
              "      <th>Date</th>\n",
              "      <th>Item_Code</th>\n",
              "    </tr>\n",
              "  </thead>\n",
              "  <tbody>\n",
              "    <tr>\n",
              "      <th>0</th>\n",
              "      <td>0</td>\n",
              "      <td>120</td>\n",
              "      <td>1980-01-01</td>\n",
              "      <td>ABCD</td>\n",
              "    </tr>\n",
              "    <tr>\n",
              "      <th>1</th>\n",
              "      <td>0</td>\n",
              "      <td>78</td>\n",
              "      <td>1980-02-01</td>\n",
              "      <td>ABCD</td>\n",
              "    </tr>\n",
              "    <tr>\n",
              "      <th>2</th>\n",
              "      <td>2</td>\n",
              "      <td>273</td>\n",
              "      <td>1980-03-01</td>\n",
              "      <td>ABCD</td>\n",
              "    </tr>\n",
              "    <tr>\n",
              "      <th>3</th>\n",
              "      <td>0</td>\n",
              "      <td>28</td>\n",
              "      <td>1980-04-01</td>\n",
              "      <td>ABCD</td>\n",
              "    </tr>\n",
              "    <tr>\n",
              "      <th>4</th>\n",
              "      <td>0</td>\n",
              "      <td>78</td>\n",
              "      <td>1980-05-01</td>\n",
              "      <td>ABCD</td>\n",
              "    </tr>\n",
              "    <tr>\n",
              "      <th>...</th>\n",
              "      <td>...</td>\n",
              "      <td>...</td>\n",
              "      <td>...</td>\n",
              "      <td>...</td>\n",
              "    </tr>\n",
              "    <tr>\n",
              "      <th>931</th>\n",
              "      <td>0</td>\n",
              "      <td>22</td>\n",
              "      <td>2018-08-01</td>\n",
              "      <td>ABCDE</td>\n",
              "    </tr>\n",
              "    <tr>\n",
              "      <th>932</th>\n",
              "      <td>0</td>\n",
              "      <td>136</td>\n",
              "      <td>2018-09-01</td>\n",
              "      <td>ABCDE</td>\n",
              "    </tr>\n",
              "    <tr>\n",
              "      <th>933</th>\n",
              "      <td>0</td>\n",
              "      <td>0</td>\n",
              "      <td>2018-10-01</td>\n",
              "      <td>ABCDE</td>\n",
              "    </tr>\n",
              "    <tr>\n",
              "      <th>934</th>\n",
              "      <td>0</td>\n",
              "      <td>75</td>\n",
              "      <td>2018-11-01</td>\n",
              "      <td>ABCDE</td>\n",
              "    </tr>\n",
              "    <tr>\n",
              "      <th>935</th>\n",
              "      <td>0</td>\n",
              "      <td>95</td>\n",
              "      <td>2018-12-01</td>\n",
              "      <td>ABCDE</td>\n",
              "    </tr>\n",
              "  </tbody>\n",
              "</table>\n",
              "<p>936 rows × 4 columns</p>\n",
              "</div>\n",
              "      <button class=\"colab-df-convert\" onclick=\"convertToInteractive('df-53e4b7b4-1f01-4a53-85e1-7b4caaa4d986')\"\n",
              "              title=\"Convert this dataframe to an interactive table.\"\n",
              "              style=\"display:none;\">\n",
              "        \n",
              "  <svg xmlns=\"http://www.w3.org/2000/svg\" height=\"24px\"viewBox=\"0 0 24 24\"\n",
              "       width=\"24px\">\n",
              "    <path d=\"M0 0h24v24H0V0z\" fill=\"none\"/>\n",
              "    <path d=\"M18.56 5.44l.94 2.06.94-2.06 2.06-.94-2.06-.94-.94-2.06-.94 2.06-2.06.94zm-11 1L8.5 8.5l.94-2.06 2.06-.94-2.06-.94L8.5 2.5l-.94 2.06-2.06.94zm10 10l.94 2.06.94-2.06 2.06-.94-2.06-.94-.94-2.06-.94 2.06-2.06.94z\"/><path d=\"M17.41 7.96l-1.37-1.37c-.4-.4-.92-.59-1.43-.59-.52 0-1.04.2-1.43.59L10.3 9.45l-7.72 7.72c-.78.78-.78 2.05 0 2.83L4 21.41c.39.39.9.59 1.41.59.51 0 1.02-.2 1.41-.59l7.78-7.78 2.81-2.81c.8-.78.8-2.07 0-2.86zM5.41 20L4 18.59l7.72-7.72 1.47 1.35L5.41 20z\"/>\n",
              "  </svg>\n",
              "      </button>\n",
              "      \n",
              "  <style>\n",
              "    .colab-df-container {\n",
              "      display:flex;\n",
              "      flex-wrap:wrap;\n",
              "      gap: 12px;\n",
              "    }\n",
              "\n",
              "    .colab-df-convert {\n",
              "      background-color: #E8F0FE;\n",
              "      border: none;\n",
              "      border-radius: 50%;\n",
              "      cursor: pointer;\n",
              "      display: none;\n",
              "      fill: #1967D2;\n",
              "      height: 32px;\n",
              "      padding: 0 0 0 0;\n",
              "      width: 32px;\n",
              "    }\n",
              "\n",
              "    .colab-df-convert:hover {\n",
              "      background-color: #E2EBFA;\n",
              "      box-shadow: 0px 1px 2px rgba(60, 64, 67, 0.3), 0px 1px 3px 1px rgba(60, 64, 67, 0.15);\n",
              "      fill: #174EA6;\n",
              "    }\n",
              "\n",
              "    [theme=dark] .colab-df-convert {\n",
              "      background-color: #3B4455;\n",
              "      fill: #D2E3FC;\n",
              "    }\n",
              "\n",
              "    [theme=dark] .colab-df-convert:hover {\n",
              "      background-color: #434B5C;\n",
              "      box-shadow: 0px 1px 3px 1px rgba(0, 0, 0, 0.15);\n",
              "      filter: drop-shadow(0px 1px 2px rgba(0, 0, 0, 0.3));\n",
              "      fill: #FFFFFF;\n",
              "    }\n",
              "  </style>\n",
              "\n",
              "      <script>\n",
              "        const buttonEl =\n",
              "          document.querySelector('#df-53e4b7b4-1f01-4a53-85e1-7b4caaa4d986 button.colab-df-convert');\n",
              "        buttonEl.style.display =\n",
              "          google.colab.kernel.accessAllowed ? 'block' : 'none';\n",
              "\n",
              "        async function convertToInteractive(key) {\n",
              "          const element = document.querySelector('#df-53e4b7b4-1f01-4a53-85e1-7b4caaa4d986');\n",
              "          const dataTable =\n",
              "            await google.colab.kernel.invokeFunction('convertToInteractive',\n",
              "                                                     [key], {});\n",
              "          if (!dataTable) return;\n",
              "\n",
              "          const docLinkHtml = 'Like what you see? Visit the ' +\n",
              "            '<a target=\"_blank\" href=https://colab.research.google.com/notebooks/data_table.ipynb>data table notebook</a>'\n",
              "            + ' to learn more about interactive tables.';\n",
              "          element.innerHTML = '';\n",
              "          dataTable['output_type'] = 'display_data';\n",
              "          await google.colab.output.renderOutput(dataTable, element);\n",
              "          const docLink = document.createElement('div');\n",
              "          docLink.innerHTML = docLinkHtml;\n",
              "          element.appendChild(docLink);\n",
              "        }\n",
              "      </script>\n",
              "    </div>\n",
              "  </div>\n",
              "  "
            ]
          },
          "metadata": {},
          "execution_count": 11
        }
      ],
      "source": [
        "df"
      ]
    },
    {
      "cell_type": "code",
      "execution_count": 5,
      "id": "da5a4de0-7d9e-4f77-ba39-14f5ecf2cccc",
      "metadata": {
        "id": "da5a4de0-7d9e-4f77-ba39-14f5ecf2cccc",
        "outputId": "ba7e04ed-4384-4b8c-f4f7-c511c617781e",
        "colab": {
          "base_uri": "https://localhost:8080/"
        }
      },
      "outputs": [
        {
          "output_type": "stream",
          "name": "stdout",
          "text": [
            "<class 'pandas.core.frame.DataFrame'>\n",
            "RangeIndex: 936 entries, 0 to 935\n",
            "Data columns (total 4 columns):\n",
            " #   Column                 Non-Null Count  Dtype \n",
            "---  ------                 --------------  ----- \n",
            " 0   Predicted_Sales_Lost   936 non-null    int64 \n",
            " 1   Actual_Sales_quantity  936 non-null    int64 \n",
            " 2   Date                   936 non-null    object\n",
            " 3   Item_Code              936 non-null    object\n",
            "dtypes: int64(2), object(2)\n",
            "memory usage: 29.4+ KB\n"
          ]
        }
      ],
      "source": [
        "df.info()"
      ]
    },
    {
      "cell_type": "code",
      "execution_count": 6,
      "id": "bbeebc36-de69-44e0-81bd-a5cd0923f1fd",
      "metadata": {
        "id": "bbeebc36-de69-44e0-81bd-a5cd0923f1fd",
        "outputId": "707c052d-d1f4-4c10-ef8d-b8ae4ecc1643",
        "colab": {
          "base_uri": "https://localhost:8080/",
          "height": 53
        }
      },
      "outputs": [
        {
          "output_type": "display_data",
          "data": {
            "text/plain": [
              "Timestamp('1980-01-01 00:00:00')"
            ]
          },
          "metadata": {}
        },
        {
          "output_type": "display_data",
          "data": {
            "text/plain": [
              "Timestamp('2018-12-01 00:00:00')"
            ]
          },
          "metadata": {}
        }
      ],
      "source": [
        "df['Date'] = pd.to_datetime(df['Date'], format=\"%Y-%m-%d\").dt.floor('D')\n",
        "display(df['Date'].min())\n",
        "display(df['Date'].max())"
      ]
    },
    {
      "cell_type": "code",
      "execution_count": 7,
      "id": "0b7f843c-b53f-43a0-b1ef-a2c8d24122e1",
      "metadata": {
        "id": "0b7f843c-b53f-43a0-b1ef-a2c8d24122e1"
      },
      "outputs": [],
      "source": [
        "from tensorflow.keras.models import Sequential\n",
        "from tensorflow.keras.layers import LSTM\n",
        "from tensorflow.keras.layers import Dense, Dropout, BatchNormalization\n",
        "from sklearn.preprocessing import StandardScaler\n",
        "from tensorflow import keras\n",
        "import tensorflow as tf\n",
        "tf.random.set_seed(7)"
      ]
    },
    {
      "cell_type": "code",
      "execution_count": 8,
      "id": "cfa9d6fb-f01c-4c46-b739-a760c9f0df13",
      "metadata": {
        "id": "cfa9d6fb-f01c-4c46-b739-a760c9f0df13"
      },
      "outputs": [],
      "source": [
        "import matplotlib.pyplot as plt\n",
        "import seaborn as sns\n",
        "import plotly.express as px"
      ]
    },
    {
      "cell_type": "code",
      "execution_count": 9,
      "id": "1b73c895-b473-4332-ab74-1d045e167f28",
      "metadata": {
        "id": "1b73c895-b473-4332-ab74-1d045e167f28"
      },
      "outputs": [],
      "source": [
        "Scale=StandardScaler()\n",
        "def data_prep(df, cols, lookback, future, Scale):\n",
        "    date_train=pd.to_datetime(df['Date'], format=\"%Y-%m-%d\").dt.floor('D')\n",
        "    df_for_training = df[cols].astype(float)\n",
        "    \n",
        "    #df_for_training_scaled=Scale.fit_transform(df_train)\n",
        "    scaler = Scale.fit(df_for_training)\n",
        "    df_for_training_scaled = scaler.transform(df_for_training)\n",
        "\n",
        "    trainX = []\n",
        "    trainY = []\n",
        "    for i in range(lookback, len(df_for_training_scaled) - future +1):\n",
        "        trainX.append(df_for_training_scaled[i - lookback:i, 0:df_for_training.shape[1]])\n",
        "        trainY.append(df_for_training_scaled[i + future - 1:i + future, 0])\n",
        "\n",
        "    trainX, trainY = np.array(trainX), np.array(trainY)\n",
        "        \n",
        "    return trainX, trainY, df_for_training, date_train\n",
        "\n",
        "#Lstm_x, Lstm_y, df_train, date_train = data_prep(df, ['Actual_Sales_quantity', 'Predicted_Sales_Lost'], 12, 1, Scale)"
      ]
    },
    {
      "cell_type": "code",
      "execution_count": null,
      "id": "a4e1830b-261c-4b25-a260-6b13feeb71c6",
      "metadata": {
        "id": "a4e1830b-261c-4b25-a260-6b13feeb71c6"
      },
      "outputs": [],
      "source": []
    },
    {
      "cell_type": "code",
      "execution_count": 18,
      "id": "6462c045-f872-40aa-a9d3-3f98b2e775d6",
      "metadata": {
        "id": "6462c045-f872-40aa-a9d3-3f98b2e775d6"
      },
      "outputs": [],
      "source": [
        "def Lstm_model(trainX,trainY):\n",
        "    tf.keras.backend.clear_session()\n",
        "    model = Sequential()\n",
        "    model.add(LSTM(64, activation='relu', input_shape=(trainX.shape[1], trainX.shape[2]), return_sequences=True))\n",
        "    #model.add(Dropout(0.2))\n",
        "    #model.add(BatchNormalization())\n",
        "    model.add(LSTM(16, activation='relu', return_sequences=True))\n",
        "    #model.add(Dropout(0.2))\n",
        "    #model.add(BatchNormalization())\n",
        "    model.add(LSTM(32, activation='relu', return_sequences=False))\n",
        "    #model.add(Dropout(0.2))\n",
        "    #model.add(BatchNormalization())\n",
        "    model.add(Dense(trainY.shape[1]))\n",
        "\n",
        "    #opt = keras.optimizers.Adam(learning_rate=0.01)\n",
        "\n",
        "    model.compile(optimizer='adam', loss='mean_squared_error')\n",
        "    model.summary()\n",
        "    \n",
        "    # fit the model\n",
        "    #es = tf.keras.callbacks.EarlyStopping(monitor='loss', patience=15, restore_best_weights=True)\n",
        "    #model.fit(trainX, trainY, epochs=100, batch_size=24, validation_split=0.1, verbose=1, callbacks=[es])\n",
        "    model.fit(trainX, trainY, epochs=100, batch_size=24, validation_split=0.1, verbose=1)\n",
        "    \n",
        "    return model"
      ]
    },
    {
      "cell_type": "code",
      "execution_count": null,
      "id": "e4c6b9f8-74da-41f3-a76e-8eab1d39e5d6",
      "metadata": {
        "id": "e4c6b9f8-74da-41f3-a76e-8eab1d39e5d6"
      },
      "outputs": [],
      "source": []
    },
    {
      "cell_type": "code",
      "execution_count": 10,
      "id": "1e9d3a06-1bfc-4495-b36f-140c0f4ad1aa",
      "metadata": {
        "id": "1e9d3a06-1bfc-4495-b36f-140c0f4ad1aa"
      },
      "outputs": [],
      "source": [
        "def predict_open(model, date_train, trainX, df_train, future, Scale):\n",
        "    forecasting_dates=pd.date_range(list(date_train)[-1], periods=future +1, freq='MS').tolist()\n",
        "    #from pandas.tseries.offsets import DateOffset\n",
        "    #forecasting_dates = [df.Date[-1:] + DateOffset(months=x) for x in range(0, future + 1)]\n",
        "    forecasting_dates.pop(0)\n",
        "    \n",
        "    predicted = model.predict(trainX[-future:])\n",
        "    prediction_copies = np.repeat(predicted, df_train.shape[1], axis=-1)\n",
        "    predicted_descaled = Scale.inverse_transform(prediction_copies)[:,0]\n",
        "    \n",
        "    return predicted_descaled,forecasting_dates\n",
        "\n",
        "def output_prep(forecasting_dates, predicted_descaled, pred_col_name):\n",
        "    # Convert timestamp to date\n",
        "    forecast_dates = []\n",
        "    for time_i in forecasting_dates:\n",
        "        forecast_dates.append(time_i.date())\n",
        "    \n",
        "    df_forecast = pd.DataFrame({'Date':np.array(forecast_dates), pred_col_name:predicted_descaled})\n",
        "    df_forecast['Date']=pd.to_datetime(df_forecast['Date']).dt.floor('D')\n",
        "    df_forecast = df_forecast.round(0)\n",
        "    \n",
        "    return df_forecast\n"
      ]
    },
    {
      "cell_type": "code",
      "execution_count": 14,
      "id": "9decb86e-de4c-437c-acf8-cf2a76fe7d30",
      "metadata": {
        "id": "9decb86e-de4c-437c-acf8-cf2a76fe7d30"
      },
      "outputs": [],
      "source": [
        "def results(df, lookback, future, Scale, cols, pred_col_name, plot_title, n_pred_future):\n",
        "    Lstm_x, Lstm_y, df_train, date_train = data_prep(df, cols, lookback, future, Scale)\n",
        "    model=Lstm_model(Lstm_x,Lstm_y)\n",
        "    loss=pd.DataFrame(model.history.history)\n",
        "    loss.plot()\n",
        "    predicted_descaled,forecasting_dates = predict_open(model, date_train, Lstm_x, df_train, n_pred_future, Scale)\n",
        "    results = output_prep(forecasting_dates, predicted_descaled, pred_col_name)   \n",
        "    print(results.head())\n",
        "    plt.show()\n",
        "    fig = px.area(results, x=\"Date\", y=pred_col_name, title=plot_title)\n",
        "    fig.update_yaxes(range=[results[pred_col_name].min()-10, results[pred_col_name].max()+10])\n",
        "    fig.show()\n",
        "    \n",
        "    return results"
      ]
    },
    {
      "cell_type": "code",
      "execution_count": null,
      "id": "df3629a3-9209-42a3-b926-c63deea3d46b",
      "metadata": {
        "id": "df3629a3-9209-42a3-b926-c63deea3d46b"
      },
      "outputs": [],
      "source": [
        "lookback = 12\n",
        "future = 1\n",
        "cols = ['Actual_Sales_quantity', 'Predicted_Sales_Lost']\n",
        "pred_col_name = 'Actual_Sales_quantity'\n",
        "plot_title = 'Actual Sales'\n",
        "n_pred_future = 12\n",
        "\n",
        "#df_forecast = results(df, lookback, future, Scale, cols, pred_col_name, plot_title, n_pred_future)\n",
        "df_forecast = pd.DataFrame()\n",
        "for prod in df.Item_Code.unique():\n",
        "    print(prod)\n",
        "    df1 = df[df['Item_Code']==prod]\n",
        "    res = results(df1, lookback, future, Scale, cols, pred_col_name, plot_title, n_pred_future)\n",
        "    df_forecast = pd.concat([df_forecast,res])"
      ]
    },
    {
      "cell_type": "code",
      "source": [
        "df_forecast"
      ],
      "metadata": {
        "colab": {
          "base_uri": "https://localhost:8080/",
          "height": 802
        },
        "id": "BWWqdT4FQnCk",
        "outputId": "b8721773-e412-4217-9d76-c530f165b386"
      },
      "id": "BWWqdT4FQnCk",
      "execution_count": 20,
      "outputs": [
        {
          "output_type": "execute_result",
          "data": {
            "text/plain": [
              "         Date  Actual_Sales_quantity\n",
              "0  2019-01-01                   36.0\n",
              "1  2019-02-01                   48.0\n",
              "2  2019-03-01                  221.0\n",
              "3  2019-04-01                  412.0\n",
              "4  2019-05-01                  386.0\n",
              "5  2019-06-01                  456.0\n",
              "6  2019-07-01                  216.0\n",
              "7  2019-08-01                  175.0\n",
              "8  2019-09-01                  141.0\n",
              "9  2019-10-01                  128.0\n",
              "10 2019-11-01                  137.0\n",
              "11 2019-12-01                  163.0\n",
              "0  2019-01-01                   49.0\n",
              "1  2019-02-01                   71.0\n",
              "2  2019-03-01                  229.0\n",
              "3  2019-04-01                  401.0\n",
              "4  2019-05-01                  383.0\n",
              "5  2019-06-01                  465.0\n",
              "6  2019-07-01                  180.0\n",
              "7  2019-08-01                  161.0\n",
              "8  2019-09-01                  125.0\n",
              "9  2019-10-01                  109.0\n",
              "10 2019-11-01                  132.0\n",
              "11 2019-12-01                  165.0"
            ],
            "text/html": [
              "\n",
              "  <div id=\"df-67d2c54b-2abb-416e-92f0-0d9d1a2e81d0\">\n",
              "    <div class=\"colab-df-container\">\n",
              "      <div>\n",
              "<style scoped>\n",
              "    .dataframe tbody tr th:only-of-type {\n",
              "        vertical-align: middle;\n",
              "    }\n",
              "\n",
              "    .dataframe tbody tr th {\n",
              "        vertical-align: top;\n",
              "    }\n",
              "\n",
              "    .dataframe thead th {\n",
              "        text-align: right;\n",
              "    }\n",
              "</style>\n",
              "<table border=\"1\" class=\"dataframe\">\n",
              "  <thead>\n",
              "    <tr style=\"text-align: right;\">\n",
              "      <th></th>\n",
              "      <th>Date</th>\n",
              "      <th>Actual_Sales_quantity</th>\n",
              "    </tr>\n",
              "  </thead>\n",
              "  <tbody>\n",
              "    <tr>\n",
              "      <th>0</th>\n",
              "      <td>2019-01-01</td>\n",
              "      <td>36.0</td>\n",
              "    </tr>\n",
              "    <tr>\n",
              "      <th>1</th>\n",
              "      <td>2019-02-01</td>\n",
              "      <td>48.0</td>\n",
              "    </tr>\n",
              "    <tr>\n",
              "      <th>2</th>\n",
              "      <td>2019-03-01</td>\n",
              "      <td>221.0</td>\n",
              "    </tr>\n",
              "    <tr>\n",
              "      <th>3</th>\n",
              "      <td>2019-04-01</td>\n",
              "      <td>412.0</td>\n",
              "    </tr>\n",
              "    <tr>\n",
              "      <th>4</th>\n",
              "      <td>2019-05-01</td>\n",
              "      <td>386.0</td>\n",
              "    </tr>\n",
              "    <tr>\n",
              "      <th>5</th>\n",
              "      <td>2019-06-01</td>\n",
              "      <td>456.0</td>\n",
              "    </tr>\n",
              "    <tr>\n",
              "      <th>6</th>\n",
              "      <td>2019-07-01</td>\n",
              "      <td>216.0</td>\n",
              "    </tr>\n",
              "    <tr>\n",
              "      <th>7</th>\n",
              "      <td>2019-08-01</td>\n",
              "      <td>175.0</td>\n",
              "    </tr>\n",
              "    <tr>\n",
              "      <th>8</th>\n",
              "      <td>2019-09-01</td>\n",
              "      <td>141.0</td>\n",
              "    </tr>\n",
              "    <tr>\n",
              "      <th>9</th>\n",
              "      <td>2019-10-01</td>\n",
              "      <td>128.0</td>\n",
              "    </tr>\n",
              "    <tr>\n",
              "      <th>10</th>\n",
              "      <td>2019-11-01</td>\n",
              "      <td>137.0</td>\n",
              "    </tr>\n",
              "    <tr>\n",
              "      <th>11</th>\n",
              "      <td>2019-12-01</td>\n",
              "      <td>163.0</td>\n",
              "    </tr>\n",
              "    <tr>\n",
              "      <th>0</th>\n",
              "      <td>2019-01-01</td>\n",
              "      <td>49.0</td>\n",
              "    </tr>\n",
              "    <tr>\n",
              "      <th>1</th>\n",
              "      <td>2019-02-01</td>\n",
              "      <td>71.0</td>\n",
              "    </tr>\n",
              "    <tr>\n",
              "      <th>2</th>\n",
              "      <td>2019-03-01</td>\n",
              "      <td>229.0</td>\n",
              "    </tr>\n",
              "    <tr>\n",
              "      <th>3</th>\n",
              "      <td>2019-04-01</td>\n",
              "      <td>401.0</td>\n",
              "    </tr>\n",
              "    <tr>\n",
              "      <th>4</th>\n",
              "      <td>2019-05-01</td>\n",
              "      <td>383.0</td>\n",
              "    </tr>\n",
              "    <tr>\n",
              "      <th>5</th>\n",
              "      <td>2019-06-01</td>\n",
              "      <td>465.0</td>\n",
              "    </tr>\n",
              "    <tr>\n",
              "      <th>6</th>\n",
              "      <td>2019-07-01</td>\n",
              "      <td>180.0</td>\n",
              "    </tr>\n",
              "    <tr>\n",
              "      <th>7</th>\n",
              "      <td>2019-08-01</td>\n",
              "      <td>161.0</td>\n",
              "    </tr>\n",
              "    <tr>\n",
              "      <th>8</th>\n",
              "      <td>2019-09-01</td>\n",
              "      <td>125.0</td>\n",
              "    </tr>\n",
              "    <tr>\n",
              "      <th>9</th>\n",
              "      <td>2019-10-01</td>\n",
              "      <td>109.0</td>\n",
              "    </tr>\n",
              "    <tr>\n",
              "      <th>10</th>\n",
              "      <td>2019-11-01</td>\n",
              "      <td>132.0</td>\n",
              "    </tr>\n",
              "    <tr>\n",
              "      <th>11</th>\n",
              "      <td>2019-12-01</td>\n",
              "      <td>165.0</td>\n",
              "    </tr>\n",
              "  </tbody>\n",
              "</table>\n",
              "</div>\n",
              "      <button class=\"colab-df-convert\" onclick=\"convertToInteractive('df-67d2c54b-2abb-416e-92f0-0d9d1a2e81d0')\"\n",
              "              title=\"Convert this dataframe to an interactive table.\"\n",
              "              style=\"display:none;\">\n",
              "        \n",
              "  <svg xmlns=\"http://www.w3.org/2000/svg\" height=\"24px\"viewBox=\"0 0 24 24\"\n",
              "       width=\"24px\">\n",
              "    <path d=\"M0 0h24v24H0V0z\" fill=\"none\"/>\n",
              "    <path d=\"M18.56 5.44l.94 2.06.94-2.06 2.06-.94-2.06-.94-.94-2.06-.94 2.06-2.06.94zm-11 1L8.5 8.5l.94-2.06 2.06-.94-2.06-.94L8.5 2.5l-.94 2.06-2.06.94zm10 10l.94 2.06.94-2.06 2.06-.94-2.06-.94-.94-2.06-.94 2.06-2.06.94z\"/><path d=\"M17.41 7.96l-1.37-1.37c-.4-.4-.92-.59-1.43-.59-.52 0-1.04.2-1.43.59L10.3 9.45l-7.72 7.72c-.78.78-.78 2.05 0 2.83L4 21.41c.39.39.9.59 1.41.59.51 0 1.02-.2 1.41-.59l7.78-7.78 2.81-2.81c.8-.78.8-2.07 0-2.86zM5.41 20L4 18.59l7.72-7.72 1.47 1.35L5.41 20z\"/>\n",
              "  </svg>\n",
              "      </button>\n",
              "      \n",
              "  <style>\n",
              "    .colab-df-container {\n",
              "      display:flex;\n",
              "      flex-wrap:wrap;\n",
              "      gap: 12px;\n",
              "    }\n",
              "\n",
              "    .colab-df-convert {\n",
              "      background-color: #E8F0FE;\n",
              "      border: none;\n",
              "      border-radius: 50%;\n",
              "      cursor: pointer;\n",
              "      display: none;\n",
              "      fill: #1967D2;\n",
              "      height: 32px;\n",
              "      padding: 0 0 0 0;\n",
              "      width: 32px;\n",
              "    }\n",
              "\n",
              "    .colab-df-convert:hover {\n",
              "      background-color: #E2EBFA;\n",
              "      box-shadow: 0px 1px 2px rgba(60, 64, 67, 0.3), 0px 1px 3px 1px rgba(60, 64, 67, 0.15);\n",
              "      fill: #174EA6;\n",
              "    }\n",
              "\n",
              "    [theme=dark] .colab-df-convert {\n",
              "      background-color: #3B4455;\n",
              "      fill: #D2E3FC;\n",
              "    }\n",
              "\n",
              "    [theme=dark] .colab-df-convert:hover {\n",
              "      background-color: #434B5C;\n",
              "      box-shadow: 0px 1px 3px 1px rgba(0, 0, 0, 0.15);\n",
              "      filter: drop-shadow(0px 1px 2px rgba(0, 0, 0, 0.3));\n",
              "      fill: #FFFFFF;\n",
              "    }\n",
              "  </style>\n",
              "\n",
              "      <script>\n",
              "        const buttonEl =\n",
              "          document.querySelector('#df-67d2c54b-2abb-416e-92f0-0d9d1a2e81d0 button.colab-df-convert');\n",
              "        buttonEl.style.display =\n",
              "          google.colab.kernel.accessAllowed ? 'block' : 'none';\n",
              "\n",
              "        async function convertToInteractive(key) {\n",
              "          const element = document.querySelector('#df-67d2c54b-2abb-416e-92f0-0d9d1a2e81d0');\n",
              "          const dataTable =\n",
              "            await google.colab.kernel.invokeFunction('convertToInteractive',\n",
              "                                                     [key], {});\n",
              "          if (!dataTable) return;\n",
              "\n",
              "          const docLinkHtml = 'Like what you see? Visit the ' +\n",
              "            '<a target=\"_blank\" href=https://colab.research.google.com/notebooks/data_table.ipynb>data table notebook</a>'\n",
              "            + ' to learn more about interactive tables.';\n",
              "          element.innerHTML = '';\n",
              "          dataTable['output_type'] = 'display_data';\n",
              "          await google.colab.output.renderOutput(dataTable, element);\n",
              "          const docLink = document.createElement('div');\n",
              "          docLink.innerHTML = docLinkHtml;\n",
              "          element.appendChild(docLink);\n",
              "        }\n",
              "      </script>\n",
              "    </div>\n",
              "  </div>\n",
              "  "
            ]
          },
          "metadata": {},
          "execution_count": 20
        }
      ]
    },
    {
      "cell_type": "code",
      "execution_count": null,
      "id": "520ff3a1-32c9-4286-861e-a04cb08fad21",
      "metadata": {
        "id": "520ff3a1-32c9-4286-861e-a04cb08fad21",
        "outputId": "396063e1-bfc9-4f35-abfb-acba29fcb50a"
      },
      "outputs": [
        {
          "name": "stderr",
          "output_type": "stream",
          "text": [
            "/opt/conda/lib/python3.9/site-packages/seaborn/_decorators.py:36: FutureWarning:\n",
            "\n",
            "Pass the following variables as keyword args: x, y. From version 0.12, the only valid positional argument will be `data`, and passing other arguments without an explicit keyword will result in an error or misinterpretation.\n",
            "\n",
            "/opt/conda/lib/python3.9/site-packages/seaborn/_decorators.py:36: FutureWarning:\n",
            "\n",
            "Pass the following variables as keyword args: x, y. From version 0.12, the only valid positional argument will be `data`, and passing other arguments without an explicit keyword will result in an error or misinterpretation.\n",
            "\n"
          ]
        },
        {
          "data": {
            "text/plain": [
              "<AxesSubplot:xlabel='Date', ylabel='Actual_Sales_quantity'>"
            ]
          },
          "execution_count": 16,
          "metadata": {},
          "output_type": "execute_result"
        },
        {
          "data": {
            "image/png": "[encoded data removed]",
            "text/plain": [
              "<Figure size 432x288 with 1 Axes>"
            ]
          },
          "metadata": {
            "needs_background": "light"
          },
          "output_type": "display_data"
        }
      ],
      "source": [
        "sns.lineplot(df['Date'], df['Actual_Sales_quantity'])\n",
        "sns.lineplot(df_forecast['Date'], df_forecast['Actual_Sales_quantity'])"
      ]
    },
    {
      "cell_type": "code",
      "execution_count": null,
      "id": "50236f09-5ea8-43bf-8072-5b8c55a02ff1",
      "metadata": {
        "id": "50236f09-5ea8-43bf-8072-5b8c55a02ff1"
      },
      "outputs": [],
      "source": []
    },
    {
      "cell_type": "code",
      "execution_count": null,
      "id": "76da3d2d-84a9-4192-a543-872bf7b14589",
      "metadata": {
        "id": "76da3d2d-84a9-4192-a543-872bf7b14589"
      },
      "outputs": [],
      "source": []
    },
    {
      "cell_type": "markdown",
      "id": "6a870650-4d42-4da3-827a-e042f0063551",
      "metadata": {
        "id": "6a870650-4d42-4da3-827a-e042f0063551"
      },
      "source": [
        "## hyperparameter tunning"
      ]
    },
    {
      "cell_type": "code",
      "execution_count": 23,
      "id": "65c2ff84-f95a-4c6f-9ab1-ccb3c6e40cb0",
      "metadata": {
        "id": "65c2ff84-f95a-4c6f-9ab1-ccb3c6e40cb0"
      },
      "outputs": [],
      "source": [
        "from keras_tuner.tuners import RandomSearch\n",
        "from keras_tuner.engine.hyperparameters import HyperParameters"
      ]
    },
    {
      "cell_type": "code",
      "execution_count": 24,
      "id": "c1f5dbb6-7f33-4ab8-844d-e9c7435c8807",
      "metadata": {
        "id": "c1f5dbb6-7f33-4ab8-844d-e9c7435c8807"
      },
      "outputs": [],
      "source": [
        "lookback = 12\n",
        "future = 1\n",
        "cols = ['Actual_Sales_quantity', 'Predicted_Sales_Lost']\n",
        "pred_col_name = 'Actual_Sales_quantity'\n",
        "plot_title = 'Actual Sales'\n",
        "n_pred_future = 12"
      ]
    },
    {
      "cell_type": "code",
      "execution_count": null,
      "id": "c99a2c2e-a4b5-498b-b6fd-9a3260f12cd7",
      "metadata": {
        "id": "c99a2c2e-a4b5-498b-b6fd-9a3260f12cd7"
      },
      "outputs": [],
      "source": [
        "Lstm_x, Lstm_y, df_train, date_train = data_prep(df, cols, lookback, future, Scale)"
      ]
    },
    {
      "cell_type": "code",
      "execution_count": null,
      "id": "14278ee6-9405-4aee-aaec-d9d75e21115d",
      "metadata": {
        "id": "14278ee6-9405-4aee-aaec-d9d75e21115d",
        "outputId": "b13024dc-d613-4809-a962-e7f1c1903ca1"
      },
      "outputs": [
        {
          "data": {
            "text/plain": [
              "(456, 12, 2)"
            ]
          },
          "metadata": {},
          "output_type": "display_data"
        },
        {
          "data": {
            "text/plain": [
              "(456, 1)"
            ]
          },
          "metadata": {},
          "output_type": "display_data"
        }
      ],
      "source": [
        "display(Lstm_x.shape)\n",
        "display(Lstm_y.shape)"
      ]
    },
    {
      "cell_type": "code",
      "execution_count": null,
      "id": "b439c86e-463f-4991-804f-564b43d90a22",
      "metadata": {
        "id": "b439c86e-463f-4991-804f-564b43d90a22"
      },
      "outputs": [],
      "source": [
        "from sklearn.model_selection import train_test_split\n",
        "X_train, X_test, y_train, y_test = train_test_split(Lstm_x, Lstm_y, test_size=0.02, random_state=0)"
      ]
    },
    {
      "cell_type": "code",
      "execution_count": null,
      "id": "8f952c1c-f2f7-44a8-9f7c-fa65811e764c",
      "metadata": {
        "id": "8f952c1c-f2f7-44a8-9f7c-fa65811e764c",
        "outputId": "cfe28b61-4b52-462c-ded5-732e742618b8"
      },
      "outputs": [
        {
          "data": {
            "text/plain": [
              "(446, 12, 2)"
            ]
          },
          "metadata": {},
          "output_type": "display_data"
        },
        {
          "data": {
            "text/plain": [
              "(10, 12, 2)"
            ]
          },
          "metadata": {},
          "output_type": "display_data"
        },
        {
          "data": {
            "text/plain": [
              "(446, 1)"
            ]
          },
          "metadata": {},
          "output_type": "display_data"
        },
        {
          "data": {
            "text/plain": [
              "(10, 1)"
            ]
          },
          "metadata": {},
          "output_type": "display_data"
        }
      ],
      "source": [
        "display(X_train.shape)\n",
        "display(X_test.shape)\n",
        "display(y_train.shape)\n",
        "display(y_test.shape)"
      ]
    },
    {
      "cell_type": "code",
      "execution_count": null,
      "id": "ac626dd6-cca2-48b5-96ed-a5d8336b3ca5",
      "metadata": {
        "id": "ac626dd6-cca2-48b5-96ed-a5d8336b3ca5"
      },
      "outputs": [],
      "source": [
        "def build_model(hp):\n",
        "    tf.keras.backend.clear_session()\n",
        "    model = Sequential()\n",
        "    model.add(LSTM(hp.Int('input_unit',min_value=32,max_value=512,step=32),return_sequences=True, input_shape=(X_train.shape[1], X_train.shape[2])))\n",
        "    for i in range(hp.Int('n_layers', 1, 3)):\n",
        "        model.add(LSTM(hp.Int(f'lstm_{i}_units',min_value=32,max_value=512,step=32),return_sequences=True))\n",
        "    model.add(LSTM(hp.Int('layer_2_neurons',min_value=32,max_value=512,step=32)))\n",
        "    #model.add(Dropout(hp.Float('Dropout_rate',min_value=0,max_value=0.5,step=0.1)))\n",
        "    model.add(Dense(y_train.shape[1], activation=hp.Choice('dense_activation',values=['relu', 'sigmoid'],default='relu')))\n",
        "\n",
        "    # Tune the learning rate for the optimizer\n",
        "    # Choose an optimal value from 0.01, 0.001, or 0.0001\n",
        "    hp_learning_rate = hp.Choice('learning_rate', values=[1e-2, 1e-3, 1e-4])\n",
        "\n",
        "    #model.compile(optimizer=keras.optimizers.Adam(learning_rate=hp_learning_rate),\n",
        "                  #loss=keras.losses.SparseCategoricalCrossentropy(from_logits=True), metrics=['accuracy'])\n",
        "    #model.compile(loss='mean_squared_error', optimizer='adam',metrics = ['mse'])\n",
        "    model.compile(optimizer=keras.optimizers.Adam(learning_rate=hp_learning_rate),\n",
        "                  loss='mean_squared_error', metrics=['mse'])\n",
        "    \n",
        "    return model"
      ]
    },
    {
      "cell_type": "code",
      "execution_count": null,
      "id": "105442a6-f1cf-45c5-ba84-fd0f5e54697c",
      "metadata": {
        "id": "105442a6-f1cf-45c5-ba84-fd0f5e54697c",
        "outputId": "dffc792d-df84-4d32-92f3-0cc862a21b1e"
      },
      "outputs": [
        {
          "name": "stdout",
          "output_type": "stream",
          "text": [
            "INFO:tensorflow:Reloading Tuner from ./untitled_project/tuner0.json\n"
          ]
        }
      ],
      "source": [
        "LOG_DIR = f\"/content/{prod_id}\"\n",
        "tuner= RandomSearch(\n",
        "        build_model,\n",
        "        objective='mse',\n",
        "        max_trials=5,\n",
        "        executions_per_trial=1,\n",
        "        directory=LOG_DIR\n",
        "        )"
      ]
    },
    {
      "cell_type": "code",
      "execution_count": null,
      "id": "d62e626b-578c-4d03-b712-2924c094c80c",
      "metadata": {
        "id": "d62e626b-578c-4d03-b712-2924c094c80c",
        "outputId": "80a6ae85-b80f-4a6f-d4d2-249e6e816c6e"
      },
      "outputs": [
        {
          "name": "stdout",
          "output_type": "stream",
          "text": [
            "Search space summary\n",
            "Default search space size: 6\n",
            "input_unit (Int)\n",
            "{'default': None, 'conditions': [], 'min_value': 32, 'max_value': 512, 'step': 32, 'sampling': 'linear'}\n",
            "n_layers (Int)\n",
            "{'default': None, 'conditions': [], 'min_value': 1, 'max_value': 2, 'step': 1, 'sampling': 'linear'}\n",
            "lstm_0_units (Int)\n",
            "{'default': None, 'conditions': [], 'min_value': 32, 'max_value': 512, 'step': 32, 'sampling': 'linear'}\n",
            "layer_2_neurons (Int)\n",
            "{'default': None, 'conditions': [], 'min_value': 32, 'max_value': 512, 'step': 32, 'sampling': 'linear'}\n",
            "dense_activation (Choice)\n",
            "{'default': 'relu', 'conditions': [], 'values': ['relu', 'sigmoid'], 'ordered': False}\n",
            "lstm_1_units (Int)\n",
            "{'default': None, 'conditions': [], 'min_value': 32, 'max_value': 512, 'step': 32, 'sampling': 'linear'}\n"
          ]
        }
      ],
      "source": [
        "tuner.search_space_summary()"
      ]
    },
    {
      "cell_type": "code",
      "execution_count": null,
      "id": "120418e8-6fea-4aee-8c53-a9e6a879ebfe",
      "metadata": {
        "id": "120418e8-6fea-4aee-8c53-a9e6a879ebfe",
        "outputId": "0932faf7-e0fc-4097-e194-a66a6f8472c4"
      },
      "outputs": [
        {
          "name": "stdout",
          "output_type": "stream",
          "text": [
            "INFO:tensorflow:Oracle triggered exit\n"
          ]
        }
      ],
      "source": [
        " stop_early = tf.keras.callbacks.EarlyStopping(monitor='loss', patience=15, restore_best_weights=True)\n",
        " tuner.search(\n",
        "        x=X_train,\n",
        "        y=y_train,\n",
        "        epochs=100,\n",
        "        batch_size=128,\n",
        "        validation_data=(X_test,y_test), callbacks=[stop_early]\n",
        ")"
      ]
    },
    {
      "cell_type": "code",
      "execution_count": null,
      "id": "8864c572-766b-4d11-bcd7-a6780482132d",
      "metadata": {
        "id": "8864c572-766b-4d11-bcd7-a6780482132d"
      },
      "outputs": [],
      "source": [
        "#best_model = tuner.get_best_models(num_models=1)[0]"
      ]
    },
    {
      "cell_type": "code",
      "execution_count": null,
      "id": "aef6a462-9018-4dda-a337-3115d075af44",
      "metadata": {
        "id": "aef6a462-9018-4dda-a337-3115d075af44",
        "outputId": "e547c673-326e-4db4-9683-9b546568dc2c"
      },
      "outputs": [
        {
          "data": {
            "text/plain": [
              "<keras.engine.sequential.Sequential at 0x7f6a56793220>"
            ]
          },
          "execution_count": 30,
          "metadata": {},
          "output_type": "execute_result"
        }
      ],
      "source": [
        "best_model = tuner.get_best_models()[0]\n",
        "best_model"
      ]
    },
    {
      "cell_type": "code",
      "execution_count": null,
      "id": "5b087a13-e561-4548-8598-cc59d63bad45",
      "metadata": {
        "id": "5b087a13-e561-4548-8598-cc59d63bad45",
        "outputId": "cf7d3d69-eb25-45f6-b604-3d23ba9f0ad3"
      },
      "outputs": [
        {
          "name": "stdout",
          "output_type": "stream",
          "text": [
            "1/1 [==============================] - 1s 840ms/step\n",
            "        Date  Actual_Sales_quantity\n",
            "0 2019-01-01                  167.0\n",
            "1 2019-02-01                  167.0\n",
            "2 2019-03-01                  167.0\n",
            "3 2019-04-01                  167.0\n",
            "4 2019-05-01                  207.0\n"
          ]
        }
      ],
      "source": [
        "predicted_descaled,forecasting_dates = predict_open(best_model, date_train, Lstm_x, df_train, n_pred_future, Scale)\n",
        "results = output_prep(forecasting_dates, predicted_descaled, pred_col_name)   \n",
        "print(results.head())"
      ]
    },
    {
      "cell_type": "code",
      "execution_count": null,
      "id": "5bf72fa7-9323-4f85-a527-2feb6ad29b8a",
      "metadata": {
        "id": "5bf72fa7-9323-4f85-a527-2feb6ad29b8a"
      },
      "outputs": [],
      "source": [
        "#del tuner"
      ]
    },
    {
      "cell_type": "code",
      "execution_count": null,
      "id": "77d1d54e-e06d-4566-a548-018fc31b7f6a",
      "metadata": {
        "id": "77d1d54e-e06d-4566-a548-018fc31b7f6a"
      },
      "outputs": [],
      "source": []
    },
    {
      "cell_type": "code",
      "execution_count": null,
      "id": "1b922492-daf1-4ab7-b2fa-a05a19d85bc5",
      "metadata": {
        "id": "1b922492-daf1-4ab7-b2fa-a05a19d85bc5"
      },
      "outputs": [],
      "source": []
    },
    {
      "cell_type": "code",
      "execution_count": null,
      "id": "24275676-acd7-4643-91b3-85c347a86489",
      "metadata": {
        "id": "24275676-acd7-4643-91b3-85c347a86489"
      },
      "outputs": [],
      "source": []
    },
    {
      "cell_type": "code",
      "execution_count": null,
      "id": "c4a24b13-ec02-4445-be58-3cc30282b1e1",
      "metadata": {
        "id": "c4a24b13-ec02-4445-be58-3cc30282b1e1"
      },
      "outputs": [],
      "source": []
    },
    {
      "cell_type": "markdown",
      "source": [
        "# Hyperparameter Tuning within loop"
      ],
      "metadata": {
        "id": "ppIA3DlCYPyW"
      },
      "id": "ppIA3DlCYPyW"
    },
    {
      "cell_type": "code",
      "execution_count": 15,
      "id": "a466a380-adfa-4a63-921f-888b3be45800",
      "metadata": {
        "id": "a466a380-adfa-4a63-921f-888b3be45800"
      },
      "outputs": [],
      "source": [
        "from keras_tuner.tuners import RandomSearch\n",
        "from keras_tuner.engine.hyperparameters import HyperParameters\n",
        "from sklearn.model_selection import train_test_split"
      ]
    },
    {
      "cell_type": "code",
      "source": [
        "from tensorflow.keras.models import Sequential\n",
        "from tensorflow.keras.layers import LSTM\n",
        "from tensorflow.keras.layers import Dense, Dropout, BatchNormalization\n",
        "from sklearn.preprocessing import StandardScaler\n",
        "from tensorflow import keras\n",
        "import tensorflow as tf\n",
        "tf.random.set_seed(7)\n",
        "tf.keras.backend.clear_session()"
      ],
      "metadata": {
        "id": "HHGxq7a5qU4M"
      },
      "id": "HHGxq7a5qU4M",
      "execution_count": 16,
      "outputs": []
    },
    {
      "cell_type": "code",
      "execution_count": 17,
      "id": "3c63485e-4371-4ee0-a520-999e09379258",
      "metadata": {
        "id": "3c63485e-4371-4ee0-a520-999e09379258"
      },
      "outputs": [],
      "source": [
        "lookback = 12\n",
        "future = 1\n",
        "cols = ['Actual_Sales_quantity', 'Predicted_Sales_Lost']\n",
        "pred_col_name = 'Actual_Sales_quantity'\n",
        "plot_title = 'Actual Sales'\n",
        "n_pred_future = 12"
      ]
    },
    {
      "cell_type": "code",
      "source": [
        "def build_model(hp):\n",
        "    tf.keras.backend.clear_session()\n",
        "    model = Sequential()\n",
        "    model.add(LSTM(hp.Int('input_unit',min_value=32,max_value=512,step=32),return_sequences=True, input_shape=(X_train.shape[1], X_train.shape[2])))\n",
        "    for i in range(hp.Int('n_layers', 1, 3)):\n",
        "        model.add(LSTM(hp.Int(f'lstm_{i}_units',min_value=32,max_value=512,step=32),return_sequences=True))\n",
        "    model.add(LSTM(hp.Int('layer_2_neurons',min_value=32,max_value=512,step=32)))\n",
        "    model.add(Dropout(hp.Float('Dropout_rate',min_value=0,max_value=0.2,step=0.1)))\n",
        "    model.add(Dense(y_train.shape[1], activation=hp.Choice('dense_activation',values=['relu', 'tanh'],default='relu')))\n",
        "\n",
        "    # Tune the learning rate for the optimizer\n",
        "    hp_learning_rate = hp.Choice('learning_rate', values=[1e-2, 1e-3, 1e-4])\n",
        "\n",
        "    model.compile(optimizer=keras.optimizers.Adam(learning_rate=hp_learning_rate), loss='mean_squared_error', metrics=['mse'])\n",
        "    \n",
        "    return model"
      ],
      "metadata": {
        "id": "zYhuemXNqRb4"
      },
      "id": "zYhuemXNqRb4",
      "execution_count": 18,
      "outputs": []
    },
    {
      "cell_type": "code",
      "execution_count": 19,
      "id": "b094ead0-0062-41c3-8656-f46e9f1e81dc",
      "metadata": {
        "id": "b094ead0-0062-41c3-8656-f46e9f1e81dc",
        "colab": {
          "base_uri": "https://localhost:8080/"
        },
        "outputId": "77dafd12-ff78-4737-d144-eace8a24dde8"
      },
      "outputs": [
        {
          "output_type": "stream",
          "name": "stdout",
          "text": [
            "Trial 5 Complete [00h 00m 27s]\n",
            "mse: 1.013453722000122\n",
            "\n",
            "Best mse So Far: 0.9964637160301208\n",
            "Total elapsed time: 00h 04m 36s\n",
            "1/1 [==============================] - 2s 2s/step\n"
          ]
        }
      ],
      "source": [
        "df_frcst = pd.DataFrame()\n",
        "for prod_id in df.Item_Code.unique():\n",
        "  df1 = df[df['Item_Code']==prod_id]\n",
        "  Lstm_x, Lstm_y, df_train, date_train = data_prep(df1, cols, lookback, future, Scale)\n",
        "  X_train, X_test, y_train, y_test = train_test_split(Lstm_x, Lstm_y, test_size=0.02, random_state=0)\n",
        "  LOG_DIR = f\"/content/lstm_hyper/{prod_id}\"\n",
        "  tuner= RandomSearch(\n",
        "          build_model,\n",
        "          objective='mse',\n",
        "          max_trials=5,\n",
        "          executions_per_trial=1,\n",
        "          directory=LOG_DIR\n",
        "          )\n",
        "  print(f'search_space_summary for {prod_id}: \\n',tuner.search_space_summary())\n",
        "  stop_early = tf.keras.callbacks.EarlyStopping(monitor='loss', patience=15, restore_best_weights=True)\n",
        "  tuner.search(\n",
        "          x=X_train,\n",
        "          y=y_train,\n",
        "          epochs=100,\n",
        "          batch_size=128,\n",
        "          validation_data=(X_test,y_test), callbacks=[stop_early]\n",
        "  )\n",
        "  best_summary = tuner.results_summary(num_trials=1)\n",
        "  print(f'best_summary for {prod_id} \\n:',best_summary)\n",
        "  best_model = tuner.get_best_models()[0]\n",
        "  predicted_descaled,forecasting_dates = predict_open(best_model, date_train, Lstm_x, df_train, n_pred_future, Scale)\n",
        "  results = output_prep(forecasting_dates, predicted_descaled, pred_col_name)\n",
        "  results['prod_id'] = prod_id\n",
        "  df_frcst = pd.concat([df_frcst,results])"
      ]
    },
    {
      "cell_type": "code",
      "execution_count": 20,
      "id": "a4b8595f-e355-4465-9846-753f36617842",
      "metadata": {
        "id": "a4b8595f-e355-4465-9846-753f36617842",
        "colab": {
          "base_uri": "https://localhost:8080/",
          "height": 802
        },
        "outputId": "fc5bfb82-b889-422d-f724-4f9c0cdc6bfe"
      },
      "outputs": [
        {
          "output_type": "execute_result",
          "data": {
            "text/plain": [
              "         Date  Actual_Sales_quantity prod_id\n",
              "0  2019-01-01                   37.0    ABCD\n",
              "1  2019-02-01                   55.0    ABCD\n",
              "2  2019-03-01                  135.0    ABCD\n",
              "3  2019-04-01                  319.0    ABCD\n",
              "4  2019-05-01                  344.0    ABCD\n",
              "5  2019-06-01                  344.0    ABCD\n",
              "6  2019-07-01                  128.0    ABCD\n",
              "7  2019-08-01                  136.0    ABCD\n",
              "8  2019-09-01                  132.0    ABCD\n",
              "9  2019-10-01                  129.0    ABCD\n",
              "10 2019-11-01                  130.0    ABCD\n",
              "11 2019-12-01                  138.0    ABCD\n",
              "0  2019-01-01                  164.0   ABCDE\n",
              "1  2019-02-01                  164.0   ABCDE\n",
              "2  2019-03-01                  164.0   ABCDE\n",
              "3  2019-04-01                  158.0   ABCDE\n",
              "4  2019-05-01                  164.0   ABCDE\n",
              "5  2019-06-01                  164.0   ABCDE\n",
              "6  2019-07-01                  210.0   ABCDE\n",
              "7  2019-08-01                  211.0   ABCDE\n",
              "8  2019-09-01                  210.0   ABCDE\n",
              "9  2019-10-01                  211.0   ABCDE\n",
              "10 2019-11-01                  211.0   ABCDE\n",
              "11 2019-12-01                  211.0   ABCDE"
            ],
            "text/html": [
              "\n",
              "  <div id=\"df-b052ce0e-5589-4eb1-a152-48708d6f0b1c\">\n",
              "    <div class=\"colab-df-container\">\n",
              "      <div>\n",
              "<style scoped>\n",
              "    .dataframe tbody tr th:only-of-type {\n",
              "        vertical-align: middle;\n",
              "    }\n",
              "\n",
              "    .dataframe tbody tr th {\n",
              "        vertical-align: top;\n",
              "    }\n",
              "\n",
              "    .dataframe thead th {\n",
              "        text-align: right;\n",
              "    }\n",
              "</style>\n",
              "<table border=\"1\" class=\"dataframe\">\n",
              "  <thead>\n",
              "    <tr style=\"text-align: right;\">\n",
              "      <th></th>\n",
              "      <th>Date</th>\n",
              "      <th>Actual_Sales_quantity</th>\n",
              "      <th>prod_id</th>\n",
              "    </tr>\n",
              "  </thead>\n",
              "  <tbody>\n",
              "    <tr>\n",
              "      <th>0</th>\n",
              "      <td>2019-01-01</td>\n",
              "      <td>37.0</td>\n",
              "      <td>ABCD</td>\n",
              "    </tr>\n",
              "    <tr>\n",
              "      <th>1</th>\n",
              "      <td>2019-02-01</td>\n",
              "      <td>55.0</td>\n",
              "      <td>ABCD</td>\n",
              "    </tr>\n",
              "    <tr>\n",
              "      <th>2</th>\n",
              "      <td>2019-03-01</td>\n",
              "      <td>135.0</td>\n",
              "      <td>ABCD</td>\n",
              "    </tr>\n",
              "    <tr>\n",
              "      <th>3</th>\n",
              "      <td>2019-04-01</td>\n",
              "      <td>319.0</td>\n",
              "      <td>ABCD</td>\n",
              "    </tr>\n",
              "    <tr>\n",
              "      <th>4</th>\n",
              "      <td>2019-05-01</td>\n",
              "      <td>344.0</td>\n",
              "      <td>ABCD</td>\n",
              "    </tr>\n",
              "    <tr>\n",
              "      <th>5</th>\n",
              "      <td>2019-06-01</td>\n",
              "      <td>344.0</td>\n",
              "      <td>ABCD</td>\n",
              "    </tr>\n",
              "    <tr>\n",
              "      <th>6</th>\n",
              "      <td>2019-07-01</td>\n",
              "      <td>128.0</td>\n",
              "      <td>ABCD</td>\n",
              "    </tr>\n",
              "    <tr>\n",
              "      <th>7</th>\n",
              "      <td>2019-08-01</td>\n",
              "      <td>136.0</td>\n",
              "      <td>ABCD</td>\n",
              "    </tr>\n",
              "    <tr>\n",
              "      <th>8</th>\n",
              "      <td>2019-09-01</td>\n",
              "      <td>132.0</td>\n",
              "      <td>ABCD</td>\n",
              "    </tr>\n",
              "    <tr>\n",
              "      <th>9</th>\n",
              "      <td>2019-10-01</td>\n",
              "      <td>129.0</td>\n",
              "      <td>ABCD</td>\n",
              "    </tr>\n",
              "    <tr>\n",
              "      <th>10</th>\n",
              "      <td>2019-11-01</td>\n",
              "      <td>130.0</td>\n",
              "      <td>ABCD</td>\n",
              "    </tr>\n",
              "    <tr>\n",
              "      <th>11</th>\n",
              "      <td>2019-12-01</td>\n",
              "      <td>138.0</td>\n",
              "      <td>ABCD</td>\n",
              "    </tr>\n",
              "    <tr>\n",
              "      <th>0</th>\n",
              "      <td>2019-01-01</td>\n",
              "      <td>164.0</td>\n",
              "      <td>ABCDE</td>\n",
              "    </tr>\n",
              "    <tr>\n",
              "      <th>1</th>\n",
              "      <td>2019-02-01</td>\n",
              "      <td>164.0</td>\n",
              "      <td>ABCDE</td>\n",
              "    </tr>\n",
              "    <tr>\n",
              "      <th>2</th>\n",
              "      <td>2019-03-01</td>\n",
              "      <td>164.0</td>\n",
              "      <td>ABCDE</td>\n",
              "    </tr>\n",
              "    <tr>\n",
              "      <th>3</th>\n",
              "      <td>2019-04-01</td>\n",
              "      <td>158.0</td>\n",
              "      <td>ABCDE</td>\n",
              "    </tr>\n",
              "    <tr>\n",
              "      <th>4</th>\n",
              "      <td>2019-05-01</td>\n",
              "      <td>164.0</td>\n",
              "      <td>ABCDE</td>\n",
              "    </tr>\n",
              "    <tr>\n",
              "      <th>5</th>\n",
              "      <td>2019-06-01</td>\n",
              "      <td>164.0</td>\n",
              "      <td>ABCDE</td>\n",
              "    </tr>\n",
              "    <tr>\n",
              "      <th>6</th>\n",
              "      <td>2019-07-01</td>\n",
              "      <td>210.0</td>\n",
              "      <td>ABCDE</td>\n",
              "    </tr>\n",
              "    <tr>\n",
              "      <th>7</th>\n",
              "      <td>2019-08-01</td>\n",
              "      <td>211.0</td>\n",
              "      <td>ABCDE</td>\n",
              "    </tr>\n",
              "    <tr>\n",
              "      <th>8</th>\n",
              "      <td>2019-09-01</td>\n",
              "      <td>210.0</td>\n",
              "      <td>ABCDE</td>\n",
              "    </tr>\n",
              "    <tr>\n",
              "      <th>9</th>\n",
              "      <td>2019-10-01</td>\n",
              "      <td>211.0</td>\n",
              "      <td>ABCDE</td>\n",
              "    </tr>\n",
              "    <tr>\n",
              "      <th>10</th>\n",
              "      <td>2019-11-01</td>\n",
              "      <td>211.0</td>\n",
              "      <td>ABCDE</td>\n",
              "    </tr>\n",
              "    <tr>\n",
              "      <th>11</th>\n",
              "      <td>2019-12-01</td>\n",
              "      <td>211.0</td>\n",
              "      <td>ABCDE</td>\n",
              "    </tr>\n",
              "  </tbody>\n",
              "</table>\n",
              "</div>\n",
              "      <button class=\"colab-df-convert\" onclick=\"convertToInteractive('df-b052ce0e-5589-4eb1-a152-48708d6f0b1c')\"\n",
              "              title=\"Convert this dataframe to an interactive table.\"\n",
              "              style=\"display:none;\">\n",
              "        \n",
              "  <svg xmlns=\"http://www.w3.org/2000/svg\" height=\"24px\"viewBox=\"0 0 24 24\"\n",
              "       width=\"24px\">\n",
              "    <path d=\"M0 0h24v24H0V0z\" fill=\"none\"/>\n",
              "    <path d=\"M18.56 5.44l.94 2.06.94-2.06 2.06-.94-2.06-.94-.94-2.06-.94 2.06-2.06.94zm-11 1L8.5 8.5l.94-2.06 2.06-.94-2.06-.94L8.5 2.5l-.94 2.06-2.06.94zm10 10l.94 2.06.94-2.06 2.06-.94-2.06-.94-.94-2.06-.94 2.06-2.06.94z\"/><path d=\"M17.41 7.96l-1.37-1.37c-.4-.4-.92-.59-1.43-.59-.52 0-1.04.2-1.43.59L10.3 9.45l-7.72 7.72c-.78.78-.78 2.05 0 2.83L4 21.41c.39.39.9.59 1.41.59.51 0 1.02-.2 1.41-.59l7.78-7.78 2.81-2.81c.8-.78.8-2.07 0-2.86zM5.41 20L4 18.59l7.72-7.72 1.47 1.35L5.41 20z\"/>\n",
              "  </svg>\n",
              "      </button>\n",
              "      \n",
              "  <style>\n",
              "    .colab-df-container {\n",
              "      display:flex;\n",
              "      flex-wrap:wrap;\n",
              "      gap: 12px;\n",
              "    }\n",
              "\n",
              "    .colab-df-convert {\n",
              "      background-color: #E8F0FE;\n",
              "      border: none;\n",
              "      border-radius: 50%;\n",
              "      cursor: pointer;\n",
              "      display: none;\n",
              "      fill: #1967D2;\n",
              "      height: 32px;\n",
              "      padding: 0 0 0 0;\n",
              "      width: 32px;\n",
              "    }\n",
              "\n",
              "    .colab-df-convert:hover {\n",
              "      background-color: #E2EBFA;\n",
              "      box-shadow: 0px 1px 2px rgba(60, 64, 67, 0.3), 0px 1px 3px 1px rgba(60, 64, 67, 0.15);\n",
              "      fill: #174EA6;\n",
              "    }\n",
              "\n",
              "    [theme=dark] .colab-df-convert {\n",
              "      background-color: #3B4455;\n",
              "      fill: #D2E3FC;\n",
              "    }\n",
              "\n",
              "    [theme=dark] .colab-df-convert:hover {\n",
              "      background-color: #434B5C;\n",
              "      box-shadow: 0px 1px 3px 1px rgba(0, 0, 0, 0.15);\n",
              "      filter: drop-shadow(0px 1px 2px rgba(0, 0, 0, 0.3));\n",
              "      fill: #FFFFFF;\n",
              "    }\n",
              "  </style>\n",
              "\n",
              "      <script>\n",
              "        const buttonEl =\n",
              "          document.querySelector('#df-b052ce0e-5589-4eb1-a152-48708d6f0b1c button.colab-df-convert');\n",
              "        buttonEl.style.display =\n",
              "          google.colab.kernel.accessAllowed ? 'block' : 'none';\n",
              "\n",
              "        async function convertToInteractive(key) {\n",
              "          const element = document.querySelector('#df-b052ce0e-5589-4eb1-a152-48708d6f0b1c');\n",
              "          const dataTable =\n",
              "            await google.colab.kernel.invokeFunction('convertToInteractive',\n",
              "                                                     [key], {});\n",
              "          if (!dataTable) return;\n",
              "\n",
              "          const docLinkHtml = 'Like what you see? Visit the ' +\n",
              "            '<a target=\"_blank\" href=https://colab.research.google.com/notebooks/data_table.ipynb>data table notebook</a>'\n",
              "            + ' to learn more about interactive tables.';\n",
              "          element.innerHTML = '';\n",
              "          dataTable['output_type'] = 'display_data';\n",
              "          await google.colab.output.renderOutput(dataTable, element);\n",
              "          const docLink = document.createElement('div');\n",
              "          docLink.innerHTML = docLinkHtml;\n",
              "          element.appendChild(docLink);\n",
              "        }\n",
              "      </script>\n",
              "    </div>\n",
              "  </div>\n",
              "  "
            ]
          },
          "metadata": {},
          "execution_count": 20
        }
      ],
      "source": [
        "df_frcst"
      ]
    },
    {
      "cell_type": "code",
      "source": [
        "import os\n",
        "import shutil\n",
        "shutil.rmtree('/content/ABCDE')"
      ],
      "metadata": {
        "id": "5d2dSdtKwMip"
      },
      "id": "5d2dSdtKwMip",
      "execution_count": 22,
      "outputs": []
    },
    {
      "cell_type": "code",
      "execution_count": null,
      "id": "946a8e11-60d6-42f7-87c5-cdfd8f1b1e80",
      "metadata": {
        "id": "946a8e11-60d6-42f7-87c5-cdfd8f1b1e80"
      },
      "outputs": [],
      "source": [
        "# # save the scaler\n",
        "# import pickle\n",
        "# pickle.dump(Scale, open('/content/drive/MyDrive/Colab Notebooks/Scale.pkl', 'wb'))\n",
        "# # load the scaler\n",
        "# Scale = pickle.load(open('/content/drive/MyDrive/Colab Notebooks/Scale.pkl', 'rb'))\n",
        "\n",
        "# # Calling `save('my_model.h5')` creates a h5 file `my_model.h5`.\n",
        "# model.save(\"/content/drive/MyDrive/Colab Notebooks/my_h5_model.h5\")\n",
        "# # It can be used to reconstruct the model identically.\n",
        "# saved_model = keras.models.load_model(\"/content/drive/MyDrive/Colab Notebooks/my_h5_model.h5\")"
      ]
    },
    {
      "cell_type": "code",
      "execution_count": null,
      "id": "17f7cba8-6bec-4d98-9d77-dcc8258bdea7",
      "metadata": {
        "id": "17f7cba8-6bec-4d98-9d77-dcc8258bdea7"
      },
      "outputs": [],
      "source": []
    },
    {
      "cell_type": "code",
      "execution_count": null,
      "id": "82abe2b8-8a8d-495d-9208-0fcf725dc19d",
      "metadata": {
        "id": "82abe2b8-8a8d-495d-9208-0fcf725dc19d"
      },
      "outputs": [],
      "source": []
    },
    {
      "cell_type": "code",
      "execution_count": null,
      "id": "529a343b-7afc-4e64-91eb-5a5e8b2f905c",
      "metadata": {
        "id": "529a343b-7afc-4e64-91eb-5a5e8b2f905c"
      },
      "outputs": [],
      "source": []
    },
    {
      "cell_type": "code",
      "execution_count": null,
      "id": "a0a4e771-da6e-4f46-a314-b0b427a7c0d6",
      "metadata": {
        "id": "a0a4e771-da6e-4f46-a314-b0b427a7c0d6"
      },
      "outputs": [],
      "source": []
    },
    {
      "cell_type": "code",
      "execution_count": null,
      "id": "517b2823-df2e-4fdd-8bba-4e457074ab5c",
      "metadata": {
        "id": "517b2823-df2e-4fdd-8bba-4e457074ab5c"
      },
      "outputs": [],
      "source": []
    },
    {
      "cell_type": "code",
      "execution_count": null,
      "id": "0a6c1712-aed2-4614-a2ef-be53df44fcd6",
      "metadata": {
        "id": "0a6c1712-aed2-4614-a2ef-be53df44fcd6"
      },
      "outputs": [],
      "source": []
    },
    {
      "cell_type": "code",
      "execution_count": null,
      "id": "85c019a3-f0de-4e00-a4cd-4d01770eb41c",
      "metadata": {
        "id": "85c019a3-f0de-4e00-a4cd-4d01770eb41c"
      },
      "outputs": [],
      "source": []
    },
    {
      "cell_type": "code",
      "execution_count": null,
      "id": "ecde4349-e4da-46da-88ba-c45d08d7396b",
      "metadata": {
        "id": "ecde4349-e4da-46da-88ba-c45d08d7396b"
      },
      "outputs": [],
      "source": []
    },
    {
      "cell_type": "code",
      "execution_count": null,
      "id": "6a4134aa-034f-43d5-b60c-dbf1e2a3ff83",
      "metadata": {
        "id": "6a4134aa-034f-43d5-b60c-dbf1e2a3ff83"
      },
      "outputs": [],
      "source": []
    },
    {
      "cell_type": "code",
      "execution_count": null,
      "id": "68f20cfa-e4ae-4d85-a64f-77e43258e989",
      "metadata": {
        "id": "68f20cfa-e4ae-4d85-a64f-77e43258e989"
      },
      "outputs": [],
      "source": []
    },
    {
      "cell_type": "code",
      "execution_count": null,
      "id": "74ff36b4-17b4-487a-9387-3591c5a6db41",
      "metadata": {
        "id": "74ff36b4-17b4-487a-9387-3591c5a6db41"
      },
      "outputs": [],
      "source": []
    },
    {
      "cell_type": "code",
      "execution_count": null,
      "id": "8502db34-b833-46f0-87c3-001a870634c0",
      "metadata": {
        "id": "8502db34-b833-46f0-87c3-001a870634c0"
      },
      "outputs": [],
      "source": []
    },
    {
      "cell_type": "code",
      "execution_count": null,
      "id": "6018bdcb-311d-42c9-8ef6-d85671f8d727",
      "metadata": {
        "id": "6018bdcb-311d-42c9-8ef6-d85671f8d727"
      },
      "outputs": [],
      "source": []
    },
    {
      "cell_type": "code",
      "execution_count": null,
      "id": "671c8639-66b4-4f7f-a5cb-09010830d96d",
      "metadata": {
        "id": "671c8639-66b4-4f7f-a5cb-09010830d96d"
      },
      "outputs": [],
      "source": []
    },
    {
      "cell_type": "code",
      "execution_count": null,
      "id": "033304da-4a9d-4a74-9d18-0466e7ead1dd",
      "metadata": {
        "id": "033304da-4a9d-4a74-9d18-0466e7ead1dd"
      },
      "outputs": [],
      "source": []
    }
  ],
  "metadata": {
    "kernelspec": {
      "display_name": "Python 3 (ipykernel)",
      "language": "python",
      "name": "python3"
    },
    "language_info": {
      "codemirror_mode": {
        "name": "ipython",
        "version": 3
      },
      "file_extension": ".py",
      "mimetype": "text/x-python",
      "name": "python",
      "nbconvert_exporter": "python",
      "pygments_lexer": "ipython3",
      "version": "3.9.12"
    },
    "colab": {
      "provenance": []
    }
  },
  "nbformat": 4,
  "nbformat_minor": 5
}